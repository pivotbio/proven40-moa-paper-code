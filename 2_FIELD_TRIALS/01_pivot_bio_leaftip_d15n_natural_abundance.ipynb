{
 "cells": [
  {
   "cell_type": "code",
   "execution_count": 1,
   "metadata": {
    "vscode": {
     "languageId": "r"
    }
   },
   "outputs": [
    {
     "name": "stderr",
     "output_type": "stream",
     "text": [
      "-- \u001b[1mAttaching core tidyverse packages\u001b[22m ------------------------ tidyverse 2.0.0 --\n",
      "\u001b[32mv\u001b[39m \u001b[34mdplyr    \u001b[39m 1.1.2     \u001b[32mv\u001b[39m \u001b[34mreadr    \u001b[39m 2.1.4\n",
      "\u001b[32mv\u001b[39m \u001b[34mforcats  \u001b[39m 1.0.0     \u001b[32mv\u001b[39m \u001b[34mstringr  \u001b[39m 1.5.0\n",
      "\u001b[32mv\u001b[39m \u001b[34mggplot2  \u001b[39m 3.4.2     \u001b[32mv\u001b[39m \u001b[34mtibble   \u001b[39m 3.2.1\n",
      "\u001b[32mv\u001b[39m \u001b[34mlubridate\u001b[39m 1.9.2     \u001b[32mv\u001b[39m \u001b[34mtidyr    \u001b[39m 1.3.0\n",
      "\u001b[32mv\u001b[39m \u001b[34mpurrr    \u001b[39m 1.0.2     \n",
      "-- \u001b[1mConflicts\u001b[22m ------------------------------------------ tidyverse_conflicts() --\n",
      "\u001b[31mx\u001b[39m \u001b[34mdplyr\u001b[39m::\u001b[32mfilter()\u001b[39m masks \u001b[34mstats\u001b[39m::filter()\n",
      "\u001b[31mx\u001b[39m \u001b[34mdplyr\u001b[39m::\u001b[32mlag()\u001b[39m    masks \u001b[34mstats\u001b[39m::lag()\n",
      "\u001b[36mi\u001b[39m Use the conflicted package (\u001b[3m\u001b[34m<http://conflicted.r-lib.org/>\u001b[39m\u001b[23m) to force all conflicts to become errors\n",
      "Loading required package: Matrix\n",
      "\n",
      "\n",
      "Attaching package: 'Matrix'\n",
      "\n",
      "\n",
      "The following objects are masked from 'package:tidyr':\n",
      "\n",
      "    expand, pack, unpack\n",
      "\n",
      "\n",
      "\n",
      "Attaching package: 'lmerTest'\n",
      "\n",
      "\n",
      "The following object is masked from 'package:lme4':\n",
      "\n",
      "    lmer\n",
      "\n",
      "\n",
      "The following object is masked from 'package:stats':\n",
      "\n",
      "    step\n",
      "\n",
      "\n",
      "Loading required package: carData\n",
      "\n",
      "\n",
      "Attaching package: 'car'\n",
      "\n",
      "\n",
      "The following object is masked from 'package:dplyr':\n",
      "\n",
      "    recode\n",
      "\n",
      "\n",
      "The following object is masked from 'package:purrr':\n",
      "\n",
      "    some\n",
      "\n",
      "\n",
      "Loading required package: mvtnorm\n",
      "\n",
      "Loading required package: survival\n",
      "\n",
      "Loading required package: TH.data\n",
      "\n",
      "Loading required package: MASS\n",
      "\n",
      "\n",
      "Attaching package: 'MASS'\n",
      "\n",
      "\n",
      "The following object is masked from 'package:dplyr':\n",
      "\n",
      "    select\n",
      "\n",
      "\n",
      "\n",
      "Attaching package: 'TH.data'\n",
      "\n",
      "\n",
      "The following object is masked from 'package:MASS':\n",
      "\n",
      "    geyser\n",
      "\n",
      "\n"
     ]
    }
   ],
   "source": [
    "library(tidyverse)\n",
    "library(lme4)\n",
    "library(lmerTest)\n",
    "library(emmeans)\n",
    "library(car)\n",
    "library(multcomp)\n",
    "library(multcompView)\n",
    "library(ggpubr)\n",
    "\n",
    "theme_set(ggthemes::theme_few() + theme(text = element_text(size = 14), strip.text = element_text(size = 14), plot.title = element_text(size = 14, hjust = 0.5)))\n",
    "\n",
    "options(repr.plot.width=5, repr.plot.height=5)\n",
    "myColorPalette <- c(\"#005AB5\",\"#DC3220\")"
   ]
  },
  {
   "cell_type": "code",
   "execution_count": 2,
   "metadata": {
    "vscode": {
     "languageId": "r"
    }
   },
   "outputs": [],
   "source": [
    "# Helper function to check model assumptions   \n",
    "check_assumptions <- function(mod) {\n",
    "\n",
    "   print(plot(mod)) # resid x pred\n",
    "   print(plot(density(resid(mod))))  #A density plot\n",
    "   # Make sure the residuals are normal\n",
    "   shapiro.test(residuals(mod)) \n",
    "}"
   ]
  },
  {
   "cell_type": "code",
   "execution_count": 3,
   "metadata": {
    "vscode": {
     "languageId": "r"
    }
   },
   "outputs": [
    {
     "data": {
      "text/html": [
       "<table class=\"dataframe\">\n",
       "<caption>A data.frame: 6 × 7</caption>\n",
       "<thead>\n",
       "\t<tr><th></th><th scope=col>year</th><th scope=col>site</th><th scope=col>rep</th><th scope=col>plot</th><th scope=col>treatment</th><th scope=col>keep_flag</th><th scope=col>d15n_leaftip</th></tr>\n",
       "\t<tr><th></th><th scope=col>&lt;int&gt;</th><th scope=col>&lt;chr&gt;</th><th scope=col>&lt;int&gt;</th><th scope=col>&lt;int&gt;</th><th scope=col>&lt;chr&gt;</th><th scope=col>&lt;lgl&gt;</th><th scope=col>&lt;dbl&gt;</th></tr>\n",
       "</thead>\n",
       "<tbody>\n",
       "\t<tr><th scope=row>1</th><td>2021</td><td>IA01401</td><td>1</td><td>101</td><td>PROVEN40</td><td>TRUE</td><td>2.999752</td></tr>\n",
       "\t<tr><th scope=row>2</th><td>2021</td><td>IA01401</td><td>1</td><td>104</td><td>UTC     </td><td>TRUE</td><td>3.129368</td></tr>\n",
       "\t<tr><th scope=row>3</th><td>2021</td><td>IA01401</td><td>2</td><td>202</td><td>UTC     </td><td>TRUE</td><td>2.606789</td></tr>\n",
       "\t<tr><th scope=row>4</th><td>2021</td><td>IA01401</td><td>2</td><td>205</td><td>PROVEN40</td><td>TRUE</td><td>2.260991</td></tr>\n",
       "\t<tr><th scope=row>5</th><td>2021</td><td>IA01401</td><td>3</td><td>305</td><td>UTC     </td><td>TRUE</td><td>3.279558</td></tr>\n",
       "\t<tr><th scope=row>6</th><td>2021</td><td>IA01401</td><td>3</td><td>308</td><td>PROVEN40</td><td>TRUE</td><td>2.790926</td></tr>\n",
       "</tbody>\n",
       "</table>\n"
      ],
      "text/latex": [
       "A data.frame: 6 × 7\n",
       "\\begin{tabular}{r|lllllll}\n",
       "  & year & site & rep & plot & treatment & keep\\_flag & d15n\\_leaftip\\\\\n",
       "  & <int> & <chr> & <int> & <int> & <chr> & <lgl> & <dbl>\\\\\n",
       "\\hline\n",
       "\t1 & 2021 & IA01401 & 1 & 101 & PROVEN40 & TRUE & 2.999752\\\\\n",
       "\t2 & 2021 & IA01401 & 1 & 104 & UTC      & TRUE & 3.129368\\\\\n",
       "\t3 & 2021 & IA01401 & 2 & 202 & UTC      & TRUE & 2.606789\\\\\n",
       "\t4 & 2021 & IA01401 & 2 & 205 & PROVEN40 & TRUE & 2.260991\\\\\n",
       "\t5 & 2021 & IA01401 & 3 & 305 & UTC      & TRUE & 3.279558\\\\\n",
       "\t6 & 2021 & IA01401 & 3 & 308 & PROVEN40 & TRUE & 2.790926\\\\\n",
       "\\end{tabular}\n"
      ],
      "text/markdown": [
       "\n",
       "A data.frame: 6 × 7\n",
       "\n",
       "| <!--/--> | year &lt;int&gt; | site &lt;chr&gt; | rep &lt;int&gt; | plot &lt;int&gt; | treatment &lt;chr&gt; | keep_flag &lt;lgl&gt; | d15n_leaftip &lt;dbl&gt; |\n",
       "|---|---|---|---|---|---|---|---|\n",
       "| 1 | 2021 | IA01401 | 1 | 101 | PROVEN40 | TRUE | 2.999752 |\n",
       "| 2 | 2021 | IA01401 | 1 | 104 | UTC      | TRUE | 3.129368 |\n",
       "| 3 | 2021 | IA01401 | 2 | 202 | UTC      | TRUE | 2.606789 |\n",
       "| 4 | 2021 | IA01401 | 2 | 205 | PROVEN40 | TRUE | 2.260991 |\n",
       "| 5 | 2021 | IA01401 | 3 | 305 | UTC      | TRUE | 3.279558 |\n",
       "| 6 | 2021 | IA01401 | 3 | 308 | PROVEN40 | TRUE | 2.790926 |\n",
       "\n"
      ],
      "text/plain": [
       "  year site    rep plot treatment keep_flag d15n_leaftip\n",
       "1 2021 IA01401 1   101  PROVEN40  TRUE      2.999752    \n",
       "2 2021 IA01401 1   104  UTC       TRUE      3.129368    \n",
       "3 2021 IA01401 2   202  UTC       TRUE      2.606789    \n",
       "4 2021 IA01401 2   205  PROVEN40  TRUE      2.260991    \n",
       "5 2021 IA01401 3   305  UTC       TRUE      3.279558    \n",
       "6 2021 IA01401 3   308  PROVEN40  TRUE      2.790926    "
      ]
     },
     "metadata": {},
     "output_type": "display_data"
    }
   ],
   "source": [
    "pb <- read.csv(\"./datasets/pivot_bio_trials.csv\") %>% \n",
    "#mutate(state = substr(site,1,2)) %>% \n",
    "filter(keep_flag)\n",
    "\n",
    "head(pb)\n",
    "\n",
    "pb <- pb %>% mutate_at(c(\"year\",\"rep\",\"treatment\",\"plot\"), factor)\n",
    "pb$treatment <- factor(pb$treatment, levels = c('UTC','PROVEN40'))"
   ]
  },
  {
   "cell_type": "code",
   "execution_count": 4,
   "metadata": {
    "vscode": {
     "languageId": "r"
    }
   },
   "outputs": [
    {
     "data": {
      "text/html": [
       "<table class=\"dataframe\">\n",
       "<caption>A anova: 2 × 3</caption>\n",
       "<thead>\n",
       "\t<tr><th></th><th scope=col>Df</th><th scope=col>F value</th><th scope=col>Pr(&gt;F)</th></tr>\n",
       "\t<tr><th></th><th scope=col>&lt;int&gt;</th><th scope=col>&lt;dbl&gt;</th><th scope=col>&lt;dbl&gt;</th></tr>\n",
       "</thead>\n",
       "<tbody>\n",
       "\t<tr><th scope=row>group</th><td>  1</td><td>1.28724</td><td>0.2587281</td></tr>\n",
       "\t<tr><th scope=row> </th><td>125</td><td>     NA</td><td>       NA</td></tr>\n",
       "</tbody>\n",
       "</table>\n"
      ],
      "text/latex": [
       "A anova: 2 × 3\n",
       "\\begin{tabular}{r|lll}\n",
       "  & Df & F value & Pr(>F)\\\\\n",
       "  & <int> & <dbl> & <dbl>\\\\\n",
       "\\hline\n",
       "\tgroup &   1 & 1.28724 & 0.2587281\\\\\n",
       "\t  & 125 &      NA &        NA\\\\\n",
       "\\end{tabular}\n"
      ],
      "text/markdown": [
       "\n",
       "A anova: 2 × 3\n",
       "\n",
       "| <!--/--> | Df &lt;int&gt; | F value &lt;dbl&gt; | Pr(&gt;F) &lt;dbl&gt; |\n",
       "|---|---|---|---|\n",
       "| group |   1 | 1.28724 | 0.2587281 |\n",
       "| <!----> | 125 |      NA |        NA |\n",
       "\n"
      ],
      "text/plain": [
       "      Df  F value Pr(>F)   \n",
       "group   1 1.28724 0.2587281\n",
       "      125      NA        NA"
      ]
     },
     "metadata": {},
     "output_type": "display_data"
    }
   ],
   "source": [
    "# test for HOV across treatments\n",
    "leveneTest(d15n_leaftip ~ treatment, data=pb)"
   ]
  },
  {
   "cell_type": "code",
   "execution_count": 5,
   "metadata": {
    "vscode": {
     "languageId": "r"
    }
   },
   "outputs": [],
   "source": [
    "pb_mod1 <- lmer(d15n_leaftip ~ treatment  + (1|site/rep), data = pb)"
   ]
  },
  {
   "cell_type": "code",
   "execution_count": 6,
   "metadata": {
    "vscode": {
     "languageId": "r"
    }
   },
   "outputs": [
    {
     "data": {
      "image/png": "[encoded data removed]",
      "text/plain": [
       "plot without title"
      ]
     },
     "metadata": {
      "image/png": {
       "height": 300,
       "width": 300
      }
     },
     "output_type": "display_data"
    },
    {
     "name": "stdout",
     "output_type": "stream",
     "text": [
      "NULL\n"
     ]
    },
    {
     "data": {
      "text/plain": [
       "\n",
       "\tShapiro-Wilk normality test\n",
       "\n",
       "data:  residuals(mod)\n",
       "W = 0.98835, p-value = 0.3574\n"
      ]
     },
     "metadata": {},
     "output_type": "display_data"
    },
    {
     "data": {
      "image/png": "[encoded data removed]",
      "text/plain": [
       "Plot with title \"density.default(x = resid(mod))\""
      ]
     },
     "metadata": {
      "image/png": {
       "height": 300,
       "width": 300
      }
     },
     "output_type": "display_data"
    }
   ],
   "source": [
    "check_assumptions(pb_mod1)"
   ]
  },
  {
   "cell_type": "code",
   "execution_count": 7,
   "metadata": {
    "vscode": {
     "languageId": "r"
    }
   },
   "outputs": [
    {
     "data": {
      "text/plain": [
       "Linear mixed model fit by REML. t-tests use Satterthwaite's method [\n",
       "lmerModLmerTest]\n",
       "Formula: d15n_leaftip ~ treatment + (1 | site/rep)\n",
       "   Data: pb\n",
       "\n",
       "REML criterion at convergence: 467.9\n",
       "\n",
       "Scaled residuals: \n",
       "    Min      1Q  Median      3Q     Max \n",
       "-2.1207 -0.5216 -0.0215  0.5986  1.8880 \n",
       "\n",
       "Random effects:\n",
       " Groups   Name        Variance Std.Dev.\n",
       " rep:site (Intercept) 0.3319   0.5761  \n",
       " site     (Intercept) 7.5679   2.7510  \n",
       " Residual             1.3026   1.1413  \n",
       "Number of obs: 127, groups:  rep:site, 52; site, 16\n",
       "\n",
       "Fixed effects:\n",
       "                  Estimate Std. Error      df t value Pr(>|t|)    \n",
       "(Intercept)         5.3735     0.7111 15.6801   7.556 1.31e-06 ***\n",
       "treatmentPROVEN40  -0.4041     0.2096 77.2984  -1.928   0.0576 .  \n",
       "---\n",
       "Signif. codes:  0 '***' 0.001 '**' 0.01 '*' 0.05 '.' 0.1 ' ' 1\n",
       "\n",
       "Correlation of Fixed Effects:\n",
       "            (Intr)\n",
       "trtPROVEN40 -0.131"
      ]
     },
     "metadata": {},
     "output_type": "display_data"
    }
   ],
   "source": [
    "summary(pb_mod1)"
   ]
  },
  {
   "cell_type": "code",
   "execution_count": 8,
   "metadata": {
    "vscode": {
     "languageId": "r"
    }
   },
   "outputs": [
    {
     "data": {
      "text/plain": [
       " treatment emmean    SE   df lower.CL upper.CL\n",
       " UTC         5.37 0.711 15.5     3.86     6.88\n",
       " PROVEN40    4.97 0.715 15.8     3.45     6.49\n",
       "\n",
       "Degrees-of-freedom method: kenward-roger \n",
       "Confidence level used: 0.95 "
      ]
     },
     "metadata": {},
     "output_type": "display_data"
    }
   ],
   "source": [
    "pb_mod1_mod_means <- emmeans(pb_mod1, ~ treatment,  type = \"response\")\n",
    "pb_mod1_mod_means"
   ]
  },
  {
   "cell_type": "code",
   "execution_count": 9,
   "metadata": {
    "vscode": {
     "languageId": "r"
    }
   },
   "outputs": [
    {
     "data": {
      "text/html": [
       "<table class=\"dataframe\">\n",
       "<caption>A summary_emm: 2 × 6</caption>\n",
       "<thead>\n",
       "\t<tr><th></th><th scope=col>treatment</th><th scope=col>emmean</th><th scope=col>SE</th><th scope=col>df</th><th scope=col>lower.CL</th><th scope=col>upper.CL</th></tr>\n",
       "\t<tr><th></th><th scope=col>&lt;fct&gt;</th><th scope=col>&lt;dbl&gt;</th><th scope=col>&lt;dbl&gt;</th><th scope=col>&lt;dbl&gt;</th><th scope=col>&lt;dbl&gt;</th><th scope=col>&lt;dbl&gt;</th></tr>\n",
       "</thead>\n",
       "<tbody>\n",
       "\t<tr><th scope=row>1</th><td>UTC     </td><td>5.373460</td><td>0.7112069</td><td>15.51695</td><td>3.861945</td><td>6.884975</td></tr>\n",
       "\t<tr><th scope=row>2</th><td>PROVEN40</td><td>4.969341</td><td>0.7145625</td><td>15.81669</td><td>3.453108</td><td>6.485574</td></tr>\n",
       "</tbody>\n",
       "</table>\n"
      ],
      "text/latex": [
       "A summary\\_emm: 2 × 6\n",
       "\\begin{tabular}{r|llllll}\n",
       "  & treatment & emmean & SE & df & lower.CL & upper.CL\\\\\n",
       "  & <fct> & <dbl> & <dbl> & <dbl> & <dbl> & <dbl>\\\\\n",
       "\\hline\n",
       "\t1 & UTC      & 5.373460 & 0.7112069 & 15.51695 & 3.861945 & 6.884975\\\\\n",
       "\t2 & PROVEN40 & 4.969341 & 0.7145625 & 15.81669 & 3.453108 & 6.485574\\\\\n",
       "\\end{tabular}\n"
      ],
      "text/markdown": [
       "\n",
       "A summary_emm: 2 × 6\n",
       "\n",
       "| <!--/--> | treatment &lt;fct&gt; | emmean &lt;dbl&gt; | SE &lt;dbl&gt; | df &lt;dbl&gt; | lower.CL &lt;dbl&gt; | upper.CL &lt;dbl&gt; |\n",
       "|---|---|---|---|---|---|---|\n",
       "| 1 | UTC      | 5.373460 | 0.7112069 | 15.51695 | 3.861945 | 6.884975 |\n",
       "| 2 | PROVEN40 | 4.969341 | 0.7145625 | 15.81669 | 3.453108 | 6.485574 |\n",
       "\n"
      ],
      "text/plain": [
       "  treatment emmean   SE        df       lower.CL upper.CL\n",
       "1 UTC       5.373460 0.7112069 15.51695 3.861945 6.884975\n",
       "2 PROVEN40  4.969341 0.7145625 15.81669 3.453108 6.485574"
      ]
     },
     "metadata": {},
     "output_type": "display_data"
    }
   ],
   "source": [
    "as.data.frame(pb_mod1_mod_means) "
   ]
  },
  {
   "cell_type": "code",
   "execution_count": 10,
   "metadata": {
    "vscode": {
     "languageId": "r"
    }
   },
   "outputs": [],
   "source": [
    "x <- summary(pb_mod1)$coefficients\n",
    "\n",
    "my_label <- paste0(\n",
    "    \"Ndfa = \",signif(-100*x[2,1]/x[1,1],2),\"%\\n\",\n",
    "    \"p = \",signif(x[2,5],2)\n",
    "    )\n"
   ]
  },
  {
   "cell_type": "code",
   "execution_count": 11,
   "metadata": {
    "vscode": {
     "languageId": "r"
    }
   },
   "outputs": [
    {
     "data": {
      "text/html": [
       "'Ndfa = 7.5%\\np = 0.058'"
      ],
      "text/latex": [
       "'Ndfa = 7.5\\%\\textbackslash{}np = 0.058'"
      ],
      "text/markdown": [
       "'Ndfa = 7.5%\\np = 0.058'"
      ],
      "text/plain": [
       "[1] \"Ndfa = 7.5%\\np = 0.058\""
      ]
     },
     "metadata": {},
     "output_type": "display_data"
    }
   ],
   "source": [
    "my_label"
   ]
  },
  {
   "cell_type": "code",
   "execution_count": 12,
   "metadata": {
    "vscode": {
     "languageId": "r"
    }
   },
   "outputs": [
    {
     "data": {
      "image/png": "[encoded data removed]",
      "text/plain": [
       "plot without title"
      ]
     },
     "metadata": {
      "image/png": {
       "height": 300,
       "width": 300
      }
     },
     "output_type": "display_data"
    }
   ],
   "source": [
    "pb_mod1_plot <- as.data.frame(pb_mod1_mod_means) %>% \n",
    "ggplot(aes(treatment,emmean, fill = treatment)) + \n",
    "#geom_point(aes(y = d15n_leaftip, colour = treatment, fill = treatment), data = pb, position = position_dodge(width = 0.4), size = 1 ) +\n",
    "geom_point(size = 5, aes(shape = treatment)) + \n",
    "geom_errorbar(aes(ymax = upper.CL, ymin = lower.CL), width = 0, lwd = 1) + \n",
    "#geom_errorbar(aes(ymax = emmean + SE, ymin = emmean - SE), width = 0, lwd = 3) + \n",
    "annotate(\"text\", y = 8, x = 1.5, label = my_label, vjust = 1, size = 4.5) +\n",
    "theme(legend.position = \"top\") +\n",
    "scale_shape_manual(values = c(21,22),  labels = c(\"Uninoculated Control\",\"PROVEN 40\")) + \n",
    "scale_fill_manual(values = myColorPalette, labels = c(\"Uninoculated Control\",\"PROVEN 40\")) +\n",
    "labs(y = expression(delta^15*N~\"(‰)\"), x = \"\", title = \"V8 leaf tips at \\nPivot Bio trials (n = 16)\", fill = \"Treatment:\", shape = \"Treatment:\") + \n",
    "scale_x_discrete(labels = c(\"Uninoculated Control\",\"PROVEN 40\")) \n",
    "\n",
    "pb_mod1_plot"
   ]
  },
  {
   "cell_type": "code",
   "execution_count": 13,
   "metadata": {
    "vscode": {
     "languageId": "r"
    }
   },
   "outputs": [],
   "source": [
    "saveRDS(pb_mod1_plot, \"./figures/pb_leaftip_natural_abundance.rds\")"
   ]
  }
 ],
 "metadata": {
  "kernelspec": {
   "display_name": "R",
   "language": "R",
   "name": "ir"
  },
  "language_info": {
   "codemirror_mode": "r",
   "file_extension": ".r",
   "mimetype": "text/x-r-source",
   "name": "R",
   "pygments_lexer": "r",
   "version": "4.1.3"
  }
 },
 "nbformat": 4,
 "nbformat_minor": 2
}
