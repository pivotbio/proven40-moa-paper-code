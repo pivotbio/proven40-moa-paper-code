{
 "cells": [
  {
   "cell_type": "code",
   "execution_count": 1,
   "id": "8ddac765",
   "metadata": {
    "vscode": {
     "languageId": "r"
    }
   },
   "outputs": [
    {
     "name": "stdout",
     "output_type": "stream",
     "text": [
      "Pivot Bio, Inc.\n",
      "This code performs analyses supporting findings of the paper entitled:\n",
      "\"Genetic remodeling of soil diazotrophs enables partial replacement of synthetic nitrogen fertilizer with biological nitrogen fixation in maize\".\n",
      "\n",
      "##------ Thu Jun 06 10:02:24 2024 ------## \n",
      "Loaded packages:  tidyverse, readxl, broom, foreach, nlme, lme4, lmerTest, glmmTMB, car, DHARMa, caret, emmeans, multcomp, ggpubr, scales, png, ggthemes and their dependencies.\n",
      "A complete list of packages used in the analysis is provided in the `packages_citations.txt` file.\n"
     ]
    }
   ],
   "source": [
    "source('../load_environment.R')"
   ]
  },
  {
   "cell_type": "code",
   "execution_count": 2,
   "id": "7c91aca4-0aa8-4aa2-835b-848065cae079",
   "metadata": {
    "vscode": {
     "languageId": "r"
    }
   },
   "outputs": [],
   "source": [
    "# Global variables\n",
    "set.seed(100) # For repoducibility \n",
    "alpha_level <- 0.05 # For test of hypothesis and confidence levels\n",
    "n_boot_sims <- 300 # Number of simulations for bootstrapping\n",
    "use_cached_boostrapping <- TRUE # whether to use cached data for boostrapping\n",
    "\n",
    "# For plotting\n",
    "#theme_set(theme_base() + theme(plot.background = element_blank(), axis.ticks.length = unit(1.5,\"mm\")))\n",
    "#myColorPalette <- c(\"#005AB5\",\"#DC3220\")"
   ]
  },
  {
   "cell_type": "markdown",
   "id": "66fc22f2-4196-48d4-9a9c-aa1e914880ce",
   "metadata": {},
   "source": [
    "## Dataset "
   ]
  },
  {
   "cell_type": "code",
   "execution_count": 3,
   "id": "ebfbf5c5-fe8c-4efb-ab26-1553946e3eed",
   "metadata": {
    "vscode": {
     "languageId": "r"
    }
   },
   "outputs": [
    {
     "name": "stderr",
     "output_type": "stream",
     "text": [
      "\u001b[1mRows: \u001b[22m\u001b[34m192\u001b[39m \u001b[1mColumns: \u001b[22m\u001b[34m5\u001b[39m\n",
      "\u001b[36m--\u001b[39m \u001b[1mColumn specification\u001b[22m \u001b[36m--------------------------------------------------------\u001b[39m\n",
      "\u001b[1mDelimiter:\u001b[22m \",\"\n",
      "\u001b[31mchr\u001b[39m (1): Microbe\n",
      "\u001b[32mdbl\u001b[39m (4): Year, Rep, N_rate_lbac, yield_buac\n",
      "\n",
      "\u001b[36mi\u001b[39m Use `spec()` to retrieve the full column specification for this data.\n",
      "\u001b[36mi\u001b[39m Specify the column types or set `show_col_types = FALSE` to quiet this message.\n"
     ]
    }
   ],
   "source": [
    "df <- \n",
    "read_csv(\"./datasets/yield_response_purdue.csv\") %>% \n",
    "mutate(Year = factor(Year), Rep = factor(Rep), \n",
    "       grp = Year:Rep, #site within rep,\n",
    "       N_Rate_num = N_rate_lbac*1.12, # to kg/ha\n",
    "       yield = yield_buac*0.06277, # to Mg /ha\n",
    "       Microbe = factor(Microbe,levels = c(\"UTC\",\"PROVEN40\")))"
   ]
  },
  {
   "cell_type": "code",
   "execution_count": 4,
   "id": "5b1c86aa-c0c2-441b-80a1-d253db9a336a",
   "metadata": {
    "vscode": {
     "languageId": "r"
    }
   },
   "outputs": [
    {
     "name": "stdout",
     "output_type": "stream",
     "text": [
      "tibble [192 x 8] (S3: tbl_df/tbl/data.frame)\n",
      " $ Year       : Factor w/ 2 levels \"2021\",\"2022\": 1 1 1 1 1 1 1 1 1 1 ...\n",
      " $ Rep        : Factor w/ 8 levels \"1\",\"2\",\"3\",\"4\",..: 1 1 1 1 1 1 1 1 1 1 ...\n",
      " $ N_rate_lbac: num [1:192] 0 0 95 95 175 175 215 215 255 255 ...\n",
      " $ Microbe    : Factor w/ 2 levels \"UTC\",\"PROVEN40\": 2 1 2 1 2 1 2 1 2 1 ...\n",
      " $ yield_buac : num [1:192] 134 119 227 218 243 ...\n",
      " $ grp        : Factor w/ 16 levels \"2021:1\",\"2021:2\",..: 1 1 1 1 1 1 1 1 1 1 ...\n",
      " $ N_Rate_num : num [1:192] 0 0 106 106 196 ...\n",
      " $ yield      : num [1:192] 8.42 7.49 14.27 13.67 15.26 ...\n"
     ]
    }
   ],
   "source": [
    "str(df)"
   ]
  },
  {
   "cell_type": "code",
   "execution_count": 5,
   "id": "08bc46e0",
   "metadata": {
    "vscode": {
     "languageId": "r"
    }
   },
   "outputs": [
    {
     "data": {
      "text/html": [
       "<table class=\"dataframe\">\n",
       "<caption>A tibble: 2 × 3</caption>\n",
       "<thead>\n",
       "\t<tr><th scope=col>Year</th><th scope=col>mean_yield_kg_ha_15.5</th><th scope=col>sd_yield_kg_ha_15.5</th></tr>\n",
       "\t<tr><th scope=col>&lt;fct&gt;</th><th scope=col>&lt;dbl&gt;</th><th scope=col>&lt;dbl&gt;</th></tr>\n",
       "</thead>\n",
       "<tbody>\n",
       "\t<tr><td>2021</td><td>14.88982</td><td>3.478812</td></tr>\n",
       "\t<tr><td>2022</td><td>13.28977</td><td>2.840111</td></tr>\n",
       "</tbody>\n",
       "</table>\n"
      ],
      "text/latex": [
       "A tibble: 2 × 3\n",
       "\\begin{tabular}{lll}\n",
       " Year & mean\\_yield\\_kg\\_ha\\_15.5 & sd\\_yield\\_kg\\_ha\\_15.5\\\\\n",
       " <fct> & <dbl> & <dbl>\\\\\n",
       "\\hline\n",
       "\t 2021 & 14.88982 & 3.478812\\\\\n",
       "\t 2022 & 13.28977 & 2.840111\\\\\n",
       "\\end{tabular}\n"
      ],
      "text/markdown": [
       "\n",
       "A tibble: 2 × 3\n",
       "\n",
       "| Year &lt;fct&gt; | mean_yield_kg_ha_15.5 &lt;dbl&gt; | sd_yield_kg_ha_15.5 &lt;dbl&gt; |\n",
       "|---|---|---|\n",
       "| 2021 | 14.88982 | 3.478812 |\n",
       "| 2022 | 13.28977 | 2.840111 |\n",
       "\n"
      ],
      "text/plain": [
       "  Year mean_yield_kg_ha_15.5 sd_yield_kg_ha_15.5\n",
       "1 2021 14.88982              3.478812           \n",
       "2 2022 13.28977              2.840111           "
      ]
     },
     "metadata": {},
     "output_type": "display_data"
    }
   ],
   "source": [
    "df %>%\n",
    " group_by(Year) %>%\n",
    " summarize(mean_yield_kg_ha_15.5 = mean(yield), sd_yield_kg_ha_15.5 = sd(yield) )"
   ]
  },
  {
   "cell_type": "code",
   "execution_count": 6,
   "id": "deb76f48",
   "metadata": {
    "vscode": {
     "languageId": "r"
    }
   },
   "outputs": [
    {
     "data": {
      "text/html": [
       "<table class=\"dataframe\">\n",
       "<caption>A tibble: 2 × 3</caption>\n",
       "<thead>\n",
       "\t<tr><th scope=col>Microbe</th><th scope=col>mean_yield_kg_ha_15.5</th><th scope=col>sd_yield_kg_ha_15.5</th></tr>\n",
       "\t<tr><th scope=col>&lt;fct&gt;</th><th scope=col>&lt;dbl&gt;</th><th scope=col>&lt;dbl&gt;</th></tr>\n",
       "</thead>\n",
       "<tbody>\n",
       "\t<tr><td>UTC     </td><td>13.90932</td><td>3.354501</td></tr>\n",
       "\t<tr><td>PROVEN40</td><td>14.27026</td><td>3.184872</td></tr>\n",
       "</tbody>\n",
       "</table>\n"
      ],
      "text/latex": [
       "A tibble: 2 × 3\n",
       "\\begin{tabular}{lll}\n",
       " Microbe & mean\\_yield\\_kg\\_ha\\_15.5 & sd\\_yield\\_kg\\_ha\\_15.5\\\\\n",
       " <fct> & <dbl> & <dbl>\\\\\n",
       "\\hline\n",
       "\t UTC      & 13.90932 & 3.354501\\\\\n",
       "\t PROVEN40 & 14.27026 & 3.184872\\\\\n",
       "\\end{tabular}\n"
      ],
      "text/markdown": [
       "\n",
       "A tibble: 2 × 3\n",
       "\n",
       "| Microbe &lt;fct&gt; | mean_yield_kg_ha_15.5 &lt;dbl&gt; | sd_yield_kg_ha_15.5 &lt;dbl&gt; |\n",
       "|---|---|---|\n",
       "| UTC      | 13.90932 | 3.354501 |\n",
       "| PROVEN40 | 14.27026 | 3.184872 |\n",
       "\n"
      ],
      "text/plain": [
       "  Microbe  mean_yield_kg_ha_15.5 sd_yield_kg_ha_15.5\n",
       "1 UTC      13.90932              3.354501           \n",
       "2 PROVEN40 14.27026              3.184872           "
      ]
     },
     "metadata": {},
     "output_type": "display_data"
    }
   ],
   "source": [
    "df %>%\n",
    " group_by(Microbe) %>%\n",
    " summarize(mean_yield_kg_ha_15.5 = mean(yield), sd_yield_kg_ha_15.5 = sd(yield) )"
   ]
  },
  {
   "cell_type": "code",
   "execution_count": 7,
   "id": "5c74503e",
   "metadata": {
    "vscode": {
     "languageId": "r"
    }
   },
   "outputs": [
    {
     "data": {
      "text/html": [
       "0.36111"
      ],
      "text/latex": [
       "0.36111"
      ],
      "text/markdown": [
       "0.36111"
      ],
      "text/plain": [
       "[1] 0.36111"
      ]
     },
     "metadata": {},
     "output_type": "display_data"
    }
   ],
   "source": [
    "14.27707 - 13.91596"
   ]
  },
  {
   "cell_type": "code",
   "execution_count": 8,
   "id": "94b402f1",
   "metadata": {
    "vscode": {
     "languageId": "r"
    }
   },
   "outputs": [
    {
     "data": {
      "text/plain": [
       "\n",
       "\tWelch Two Sample t-test\n",
       "\n",
       "data:  yield by Microbe\n",
       "t = -0.76455, df = 189.49, p-value = 0.4455\n",
       "alternative hypothesis: true difference in means between group UTC and group PROVEN40 is not equal to 0\n",
       "95 percent confidence interval:\n",
       " -1.2921820  0.5703008\n",
       "sample estimates:\n",
       "     mean in group UTC mean in group PROVEN40 \n",
       "              13.90932               14.27026 \n"
      ]
     },
     "metadata": {},
     "output_type": "display_data"
    }
   ],
   "source": [
    "t.test(yield ~ Microbe, data = df)"
   ]
  },
  {
   "cell_type": "code",
   "execution_count": 9,
   "id": "47cc0f68-7fe0-4d5a-b1f6-c623cd0da56f",
   "metadata": {
    "vscode": {
     "languageId": "r"
    }
   },
   "outputs": [
    {
     "data": {
      "image/png": "[encoded data removed]",
      "text/plain": [
       "plot without title"
      ]
     },
     "metadata": {
      "image/png": {
       "height": 300,
       "width": 300
      }
     },
     "output_type": "display_data"
    }
   ],
   "source": [
    "# Quick look at the data (all data)\n",
    "\n",
    "df %>% \n",
    "ggplot(aes(factor(N_Rate_num),yield,fill = Microbe)) + \n",
    "geom_boxplot() + \n",
    "facet_grid(~Year) + \n",
    "theme(legend.position = \"top\") +\n",
    "labs(y = \"Yield (bu/a)\", x = \"N fertilzer rate (lb N/ac)\")"
   ]
  },
  {
   "cell_type": "markdown",
   "id": "fb14b9ce-a111-4603-9ba7-28b100ed35da",
   "metadata": {},
   "source": [
    "## Definition of the non-linear model\n",
    "\n",
    "A general model for yield response to fertilizer is given by a quadratic plateau equation:\n",
    "\n",
    "$$Y(N_f) = (a + bN_{f} + cN_{f}^2) * (N_{f} <= -0.5 \\frac{b}{c}) + (a + \\frac{-b^2}{4c}) * (N_{f} > -0.5  \\frac{b}{c})$$\n",
    "\n",
    "where:\n",
    "  - `Nf` is the nitrogen fertilizer rate\n",
    "  - `Y(Nf)` is the yield as function  Nf \n",
    "  - `a` is the yield with no N fertilizer\n",
    "  - `b` is the slope of the respons at Nf = 0\n",
    "  - `c` is the diminishing return parameter\n",
    "  \n",
    "Further, `c` can be re-written in terms of the water-limited yield potential (`ymax`):\n",
    "\n",
    "$$c = \\frac{-b^2}{ 4 (Y_{max}-a)}$$\n",
    "\n",
    "Therefore, our model would be:\n",
    "\n",
    "\n",
    "$$Y(N_f) = (a + bN_{f} + \\frac{-b^2}{ 4 (Y_{max}-a)} N_{f}^2) * (N_{f} <= \\frac{-2(Y_{max}-a)}{b}) + Y_{max}*(N_{f} > \\frac{-2(Y_{max}-a)}{b})$$\n",
    "\n"
   ]
  },
  {
   "cell_type": "code",
   "execution_count": 10,
   "id": "f1bf36f1-dcb5-431d-9648-208ee9fe7df3",
   "metadata": {
    "vscode": {
     "languageId": "r"
    }
   },
   "outputs": [],
   "source": [
    "# Define model equation\n",
    "\n",
    "yield_nresp <- function(Nf,\n",
    "                        a,\n",
    "                        b,\n",
    "                        ymax){\n",
    "    \n",
    "    # Calulate c for simplicity \n",
    "    c = (-b**2)/(4*(ymax-a))\n",
    "    \n",
    "    # Standard QP equation\n",
    "    y = (a + b * Nf + c * (Nf**2)) * (Nf <= -0.5 * b/c) + (a + (-b**2/(4 * c))) * (Nf > -0.5 * b/c)\n",
    "    \n",
    "    return(y)\n",
    "}"
   ]
  },
  {
   "cell_type": "markdown",
   "id": "0f08c955-f514-4d28-b90a-902fea93b2ec",
   "metadata": {},
   "source": [
    "## Non-linear fit with `nls` to obtain benchmark values "
   ]
  },
  {
   "cell_type": "code",
   "execution_count": 11,
   "id": "a1dc4cb4-5cfb-45d7-b4c6-c22b44d58834",
   "metadata": {
    "vscode": {
     "languageId": "r"
    }
   },
   "outputs": [
    {
     "data": {
      "text/html": [
       "<style>\n",
       ".dl-inline {width: auto; margin:0; padding: 0}\n",
       ".dl-inline>dt, .dl-inline>dd {float: none; width: auto; display: inline-block}\n",
       ".dl-inline>dt::after {content: \":\\0020\"; padding-right: .5ex}\n",
       ".dl-inline>dt:not(:first-of-type) {padding-left: .5ex}\n",
       "</style><dl class=dl-inline><dt>(Intercept)</dt><dd>9.30249862638924</dd><dt>N_Rate_num</dt><dd>0.0293099611585863</dd><dt>3</dt><dd>16.262000440625</dd></dl>\n"
      ],
      "text/latex": [
       "\\begin{description*}\n",
       "\\item[(Intercept)] 9.30249862638924\n",
       "\\item[N\\textbackslash{}\\_Rate\\textbackslash{}\\_num] 0.0293099611585863\n",
       "\\item[3] 16.262000440625\n",
       "\\end{description*}\n"
      ],
      "text/markdown": [
       "(Intercept)\n",
       ":   9.30249862638924N_Rate_num\n",
       ":   0.02930996115858633\n",
       ":   16.262000440625\n",
       "\n"
      ],
      "text/plain": [
       "(Intercept)  N_Rate_num             \n",
       " 9.30249863  0.02930996 16.26200044 "
      ]
     },
     "metadata": {},
     "output_type": "display_data"
    }
   ],
   "source": [
    "# some starting values \n",
    "start_coefs <- c(coef(lm(yield~N_Rate_num, data = df)),mean(df$yield[df$N_Rate_num == max(df$N_Rate_num)]))\n",
    "start_coefs"
   ]
  },
  {
   "cell_type": "code",
   "execution_count": 12,
   "id": "f8a9f59b-b0f0-4dce-90e1-cba99cb49769",
   "metadata": {
    "vscode": {
     "languageId": "r"
    }
   },
   "outputs": [
    {
     "data": {
      "text/plain": [
       "\n",
       "Formula: yield ~ yield_nresp(N_Rate_num, a, b, ymax)\n",
       "\n",
       "Parameters:\n",
       "     Estimate Std. Error t value Pr(>|t|)    \n",
       "a     8.01534    0.25837   31.02   <2e-16 ***\n",
       "b     0.06243    0.00405   15.41   <2e-16 ***\n",
       "ymax 16.35943    0.21168   77.28   <2e-16 ***\n",
       "---\n",
       "Signif. codes:  0 '***' 0.001 '**' 0.01 '*' 0.05 '.' 0.1 ' ' 1\n",
       "\n",
       "Residual standard error: 1.485 on 189 degrees of freedom\n",
       "\n",
       "Number of iterations to convergence: 5 \n",
       "Achieved convergence tolerance: 1.095e-06\n"
      ]
     },
     "metadata": {},
     "output_type": "display_data"
    }
   ],
   "source": [
    "fit.nls <- nls(yield ~ yield_nresp(N_Rate_num, a, b, ymax),\n",
    "               start = list(a = start_coefs[1], b = start_coefs[2]*2, ymax = start_coefs[3]),\n",
    "               data = df)\n",
    "\n",
    "summary(fit.nls)"
   ]
  },
  {
   "cell_type": "code",
   "execution_count": 13,
   "id": "199aa272-d7ac-45ac-b159-7fcd80b951a8",
   "metadata": {
    "vscode": {
     "languageId": "r"
    }
   },
   "outputs": [],
   "source": [
    "# Extract coefficiencts for better starting values \n",
    "start_coefs <- coefficients(fit.nls)"
   ]
  },
  {
   "cell_type": "markdown",
   "id": "48be2881-75e0-4351-bf4f-a56a069da4f7",
   "metadata": {},
   "source": [
    "## Non-linear mixed effect model using `nlme`"
   ]
  },
  {
   "cell_type": "code",
   "execution_count": 14,
   "id": "78859be7-4716-4d48-b800-265ffbf60738",
   "metadata": {
    "vscode": {
     "languageId": "r"
    }
   },
   "outputs": [],
   "source": [
    "fit.nlme.null <- nlme(yield ~ yield_nresp(N_Rate_num, a, b, ymax),\n",
    "            data = df,\n",
    "            fixed = a + b + ymax ~ 1, # No fixed effects on parameters\n",
    "            random = list(Year = pdDiag(a + b + ymax ~ 1),  # Random effect of Year\n",
    "                          Rep = pdDiag(a + b + ymax~ 1)),   # Random effect of Rep\n",
    "            start = start_coefs)"
   ]
  },
  {
   "cell_type": "code",
   "execution_count": 15,
   "id": "b52e28ec-38f3-46d9-9489-8b4770f96963",
   "metadata": {
    "vscode": {
     "languageId": "r"
    }
   },
   "outputs": [
    {
     "data": {
      "text/plain": [
       "Nonlinear mixed-effects model fit by maximum likelihood\n",
       "  Model: yield ~ yield_nresp(N_Rate_num, a, b, ymax) \n",
       "  Data: df \n",
       "       AIC      BIC    logLik\n",
       "  576.4848 609.0597 -278.2424\n",
       "\n",
       "Random effects:\n",
       " Formula: list(a ~ 1, b ~ 1, ymax ~ 1)\n",
       " Level: Year\n",
       " Structure: Diagonal\n",
       "                   a           b      ymax\n",
       "StdDev: 0.0001329234 0.008565446 0.8641589\n",
       "\n",
       " Formula: list(a ~ 1, b ~ 1, ymax ~ 1)\n",
       " Level: Rep %in% Year\n",
       " Structure: Diagonal\n",
       "                a          b     ymax  Residual\n",
       "StdDev: 0.7122239 0.01144035 1.064867 0.8437366\n",
       "\n",
       "Fixed effects:  a + b + ymax ~ 1 \n",
       "         Value Std.Error  DF  t-value p-value\n",
       "a     8.001715 0.2323610 174 34.43657       0\n",
       "b     0.063521 0.0071656 174  8.86474       0\n",
       "ymax 16.497214 0.6880803 174 23.97571       0\n",
       " Correlation: \n",
       "     a      b     \n",
       "b    -0.148       \n",
       "ymax  0.016 -0.032\n",
       "\n",
       "Standardized Within-Group Residuals:\n",
       "         Min           Q1          Med           Q3          Max \n",
       "-2.138216258 -0.600043874 -0.004107165  0.634533339  2.668612139 \n",
       "\n",
       "Number of Observations: 192\n",
       "Number of Groups: \n",
       "         Year Rep %in% Year \n",
       "            2            16 "
      ]
     },
     "metadata": {},
     "output_type": "display_data"
    }
   ],
   "source": [
    "summary(fit.nlme.null)"
   ]
  },
  {
   "cell_type": "code",
   "execution_count": 16,
   "id": "2cb764cc-0b85-4613-b83c-80926f66724e",
   "metadata": {
    "vscode": {
     "languageId": "r"
    }
   },
   "outputs": [
    {
     "data": {
      "text/html": [
       "701.607768920159"
      ],
      "text/latex": [
       "701.607768920159"
      ],
      "text/markdown": [
       "701.607768920159"
      ],
      "text/plain": [
       "[1] 701.6078"
      ]
     },
     "metadata": {},
     "output_type": "display_data"
    },
    {
     "data": {
      "text/html": [
       "576.48478424225"
      ],
      "text/latex": [
       "576.48478424225"
      ],
      "text/markdown": [
       "576.48478424225"
      ],
      "text/plain": [
       "[1] 576.4848"
      ]
     },
     "metadata": {},
     "output_type": "display_data"
    }
   ],
   "source": [
    "# Let's compare improvement in model fit\n",
    "AIC(fit.nls)\n",
    "AIC(fit.nlme.null)"
   ]
  },
  {
   "cell_type": "markdown",
   "id": "8086a085-9188-4df1-a69f-9d0403c4e4bd",
   "metadata": {},
   "source": [
    "### Full Model\n",
    "\n",
    "Let's beging with a `full` model that includes the interactive effects of `Microbe` and `Year` on all three parameters"
   ]
  },
  {
   "cell_type": "code",
   "execution_count": 17,
   "id": "3111aff2-e481-421c-82d4-5e2eef9790c8",
   "metadata": {
    "vscode": {
     "languageId": "r"
    }
   },
   "outputs": [],
   "source": [
    "fit.nlme.full <- update(fit.nlme.null,\n",
    "       fixed = list(a + b + ymax ~ Microbe*Year),# Interaction affects all parameters \n",
    "       start = c(start_coefs[\"a\"],0,0,0, # effects on a\n",
    "                 start_coefs[\"b\"],0,0,0, # effects on b\n",
    "                 start_coefs[\"ymax\"],0,0,0 # effects on ymax\n",
    "                ))"
   ]
  },
  {
   "cell_type": "markdown",
   "id": "14209869-88b0-4e2f-857b-9888ff3389f8",
   "metadata": {},
   "source": [
    "#### Check model assumptions"
   ]
  },
  {
   "cell_type": "markdown",
   "id": "b06074aa-8280-4273-8fd6-3345d7dd9fa2",
   "metadata": {},
   "source": [
    "Diagnostic plot to check the residuals"
   ]
  },
  {
   "cell_type": "code",
   "execution_count": 18,
   "id": "9f08e0f6-26f1-4df6-b46b-2edc94d40699",
   "metadata": {
    "vscode": {
     "languageId": "r"
    }
   },
   "outputs": [
    {
     "data": {
      "image/png": "[encoded data removed]",
      "text/plain": [
       "plot without title"
      ]
     },
     "metadata": {
      "image/png": {
       "height": 360,
       "width": 360
      }
     },
     "output_type": "display_data"
    }
   ],
   "source": [
    "options(repr.plot.width=6, repr.plot.height=6)\n",
    "plot(fit.nlme.full)"
   ]
  },
  {
   "cell_type": "code",
   "execution_count": 19,
   "id": "050e6279-6637-4333-bbda-4be6cfa15a36",
   "metadata": {
    "vscode": {
     "languageId": "r"
    }
   },
   "outputs": [
    {
     "data": {
      "image/png": "[encoded data removed]",
      "text/plain": [
       "plot without title"
      ]
     },
     "metadata": {
      "image/png": {
       "height": 360,
       "width": 360
      }
     },
     "output_type": "display_data"
    }
   ],
   "source": [
    "qqnorm(fit.nlme.full, ~ranef(., level=2))"
   ]
  },
  {
   "cell_type": "markdown",
   "id": "93208a02-1285-43e4-b35b-d59940f93c75",
   "metadata": {},
   "source": [
    "Check for equal variances between groups:"
   ]
  },
  {
   "cell_type": "code",
   "execution_count": 20,
   "id": "930c0d7b-f92e-423b-ad08-6a4df9bfa383",
   "metadata": {
    "vscode": {
     "languageId": "r"
    }
   },
   "outputs": [
    {
     "data": {
      "image/png": "[encoded data removed]",
      "text/plain": [
       "plot without title"
      ]
     },
     "metadata": {
      "image/png": {
       "height": 360,
       "width": 360
      }
     },
     "output_type": "display_data"
    }
   ],
   "source": [
    "plot(fit.nlme.full, resid(., type = \"p\") ~ fitted(.) | Microbe*Year)"
   ]
  },
  {
   "cell_type": "markdown",
   "id": "f0f88884-aeab-491c-bb23-677376bb1677",
   "metadata": {},
   "source": [
    "#### Inspect random effects"
   ]
  },
  {
   "cell_type": "code",
   "execution_count": 21,
   "id": "609b0e01-8fd5-4390-872b-561c86dc1b5f",
   "metadata": {
    "vscode": {
     "languageId": "r"
    }
   },
   "outputs": [
    {
     "data": {
      "image/png": "[encoded data removed]",
      "text/plain": [
       "plot without title"
      ]
     },
     "metadata": {
      "image/png": {
       "height": 360,
       "width": 360
      }
     },
     "output_type": "display_data"
    },
    {
     "data": {
      "image/png": "[encoded data removed]",
      "text/plain": [
       "plot without title"
      ]
     },
     "metadata": {
      "image/png": {
       "height": 360,
       "width": 360
      }
     },
     "output_type": "display_data"
    }
   ],
   "source": [
    "plot(random.effects(fit.nlme.full,level = 1))\n",
    "plot(random.effects(fit.nlme.full,level = 2))"
   ]
  },
  {
   "cell_type": "markdown",
   "id": "e8e32194-29d7-4d49-a158-9e99e7e8b0da",
   "metadata": {},
   "source": [
    "#### Inspect fixed effects "
   ]
  },
  {
   "cell_type": "code",
   "execution_count": 22,
   "id": "82cfbc05",
   "metadata": {
    "vscode": {
     "languageId": "r"
    }
   },
   "outputs": [
    {
     "data": {
      "text/plain": [
       "Nonlinear mixed-effects model fit by maximum likelihood\n",
       "  Model: yield ~ yield_nresp(N_Rate_num, a, b, ymax) \n",
       "  Data: df \n",
       "       AIC      BIC    logLik\n",
       "  567.6248 629.5172 -264.8124\n",
       "\n",
       "Random effects:\n",
       " Formula: list(a ~ 1, b ~ 1, ymax ~ 1)\n",
       " Level: Year\n",
       " Structure: Diagonal\n",
       "        a.(Intercept) b.(Intercept) ymax.(Intercept)\n",
       "StdDev:  3.384601e-05  5.727546e-07     5.283298e-05\n",
       "\n",
       " Formula: list(a ~ 1, b ~ 1, ymax ~ 1)\n",
       " Level: Rep %in% Year\n",
       " Structure: Diagonal\n",
       "        a.(Intercept) b.(Intercept) ymax.(Intercept)  Residual\n",
       "StdDev:      0.695469    0.01069756        0.9854007 0.7990807\n",
       "\n",
       "Fixed effects:  list(a + b + ymax ~ Microbe * Year) \n",
       "                                  Value Std.Error  DF  t-value p-value\n",
       "a.(Intercept)                  7.721251 0.3805663 165 20.28884  0.0000\n",
       "a.MicrobePROVEN40              0.962188 0.3988476 165  2.41242  0.0169\n",
       "a.Year2022                    -0.194570 0.5393325 165 -0.36076  0.7187\n",
       "a.MicrobePROVEN40:Year2022    -0.426112 0.5657414 165 -0.75319  0.4524\n",
       "b.(Intercept)                  0.072404 0.0058311 165 12.41698  0.0000\n",
       "b.MicrobePROVEN40             -0.000174 0.0057551 165 -0.03025  0.9759\n",
       "b.Year2022                    -0.014984 0.0082489 165 -1.81643  0.0711\n",
       "b.MicrobePROVEN40:Year2022    -0.004751 0.0081721 165 -0.58141  0.5618\n",
       "ymax.(Intercept)              17.373696 0.4444857 165 39.08719  0.0000\n",
       "ymax.MicrobePROVEN40           0.130173 0.3100515 165  0.41984  0.6751\n",
       "ymax.Year2022                 -1.906260 0.6295995 165 -3.02773  0.0029\n",
       "ymax.MicrobePROVEN40:Year2022  0.016678 0.4777917 165  0.03491  0.9722\n",
       " Correlation: \n",
       "                              a.(In) a.McPROVEN40 a.Y202 a.MPROVEN40: b.(In)\n",
       "a.MicrobePROVEN40             -0.521                                        \n",
       "a.Year2022                    -0.706  0.367                                 \n",
       "a.MicrobePROVEN40:Year2022     0.367 -0.705       -0.524                    \n",
       "b.(Intercept)                 -0.386  0.343        0.273 -0.242             \n",
       "b.MicrobePROVEN40              0.357 -0.709       -0.252  0.500       -0.445\n",
       "b.Year2022                     0.273 -0.242       -0.394  0.355       -0.707\n",
       "b.MicrobePROVEN40:Year2022    -0.252  0.499        0.374 -0.719        0.313\n",
       "ymax.(Intercept)               0.034 -0.013       -0.024  0.009       -0.169\n",
       "ymax.MicrobePROVEN40          -0.027  0.036        0.019 -0.026        0.182\n",
       "ymax.Year2022                 -0.024  0.009        0.039 -0.022        0.120\n",
       "ymax.MicrobePROVEN40:Year2022  0.017 -0.024       -0.032  0.061       -0.118\n",
       "                              b.McPROVEN40 b.Y202 b.MPROVEN40: ym.(I)\n",
       "a.MicrobePROVEN40                                                    \n",
       "a.Year2022                                                           \n",
       "a.MicrobePROVEN40:Year2022                                           \n",
       "b.(Intercept)                                                        \n",
       "b.MicrobePROVEN40                                                    \n",
       "b.Year2022                     0.315                                 \n",
       "b.MicrobePROVEN40:Year2022    -0.704       -0.481                    \n",
       "ymax.(Intercept)               0.110        0.120 -0.077             \n",
       "ymax.MicrobePROVEN40          -0.331       -0.129  0.233       -0.393\n",
       "ymax.Year2022                 -0.077       -0.181  0.138       -0.706\n",
       "ymax.MicrobePROVEN40:Year2022  0.215        0.188 -0.379        0.255\n",
       "                              ym.MPROVEN40 y.Y202\n",
       "a.MicrobePROVEN40                                \n",
       "a.Year2022                                       \n",
       "a.MicrobePROVEN40:Year2022                       \n",
       "b.(Intercept)                                    \n",
       "b.MicrobePROVEN40                                \n",
       "b.Year2022                                       \n",
       "b.MicrobePROVEN40:Year2022                       \n",
       "ymax.(Intercept)                                 \n",
       "ymax.MicrobePROVEN40                             \n",
       "ymax.Year2022                  0.277             \n",
       "ymax.MicrobePROVEN40:Year2022 -0.649       -0.380\n",
       "\n",
       "Standardized Within-Group Residuals:\n",
       "        Min          Q1         Med          Q3         Max \n",
       "-2.07075147 -0.65713384  0.01160062  0.61943435  2.43069678 \n",
       "\n",
       "Number of Observations: 192\n",
       "Number of Groups: \n",
       "         Year Rep %in% Year \n",
       "            2            16 "
      ]
     },
     "metadata": {},
     "output_type": "display_data"
    }
   ],
   "source": [
    "summary(fit.nlme.full)"
   ]
  },
  {
   "cell_type": "code",
   "execution_count": 23,
   "id": "cca793dc-4ae3-40e3-ac48-543c73830d2f",
   "metadata": {
    "vscode": {
     "languageId": "r"
    }
   },
   "outputs": [
    {
     "data": {
      "text/html": [
       "<table class=\"dataframe\">\n",
       "<caption>A matrix: 12 × 5 of type dbl</caption>\n",
       "<thead>\n",
       "\t<tr><th></th><th scope=col>Value</th><th scope=col>Std.Error</th><th scope=col>DF</th><th scope=col>t-value</th><th scope=col>p-value</th></tr>\n",
       "</thead>\n",
       "<tbody>\n",
       "\t<tr><th scope=row>a.(Intercept)</th><td> 7.7212510160</td><td>0.380566348</td><td>165</td><td>20.28884333</td><td>1.078093e-46</td></tr>\n",
       "\t<tr><th scope=row>a.MicrobePROVEN40</th><td> 0.9621876589</td><td>0.398847641</td><td>165</td><td> 2.41241908</td><td>1.694341e-02</td></tr>\n",
       "\t<tr><th scope=row>a.Year2022</th><td>-0.1945704063</td><td>0.539332472</td><td>165</td><td>-0.36076153</td><td>7.187392e-01</td></tr>\n",
       "\t<tr><th scope=row>a.MicrobePROVEN40:Year2022</th><td>-0.4261122582</td><td>0.565741388</td><td>165</td><td>-0.75319266</td><td>4.524075e-01</td></tr>\n",
       "\t<tr><th scope=row>b.(Intercept)</th><td> 0.0724040784</td><td>0.005831056</td><td>165</td><td>12.41697562</td><td>2.028342e-25</td></tr>\n",
       "\t<tr><th scope=row>b.MicrobePROVEN40</th><td>-0.0001740825</td><td>0.005755115</td><td>165</td><td>-0.03024832</td><td>9.759056e-01</td></tr>\n",
       "\t<tr><th scope=row>b.Year2022</th><td>-0.0149836081</td><td>0.008248942</td><td>165</td><td>-1.81642783</td><td>7.111969e-02</td></tr>\n",
       "\t<tr><th scope=row>b.MicrobePROVEN40:Year2022</th><td>-0.0047513170</td><td>0.008172099</td><td>165</td><td>-0.58140714</td><td>5.617595e-01</td></tr>\n",
       "\t<tr><th scope=row>ymax.(Intercept)</th><td>17.3736961289</td><td>0.444485728</td><td>165</td><td>39.08718557</td><td>2.493546e-85</td></tr>\n",
       "\t<tr><th scope=row>ymax.MicrobePROVEN40</th><td> 0.1301732913</td><td>0.310051499</td><td>165</td><td> 0.41984410</td><td>6.751455e-01</td></tr>\n",
       "\t<tr><th scope=row>ymax.Year2022</th><td>-1.9062601094</td><td>0.629599476</td><td>165</td><td>-3.02773459</td><td>2.859992e-03</td></tr>\n",
       "\t<tr><th scope=row>ymax.MicrobePROVEN40:Year2022</th><td> 0.0166775823</td><td>0.477791738</td><td>165</td><td> 0.03490555</td><td>9.721972e-01</td></tr>\n",
       "</tbody>\n",
       "</table>\n"
      ],
      "text/latex": [
       "A matrix: 12 × 5 of type dbl\n",
       "\\begin{tabular}{r|lllll}\n",
       "  & Value & Std.Error & DF & t-value & p-value\\\\\n",
       "\\hline\n",
       "\ta.(Intercept) &  7.7212510160 & 0.380566348 & 165 & 20.28884333 & 1.078093e-46\\\\\n",
       "\ta.MicrobePROVEN40 &  0.9621876589 & 0.398847641 & 165 &  2.41241908 & 1.694341e-02\\\\\n",
       "\ta.Year2022 & -0.1945704063 & 0.539332472 & 165 & -0.36076153 & 7.187392e-01\\\\\n",
       "\ta.MicrobePROVEN40:Year2022 & -0.4261122582 & 0.565741388 & 165 & -0.75319266 & 4.524075e-01\\\\\n",
       "\tb.(Intercept) &  0.0724040784 & 0.005831056 & 165 & 12.41697562 & 2.028342e-25\\\\\n",
       "\tb.MicrobePROVEN40 & -0.0001740825 & 0.005755115 & 165 & -0.03024832 & 9.759056e-01\\\\\n",
       "\tb.Year2022 & -0.0149836081 & 0.008248942 & 165 & -1.81642783 & 7.111969e-02\\\\\n",
       "\tb.MicrobePROVEN40:Year2022 & -0.0047513170 & 0.008172099 & 165 & -0.58140714 & 5.617595e-01\\\\\n",
       "\tymax.(Intercept) & 17.3736961289 & 0.444485728 & 165 & 39.08718557 & 2.493546e-85\\\\\n",
       "\tymax.MicrobePROVEN40 &  0.1301732913 & 0.310051499 & 165 &  0.41984410 & 6.751455e-01\\\\\n",
       "\tymax.Year2022 & -1.9062601094 & 0.629599476 & 165 & -3.02773459 & 2.859992e-03\\\\\n",
       "\tymax.MicrobePROVEN40:Year2022 &  0.0166775823 & 0.477791738 & 165 &  0.03490555 & 9.721972e-01\\\\\n",
       "\\end{tabular}\n"
      ],
      "text/markdown": [
       "\n",
       "A matrix: 12 × 5 of type dbl\n",
       "\n",
       "| <!--/--> | Value | Std.Error | DF | t-value | p-value |\n",
       "|---|---|---|---|---|---|\n",
       "| a.(Intercept) |  7.7212510160 | 0.380566348 | 165 | 20.28884333 | 1.078093e-46 |\n",
       "| a.MicrobePROVEN40 |  0.9621876589 | 0.398847641 | 165 |  2.41241908 | 1.694341e-02 |\n",
       "| a.Year2022 | -0.1945704063 | 0.539332472 | 165 | -0.36076153 | 7.187392e-01 |\n",
       "| a.MicrobePROVEN40:Year2022 | -0.4261122582 | 0.565741388 | 165 | -0.75319266 | 4.524075e-01 |\n",
       "| b.(Intercept) |  0.0724040784 | 0.005831056 | 165 | 12.41697562 | 2.028342e-25 |\n",
       "| b.MicrobePROVEN40 | -0.0001740825 | 0.005755115 | 165 | -0.03024832 | 9.759056e-01 |\n",
       "| b.Year2022 | -0.0149836081 | 0.008248942 | 165 | -1.81642783 | 7.111969e-02 |\n",
       "| b.MicrobePROVEN40:Year2022 | -0.0047513170 | 0.008172099 | 165 | -0.58140714 | 5.617595e-01 |\n",
       "| ymax.(Intercept) | 17.3736961289 | 0.444485728 | 165 | 39.08718557 | 2.493546e-85 |\n",
       "| ymax.MicrobePROVEN40 |  0.1301732913 | 0.310051499 | 165 |  0.41984410 | 6.751455e-01 |\n",
       "| ymax.Year2022 | -1.9062601094 | 0.629599476 | 165 | -3.02773459 | 2.859992e-03 |\n",
       "| ymax.MicrobePROVEN40:Year2022 |  0.0166775823 | 0.477791738 | 165 |  0.03490555 | 9.721972e-01 |\n",
       "\n"
      ],
      "text/plain": [
       "                              Value         Std.Error   DF  t-value    \n",
       "a.(Intercept)                  7.7212510160 0.380566348 165 20.28884333\n",
       "a.MicrobePROVEN40              0.9621876589 0.398847641 165  2.41241908\n",
       "a.Year2022                    -0.1945704063 0.539332472 165 -0.36076153\n",
       "a.MicrobePROVEN40:Year2022    -0.4261122582 0.565741388 165 -0.75319266\n",
       "b.(Intercept)                  0.0724040784 0.005831056 165 12.41697562\n",
       "b.MicrobePROVEN40             -0.0001740825 0.005755115 165 -0.03024832\n",
       "b.Year2022                    -0.0149836081 0.008248942 165 -1.81642783\n",
       "b.MicrobePROVEN40:Year2022    -0.0047513170 0.008172099 165 -0.58140714\n",
       "ymax.(Intercept)              17.3736961289 0.444485728 165 39.08718557\n",
       "ymax.MicrobePROVEN40           0.1301732913 0.310051499 165  0.41984410\n",
       "ymax.Year2022                 -1.9062601094 0.629599476 165 -3.02773459\n",
       "ymax.MicrobePROVEN40:Year2022  0.0166775823 0.477791738 165  0.03490555\n",
       "                              p-value     \n",
       "a.(Intercept)                 1.078093e-46\n",
       "a.MicrobePROVEN40             1.694341e-02\n",
       "a.Year2022                    7.187392e-01\n",
       "a.MicrobePROVEN40:Year2022    4.524075e-01\n",
       "b.(Intercept)                 2.028342e-25\n",
       "b.MicrobePROVEN40             9.759056e-01\n",
       "b.Year2022                    7.111969e-02\n",
       "b.MicrobePROVEN40:Year2022    5.617595e-01\n",
       "ymax.(Intercept)              2.493546e-85\n",
       "ymax.MicrobePROVEN40          6.751455e-01\n",
       "ymax.Year2022                 2.859992e-03\n",
       "ymax.MicrobePROVEN40:Year2022 9.721972e-01"
      ]
     },
     "metadata": {},
     "output_type": "display_data"
    }
   ],
   "source": [
    "fit.nlme.full.summary <- summary(fit.nlme.full)\n",
    "fit.nlme.full.summary$tTable"
   ]
  },
  {
   "cell_type": "markdown",
   "id": "758df5a5-df38-4b68-8f50-7559929311b4",
   "metadata": {},
   "source": [
    "Of interest to us is to check how the treatments affected each parameter. The visualization below shows estimated effect sizes with confidence intervals."
   ]
  },
  {
   "cell_type": "code",
   "execution_count": 24,
   "id": "c60b021e-786f-4947-9a04-4424a6266caf",
   "metadata": {
    "vscode": {
     "languageId": "r"
    }
   },
   "outputs": [
    {
     "data": {
      "text/html": [
       "<table class=\"dataframe\">\n",
       "<caption>A data.frame: 12 × 10</caption>\n",
       "<thead>\n",
       "\t<tr><th></th><th scope=col>lower</th><th scope=col>est.</th><th scope=col>upper</th><th scope=col>param</th><th scope=col>term</th><th scope=col>Value</th><th scope=col>Std.Error</th><th scope=col>DF</th><th scope=col>t.value</th><th scope=col>p.value</th></tr>\n",
       "\t<tr><th></th><th scope=col>&lt;dbl&gt;</th><th scope=col>&lt;dbl&gt;</th><th scope=col>&lt;dbl&gt;</th><th scope=col>&lt;chr&gt;</th><th scope=col>&lt;chr&gt;</th><th scope=col>&lt;dbl&gt;</th><th scope=col>&lt;dbl&gt;</th><th scope=col>&lt;dbl&gt;</th><th scope=col>&lt;dbl&gt;</th><th scope=col>&lt;dbl&gt;</th></tr>\n",
       "</thead>\n",
       "<tbody>\n",
       "\t<tr><th scope=row>a.(Intercept)</th><td> 6.99370377</td><td> 7.7212510160</td><td> 8.4487982607</td><td>a   </td><td>(Intercept)             </td><td> 7.7212510160</td><td>0.380566348</td><td>165</td><td>20.28884333</td><td>1.078093e-46</td></tr>\n",
       "\t<tr><th scope=row>a.MicrobePROVEN40</th><td> 0.19969118</td><td> 0.9621876589</td><td> 1.7246841422</td><td>a   </td><td>MicrobePROVEN40         </td><td> 0.9621876589</td><td>0.398847641</td><td>165</td><td> 2.41241908</td><td>1.694341e-02</td></tr>\n",
       "\t<tr><th scope=row>a.Year2022</th><td>-1.22563859</td><td>-0.1945704063</td><td> 0.8364977794</td><td>a   </td><td>Year2022                </td><td>-0.1945704063</td><td>0.539332472</td><td>165</td><td>-0.36076153</td><td>7.187392e-01</td></tr>\n",
       "\t<tr><th scope=row>a.MicrobePROVEN40:Year2022</th><td>-1.50766766</td><td>-0.4261122582</td><td> 0.6554431396</td><td>a   </td><td>MicrobePROVEN40:Year2022</td><td>-0.4261122582</td><td>0.565741388</td><td>165</td><td>-0.75319266</td><td>4.524075e-01</td></tr>\n",
       "\t<tr><th scope=row>b.(Intercept)</th><td> 0.06125656</td><td> 0.0724040784</td><td> 0.0835515922</td><td>b   </td><td>(Intercept)             </td><td> 0.0724040784</td><td>0.005831056</td><td>165</td><td>12.41697562</td><td>2.028342e-25</td></tr>\n",
       "\t<tr><th scope=row>b.MicrobePROVEN40</th><td>-0.01117642</td><td>-0.0001740825</td><td> 0.0108282524</td><td>b   </td><td>MicrobePROVEN40         </td><td>-0.0001740825</td><td>0.005755115</td><td>165</td><td>-0.03024832</td><td>9.759056e-01</td></tr>\n",
       "\t<tr><th scope=row>b.Year2022</th><td>-0.03075351</td><td>-0.0149836081</td><td> 0.0007862968</td><td>b   </td><td>Year2022                </td><td>-0.0149836081</td><td>0.008248942</td><td>165</td><td>-1.81642783</td><td>7.111969e-02</td></tr>\n",
       "\t<tr><th scope=row>b.MicrobePROVEN40:Year2022</th><td>-0.02037432</td><td>-0.0047513170</td><td> 0.0108716840</td><td>b   </td><td>MicrobePROVEN40:Year2022</td><td>-0.0047513170</td><td>0.008172099</td><td>165</td><td>-0.58140714</td><td>5.617595e-01</td></tr>\n",
       "\t<tr><th scope=row>ymax.(Intercept)</th><td>16.52395109</td><td>17.3736961289</td><td>18.2234411684</td><td>ymax</td><td>(Intercept)             </td><td>17.3736961289</td><td>0.444485728</td><td>165</td><td>39.08718557</td><td>2.493546e-85</td></tr>\n",
       "\t<tr><th scope=row>ymax.MicrobePROVEN40</th><td>-0.46256728</td><td> 0.1301732913</td><td> 0.7229138609</td><td>ymax</td><td>MicrobePROVEN40         </td><td> 0.1301732913</td><td>0.310051499</td><td>165</td><td> 0.41984410</td><td>6.751455e-01</td></tr>\n",
       "\t<tr><th scope=row>ymax.Year2022</th><td>-3.10989613</td><td>-1.9062601094</td><td>-0.7026240907</td><td>ymax</td><td>Year2022                </td><td>-1.9062601094</td><td>0.629599476</td><td>165</td><td>-3.02773459</td><td>2.859992e-03</td></tr>\n",
       "\t<tr><th scope=row>ymax.MicrobePROVEN40:Year2022</th><td>-0.89674018</td><td> 0.0166775823</td><td> 0.9300953452</td><td>ymax</td><td>MicrobePROVEN40:Year2022</td><td> 0.0166775823</td><td>0.477791738</td><td>165</td><td> 0.03490555</td><td>9.721972e-01</td></tr>\n",
       "</tbody>\n",
       "</table>\n"
      ],
      "text/latex": [
       "A data.frame: 12 × 10\n",
       "\\begin{tabular}{r|llllllllll}\n",
       "  & lower & est. & upper & param & term & Value & Std.Error & DF & t.value & p.value\\\\\n",
       "  & <dbl> & <dbl> & <dbl> & <chr> & <chr> & <dbl> & <dbl> & <dbl> & <dbl> & <dbl>\\\\\n",
       "\\hline\n",
       "\ta.(Intercept) &  6.99370377 &  7.7212510160 &  8.4487982607 & a    & (Intercept)              &  7.7212510160 & 0.380566348 & 165 & 20.28884333 & 1.078093e-46\\\\\n",
       "\ta.MicrobePROVEN40 &  0.19969118 &  0.9621876589 &  1.7246841422 & a    & MicrobePROVEN40          &  0.9621876589 & 0.398847641 & 165 &  2.41241908 & 1.694341e-02\\\\\n",
       "\ta.Year2022 & -1.22563859 & -0.1945704063 &  0.8364977794 & a    & Year2022                 & -0.1945704063 & 0.539332472 & 165 & -0.36076153 & 7.187392e-01\\\\\n",
       "\ta.MicrobePROVEN40:Year2022 & -1.50766766 & -0.4261122582 &  0.6554431396 & a    & MicrobePROVEN40:Year2022 & -0.4261122582 & 0.565741388 & 165 & -0.75319266 & 4.524075e-01\\\\\n",
       "\tb.(Intercept) &  0.06125656 &  0.0724040784 &  0.0835515922 & b    & (Intercept)              &  0.0724040784 & 0.005831056 & 165 & 12.41697562 & 2.028342e-25\\\\\n",
       "\tb.MicrobePROVEN40 & -0.01117642 & -0.0001740825 &  0.0108282524 & b    & MicrobePROVEN40          & -0.0001740825 & 0.005755115 & 165 & -0.03024832 & 9.759056e-01\\\\\n",
       "\tb.Year2022 & -0.03075351 & -0.0149836081 &  0.0007862968 & b    & Year2022                 & -0.0149836081 & 0.008248942 & 165 & -1.81642783 & 7.111969e-02\\\\\n",
       "\tb.MicrobePROVEN40:Year2022 & -0.02037432 & -0.0047513170 &  0.0108716840 & b    & MicrobePROVEN40:Year2022 & -0.0047513170 & 0.008172099 & 165 & -0.58140714 & 5.617595e-01\\\\\n",
       "\tymax.(Intercept) & 16.52395109 & 17.3736961289 & 18.2234411684 & ymax & (Intercept)              & 17.3736961289 & 0.444485728 & 165 & 39.08718557 & 2.493546e-85\\\\\n",
       "\tymax.MicrobePROVEN40 & -0.46256728 &  0.1301732913 &  0.7229138609 & ymax & MicrobePROVEN40          &  0.1301732913 & 0.310051499 & 165 &  0.41984410 & 6.751455e-01\\\\\n",
       "\tymax.Year2022 & -3.10989613 & -1.9062601094 & -0.7026240907 & ymax & Year2022                 & -1.9062601094 & 0.629599476 & 165 & -3.02773459 & 2.859992e-03\\\\\n",
       "\tymax.MicrobePROVEN40:Year2022 & -0.89674018 &  0.0166775823 &  0.9300953452 & ymax & MicrobePROVEN40:Year2022 &  0.0166775823 & 0.477791738 & 165 &  0.03490555 & 9.721972e-01\\\\\n",
       "\\end{tabular}\n"
      ],
      "text/markdown": [
       "\n",
       "A data.frame: 12 × 10\n",
       "\n",
       "| <!--/--> | lower &lt;dbl&gt; | est. &lt;dbl&gt; | upper &lt;dbl&gt; | param &lt;chr&gt; | term &lt;chr&gt; | Value &lt;dbl&gt; | Std.Error &lt;dbl&gt; | DF &lt;dbl&gt; | t.value &lt;dbl&gt; | p.value &lt;dbl&gt; |\n",
       "|---|---|---|---|---|---|---|---|---|---|---|\n",
       "| a.(Intercept) |  6.99370377 |  7.7212510160 |  8.4487982607 | a    | (Intercept)              |  7.7212510160 | 0.380566348 | 165 | 20.28884333 | 1.078093e-46 |\n",
       "| a.MicrobePROVEN40 |  0.19969118 |  0.9621876589 |  1.7246841422 | a    | MicrobePROVEN40          |  0.9621876589 | 0.398847641 | 165 |  2.41241908 | 1.694341e-02 |\n",
       "| a.Year2022 | -1.22563859 | -0.1945704063 |  0.8364977794 | a    | Year2022                 | -0.1945704063 | 0.539332472 | 165 | -0.36076153 | 7.187392e-01 |\n",
       "| a.MicrobePROVEN40:Year2022 | -1.50766766 | -0.4261122582 |  0.6554431396 | a    | MicrobePROVEN40:Year2022 | -0.4261122582 | 0.565741388 | 165 | -0.75319266 | 4.524075e-01 |\n",
       "| b.(Intercept) |  0.06125656 |  0.0724040784 |  0.0835515922 | b    | (Intercept)              |  0.0724040784 | 0.005831056 | 165 | 12.41697562 | 2.028342e-25 |\n",
       "| b.MicrobePROVEN40 | -0.01117642 | -0.0001740825 |  0.0108282524 | b    | MicrobePROVEN40          | -0.0001740825 | 0.005755115 | 165 | -0.03024832 | 9.759056e-01 |\n",
       "| b.Year2022 | -0.03075351 | -0.0149836081 |  0.0007862968 | b    | Year2022                 | -0.0149836081 | 0.008248942 | 165 | -1.81642783 | 7.111969e-02 |\n",
       "| b.MicrobePROVEN40:Year2022 | -0.02037432 | -0.0047513170 |  0.0108716840 | b    | MicrobePROVEN40:Year2022 | -0.0047513170 | 0.008172099 | 165 | -0.58140714 | 5.617595e-01 |\n",
       "| ymax.(Intercept) | 16.52395109 | 17.3736961289 | 18.2234411684 | ymax | (Intercept)              | 17.3736961289 | 0.444485728 | 165 | 39.08718557 | 2.493546e-85 |\n",
       "| ymax.MicrobePROVEN40 | -0.46256728 |  0.1301732913 |  0.7229138609 | ymax | MicrobePROVEN40          |  0.1301732913 | 0.310051499 | 165 |  0.41984410 | 6.751455e-01 |\n",
       "| ymax.Year2022 | -3.10989613 | -1.9062601094 | -0.7026240907 | ymax | Year2022                 | -1.9062601094 | 0.629599476 | 165 | -3.02773459 | 2.859992e-03 |\n",
       "| ymax.MicrobePROVEN40:Year2022 | -0.89674018 |  0.0166775823 |  0.9300953452 | ymax | MicrobePROVEN40:Year2022 |  0.0166775823 | 0.477791738 | 165 |  0.03490555 | 9.721972e-01 |\n",
       "\n"
      ],
      "text/plain": [
       "                              lower       est.          upper         param\n",
       "a.(Intercept)                  6.99370377  7.7212510160  8.4487982607 a    \n",
       "a.MicrobePROVEN40              0.19969118  0.9621876589  1.7246841422 a    \n",
       "a.Year2022                    -1.22563859 -0.1945704063  0.8364977794 a    \n",
       "a.MicrobePROVEN40:Year2022    -1.50766766 -0.4261122582  0.6554431396 a    \n",
       "b.(Intercept)                  0.06125656  0.0724040784  0.0835515922 b    \n",
       "b.MicrobePROVEN40             -0.01117642 -0.0001740825  0.0108282524 b    \n",
       "b.Year2022                    -0.03075351 -0.0149836081  0.0007862968 b    \n",
       "b.MicrobePROVEN40:Year2022    -0.02037432 -0.0047513170  0.0108716840 b    \n",
       "ymax.(Intercept)              16.52395109 17.3736961289 18.2234411684 ymax \n",
       "ymax.MicrobePROVEN40          -0.46256728  0.1301732913  0.7229138609 ymax \n",
       "ymax.Year2022                 -3.10989613 -1.9062601094 -0.7026240907 ymax \n",
       "ymax.MicrobePROVEN40:Year2022 -0.89674018  0.0166775823  0.9300953452 ymax \n",
       "                              term                     Value        \n",
       "a.(Intercept)                 (Intercept)               7.7212510160\n",
       "a.MicrobePROVEN40             MicrobePROVEN40           0.9621876589\n",
       "a.Year2022                    Year2022                 -0.1945704063\n",
       "a.MicrobePROVEN40:Year2022    MicrobePROVEN40:Year2022 -0.4261122582\n",
       "b.(Intercept)                 (Intercept)               0.0724040784\n",
       "b.MicrobePROVEN40             MicrobePROVEN40          -0.0001740825\n",
       "b.Year2022                    Year2022                 -0.0149836081\n",
       "b.MicrobePROVEN40:Year2022    MicrobePROVEN40:Year2022 -0.0047513170\n",
       "ymax.(Intercept)              (Intercept)              17.3736961289\n",
       "ymax.MicrobePROVEN40          MicrobePROVEN40           0.1301732913\n",
       "ymax.Year2022                 Year2022                 -1.9062601094\n",
       "ymax.MicrobePROVEN40:Year2022 MicrobePROVEN40:Year2022  0.0166775823\n",
       "                              Std.Error   DF  t.value     p.value     \n",
       "a.(Intercept)                 0.380566348 165 20.28884333 1.078093e-46\n",
       "a.MicrobePROVEN40             0.398847641 165  2.41241908 1.694341e-02\n",
       "a.Year2022                    0.539332472 165 -0.36076153 7.187392e-01\n",
       "a.MicrobePROVEN40:Year2022    0.565741388 165 -0.75319266 4.524075e-01\n",
       "b.(Intercept)                 0.005831056 165 12.41697562 2.028342e-25\n",
       "b.MicrobePROVEN40             0.005755115 165 -0.03024832 9.759056e-01\n",
       "b.Year2022                    0.008248942 165 -1.81642783 7.111969e-02\n",
       "b.MicrobePROVEN40:Year2022    0.008172099 165 -0.58140714 5.617595e-01\n",
       "ymax.(Intercept)              0.444485728 165 39.08718557 2.493546e-85\n",
       "ymax.MicrobePROVEN40          0.310051499 165  0.41984410 6.751455e-01\n",
       "ymax.Year2022                 0.629599476 165 -3.02773459 2.859992e-03\n",
       "ymax.MicrobePROVEN40:Year2022 0.477791738 165  0.03490555 9.721972e-01"
      ]
     },
     "metadata": {},
     "output_type": "display_data"
    },
    {
     "data": {
      "image/png": "[encoded data removed]",
      "text/plain": [
       "plot without title"
      ]
     },
     "metadata": {
      "image/png": {
       "height": 360,
       "width": 420
      }
     },
     "output_type": "display_data"
    }
   ],
   "source": [
    "options(repr.plot.width=7, repr.plot.height=6)\n",
    "\n",
    "\n",
    "fit.nlme.full_effects <- \n",
    "intervals(fit.nlme.full,level = 1 - alpha_level,which = \"fixed\")$fixed %>% \n",
    "as.data.frame() %>% \n",
    "mutate(term = row.names(.)) %>% \n",
    "bind_cols(fit.nlme.full.summary$tTable %>% data.frame()) %>% \n",
    "separate(term, c(\"param\",\"term\"), sep = \"\\\\.\") \n",
    "\n",
    "fit.nlme.full_effects\n",
    "\n",
    "fit.nlme.full_effects %>% \n",
    "filter(!grepl(\"Int\",term))   %>%\n",
    "ggplot(aes(est., term, colour = p.value < alpha_level)) +\n",
    "geom_vline(xintercept = 0, colour = \"gray50\") + \n",
    "geom_errorbarh(aes(xmin = lower, xmax = upper), height = 0.1) + \n",
    "geom_point(size = 3) +\n",
    "geom_text(aes(label = paste0(\"p = \", signif(p.value,2))),nudge_y = 0.3) + \n",
    "facet_wrap(~param,ncol = 1, scales = \"free\") + \n",
    "labs(y = \"\", x = \"Effect size\", title = \"Full model\", colour = paste0(\"p < \",alpha_level)) + \n",
    "theme(legend.position = \"top\")"
   ]
  },
  {
   "cell_type": "markdown",
   "id": "a4a4cb45-b2b1-4dd3-8eb9-133e2ae22ccb",
   "metadata": {},
   "source": [
    "Overall reading of these results:\n",
    "\n",
    "- Strong evidence that `ymax` was higher in 2021 overall\n",
    "- Convicing evidence that `Microbe` increased `a` across both years\n",
    "- Little or no evidence that `Microbe` affected `ymax` or `b` in either year \n",
    "- Little or no evidence that `Year` affected `b` in either of the `Microbe` treatments\n",
    "\n",
    "\n",
    "## Model selection \n",
    "\n",
    "The full model seems to be overpameterized, so we might want to test simpler models that can help us see the effects more clearly. For this we pogresively reduce the model complexity..."
   ]
  },
  {
   "cell_type": "code",
   "execution_count": 25,
   "id": "6f649235-facb-4c5d-b672-85e52f54fde9",
   "metadata": {
    "vscode": {
     "languageId": "r"
    }
   },
   "outputs": [],
   "source": [
    "### Interactive effects on a, and both main effects on b and ymax\n",
    "fit.nlme.red1 <- update(fit.nlme.null,\n",
    "       fixed = list(a ~ Microbe*Year, b + ymax ~ Microbe + Year),\n",
    "       start = c(start_coefs[\"a\"],0,0,0,\n",
    "                 start_coefs[\"b\"],0,0,\n",
    "                 start_coefs[\"ymax\"],0,0))"
   ]
  },
  {
   "cell_type": "code",
   "execution_count": 26,
   "id": "3513dfd0-968b-459d-a6c4-d3a79442a06e",
   "metadata": {
    "vscode": {
     "languageId": "r"
    }
   },
   "outputs": [],
   "source": [
    "### Only main effects on all parameters\n",
    "fit.nlme.red2 <- update(fit.nlme.null,\n",
    "       fixed = list(a + b + ymax ~ Microbe + Year),\n",
    "       start = c(start_coefs[\"a\"],0,0,\n",
    "                 start_coefs[\"b\"],0,0,\n",
    "                 start_coefs[\"ymax\"],0,0))"
   ]
  },
  {
   "cell_type": "code",
   "execution_count": 27,
   "id": "e1654993-7fa6-4c49-ab05-ff0e5f1a2313",
   "metadata": {
    "vscode": {
     "languageId": "r"
    }
   },
   "outputs": [],
   "source": [
    "### Interactive effects on a, and only year effects on b and ymax\n",
    "fit.nlme.red3 <- update(fit.nlme.null,\n",
    "       fixed = list(a ~ Microbe*Year, b + ymax ~ Year),\n",
    "       start = c(start_coefs[\"a\"],0,0,0,\n",
    "                 start_coefs[\"b\"],0,\n",
    "                 start_coefs[\"ymax\"],0))"
   ]
  },
  {
   "cell_type": "code",
   "execution_count": 28,
   "id": "dd4d4e31-d3a4-409a-84e4-40b77800f7b8",
   "metadata": {
    "vscode": {
     "languageId": "r"
    }
   },
   "outputs": [],
   "source": [
    "### Main effects on a, and main effect of Year on b and ymax\n",
    "fit.nlme.red4 <- update(fit.nlme.null,\n",
    "       fixed = list(a ~ Microbe + Year, b + ymax ~ Year),\n",
    "       start = c(start_coefs[\"a\"],0,0,\n",
    "                 start_coefs[\"b\"],0,\n",
    "                 start_coefs[\"ymax\"],0))"
   ]
  },
  {
   "cell_type": "code",
   "execution_count": 29,
   "id": "ac2c27de-5567-495a-9252-8fb4d19489dc",
   "metadata": {
    "vscode": {
     "languageId": "r"
    }
   },
   "outputs": [],
   "source": [
    "### Main effects on a, and main effect of Year on b and ymax\n",
    "fit.nlme.red5 <- update(fit.nlme.null,\n",
    "       fixed = list(a ~ Microbe, b + ymax ~ Year),\n",
    "       start = c(start_coefs[\"a\"],0,\n",
    "                 start_coefs[\"b\"],0,\n",
    "                 start_coefs[\"ymax\"],0))"
   ]
  },
  {
   "cell_type": "code",
   "execution_count": 30,
   "id": "43e0d082-675d-45b6-a0f8-f788bcbe7490",
   "metadata": {
    "vscode": {
     "languageId": "r"
    }
   },
   "outputs": [],
   "source": [
    "### Only year main effects\n",
    "fit.nlme.red6 <- update(fit.nlme.null,\n",
    "       fixed = list(a + b + ymax ~ Year),\n",
    "       start = c(start_coefs[\"a\"],0,\n",
    "                 start_coefs[\"b\"],0,\n",
    "                 start_coefs[\"ymax\"],0))"
   ]
  },
  {
   "cell_type": "code",
   "execution_count": 31,
   "id": "a3144da0-0e29-4420-92ed-819590abb301",
   "metadata": {
    "vscode": {
     "languageId": "r"
    }
   },
   "outputs": [
    {
     "data": {
      "text/html": [
       "<table class=\"dataframe\">\n",
       "<caption>A anova.lme: 8 × 9</caption>\n",
       "<thead>\n",
       "\t<tr><th></th><th scope=col>call</th><th scope=col>Model</th><th scope=col>df</th><th scope=col>AIC</th><th scope=col>BIC</th><th scope=col>logLik</th><th scope=col>Test</th><th scope=col>L.Ratio</th><th scope=col>p-value</th></tr>\n",
       "\t<tr><th></th><th scope=col>&lt;chr&gt;</th><th scope=col>&lt;int&gt;</th><th scope=col>&lt;dbl&gt;</th><th scope=col>&lt;dbl&gt;</th><th scope=col>&lt;dbl&gt;</th><th scope=col>&lt;dbl&gt;</th><th scope=col>&lt;fct&gt;</th><th scope=col>&lt;dbl&gt;</th><th scope=col>&lt;dbl&gt;</th></tr>\n",
       "</thead>\n",
       "<tbody>\n",
       "\t<tr><th scope=row>fit.nlme.full</th><td>nlme.formula(model = yield ~ yield_nresp(N_Rate_num, a, b, ymax),     data = df, fixed = list(a + b + ymax ~ Microbe * Year), random = list(Year = pdDiag(a +         b + ymax ~ 1), Rep = pdDiag(a + b + ymax ~ 1)), start = c(start_coefs[\"a\"],         0, 0, 0, start_coefs[\"b\"], 0, 0, 0, start_coefs[\"ymax\"],         0, 0, 0))                  </td><td>1</td><td>19</td><td>567.6248</td><td>629.5172</td><td>-264.8124</td><td>      </td><td>        NA</td><td>        NA</td></tr>\n",
       "\t<tr><th scope=row>fit.nlme.red1</th><td>nlme.formula(model = yield ~ yield_nresp(N_Rate_num, a, b, ymax),     data = df, fixed = list(a ~ Microbe * Year, b + ymax ~ Microbe +         Year), random = list(Year = pdDiag(a + b + ymax ~ 1),         Rep = pdDiag(a + b + ymax ~ 1)), start = c(start_coefs[\"a\"],         0, 0, 0, start_coefs[\"b\"], 0, 0, start_coefs[\"ymax\"],         0, 0))</td><td>2</td><td>17</td><td>563.9059</td><td>619.2834</td><td>-264.9530</td><td>1 vs 2</td><td> 0.2811073</td><td>0.86887704</td></tr>\n",
       "\t<tr><th scope=row>fit.nlme.red2</th><td>nlme.formula(model = yield ~ yield_nresp(N_Rate_num, a, b, ymax),     data = df, fixed = list(a + b + ymax ~ Microbe + Year), random = list(Year = pdDiag(a +         b + ymax ~ 1), Rep = pdDiag(a + b + ymax ~ 1)), start = c(start_coefs[\"a\"],         0, 0, start_coefs[\"b\"], 0, 0, start_coefs[\"ymax\"], 0,         0))                           </td><td>3</td><td>16</td><td>565.5758</td><td>617.6958</td><td>-266.7879</td><td>2 vs 3</td><td> 3.6698854</td><td>0.05540399</td></tr>\n",
       "\t<tr><th scope=row>fit.nlme.red3</th><td>nlme.formula(model = yield ~ yield_nresp(N_Rate_num, a, b, ymax),     data = df, fixed = list(a ~ Microbe * Year, b + ymax ~ Year),     random = list(Year = pdDiag(a + b + ymax ~ 1), Rep = pdDiag(a +         b + ymax ~ 1)), start = c(start_coefs[\"a\"], 0, 0, 0,         start_coefs[\"b\"], 0, start_coefs[\"ymax\"], 0))                            </td><td>4</td><td>15</td><td>560.6401</td><td>609.5026</td><td>-265.3201</td><td>3 vs 4</td><td> 2.9356800</td><td>0.08664217</td></tr>\n",
       "\t<tr><th scope=row>fit.nlme.red4</th><td>nlme.formula(model = yield ~ yield_nresp(N_Rate_num, a, b, ymax),     data = df, fixed = list(a ~ Microbe + Year, b + ymax ~ Year),     random = list(Year = pdDiag(a + b + ymax ~ 1), Rep = pdDiag(a +         b + ymax ~ 1)), start = c(start_coefs[\"a\"], 0, 0, start_coefs[\"b\"],         0, start_coefs[\"ymax\"], 0))                               </td><td>5</td><td>14</td><td>562.4241</td><td>608.0290</td><td>-267.2120</td><td>4 vs 5</td><td> 3.7839134</td><td>0.05174750</td></tr>\n",
       "\t<tr><th scope=row>fit.nlme.red5</th><td>nlme.formula(model = yield ~ yield_nresp(N_Rate_num, a, b, ymax),     data = df, fixed = list(a ~ Microbe, b + ymax ~ Year), random = list(Year = pdDiag(a +         b + ymax ~ 1), Rep = pdDiag(a + b + ymax ~ 1)), start = c(start_coefs[\"a\"],         0, start_coefs[\"b\"], 0, start_coefs[\"ymax\"], 0))                                             </td><td>6</td><td>13</td><td>561.3007</td><td>603.6482</td><td>-267.6504</td><td>5 vs 6</td><td> 0.8766696</td><td>0.34911548</td></tr>\n",
       "\t<tr><th scope=row>fit.nlme.red6</th><td>nlme.formula(model = yield ~ yield_nresp(N_Rate_num, a, b, ymax),     data = df, fixed = list(a + b + ymax ~ Year), random = list(Year = pdDiag(a +         b + ymax ~ 1), Rep = pdDiag(a + b + ymax ~ 1)), start = c(start_coefs[\"a\"],         0, start_coefs[\"b\"], 0, start_coefs[\"ymax\"], 0))                                                      </td><td>7</td><td>13</td><td>571.6845</td><td>614.0320</td><td>-272.8423</td><td>      </td><td>        NA</td><td>        NA</td></tr>\n",
       "\t<tr><th scope=row>fit.nlme.null</th><td>nlme.formula(model = yield ~ yield_nresp(N_Rate_num, a, b, ymax),     data = df, fixed = a + b + ymax ~ 1, random = list(Year = pdDiag(a +         b + ymax ~ 1), Rep = pdDiag(a + b + ymax ~ 1)), start = start_coefs)                                                                                                                               </td><td>8</td><td>10</td><td>576.4848</td><td>609.0597</td><td>-278.2424</td><td>7 vs 8</td><td>10.8002640</td><td>0.01285644</td></tr>\n",
       "</tbody>\n",
       "</table>\n"
      ],
      "text/latex": [
       "A anova.lme: 8 × 9\n",
       "\\begin{tabular}{r|lllllllll}\n",
       "  & call & Model & df & AIC & BIC & logLik & Test & L.Ratio & p-value\\\\\n",
       "  & <chr> & <int> & <dbl> & <dbl> & <dbl> & <dbl> & <fct> & <dbl> & <dbl>\\\\\n",
       "\\hline\n",
       "\tfit.nlme.full & nlme.formula(model = yield \\textasciitilde{} yield\\_nresp(N\\_Rate\\_num, a, b, ymax),     data = df, fixed = list(a + b + ymax \\textasciitilde{} Microbe * Year), random = list(Year = pdDiag(a +         b + ymax \\textasciitilde{} 1), Rep = pdDiag(a + b + ymax \\textasciitilde{} 1)), start = c(start\\_coefs{[}\"a\"{]},         0, 0, 0, start\\_coefs{[}\"b\"{]}, 0, 0, 0, start\\_coefs{[}\"ymax\"{]},         0, 0, 0))                   & 1 & 19 & 567.6248 & 629.5172 & -264.8124 &        &         NA &         NA\\\\\n",
       "\tfit.nlme.red1 & nlme.formula(model = yield \\textasciitilde{} yield\\_nresp(N\\_Rate\\_num, a, b, ymax),     data = df, fixed = list(a \\textasciitilde{} Microbe * Year, b + ymax \\textasciitilde{} Microbe +         Year), random = list(Year = pdDiag(a + b + ymax \\textasciitilde{} 1),         Rep = pdDiag(a + b + ymax \\textasciitilde{} 1)), start = c(start\\_coefs{[}\"a\"{]},         0, 0, 0, start\\_coefs{[}\"b\"{]}, 0, 0, start\\_coefs{[}\"ymax\"{]},         0, 0)) & 2 & 17 & 563.9059 & 619.2834 & -264.9530 & 1 vs 2 &  0.2811073 & 0.86887704\\\\\n",
       "\tfit.nlme.red2 & nlme.formula(model = yield \\textasciitilde{} yield\\_nresp(N\\_Rate\\_num, a, b, ymax),     data = df, fixed = list(a + b + ymax \\textasciitilde{} Microbe + Year), random = list(Year = pdDiag(a +         b + ymax \\textasciitilde{} 1), Rep = pdDiag(a + b + ymax \\textasciitilde{} 1)), start = c(start\\_coefs{[}\"a\"{]},         0, 0, start\\_coefs{[}\"b\"{]}, 0, 0, start\\_coefs{[}\"ymax\"{]}, 0,         0))                            & 3 & 16 & 565.5758 & 617.6958 & -266.7879 & 2 vs 3 &  3.6698854 & 0.05540399\\\\\n",
       "\tfit.nlme.red3 & nlme.formula(model = yield \\textasciitilde{} yield\\_nresp(N\\_Rate\\_num, a, b, ymax),     data = df, fixed = list(a \\textasciitilde{} Microbe * Year, b + ymax \\textasciitilde{} Year),     random = list(Year = pdDiag(a + b + ymax \\textasciitilde{} 1), Rep = pdDiag(a +         b + ymax \\textasciitilde{} 1)), start = c(start\\_coefs{[}\"a\"{]}, 0, 0, 0,         start\\_coefs{[}\"b\"{]}, 0, start\\_coefs{[}\"ymax\"{]}, 0))                             & 4 & 15 & 560.6401 & 609.5026 & -265.3201 & 3 vs 4 &  2.9356800 & 0.08664217\\\\\n",
       "\tfit.nlme.red4 & nlme.formula(model = yield \\textasciitilde{} yield\\_nresp(N\\_Rate\\_num, a, b, ymax),     data = df, fixed = list(a \\textasciitilde{} Microbe + Year, b + ymax \\textasciitilde{} Year),     random = list(Year = pdDiag(a + b + ymax \\textasciitilde{} 1), Rep = pdDiag(a +         b + ymax \\textasciitilde{} 1)), start = c(start\\_coefs{[}\"a\"{]}, 0, 0, start\\_coefs{[}\"b\"{]},         0, start\\_coefs{[}\"ymax\"{]}, 0))                                & 5 & 14 & 562.4241 & 608.0290 & -267.2120 & 4 vs 5 &  3.7839134 & 0.05174750\\\\\n",
       "\tfit.nlme.red5 & nlme.formula(model = yield \\textasciitilde{} yield\\_nresp(N\\_Rate\\_num, a, b, ymax),     data = df, fixed = list(a \\textasciitilde{} Microbe, b + ymax \\textasciitilde{} Year), random = list(Year = pdDiag(a +         b + ymax \\textasciitilde{} 1), Rep = pdDiag(a + b + ymax \\textasciitilde{} 1)), start = c(start\\_coefs{[}\"a\"{]},         0, start\\_coefs{[}\"b\"{]}, 0, start\\_coefs{[}\"ymax\"{]}, 0))                                              & 6 & 13 & 561.3007 & 603.6482 & -267.6504 & 5 vs 6 &  0.8766696 & 0.34911548\\\\\n",
       "\tfit.nlme.red6 & nlme.formula(model = yield \\textasciitilde{} yield\\_nresp(N\\_Rate\\_num, a, b, ymax),     data = df, fixed = list(a + b + ymax \\textasciitilde{} Year), random = list(Year = pdDiag(a +         b + ymax \\textasciitilde{} 1), Rep = pdDiag(a + b + ymax \\textasciitilde{} 1)), start = c(start\\_coefs{[}\"a\"{]},         0, start\\_coefs{[}\"b\"{]}, 0, start\\_coefs{[}\"ymax\"{]}, 0))                                                       & 7 & 13 & 571.6845 & 614.0320 & -272.8423 &        &         NA &         NA\\\\\n",
       "\tfit.nlme.null & nlme.formula(model = yield \\textasciitilde{} yield\\_nresp(N\\_Rate\\_num, a, b, ymax),     data = df, fixed = a + b + ymax \\textasciitilde{} 1, random = list(Year = pdDiag(a +         b + ymax \\textasciitilde{} 1), Rep = pdDiag(a + b + ymax \\textasciitilde{} 1)), start = start\\_coefs)                                                                                                                                & 8 & 10 & 576.4848 & 609.0597 & -278.2424 & 7 vs 8 & 10.8002640 & 0.01285644\\\\\n",
       "\\end{tabular}\n"
      ],
      "text/markdown": [
       "\n",
       "A anova.lme: 8 × 9\n",
       "\n",
       "| <!--/--> | call &lt;chr&gt; | Model &lt;int&gt; | df &lt;dbl&gt; | AIC &lt;dbl&gt; | BIC &lt;dbl&gt; | logLik &lt;dbl&gt; | Test &lt;fct&gt; | L.Ratio &lt;dbl&gt; | p-value &lt;dbl&gt; |\n",
       "|---|---|---|---|---|---|---|---|---|---|\n",
       "| fit.nlme.full | nlme.formula(model = yield ~ yield_nresp(N_Rate_num, a, b, ymax),     data = df, fixed = list(a + b + ymax ~ Microbe * Year), random = list(Year = pdDiag(a +         b + ymax ~ 1), Rep = pdDiag(a + b + ymax ~ 1)), start = c(start_coefs[\"a\"],         0, 0, 0, start_coefs[\"b\"], 0, 0, 0, start_coefs[\"ymax\"],         0, 0, 0))                   | 1 | 19 | 567.6248 | 629.5172 | -264.8124 | <!----> |         NA |         NA |\n",
       "| fit.nlme.red1 | nlme.formula(model = yield ~ yield_nresp(N_Rate_num, a, b, ymax),     data = df, fixed = list(a ~ Microbe * Year, b + ymax ~ Microbe +         Year), random = list(Year = pdDiag(a + b + ymax ~ 1),         Rep = pdDiag(a + b + ymax ~ 1)), start = c(start_coefs[\"a\"],         0, 0, 0, start_coefs[\"b\"], 0, 0, start_coefs[\"ymax\"],         0, 0)) | 2 | 17 | 563.9059 | 619.2834 | -264.9530 | 1 vs 2 |  0.2811073 | 0.86887704 |\n",
       "| fit.nlme.red2 | nlme.formula(model = yield ~ yield_nresp(N_Rate_num, a, b, ymax),     data = df, fixed = list(a + b + ymax ~ Microbe + Year), random = list(Year = pdDiag(a +         b + ymax ~ 1), Rep = pdDiag(a + b + ymax ~ 1)), start = c(start_coefs[\"a\"],         0, 0, start_coefs[\"b\"], 0, 0, start_coefs[\"ymax\"], 0,         0))                            | 3 | 16 | 565.5758 | 617.6958 | -266.7879 | 2 vs 3 |  3.6698854 | 0.05540399 |\n",
       "| fit.nlme.red3 | nlme.formula(model = yield ~ yield_nresp(N_Rate_num, a, b, ymax),     data = df, fixed = list(a ~ Microbe * Year, b + ymax ~ Year),     random = list(Year = pdDiag(a + b + ymax ~ 1), Rep = pdDiag(a +         b + ymax ~ 1)), start = c(start_coefs[\"a\"], 0, 0, 0,         start_coefs[\"b\"], 0, start_coefs[\"ymax\"], 0))                             | 4 | 15 | 560.6401 | 609.5026 | -265.3201 | 3 vs 4 |  2.9356800 | 0.08664217 |\n",
       "| fit.nlme.red4 | nlme.formula(model = yield ~ yield_nresp(N_Rate_num, a, b, ymax),     data = df, fixed = list(a ~ Microbe + Year, b + ymax ~ Year),     random = list(Year = pdDiag(a + b + ymax ~ 1), Rep = pdDiag(a +         b + ymax ~ 1)), start = c(start_coefs[\"a\"], 0, 0, start_coefs[\"b\"],         0, start_coefs[\"ymax\"], 0))                                | 5 | 14 | 562.4241 | 608.0290 | -267.2120 | 4 vs 5 |  3.7839134 | 0.05174750 |\n",
       "| fit.nlme.red5 | nlme.formula(model = yield ~ yield_nresp(N_Rate_num, a, b, ymax),     data = df, fixed = list(a ~ Microbe, b + ymax ~ Year), random = list(Year = pdDiag(a +         b + ymax ~ 1), Rep = pdDiag(a + b + ymax ~ 1)), start = c(start_coefs[\"a\"],         0, start_coefs[\"b\"], 0, start_coefs[\"ymax\"], 0))                                              | 6 | 13 | 561.3007 | 603.6482 | -267.6504 | 5 vs 6 |  0.8766696 | 0.34911548 |\n",
       "| fit.nlme.red6 | nlme.formula(model = yield ~ yield_nresp(N_Rate_num, a, b, ymax),     data = df, fixed = list(a + b + ymax ~ Year), random = list(Year = pdDiag(a +         b + ymax ~ 1), Rep = pdDiag(a + b + ymax ~ 1)), start = c(start_coefs[\"a\"],         0, start_coefs[\"b\"], 0, start_coefs[\"ymax\"], 0))                                                       | 7 | 13 | 571.6845 | 614.0320 | -272.8423 | <!----> |         NA |         NA |\n",
       "| fit.nlme.null | nlme.formula(model = yield ~ yield_nresp(N_Rate_num, a, b, ymax),     data = df, fixed = a + b + ymax ~ 1, random = list(Year = pdDiag(a +         b + ymax ~ 1), Rep = pdDiag(a + b + ymax ~ 1)), start = start_coefs)                                                                                                                                | 8 | 10 | 576.4848 | 609.0597 | -278.2424 | 7 vs 8 | 10.8002640 | 0.01285644 |\n",
       "\n"
      ],
      "text/plain": [
       "              call                                                                                                                                                                                                                                                                                                                                                  \n",
       "fit.nlme.full nlme.formula(model = yield ~ yield_nresp(N_Rate_num, a, b, ymax),     data = df, fixed = list(a + b + ymax ~ Microbe * Year), random = list(Year = pdDiag(a +         b + ymax ~ 1), Rep = pdDiag(a + b + ymax ~ 1)), start = c(start_coefs[\"a\"],         0, 0, 0, start_coefs[\"b\"], 0, 0, 0, start_coefs[\"ymax\"],         0, 0, 0))                  \n",
       "fit.nlme.red1 nlme.formula(model = yield ~ yield_nresp(N_Rate_num, a, b, ymax),     data = df, fixed = list(a ~ Microbe * Year, b + ymax ~ Microbe +         Year), random = list(Year = pdDiag(a + b + ymax ~ 1),         Rep = pdDiag(a + b + ymax ~ 1)), start = c(start_coefs[\"a\"],         0, 0, 0, start_coefs[\"b\"], 0, 0, start_coefs[\"ymax\"],         0, 0))\n",
       "fit.nlme.red2 nlme.formula(model = yield ~ yield_nresp(N_Rate_num, a, b, ymax),     data = df, fixed = list(a + b + ymax ~ Microbe + Year), random = list(Year = pdDiag(a +         b + ymax ~ 1), Rep = pdDiag(a + b + ymax ~ 1)), start = c(start_coefs[\"a\"],         0, 0, start_coefs[\"b\"], 0, 0, start_coefs[\"ymax\"], 0,         0))                           \n",
       "fit.nlme.red3 nlme.formula(model = yield ~ yield_nresp(N_Rate_num, a, b, ymax),     data = df, fixed = list(a ~ Microbe * Year, b + ymax ~ Year),     random = list(Year = pdDiag(a + b + ymax ~ 1), Rep = pdDiag(a +         b + ymax ~ 1)), start = c(start_coefs[\"a\"], 0, 0, 0,         start_coefs[\"b\"], 0, start_coefs[\"ymax\"], 0))                            \n",
       "fit.nlme.red4 nlme.formula(model = yield ~ yield_nresp(N_Rate_num, a, b, ymax),     data = df, fixed = list(a ~ Microbe + Year, b + ymax ~ Year),     random = list(Year = pdDiag(a + b + ymax ~ 1), Rep = pdDiag(a +         b + ymax ~ 1)), start = c(start_coefs[\"a\"], 0, 0, start_coefs[\"b\"],         0, start_coefs[\"ymax\"], 0))                               \n",
       "fit.nlme.red5 nlme.formula(model = yield ~ yield_nresp(N_Rate_num, a, b, ymax),     data = df, fixed = list(a ~ Microbe, b + ymax ~ Year), random = list(Year = pdDiag(a +         b + ymax ~ 1), Rep = pdDiag(a + b + ymax ~ 1)), start = c(start_coefs[\"a\"],         0, start_coefs[\"b\"], 0, start_coefs[\"ymax\"], 0))                                             \n",
       "fit.nlme.red6 nlme.formula(model = yield ~ yield_nresp(N_Rate_num, a, b, ymax),     data = df, fixed = list(a + b + ymax ~ Year), random = list(Year = pdDiag(a +         b + ymax ~ 1), Rep = pdDiag(a + b + ymax ~ 1)), start = c(start_coefs[\"a\"],         0, start_coefs[\"b\"], 0, start_coefs[\"ymax\"], 0))                                                      \n",
       "fit.nlme.null nlme.formula(model = yield ~ yield_nresp(N_Rate_num, a, b, ymax),     data = df, fixed = a + b + ymax ~ 1, random = list(Year = pdDiag(a +         b + ymax ~ 1), Rep = pdDiag(a + b + ymax ~ 1)), start = start_coefs)                                                                                                                               \n",
       "              Model df AIC      BIC      logLik    Test   L.Ratio    p-value   \n",
       "fit.nlme.full 1     19 567.6248 629.5172 -264.8124                NA         NA\n",
       "fit.nlme.red1 2     17 563.9059 619.2834 -264.9530 1 vs 2  0.2811073 0.86887704\n",
       "fit.nlme.red2 3     16 565.5758 617.6958 -266.7879 2 vs 3  3.6698854 0.05540399\n",
       "fit.nlme.red3 4     15 560.6401 609.5026 -265.3201 3 vs 4  2.9356800 0.08664217\n",
       "fit.nlme.red4 5     14 562.4241 608.0290 -267.2120 4 vs 5  3.7839134 0.05174750\n",
       "fit.nlme.red5 6     13 561.3007 603.6482 -267.6504 5 vs 6  0.8766696 0.34911548\n",
       "fit.nlme.red6 7     13 571.6845 614.0320 -272.8423                NA         NA\n",
       "fit.nlme.null 8     10 576.4848 609.0597 -278.2424 7 vs 8 10.8002640 0.01285644"
      ]
     },
     "metadata": {},
     "output_type": "display_data"
    },
    {
     "data": {
      "image/png": "[encoded data removed]",
      "text/plain": [
       "plot without title"
      ]
     },
     "metadata": {
      "image/png": {
       "height": 300,
       "width": 480
      }
     },
     "output_type": "display_data"
    }
   ],
   "source": [
    "model_comparion_table <- anova(\n",
    "    fit.nlme.full,\n",
    "    fit.nlme.red1,\n",
    "    fit.nlme.red2,\n",
    "    fit.nlme.red3,\n",
    "    fit.nlme.red4,\n",
    "    fit.nlme.red5,\n",
    "    fit.nlme.red6,\n",
    "    fit.nlme.null)\n",
    "\n",
    "options(repr.plot.width=8, repr.plot.height=5)\n",
    "\n",
    "model_comparion_table\n",
    "\n",
    "as.data.frame(model_comparion_table) %>%\n",
    "transmute(model = paste0(row.names(.),\" (df =\",df,\")\"),\n",
    "          model = factor(model,levels = rev(model)),\n",
    "          df,AIC,BIC) %>% \n",
    "gather(index,value,AIC,BIC) %>% \n",
    "group_by(index) %>% \n",
    "mutate(best = value == min(value))  %>%\n",
    "ggplot(aes(value,model)) + \n",
    "geom_point(size = 3, shape = 21) + \n",
    "facet_grid(~index,scales = \"free\")"
   ]
  },
  {
   "cell_type": "markdown",
   "id": "32b4e487-864f-4cc6-8090-f70c47cf1970",
   "metadata": {},
   "source": [
    "Based solely on the `AIC` we would choose `fit.nlme.red3`, but the `BIC` indicates that `fit.nlme.red4` and `fit.nlme.red5` are better model because they are more parsimonious with a similar model fit. However, there is a hit that `fit.nlme.red3` constains potentially significant effects that are not accounted by the more parsimonious models, namely that the microbial effect on `a` depends on year.  "
   ]
  },
  {
   "cell_type": "code",
   "execution_count": 32,
   "id": "f5edd56b-ac94-478c-8a08-4bae80e3518a",
   "metadata": {
    "vscode": {
     "languageId": "r"
    }
   },
   "outputs": [
    {
     "data": {
      "text/html": [
       "<table class=\"dataframe\">\n",
       "<caption>A anova.lme: 2 × 8</caption>\n",
       "<thead>\n",
       "\t<tr><th></th><th scope=col>Model</th><th scope=col>df</th><th scope=col>AIC</th><th scope=col>BIC</th><th scope=col>logLik</th><th scope=col>Test</th><th scope=col>L.Ratio</th><th scope=col>p-value</th></tr>\n",
       "\t<tr><th></th><th scope=col>&lt;int&gt;</th><th scope=col>&lt;dbl&gt;</th><th scope=col>&lt;dbl&gt;</th><th scope=col>&lt;dbl&gt;</th><th scope=col>&lt;dbl&gt;</th><th scope=col>&lt;fct&gt;</th><th scope=col>&lt;dbl&gt;</th><th scope=col>&lt;dbl&gt;</th></tr>\n",
       "</thead>\n",
       "<tbody>\n",
       "\t<tr><th scope=row>fit.nlme.red3</th><td>1</td><td>15</td><td>560.6401</td><td>609.5026</td><td>-265.3201</td><td>      </td><td>      NA</td><td>       NA</td></tr>\n",
       "\t<tr><th scope=row>fit.nlme.red4</th><td>2</td><td>14</td><td>562.4241</td><td>608.0290</td><td>-267.2120</td><td>1 vs 2</td><td>3.783913</td><td>0.0517475</td></tr>\n",
       "</tbody>\n",
       "</table>\n"
      ],
      "text/latex": [
       "A anova.lme: 2 × 8\n",
       "\\begin{tabular}{r|llllllll}\n",
       "  & Model & df & AIC & BIC & logLik & Test & L.Ratio & p-value\\\\\n",
       "  & <int> & <dbl> & <dbl> & <dbl> & <dbl> & <fct> & <dbl> & <dbl>\\\\\n",
       "\\hline\n",
       "\tfit.nlme.red3 & 1 & 15 & 560.6401 & 609.5026 & -265.3201 &        &       NA &        NA\\\\\n",
       "\tfit.nlme.red4 & 2 & 14 & 562.4241 & 608.0290 & -267.2120 & 1 vs 2 & 3.783913 & 0.0517475\\\\\n",
       "\\end{tabular}\n"
      ],
      "text/markdown": [
       "\n",
       "A anova.lme: 2 × 8\n",
       "\n",
       "| <!--/--> | Model &lt;int&gt; | df &lt;dbl&gt; | AIC &lt;dbl&gt; | BIC &lt;dbl&gt; | logLik &lt;dbl&gt; | Test &lt;fct&gt; | L.Ratio &lt;dbl&gt; | p-value &lt;dbl&gt; |\n",
       "|---|---|---|---|---|---|---|---|---|\n",
       "| fit.nlme.red3 | 1 | 15 | 560.6401 | 609.5026 | -265.3201 | <!----> |       NA |        NA |\n",
       "| fit.nlme.red4 | 2 | 14 | 562.4241 | 608.0290 | -267.2120 | 1 vs 2 | 3.783913 | 0.0517475 |\n",
       "\n"
      ],
      "text/plain": [
       "              Model df AIC      BIC      logLik    Test   L.Ratio  p-value  \n",
       "fit.nlme.red3 1     15 560.6401 609.5026 -265.3201              NA        NA\n",
       "fit.nlme.red4 2     14 562.4241 608.0290 -267.2120 1 vs 2 3.783913 0.0517475"
      ]
     },
     "metadata": {},
     "output_type": "display_data"
    },
    {
     "data": {
      "text/html": [
       "<table class=\"dataframe\">\n",
       "<caption>A anova.lme: 2 × 8</caption>\n",
       "<thead>\n",
       "\t<tr><th></th><th scope=col>Model</th><th scope=col>df</th><th scope=col>AIC</th><th scope=col>BIC</th><th scope=col>logLik</th><th scope=col>Test</th><th scope=col>L.Ratio</th><th scope=col>p-value</th></tr>\n",
       "\t<tr><th></th><th scope=col>&lt;int&gt;</th><th scope=col>&lt;dbl&gt;</th><th scope=col>&lt;dbl&gt;</th><th scope=col>&lt;dbl&gt;</th><th scope=col>&lt;dbl&gt;</th><th scope=col>&lt;fct&gt;</th><th scope=col>&lt;dbl&gt;</th><th scope=col>&lt;dbl&gt;</th></tr>\n",
       "</thead>\n",
       "<tbody>\n",
       "\t<tr><th scope=row>fit.nlme.red3</th><td>1</td><td>15</td><td>560.6401</td><td>609.5026</td><td>-265.3201</td><td>      </td><td>      NA</td><td>        NA</td></tr>\n",
       "\t<tr><th scope=row>fit.nlme.red5</th><td>2</td><td>13</td><td>561.3007</td><td>603.6482</td><td>-267.6504</td><td>1 vs 2</td><td>4.660583</td><td>0.09726739</td></tr>\n",
       "</tbody>\n",
       "</table>\n"
      ],
      "text/latex": [
       "A anova.lme: 2 × 8\n",
       "\\begin{tabular}{r|llllllll}\n",
       "  & Model & df & AIC & BIC & logLik & Test & L.Ratio & p-value\\\\\n",
       "  & <int> & <dbl> & <dbl> & <dbl> & <dbl> & <fct> & <dbl> & <dbl>\\\\\n",
       "\\hline\n",
       "\tfit.nlme.red3 & 1 & 15 & 560.6401 & 609.5026 & -265.3201 &        &       NA &         NA\\\\\n",
       "\tfit.nlme.red5 & 2 & 13 & 561.3007 & 603.6482 & -267.6504 & 1 vs 2 & 4.660583 & 0.09726739\\\\\n",
       "\\end{tabular}\n"
      ],
      "text/markdown": [
       "\n",
       "A anova.lme: 2 × 8\n",
       "\n",
       "| <!--/--> | Model &lt;int&gt; | df &lt;dbl&gt; | AIC &lt;dbl&gt; | BIC &lt;dbl&gt; | logLik &lt;dbl&gt; | Test &lt;fct&gt; | L.Ratio &lt;dbl&gt; | p-value &lt;dbl&gt; |\n",
       "|---|---|---|---|---|---|---|---|---|\n",
       "| fit.nlme.red3 | 1 | 15 | 560.6401 | 609.5026 | -265.3201 | <!----> |       NA |         NA |\n",
       "| fit.nlme.red5 | 2 | 13 | 561.3007 | 603.6482 | -267.6504 | 1 vs 2 | 4.660583 | 0.09726739 |\n",
       "\n"
      ],
      "text/plain": [
       "              Model df AIC      BIC      logLik    Test   L.Ratio  p-value   \n",
       "fit.nlme.red3 1     15 560.6401 609.5026 -265.3201              NA         NA\n",
       "fit.nlme.red5 2     13 561.3007 603.6482 -267.6504 1 vs 2 4.660583 0.09726739"
      ]
     },
     "metadata": {},
     "output_type": "display_data"
    },
    {
     "data": {
      "text/html": [
       "<table class=\"dataframe\">\n",
       "<caption>A anova.lme: 2 × 8</caption>\n",
       "<thead>\n",
       "\t<tr><th></th><th scope=col>Model</th><th scope=col>df</th><th scope=col>AIC</th><th scope=col>BIC</th><th scope=col>logLik</th><th scope=col>Test</th><th scope=col>L.Ratio</th><th scope=col>p-value</th></tr>\n",
       "\t<tr><th></th><th scope=col>&lt;int&gt;</th><th scope=col>&lt;dbl&gt;</th><th scope=col>&lt;dbl&gt;</th><th scope=col>&lt;dbl&gt;</th><th scope=col>&lt;dbl&gt;</th><th scope=col>&lt;fct&gt;</th><th scope=col>&lt;dbl&gt;</th><th scope=col>&lt;dbl&gt;</th></tr>\n",
       "</thead>\n",
       "<tbody>\n",
       "\t<tr><th scope=row>fit.nlme.red4</th><td>1</td><td>14</td><td>562.4241</td><td>608.0290</td><td>-267.2120</td><td>      </td><td>       NA</td><td>       NA</td></tr>\n",
       "\t<tr><th scope=row>fit.nlme.red5</th><td>2</td><td>13</td><td>561.3007</td><td>603.6482</td><td>-267.6504</td><td>1 vs 2</td><td>0.8766696</td><td>0.3491155</td></tr>\n",
       "</tbody>\n",
       "</table>\n"
      ],
      "text/latex": [
       "A anova.lme: 2 × 8\n",
       "\\begin{tabular}{r|llllllll}\n",
       "  & Model & df & AIC & BIC & logLik & Test & L.Ratio & p-value\\\\\n",
       "  & <int> & <dbl> & <dbl> & <dbl> & <dbl> & <fct> & <dbl> & <dbl>\\\\\n",
       "\\hline\n",
       "\tfit.nlme.red4 & 1 & 14 & 562.4241 & 608.0290 & -267.2120 &        &        NA &        NA\\\\\n",
       "\tfit.nlme.red5 & 2 & 13 & 561.3007 & 603.6482 & -267.6504 & 1 vs 2 & 0.8766696 & 0.3491155\\\\\n",
       "\\end{tabular}\n"
      ],
      "text/markdown": [
       "\n",
       "A anova.lme: 2 × 8\n",
       "\n",
       "| <!--/--> | Model &lt;int&gt; | df &lt;dbl&gt; | AIC &lt;dbl&gt; | BIC &lt;dbl&gt; | logLik &lt;dbl&gt; | Test &lt;fct&gt; | L.Ratio &lt;dbl&gt; | p-value &lt;dbl&gt; |\n",
       "|---|---|---|---|---|---|---|---|---|\n",
       "| fit.nlme.red4 | 1 | 14 | 562.4241 | 608.0290 | -267.2120 | <!----> |        NA |        NA |\n",
       "| fit.nlme.red5 | 2 | 13 | 561.3007 | 603.6482 | -267.6504 | 1 vs 2 | 0.8766696 | 0.3491155 |\n",
       "\n"
      ],
      "text/plain": [
       "              Model df AIC      BIC      logLik    Test   L.Ratio   p-value  \n",
       "fit.nlme.red4 1     14 562.4241 608.0290 -267.2120               NA        NA\n",
       "fit.nlme.red5 2     13 561.3007 603.6482 -267.6504 1 vs 2 0.8766696 0.3491155"
      ]
     },
     "metadata": {},
     "output_type": "display_data"
    }
   ],
   "source": [
    "anova(fit.nlme.red3,fit.nlme.red4)[-1]\n",
    "anova(fit.nlme.red3,fit.nlme.red5)[-1]\n",
    "anova(fit.nlme.red4,fit.nlme.red5)[-1]"
   ]
  },
  {
   "cell_type": "markdown",
   "id": "efe377f1-db21-4b84-a421-accdcdb2cee9",
   "metadata": {},
   "source": [
    "Therefore, we choose `fit.nlme.red3` as the reduced model going forward. "
   ]
  },
  {
   "cell_type": "code",
   "execution_count": 33,
   "id": "67c45c4d-0962-446d-b94e-5d147fe0c0d2",
   "metadata": {
    "vscode": {
     "languageId": "r"
    }
   },
   "outputs": [],
   "source": [
    "fit.nlme.red <- fit.nlme.red3"
   ]
  },
  {
   "cell_type": "markdown",
   "id": "18393a54-ae8a-467a-b801-d2accf6e7fd0",
   "metadata": {
    "tags": []
   },
   "source": [
    "### Chosen Reduced model\n",
    "\n",
    "#### Check model assumptions"
   ]
  },
  {
   "cell_type": "markdown",
   "id": "b45e7848-7101-4b08-bb17-2192ce10a634",
   "metadata": {},
   "source": [
    "Diagnostic plot to check the residuals"
   ]
  },
  {
   "cell_type": "code",
   "execution_count": 34,
   "id": "b478696c-8a78-4be5-bf4c-dddabb47035b",
   "metadata": {
    "vscode": {
     "languageId": "r"
    }
   },
   "outputs": [
    {
     "data": {
      "image/png": "[encoded data removed]",
      "text/plain": [
       "plot without title"
      ]
     },
     "metadata": {
      "image/png": {
       "height": 360,
       "width": 360
      }
     },
     "output_type": "display_data"
    }
   ],
   "source": [
    "options(repr.plot.width=6, repr.plot.height=6)\n",
    "plot(fit.nlme.red)"
   ]
  },
  {
   "cell_type": "code",
   "execution_count": 35,
   "id": "7892f79f-c99e-48c0-8f9c-bac2b5386b90",
   "metadata": {
    "vscode": {
     "languageId": "r"
    }
   },
   "outputs": [
    {
     "data": {
      "image/png": "[encoded data removed]",
      "text/plain": [
       "plot without title"
      ]
     },
     "metadata": {
      "image/png": {
       "height": 360,
       "width": 360
      }
     },
     "output_type": "display_data"
    }
   ],
   "source": [
    "qqnorm(fit.nlme.red, ~ranef(., level=2))"
   ]
  },
  {
   "cell_type": "markdown",
   "id": "eb03016b-48c9-457c-ab52-ede04984c641",
   "metadata": {},
   "source": [
    "Check for equal variances between groups:"
   ]
  },
  {
   "cell_type": "code",
   "execution_count": 36,
   "id": "342889f3-9056-4e7b-8e42-0862e230db82",
   "metadata": {
    "vscode": {
     "languageId": "r"
    }
   },
   "outputs": [
    {
     "data": {
      "image/png": "[encoded data removed]",
      "text/plain": [
       "plot without title"
      ]
     },
     "metadata": {
      "image/png": {
       "height": 360,
       "width": 360
      }
     },
     "output_type": "display_data"
    }
   ],
   "source": [
    "plot(fit.nlme.red, resid(., type = \"p\") ~ fitted(.) | Microbe*Year)"
   ]
  },
  {
   "cell_type": "markdown",
   "id": "c7b254c3-9cc3-41ae-a412-72aa9dbae245",
   "metadata": {},
   "source": [
    "### Inspect Model"
   ]
  },
  {
   "cell_type": "code",
   "execution_count": 37,
   "id": "1f0a3fb3-5442-44bc-a1fd-0640a5abe73a",
   "metadata": {
    "vscode": {
     "languageId": "r"
    }
   },
   "outputs": [
    {
     "data": {
      "text/plain": [
       "Nonlinear mixed-effects model fit by maximum likelihood\n",
       "  Model: yield ~ yield_nresp(N_Rate_num, a, b, ymax) \n",
       "  Data: df \n",
       "       AIC      BIC    logLik\n",
       "  560.6401 609.5026 -265.3201\n",
       "\n",
       "Random effects:\n",
       " Formula: list(a ~ 1, b ~ 1, ymax ~ 1)\n",
       " Level: Year\n",
       " Structure: Diagonal\n",
       "        a.(Intercept) b.(Intercept) ymax.(Intercept)\n",
       "StdDev:  3.431565e-05  5.798935e-07     5.344663e-05\n",
       "\n",
       " Formula: list(a ~ 1, b ~ 1, ymax ~ 1)\n",
       " Level: Rep %in% Year\n",
       " Structure: Diagonal\n",
       "        a.(Intercept) b.(Intercept) ymax.(Intercept)  Residual\n",
       "StdDev:     0.6902541    0.01065945         0.980828 0.8024261\n",
       "\n",
       "Fixed effects:  list(a ~ Microbe * Year, b + ymax ~ Year) \n",
       "                               Value Std.Error  DF  t-value p-value\n",
       "a.(Intercept)               7.710065 0.3494249 169 22.06502  0.0000\n",
       "a.MicrobePROVEN40           0.989536 0.2671675 169  3.70381  0.0003\n",
       "a.Year2022                 -0.059107 0.4914266 169 -0.12028  0.9044\n",
       "a.MicrobePROVEN40:Year2022 -0.700111 0.3687965 169 -1.89837  0.0594\n",
       "b.(Intercept)               0.072169 0.0051483 169 14.01797  0.0000\n",
       "b.Year2022                 -0.017185 0.0071353 169 -2.40839  0.0171\n",
       "ymax.(Intercept)           17.447611 0.4028524 169 43.31018  0.0000\n",
       "ymax.Year2022              -1.899863 0.5744019 169 -3.30755  0.0011\n",
       " Correlation: \n",
       "                           a.(In) a.McPROVEN40 a.Y202 a.MPROVEN40: b.(In)\n",
       "a.MicrobePROVEN40          -0.400                                        \n",
       "a.Year2022                 -0.711  0.285                                 \n",
       "a.MicrobePROVEN40:Year2022  0.290 -0.724       -0.388                    \n",
       "b.(Intercept)              -0.285  0.071        0.202 -0.052             \n",
       "b.Year2022                  0.205 -0.051       -0.278  0.049       -0.722\n",
       "ymax.(Intercept)            0.039 -0.030       -0.028  0.021       -0.130\n",
       "ymax.Year2022              -0.027  0.021        0.039 -0.021        0.091\n",
       "                           b.Y202 ym.(I)\n",
       "a.MicrobePROVEN40                       \n",
       "a.Year2022                              \n",
       "a.MicrobePROVEN40:Year2022              \n",
       "b.(Intercept)                           \n",
       "b.Year2022                              \n",
       "ymax.(Intercept)            0.094       \n",
       "ymax.Year2022              -0.138 -0.701\n",
       "\n",
       "Standardized Within-Group Residuals:\n",
       "        Min          Q1         Med          Q3         Max \n",
       "-2.11312760 -0.59855069  0.05351497  0.63040962  2.43745032 \n",
       "\n",
       "Number of Observations: 192\n",
       "Number of Groups: \n",
       "         Year Rep %in% Year \n",
       "            2            16 "
      ]
     },
     "metadata": {},
     "output_type": "display_data"
    }
   ],
   "source": [
    "fit.nlme.red.summary <- summary(fit.nlme.red)\n",
    "fit.nlme.red.summary"
   ]
  },
  {
   "cell_type": "markdown",
   "id": "c196ca10-48aa-4b55-9403-a2547b9fceae",
   "metadata": {},
   "source": [
    "### Inspect random effects"
   ]
  },
  {
   "cell_type": "code",
   "execution_count": 38,
   "id": "5c02346b-7b26-4734-a2b9-f34629d5ed60",
   "metadata": {
    "vscode": {
     "languageId": "r"
    }
   },
   "outputs": [
    {
     "data": {
      "image/png": "[encoded data removed]",
      "text/plain": [
       "plot without title"
      ]
     },
     "metadata": {
      "image/png": {
       "height": 360,
       "width": 360
      }
     },
     "output_type": "display_data"
    },
    {
     "data": {
      "image/png": "[encoded data removed]",
      "text/plain": [
       "plot without title"
      ]
     },
     "metadata": {
      "image/png": {
       "height": 360,
       "width": 360
      }
     },
     "output_type": "display_data"
    }
   ],
   "source": [
    "plot(random.effects(fit.nlme.red,level = 1))\n",
    "plot(random.effects(fit.nlme.red,level = 2))"
   ]
  },
  {
   "cell_type": "code",
   "execution_count": 39,
   "id": "3247fdb2",
   "metadata": {
    "vscode": {
     "languageId": "r"
    }
   },
   "outputs": [
    {
     "data": {
      "text/plain": [
       "Nonlinear mixed-effects model fit by maximum likelihood\n",
       "  Model: yield ~ yield_nresp(N_Rate_num, a, b, ymax) \n",
       "  Data: df \n",
       "       AIC      BIC    logLik\n",
       "  560.6401 609.5026 -265.3201\n",
       "\n",
       "Random effects:\n",
       " Formula: list(a ~ 1, b ~ 1, ymax ~ 1)\n",
       " Level: Year\n",
       " Structure: Diagonal\n",
       "        a.(Intercept) b.(Intercept) ymax.(Intercept)\n",
       "StdDev:  3.431565e-05  5.798935e-07     5.344663e-05\n",
       "\n",
       " Formula: list(a ~ 1, b ~ 1, ymax ~ 1)\n",
       " Level: Rep %in% Year\n",
       " Structure: Diagonal\n",
       "        a.(Intercept) b.(Intercept) ymax.(Intercept)  Residual\n",
       "StdDev:     0.6902541    0.01065945         0.980828 0.8024261\n",
       "\n",
       "Fixed effects:  list(a ~ Microbe * Year, b + ymax ~ Year) \n",
       "                               Value Std.Error  DF  t-value p-value\n",
       "a.(Intercept)               7.710065 0.3494249 169 22.06502  0.0000\n",
       "a.MicrobePROVEN40           0.989536 0.2671675 169  3.70381  0.0003\n",
       "a.Year2022                 -0.059107 0.4914266 169 -0.12028  0.9044\n",
       "a.MicrobePROVEN40:Year2022 -0.700111 0.3687965 169 -1.89837  0.0594\n",
       "b.(Intercept)               0.072169 0.0051483 169 14.01797  0.0000\n",
       "b.Year2022                 -0.017185 0.0071353 169 -2.40839  0.0171\n",
       "ymax.(Intercept)           17.447611 0.4028524 169 43.31018  0.0000\n",
       "ymax.Year2022              -1.899863 0.5744019 169 -3.30755  0.0011\n",
       " Correlation: \n",
       "                           a.(In) a.McPROVEN40 a.Y202 a.MPROVEN40: b.(In)\n",
       "a.MicrobePROVEN40          -0.400                                        \n",
       "a.Year2022                 -0.711  0.285                                 \n",
       "a.MicrobePROVEN40:Year2022  0.290 -0.724       -0.388                    \n",
       "b.(Intercept)              -0.285  0.071        0.202 -0.052             \n",
       "b.Year2022                  0.205 -0.051       -0.278  0.049       -0.722\n",
       "ymax.(Intercept)            0.039 -0.030       -0.028  0.021       -0.130\n",
       "ymax.Year2022              -0.027  0.021        0.039 -0.021        0.091\n",
       "                           b.Y202 ym.(I)\n",
       "a.MicrobePROVEN40                       \n",
       "a.Year2022                              \n",
       "a.MicrobePROVEN40:Year2022              \n",
       "b.(Intercept)                           \n",
       "b.Year2022                              \n",
       "ymax.(Intercept)            0.094       \n",
       "ymax.Year2022              -0.138 -0.701\n",
       "\n",
       "Standardized Within-Group Residuals:\n",
       "        Min          Q1         Med          Q3         Max \n",
       "-2.11312760 -0.59855069  0.05351497  0.63040962  2.43745032 \n",
       "\n",
       "Number of Observations: 192\n",
       "Number of Groups: \n",
       "         Year Rep %in% Year \n",
       "            2            16 "
      ]
     },
     "metadata": {},
     "output_type": "display_data"
    }
   ],
   "source": [
    "fit.nlme.red.summary"
   ]
  },
  {
   "cell_type": "markdown",
   "id": "8641570e-3354-43c3-b062-6f95d175b67e",
   "metadata": {},
   "source": [
    "#### Inspect fixed effects "
   ]
  },
  {
   "cell_type": "code",
   "execution_count": 40,
   "id": "be1864f0-cebe-4ada-b548-5555651cca22",
   "metadata": {
    "vscode": {
     "languageId": "r"
    }
   },
   "outputs": [
    {
     "data": {
      "text/html": [
       "<table class=\"dataframe\">\n",
       "<caption>A matrix: 8 × 5 of type dbl</caption>\n",
       "<thead>\n",
       "\t<tr><th></th><th scope=col>Value</th><th scope=col>Std.Error</th><th scope=col>DF</th><th scope=col>t-value</th><th scope=col>p-value</th></tr>\n",
       "</thead>\n",
       "<tbody>\n",
       "\t<tr><th scope=row>a.(Intercept)</th><td> 7.71006531</td><td>0.349424879</td><td>169</td><td>22.0650154</td><td>1.221210e-51</td></tr>\n",
       "\t<tr><th scope=row>a.MicrobePROVEN40</th><td> 0.98953621</td><td>0.267167462</td><td>169</td><td> 3.7038051</td><td>2.873508e-04</td></tr>\n",
       "\t<tr><th scope=row>a.Year2022</th><td>-0.05910676</td><td>0.491426631</td><td>169</td><td>-0.1202759</td><td>9.044075e-01</td></tr>\n",
       "\t<tr><th scope=row>a.MicrobePROVEN40:Year2022</th><td>-0.70011121</td><td>0.368796541</td><td>169</td><td>-1.8983671</td><td>5.935217e-02</td></tr>\n",
       "\t<tr><th scope=row>b.(Intercept)</th><td> 0.07216871</td><td>0.005148300</td><td>169</td><td>14.0179671</td><td>4.093157e-30</td></tr>\n",
       "\t<tr><th scope=row>b.Year2022</th><td>-0.01718468</td><td>0.007135337</td><td>169</td><td>-2.4083910</td><td>1.709856e-02</td></tr>\n",
       "\t<tr><th scope=row>ymax.(Intercept)</th><td>17.44761100</td><td>0.402852430</td><td>169</td><td>43.3101794</td><td>2.054935e-93</td></tr>\n",
       "\t<tr><th scope=row>ymax.Year2022</th><td>-1.89986284</td><td>0.574401893</td><td>169</td><td>-3.3075498</td><td>1.149860e-03</td></tr>\n",
       "</tbody>\n",
       "</table>\n"
      ],
      "text/latex": [
       "A matrix: 8 × 5 of type dbl\n",
       "\\begin{tabular}{r|lllll}\n",
       "  & Value & Std.Error & DF & t-value & p-value\\\\\n",
       "\\hline\n",
       "\ta.(Intercept) &  7.71006531 & 0.349424879 & 169 & 22.0650154 & 1.221210e-51\\\\\n",
       "\ta.MicrobePROVEN40 &  0.98953621 & 0.267167462 & 169 &  3.7038051 & 2.873508e-04\\\\\n",
       "\ta.Year2022 & -0.05910676 & 0.491426631 & 169 & -0.1202759 & 9.044075e-01\\\\\n",
       "\ta.MicrobePROVEN40:Year2022 & -0.70011121 & 0.368796541 & 169 & -1.8983671 & 5.935217e-02\\\\\n",
       "\tb.(Intercept) &  0.07216871 & 0.005148300 & 169 & 14.0179671 & 4.093157e-30\\\\\n",
       "\tb.Year2022 & -0.01718468 & 0.007135337 & 169 & -2.4083910 & 1.709856e-02\\\\\n",
       "\tymax.(Intercept) & 17.44761100 & 0.402852430 & 169 & 43.3101794 & 2.054935e-93\\\\\n",
       "\tymax.Year2022 & -1.89986284 & 0.574401893 & 169 & -3.3075498 & 1.149860e-03\\\\\n",
       "\\end{tabular}\n"
      ],
      "text/markdown": [
       "\n",
       "A matrix: 8 × 5 of type dbl\n",
       "\n",
       "| <!--/--> | Value | Std.Error | DF | t-value | p-value |\n",
       "|---|---|---|---|---|---|\n",
       "| a.(Intercept) |  7.71006531 | 0.349424879 | 169 | 22.0650154 | 1.221210e-51 |\n",
       "| a.MicrobePROVEN40 |  0.98953621 | 0.267167462 | 169 |  3.7038051 | 2.873508e-04 |\n",
       "| a.Year2022 | -0.05910676 | 0.491426631 | 169 | -0.1202759 | 9.044075e-01 |\n",
       "| a.MicrobePROVEN40:Year2022 | -0.70011121 | 0.368796541 | 169 | -1.8983671 | 5.935217e-02 |\n",
       "| b.(Intercept) |  0.07216871 | 0.005148300 | 169 | 14.0179671 | 4.093157e-30 |\n",
       "| b.Year2022 | -0.01718468 | 0.007135337 | 169 | -2.4083910 | 1.709856e-02 |\n",
       "| ymax.(Intercept) | 17.44761100 | 0.402852430 | 169 | 43.3101794 | 2.054935e-93 |\n",
       "| ymax.Year2022 | -1.89986284 | 0.574401893 | 169 | -3.3075498 | 1.149860e-03 |\n",
       "\n"
      ],
      "text/plain": [
       "                           Value       Std.Error   DF  t-value    p-value     \n",
       "a.(Intercept)               7.71006531 0.349424879 169 22.0650154 1.221210e-51\n",
       "a.MicrobePROVEN40           0.98953621 0.267167462 169  3.7038051 2.873508e-04\n",
       "a.Year2022                 -0.05910676 0.491426631 169 -0.1202759 9.044075e-01\n",
       "a.MicrobePROVEN40:Year2022 -0.70011121 0.368796541 169 -1.8983671 5.935217e-02\n",
       "b.(Intercept)               0.07216871 0.005148300 169 14.0179671 4.093157e-30\n",
       "b.Year2022                 -0.01718468 0.007135337 169 -2.4083910 1.709856e-02\n",
       "ymax.(Intercept)           17.44761100 0.402852430 169 43.3101794 2.054935e-93\n",
       "ymax.Year2022              -1.89986284 0.574401893 169 -3.3075498 1.149860e-03"
      ]
     },
     "metadata": {},
     "output_type": "display_data"
    }
   ],
   "source": [
    "fit.nlme.red.summary <- summary(fit.nlme.red)\n",
    "fit.nlme.red.summary$tTable"
   ]
  },
  {
   "cell_type": "markdown",
   "id": "4c5682c4-c303-4375-8b9a-37589c6efeaf",
   "metadata": {},
   "source": [
    "Of interest to us is to check how the treatments affected each parameter. The visualization below shows estimated effect sizes with confidence intervals."
   ]
  },
  {
   "cell_type": "code",
   "execution_count": 41,
   "id": "0ea10743-ba3a-4df1-885a-0f8574654a1d",
   "metadata": {
    "vscode": {
     "languageId": "r"
    }
   },
   "outputs": [
    {
     "data": {
      "text/html": [
       "<table class=\"dataframe\">\n",
       "<caption>A data.frame: 5 × 10</caption>\n",
       "<thead>\n",
       "\t<tr><th></th><th scope=col>lower</th><th scope=col>est.</th><th scope=col>upper</th><th scope=col>param</th><th scope=col>term</th><th scope=col>Value</th><th scope=col>Std.Error</th><th scope=col>DF</th><th scope=col>t.value</th><th scope=col>p.value</th></tr>\n",
       "\t<tr><th></th><th scope=col>&lt;dbl&gt;</th><th scope=col>&lt;dbl&gt;</th><th scope=col>&lt;dbl&gt;</th><th scope=col>&lt;chr&gt;</th><th scope=col>&lt;chr&gt;</th><th scope=col>&lt;dbl&gt;</th><th scope=col>&lt;dbl&gt;</th><th scope=col>&lt;dbl&gt;</th><th scope=col>&lt;dbl&gt;</th><th scope=col>&lt;dbl&gt;</th></tr>\n",
       "</thead>\n",
       "<tbody>\n",
       "\t<tr><th scope=row>a.MicrobePROVEN40</th><td> 0.47322553</td><td> 0.98953621</td><td> 1.505846890</td><td>a   </td><td>MicrobePROVEN40         </td><td> 0.98953621</td><td>0.267167462</td><td>169</td><td> 3.7038051</td><td>0.0002873508</td></tr>\n",
       "\t<tr><th scope=row>a.Year2022</th><td>-1.00880631</td><td>-0.05910676</td><td> 0.890592788</td><td>a   </td><td>Year2022                </td><td>-0.05910676</td><td>0.491426631</td><td>169</td><td>-0.1202759</td><td>0.9044074955</td></tr>\n",
       "\t<tr><th scope=row>a.MicrobePROVEN40:Year2022</th><td>-1.41282372</td><td>-0.70011121</td><td> 0.012601302</td><td>a   </td><td>MicrobePROVEN40:Year2022</td><td>-0.70011121</td><td>0.368796541</td><td>169</td><td>-1.8983671</td><td>0.0593521719</td></tr>\n",
       "\t<tr><th scope=row>b.Year2022</th><td>-0.03097398</td><td>-0.01718468</td><td>-0.003395388</td><td>b   </td><td>Year2022                </td><td>-0.01718468</td><td>0.007135337</td><td>169</td><td>-2.4083910</td><td>0.0170985603</td></tr>\n",
       "\t<tr><th scope=row>ymax.Year2022</th><td>-3.00991506</td><td>-1.89986284</td><td>-0.789810630</td><td>ymax</td><td>Year2022                </td><td>-1.89986284</td><td>0.574401893</td><td>169</td><td>-3.3075498</td><td>0.0011498605</td></tr>\n",
       "</tbody>\n",
       "</table>\n"
      ],
      "text/latex": [
       "A data.frame: 5 × 10\n",
       "\\begin{tabular}{r|llllllllll}\n",
       "  & lower & est. & upper & param & term & Value & Std.Error & DF & t.value & p.value\\\\\n",
       "  & <dbl> & <dbl> & <dbl> & <chr> & <chr> & <dbl> & <dbl> & <dbl> & <dbl> & <dbl>\\\\\n",
       "\\hline\n",
       "\ta.MicrobePROVEN40 &  0.47322553 &  0.98953621 &  1.505846890 & a    & MicrobePROVEN40          &  0.98953621 & 0.267167462 & 169 &  3.7038051 & 0.0002873508\\\\\n",
       "\ta.Year2022 & -1.00880631 & -0.05910676 &  0.890592788 & a    & Year2022                 & -0.05910676 & 0.491426631 & 169 & -0.1202759 & 0.9044074955\\\\\n",
       "\ta.MicrobePROVEN40:Year2022 & -1.41282372 & -0.70011121 &  0.012601302 & a    & MicrobePROVEN40:Year2022 & -0.70011121 & 0.368796541 & 169 & -1.8983671 & 0.0593521719\\\\\n",
       "\tb.Year2022 & -0.03097398 & -0.01718468 & -0.003395388 & b    & Year2022                 & -0.01718468 & 0.007135337 & 169 & -2.4083910 & 0.0170985603\\\\\n",
       "\tymax.Year2022 & -3.00991506 & -1.89986284 & -0.789810630 & ymax & Year2022                 & -1.89986284 & 0.574401893 & 169 & -3.3075498 & 0.0011498605\\\\\n",
       "\\end{tabular}\n"
      ],
      "text/markdown": [
       "\n",
       "A data.frame: 5 × 10\n",
       "\n",
       "| <!--/--> | lower &lt;dbl&gt; | est. &lt;dbl&gt; | upper &lt;dbl&gt; | param &lt;chr&gt; | term &lt;chr&gt; | Value &lt;dbl&gt; | Std.Error &lt;dbl&gt; | DF &lt;dbl&gt; | t.value &lt;dbl&gt; | p.value &lt;dbl&gt; |\n",
       "|---|---|---|---|---|---|---|---|---|---|---|\n",
       "| a.MicrobePROVEN40 |  0.47322553 |  0.98953621 |  1.505846890 | a    | MicrobePROVEN40          |  0.98953621 | 0.267167462 | 169 |  3.7038051 | 0.0002873508 |\n",
       "| a.Year2022 | -1.00880631 | -0.05910676 |  0.890592788 | a    | Year2022                 | -0.05910676 | 0.491426631 | 169 | -0.1202759 | 0.9044074955 |\n",
       "| a.MicrobePROVEN40:Year2022 | -1.41282372 | -0.70011121 |  0.012601302 | a    | MicrobePROVEN40:Year2022 | -0.70011121 | 0.368796541 | 169 | -1.8983671 | 0.0593521719 |\n",
       "| b.Year2022 | -0.03097398 | -0.01718468 | -0.003395388 | b    | Year2022                 | -0.01718468 | 0.007135337 | 169 | -2.4083910 | 0.0170985603 |\n",
       "| ymax.Year2022 | -3.00991506 | -1.89986284 | -0.789810630 | ymax | Year2022                 | -1.89986284 | 0.574401893 | 169 | -3.3075498 | 0.0011498605 |\n",
       "\n"
      ],
      "text/plain": [
       "                           lower       est.        upper        param\n",
       "a.MicrobePROVEN40           0.47322553  0.98953621  1.505846890 a    \n",
       "a.Year2022                 -1.00880631 -0.05910676  0.890592788 a    \n",
       "a.MicrobePROVEN40:Year2022 -1.41282372 -0.70011121  0.012601302 a    \n",
       "b.Year2022                 -0.03097398 -0.01718468 -0.003395388 b    \n",
       "ymax.Year2022              -3.00991506 -1.89986284 -0.789810630 ymax \n",
       "                           term                     Value       Std.Error   DF \n",
       "a.MicrobePROVEN40          MicrobePROVEN40           0.98953621 0.267167462 169\n",
       "a.Year2022                 Year2022                 -0.05910676 0.491426631 169\n",
       "a.MicrobePROVEN40:Year2022 MicrobePROVEN40:Year2022 -0.70011121 0.368796541 169\n",
       "b.Year2022                 Year2022                 -0.01718468 0.007135337 169\n",
       "ymax.Year2022              Year2022                 -1.89986284 0.574401893 169\n",
       "                           t.value    p.value     \n",
       "a.MicrobePROVEN40           3.7038051 0.0002873508\n",
       "a.Year2022                 -0.1202759 0.9044074955\n",
       "a.MicrobePROVEN40:Year2022 -1.8983671 0.0593521719\n",
       "b.Year2022                 -2.4083910 0.0170985603\n",
       "ymax.Year2022              -3.3075498 0.0011498605"
      ]
     },
     "metadata": {},
     "output_type": "display_data"
    },
    {
     "data": {
      "image/png": "[encoded data removed]",
      "text/plain": [
       "plot without title"
      ]
     },
     "metadata": {
      "image/png": {
       "height": 360,
       "width": 420
      }
     },
     "output_type": "display_data"
    }
   ],
   "source": [
    "options(repr.plot.width=7, repr.plot.height=6)\n",
    "\n",
    "fit.nlme.red_effects <- \n",
    "intervals(fit.nlme.red,level = 1 - alpha_level,which = \"fixed\")$fixed %>% \n",
    "as.data.frame() %>% \n",
    "mutate(term = row.names(.)) %>% \n",
    "bind_cols(fit.nlme.red.summary$tTable %>% data.frame()) %>% \n",
    "separate(term, c(\"param\",\"term\"), sep = \"\\\\.\") %>%\n",
    "filter(!grepl(\"Int\",term))# %>%\n",
    "\n",
    "fit.nlme.red_effects \n",
    "\n",
    "fit.nlme.red_effects %>% \n",
    "ggplot(aes(est., term, colour = p.value < alpha_level)) +\n",
    "geom_vline(xintercept = 0, colour = \"gray50\") + \n",
    "geom_errorbarh(aes(xmin = lower, xmax = upper), height = 0.1) + \n",
    "geom_point(size = 3) +\n",
    "geom_text(aes(label = paste0(\"p = \", signif(p.value,2))),nudge_y = 0.3) + \n",
    "facet_wrap(~param,ncol = 1, scales = \"free\") + \n",
    "labs(y = \"\", x = \"Effect size\", title = \"Reduced model\", colour = paste0(\"p < \",alpha_level)) + \n",
    "theme(legend.position = \"top\")"
   ]
  },
  {
   "cell_type": "markdown",
   "id": "f0213f01-6b32-4c8c-b055-af0966f30453",
   "metadata": {},
   "source": [
    "Overall reading of these results:\n",
    "\n",
    "- Strong evidence that `ymax` was higher in 2021 overall\n",
    "- Convicing evidence that `Microbe` increased `a` across both years\n",
    "- Marginal evidence that `Microbe` increased `a` less in 2022\n",
    "\n",
    "## Plotting response curves\n",
    "\n",
    "In order to get a range of the uncertanty regarding the estimated response curves, we perform a bootstrapping approach that resamples the residuals from the original model fit."
   ]
  },
  {
   "cell_type": "code",
   "execution_count": 42,
   "id": "b815a28a",
   "metadata": {
    "vscode": {
     "languageId": "r"
    }
   },
   "outputs": [],
   "source": [
    "if(use_cached_boostrapping){\n",
    "\n",
    "fit.nlme.red.boot_coeffs <- read.csv(\"datasets/reduced_model_boostrapped_coeffs_resid_2.csv\")\n",
    "\n",
    "} else {\n",
    "  \n",
    "  resid <- residuals(fit.nlme.red)\n",
    "\n",
    "  fit.nlme.red.boot_coeffs <- data.frame(t(fixef(fit.nlme.red))) %>% mutate(n = 0)\n",
    "\n",
    "  grps <- unique(df$grp)\n",
    "\n",
    "  for(i in (1:n_boot_sims)){\n",
    "      \n",
    "    newdata <- df %>% mutate(yield = predict(fit.nlme.red) + sample(resid,size = length(resid),replace = TRUE))\n",
    "    \n",
    "    fit.nlme.red.boot <- try(\n",
    "        update(fit.nlme.red,\n",
    "              data = newdata,\n",
    "              random = list(Year = pdDiag(a + b + ymax ~ 1), \n",
    "                            Rep = pdDiag(a + b + ymax~ 1)))\n",
    "    )\n",
    "      \n",
    "      if(class(fit.nlme.red.boot)[1] != 'try-error'){\n",
    "          \n",
    "          fit.nlme.red.boot_coeffs <- data.frame(t(fixef(fit.nlme.red.boot))) %>% \n",
    "          mutate(n = i) %>% \n",
    "          bind_rows(fit.nlme.red.boot_coeffs)\n",
    "      \n",
    "      }\n",
    "\n",
    "  }\n",
    "\n",
    "  write_csv(fit.nlme.red.boot_coeffs,\"datasets/reduced_model_boostrapped_coeffs_resid_2.csv\")\n",
    "\n",
    "}\n",
    "\n"
   ]
  },
  {
   "cell_type": "markdown",
   "id": "20094d3b-80c5-40a1-b56e-91816a2c84a3",
   "metadata": {},
   "source": [
    "Extract estimated parameters to calculate response curves."
   ]
  },
  {
   "cell_type": "code",
   "execution_count": 43,
   "id": "30cafb46-c8d3-421e-b6cf-24ee1075a964",
   "metadata": {
    "vscode": {
     "languageId": "r"
    }
   },
   "outputs": [
    {
     "data": {
      "text/html": [
       "<table class=\"dataframe\">\n",
       "<caption>A tibble: 6 × 16</caption>\n",
       "<thead>\n",
       "\t<tr><th scope=col>a..Intercept.</th><th scope=col>a.MicrobePROVEN40</th><th scope=col>a.Year2022</th><th scope=col>a.MicrobePROVEN40.Year2022</th><th scope=col>b..Intercept.</th><th scope=col>b.Year2022</th><th scope=col>ymax..Intercept.</th><th scope=col>ymax.Year2022</th><th scope=col>n</th><th scope=col>N_Rate_num</th><th scope=col>Year</th><th scope=col>Microbe</th><th scope=col>a</th><th scope=col>b</th><th scope=col>ymax</th><th scope=col>yield</th></tr>\n",
       "\t<tr><th scope=col>&lt;dbl&gt;</th><th scope=col>&lt;dbl&gt;</th><th scope=col>&lt;dbl&gt;</th><th scope=col>&lt;dbl&gt;</th><th scope=col>&lt;dbl&gt;</th><th scope=col>&lt;dbl&gt;</th><th scope=col>&lt;dbl&gt;</th><th scope=col>&lt;dbl&gt;</th><th scope=col>&lt;int&gt;</th><th scope=col>&lt;int&gt;</th><th scope=col>&lt;fct&gt;</th><th scope=col>&lt;fct&gt;</th><th scope=col>&lt;dbl&gt;</th><th scope=col>&lt;dbl&gt;</th><th scope=col>&lt;dbl&gt;</th><th scope=col>&lt;dbl&gt;</th></tr>\n",
       "</thead>\n",
       "<tbody>\n",
       "\t<tr><td>7.429443</td><td>1.118266</td><td>0.6699091</td><td>-0.9253089</td><td>0.07333455</td><td>-0.02055335</td><td>17.48868</td><td>-1.701607</td><td>300</td><td>0</td><td>2021</td><td>PROVEN40</td><td>8.547708</td><td>0.07333455</td><td>17.48868</td><td>8.547708</td></tr>\n",
       "\t<tr><td>7.429443</td><td>1.118266</td><td>0.6699091</td><td>-0.9253089</td><td>0.07333455</td><td>-0.02055335</td><td>17.48868</td><td>-1.701607</td><td>300</td><td>0</td><td>2021</td><td>UTC     </td><td>7.429443</td><td>0.07333455</td><td>17.48868</td><td>7.429443</td></tr>\n",
       "\t<tr><td>7.429443</td><td>1.118266</td><td>0.6699091</td><td>-0.9253089</td><td>0.07333455</td><td>-0.02055335</td><td>17.48868</td><td>-1.701607</td><td>300</td><td>0</td><td>2022</td><td>PROVEN40</td><td>8.292309</td><td>0.05278120</td><td>15.78707</td><td>8.292309</td></tr>\n",
       "\t<tr><td>7.429443</td><td>1.118266</td><td>0.6699091</td><td>-0.9253089</td><td>0.07333455</td><td>-0.02055335</td><td>17.48868</td><td>-1.701607</td><td>300</td><td>0</td><td>2022</td><td>UTC     </td><td>8.099352</td><td>0.05278120</td><td>15.78707</td><td>8.099352</td></tr>\n",
       "\t<tr><td>7.429443</td><td>1.118266</td><td>0.6699091</td><td>-0.9253089</td><td>0.07333455</td><td>-0.02055335</td><td>17.48868</td><td>-1.701607</td><td>300</td><td>1</td><td>2021</td><td>PROVEN40</td><td>8.547708</td><td>0.07333455</td><td>17.48868</td><td>8.620892</td></tr>\n",
       "\t<tr><td>7.429443</td><td>1.118266</td><td>0.6699091</td><td>-0.9253089</td><td>0.07333455</td><td>-0.02055335</td><td>17.48868</td><td>-1.701607</td><td>300</td><td>1</td><td>2021</td><td>UTC     </td><td>7.429443</td><td>0.07333455</td><td>17.48868</td><td>7.502644</td></tr>\n",
       "</tbody>\n",
       "</table>\n"
      ],
      "text/latex": [
       "A tibble: 6 × 16\n",
       "\\begin{tabular}{llllllllllllllll}\n",
       " a..Intercept. & a.MicrobePROVEN40 & a.Year2022 & a.MicrobePROVEN40.Year2022 & b..Intercept. & b.Year2022 & ymax..Intercept. & ymax.Year2022 & n & N\\_Rate\\_num & Year & Microbe & a & b & ymax & yield\\\\\n",
       " <dbl> & <dbl> & <dbl> & <dbl> & <dbl> & <dbl> & <dbl> & <dbl> & <int> & <int> & <fct> & <fct> & <dbl> & <dbl> & <dbl> & <dbl>\\\\\n",
       "\\hline\n",
       "\t 7.429443 & 1.118266 & 0.6699091 & -0.9253089 & 0.07333455 & -0.02055335 & 17.48868 & -1.701607 & 300 & 0 & 2021 & PROVEN40 & 8.547708 & 0.07333455 & 17.48868 & 8.547708\\\\\n",
       "\t 7.429443 & 1.118266 & 0.6699091 & -0.9253089 & 0.07333455 & -0.02055335 & 17.48868 & -1.701607 & 300 & 0 & 2021 & UTC      & 7.429443 & 0.07333455 & 17.48868 & 7.429443\\\\\n",
       "\t 7.429443 & 1.118266 & 0.6699091 & -0.9253089 & 0.07333455 & -0.02055335 & 17.48868 & -1.701607 & 300 & 0 & 2022 & PROVEN40 & 8.292309 & 0.05278120 & 15.78707 & 8.292309\\\\\n",
       "\t 7.429443 & 1.118266 & 0.6699091 & -0.9253089 & 0.07333455 & -0.02055335 & 17.48868 & -1.701607 & 300 & 0 & 2022 & UTC      & 8.099352 & 0.05278120 & 15.78707 & 8.099352\\\\\n",
       "\t 7.429443 & 1.118266 & 0.6699091 & -0.9253089 & 0.07333455 & -0.02055335 & 17.48868 & -1.701607 & 300 & 1 & 2021 & PROVEN40 & 8.547708 & 0.07333455 & 17.48868 & 8.620892\\\\\n",
       "\t 7.429443 & 1.118266 & 0.6699091 & -0.9253089 & 0.07333455 & -0.02055335 & 17.48868 & -1.701607 & 300 & 1 & 2021 & UTC      & 7.429443 & 0.07333455 & 17.48868 & 7.502644\\\\\n",
       "\\end{tabular}\n"
      ],
      "text/markdown": [
       "\n",
       "A tibble: 6 × 16\n",
       "\n",
       "| a..Intercept. &lt;dbl&gt; | a.MicrobePROVEN40 &lt;dbl&gt; | a.Year2022 &lt;dbl&gt; | a.MicrobePROVEN40.Year2022 &lt;dbl&gt; | b..Intercept. &lt;dbl&gt; | b.Year2022 &lt;dbl&gt; | ymax..Intercept. &lt;dbl&gt; | ymax.Year2022 &lt;dbl&gt; | n &lt;int&gt; | N_Rate_num &lt;int&gt; | Year &lt;fct&gt; | Microbe &lt;fct&gt; | a &lt;dbl&gt; | b &lt;dbl&gt; | ymax &lt;dbl&gt; | yield &lt;dbl&gt; |\n",
       "|---|---|---|---|---|---|---|---|---|---|---|---|---|---|---|---|\n",
       "| 7.429443 | 1.118266 | 0.6699091 | -0.9253089 | 0.07333455 | -0.02055335 | 17.48868 | -1.701607 | 300 | 0 | 2021 | PROVEN40 | 8.547708 | 0.07333455 | 17.48868 | 8.547708 |\n",
       "| 7.429443 | 1.118266 | 0.6699091 | -0.9253089 | 0.07333455 | -0.02055335 | 17.48868 | -1.701607 | 300 | 0 | 2021 | UTC      | 7.429443 | 0.07333455 | 17.48868 | 7.429443 |\n",
       "| 7.429443 | 1.118266 | 0.6699091 | -0.9253089 | 0.07333455 | -0.02055335 | 17.48868 | -1.701607 | 300 | 0 | 2022 | PROVEN40 | 8.292309 | 0.05278120 | 15.78707 | 8.292309 |\n",
       "| 7.429443 | 1.118266 | 0.6699091 | -0.9253089 | 0.07333455 | -0.02055335 | 17.48868 | -1.701607 | 300 | 0 | 2022 | UTC      | 8.099352 | 0.05278120 | 15.78707 | 8.099352 |\n",
       "| 7.429443 | 1.118266 | 0.6699091 | -0.9253089 | 0.07333455 | -0.02055335 | 17.48868 | -1.701607 | 300 | 1 | 2021 | PROVEN40 | 8.547708 | 0.07333455 | 17.48868 | 8.620892 |\n",
       "| 7.429443 | 1.118266 | 0.6699091 | -0.9253089 | 0.07333455 | -0.02055335 | 17.48868 | -1.701607 | 300 | 1 | 2021 | UTC      | 7.429443 | 0.07333455 | 17.48868 | 7.502644 |\n",
       "\n"
      ],
      "text/plain": [
       "  a..Intercept. a.MicrobePROVEN40 a.Year2022 a.MicrobePROVEN40.Year2022\n",
       "1 7.429443      1.118266          0.6699091  -0.9253089                \n",
       "2 7.429443      1.118266          0.6699091  -0.9253089                \n",
       "3 7.429443      1.118266          0.6699091  -0.9253089                \n",
       "4 7.429443      1.118266          0.6699091  -0.9253089                \n",
       "5 7.429443      1.118266          0.6699091  -0.9253089                \n",
       "6 7.429443      1.118266          0.6699091  -0.9253089                \n",
       "  b..Intercept. b.Year2022  ymax..Intercept. ymax.Year2022 n   N_Rate_num Year\n",
       "1 0.07333455    -0.02055335 17.48868         -1.701607     300 0          2021\n",
       "2 0.07333455    -0.02055335 17.48868         -1.701607     300 0          2021\n",
       "3 0.07333455    -0.02055335 17.48868         -1.701607     300 0          2022\n",
       "4 0.07333455    -0.02055335 17.48868         -1.701607     300 0          2022\n",
       "5 0.07333455    -0.02055335 17.48868         -1.701607     300 1          2021\n",
       "6 0.07333455    -0.02055335 17.48868         -1.701607     300 1          2021\n",
       "  Microbe  a        b          ymax     yield   \n",
       "1 PROVEN40 8.547708 0.07333455 17.48868 8.547708\n",
       "2 UTC      7.429443 0.07333455 17.48868 7.429443\n",
       "3 PROVEN40 8.292309 0.05278120 15.78707 8.292309\n",
       "4 UTC      8.099352 0.05278120 15.78707 8.099352\n",
       "5 PROVEN40 8.547708 0.07333455 17.48868 8.620892\n",
       "6 UTC      7.429443 0.07333455 17.48868 7.502644"
      ]
     },
     "metadata": {},
     "output_type": "display_data"
    }
   ],
   "source": [
    "fit.nlme.red.boot_yield <- fit.nlme.red.boot_coeffs %>% \n",
    "rowwise() %>% \n",
    "mutate(df = list(expand_grid(N_Rate_num = 0:(300*1.12),\n",
    "            Year = unique(df$Year),\n",
    "            Microbe = unique(df$Microbe)))) %>% \n",
    "unnest(df) %>%\n",
    "ungroup() %>% \n",
    "mutate(a = a..Intercept. + (Microbe==\"PROVEN40\")*a.MicrobePROVEN40 + (Year==2022)*a.Year2022 + (Microbe==\"PROVEN40\")*(Year==2022)*a.MicrobePROVEN40.Year2022,\n",
    "       b = b..Intercept. + (Year==2022)*b.Year2022,\n",
    "       ymax = ymax..Intercept. + (Year==2022)*ymax.Year2022, \n",
    "       yield = yield_nresp(N_Rate_num,a,b,ymax))\n",
    "\n",
    "head(fit.nlme.red.boot_yield)"
   ]
  },
  {
   "cell_type": "code",
   "execution_count": 44,
   "id": "291894cc-8bf9-462f-b366-0ba439a5859c",
   "metadata": {
    "vscode": {
     "languageId": "r"
    }
   },
   "outputs": [
    {
     "name": "stderr",
     "output_type": "stream",
     "text": [
      "Warning message in stat_summary(data = df, aes(N_Rate_num, yield, shape = Microbe, :\n",
      "\"\u001b[1m\u001b[22mIgnoring unknown aesthetics: \u001b[32mshape\u001b[39m and \u001b[32mfill\u001b[39m\"\n"
     ]
    },
    {
     "data": {
      "image/png": "[encoded data removed]",
      "text/plain": [
       "plot without title"
      ]
     },
     "metadata": {
      "image/png": {
       "height": 300,
       "width": 480
      }
     },
     "output_type": "display_data"
    }
   ],
   "source": [
    "options(repr.plot.width=8, repr.plot.height=5)\n",
    "\n",
    "ggplot() + \n",
    "stat_summary(data = fit.nlme.red.boot_yield %>% filter(N_Rate_num <= max(df$N_Rate_num)),\n",
    "             aes(N_Rate_num,yield,fill = Microbe),\n",
    "             geom = \"ribbon\",\n",
    "             fun.min = function(x) quantile(x,alpha_level),\n",
    "             fun.max = function(x) quantile(x,1 - alpha_level),\n",
    "             alpha = 0.3) + \n",
    "geom_line(data = fit.nlme.red.boot_yield %>% filter(n == 0, N_Rate_num <= max(df$N_Rate_num)), \n",
    "          aes(N_Rate_num, yield, colour = Microbe),\n",
    "          lwd = 1) + \n",
    "stat_summary(data = df,\n",
    "             aes(N_Rate_num,yield,shape = Microbe, fill = Microbe),\n",
    "             geom = \"errorbar\",\n",
    "             fun.min = function(x) mean(x) - sd(x)/sqrt(length(x)),\n",
    "             fun.max = function(x) mean(x) + sd(x)/sqrt(length(x)), width = 1) + \n",
    "stat_summary(data = df,\n",
    "             aes(N_Rate_num,yield,shape = Microbe, fill = Microbe),\n",
    "             geom = \"point\",fun = \"mean\", size = 3, alpha = 0.9, colour = \"black\") + \n",
    "facet_wrap(~Year) + \n",
    "scale_shape_manual(values = 21:22) + \n",
    "scale_fill_manual(values = myColorPalette) + \n",
    "scale_colour_manual(values = myColorPalette) + \n",
    "labs(y = \"Yield (Mg/ha)\", x = \"N fertilzer rate (kg N/ha)\", \n",
    "     colour = \"Treatment:\", shape = \"Treatment:\",\n",
    "     fill = \"Treatment:\") + \n",
    "theme(legend.position = \"top\")"
   ]
  },
  {
   "cell_type": "markdown",
   "id": "f525118c-661b-49f0-aad4-5f4f0ee53242",
   "metadata": {},
   "source": [
    "Another way of visualizing the response is by looking at the differences between the two lines."
   ]
  },
  {
   "cell_type": "code",
   "execution_count": 45,
   "id": "6d2b58b2-66af-4727-bbf3-9778864120c7",
   "metadata": {
    "vscode": {
     "languageId": "r"
    }
   },
   "outputs": [
    {
     "name": "stderr",
     "output_type": "stream",
     "text": [
      "\u001b[1m\u001b[22m`summarise()` has grouped output by 'N_Rate_num'. You can override using the\n",
      "`.groups` argument.\n",
      "Warning message:\n",
      "\"\u001b[1m\u001b[22mUsing `size` aesthetic for lines was deprecated in ggplot2 3.4.0.\n",
      "\u001b[36mi\u001b[39m Please use `linewidth` instead.\"\n"
     ]
    },
    {
     "data": {
      "image/png": "[encoded data removed]",
      "text/plain": [
       "plot without title"
      ]
     },
     "metadata": {
      "image/png": {
       "height": 240,
       "width": 240
      }
     },
     "output_type": "display_data"
    }
   ],
   "source": [
    "options(repr.plot.width=4, repr.plot.height=4)\n",
    "\n",
    "fit.nlme.red.boot_yield %>%\n",
    "dplyr::select(n:Microbe,yield) %>%\n",
    "spread(Microbe,yield) %>% \n",
    "mutate(yield_delta = PROVEN40 - UTC) %>% \n",
    "group_by(N_Rate_num,Year) %>% \n",
    "summarise(upr = quantile(yield_delta,1 - alpha_level/2),\n",
    "          lwr = quantile(yield_delta,alpha_level/2),\n",
    "          yield_delta = sum(yield_delta*(n==0))) %>% \n",
    "ggplot(aes(N_Rate_num)) + \n",
    "geom_ribbon(aes(ymax = upr, ymin = lwr, fill = Year), alpha = 0.3) + \n",
    "geom_line(aes(y = yield_delta, colour  = Year), size = 1) +\n",
    "scale_colour_manual(values = c(\"red\",\"gray10\")) + \n",
    "scale_fill_manual(values = c(\"red\",\"gray10\")) + \n",
    "#scale_y_continuous(breaks = 0:10*2) + \n",
    "scale_x_continuous(breaks = 0:8*40) + \n",
    "theme(legend.position = \"top\") + \n",
    "labs(title = \"ProveN40 yield boost\", y = \"Yield delta (Mg/ha)\", x = \"N fertilzer rate (kg N/ha)\")"
   ]
  },
  {
   "cell_type": "markdown",
   "id": "5682d960-9e8d-4459-aef6-80214573fcbd",
   "metadata": {},
   "source": [
    "## Calculate Agronomic Optimum N Rate (AONR) for both treatments and years\n",
    "\n",
    "One way to estimate the AONR is by looking at the point where yield plateaus"
   ]
  },
  {
   "cell_type": "code",
   "execution_count": 46,
   "id": "79a424a0-e3d8-49d7-ba2f-60dfc609dfa9",
   "metadata": {
    "vscode": {
     "languageId": "r"
    }
   },
   "outputs": [
    {
     "data": {
      "text/html": [
       "<table class=\"dataframe\">\n",
       "<caption>A grouped_df: 4 × 4</caption>\n",
       "<thead>\n",
       "\t<tr><th scope=col>N_Rate_num</th><th scope=col>Year</th><th scope=col>Microbe</th><th scope=col>yield_pred</th></tr>\n",
       "\t<tr><th scope=col>&lt;dbl&gt;</th><th scope=col>&lt;fct&gt;</th><th scope=col>&lt;fct&gt;</th><th scope=col>&lt;dbl&gt;</th></tr>\n",
       "</thead>\n",
       "<tbody>\n",
       "\t<tr><td>242.5</td><td>2021</td><td>PROVEN40</td><td>17.44761</td></tr>\n",
       "\t<tr><td>269.9</td><td>2021</td><td>UTC     </td><td>17.44761</td></tr>\n",
       "\t<tr><td>276.8</td><td>2022</td><td>PROVEN40</td><td>15.54775</td></tr>\n",
       "\t<tr><td>287.3</td><td>2022</td><td>UTC     </td><td>15.54775</td></tr>\n",
       "</tbody>\n",
       "</table>\n"
      ],
      "text/latex": [
       "A grouped\\_df: 4 × 4\n",
       "\\begin{tabular}{llll}\n",
       " N\\_Rate\\_num & Year & Microbe & yield\\_pred\\\\\n",
       " <dbl> & <fct> & <fct> & <dbl>\\\\\n",
       "\\hline\n",
       "\t 242.5 & 2021 & PROVEN40 & 17.44761\\\\\n",
       "\t 269.9 & 2021 & UTC      & 17.44761\\\\\n",
       "\t 276.8 & 2022 & PROVEN40 & 15.54775\\\\\n",
       "\t 287.3 & 2022 & UTC      & 15.54775\\\\\n",
       "\\end{tabular}\n"
      ],
      "text/markdown": [
       "\n",
       "A grouped_df: 4 × 4\n",
       "\n",
       "| N_Rate_num &lt;dbl&gt; | Year &lt;fct&gt; | Microbe &lt;fct&gt; | yield_pred &lt;dbl&gt; |\n",
       "|---|---|---|---|\n",
       "| 242.5 | 2021 | PROVEN40 | 17.44761 |\n",
       "| 269.9 | 2021 | UTC      | 17.44761 |\n",
       "| 276.8 | 2022 | PROVEN40 | 15.54775 |\n",
       "| 287.3 | 2022 | UTC      | 15.54775 |\n",
       "\n"
      ],
      "text/plain": [
       "  N_Rate_num Year Microbe  yield_pred\n",
       "1 242.5      2021 PROVEN40 17.44761  \n",
       "2 269.9      2021 UTC      17.44761  \n",
       "3 276.8      2022 PROVEN40 15.54775  \n",
       "4 287.3      2022 UTC      15.54775  "
      ]
     },
     "metadata": {},
     "output_type": "display_data"
    }
   ],
   "source": [
    "yield_pred <- expand_grid(N_Rate_num = 0:3500/10,\n",
    "            Year = unique(df$Year),\n",
    "            Microbe = unique(df$Microbe)) %>%\n",
    "mutate(yield_pred = predict(fit.nlme.red,level = 0, newdata = .))# %>% \n",
    "\n",
    "yield_pred %>% \n",
    "group_by(Year,Microbe) %>% \n",
    "filter(yield_pred == max(yield_pred)) %>% \n",
    "filter(N_Rate_num == min(N_Rate_num)) "
   ]
  },
  {
   "cell_type": "markdown",
   "id": "70c17c6e-03e9-4bb8-a60f-73cb3536add6",
   "metadata": {},
   "source": [
    "This can be done analitically via the following function:"
   ]
  },
  {
   "cell_type": "code",
   "execution_count": 47,
   "id": "daf74be3-8e74-4a38-940f-04191432554e",
   "metadata": {
    "vscode": {
     "languageId": "r"
    }
   },
   "outputs": [],
   "source": [
    "aonr_nresp <- function(a,b,ymax){\n",
    "    c = (-b**2)/(4*(ymax-a))\n",
    "    aonr = -0.5 * b/c\n",
    "    return(aonr)\n",
    "    }"
   ]
  },
  {
   "cell_type": "code",
   "execution_count": 48,
   "id": "542ec751-87d1-460b-9e7d-2a170ae756c5",
   "metadata": {
    "vscode": {
     "languageId": "r"
    }
   },
   "outputs": [
    {
     "data": {
      "text/html": [
       "<table class=\"dataframe\">\n",
       "<caption>A tibble: 6 × 7</caption>\n",
       "<thead>\n",
       "\t<tr><th scope=col>n</th><th scope=col>Year</th><th scope=col>Microbe</th><th scope=col>a</th><th scope=col>b</th><th scope=col>ymax</th><th scope=col>aonr</th></tr>\n",
       "\t<tr><th scope=col>&lt;int&gt;</th><th scope=col>&lt;fct&gt;</th><th scope=col>&lt;fct&gt;</th><th scope=col>&lt;dbl&gt;</th><th scope=col>&lt;dbl&gt;</th><th scope=col>&lt;dbl&gt;</th><th scope=col>&lt;dbl&gt;</th></tr>\n",
       "</thead>\n",
       "<tbody>\n",
       "\t<tr><td>300</td><td>2021</td><td>PROVEN40</td><td>8.547708</td><td>0.07333455</td><td>17.48868</td><td>243.8405</td></tr>\n",
       "\t<tr><td>300</td><td>2021</td><td>UTC     </td><td>7.429443</td><td>0.07333455</td><td>17.48868</td><td>274.3382</td></tr>\n",
       "\t<tr><td>300</td><td>2022</td><td>PROVEN40</td><td>8.292309</td><td>0.05278120</td><td>15.78707</td><td>283.9936</td></tr>\n",
       "\t<tr><td>300</td><td>2022</td><td>UTC     </td><td>8.099352</td><td>0.05278120</td><td>15.78707</td><td>291.3051</td></tr>\n",
       "\t<tr><td>299</td><td>2021</td><td>PROVEN40</td><td>8.036277</td><td>0.07358727</td><td>17.26548</td><td>250.8370</td></tr>\n",
       "\t<tr><td>299</td><td>2021</td><td>UTC     </td><td>7.265147</td><td>0.07358727</td><td>17.26548</td><td>271.7953</td></tr>\n",
       "</tbody>\n",
       "</table>\n"
      ],
      "text/latex": [
       "A tibble: 6 × 7\n",
       "\\begin{tabular}{lllllll}\n",
       " n & Year & Microbe & a & b & ymax & aonr\\\\\n",
       " <int> & <fct> & <fct> & <dbl> & <dbl> & <dbl> & <dbl>\\\\\n",
       "\\hline\n",
       "\t 300 & 2021 & PROVEN40 & 8.547708 & 0.07333455 & 17.48868 & 243.8405\\\\\n",
       "\t 300 & 2021 & UTC      & 7.429443 & 0.07333455 & 17.48868 & 274.3382\\\\\n",
       "\t 300 & 2022 & PROVEN40 & 8.292309 & 0.05278120 & 15.78707 & 283.9936\\\\\n",
       "\t 300 & 2022 & UTC      & 8.099352 & 0.05278120 & 15.78707 & 291.3051\\\\\n",
       "\t 299 & 2021 & PROVEN40 & 8.036277 & 0.07358727 & 17.26548 & 250.8370\\\\\n",
       "\t 299 & 2021 & UTC      & 7.265147 & 0.07358727 & 17.26548 & 271.7953\\\\\n",
       "\\end{tabular}\n"
      ],
      "text/markdown": [
       "\n",
       "A tibble: 6 × 7\n",
       "\n",
       "| n &lt;int&gt; | Year &lt;fct&gt; | Microbe &lt;fct&gt; | a &lt;dbl&gt; | b &lt;dbl&gt; | ymax &lt;dbl&gt; | aonr &lt;dbl&gt; |\n",
       "|---|---|---|---|---|---|---|\n",
       "| 300 | 2021 | PROVEN40 | 8.547708 | 0.07333455 | 17.48868 | 243.8405 |\n",
       "| 300 | 2021 | UTC      | 7.429443 | 0.07333455 | 17.48868 | 274.3382 |\n",
       "| 300 | 2022 | PROVEN40 | 8.292309 | 0.05278120 | 15.78707 | 283.9936 |\n",
       "| 300 | 2022 | UTC      | 8.099352 | 0.05278120 | 15.78707 | 291.3051 |\n",
       "| 299 | 2021 | PROVEN40 | 8.036277 | 0.07358727 | 17.26548 | 250.8370 |\n",
       "| 299 | 2021 | UTC      | 7.265147 | 0.07358727 | 17.26548 | 271.7953 |\n",
       "\n"
      ],
      "text/plain": [
       "  n   Year Microbe  a        b          ymax     aonr    \n",
       "1 300 2021 PROVEN40 8.547708 0.07333455 17.48868 243.8405\n",
       "2 300 2021 UTC      7.429443 0.07333455 17.48868 274.3382\n",
       "3 300 2022 PROVEN40 8.292309 0.05278120 15.78707 283.9936\n",
       "4 300 2022 UTC      8.099352 0.05278120 15.78707 291.3051\n",
       "5 299 2021 PROVEN40 8.036277 0.07358727 17.26548 250.8370\n",
       "6 299 2021 UTC      7.265147 0.07358727 17.26548 271.7953"
      ]
     },
     "metadata": {},
     "output_type": "display_data"
    }
   ],
   "source": [
    "fit.nlme.red.boot_aonr <- fit.nlme.red.boot_yield %>% \n",
    "dplyr::select(n,Year:ymax) %>%\n",
    "unique() %>%\n",
    "mutate(aonr = aonr_nresp(a,b,ymax))\n",
    "\n",
    "head(fit.nlme.red.boot_aonr)"
   ]
  },
  {
   "cell_type": "code",
   "execution_count": 49,
   "id": "1f4a6627-2558-482c-8f85-1f43a61874ed",
   "metadata": {
    "vscode": {
     "languageId": "r"
    }
   },
   "outputs": [
    {
     "name": "stderr",
     "output_type": "stream",
     "text": [
      "\u001b[1m\u001b[22mScale for \u001b[32mfill\u001b[39m is already present.\n",
      "Adding another scale for \u001b[32mfill\u001b[39m, which will replace the existing scale.\n",
      "\u001b[1m\u001b[22mScale for \u001b[32mcolour\u001b[39m is already present.\n",
      "Adding another scale for \u001b[32mcolour\u001b[39m, which will replace the existing scale.\n"
     ]
    },
    {
     "data": {
      "image/png": "[encoded data removed]",
      "text/plain": [
       "plot without title"
      ]
     },
     "metadata": {
      "image/png": {
       "height": 270,
       "width": 270
      }
     },
     "output_type": "display_data"
    }
   ],
   "source": [
    "options(repr.plot.width=4.5, repr.plot.height=4.5)\n",
    "\n",
    "\n",
    "fit.nlme.red.boot_aonr %>% \n",
    "ggplot(aes(Microbe,aonr,fill = Microbe, shape = Microbe)) +\n",
    "geom_col(data = fit.nlme.red.boot_aonr %>% filter(n == 0), colour = \"gray10\") + \n",
    "stat_summary(geom = \"errorbar\",\n",
    "             fun.min = function(x) quantile(x,alpha_level),\n",
    "             fun.max = function(x) quantile(x,1 - alpha_level), width = 0.1) + \n",
    "facet_grid(~Year) +  \n",
    "scale_fill_manual(values = c(\"gray70\",\"gray30\")) + \n",
    "scale_colour_manual(values = c(\"gray70\",\"gray30\")) + \n",
    "scale_shape_manual(values = 21:22) + \n",
    "scale_fill_manual(values = myColorPalette) + \n",
    "scale_colour_manual(values = myColorPalette) + \n",
    "labs(x = \"Treatment\", \n",
    "     y = \"AONR (kg N/ha)\") + \n",
    "coord_cartesian(ylim = c(150,320)) + \n",
    "theme(legend.position = \"none\")"
   ]
  },
  {
   "cell_type": "code",
   "execution_count": 50,
   "id": "35582001-f1df-492f-a0cc-ea5f111c8db0",
   "metadata": {
    "vscode": {
     "languageId": "r"
    }
   },
   "outputs": [
    {
     "name": "stderr",
     "output_type": "stream",
     "text": [
      "\u001b[1m\u001b[22m`summarise()` has grouped output by 'Year'. You can override using the\n",
      "`.groups` argument.\n"
     ]
    },
    {
     "data": {
      "text/html": [
       "<table class=\"dataframe\">\n",
       "<caption>A grouped_df: 4 × 5</caption>\n",
       "<thead>\n",
       "\t<tr><th scope=col>Year</th><th scope=col>Microbe</th><th scope=col>upr</th><th scope=col>lwr</th><th scope=col>pred</th></tr>\n",
       "\t<tr><th scope=col>&lt;fct&gt;</th><th scope=col>&lt;fct&gt;</th><th scope=col>&lt;dbl&gt;</th><th scope=col>&lt;dbl&gt;</th><th scope=col>&lt;dbl&gt;</th></tr>\n",
       "</thead>\n",
       "<tbody>\n",
       "\t<tr><td>2021</td><td>UTC     </td><td>294.0870</td><td>251.8698</td><td>269.8551</td></tr>\n",
       "\t<tr><td>2021</td><td>PROVEN40</td><td>263.1543</td><td>225.8986</td><td>242.4322</td></tr>\n",
       "\t<tr><td>2022</td><td>UTC     </td><td>317.0955</td><td>259.7313</td><td>287.2394</td></tr>\n",
       "\t<tr><td>2022</td><td>PROVEN40</td><td>307.8214</td><td>247.8265</td><td>276.7118</td></tr>\n",
       "</tbody>\n",
       "</table>\n"
      ],
      "text/latex": [
       "A grouped\\_df: 4 × 5\n",
       "\\begin{tabular}{lllll}\n",
       " Year & Microbe & upr & lwr & pred\\\\\n",
       " <fct> & <fct> & <dbl> & <dbl> & <dbl>\\\\\n",
       "\\hline\n",
       "\t 2021 & UTC      & 294.0870 & 251.8698 & 269.8551\\\\\n",
       "\t 2021 & PROVEN40 & 263.1543 & 225.8986 & 242.4322\\\\\n",
       "\t 2022 & UTC      & 317.0955 & 259.7313 & 287.2394\\\\\n",
       "\t 2022 & PROVEN40 & 307.8214 & 247.8265 & 276.7118\\\\\n",
       "\\end{tabular}\n"
      ],
      "text/markdown": [
       "\n",
       "A grouped_df: 4 × 5\n",
       "\n",
       "| Year &lt;fct&gt; | Microbe &lt;fct&gt; | upr &lt;dbl&gt; | lwr &lt;dbl&gt; | pred &lt;dbl&gt; |\n",
       "|---|---|---|---|---|\n",
       "| 2021 | UTC      | 294.0870 | 251.8698 | 269.8551 |\n",
       "| 2021 | PROVEN40 | 263.1543 | 225.8986 | 242.4322 |\n",
       "| 2022 | UTC      | 317.0955 | 259.7313 | 287.2394 |\n",
       "| 2022 | PROVEN40 | 307.8214 | 247.8265 | 276.7118 |\n",
       "\n"
      ],
      "text/plain": [
       "  Year Microbe  upr      lwr      pred    \n",
       "1 2021 UTC      294.0870 251.8698 269.8551\n",
       "2 2021 PROVEN40 263.1543 225.8986 242.4322\n",
       "3 2022 UTC      317.0955 259.7313 287.2394\n",
       "4 2022 PROVEN40 307.8214 247.8265 276.7118"
      ]
     },
     "metadata": {},
     "output_type": "display_data"
    }
   ],
   "source": [
    "fit.nlme.red.boot_aonr %>% \n",
    "dplyr::select(n:Microbe,aonr) %>%\n",
    "group_by(Year,Microbe) %>%\n",
    "summarise(upr = quantile(aonr,1 - alpha_level/2),\n",
    "          lwr = quantile(aonr,alpha_level/2),\n",
    "          pred = sum((n==0)*aonr))"
   ]
  },
  {
   "cell_type": "code",
   "execution_count": 51,
   "id": "241d348b-6c01-45a7-9649-5280f90964b4",
   "metadata": {
    "vscode": {
     "languageId": "r"
    }
   },
   "outputs": [
    {
     "data": {
      "text/html": [
       "<table class=\"dataframe\">\n",
       "<caption>A tibble: 2 × 4</caption>\n",
       "<thead>\n",
       "\t<tr><th scope=col>Year</th><th scope=col>upr</th><th scope=col>lwr</th><th scope=col>pred</th></tr>\n",
       "\t<tr><th scope=col>&lt;fct&gt;</th><th scope=col>&lt;dbl&gt;</th><th scope=col>&lt;dbl&gt;</th><th scope=col>&lt;dbl&gt;</th></tr>\n",
       "</thead>\n",
       "<tbody>\n",
       "\t<tr><td>2021</td><td>-15.943702</td><td>-40.29947</td><td>-27.42286</td></tr>\n",
       "\t<tr><td>2022</td><td>  4.372451</td><td>-25.25764</td><td>-10.52760</td></tr>\n",
       "</tbody>\n",
       "</table>\n"
      ],
      "text/latex": [
       "A tibble: 2 × 4\n",
       "\\begin{tabular}{llll}\n",
       " Year & upr & lwr & pred\\\\\n",
       " <fct> & <dbl> & <dbl> & <dbl>\\\\\n",
       "\\hline\n",
       "\t 2021 & -15.943702 & -40.29947 & -27.42286\\\\\n",
       "\t 2022 &   4.372451 & -25.25764 & -10.52760\\\\\n",
       "\\end{tabular}\n"
      ],
      "text/markdown": [
       "\n",
       "A tibble: 2 × 4\n",
       "\n",
       "| Year &lt;fct&gt; | upr &lt;dbl&gt; | lwr &lt;dbl&gt; | pred &lt;dbl&gt; |\n",
       "|---|---|---|---|\n",
       "| 2021 | -15.943702 | -40.29947 | -27.42286 |\n",
       "| 2022 |   4.372451 | -25.25764 | -10.52760 |\n",
       "\n"
      ],
      "text/plain": [
       "  Year upr        lwr       pred     \n",
       "1 2021 -15.943702 -40.29947 -27.42286\n",
       "2 2022   4.372451 -25.25764 -10.52760"
      ]
     },
     "metadata": {},
     "output_type": "display_data"
    }
   ],
   "source": [
    "fit.nlme.red.boot_aonr %>% \n",
    "dplyr::select(n:Microbe,aonr) %>%\n",
    "spread(Microbe,aonr) %>% \n",
    "mutate(delta_aonr = PROVEN40 - UTC) %>% \n",
    "group_by(Year) %>%\n",
    "summarise(upr = quantile(delta_aonr,1 - alpha_level/2),\n",
    "          lwr = quantile(delta_aonr,alpha_level/2),\n",
    "          pred = sum((n==0)*delta_aonr))"
   ]
  },
  {
   "cell_type": "code",
   "execution_count": 52,
   "id": "142a2523",
   "metadata": {
    "vscode": {
     "languageId": "r"
    }
   },
   "outputs": [
    {
     "name": "stderr",
     "output_type": "stream",
     "text": [
      "\u001b[1m\u001b[22m`summarise()` has grouped output by 'Microbe'. You can override using the\n",
      "`.groups` argument.\n",
      "Warning message in geom_errorbarh(data = fit.nlme.red.boot_aonr %>% group_by(Microbe, :\n",
      "\"\u001b[1m\u001b[22mIgnoring unknown parameters: `width`\"\n",
      "Warning message in stat_summary(data = df, aes(N_Rate_num, yield, shape = Microbe, :\n",
      "\"\u001b[1m\u001b[22mIgnoring unknown aesthetics: \u001b[32mshape\u001b[39m and \u001b[32mfill\u001b[39m\"\n"
     ]
    },
    {
     "data": {
      "image/png": "[encoded data removed]",
      "text/plain": [
       "plot without title"
      ]
     },
     "metadata": {
      "image/png": {
       "height": 270,
       "width": 480
      }
     },
     "output_type": "display_data"
    }
   ],
   "source": [
    "options(repr.plot.width=8, repr.plot.height=4.5)\n",
    "\n",
    "pfinal1 <- ggplot() + \n",
    "geom_vline(data = fit.nlme.red.boot_aonr %>% filter(n == 0), aes(xintercept = aonr, colour = Microbe), linetype = 2) +          \n",
    "stat_summary(data = fit.nlme.red.boot_yield %>% filter(N_Rate_num <= max(df$N_Rate_num)),\n",
    "             aes(N_Rate_num,yield,fill = Microbe),\n",
    "             geom = \"ribbon\",\n",
    "             fun.min = function(x) quantile(x,alpha_level/2),\n",
    "             fun.max = function(x) quantile(x,1 - alpha_level/2),\n",
    "             alpha = 0.3) + \n",
    "geom_line(data = fit.nlme.red.boot_yield %>% filter(n == 0, N_Rate_num <= max(df$N_Rate_num)), \n",
    "          aes(N_Rate_num, yield, colour = Microbe),\n",
    "          lwd = 1) + \n",
    "geom_errorbarh(data = fit.nlme.red.boot_aonr %>%\n",
    "                      group_by(Microbe,Year) %>% \n",
    "                      summarise(upr =  quantile(aonr,alpha_level/2),\n",
    "               lwr =  quantile(aonr,1 - alpha_level/2)), \n",
    "               aes(xmin = lwr, xmax = upr, y = ifelse(Microbe == \"UTC\",100*0.0628,110*0.0628), colour = Microbe), width = 0.1) + \n",
    "stat_summary(data = df,\n",
    "             aes(N_Rate_num,yield,shape = Microbe, fill = Microbe),\n",
    "             geom = \"errorbar\",\n",
    "             fun.min = function(x) mean(x) - sd(x)/sqrt(length(x)),\n",
    "             fun.max = function(x) mean(x) + sd(x)/sqrt(length(x)), width = 1) + \n",
    "stat_summary(data = df,\n",
    "             aes(N_Rate_num,yield,shape = Microbe, fill = Microbe),\n",
    "             geom = \"point\",fun = \"mean\", size = 3, alpha = 0.9, colour = \"black\") + \n",
    "facet_wrap(~Year) + \n",
    "scale_shape_manual(labels = c(\"Control\", \"PROVEN 40\"), values = 21:22) + \n",
    "scale_fill_manual(labels = c(\"Control\", \"PROVEN 40\"), values = myColorPalette) + \n",
    "scale_colour_manual(labels = c(\"Control\", \"PROVEN 40\"), values = myColorPalette) + \n",
    "scale_y_continuous(breaks = 3:9*2) + \n",
    "labs(y = expression(\"Grain yield (\"*Mg~ha^-1*\"; 15.5% moist.)\"), \n",
    "     x = expression(\"N fertilizer rate (kg N\"~ha^-1*\")\"),\n",
    "     colour = \"\", shape = \"\",\n",
    "     fill = \"\") + \n",
    "guides(colour = \"none\") + \n",
    "theme(legend.position = \"top\")\n",
    "\n",
    "pfinal1\n"
   ]
  },
  {
   "cell_type": "code",
   "execution_count": 53,
   "id": "eed8598e",
   "metadata": {
    "vscode": {
     "languageId": "r"
    }
   },
   "outputs": [
    {
     "data": {
      "image/png": "[encoded data removed]",
      "text/plain": [
       "plot without title"
      ]
     },
     "metadata": {
      "image/png": {
       "height": 270,
       "width": 270
      }
     },
     "output_type": "display_data"
    }
   ],
   "source": [
    "options(repr.plot.width=4.5, repr.plot.height=4.5)\n",
    "\n",
    "pfinal2 <- fit.nlme.red.boot_aonr %>% \n",
    "dplyr::select(n:Microbe,aonr) %>%\n",
    "spread(Microbe,aonr) %>% \n",
    "mutate(delta_aonr = PROVEN40 - UTC) %>%\n",
    "ggplot(aes(Year,delta_aonr)) +\n",
    "geom_col(data = fit.nlme.red.boot_aonr %>% \n",
    "         dplyr::select(n:Microbe,aonr) %>%\n",
    "         filter(n == 0) %>% \n",
    "         spread(Microbe,aonr) %>% \n",
    "         mutate(delta_aonr = PROVEN40 - UTC), colour = \"gray10\") + \n",
    "stat_summary(geom = \"errorbar\",\n",
    "             fun.min = function(x) quantile(x,alpha_level/2),\n",
    "             fun.max = function(x) quantile(x,1 - alpha_level/2), width = 0.1) + \n",
    "#geom_point(shape = \"-\",alpha = 0.3, size = 4) + \n",
    "geom_hline(yintercept = 0) + \n",
    "scale_shape_manual(values = 21:22) + \n",
    "labs(x = \"Year\", \n",
    "     y = expression(Delta~AONR~\"(kg N\"~ha^-1*\")\")) + \n",
    "theme(legend.position = \"none\")\n",
    "\n",
    "pfinal2"
   ]
  },
  {
   "cell_type": "code",
   "execution_count": 54,
   "id": "829736a4",
   "metadata": {
    "vscode": {
     "languageId": "r"
    }
   },
   "outputs": [
    {
     "data": {
      "image/png": "[encoded data removed]",
      "text/plain": [
       "plot without title"
      ]
     },
     "metadata": {
      "image/png": {
       "height": 300,
       "width": 600
      }
     },
     "output_type": "display_data"
    }
   ],
   "source": [
    "options(repr.plot.width=10, repr.plot.height=5)\n",
    "\n",
    "ggarrange(pfinal1,pfinal2, widths = c(0.75,0.25),common.legend = FALSE, labels = c(\"a\",\"b\"))\n",
    "ggsave(\"./figures/yield_response_and_aonr.jpeg\",width = 10, height = 5, dpi = 300)\n"
   ]
  }
 ],
 "metadata": {
  "kernelspec": {
   "display_name": "R",
   "language": "R",
   "name": "ir"
  },
  "language_info": {
   "codemirror_mode": "r",
   "file_extension": ".r",
   "mimetype": "text/x-r-source",
   "name": "R",
   "pygments_lexer": "r",
   "version": "4.1.3"
  }
 },
 "nbformat": 4,
 "nbformat_minor": 5
}
