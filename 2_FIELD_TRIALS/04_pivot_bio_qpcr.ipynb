{
 "cells": [
  {
   "cell_type": "code",
   "execution_count": 1,
   "metadata": {
    "vscode": {
     "languageId": "r"
    }
   },
   "outputs": [
    {
     "name": "stdout",
     "output_type": "stream",
     "text": [
      "Pivot Bio, Inc.\n",
      "This code performs analyses supporting findings of the paper entitled:\n",
      "\"Genetic remodeling of soil diazotrophs enables partial replacement of synthetic nitrogen fertilizer with biological nitrogen fixation in maize\".\n",
      "\n",
      "##------ Tue Jul 30 13:31:17 2024 ------## \n",
      "Loaded packages:  tidyverse, readxl, broom, foreach, nlme, lme4, lmerTest, glmmTMB, car, DHARMa, caret, emmeans, multcomp, ggpubr, scales, png, ggthemes and their dependencies.\n",
      "A complete list of packages used in the analysis is provided in the `packages_citations.txt` file.\n"
     ]
    }
   ],
   "source": [
    "source('../load_environment.R')\n",
    "options(repr.plot.width=8, repr.plot.height=4)"
   ]
  },
  {
   "cell_type": "markdown",
   "metadata": {},
   "source": [
    "## Prepare data"
   ]
  },
  {
   "cell_type": "code",
   "execution_count": 2,
   "metadata": {
    "vscode": {
     "languageId": "r"
    }
   },
   "outputs": [
    {
     "data": {
      "text/html": [
       "<table class=\"dataframe\">\n",
       "<caption>A data.frame: 6 × 8</caption>\n",
       "<thead>\n",
       "\t<tr><th></th><th scope=col>trial</th><th scope=col>rep</th><th scope=col>n_rate</th><th scope=col>rate</th><th scope=col>trt</th><th scope=col>target_strain</th><th scope=col>copies_per_g_fw</th><th scope=col>rate_num</th></tr>\n",
       "\t<tr><th></th><th scope=col>&lt;fct&gt;</th><th scope=col>&lt;fct&gt;</th><th scope=col>&lt;chr&gt;</th><th scope=col>&lt;fct&gt;</th><th scope=col>&lt;fct&gt;</th><th scope=col>&lt;fct&gt;</th><th scope=col>&lt;dbl&gt;</th><th scope=col>&lt;dbl&gt;</th></tr>\n",
       "</thead>\n",
       "<tbody>\n",
       "\t<tr><th scope=row>1</th><td>IA03451</td><td>1</td><td>Low</td><td>Control</td><td>Uninoculated Control</td><td>Kv137-2253</td><td> 0.000000</td><td>1</td></tr>\n",
       "\t<tr><th scope=row>2</th><td>IA03451</td><td>1</td><td>Low</td><td>Control</td><td>Uninoculated Control</td><td>Ks6-5687  </td><td> 0.000000</td><td>1</td></tr>\n",
       "\t<tr><th scope=row>3</th><td>IA03451</td><td>1</td><td>Low</td><td>Low    </td><td>PROVEN 40           </td><td>Kv137-2253</td><td> 8.129116</td><td>3</td></tr>\n",
       "\t<tr><th scope=row>4</th><td>IA03451</td><td>1</td><td>Low</td><td>Low    </td><td>PROVEN 40           </td><td>Ks6-5687  </td><td> 0.000000</td><td>3</td></tr>\n",
       "\t<tr><th scope=row>5</th><td>IA03451</td><td>1</td><td>Low</td><td>Medium </td><td>PROVEN 40           </td><td>Kv137-2253</td><td>24.776915</td><td>4</td></tr>\n",
       "\t<tr><th scope=row>6</th><td>IA03451</td><td>1</td><td>Low</td><td>Medium </td><td>PROVEN 40           </td><td>Ks6-5687  </td><td> 0.000000</td><td>4</td></tr>\n",
       "</tbody>\n",
       "</table>\n"
      ],
      "text/latex": [
       "A data.frame: 6 × 8\n",
       "\\begin{tabular}{r|llllllll}\n",
       "  & trial & rep & n\\_rate & rate & trt & target\\_strain & copies\\_per\\_g\\_fw & rate\\_num\\\\\n",
       "  & <fct> & <fct> & <chr> & <fct> & <fct> & <fct> & <dbl> & <dbl>\\\\\n",
       "\\hline\n",
       "\t1 & IA03451 & 1 & Low & Control & Uninoculated Control & Kv137-2253 &  0.000000 & 1\\\\\n",
       "\t2 & IA03451 & 1 & Low & Control & Uninoculated Control & Ks6-5687   &  0.000000 & 1\\\\\n",
       "\t3 & IA03451 & 1 & Low & Low     & PROVEN 40            & Kv137-2253 &  8.129116 & 3\\\\\n",
       "\t4 & IA03451 & 1 & Low & Low     & PROVEN 40            & Ks6-5687   &  0.000000 & 3\\\\\n",
       "\t5 & IA03451 & 1 & Low & Medium  & PROVEN 40            & Kv137-2253 & 24.776915 & 4\\\\\n",
       "\t6 & IA03451 & 1 & Low & Medium  & PROVEN 40            & Ks6-5687   &  0.000000 & 4\\\\\n",
       "\\end{tabular}\n"
      ],
      "text/markdown": [
       "\n",
       "A data.frame: 6 × 8\n",
       "\n",
       "| <!--/--> | trial &lt;fct&gt; | rep &lt;fct&gt; | n_rate &lt;chr&gt; | rate &lt;fct&gt; | trt &lt;fct&gt; | target_strain &lt;fct&gt; | copies_per_g_fw &lt;dbl&gt; | rate_num &lt;dbl&gt; |\n",
       "|---|---|---|---|---|---|---|---|---|\n",
       "| 1 | IA03451 | 1 | Low | Control | Uninoculated Control | Kv137-2253 |  0.000000 | 1 |\n",
       "| 2 | IA03451 | 1 | Low | Control | Uninoculated Control | Ks6-5687   |  0.000000 | 1 |\n",
       "| 3 | IA03451 | 1 | Low | Low     | PROVEN 40            | Kv137-2253 |  8.129116 | 3 |\n",
       "| 4 | IA03451 | 1 | Low | Low     | PROVEN 40            | Ks6-5687   |  0.000000 | 3 |\n",
       "| 5 | IA03451 | 1 | Low | Medium  | PROVEN 40            | Kv137-2253 | 24.776915 | 4 |\n",
       "| 6 | IA03451 | 1 | Low | Medium  | PROVEN 40            | Ks6-5687   |  0.000000 | 4 |\n",
       "\n"
      ],
      "text/plain": [
       "  trial   rep n_rate rate    trt                  target_strain copies_per_g_fw\n",
       "1 IA03451 1   Low    Control Uninoculated Control Kv137-2253     0.000000      \n",
       "2 IA03451 1   Low    Control Uninoculated Control Ks6-5687       0.000000      \n",
       "3 IA03451 1   Low    Low     PROVEN 40            Kv137-2253     8.129116      \n",
       "4 IA03451 1   Low    Low     PROVEN 40            Ks6-5687       0.000000      \n",
       "5 IA03451 1   Low    Medium  PROVEN 40            Kv137-2253    24.776915      \n",
       "6 IA03451 1   Low    Medium  PROVEN 40            Ks6-5687       0.000000      \n",
       "  rate_num\n",
       "1 1       \n",
       "2 1       \n",
       "3 3       \n",
       "4 3       \n",
       "5 4       \n",
       "6 4       "
      ]
     },
     "metadata": {},
     "output_type": "display_data"
    }
   ],
   "source": [
    "qpcr <- read.csv(\"./datasets/pivot_bio_trials_qpcr.csv\") \n",
    "\n",
    "# Recode factors\n",
    "qpcr <- qpcr %>% rename(rate = inoc_rate) %>% mutate_at(c(\"trial\",\"rep\",\"rate\",\"target_strain\"), factor)\n",
    "\n",
    "rate_levels <- c(\"Control\",\"Lowest\",\"Low\",\"Medium\",\"High\")\n",
    "qpcr$rate <- factor(qpcr$rate, levels = rate_levels)\n",
    "qpcr$rate_num <- as.numeric(qpcr$rate)\n",
    "qpcr$trt <- factor(qpcr$trt, levels = c('UTC','PROVEN40'), labels = c('Uninoculated Control','PROVEN 40'))\n",
    "qpcr$target_strain <- factor(qpcr$target_strain, levels = c('6-5687','137-2253'), labels = c('Ks6-5687','Kv137-2253'))\n",
    "\n",
    "head(qpcr)"
   ]
  },
  {
   "cell_type": "markdown",
   "metadata": {},
   "source": [
    "## First try"
   ]
  },
  {
   "cell_type": "code",
   "execution_count": 3,
   "metadata": {
    "vscode": {
     "languageId": "r"
    }
   },
   "outputs": [
    {
     "data": {
      "image/png": "[encoded data removed]",
      "text/plain": [
       "Plot with title \"Histogram of qpcr$copies_per_g_fw\""
      ]
     },
     "metadata": {
      "image/png": {
       "height": 240,
       "width": 480
      }
     },
     "output_type": "display_data"
    }
   ],
   "source": [
    "hist(qpcr$copies_per_g_fw)"
   ]
  },
  {
   "cell_type": "markdown",
   "metadata": {},
   "source": [
    "## Model terms\n",
    "- `rate` = Fixed effect of inoculation rate\n",
    "- `target_strain` = fixed effect of the target strain is the primer looking for\n",
    "- `1|trial/rep/rate` = Random effect of the plot within the rep within the trial (note: 2 plants were sampled from each plot)"
   ]
  },
  {
   "cell_type": "code",
   "execution_count": 4,
   "metadata": {
    "vscode": {
     "languageId": "r"
    }
   },
   "outputs": [],
   "source": [
    "qpcr_mod_1 <- lmer(copies_per_g_fw ~ rate*target_strain + (1|trial/rep), data = qpcr)"
   ]
  },
  {
   "cell_type": "code",
   "execution_count": 5,
   "metadata": {
    "vscode": {
     "languageId": "r"
    }
   },
   "outputs": [
    {
     "data": {
      "image/png": "[encoded data removed]",
      "text/plain": [
       "Plot with title \"QQ plot residuals\""
      ]
     },
     "metadata": {
      "image/png": {
       "height": 240,
       "width": 480
      }
     },
     "output_type": "display_data"
    }
   ],
   "source": [
    "qpcr_mod_1_sims  <- simulateResiduals(fittedModel = qpcr_mod_1, plot = T)"
   ]
  },
  {
   "cell_type": "markdown",
   "metadata": {},
   "source": [
    "### Lots of issues:\n",
    "\n",
    "- Lots of zeroes\n",
    "- High variance\n",
    "\n",
    "Consider a log transformation to deal with high variance. Becasue of the zeores in the data we'll use:\n",
    "\n",
    "`log(y + 1)`\n",
    "\n",
    "This will keep the zeroes intact. \n",
    "\n",
    "## Model 2"
   ]
  },
  {
   "cell_type": "code",
   "execution_count": 6,
   "metadata": {
    "vscode": {
     "languageId": "r"
    }
   },
   "outputs": [
    {
     "data": {
      "image/png": "[encoded data removed]",
      "text/plain": [
       "Plot with title \"Histogram of log(qpcr$copies_per_g_fw + 1)\""
      ]
     },
     "metadata": {
      "image/png": {
       "height": 240,
       "width": 480
      }
     },
     "output_type": "display_data"
    }
   ],
   "source": [
    "hist(log(qpcr$copies_per_g_fw+1))"
   ]
  },
  {
   "cell_type": "code",
   "execution_count": 7,
   "metadata": {
    "vscode": {
     "languageId": "r"
    }
   },
   "outputs": [],
   "source": [
    "qpcr_mod_2 <- lmer(log(copies_per_g_fw + 1) ~ rate*target_strain + (1|trial/rep), data = qpcr)"
   ]
  },
  {
   "cell_type": "code",
   "execution_count": 8,
   "metadata": {
    "vscode": {
     "languageId": "r"
    }
   },
   "outputs": [
    {
     "data": {
      "image/png": "[encoded data removed]",
      "text/plain": [
       "Plot with title \"QQ plot residuals\""
      ]
     },
     "metadata": {
      "image/png": {
       "height": 240,
       "width": 480
      }
     },
     "output_type": "display_data"
    }
   ],
   "source": [
    "qpcr_mod_2_sims  <- simulateResiduals(fittedModel = qpcr_mod_2, plot = T)"
   ]
  },
  {
   "cell_type": "code",
   "execution_count": 9,
   "metadata": {
    "vscode": {
     "languageId": "r"
    }
   },
   "outputs": [
    {
     "data": {
      "text/plain": [
       "\n",
       "\tDHARMa zero-inflation test via comparison to expected zeros with\n",
       "\tsimulation under H0 = fitted model\n",
       "\n",
       "data:  simulationOutput\n",
       "ratioObsSim = Inf, p-value < 2.2e-16\n",
       "alternative hypothesis: two.sided\n"
      ]
     },
     "metadata": {},
     "output_type": "display_data"
    },
    {
     "data": {
      "image/png": "[encoded data removed]",
      "text/plain": [
       "Plot with title \"DHARMa zero-inflation test via comparison to\n",
       "expected zeros with simulation under H0 = fitted\n",
       "model\n",
       "\""
      ]
     },
     "metadata": {
      "image/png": {
       "height": 240,
       "width": 480
      }
     },
     "output_type": "display_data"
    }
   ],
   "source": [
    "testZeroInflation(qpcr_mod_2)"
   ]
  },
  {
   "cell_type": "markdown",
   "metadata": {},
   "source": [
    "OK, better. But still have the issue with the zero-inflation. \n",
    "\n",
    "## Model 3\n",
    "\n",
    "Try to fit a zero-inflated model to deal with this. \n",
    "\n",
    "A zero-inflated model adds structural zeros to allow for the higher number of zeros than expected by a normal distribution. \n",
    "\n",
    "The probability of having a structural zero is always modeled with a logit link to keep it between 0 and 1, i.e.\n",
    "\n",
    "`logit(p)=β0+ β1x + ... + β1n`\n",
    "\n",
    "where p is the probability of having a structural zero. \n",
    "\n",
    "Will use `glmmTMB` to acomplisht this. More about  glmmTMB here: https://rpubs.com/mmcgillycuddy/737181\n"
   ]
  },
  {
   "cell_type": "code",
   "execution_count": 10,
   "metadata": {
    "vscode": {
     "languageId": "r"
    }
   },
   "outputs": [],
   "source": [
    "qpcr_mod_3 <- glmmTMB(log(copies_per_g_fw + 1) ~ rate*target_strain + (1|trial/rep),\n",
    "                        zi=~., # This is the zero-inflated model specification. For now, we keep the same as the conditional model\n",
    "                        #dispformula = ~  rate, # ErrVar = 0\n",
    "                        family = \"gaussian\",\n",
    "                        data = qpcr)"
   ]
  },
  {
   "cell_type": "code",
   "execution_count": 11,
   "metadata": {
    "vscode": {
     "languageId": "r"
    }
   },
   "outputs": [
    {
     "data": {
      "image/png": "[encoded data removed]",
      "text/plain": [
       "Plot with title \"Residual vs. predicted\n",
       "Quantile deviations detected (red curves)\n",
       "Combined adjusted quantile test significant\""
      ]
     },
     "metadata": {
      "image/png": {
       "height": 240,
       "width": 480
      }
     },
     "output_type": "display_data"
    }
   ],
   "source": [
    "qpcr_mod_3_sims  <- simulateResiduals(fittedModel = qpcr_mod_3, plot = T)"
   ]
  },
  {
   "cell_type": "code",
   "execution_count": 12,
   "metadata": {
    "vscode": {
     "languageId": "r"
    }
   },
   "outputs": [
    {
     "data": {
      "text/plain": [
       "\n",
       "\tDHARMa zero-inflation test via comparison to expected zeros with\n",
       "\tsimulation under H0 = fitted model\n",
       "\n",
       "data:  simulationOutput\n",
       "ratioObsSim = 0.98196, p-value = 1\n",
       "alternative hypothesis: two.sided\n"
      ]
     },
     "metadata": {},
     "output_type": "display_data"
    },
    {
     "data": {
      "image/png": "[encoded data removed]",
      "text/plain": [
       "Plot with title \"DHARMa zero-inflation test via comparison to\n",
       "expected zeros with simulation under H0 = fitted\n",
       "model\n",
       "\""
      ]
     },
     "metadata": {
      "image/png": {
       "height": 240,
       "width": 480
      }
     },
     "output_type": "display_data"
    }
   ],
   "source": [
    "testZeroInflation(qpcr_mod_3)"
   ]
  },
  {
   "cell_type": "code",
   "execution_count": 13,
   "metadata": {
    "vscode": {
     "languageId": "r"
    }
   },
   "outputs": [
    {
     "data": {
      "text/html": [
       "<table class=\"dataframe\">\n",
       "<caption>A data.frame: 2 × 2</caption>\n",
       "<thead>\n",
       "\t<tr><th></th><th scope=col>df</th><th scope=col>BIC</th></tr>\n",
       "\t<tr><th></th><th scope=col>&lt;dbl&gt;</th><th scope=col>&lt;dbl&gt;</th></tr>\n",
       "</thead>\n",
       "<tbody>\n",
       "\t<tr><th scope=row>qpcr_mod_2</th><td>11</td><td>2192.622</td></tr>\n",
       "\t<tr><th scope=row>qpcr_mod_3</th><td>21</td><td>1905.981</td></tr>\n",
       "</tbody>\n",
       "</table>\n"
      ],
      "text/latex": [
       "A data.frame: 2 × 2\n",
       "\\begin{tabular}{r|ll}\n",
       "  & df & BIC\\\\\n",
       "  & <dbl> & <dbl>\\\\\n",
       "\\hline\n",
       "\tqpcr\\_mod\\_2 & 11 & 2192.622\\\\\n",
       "\tqpcr\\_mod\\_3 & 21 & 1905.981\\\\\n",
       "\\end{tabular}\n"
      ],
      "text/markdown": [
       "\n",
       "A data.frame: 2 × 2\n",
       "\n",
       "| <!--/--> | df &lt;dbl&gt; | BIC &lt;dbl&gt; |\n",
       "|---|---|---|\n",
       "| qpcr_mod_2 | 11 | 2192.622 |\n",
       "| qpcr_mod_3 | 21 | 1905.981 |\n",
       "\n"
      ],
      "text/plain": [
       "           df BIC     \n",
       "qpcr_mod_2 11 2192.622\n",
       "qpcr_mod_3 21 1905.981"
      ]
     },
     "metadata": {},
     "output_type": "display_data"
    }
   ],
   "source": [
    "BIC(qpcr_mod_2,qpcr_mod_3)"
   ]
  },
  {
   "cell_type": "markdown",
   "metadata": {},
   "source": [
    "This model helped with dealing with the zero-infation, but it the residuals still appear a bit overdispersed (i.e., residual variance is larger than expected under the fitted model), particularly in the 3rd and 4th quartilies of the data.\n",
    "\n",
    "If overdispersion is present, confidence intervals tend to be too narrow, and p-values to small, leading to inflated type I error. \n",
    "\n",
    "\n",
    "## Model 4\n",
    "One possible reason for overdispersion is that the model might be overparameterized. Try relaxing the zero inflation model by only making it dependent on fixed effects.   "
   ]
  },
  {
   "cell_type": "code",
   "execution_count": 14,
   "metadata": {
    "vscode": {
     "languageId": "r"
    }
   },
   "outputs": [],
   "source": [
    "qpcr_mod_4 <- glmmTMB(log(copies_per_g_fw + 1) ~ rate*target_strain + (1|trial/rep),\n",
    "                        zi = ~  rate*target_strain, \n",
    "                        family = \"gaussian\",\n",
    "                        data = qpcr)"
   ]
  },
  {
   "cell_type": "code",
   "execution_count": 15,
   "metadata": {
    "vscode": {
     "languageId": "r"
    }
   },
   "outputs": [
    {
     "data": {
      "image/png": "[encoded data removed]",
      "text/plain": [
       "Plot with title \"QQ plot residuals\""
      ]
     },
     "metadata": {
      "image/png": {
       "height": 240,
       "width": 480
      }
     },
     "output_type": "display_data"
    }
   ],
   "source": [
    "qpcr_mod_4_sims  <- simulateResiduals(fittedModel = qpcr_mod_4, plot = T)"
   ]
  },
  {
   "cell_type": "code",
   "execution_count": 16,
   "metadata": {
    "vscode": {
     "languageId": "r"
    }
   },
   "outputs": [
    {
     "data": {
      "text/html": [
       "<table class=\"dataframe\">\n",
       "<caption>A anova: 2 × 8</caption>\n",
       "<thead>\n",
       "\t<tr><th></th><th scope=col>Df</th><th scope=col>AIC</th><th scope=col>BIC</th><th scope=col>logLik</th><th scope=col>deviance</th><th scope=col>Chisq</th><th scope=col>Chi Df</th><th scope=col>Pr(&gt;Chisq)</th></tr>\n",
       "\t<tr><th></th><th scope=col>&lt;dbl&gt;</th><th scope=col>&lt;dbl&gt;</th><th scope=col>&lt;dbl&gt;</th><th scope=col>&lt;dbl&gt;</th><th scope=col>&lt;dbl&gt;</th><th scope=col>&lt;dbl&gt;</th><th scope=col>&lt;dbl&gt;</th><th scope=col>&lt;dbl&gt;</th></tr>\n",
       "</thead>\n",
       "<tbody>\n",
       "\t<tr><th scope=row>qpcr_mod_4</th><td>19</td><td>1907.141</td><td>1984.220</td><td>-934.5706</td><td>1869.141</td><td>      NA</td><td>NA</td><td>          NA</td></tr>\n",
       "\t<tr><th scope=row>qpcr_mod_3</th><td>21</td><td>1820.788</td><td>1905.981</td><td>-889.3941</td><td>1778.788</td><td>90.35297</td><td> 2</td><td>2.399393e-20</td></tr>\n",
       "</tbody>\n",
       "</table>\n"
      ],
      "text/latex": [
       "A anova: 2 × 8\n",
       "\\begin{tabular}{r|llllllll}\n",
       "  & Df & AIC & BIC & logLik & deviance & Chisq & Chi Df & Pr(>Chisq)\\\\\n",
       "  & <dbl> & <dbl> & <dbl> & <dbl> & <dbl> & <dbl> & <dbl> & <dbl>\\\\\n",
       "\\hline\n",
       "\tqpcr\\_mod\\_4 & 19 & 1907.141 & 1984.220 & -934.5706 & 1869.141 &       NA & NA &           NA\\\\\n",
       "\tqpcr\\_mod\\_3 & 21 & 1820.788 & 1905.981 & -889.3941 & 1778.788 & 90.35297 &  2 & 2.399393e-20\\\\\n",
       "\\end{tabular}\n"
      ],
      "text/markdown": [
       "\n",
       "A anova: 2 × 8\n",
       "\n",
       "| <!--/--> | Df &lt;dbl&gt; | AIC &lt;dbl&gt; | BIC &lt;dbl&gt; | logLik &lt;dbl&gt; | deviance &lt;dbl&gt; | Chisq &lt;dbl&gt; | Chi Df &lt;dbl&gt; | Pr(&gt;Chisq) &lt;dbl&gt; |\n",
       "|---|---|---|---|---|---|---|---|---|\n",
       "| qpcr_mod_4 | 19 | 1907.141 | 1984.220 | -934.5706 | 1869.141 |       NA | NA |           NA |\n",
       "| qpcr_mod_3 | 21 | 1820.788 | 1905.981 | -889.3941 | 1778.788 | 90.35297 |  2 | 2.399393e-20 |\n",
       "\n"
      ],
      "text/plain": [
       "           Df AIC      BIC      logLik    deviance Chisq    Chi Df Pr(>Chisq)  \n",
       "qpcr_mod_4 19 1907.141 1984.220 -934.5706 1869.141       NA NA               NA\n",
       "qpcr_mod_3 21 1820.788 1905.981 -889.3941 1778.788 90.35297  2     2.399393e-20"
      ]
     },
     "metadata": {},
     "output_type": "display_data"
    }
   ],
   "source": [
    "anova(qpcr_mod_3,qpcr_mod_4)"
   ]
  },
  {
   "cell_type": "code",
   "execution_count": 17,
   "metadata": {
    "vscode": {
     "languageId": "r"
    }
   },
   "outputs": [
    {
     "data": {
      "text/plain": [
       "\n",
       "Conditional model:\n",
       " Groups    Name        Std.Dev.\n",
       " rep:trial (Intercept) 0.56426 \n",
       " trial     (Intercept) 1.59561 \n",
       " Residual              2.06225 \n",
       "\n",
       "Zero-inflation model:\n",
       " Groups    Name        Std.Dev.  \n",
       " rep:trial (Intercept) 0.00021547\n",
       " trial     (Intercept) 1.79148126\n",
       " Residual              2.06224961"
      ]
     },
     "metadata": {},
     "output_type": "display_data"
    }
   ],
   "source": [
    "VarCorr(qpcr_mod_3)"
   ]
  },
  {
   "cell_type": "code",
   "execution_count": 18,
   "metadata": {
    "vscode": {
     "languageId": "r"
    }
   },
   "outputs": [
    {
     "data": {
      "text/plain": [
       "\n",
       "Conditional model:\n",
       " Groups    Name        Std.Dev.\n",
       " rep:trial (Intercept) 0.59371 \n",
       " trial     (Intercept) 1.59272 \n",
       " Residual              2.05442 "
      ]
     },
     "metadata": {},
     "output_type": "display_data"
    }
   ],
   "source": [
    "VarCorr(qpcr_mod_4)"
   ]
  },
  {
   "cell_type": "markdown",
   "metadata": {},
   "source": [
    "The more relaxed model `qpcr_mod_4` seemed to have helped with the lingering overdispersion. However, the fit to the data was significanlty reduced. Plus, there is reason to believe that zero data should also be driven my environmental contrains and not solely technical (e.g., specificity of the primers). So there appears to be risk of underfitting the data. \n",
    "\n",
    "## Model 5\n",
    "\n",
    "We might be able to deal with the overdispersion instead by modeling the variance as a function of our predictors.We begin to check whether there is significantly different variances among groups of data"
   ]
  },
  {
   "cell_type": "code",
   "execution_count": 19,
   "metadata": {
    "vscode": {
     "languageId": "r"
    }
   },
   "outputs": [
    {
     "data": {
      "text/html": [
       "<table class=\"dataframe\">\n",
       "<caption>A anova: 2 × 3</caption>\n",
       "<thead>\n",
       "\t<tr><th></th><th scope=col>Df</th><th scope=col>F value</th><th scope=col>Pr(&gt;F)</th></tr>\n",
       "\t<tr><th></th><th scope=col>&lt;int&gt;</th><th scope=col>&lt;dbl&gt;</th><th scope=col>&lt;dbl&gt;</th></tr>\n",
       "</thead>\n",
       "<tbody>\n",
       "\t<tr><th scope=row>group</th><td>  3</td><td>3.146683</td><td>0.02501305</td></tr>\n",
       "\t<tr><th scope=row> </th><td>423</td><td>      NA</td><td>        NA</td></tr>\n",
       "</tbody>\n",
       "</table>\n"
      ],
      "text/latex": [
       "A anova: 2 × 3\n",
       "\\begin{tabular}{r|lll}\n",
       "  & Df & F value & Pr(>F)\\\\\n",
       "  & <int> & <dbl> & <dbl>\\\\\n",
       "\\hline\n",
       "\tgroup &   3 & 3.146683 & 0.02501305\\\\\n",
       "\t  & 423 &       NA &         NA\\\\\n",
       "\\end{tabular}\n"
      ],
      "text/markdown": [
       "\n",
       "A anova: 2 × 3\n",
       "\n",
       "| <!--/--> | Df &lt;int&gt; | F value &lt;dbl&gt; | Pr(&gt;F) &lt;dbl&gt; |\n",
       "|---|---|---|---|\n",
       "| group |   3 | 3.146683 | 0.02501305 |\n",
       "| <!----> | 423 |       NA |         NA |\n",
       "\n"
      ],
      "text/plain": [
       "      Df  F value  Pr(>F)    \n",
       "group   3 3.146683 0.02501305\n",
       "      423       NA         NA"
      ]
     },
     "metadata": {},
     "output_type": "display_data"
    },
    {
     "data": {
      "text/html": [
       "<table class=\"dataframe\">\n",
       "<caption>A anova: 2 × 3</caption>\n",
       "<thead>\n",
       "\t<tr><th></th><th scope=col>Df</th><th scope=col>F value</th><th scope=col>Pr(&gt;F)</th></tr>\n",
       "\t<tr><th></th><th scope=col>&lt;int&gt;</th><th scope=col>&lt;dbl&gt;</th><th scope=col>&lt;dbl&gt;</th></tr>\n",
       "</thead>\n",
       "<tbody>\n",
       "\t<tr><th scope=row>group</th><td>  1</td><td>3.366774</td><td>0.06722263</td></tr>\n",
       "\t<tr><th scope=row> </th><td>425</td><td>      NA</td><td>        NA</td></tr>\n",
       "</tbody>\n",
       "</table>\n"
      ],
      "text/latex": [
       "A anova: 2 × 3\n",
       "\\begin{tabular}{r|lll}\n",
       "  & Df & F value & Pr(>F)\\\\\n",
       "  & <int> & <dbl> & <dbl>\\\\\n",
       "\\hline\n",
       "\tgroup &   1 & 3.366774 & 0.06722263\\\\\n",
       "\t  & 425 &       NA &         NA\\\\\n",
       "\\end{tabular}\n"
      ],
      "text/markdown": [
       "\n",
       "A anova: 2 × 3\n",
       "\n",
       "| <!--/--> | Df &lt;int&gt; | F value &lt;dbl&gt; | Pr(&gt;F) &lt;dbl&gt; |\n",
       "|---|---|---|---|\n",
       "| group |   1 | 3.366774 | 0.06722263 |\n",
       "| <!----> | 425 |       NA |         NA |\n",
       "\n"
      ],
      "text/plain": [
       "      Df  F value  Pr(>F)    \n",
       "group   1 3.366774 0.06722263\n",
       "      425       NA         NA"
      ]
     },
     "metadata": {},
     "output_type": "display_data"
    },
    {
     "data": {
      "text/html": [
       "<table class=\"dataframe\">\n",
       "<caption>A anova: 2 × 3</caption>\n",
       "<thead>\n",
       "\t<tr><th></th><th scope=col>Df</th><th scope=col>F value</th><th scope=col>Pr(&gt;F)</th></tr>\n",
       "\t<tr><th></th><th scope=col>&lt;int&gt;</th><th scope=col>&lt;dbl&gt;</th><th scope=col>&lt;dbl&gt;</th></tr>\n",
       "</thead>\n",
       "<tbody>\n",
       "\t<tr><th scope=row>group</th><td>  8</td><td>1.897645</td><td>0.05878729</td></tr>\n",
       "\t<tr><th scope=row> </th><td>418</td><td>      NA</td><td>        NA</td></tr>\n",
       "</tbody>\n",
       "</table>\n"
      ],
      "text/latex": [
       "A anova: 2 × 3\n",
       "\\begin{tabular}{r|lll}\n",
       "  & Df & F value & Pr(>F)\\\\\n",
       "  & <int> & <dbl> & <dbl>\\\\\n",
       "\\hline\n",
       "\tgroup &   8 & 1.897645 & 0.05878729\\\\\n",
       "\t  & 418 &       NA &         NA\\\\\n",
       "\\end{tabular}\n"
      ],
      "text/markdown": [
       "\n",
       "A anova: 2 × 3\n",
       "\n",
       "| <!--/--> | Df &lt;int&gt; | F value &lt;dbl&gt; | Pr(&gt;F) &lt;dbl&gt; |\n",
       "|---|---|---|---|\n",
       "| group |   8 | 1.897645 | 0.05878729 |\n",
       "| <!----> | 418 |       NA |         NA |\n",
       "\n"
      ],
      "text/plain": [
       "      Df  F value  Pr(>F)    \n",
       "group   8 1.897645 0.05878729\n",
       "      418       NA         NA"
      ]
     },
     "metadata": {},
     "output_type": "display_data"
    },
    {
     "name": "stderr",
     "output_type": "stream",
     "text": [
      "Warning message in leveneTest.default(y = y, group = group, ...):\n",
      "\"group coerced to factor.\"\n"
     ]
    },
    {
     "data": {
      "text/html": [
       "<table class=\"dataframe\">\n",
       "<caption>A anova: 2 × 3</caption>\n",
       "<thead>\n",
       "\t<tr><th></th><th scope=col>Df</th><th scope=col>F value</th><th scope=col>Pr(&gt;F)</th></tr>\n",
       "\t<tr><th></th><th scope=col>&lt;int&gt;</th><th scope=col>&lt;dbl&gt;</th><th scope=col>&lt;dbl&gt;</th></tr>\n",
       "</thead>\n",
       "<tbody>\n",
       "\t<tr><th scope=row>group</th><td> 53</td><td>0.9613747</td><td>0.554254</td></tr>\n",
       "\t<tr><th scope=row> </th><td>373</td><td>       NA</td><td>      NA</td></tr>\n",
       "</tbody>\n",
       "</table>\n"
      ],
      "text/latex": [
       "A anova: 2 × 3\n",
       "\\begin{tabular}{r|lll}\n",
       "  & Df & F value & Pr(>F)\\\\\n",
       "  & <int> & <dbl> & <dbl>\\\\\n",
       "\\hline\n",
       "\tgroup &  53 & 0.9613747 & 0.554254\\\\\n",
       "\t  & 373 &        NA &       NA\\\\\n",
       "\\end{tabular}\n"
      ],
      "text/markdown": [
       "\n",
       "A anova: 2 × 3\n",
       "\n",
       "| <!--/--> | Df &lt;int&gt; | F value &lt;dbl&gt; | Pr(&gt;F) &lt;dbl&gt; |\n",
       "|---|---|---|---|\n",
       "| group |  53 | 0.9613747 | 0.554254 |\n",
       "| <!----> | 373 |        NA |       NA |\n",
       "\n"
      ],
      "text/plain": [
       "      Df  F value   Pr(>F)  \n",
       "group  53 0.9613747 0.554254\n",
       "      373        NA       NA"
      ]
     },
     "metadata": {},
     "output_type": "display_data"
    }
   ],
   "source": [
    "# test for HOV across treatments\n",
    "leveneTest(log(copies_per_g_fw + 1) ~ rate, data=qpcr)\n",
    "leveneTest(log(copies_per_g_fw + 1) ~ target_strain, data=qpcr)\n",
    "leveneTest(log(copies_per_g_fw + 1) ~ trial, data=qpcr)\n",
    "leveneTest(log(copies_per_g_fw + 1) ~ paste0(trial,rep), data=qpcr)"
   ]
  },
  {
   "cell_type": "markdown",
   "metadata": {
    "vscode": {
     "languageId": "r"
    }
   },
   "source": [
    "There seems to be diffences in variance between rates and strains. We add the model via the `dispformula` argument. "
   ]
  },
  {
   "cell_type": "code",
   "execution_count": 20,
   "metadata": {
    "vscode": {
     "languageId": "r"
    }
   },
   "outputs": [
    {
     "data": {
      "text/html": [
       "<table class=\"dataframe\">\n",
       "<caption>A anova: 2 × 8</caption>\n",
       "<thead>\n",
       "\t<tr><th></th><th scope=col>Df</th><th scope=col>AIC</th><th scope=col>BIC</th><th scope=col>logLik</th><th scope=col>deviance</th><th scope=col>Chisq</th><th scope=col>Chi Df</th><th scope=col>Pr(&gt;Chisq)</th></tr>\n",
       "\t<tr><th></th><th scope=col>&lt;dbl&gt;</th><th scope=col>&lt;dbl&gt;</th><th scope=col>&lt;dbl&gt;</th><th scope=col>&lt;dbl&gt;</th><th scope=col>&lt;dbl&gt;</th><th scope=col>&lt;dbl&gt;</th><th scope=col>&lt;dbl&gt;</th><th scope=col>&lt;dbl&gt;</th></tr>\n",
       "</thead>\n",
       "<tbody>\n",
       "\t<tr><th scope=row>qpcr_mod_3</th><td>21</td><td>1820.788</td><td>1905.981</td><td>-889.3941</td><td>1778.788</td><td>      NA</td><td>NA</td><td>       NA</td></tr>\n",
       "\t<tr><th scope=row>qpcr_mod_5</th><td>25</td><td>1826.236</td><td>1927.656</td><td>-888.1181</td><td>1776.236</td><td>2.551925</td><td> 4</td><td>0.6353626</td></tr>\n",
       "</tbody>\n",
       "</table>\n"
      ],
      "text/latex": [
       "A anova: 2 × 8\n",
       "\\begin{tabular}{r|llllllll}\n",
       "  & Df & AIC & BIC & logLik & deviance & Chisq & Chi Df & Pr(>Chisq)\\\\\n",
       "  & <dbl> & <dbl> & <dbl> & <dbl> & <dbl> & <dbl> & <dbl> & <dbl>\\\\\n",
       "\\hline\n",
       "\tqpcr\\_mod\\_3 & 21 & 1820.788 & 1905.981 & -889.3941 & 1778.788 &       NA & NA &        NA\\\\\n",
       "\tqpcr\\_mod\\_5 & 25 & 1826.236 & 1927.656 & -888.1181 & 1776.236 & 2.551925 &  4 & 0.6353626\\\\\n",
       "\\end{tabular}\n"
      ],
      "text/markdown": [
       "\n",
       "A anova: 2 × 8\n",
       "\n",
       "| <!--/--> | Df &lt;dbl&gt; | AIC &lt;dbl&gt; | BIC &lt;dbl&gt; | logLik &lt;dbl&gt; | deviance &lt;dbl&gt; | Chisq &lt;dbl&gt; | Chi Df &lt;dbl&gt; | Pr(&gt;Chisq) &lt;dbl&gt; |\n",
       "|---|---|---|---|---|---|---|---|---|\n",
       "| qpcr_mod_3 | 21 | 1820.788 | 1905.981 | -889.3941 | 1778.788 |       NA | NA |        NA |\n",
       "| qpcr_mod_5 | 25 | 1826.236 | 1927.656 | -888.1181 | 1776.236 | 2.551925 |  4 | 0.6353626 |\n",
       "\n"
      ],
      "text/plain": [
       "           Df AIC      BIC      logLik    deviance Chisq    Chi Df Pr(>Chisq)\n",
       "qpcr_mod_3 21 1820.788 1905.981 -889.3941 1778.788       NA NA            NA \n",
       "qpcr_mod_5 25 1826.236 1927.656 -888.1181 1776.236 2.551925  4     0.6353626 "
      ]
     },
     "metadata": {},
     "output_type": "display_data"
    },
    {
     "data": {
      "image/png": "[encoded data removed]",
      "text/plain": [
       "Plot with title \"Residual vs. predicted\n",
       "Quantile deviations detected (red curves)\n",
       "Combined adjusted quantile test significant\""
      ]
     },
     "metadata": {
      "image/png": {
       "height": 240,
       "width": 480
      }
     },
     "output_type": "display_data"
    }
   ],
   "source": [
    "qpcr_mod_5 <- glmmTMB(log(copies_per_g_fw + 1) ~ rate*target_strain + (1|trial/rep),\n",
    "                        zi=~., # This is the zero-inflated model specification. For now, we keep the same as the conditional model\n",
    "                        dispformula  = ~ rate + target_strain,\n",
    "                        family = \"gaussian\",\n",
    "                        data = qpcr)\n",
    "\n",
    "qpcr_mod_5_sims  <- simulateResiduals(fittedModel = qpcr_mod_5, plot = T)\n",
    "anova(qpcr_mod_5,qpcr_mod_3)"
   ]
  },
  {
   "cell_type": "markdown",
   "metadata": {},
   "source": [
    "## Chosen model\n",
    "\n",
    "While `qpcr_mod_5` appears to be a bit overparemeterized without significant gain in the fit, the overdispersion seemed to be resolved. Thus we move ahead with this model.\n",
    "\n"
   ]
  },
  {
   "cell_type": "code",
   "execution_count": 21,
   "metadata": {
    "vscode": {
     "languageId": "r"
    }
   },
   "outputs": [
    {
     "data": {
      "text/plain": [
       " Family: gaussian  ( identity )\n",
       "Formula:          \n",
       "log(copies_per_g_fw + 1) ~ rate * target_strain + (1 | trial/rep)\n",
       "Zero inflation:                            ~.\n",
       "Dispersion:                                ~rate + target_strain\n",
       "Data: qpcr\n",
       "\n",
       "     AIC      BIC   logLik deviance df.resid \n",
       "  1826.2   1927.7   -888.1   1776.2      402 \n",
       "\n",
       "Random effects:\n",
       "\n",
       "Conditional model:\n",
       " Groups    Name        Variance Std.Dev.\n",
       " rep:trial (Intercept) 0.3499   0.5915  \n",
       " trial     (Intercept) 2.5266   1.5895  \n",
       " Residual                  NA       NA  \n",
       "Number of obs: 427, groups:  rep:trial, 54; trial, 9\n",
       "\n",
       "Zero-inflation model:\n",
       " Groups    Name        Variance  Std.Dev.\n",
       " rep:trial (Intercept) 5.197e-08 0.000228\n",
       " trial     (Intercept) 3.189e+00 1.785678\n",
       " Residual                     NA       NA\n",
       "Number of obs: 427, groups:  rep:trial, 54; trial, 9\n",
       "\n",
       "Conditional model:\n",
       "                                   Estimate Std. Error z value Pr(>|z|)    \n",
       "(Intercept)                          5.4097     0.6987   7.743 9.74e-15 ***\n",
       "rateLow                              0.9389     0.5641   1.664    0.096 .  \n",
       "rateMedium                           2.5498     0.5794   4.401 1.08e-05 ***\n",
       "rateHigh                             2.6933     0.5420   4.969 6.71e-07 ***\n",
       "target_strainKv137-2253             -0.1876     0.5416  -0.346    0.729    \n",
       "rateLow:target_strainKv137-2253      0.9562     0.6977   1.370    0.171    \n",
       "rateMedium:target_strainKv137-2253   0.2046     0.7247   0.282    0.778    \n",
       "rateHigh:target_strainKv137-2253     0.6158     0.6792   0.907    0.365    \n",
       "---\n",
       "Signif. codes:  0 '***' 0.001 '**' 0.01 '*' 0.05 '.' 0.1 ' ' 1\n",
       "\n",
       "Zero-inflation model:\n",
       "                                   Estimate Std. Error z value Pr(>|z|)    \n",
       "(Intercept)                          0.1964     0.6936   0.283  0.77701    \n",
       "rateLow                             -1.6702     0.5370  -3.110  0.00187 ** \n",
       "rateMedium                          -1.9308     0.5412  -3.568  0.00036 ***\n",
       "rateHigh                            -2.4640     0.5828  -4.228 2.36e-05 ***\n",
       "target_strainKv137-2253             -2.0119     0.5591  -3.599  0.00032 ***\n",
       "rateLow:target_strainKv137-2253      0.3810     0.8578   0.444  0.65696    \n",
       "rateMedium:target_strainKv137-2253  -0.4063     0.9851  -0.412  0.68000    \n",
       "rateHigh:target_strainKv137-2253     1.0593     0.8999   1.177  0.23915    \n",
       "---\n",
       "Signif. codes:  0 '***' 0.001 '**' 0.01 '*' 0.05 '.' 0.1 ' ' 1\n",
       "\n",
       "Dispersion model:\n",
       "                        Estimate Std. Error z value Pr(>|z|)    \n",
       "(Intercept)              1.51177    0.24441   6.185 6.19e-10 ***\n",
       "rateLow                 -0.05401    0.30173  -0.179    0.858    \n",
       "rateMedium               0.21063    0.28836   0.730    0.465    \n",
       "rateHigh                -0.08286    0.27575  -0.300    0.764    \n",
       "target_strainKv137-2253 -0.17651    0.18479  -0.955    0.339    \n",
       "---\n",
       "Signif. codes:  0 '***' 0.001 '**' 0.01 '*' 0.05 '.' 0.1 ' ' 1"
      ]
     },
     "metadata": {},
     "output_type": "display_data"
    }
   ],
   "source": [
    "qpcr_mod <- qpcr_mod_5\n",
    "summary(qpcr_mod)"
   ]
  },
  {
   "cell_type": "markdown",
   "metadata": {},
   "source": [
    "Note: The zero-inflation model estimates the probability of an extra zero, so `Estimate <0` indicates fewer absences (i.e., zeroes)\n",
    " "
   ]
  },
  {
   "cell_type": "markdown",
   "metadata": {},
   "source": [
    "The zero-inflation model estimates the probability of an extra zero, so `Estimate <0` indicates fewer absences (i.e., zeroes)"
   ]
  },
  {
   "cell_type": "code",
   "execution_count": 22,
   "metadata": {
    "vscode": {
     "languageId": "r"
    }
   },
   "outputs": [
    {
     "data": {
      "text/plain": [
       "\n",
       "Conditional model:\n",
       " Groups    Name        Std.Dev.\n",
       " rep:trial (Intercept) 0.59155 \n",
       " trial     (Intercept) 1.58952 \n",
       " Residual                   NA \n",
       "\n",
       "Zero-inflation model:\n",
       " Groups    Name        Std.Dev.  \n",
       " rep:trial (Intercept) 0.00022797\n",
       " trial     (Intercept) 1.78567775\n",
       " Residual                      NA"
      ]
     },
     "metadata": {},
     "output_type": "display_data"
    }
   ],
   "source": [
    "VarCorr(qpcr_mod)"
   ]
  },
  {
   "cell_type": "code",
   "execution_count": 23,
   "metadata": {
    "vscode": {
     "languageId": "r"
    }
   },
   "outputs": [],
   "source": [
    "qpcr_mod_zi_means <- emmeans(qpcr_mod,  trt.vs.ctrl ~ rate|target_strain, component = \"zi\", type = \"response\")"
   ]
  },
  {
   "cell_type": "code",
   "execution_count": 24,
   "metadata": {
    "vscode": {
     "languageId": "r"
    }
   },
   "outputs": [
    {
     "data": {
      "text/plain": [
       "target_strain = Ks6-5687:\n",
       " rate    response     SE  df lower.CL upper.CL\n",
       " Control    0.637 0.1094 402    0.466    0.841\n",
       " Low        0.443 0.0493 402    0.387    0.602\n",
       " Medium     0.427 0.0401 402    0.383    0.565\n",
       " High       0.404 0.0263 402    0.376    0.506\n",
       "\n",
       "target_strain = Kv137-2253:\n",
       " rate    response     SE  df lower.CL upper.CL\n",
       " Control    0.423 0.0382 402    0.381    0.557\n",
       " Low        0.384 0.0130 402    0.371    0.443\n",
       " Medium     0.374 0.0055 402    0.369    0.405\n",
       " High       0.382 0.0119 402    0.371    0.438\n",
       "\n",
       "Confidence level used: 0.95 \n",
       "Intervals are back-transformed from the log[logit(mu + 1)] scale "
      ]
     },
     "metadata": {},
     "output_type": "display_data"
    }
   ],
   "source": [
    "qpcr_mod_zi_means$emmeans"
   ]
  },
  {
   "cell_type": "code",
   "execution_count": 25,
   "metadata": {
    "vscode": {
     "languageId": "r"
    }
   },
   "outputs": [
    {
     "data": {
      "text/plain": [
       "target_strain = Ks6-5687:\n",
       " contrast         odds.ratio     SE  df null t.ratio p.value\n",
       " Low / Control          1.21 0.1220 402 2.72  -3.110  0.0058\n",
       " Medium / Control       1.16 0.0907 402 2.72  -3.568  0.0012\n",
       " High / Control         1.09 0.0540 402 2.72  -4.228  0.0001\n",
       "\n",
       "target_strain = Kv137-2253:\n",
       " contrast         odds.ratio     SE  df null t.ratio p.value\n",
       " Low / Control          1.32 0.2475 402 2.72  -1.891  0.1511\n",
       " Medium / Control       1.10 0.0896 402 2.72  -2.775  0.0163\n",
       " High / Control         1.28 0.2207 402 2.72  -1.997  0.1206\n",
       "\n",
       "P value adjustment: dunnettx method for 3 tests \n",
       "Tests are performed on the log[log odds ratio] scale "
      ]
     },
     "metadata": {},
     "output_type": "display_data"
    }
   ],
   "source": [
    "qpcr_mod_zi_means$contrasts"
   ]
  },
  {
   "cell_type": "code",
   "execution_count": 26,
   "metadata": {
    "vscode": {
     "languageId": "r"
    }
   },
   "outputs": [],
   "source": [
    "# Expected marginal means from the conditional model\n",
    "qpcr_mod_cond_means <- emmeans(qpcr_mod,  trt.vs.ctrl ~ rate|target_strain,  component = \"cond\", type =\"response\")"
   ]
  },
  {
   "cell_type": "code",
   "execution_count": 27,
   "metadata": {
    "vscode": {
     "languageId": "r"
    }
   },
   "outputs": [
    {
     "data": {
      "text/plain": [
       "target_strain = Ks6-5687:\n",
       " rate    response   SE  df lower.CL upper.CL\n",
       " Control      223  156 402     55.6      882\n",
       " Low          571  369 402    159.9     2031\n",
       " Medium      2862 1884 402    784.0    10437\n",
       " High        3304 2060 402    969.2    11254\n",
       "\n",
       "target_strain = Kv137-2253:\n",
       " rate    response   SE  df lower.CL upper.CL\n",
       " Control      184  115 402     53.5      629\n",
       " Low         1232  745 402    375.0     4043\n",
       " Medium      2911 1799 402    863.4     9808\n",
       " High        5070 3058 402   1549.1    16590\n",
       "\n",
       "Confidence level used: 0.95 \n",
       "Intervals are back-transformed from the log(mu + 1) scale "
      ]
     },
     "metadata": {},
     "output_type": "display_data"
    }
   ],
   "source": [
    "qpcr_mod_cond_means$emmeans"
   ]
  },
  {
   "cell_type": "code",
   "execution_count": 28,
   "metadata": {
    "vscode": {
     "languageId": "r"
    }
   },
   "outputs": [
    {
     "data": {
      "text/plain": [
       "target_strain = Ks6-5687:\n",
       " contrast         ratio    SE  df null t.ratio p.value\n",
       " Low / Control     2.56  1.44 402    1   1.664  0.2346\n",
       " Medium / Control 12.80  7.42 402    1   4.401  <.0001\n",
       " High / Control   14.78  8.01 402    1   4.969  <.0001\n",
       "\n",
       "target_strain = Kv137-2253:\n",
       " contrast         ratio    SE  df null t.ratio p.value\n",
       " Low / Control     6.65  2.80 402    1   4.509  <.0001\n",
       " Medium / Control 15.71  6.94 402    1   6.239  <.0001\n",
       " High / Control   27.36 11.43 402    1   7.925  <.0001\n",
       "\n",
       "P value adjustment: dunnettx method for 3 tests \n",
       "Tests are performed on the log scale "
      ]
     },
     "metadata": {},
     "output_type": "display_data"
    }
   ],
   "source": [
    "qpcr_mod_cond_means$contrasts"
   ]
  },
  {
   "cell_type": "markdown",
   "metadata": {},
   "source": [
    "## Add output from the zero inflation model"
   ]
  },
  {
   "cell_type": "code",
   "execution_count": 29,
   "metadata": {
    "vscode": {
     "languageId": "r"
    }
   },
   "outputs": [
    {
     "name": "stderr",
     "output_type": "stream",
     "text": [
      "\u001b[1m\u001b[22mJoining with `by = join_by(target_strain, rate)`\n",
      "\u001b[1m\u001b[22mJoining with `by = join_by(rate)`\n"
     ]
    },
    {
     "data": {
      "text/html": [
       "<table class=\"dataframe\">\n",
       "<caption>A data.frame: 8 × 9</caption>\n",
       "<thead>\n",
       "\t<tr><th scope=col>target_strain</th><th scope=col>rate</th><th scope=col>plab</th><th scope=col>response</th><th scope=col>SE</th><th scope=col>df</th><th scope=col>lower.CL</th><th scope=col>upper.CL</th><th scope=col>trt</th></tr>\n",
       "\t<tr><th scope=col>&lt;fct&gt;</th><th scope=col>&lt;fct&gt;</th><th scope=col>&lt;chr&gt;</th><th scope=col>&lt;dbl&gt;</th><th scope=col>&lt;dbl&gt;</th><th scope=col>&lt;dbl&gt;</th><th scope=col>&lt;dbl&gt;</th><th scope=col>&lt;dbl&gt;</th><th scope=col>&lt;fct&gt;</th></tr>\n",
       "</thead>\n",
       "<tbody>\n",
       "\t<tr><td>Ks6-5687  </td><td>Low    </td><td>p=0.23 </td><td> 570.6888</td><td> 368.7693</td><td>402</td><td> 159.85402</td><td> 2030.8306</td><td>PROVEN 40           </td></tr>\n",
       "\t<tr><td><span style=white-space:pre-wrap>Ks6-5687  </span></td><td>Medium </td><td>p&lt;0.001</td><td>2861.5965</td><td>1883.8748</td><td>402</td><td> 784.04183</td><td>10437.2449</td><td><span style=white-space:pre-wrap>PROVEN 40           </span></td></tr>\n",
       "\t<tr><td><span style=white-space:pre-wrap>Ks6-5687  </span></td><td><span style=white-space:pre-wrap>High   </span></td><td>p&lt;0.001</td><td>3303.5898</td><td>2060.0555</td><td>402</td><td> 969.24803</td><td>11254.1776</td><td><span style=white-space:pre-wrap>PROVEN 40           </span></td></tr>\n",
       "\t<tr><td>Kv137-2253</td><td><span style=white-space:pre-wrap>Low    </span></td><td>p&lt;0.001</td><td>1232.0580</td><td> 745.0049</td><td>402</td><td> 374.95904</td><td> 4043.1429</td><td><span style=white-space:pre-wrap>PROVEN 40           </span></td></tr>\n",
       "\t<tr><td>Kv137-2253</td><td>Medium </td><td>p&lt;0.001</td><td>2910.8381</td><td>1798.9847</td><td>402</td><td> 863.35450</td><td> 9808.4023</td><td><span style=white-space:pre-wrap>PROVEN 40           </span></td></tr>\n",
       "\t<tr><td>Kv137-2253</td><td><span style=white-space:pre-wrap>High   </span></td><td>p&lt;0.001</td><td>5070.2523</td><td>3057.6264</td><td>402</td><td>1549.05725</td><td>16590.3870</td><td><span style=white-space:pre-wrap>PROVEN 40           </span></td></tr>\n",
       "\t<tr><td>Ks6-5687  </td><td>Control</td><td>NA     </td><td> 222.5697</td><td> 156.2070</td><td>402</td><td>  55.60917</td><td>  881.9558</td><td>Uninoculated Control</td></tr>\n",
       "\t<tr><td>Kv137-2253</td><td>Control</td><td>NA     </td><td> 184.3322</td><td> 115.4176</td><td>402</td><td>  53.48230</td><td>  629.4440</td><td>Uninoculated Control</td></tr>\n",
       "</tbody>\n",
       "</table>\n"
      ],
      "text/latex": [
       "A data.frame: 8 × 9\n",
       "\\begin{tabular}{lllllllll}\n",
       " target\\_strain & rate & plab & response & SE & df & lower.CL & upper.CL & trt\\\\\n",
       " <fct> & <fct> & <chr> & <dbl> & <dbl> & <dbl> & <dbl> & <dbl> & <fct>\\\\\n",
       "\\hline\n",
       "\t Ks6-5687   & Low     & p=0.23  &  570.6888 &  368.7693 & 402 &  159.85402 &  2030.8306 & PROVEN 40           \\\\\n",
       "\t Ks6-5687   & Medium  & p<0.001 & 2861.5965 & 1883.8748 & 402 &  784.04183 & 10437.2449 & PROVEN 40           \\\\\n",
       "\t Ks6-5687   & High    & p<0.001 & 3303.5898 & 2060.0555 & 402 &  969.24803 & 11254.1776 & PROVEN 40           \\\\\n",
       "\t Kv137-2253 & Low     & p<0.001 & 1232.0580 &  745.0049 & 402 &  374.95904 &  4043.1429 & PROVEN 40           \\\\\n",
       "\t Kv137-2253 & Medium  & p<0.001 & 2910.8381 & 1798.9847 & 402 &  863.35450 &  9808.4023 & PROVEN 40           \\\\\n",
       "\t Kv137-2253 & High    & p<0.001 & 5070.2523 & 3057.6264 & 402 & 1549.05725 & 16590.3870 & PROVEN 40           \\\\\n",
       "\t Ks6-5687   & Control & NA      &  222.5697 &  156.2070 & 402 &   55.60917 &   881.9558 & Uninoculated Control\\\\\n",
       "\t Kv137-2253 & Control & NA      &  184.3322 &  115.4176 & 402 &   53.48230 &   629.4440 & Uninoculated Control\\\\\n",
       "\\end{tabular}\n"
      ],
      "text/markdown": [
       "\n",
       "A data.frame: 8 × 9\n",
       "\n",
       "| target_strain &lt;fct&gt; | rate &lt;fct&gt; | plab &lt;chr&gt; | response &lt;dbl&gt; | SE &lt;dbl&gt; | df &lt;dbl&gt; | lower.CL &lt;dbl&gt; | upper.CL &lt;dbl&gt; | trt &lt;fct&gt; |\n",
       "|---|---|---|---|---|---|---|---|---|\n",
       "| Ks6-5687   | Low     | p=0.23  |  570.6888 |  368.7693 | 402 |  159.85402 |  2030.8306 | PROVEN 40            |\n",
       "| Ks6-5687   | Medium  | p&lt;0.001 | 2861.5965 | 1883.8748 | 402 |  784.04183 | 10437.2449 | PROVEN 40            |\n",
       "| Ks6-5687   | High    | p&lt;0.001 | 3303.5898 | 2060.0555 | 402 |  969.24803 | 11254.1776 | PROVEN 40            |\n",
       "| Kv137-2253 | Low     | p&lt;0.001 | 1232.0580 |  745.0049 | 402 |  374.95904 |  4043.1429 | PROVEN 40            |\n",
       "| Kv137-2253 | Medium  | p&lt;0.001 | 2910.8381 | 1798.9847 | 402 |  863.35450 |  9808.4023 | PROVEN 40            |\n",
       "| Kv137-2253 | High    | p&lt;0.001 | 5070.2523 | 3057.6264 | 402 | 1549.05725 | 16590.3870 | PROVEN 40            |\n",
       "| Ks6-5687   | Control | NA      |  222.5697 |  156.2070 | 402 |   55.60917 |   881.9558 | Uninoculated Control |\n",
       "| Kv137-2253 | Control | NA      |  184.3322 |  115.4176 | 402 |   53.48230 |   629.4440 | Uninoculated Control |\n",
       "\n"
      ],
      "text/plain": [
       "  target_strain rate    plab    response  SE        df  lower.CL   upper.CL  \n",
       "1 Ks6-5687      Low     p=0.23   570.6888  368.7693 402  159.85402  2030.8306\n",
       "2 Ks6-5687      Medium  p<0.001 2861.5965 1883.8748 402  784.04183 10437.2449\n",
       "3 Ks6-5687      High    p<0.001 3303.5898 2060.0555 402  969.24803 11254.1776\n",
       "4 Kv137-2253    Low     p<0.001 1232.0580  745.0049 402  374.95904  4043.1429\n",
       "5 Kv137-2253    Medium  p<0.001 2910.8381 1798.9847 402  863.35450  9808.4023\n",
       "6 Kv137-2253    High    p<0.001 5070.2523 3057.6264 402 1549.05725 16590.3870\n",
       "7 Ks6-5687      Control NA       222.5697  156.2070 402   55.60917   881.9558\n",
       "8 Kv137-2253    Control NA       184.3322  115.4176 402   53.48230   629.4440\n",
       "  trt                 \n",
       "1 PROVEN 40           \n",
       "2 PROVEN 40           \n",
       "3 PROVEN 40           \n",
       "4 PROVEN 40           \n",
       "5 PROVEN 40           \n",
       "6 PROVEN 40           \n",
       "7 Uninoculated Control\n",
       "8 Uninoculated Control"
      ]
     },
     "metadata": {},
     "output_type": "display_data"
    },
    {
     "name": "stderr",
     "output_type": "stream",
     "text": [
      "\u001b[1m\u001b[22mJoining with `by = join_by(target_strain, rate)`\n",
      "\u001b[1m\u001b[22mJoining with `by = join_by(rate)`\n"
     ]
    },
    {
     "data": {
      "text/html": [
       "<table class=\"dataframe\">\n",
       "<caption>A data.frame: 8 × 9</caption>\n",
       "<thead>\n",
       "\t<tr><th scope=col>target_strain</th><th scope=col>rate</th><th scope=col>plab</th><th scope=col>response</th><th scope=col>SE</th><th scope=col>df</th><th scope=col>lower.CL</th><th scope=col>upper.CL</th><th scope=col>trt</th></tr>\n",
       "\t<tr><th scope=col>&lt;fct&gt;</th><th scope=col>&lt;fct&gt;</th><th scope=col>&lt;chr&gt;</th><th scope=col>&lt;dbl&gt;</th><th scope=col>&lt;dbl&gt;</th><th scope=col>&lt;dbl&gt;</th><th scope=col>&lt;dbl&gt;</th><th scope=col>&lt;dbl&gt;</th><th scope=col>&lt;fct&gt;</th></tr>\n",
       "</thead>\n",
       "<tbody>\n",
       "\t<tr><td>Ks6-5687  </td><td>Low    </td><td>p=0.0058</td><td>0.4432469</td><td>0.049313264</td><td>402</td><td>0.3872685</td><td>0.6017863</td><td>PROVEN 40           </td></tr>\n",
       "\t<tr><td>Ks6-5687  </td><td>Medium </td><td>p=0.0012</td><td>0.4274295</td><td>0.040138070</td><td>402</td><td>0.3828355</td><td>0.5648537</td><td>PROVEN 40           </td></tr>\n",
       "\t<tr><td><span style=white-space:pre-wrap>Ks6-5687  </span></td><td><span style=white-space:pre-wrap>High   </span></td><td>p&lt;0.001 </td><td>0.4040748</td><td>0.026332431</td><td>402</td><td>0.3762290</td><td>0.5058162</td><td><span style=white-space:pre-wrap>PROVEN 40           </span></td></tr>\n",
       "\t<tr><td>Kv137-2253</td><td>Low    </td><td>p=0.15  </td><td>0.3840098</td><td>0.013045648</td><td>402</td><td>0.3711097</td><td>0.4429193</td><td>PROVEN 40           </td></tr>\n",
       "\t<tr><td>Kv137-2253</td><td>Medium </td><td>p=0.016 </td><td>0.3736186</td><td>0.005501006</td><td>402</td><td>0.3687443</td><td>0.4045648</td><td>PROVEN 40           </td></tr>\n",
       "\t<tr><td>Kv137-2253</td><td>High   </td><td>p=0.12  </td><td>0.3822855</td><td>0.011934614</td><td>402</td><td>0.3706587</td><td>0.4377278</td><td>PROVEN 40           </td></tr>\n",
       "\t<tr><td>Ks6-5687  </td><td>Control</td><td>NA      </td><td>0.6369613</td><td>0.109392695</td><td>402</td><td>0.4664407</td><td>0.8405950</td><td>Uninoculated Control</td></tr>\n",
       "\t<tr><td>Kv137-2253</td><td>Control</td><td>NA      </td><td>0.4231516</td><td>0.038214825</td><td>402</td><td>0.3813285</td><td>0.5574620</td><td>Uninoculated Control</td></tr>\n",
       "</tbody>\n",
       "</table>\n"
      ],
      "text/latex": [
       "A data.frame: 8 × 9\n",
       "\\begin{tabular}{lllllllll}\n",
       " target\\_strain & rate & plab & response & SE & df & lower.CL & upper.CL & trt\\\\\n",
       " <fct> & <fct> & <chr> & <dbl> & <dbl> & <dbl> & <dbl> & <dbl> & <fct>\\\\\n",
       "\\hline\n",
       "\t Ks6-5687   & Low     & p=0.0058 & 0.4432469 & 0.049313264 & 402 & 0.3872685 & 0.6017863 & PROVEN 40           \\\\\n",
       "\t Ks6-5687   & Medium  & p=0.0012 & 0.4274295 & 0.040138070 & 402 & 0.3828355 & 0.5648537 & PROVEN 40           \\\\\n",
       "\t Ks6-5687   & High    & p<0.001  & 0.4040748 & 0.026332431 & 402 & 0.3762290 & 0.5058162 & PROVEN 40           \\\\\n",
       "\t Kv137-2253 & Low     & p=0.15   & 0.3840098 & 0.013045648 & 402 & 0.3711097 & 0.4429193 & PROVEN 40           \\\\\n",
       "\t Kv137-2253 & Medium  & p=0.016  & 0.3736186 & 0.005501006 & 402 & 0.3687443 & 0.4045648 & PROVEN 40           \\\\\n",
       "\t Kv137-2253 & High    & p=0.12   & 0.3822855 & 0.011934614 & 402 & 0.3706587 & 0.4377278 & PROVEN 40           \\\\\n",
       "\t Ks6-5687   & Control & NA       & 0.6369613 & 0.109392695 & 402 & 0.4664407 & 0.8405950 & Uninoculated Control\\\\\n",
       "\t Kv137-2253 & Control & NA       & 0.4231516 & 0.038214825 & 402 & 0.3813285 & 0.5574620 & Uninoculated Control\\\\\n",
       "\\end{tabular}\n"
      ],
      "text/markdown": [
       "\n",
       "A data.frame: 8 × 9\n",
       "\n",
       "| target_strain &lt;fct&gt; | rate &lt;fct&gt; | plab &lt;chr&gt; | response &lt;dbl&gt; | SE &lt;dbl&gt; | df &lt;dbl&gt; | lower.CL &lt;dbl&gt; | upper.CL &lt;dbl&gt; | trt &lt;fct&gt; |\n",
       "|---|---|---|---|---|---|---|---|---|\n",
       "| Ks6-5687   | Low     | p=0.0058 | 0.4432469 | 0.049313264 | 402 | 0.3872685 | 0.6017863 | PROVEN 40            |\n",
       "| Ks6-5687   | Medium  | p=0.0012 | 0.4274295 | 0.040138070 | 402 | 0.3828355 | 0.5648537 | PROVEN 40            |\n",
       "| Ks6-5687   | High    | p&lt;0.001  | 0.4040748 | 0.026332431 | 402 | 0.3762290 | 0.5058162 | PROVEN 40            |\n",
       "| Kv137-2253 | Low     | p=0.15   | 0.3840098 | 0.013045648 | 402 | 0.3711097 | 0.4429193 | PROVEN 40            |\n",
       "| Kv137-2253 | Medium  | p=0.016  | 0.3736186 | 0.005501006 | 402 | 0.3687443 | 0.4045648 | PROVEN 40            |\n",
       "| Kv137-2253 | High    | p=0.12   | 0.3822855 | 0.011934614 | 402 | 0.3706587 | 0.4377278 | PROVEN 40            |\n",
       "| Ks6-5687   | Control | NA       | 0.6369613 | 0.109392695 | 402 | 0.4664407 | 0.8405950 | Uninoculated Control |\n",
       "| Kv137-2253 | Control | NA       | 0.4231516 | 0.038214825 | 402 | 0.3813285 | 0.5574620 | Uninoculated Control |\n",
       "\n"
      ],
      "text/plain": [
       "  target_strain rate    plab     response  SE          df  lower.CL  upper.CL \n",
       "1 Ks6-5687      Low     p=0.0058 0.4432469 0.049313264 402 0.3872685 0.6017863\n",
       "2 Ks6-5687      Medium  p=0.0012 0.4274295 0.040138070 402 0.3828355 0.5648537\n",
       "3 Ks6-5687      High    p<0.001  0.4040748 0.026332431 402 0.3762290 0.5058162\n",
       "4 Kv137-2253    Low     p=0.15   0.3840098 0.013045648 402 0.3711097 0.4429193\n",
       "5 Kv137-2253    Medium  p=0.016  0.3736186 0.005501006 402 0.3687443 0.4045648\n",
       "6 Kv137-2253    High    p=0.12   0.3822855 0.011934614 402 0.3706587 0.4377278\n",
       "7 Ks6-5687      Control NA       0.6369613 0.109392695 402 0.4664407 0.8405950\n",
       "8 Kv137-2253    Control NA       0.4231516 0.038214825 402 0.3813285 0.5574620\n",
       "  trt                 \n",
       "1 PROVEN 40           \n",
       "2 PROVEN 40           \n",
       "3 PROVEN 40           \n",
       "4 PROVEN 40           \n",
       "5 PROVEN 40           \n",
       "6 PROVEN 40           \n",
       "7 Uninoculated Control\n",
       "8 Uninoculated Control"
      ]
     },
     "metadata": {},
     "output_type": "display_data"
    }
   ],
   "source": [
    "qpcr_mod_cond_means_table <- data.frame(qpcr_mod_cond_means$contrasts) %>% \n",
    "    transmute(target_strain, rate = factor(gsub(\" / Control\",\"\",contrast),levels = rate_levels),\n",
    "    plab = ifelse(p.value < 0.001,\"p<0.001\",paste0(\"p=\",signif(p.value,2)))) %>% \n",
    "    full_join(data.frame(qpcr_mod_cond_means$emmeans)) %>%\n",
    "left_join(qpcr %>% dplyr::select(rate,trt) %>% unique)# %>% \n",
    "\n",
    "qpcr_mod_cond_means_table\n",
    "\n",
    "qpcr_mod_zi_means_table <- data.frame(qpcr_mod_zi_means$contrasts) %>% \n",
    "    transmute(target_strain, rate = factor(gsub(\" / Control\",\"\",contrast),levels = rate_levels),\n",
    "    plab = ifelse(p.value < 0.001,\"p<0.001\",paste0(\"p=\",signif(p.value,2)))) %>% \n",
    "    full_join(data.frame(qpcr_mod_zi_means$emmeans)) %>%\n",
    "left_join(qpcr %>% dplyr::select(rate,trt) %>% unique)# %>% \n",
    "\n",
    "qpcr_mod_zi_means_table"
   ]
  },
  {
   "cell_type": "code",
   "execution_count": 30,
   "metadata": {
    "vscode": {
     "languageId": "r"
    }
   },
   "outputs": [],
   "source": [
    "names(qpcr_mod_cond_means_table) <- gsub(\"asymp.L\",\"lower.\",names(qpcr_mod_cond_means_table))\n",
    "names(qpcr_mod_cond_means_table) <- gsub(\"asymp.U\",\"upper.\",names(qpcr_mod_cond_means_table))\n",
    "names(qpcr_mod_cond_means_table) <- gsub(\"emmean\",\"response\",names(qpcr_mod_cond_means_table))\n",
    "\n",
    "names(qpcr_mod_zi_means_table) <- gsub(\"asymp.L\",\"lower.\",names(qpcr_mod_zi_means_table))\n",
    "names(qpcr_mod_zi_means_table) <- gsub(\"asymp.U\",\"upper.\",names(qpcr_mod_zi_means_table))\n",
    "names(qpcr_mod_zi_means_table) <- gsub(\"emmean\",\"response\",names(qpcr_mod_zi_means_table))"
   ]
  },
  {
   "cell_type": "code",
   "execution_count": 31,
   "metadata": {
    "vscode": {
     "languageId": "r"
    }
   },
   "outputs": [],
   "source": [
    "p1 <- qpcr_mod_cond_means_table %>% \n",
    "mutate(model = \"Conditional model\") %>% \n",
    "ggplot(aes(x =rate,response, fill = target_strain)) + \n",
    "facet_wrap(~model, scales = \"free\") +\n",
    "geom_col(colour = \"gray10\", width = 0.5, aes(), position = \"dodge\") + \n",
    "geom_errorbar(aes(ymax = upper.CL, ymin = lower.CL), width = 0.3, position = position_dodge(width = 0.5)) + \n",
    "geom_text(aes(label = plab, y = upper.CL*1.5), hjust = 0.85, size = 2.5, position = position_dodge(width = 0.5)) + \n",
    "scale_y_log10(breaks = c(10,100,1000,10000,100000)) +\n",
    "#coord_cartesian(ylim  = c(10,100000), xlim = c(0.3,5.8), expand = F) +\n",
    "scale_fill_manual(values = myColorPalette) +\n",
    "#scale_x_continuous(breaks = 1:5, labels=parse(text=c(\"0\",\"10^2\",\"10^3\",\"10^4\",\"10^5\"))) + \n",
    "labs(y = \"Copies per g of root fresh weight\", x = \"Inoculation rate treatment\", fill = \"Primer strain target:\") + \n",
    "theme(axis.text.x = element_text(vjust = 0)) "
   ]
  },
  {
   "cell_type": "code",
   "execution_count": 32,
   "metadata": {
    "vscode": {
     "languageId": "r"
    }
   },
   "outputs": [],
   "source": [
    "p2 <- qpcr_mod_zi_means_table %>% \n",
    "mutate(model = \"Zero-inflation model\") %>% \n",
    "ggplot(aes(x = rate,response, fill = target_strain)) + \n",
    "facet_wrap(~model, scales = \"free\") +\n",
    "geom_col(colour = \"gray10\", width = 0.5, aes(), position = \"dodge\") + \n",
    "geom_errorbar(aes(ymax = upper.CL, ymin = lower.CL), width = 0.3, position = position_dodge(width = 0.5)) + \n",
    "geom_text(aes(label = plab, y = upper.CL + 0.05), hjust = 0.15, size = 2.5, position = position_dodge(width = 0.5)) + \n",
    "#coord_cartesian(ylim  = c(0,1), xlim = c(0.3,5.8), expand = F) +\n",
    "scale_fill_manual(values = myColorPalette) +\n",
    "#scale_x_continuous(breaks = 1:5, labels=parse(text=c(\"0\",\"10^2\",\"10^3\",\"10^4\",\"10^5\"))) + \n",
    "labs(y = \"Prob. of zero copies\", x = \"Inoculation rate treatment\", fill = \"Primer strain target:\") + \n",
    "theme(axis.text.x = element_text(vjust = 0)) "
   ]
  },
  {
   "cell_type": "code",
   "execution_count": 33,
   "metadata": {
    "vscode": {
     "languageId": "r"
    }
   },
   "outputs": [
    {
     "name": "stderr",
     "output_type": "stream",
     "text": [
      "Warning message:\n",
      "\"\u001b[1m\u001b[22mRemoved 2 rows containing missing values (`geom_text()`).\"\n",
      "Warning message:\n",
      "\"\u001b[1m\u001b[22mRemoved 2 rows containing missing values (`geom_text()`).\"\n",
      "Warning message:\n",
      "\"\u001b[1m\u001b[22mRemoved 2 rows containing missing values (`geom_text()`).\"\n"
     ]
    },
    {
     "data": {
      "image/png": "[encoded data removed]",
      "text/plain": [
       "plot without title"
      ]
     },
     "metadata": {
      "image/png": {
       "height": 240,
       "width": 480
      }
     },
     "output_type": "display_data"
    }
   ],
   "source": [
    "options(repr.plot.width=8, repr.plot.height=4)\n",
    "\n",
    "ggarrange(p1,p2, common.legend = TRUE)"
   ]
  },
  {
   "cell_type": "code",
   "execution_count": 34,
   "metadata": {
    "vscode": {
     "languageId": "r"
    }
   },
   "outputs": [
    {
     "name": "stderr",
     "output_type": "stream",
     "text": [
      "Warning message in checkTerms(data.tmb1$terms, data.tmb0$terms):\n",
      "\"Predicting new random effect levels for terms: 1 | rep:trial\n",
      "Disable this warning with 'allow.new.levels=TRUE'\"\n",
      "Warning message in checkTerms(data.tmb1$termszi, data.tmb0$termszi):\n",
      "\"Predicting new random effect levels for terms: 1 | rep:trial\n",
      "Disable this warning with 'allow.new.levels=TRUE'\"\n"
     ]
    }
   ],
   "source": [
    "qpcr_mod_comb_means <- emmeans(qpcr_mod,  trt.vs.ctrl ~ rate|target_strain, component = \"response\", type= \"response\")"
   ]
  },
  {
   "cell_type": "code",
   "execution_count": 35,
   "metadata": {
    "vscode": {
     "languageId": "r"
    }
   },
   "outputs": [
    {
     "data": {
      "text/plain": [
       "target_strain = Ks6-5687:\n",
       " rate    response     SE  df lower.CL upper.CL\n",
       " Control     10.5   11.2 402     0.68     77.3\n",
       " Low        174.1  152.3 402    30.69    966.6\n",
       " Medium     866.2  806.2 402   138.46   5391.8\n",
       " High      1543.8 1192.4 402   337.74   7043.9\n",
       "\n",
       "target_strain = Kv137-2253:\n",
       " rate    response     SE  df lower.CL upper.CL\n",
       " Control     88.2   63.0 402    21.28    356.4\n",
       " Low        907.5  568.8 402   264.37   3109.4\n",
       " Medium    2572.6 1590.1 402   762.91   8669.4\n",
       " High      3653.2 2330.8 402  1041.87  12803.2\n",
       "\n",
       "Confidence level used: 0.95 \n",
       "Intervals are back-transformed from the log(mu + 1) scale "
      ]
     },
     "metadata": {},
     "output_type": "display_data"
    }
   ],
   "source": [
    "qpcr_mod_comb_means$emmeans"
   ]
  },
  {
   "cell_type": "code",
   "execution_count": 36,
   "metadata": {
    "vscode": {
     "languageId": "r"
    }
   },
   "outputs": [
    {
     "data": {
      "text/plain": [
       "target_strain = Ks6-5687:\n",
       " contrast         ratio     SE  df null t.ratio p.value\n",
       " Low / Control     15.3  11.36 402    1   3.661  0.0008\n",
       " Medium / Control  75.6  58.65 402    1   5.574  <.0001\n",
       " High / Control   134.6 107.72 402    1   6.128  <.0001\n",
       "\n",
       "target_strain = Kv137-2253:\n",
       " contrast         ratio     SE  df null t.ratio p.value\n",
       " Low / Control     10.2   5.32 402    1   4.444  <.0001\n",
       " Medium / Control  28.8  16.66 402    1   5.819  <.0001\n",
       " High / Control    41.0  21.43 402    1   7.096  <.0001\n",
       "\n",
       "P value adjustment: dunnettx method for 3 tests \n",
       "Tests are performed on the log scale "
      ]
     },
     "metadata": {},
     "output_type": "display_data"
    }
   ],
   "source": [
    "qpcr_mod_comb_means$contrasts"
   ]
  },
  {
   "cell_type": "code",
   "execution_count": 37,
   "metadata": {
    "vscode": {
     "languageId": "r"
    }
   },
   "outputs": [
    {
     "name": "stderr",
     "output_type": "stream",
     "text": [
      "\u001b[1m\u001b[22mJoining with `by = join_by(target_strain, rate)`\n",
      "\u001b[1m\u001b[22mJoining with `by = join_by(rate)`\n"
     ]
    }
   ],
   "source": [
    "qpcr_mod_comb_means_table <- data.frame(qpcr_mod_comb_means$contrasts) %>% \n",
    "    transmute(target_strain, rate = factor(gsub(\" / Control\",\"\",contrast),levels = rate_levels),\n",
    "    plab = ifelse(p.value < 0.0001,\"p<0.0001\",paste0(\"p=\",signif(p.value,2)))) %>% \n",
    "    full_join(data.frame(qpcr_mod_comb_means$emmeans)) %>%\n",
    "left_join(qpcr %>% dplyr::select(rate,trt) %>% unique)\n"
   ]
  },
  {
   "cell_type": "code",
   "execution_count": 38,
   "metadata": {
    "vscode": {
     "languageId": "r"
    }
   },
   "outputs": [],
   "source": [
    "names(qpcr_mod_comb_means_table) <- gsub(\"asymp.L\",\"lower.\",names(qpcr_mod_comb_means_table))\n",
    "names(qpcr_mod_comb_means_table) <- gsub(\"asymp.U\",\"upper.\",names(qpcr_mod_comb_means_table))\n",
    "names(qpcr_mod_comb_means_table) <- gsub(\"emmean|estimate\",\"response\",names(qpcr_mod_comb_means_table))"
   ]
  },
  {
   "cell_type": "code",
   "execution_count": 39,
   "metadata": {
    "vscode": {
     "languageId": "r"
    }
   },
   "outputs": [
    {
     "data": {
      "text/html": [
       "<table class=\"dataframe\">\n",
       "<caption>A data.frame: 8 × 9</caption>\n",
       "<thead>\n",
       "\t<tr><th scope=col>target_strain</th><th scope=col>rate</th><th scope=col>plab</th><th scope=col>response</th><th scope=col>SE</th><th scope=col>df</th><th scope=col>lower.CL</th><th scope=col>upper.CL</th><th scope=col>trt</th></tr>\n",
       "\t<tr><th scope=col>&lt;fct&gt;</th><th scope=col>&lt;fct&gt;</th><th scope=col>&lt;chr&gt;</th><th scope=col>&lt;dbl&gt;</th><th scope=col>&lt;dbl&gt;</th><th scope=col>&lt;dbl&gt;</th><th scope=col>&lt;dbl&gt;</th><th scope=col>&lt;dbl&gt;</th><th scope=col>&lt;fct&gt;</th></tr>\n",
       "</thead>\n",
       "<tbody>\n",
       "\t<tr><td>Ks6-5687  </td><td>Low    </td><td>p=0.00084</td><td> 174.10688</td><td> 152.26676</td><td>402</td><td>  30.6878841</td><td>  966.63857</td><td>PROVEN 40           </td></tr>\n",
       "\t<tr><td><span style=white-space:pre-wrap>Ks6-5687  </span></td><td>Medium </td><td>p&lt;0.0001 </td><td> 866.21820</td><td> 806.18815</td><td>402</td><td> 138.4569523</td><td> 5391.82830</td><td><span style=white-space:pre-wrap>PROVEN 40           </span></td></tr>\n",
       "\t<tr><td><span style=white-space:pre-wrap>Ks6-5687  </span></td><td><span style=white-space:pre-wrap>High   </span></td><td>p&lt;0.0001 </td><td>1543.78210</td><td>1192.37963</td><td>402</td><td> 337.7360710</td><td> 7043.87042</td><td><span style=white-space:pre-wrap>PROVEN 40           </span></td></tr>\n",
       "\t<tr><td>Kv137-2253</td><td><span style=white-space:pre-wrap>Low    </span></td><td>p&lt;0.0001 </td><td> 907.53238</td><td> 568.76408</td><td>402</td><td> 264.3735957</td><td> 3109.44919</td><td><span style=white-space:pre-wrap>PROVEN 40           </span></td></tr>\n",
       "\t<tr><td>Kv137-2253</td><td>Medium </td><td>p&lt;0.0001 </td><td>2572.59934</td><td>1590.08877</td><td>402</td><td> 762.9080566</td><td> 8669.43293</td><td><span style=white-space:pre-wrap>PROVEN 40           </span></td></tr>\n",
       "\t<tr><td>Kv137-2253</td><td><span style=white-space:pre-wrap>High   </span></td><td>p&lt;0.0001 </td><td>3653.20128</td><td>2330.75767</td><td>402</td><td>1041.8730290</td><td>12803.23086</td><td><span style=white-space:pre-wrap>PROVEN 40           </span></td></tr>\n",
       "\t<tr><td>Ks6-5687  </td><td>Control</td><td>NA       </td><td>  10.47345</td><td>  11.21200</td><td>402</td><td>   0.6802644</td><td>   77.34489</td><td>Uninoculated Control</td></tr>\n",
       "\t<tr><td>Kv137-2253</td><td>Control</td><td>NA       </td><td>  88.22650</td><td>  62.97881</td><td>402</td><td>  21.2779575</td><td>  356.36530</td><td>Uninoculated Control</td></tr>\n",
       "</tbody>\n",
       "</table>\n"
      ],
      "text/latex": [
       "A data.frame: 8 × 9\n",
       "\\begin{tabular}{lllllllll}\n",
       " target\\_strain & rate & plab & response & SE & df & lower.CL & upper.CL & trt\\\\\n",
       " <fct> & <fct> & <chr> & <dbl> & <dbl> & <dbl> & <dbl> & <dbl> & <fct>\\\\\n",
       "\\hline\n",
       "\t Ks6-5687   & Low     & p=0.00084 &  174.10688 &  152.26676 & 402 &   30.6878841 &   966.63857 & PROVEN 40           \\\\\n",
       "\t Ks6-5687   & Medium  & p<0.0001  &  866.21820 &  806.18815 & 402 &  138.4569523 &  5391.82830 & PROVEN 40           \\\\\n",
       "\t Ks6-5687   & High    & p<0.0001  & 1543.78210 & 1192.37963 & 402 &  337.7360710 &  7043.87042 & PROVEN 40           \\\\\n",
       "\t Kv137-2253 & Low     & p<0.0001  &  907.53238 &  568.76408 & 402 &  264.3735957 &  3109.44919 & PROVEN 40           \\\\\n",
       "\t Kv137-2253 & Medium  & p<0.0001  & 2572.59934 & 1590.08877 & 402 &  762.9080566 &  8669.43293 & PROVEN 40           \\\\\n",
       "\t Kv137-2253 & High    & p<0.0001  & 3653.20128 & 2330.75767 & 402 & 1041.8730290 & 12803.23086 & PROVEN 40           \\\\\n",
       "\t Ks6-5687   & Control & NA        &   10.47345 &   11.21200 & 402 &    0.6802644 &    77.34489 & Uninoculated Control\\\\\n",
       "\t Kv137-2253 & Control & NA        &   88.22650 &   62.97881 & 402 &   21.2779575 &   356.36530 & Uninoculated Control\\\\\n",
       "\\end{tabular}\n"
      ],
      "text/markdown": [
       "\n",
       "A data.frame: 8 × 9\n",
       "\n",
       "| target_strain &lt;fct&gt; | rate &lt;fct&gt; | plab &lt;chr&gt; | response &lt;dbl&gt; | SE &lt;dbl&gt; | df &lt;dbl&gt; | lower.CL &lt;dbl&gt; | upper.CL &lt;dbl&gt; | trt &lt;fct&gt; |\n",
       "|---|---|---|---|---|---|---|---|---|\n",
       "| Ks6-5687   | Low     | p=0.00084 |  174.10688 |  152.26676 | 402 |   30.6878841 |   966.63857 | PROVEN 40            |\n",
       "| Ks6-5687   | Medium  | p&lt;0.0001  |  866.21820 |  806.18815 | 402 |  138.4569523 |  5391.82830 | PROVEN 40            |\n",
       "| Ks6-5687   | High    | p&lt;0.0001  | 1543.78210 | 1192.37963 | 402 |  337.7360710 |  7043.87042 | PROVEN 40            |\n",
       "| Kv137-2253 | Low     | p&lt;0.0001  |  907.53238 |  568.76408 | 402 |  264.3735957 |  3109.44919 | PROVEN 40            |\n",
       "| Kv137-2253 | Medium  | p&lt;0.0001  | 2572.59934 | 1590.08877 | 402 |  762.9080566 |  8669.43293 | PROVEN 40            |\n",
       "| Kv137-2253 | High    | p&lt;0.0001  | 3653.20128 | 2330.75767 | 402 | 1041.8730290 | 12803.23086 | PROVEN 40            |\n",
       "| Ks6-5687   | Control | NA        |   10.47345 |   11.21200 | 402 |    0.6802644 |    77.34489 | Uninoculated Control |\n",
       "| Kv137-2253 | Control | NA        |   88.22650 |   62.97881 | 402 |   21.2779575 |   356.36530 | Uninoculated Control |\n",
       "\n"
      ],
      "text/plain": [
       "  target_strain rate    plab      response   SE         df  lower.CL    \n",
       "1 Ks6-5687      Low     p=0.00084  174.10688  152.26676 402   30.6878841\n",
       "2 Ks6-5687      Medium  p<0.0001   866.21820  806.18815 402  138.4569523\n",
       "3 Ks6-5687      High    p<0.0001  1543.78210 1192.37963 402  337.7360710\n",
       "4 Kv137-2253    Low     p<0.0001   907.53238  568.76408 402  264.3735957\n",
       "5 Kv137-2253    Medium  p<0.0001  2572.59934 1590.08877 402  762.9080566\n",
       "6 Kv137-2253    High    p<0.0001  3653.20128 2330.75767 402 1041.8730290\n",
       "7 Ks6-5687      Control NA          10.47345   11.21200 402    0.6802644\n",
       "8 Kv137-2253    Control NA          88.22650   62.97881 402   21.2779575\n",
       "  upper.CL    trt                 \n",
       "1   966.63857 PROVEN 40           \n",
       "2  5391.82830 PROVEN 40           \n",
       "3  7043.87042 PROVEN 40           \n",
       "4  3109.44919 PROVEN 40           \n",
       "5  8669.43293 PROVEN 40           \n",
       "6 12803.23086 PROVEN 40           \n",
       "7    77.34489 Uninoculated Control\n",
       "8   356.36530 Uninoculated Control"
      ]
     },
     "metadata": {},
     "output_type": "display_data"
    }
   ],
   "source": [
    "qpcr_mod_comb_means_table"
   ]
  },
  {
   "cell_type": "code",
   "execution_count": 40,
   "metadata": {
    "vscode": {
     "languageId": "r"
    }
   },
   "outputs": [
    {
     "name": "stderr",
     "output_type": "stream",
     "text": [
      "Warning message:\n",
      "\"\u001b[1m\u001b[22mRemoved 2 rows containing missing values (`geom_text()`).\"\n"
     ]
    },
    {
     "data": {
      "image/png": "[encoded data removed]",
      "text/plain": [
       "plot without title"
      ]
     },
     "metadata": {
      "image/png": {
       "height": 240,
       "width": 480
      }
     },
     "output_type": "display_data"
    }
   ],
   "source": [
    "options(repr.plot.width=8, repr.plot.height=4)\n",
    "\n",
    "qpcr_mod_comb_means_table %>% \n",
    "ggplot(aes(x = (as.factor(rate)),response, fill = target_strain)) + \n",
    "geom_col(colour = \"gray10\", width = 0.5, aes(), position = \"dodge\") + \n",
    "geom_errorbar(aes(ymax = upper.CL, ymin = pmax(1,lower.CL)), width = 0.1, position = position_dodge(width = 0.5)) + \n",
    "geom_text(aes(label = plab, y = upper.CL*1.5), hjust = 0.85, size = 3.5, position = position_dodge(width = 0.5)) + \n",
    "geom_hline(yintercept = 1) + \n",
    "scale_y_log10(breaks = c(10,100,1000,10000,100000)) +\n",
    "#coord_cartesian(#ylim  = c(1,100000), xlim = c(0.3,5.8), expand = T) +\n",
    "scale_fill_manual(values = myColorPalette) +\n",
    "#scale_x_continuous(breaks = 1:5, labels=parse(text=c(\"0\",\"10^2\",\"10^3\",\"10^4\",\"10^5\"))) + \n",
    "facet_wrap(~target_strain) + \n",
    "labs(y = \"Copies per g fresh root tissue\", x = \"Inoculation rate (CFU per seed)\") + \n",
    "theme(axis.text.x = element_text(vjust = 0), legend.position = \"none\") \n",
    "\n",
    "#ggsave(\"./figures/strain_colonization.jpeg\",width = 8, height = 4)"
   ]
  },
  {
   "cell_type": "code",
   "execution_count": 41,
   "metadata": {
    "vscode": {
     "languageId": "r"
    }
   },
   "outputs": [
    {
     "name": "stderr",
     "output_type": "stream",
     "text": [
      "Warning message in geom_col(colour = \"gray10\", width = 0.5, aes(shape = target_strain), :\n",
      "\"\u001b[1m\u001b[22mIgnoring unknown aesthetics: \u001b[32mshape\u001b[39m\"\n",
      "Warning message:\n",
      "\"\u001b[1m\u001b[22mRemoved 2 rows containing missing values (`geom_text()`).\"\n",
      "Warning message:\n",
      "\"\u001b[1m\u001b[22mRemoved 2 rows containing missing values (`geom_text()`).\"\n"
     ]
    },
    {
     "data": {
      "image/png": "[encoded data removed]",
      "text/plain": [
       "plot without title"
      ]
     },
     "metadata": {
      "image/png": {
       "height": 360,
       "width": 240
      }
     },
     "output_type": "display_data"
    }
   ],
   "source": [
    "options(repr.plot.width=4, repr.plot.height=6)\n",
    "\n",
    "qpcr_mod_comb_means_plot <- qpcr_mod_comb_means_table %>% \n",
    "ggplot(aes(x = rate,response, fill = target_strain)) + \n",
    "geom_col(colour = \"gray10\", width = 0.5, aes(shape = target_strain), position = position_dodge(width = 0.5)) + \n",
    "geom_errorbar(aes(ymax = upper.CL, ymin = pmax(1,lower.CL)), width = 0, position = position_dodge(width = 0.5)) + \n",
    "geom_text(aes(label = plab, y = upper.CL + 500), hjust = 0.9, size = 3.5, position = position_dodge(width = 0.5)) +\n",
    "#geom_point(aes(shape = target_strain), colour = \"gray10\", size = 5, width = 0.5, position = position_dodge(width = 0.5)) + \n",
    "geom_hline(yintercept = 1) + \n",
    "scale_y_continuous(breaks = c(0:12*2000)) +\n",
    "coord_cartesian(ylim  = c(0,ceiling(max(qpcr_mod_comb_means_table$upper.CL + 1000)/1000)*1000), xlim = c(0.5,length(rate_levels) - 0.5), expand = F) +\n",
    "scale_fill_manual(values = myColorPalette) +\n",
    "scale_shape_manual(values = c(21,23)) + \n",
    "#scale_x_continuous(breaks = 1:5, labels=parse(text=c(\"0\",\"10^2\",\"10^3\",\"10^4\",\"10^5\"))) + \n",
    "labs(y = \"Copies per g fresh root tissue\", x = \"\\nInoculation rate treatment\", fill = \"Primer target:\", shape = \"Primer target:\") + \n",
    "theme(axis.text.x = element_text(vjust = 0), legend.position = c(0.3,0.85)\n",
    ") \n",
    "\n",
    "qpcr_mod_comb_means_plot\n",
    "\n",
    "ggsave(plot = qpcr_mod_comb_means_plot, \"./figures/strain_colonization.jpeg\",width = 4, height = 6)\n",
    "saveRDS(qpcr_mod_comb_means_plot, \"./figures/qpcr_plot.rds\")"
   ]
  },
  {
   "cell_type": "code",
   "execution_count": 42,
   "metadata": {
    "vscode": {
     "languageId": "r"
    }
   },
   "outputs": [
    {
     "name": "stderr",
     "output_type": "stream",
     "text": [
      "Warning message in checkTerms(data.tmb1$terms, data.tmb0$terms):\n",
      "\"Predicting new random effect levels for terms: 1 | rep:trial\n",
      "Disable this warning with 'allow.new.levels=TRUE'\"\n",
      "Warning message in checkTerms(data.tmb1$termszi, data.tmb0$termszi):\n",
      "\"Predicting new random effect levels for terms: 1 | rep:trial\n",
      "Disable this warning with 'allow.new.levels=TRUE'\"\n"
     ]
    },
    {
     "data": {
      "text/plain": [
       " contrast                  ratio   SE  df null t.ratio p.value\n",
       " (Kv137-2253) / (Ks6-5687)   4.1 2.07 402    1   2.800  0.0054\n",
       "\n",
       "Results are averaged over the levels of: rate \n",
       "Tests are performed on the log scale "
      ]
     },
     "metadata": {},
     "output_type": "display_data"
    }
   ],
   "source": [
    "emmeans(qpcr_mod,  trt.vs.ctrl ~ target_strain, component = \"response\", type= \"response\")$contrast"
   ]
  },
  {
   "cell_type": "code",
   "execution_count": 43,
   "metadata": {
    "vscode": {
     "languageId": "r"
    }
   },
   "outputs": [
    {
     "data": {
      "text/html": [
       "0.24390243902439"
      ],
      "text/latex": [
       "0.24390243902439"
      ],
      "text/markdown": [
       "0.24390243902439"
      ],
      "text/plain": [
       "[1] 0.2439024"
      ]
     },
     "metadata": {},
     "output_type": "display_data"
    }
   ],
   "source": [
    "1/4.1 "
   ]
  },
  {
   "cell_type": "markdown",
   "metadata": {},
   "source": [
    "## Check if there is evidence of increse with Inoculation rate"
   ]
  },
  {
   "cell_type": "code",
   "execution_count": 44,
   "metadata": {
    "vscode": {
     "languageId": "r"
    }
   },
   "outputs": [],
   "source": [
    "qpcr_lin_mod_1 <- glmmTMB(log(copies_per_g_fw + 1) ~ rate_num * target_strain  + (1|trial/rep),\n",
    "                        zi=~.,\n",
    "                        #dispformula  = ~ rate + target_strain,\n",
    "                        family = \"gaussian\",\n",
    "                        data = qpcr)"
   ]
  },
  {
   "cell_type": "code",
   "execution_count": 45,
   "metadata": {
    "vscode": {
     "languageId": "r"
    }
   },
   "outputs": [
    {
     "data": {
      "image/png": "[encoded data removed]",
      "text/plain": [
       "Plot with title \"Residual vs. predicted\n",
       "Quantile deviations detected (red curves)\n",
       "Combined adjusted quantile test significant\""
      ]
     },
     "metadata": {
      "image/png": {
       "height": 240,
       "width": 480
      }
     },
     "output_type": "display_data"
    }
   ],
   "source": [
    "options(repr.plot.width=8, repr.plot.height=4)\n",
    "qpcr_lin_mod_1_sim  <- simulateResiduals(fittedModel = qpcr_lin_mod_1, plot = T)\n"
   ]
  },
  {
   "cell_type": "code",
   "execution_count": 46,
   "metadata": {
    "vscode": {
     "languageId": "r"
    }
   },
   "outputs": [
    {
     "name": "stderr",
     "output_type": "stream",
     "text": [
      "Warning message in printHypothesis(L, rhs, names(b)):\n",
      "\"one or more coefficients in the hypothesis include\n",
      "     arithmetic operators in their names;\n",
      "  the printed representation of the hypothesis will be omitted\"\n",
      "Warning message in printHypothesis(L, rhs, names(b)):\n",
      "\"one or more coefficients in the hypothesis include\n",
      "     arithmetic operators in their names;\n",
      "  the printed representation of the hypothesis will be omitted\"\n"
     ]
    },
    {
     "data": {
      "text/html": [
       "<table class=\"dataframe\">\n",
       "<caption>A anova: 4 × 3</caption>\n",
       "<thead>\n",
       "\t<tr><th></th><th scope=col>Chisq</th><th scope=col>Df</th><th scope=col>Pr(&gt;Chisq)</th></tr>\n",
       "\t<tr><th></th><th scope=col>&lt;dbl&gt;</th><th scope=col>&lt;dbl&gt;</th><th scope=col>&lt;dbl&gt;</th></tr>\n",
       "</thead>\n",
       "<tbody>\n",
       "\t<tr><th scope=row>(Intercept)</th><td>38.97818920</td><td>1</td><td>4.285670e-10</td></tr>\n",
       "\t<tr><th scope=row>rate_num</th><td>32.49690335</td><td>1</td><td>1.193826e-08</td></tr>\n",
       "\t<tr><th scope=row>target_strain</th><td> 0.02822764</td><td>1</td><td>8.665748e-01</td></tr>\n",
       "\t<tr><th scope=row>rate_num:target_strain</th><td> 0.42518344</td><td>1</td><td>5.143619e-01</td></tr>\n",
       "</tbody>\n",
       "</table>\n"
      ],
      "text/latex": [
       "A anova: 4 × 3\n",
       "\\begin{tabular}{r|lll}\n",
       "  & Chisq & Df & Pr(>Chisq)\\\\\n",
       "  & <dbl> & <dbl> & <dbl>\\\\\n",
       "\\hline\n",
       "\t(Intercept) & 38.97818920 & 1 & 4.285670e-10\\\\\n",
       "\trate\\_num & 32.49690335 & 1 & 1.193826e-08\\\\\n",
       "\ttarget\\_strain &  0.02822764 & 1 & 8.665748e-01\\\\\n",
       "\trate\\_num:target\\_strain &  0.42518344 & 1 & 5.143619e-01\\\\\n",
       "\\end{tabular}\n"
      ],
      "text/markdown": [
       "\n",
       "A anova: 4 × 3\n",
       "\n",
       "| <!--/--> | Chisq &lt;dbl&gt; | Df &lt;dbl&gt; | Pr(&gt;Chisq) &lt;dbl&gt; |\n",
       "|---|---|---|---|\n",
       "| (Intercept) | 38.97818920 | 1 | 4.285670e-10 |\n",
       "| rate_num | 32.49690335 | 1 | 1.193826e-08 |\n",
       "| target_strain |  0.02822764 | 1 | 8.665748e-01 |\n",
       "| rate_num:target_strain |  0.42518344 | 1 | 5.143619e-01 |\n",
       "\n"
      ],
      "text/plain": [
       "                       Chisq       Df Pr(>Chisq)  \n",
       "(Intercept)            38.97818920 1  4.285670e-10\n",
       "rate_num               32.49690335 1  1.193826e-08\n",
       "target_strain           0.02822764 1  8.665748e-01\n",
       "rate_num:target_strain  0.42518344 1  5.143619e-01"
      ]
     },
     "metadata": {},
     "output_type": "display_data"
    },
    {
     "data": {
      "text/plain": [
       " Family: gaussian  ( identity )\n",
       "Formula:          \n",
       "log(copies_per_g_fw + 1) ~ rate_num * target_strain + (1 | trial/rep)\n",
       "Zero inflation:                            ~.\n",
       "Data: qpcr\n",
       "\n",
       "     AIC      BIC   logLik deviance df.resid \n",
       "  1812.9   1865.7   -893.5   1786.9      414 \n",
       "\n",
       "Random effects:\n",
       "\n",
       "Conditional model:\n",
       " Groups    Name        Variance Std.Dev.\n",
       " rep:trial (Intercept) 0.2926   0.5409  \n",
       " trial     (Intercept) 2.5449   1.5953  \n",
       " Residual              4.3241   2.0795  \n",
       "Number of obs: 427, groups:  rep:trial, 54; trial, 9\n",
       "\n",
       "Zero-inflation model:\n",
       " Groups    Name        Variance  Std.Dev. \n",
       " rep:trial (Intercept) 6.372e-08 0.0002524\n",
       " trial     (Intercept) 3.081e+00 1.7551687\n",
       " Residual              4.324e+00 2.0794534\n",
       "Number of obs: 427, groups:  rep:trial, 54; trial, 9\n",
       "\n",
       "Dispersion estimate for gaussian family (sigma^2): 4.32 \n",
       "\n",
       "Conditional model:\n",
       "                                 Estimate Std. Error z value Pr(>|z|)    \n",
       "(Intercept)                        4.5688     0.7318   6.243 4.29e-10 ***\n",
       "rate_num                           0.7366     0.1292   5.701 1.19e-08 ***\n",
       "target_strainKv137-2253           -0.1062     0.6318  -0.168    0.867    \n",
       "rate_num:target_strainKv137-2253   0.1095     0.1679   0.652    0.514    \n",
       "---\n",
       "Signif. codes:  0 '***' 0.001 '**' 0.01 '*' 0.05 '.' 0.1 ' ' 1\n",
       "\n",
       "Zero-inflation model:\n",
       "                                 Estimate Std. Error z value Pr(>|z|)    \n",
       "(Intercept)                        0.7057     0.7325   0.963  0.33537    \n",
       "rate_num                          -0.6204     0.1353  -4.585 4.53e-06 ***\n",
       "target_strainKv137-2253           -2.2077     0.7200  -3.066  0.00217 ** \n",
       "rate_num:target_strainKv137-2253   0.1529     0.2197   0.696  0.48659    \n",
       "---\n",
       "Signif. codes:  0 '***' 0.001 '**' 0.01 '*' 0.05 '.' 0.1 ' ' 1"
      ]
     },
     "metadata": {},
     "output_type": "display_data"
    }
   ],
   "source": [
    "Anova(qpcr_lin_mod_1,\"III\")\n",
    "summary(qpcr_lin_mod_1)"
   ]
  }
 ],
 "metadata": {
  "kernelspec": {
   "display_name": "R",
   "language": "R",
   "name": "ir"
  },
  "language_info": {
   "codemirror_mode": "r",
   "file_extension": ".r",
   "mimetype": "text/x-r-source",
   "name": "R",
   "pygments_lexer": "r",
   "version": "4.1.3"
  }
 },
 "nbformat": 4,
 "nbformat_minor": 2
}
