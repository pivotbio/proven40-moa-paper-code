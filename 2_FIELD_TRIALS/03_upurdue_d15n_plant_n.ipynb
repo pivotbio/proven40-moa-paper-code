{
 "cells": [
  {
   "cell_type": "code",
   "execution_count": 1,
   "metadata": {
    "vscode": {
     "languageId": "r"
    }
   },
   "outputs": [
    {
     "name": "stderr",
     "output_type": "stream",
     "text": [
      "-- \u001b[1mAttaching core tidyverse packages\u001b[22m ------------------------ tidyverse 2.0.0 --\n",
      "\u001b[32mv\u001b[39m \u001b[34mdplyr    \u001b[39m 1.1.2     \u001b[32mv\u001b[39m \u001b[34mreadr    \u001b[39m 2.1.4\n",
      "\u001b[32mv\u001b[39m \u001b[34mforcats  \u001b[39m 1.0.0     \u001b[32mv\u001b[39m \u001b[34mstringr  \u001b[39m 1.5.0\n",
      "\u001b[32mv\u001b[39m \u001b[34mggplot2  \u001b[39m 3.4.2     \u001b[32mv\u001b[39m \u001b[34mtibble   \u001b[39m 3.2.1\n",
      "\u001b[32mv\u001b[39m \u001b[34mlubridate\u001b[39m 1.9.2     \u001b[32mv\u001b[39m \u001b[34mtidyr    \u001b[39m 1.3.0\n",
      "\u001b[32mv\u001b[39m \u001b[34mpurrr    \u001b[39m 1.0.2     \n",
      "-- \u001b[1mConflicts\u001b[22m ------------------------------------------ tidyverse_conflicts() --\n",
      "\u001b[31mx\u001b[39m \u001b[34mdplyr\u001b[39m::\u001b[32mfilter()\u001b[39m masks \u001b[34mstats\u001b[39m::filter()\n",
      "\u001b[31mx\u001b[39m \u001b[34mdplyr\u001b[39m::\u001b[32mlag()\u001b[39m    masks \u001b[34mstats\u001b[39m::lag()\n",
      "\u001b[36mi\u001b[39m Use the conflicted package (\u001b[3m\u001b[34m<http://conflicted.r-lib.org/>\u001b[39m\u001b[23m) to force all conflicts to become errors\n",
      "Loading required package: Matrix\n",
      "\n",
      "\n",
      "Attaching package: 'Matrix'\n",
      "\n",
      "\n",
      "The following objects are masked from 'package:tidyr':\n",
      "\n",
      "    expand, pack, unpack\n",
      "\n",
      "\n",
      "\n",
      "Attaching package: 'lmerTest'\n",
      "\n",
      "\n",
      "The following object is masked from 'package:lme4':\n",
      "\n",
      "    lmer\n",
      "\n",
      "\n",
      "The following object is masked from 'package:stats':\n",
      "\n",
      "    step\n",
      "\n",
      "\n",
      "Loading required package: carData\n",
      "\n",
      "\n",
      "Attaching package: 'car'\n",
      "\n",
      "\n",
      "The following object is masked from 'package:dplyr':\n",
      "\n",
      "    recode\n",
      "\n",
      "\n",
      "The following object is masked from 'package:purrr':\n",
      "\n",
      "    some\n",
      "\n",
      "\n",
      "Loading required package: mvtnorm\n",
      "\n",
      "Loading required package: survival\n",
      "\n",
      "Loading required package: TH.data\n",
      "\n",
      "Loading required package: MASS\n",
      "\n",
      "\n",
      "Attaching package: 'MASS'\n",
      "\n",
      "\n",
      "The following object is masked from 'package:dplyr':\n",
      "\n",
      "    select\n",
      "\n",
      "\n",
      "\n",
      "Attaching package: 'TH.data'\n",
      "\n",
      "\n",
      "The following object is masked from 'package:MASS':\n",
      "\n",
      "    geyser\n",
      "\n",
      "\n"
     ]
    }
   ],
   "source": [
    "library(tidyverse)\n",
    "library(lme4)\n",
    "library(lmerTest)\n",
    "library(emmeans)\n",
    "library(car)\n",
    "library(multcomp)\n",
    "library(multcompView)\n",
    "library(ggpubr)\n",
    "\n",
    "theme_set(ggthemes::theme_few() + theme(text = element_text(size = 14), strip.text = element_text(size = 16)))\n",
    "myColorPalette <- c(\"#005AB5\",\"#DC3220\")\n",
    "options(repr.plot.width=5, repr.plot.height=5)"
   ]
  },
  {
   "cell_type": "code",
   "execution_count": 2,
   "metadata": {
    "vscode": {
     "languageId": "r"
    }
   },
   "outputs": [],
   "source": [
    "up <- read.csv(\"./datasets/MOA_UPurdue.csv\") %>%\n",
    "gather(variable,value,-year:-n_rate)  %>% \n",
    "separate(variable,c(\"stage\",\"organ\",\"measurement\",\"units\"),sep = \"_\")\n",
    "\n",
    "up$microbe <- factor(up$microbe, levels = c('UTC','PROVEN40'),  labels = c('Uninoculated Control','PROVEN40'))\n",
    "up$stage <- factor(up$stage, levels = c('V8','R1','R6'))\n",
    "up$n_rate <- factor(up$n_rate)\n"
   ]
  },
  {
   "cell_type": "code",
   "execution_count": 3,
   "metadata": {
    "vscode": {
     "languageId": "r"
    }
   },
   "outputs": [],
   "source": [
    "# Helper function to check model assumptions   \n",
    "check_assumptions <- function(mod) {\n",
    "\n",
    "   print(plot(mod)) # resid x pred\n",
    "   print(plot(density(resid(mod))))  #A density plot\n",
    "   # Make sure the residuals are normal\n",
    "   shapiro.test(residuals(mod)) \n",
    "}"
   ]
  },
  {
   "cell_type": "code",
   "execution_count": 4,
   "metadata": {
    "vscode": {
     "languageId": "r"
    }
   },
   "outputs": [
    {
     "data": {
      "text/html": [
       "<style>\n",
       ".list-inline {list-style: none; margin:0; padding: 0}\n",
       ".list-inline>li {display: inline-block}\n",
       ".list-inline>li:not(:last-child)::after {content: \"\\00b7\"; padding: 0 .5ex}\n",
       "</style>\n",
       "<ol class=list-inline><li>'leaftip'</li><li>'shoot'</li><li>'leaf'</li><li>'stem'</li><li>'ear'</li><li>'kernel'</li></ol>\n"
      ],
      "text/latex": [
       "\\begin{enumerate*}\n",
       "\\item 'leaftip'\n",
       "\\item 'shoot'\n",
       "\\item 'leaf'\n",
       "\\item 'stem'\n",
       "\\item 'ear'\n",
       "\\item 'kernel'\n",
       "\\end{enumerate*}\n"
      ],
      "text/markdown": [
       "1. 'leaftip'\n",
       "2. 'shoot'\n",
       "3. 'leaf'\n",
       "4. 'stem'\n",
       "5. 'ear'\n",
       "6. 'kernel'\n",
       "\n",
       "\n"
      ],
      "text/plain": [
       "[1] \"leaftip\" \"shoot\"   \"leaf\"    \"stem\"    \"ear\"     \"kernel\" "
      ]
     },
     "metadata": {},
     "output_type": "display_data"
    }
   ],
   "source": [
    "unique(up$organ)"
   ]
  },
  {
   "cell_type": "code",
   "execution_count": 5,
   "metadata": {
    "vscode": {
     "languageId": "r"
    }
   },
   "outputs": [],
   "source": [
    "up_n <- up %>% \n",
    "filter(measurement == \"n\",organ == \"shoot\")"
   ]
  },
  {
   "cell_type": "code",
   "execution_count": 6,
   "metadata": {
    "vscode": {
     "languageId": "r"
    }
   },
   "outputs": [],
   "source": [
    "up_n <- up_n %>% mutate_at(c(\"year\",\"rep\",\"microbe\",\"stage\",\"plot\",\"organ\"), factor)\n"
   ]
  },
  {
   "cell_type": "code",
   "execution_count": 7,
   "metadata": {
    "vscode": {
     "languageId": "r"
    }
   },
   "outputs": [
    {
     "data": {
      "text/html": [
       "<table class=\"dataframe\">\n",
       "<caption>A anova: 2 × 3</caption>\n",
       "<thead>\n",
       "\t<tr><th></th><th scope=col>Df</th><th scope=col>F value</th><th scope=col>Pr(&gt;F)</th></tr>\n",
       "\t<tr><th></th><th scope=col>&lt;int&gt;</th><th scope=col>&lt;dbl&gt;</th><th scope=col>&lt;dbl&gt;</th></tr>\n",
       "</thead>\n",
       "<tbody>\n",
       "\t<tr><th scope=row>group</th><td>  1</td><td>0.07887828</td><td>0.7789267</td></tr>\n",
       "\t<tr><th scope=row> </th><td>562</td><td>        NA</td><td>       NA</td></tr>\n",
       "</tbody>\n",
       "</table>\n"
      ],
      "text/latex": [
       "A anova: 2 × 3\n",
       "\\begin{tabular}{r|lll}\n",
       "  & Df & F value & Pr(>F)\\\\\n",
       "  & <int> & <dbl> & <dbl>\\\\\n",
       "\\hline\n",
       "\tgroup &   1 & 0.07887828 & 0.7789267\\\\\n",
       "\t  & 562 &         NA &        NA\\\\\n",
       "\\end{tabular}\n"
      ],
      "text/markdown": [
       "\n",
       "A anova: 2 × 3\n",
       "\n",
       "| <!--/--> | Df &lt;int&gt; | F value &lt;dbl&gt; | Pr(&gt;F) &lt;dbl&gt; |\n",
       "|---|---|---|---|\n",
       "| group |   1 | 0.07887828 | 0.7789267 |\n",
       "| <!----> | 562 |         NA |        NA |\n",
       "\n"
      ],
      "text/plain": [
       "      Df  F value    Pr(>F)   \n",
       "group   1 0.07887828 0.7789267\n",
       "      562         NA        NA"
      ]
     },
     "metadata": {},
     "output_type": "display_data"
    },
    {
     "data": {
      "text/html": [
       "<table class=\"dataframe\">\n",
       "<caption>A anova: 2 × 3</caption>\n",
       "<thead>\n",
       "\t<tr><th></th><th scope=col>Df</th><th scope=col>F value</th><th scope=col>Pr(&gt;F)</th></tr>\n",
       "\t<tr><th></th><th scope=col>&lt;int&gt;</th><th scope=col>&lt;dbl&gt;</th><th scope=col>&lt;dbl&gt;</th></tr>\n",
       "</thead>\n",
       "<tbody>\n",
       "\t<tr><th scope=row>group</th><td>  5</td><td>27.82482</td><td>3.424038e-25</td></tr>\n",
       "\t<tr><th scope=row> </th><td>558</td><td>      NA</td><td>          NA</td></tr>\n",
       "</tbody>\n",
       "</table>\n"
      ],
      "text/latex": [
       "A anova: 2 × 3\n",
       "\\begin{tabular}{r|lll}\n",
       "  & Df & F value & Pr(>F)\\\\\n",
       "  & <int> & <dbl> & <dbl>\\\\\n",
       "\\hline\n",
       "\tgroup &   5 & 27.82482 & 3.424038e-25\\\\\n",
       "\t  & 558 &       NA &           NA\\\\\n",
       "\\end{tabular}\n"
      ],
      "text/markdown": [
       "\n",
       "A anova: 2 × 3\n",
       "\n",
       "| <!--/--> | Df &lt;int&gt; | F value &lt;dbl&gt; | Pr(&gt;F) &lt;dbl&gt; |\n",
       "|---|---|---|---|\n",
       "| group |   5 | 27.82482 | 3.424038e-25 |\n",
       "| <!----> | 558 |       NA |           NA |\n",
       "\n"
      ],
      "text/plain": [
       "      Df  F value  Pr(>F)      \n",
       "group   5 27.82482 3.424038e-25\n",
       "      558       NA           NA"
      ]
     },
     "metadata": {},
     "output_type": "display_data"
    },
    {
     "data": {
      "text/html": [
       "<table class=\"dataframe\">\n",
       "<caption>A anova: 2 × 3</caption>\n",
       "<thead>\n",
       "\t<tr><th></th><th scope=col>Df</th><th scope=col>F value</th><th scope=col>Pr(&gt;F)</th></tr>\n",
       "\t<tr><th></th><th scope=col>&lt;int&gt;</th><th scope=col>&lt;dbl&gt;</th><th scope=col>&lt;dbl&gt;</th></tr>\n",
       "</thead>\n",
       "<tbody>\n",
       "\t<tr><th scope=row>group</th><td>  1</td><td>9.065656</td><td>0.002721561</td></tr>\n",
       "\t<tr><th scope=row> </th><td>562</td><td>      NA</td><td>         NA</td></tr>\n",
       "</tbody>\n",
       "</table>\n"
      ],
      "text/latex": [
       "A anova: 2 × 3\n",
       "\\begin{tabular}{r|lll}\n",
       "  & Df & F value & Pr(>F)\\\\\n",
       "  & <int> & <dbl> & <dbl>\\\\\n",
       "\\hline\n",
       "\tgroup &   1 & 9.065656 & 0.002721561\\\\\n",
       "\t  & 562 &       NA &          NA\\\\\n",
       "\\end{tabular}\n"
      ],
      "text/markdown": [
       "\n",
       "A anova: 2 × 3\n",
       "\n",
       "| <!--/--> | Df &lt;int&gt; | F value &lt;dbl&gt; | Pr(&gt;F) &lt;dbl&gt; |\n",
       "|---|---|---|---|\n",
       "| group |   1 | 9.065656 | 0.002721561 |\n",
       "| <!----> | 562 |       NA |          NA |\n",
       "\n"
      ],
      "text/plain": [
       "      Df  F value  Pr(>F)     \n",
       "group   1 9.065656 0.002721561\n",
       "      562       NA          NA"
      ]
     },
     "metadata": {},
     "output_type": "display_data"
    }
   ],
   "source": [
    "# test for HOV across treatments\n",
    "leveneTest(value ~ microbe, data=up_n)\n",
    "leveneTest(value ~ n_rate, data=up_n)\n",
    "leveneTest(value ~ year, data=up_n)"
   ]
  },
  {
   "cell_type": "code",
   "execution_count": 8,
   "metadata": {
    "vscode": {
     "languageId": "r"
    }
   },
   "outputs": [
    {
     "data": {
      "text/html": [
       "<table class=\"dataframe\">\n",
       "<caption>A anova: 2 × 3</caption>\n",
       "<thead>\n",
       "\t<tr><th></th><th scope=col>Df</th><th scope=col>F value</th><th scope=col>Pr(&gt;F)</th></tr>\n",
       "\t<tr><th></th><th scope=col>&lt;int&gt;</th><th scope=col>&lt;dbl&gt;</th><th scope=col>&lt;dbl&gt;</th></tr>\n",
       "</thead>\n",
       "<tbody>\n",
       "\t<tr><th scope=row>group</th><td>  1</td><td>0.1808592</td><td>0.6707987</td></tr>\n",
       "\t<tr><th scope=row> </th><td>562</td><td>       NA</td><td>       NA</td></tr>\n",
       "</tbody>\n",
       "</table>\n"
      ],
      "text/latex": [
       "A anova: 2 × 3\n",
       "\\begin{tabular}{r|lll}\n",
       "  & Df & F value & Pr(>F)\\\\\n",
       "  & <int> & <dbl> & <dbl>\\\\\n",
       "\\hline\n",
       "\tgroup &   1 & 0.1808592 & 0.6707987\\\\\n",
       "\t  & 562 &        NA &        NA\\\\\n",
       "\\end{tabular}\n"
      ],
      "text/markdown": [
       "\n",
       "A anova: 2 × 3\n",
       "\n",
       "| <!--/--> | Df &lt;int&gt; | F value &lt;dbl&gt; | Pr(&gt;F) &lt;dbl&gt; |\n",
       "|---|---|---|---|\n",
       "| group |   1 | 0.1808592 | 0.6707987 |\n",
       "| <!----> | 562 |        NA |        NA |\n",
       "\n"
      ],
      "text/plain": [
       "      Df  F value   Pr(>F)   \n",
       "group   1 0.1808592 0.6707987\n",
       "      562        NA        NA"
      ]
     },
     "metadata": {},
     "output_type": "display_data"
    },
    {
     "data": {
      "text/html": [
       "<table class=\"dataframe\">\n",
       "<caption>A anova: 2 × 3</caption>\n",
       "<thead>\n",
       "\t<tr><th></th><th scope=col>Df</th><th scope=col>F value</th><th scope=col>Pr(&gt;F)</th></tr>\n",
       "\t<tr><th></th><th scope=col>&lt;int&gt;</th><th scope=col>&lt;dbl&gt;</th><th scope=col>&lt;dbl&gt;</th></tr>\n",
       "</thead>\n",
       "<tbody>\n",
       "\t<tr><th scope=row>group</th><td>  5</td><td>2.072906</td><td>0.06724466</td></tr>\n",
       "\t<tr><th scope=row> </th><td>558</td><td>      NA</td><td>        NA</td></tr>\n",
       "</tbody>\n",
       "</table>\n"
      ],
      "text/latex": [
       "A anova: 2 × 3\n",
       "\\begin{tabular}{r|lll}\n",
       "  & Df & F value & Pr(>F)\\\\\n",
       "  & <int> & <dbl> & <dbl>\\\\\n",
       "\\hline\n",
       "\tgroup &   5 & 2.072906 & 0.06724466\\\\\n",
       "\t  & 558 &       NA &         NA\\\\\n",
       "\\end{tabular}\n"
      ],
      "text/markdown": [
       "\n",
       "A anova: 2 × 3\n",
       "\n",
       "| <!--/--> | Df &lt;int&gt; | F value &lt;dbl&gt; | Pr(&gt;F) &lt;dbl&gt; |\n",
       "|---|---|---|---|\n",
       "| group |   5 | 2.072906 | 0.06724466 |\n",
       "| <!----> | 558 |       NA |         NA |\n",
       "\n"
      ],
      "text/plain": [
       "      Df  F value  Pr(>F)    \n",
       "group   5 2.072906 0.06724466\n",
       "      558       NA         NA"
      ]
     },
     "metadata": {},
     "output_type": "display_data"
    },
    {
     "data": {
      "text/html": [
       "<table class=\"dataframe\">\n",
       "<caption>A anova: 2 × 3</caption>\n",
       "<thead>\n",
       "\t<tr><th></th><th scope=col>Df</th><th scope=col>F value</th><th scope=col>Pr(&gt;F)</th></tr>\n",
       "\t<tr><th></th><th scope=col>&lt;int&gt;</th><th scope=col>&lt;dbl&gt;</th><th scope=col>&lt;dbl&gt;</th></tr>\n",
       "</thead>\n",
       "<tbody>\n",
       "\t<tr><th scope=row>group</th><td>  1</td><td>3.499395</td><td>0.06191075</td></tr>\n",
       "\t<tr><th scope=row> </th><td>562</td><td>      NA</td><td>        NA</td></tr>\n",
       "</tbody>\n",
       "</table>\n"
      ],
      "text/latex": [
       "A anova: 2 × 3\n",
       "\\begin{tabular}{r|lll}\n",
       "  & Df & F value & Pr(>F)\\\\\n",
       "  & <int> & <dbl> & <dbl>\\\\\n",
       "\\hline\n",
       "\tgroup &   1 & 3.499395 & 0.06191075\\\\\n",
       "\t  & 562 &       NA &         NA\\\\\n",
       "\\end{tabular}\n"
      ],
      "text/markdown": [
       "\n",
       "A anova: 2 × 3\n",
       "\n",
       "| <!--/--> | Df &lt;int&gt; | F value &lt;dbl&gt; | Pr(&gt;F) &lt;dbl&gt; |\n",
       "|---|---|---|---|\n",
       "| group |   1 | 3.499395 | 0.06191075 |\n",
       "| <!----> | 562 |       NA |         NA |\n",
       "\n"
      ],
      "text/plain": [
       "      Df  F value  Pr(>F)    \n",
       "group   1 3.499395 0.06191075\n",
       "      562       NA         NA"
      ]
     },
     "metadata": {},
     "output_type": "display_data"
    }
   ],
   "source": [
    "# test for HOV across treatments\n",
    "leveneTest(log(value) ~ microbe, data=up_n)\n",
    "leveneTest(log(value) ~ n_rate, data=up_n)\n",
    "leveneTest(log(value) ~ year, data=up_n)"
   ]
  },
  {
   "cell_type": "code",
   "execution_count": 9,
   "metadata": {
    "vscode": {
     "languageId": "r"
    }
   },
   "outputs": [
    {
     "data": {
      "text/html": [
       "<table class=\"dataframe\">\n",
       "<caption>A data.frame: 6 × 10</caption>\n",
       "<thead>\n",
       "\t<tr><th></th><th scope=col>year</th><th scope=col>plot</th><th scope=col>rep</th><th scope=col>microbe</th><th scope=col>n_rate</th><th scope=col>stage</th><th scope=col>organ</th><th scope=col>measurement</th><th scope=col>units</th><th scope=col>value</th></tr>\n",
       "\t<tr><th></th><th scope=col>&lt;fct&gt;</th><th scope=col>&lt;fct&gt;</th><th scope=col>&lt;fct&gt;</th><th scope=col>&lt;fct&gt;</th><th scope=col>&lt;fct&gt;</th><th scope=col>&lt;fct&gt;</th><th scope=col>&lt;fct&gt;</th><th scope=col>&lt;chr&gt;</th><th scope=col>&lt;chr&gt;</th><th scope=col>&lt;dbl&gt;</th></tr>\n",
       "</thead>\n",
       "<tbody>\n",
       "\t<tr><th scope=row>1</th><td>2021</td><td>101</td><td>1</td><td>PROVEN40            </td><td>0  </td><td>V8</td><td>shoot</td><td>n</td><td>kgha</td><td>40.29999</td></tr>\n",
       "\t<tr><th scope=row>2</th><td>2021</td><td>102</td><td>1</td><td>Uninoculated Control</td><td>0  </td><td>V8</td><td>shoot</td><td>n</td><td>kgha</td><td>22.48533</td></tr>\n",
       "\t<tr><th scope=row>3</th><td>2021</td><td>103</td><td>1</td><td>PROVEN40            </td><td>95 </td><td>V8</td><td>shoot</td><td>n</td><td>kgha</td><td>41.53138</td></tr>\n",
       "\t<tr><th scope=row>4</th><td>2021</td><td>104</td><td>1</td><td>Uninoculated Control</td><td>95 </td><td>V8</td><td>shoot</td><td>n</td><td>kgha</td><td>36.77374</td></tr>\n",
       "\t<tr><th scope=row>5</th><td>2021</td><td>107</td><td>1</td><td>PROVEN40            </td><td>175</td><td>V8</td><td>shoot</td><td>n</td><td>kgha</td><td>57.74955</td></tr>\n",
       "\t<tr><th scope=row>6</th><td>2021</td><td>108</td><td>1</td><td>Uninoculated Control</td><td>175</td><td>V8</td><td>shoot</td><td>n</td><td>kgha</td><td>37.19741</td></tr>\n",
       "</tbody>\n",
       "</table>\n"
      ],
      "text/latex": [
       "A data.frame: 6 × 10\n",
       "\\begin{tabular}{r|llllllllll}\n",
       "  & year & plot & rep & microbe & n\\_rate & stage & organ & measurement & units & value\\\\\n",
       "  & <fct> & <fct> & <fct> & <fct> & <fct> & <fct> & <fct> & <chr> & <chr> & <dbl>\\\\\n",
       "\\hline\n",
       "\t1 & 2021 & 101 & 1 & PROVEN40             & 0   & V8 & shoot & n & kgha & 40.29999\\\\\n",
       "\t2 & 2021 & 102 & 1 & Uninoculated Control & 0   & V8 & shoot & n & kgha & 22.48533\\\\\n",
       "\t3 & 2021 & 103 & 1 & PROVEN40             & 95  & V8 & shoot & n & kgha & 41.53138\\\\\n",
       "\t4 & 2021 & 104 & 1 & Uninoculated Control & 95  & V8 & shoot & n & kgha & 36.77374\\\\\n",
       "\t5 & 2021 & 107 & 1 & PROVEN40             & 175 & V8 & shoot & n & kgha & 57.74955\\\\\n",
       "\t6 & 2021 & 108 & 1 & Uninoculated Control & 175 & V8 & shoot & n & kgha & 37.19741\\\\\n",
       "\\end{tabular}\n"
      ],
      "text/markdown": [
       "\n",
       "A data.frame: 6 × 10\n",
       "\n",
       "| <!--/--> | year &lt;fct&gt; | plot &lt;fct&gt; | rep &lt;fct&gt; | microbe &lt;fct&gt; | n_rate &lt;fct&gt; | stage &lt;fct&gt; | organ &lt;fct&gt; | measurement &lt;chr&gt; | units &lt;chr&gt; | value &lt;dbl&gt; |\n",
       "|---|---|---|---|---|---|---|---|---|---|---|\n",
       "| 1 | 2021 | 101 | 1 | PROVEN40             | 0   | V8 | shoot | n | kgha | 40.29999 |\n",
       "| 2 | 2021 | 102 | 1 | Uninoculated Control | 0   | V8 | shoot | n | kgha | 22.48533 |\n",
       "| 3 | 2021 | 103 | 1 | PROVEN40             | 95  | V8 | shoot | n | kgha | 41.53138 |\n",
       "| 4 | 2021 | 104 | 1 | Uninoculated Control | 95  | V8 | shoot | n | kgha | 36.77374 |\n",
       "| 5 | 2021 | 107 | 1 | PROVEN40             | 175 | V8 | shoot | n | kgha | 57.74955 |\n",
       "| 6 | 2021 | 108 | 1 | Uninoculated Control | 175 | V8 | shoot | n | kgha | 37.19741 |\n",
       "\n"
      ],
      "text/plain": [
       "  year plot rep microbe              n_rate stage organ measurement units\n",
       "1 2021 101  1   PROVEN40             0      V8    shoot n           kgha \n",
       "2 2021 102  1   Uninoculated Control 0      V8    shoot n           kgha \n",
       "3 2021 103  1   PROVEN40             95     V8    shoot n           kgha \n",
       "4 2021 104  1   Uninoculated Control 95     V8    shoot n           kgha \n",
       "5 2021 107  1   PROVEN40             175    V8    shoot n           kgha \n",
       "6 2021 108  1   Uninoculated Control 175    V8    shoot n           kgha \n",
       "  value   \n",
       "1 40.29999\n",
       "2 22.48533\n",
       "3 41.53138\n",
       "4 36.77374\n",
       "5 57.74955\n",
       "6 37.19741"
      ]
     },
     "metadata": {},
     "output_type": "display_data"
    }
   ],
   "source": [
    "up21_n <- filter(up_n, year == 2021)\n",
    "\n",
    "head(up21_n)"
   ]
  },
  {
   "cell_type": "code",
   "execution_count": 10,
   "metadata": {
    "vscode": {
     "languageId": "r"
    }
   },
   "outputs": [],
   "source": [
    "up21_n_mod_full <- lmer(log(value) ~ microbe*n_rate*stage +  (1|rep/n_rate), data = up21_n)"
   ]
  },
  {
   "cell_type": "code",
   "execution_count": 11,
   "metadata": {
    "vscode": {
     "languageId": "r"
    }
   },
   "outputs": [
    {
     "data": {
      "image/png": "[encoded data removed]",
      "text/plain": [
       "plot without title"
      ]
     },
     "metadata": {
      "image/png": {
       "height": 300,
       "width": 300
      }
     },
     "output_type": "display_data"
    },
    {
     "name": "stdout",
     "output_type": "stream",
     "text": [
      "NULL\n"
     ]
    },
    {
     "data": {
      "text/plain": [
       "\n",
       "\tShapiro-Wilk normality test\n",
       "\n",
       "data:  residuals(mod)\n",
       "W = 0.98305, p-value = 0.001732\n"
      ]
     },
     "metadata": {},
     "output_type": "display_data"
    },
    {
     "data": {
      "image/png": "[encoded data removed]",
      "text/plain": [
       "Plot with title \"density.default(x = resid(mod))\""
      ]
     },
     "metadata": {
      "image/png": {
       "height": 300,
       "width": 300
      }
     },
     "output_type": "display_data"
    }
   ],
   "source": [
    "check_assumptions(up21_n_mod_full)"
   ]
  },
  {
   "cell_type": "code",
   "execution_count": 12,
   "metadata": {
    "vscode": {
     "languageId": "r"
    }
   },
   "outputs": [
    {
     "data": {
      "text/html": [
       "<table class=\"dataframe\">\n",
       "<caption>A anova: 7 × 6</caption>\n",
       "<thead>\n",
       "\t<tr><th></th><th scope=col>Sum Sq</th><th scope=col>Mean Sq</th><th scope=col>NumDF</th><th scope=col>DenDF</th><th scope=col>F value</th><th scope=col>Pr(&gt;F)</th></tr>\n",
       "\t<tr><th></th><th scope=col>&lt;dbl&gt;</th><th scope=col>&lt;dbl&gt;</th><th scope=col>&lt;int&gt;</th><th scope=col>&lt;dbl&gt;</th><th scope=col>&lt;dbl&gt;</th><th scope=col>&lt;dbl&gt;</th></tr>\n",
       "</thead>\n",
       "<tbody>\n",
       "\t<tr><th scope=row>microbe</th><td>  0.3511619</td><td> 0.35116186</td><td> 1</td><td>210.00004</td><td>  15.8017424</td><td> 9.673140e-05</td></tr>\n",
       "\t<tr><th scope=row>n_rate</th><td>  7.7873481</td><td> 1.55746962</td><td> 5</td><td> 41.99995</td><td>  70.0837311</td><td> 2.796377e-19</td></tr>\n",
       "\t<tr><th scope=row>stage</th><td>152.5791629</td><td>76.28958145</td><td> 2</td><td>210.00004</td><td>3432.9135257</td><td>4.040131e-161</td></tr>\n",
       "\t<tr><th scope=row>microbe:n_rate</th><td>  0.1228116</td><td> 0.02456233</td><td> 5</td><td>210.00004</td><td>   1.1052670</td><td> 3.586435e-01</td></tr>\n",
       "\t<tr><th scope=row>microbe:stage</th><td>  0.3792827</td><td> 0.18964136</td><td> 2</td><td>210.00004</td><td>   8.5335689</td><td> 2.734173e-04</td></tr>\n",
       "\t<tr><th scope=row>n_rate:stage</th><td>  4.0708126</td><td> 0.40708126</td><td>10</td><td>210.00004</td><td>  18.3180288</td><td> 6.892118e-24</td></tr>\n",
       "\t<tr><th scope=row>microbe:n_rate:stage</th><td>  0.1125362</td><td> 0.01125362</td><td>10</td><td>210.00004</td><td>   0.5063957</td><td> 8.844988e-01</td></tr>\n",
       "</tbody>\n",
       "</table>\n"
      ],
      "text/latex": [
       "A anova: 7 × 6\n",
       "\\begin{tabular}{r|llllll}\n",
       "  & Sum Sq & Mean Sq & NumDF & DenDF & F value & Pr(>F)\\\\\n",
       "  & <dbl> & <dbl> & <int> & <dbl> & <dbl> & <dbl>\\\\\n",
       "\\hline\n",
       "\tmicrobe &   0.3511619 &  0.35116186 &  1 & 210.00004 &   15.8017424 &  9.673140e-05\\\\\n",
       "\tn\\_rate &   7.7873481 &  1.55746962 &  5 &  41.99995 &   70.0837311 &  2.796377e-19\\\\\n",
       "\tstage & 152.5791629 & 76.28958145 &  2 & 210.00004 & 3432.9135257 & 4.040131e-161\\\\\n",
       "\tmicrobe:n\\_rate &   0.1228116 &  0.02456233 &  5 & 210.00004 &    1.1052670 &  3.586435e-01\\\\\n",
       "\tmicrobe:stage &   0.3792827 &  0.18964136 &  2 & 210.00004 &    8.5335689 &  2.734173e-04\\\\\n",
       "\tn\\_rate:stage &   4.0708126 &  0.40708126 & 10 & 210.00004 &   18.3180288 &  6.892118e-24\\\\\n",
       "\tmicrobe:n\\_rate:stage &   0.1125362 &  0.01125362 & 10 & 210.00004 &    0.5063957 &  8.844988e-01\\\\\n",
       "\\end{tabular}\n"
      ],
      "text/markdown": [
       "\n",
       "A anova: 7 × 6\n",
       "\n",
       "| <!--/--> | Sum Sq &lt;dbl&gt; | Mean Sq &lt;dbl&gt; | NumDF &lt;int&gt; | DenDF &lt;dbl&gt; | F value &lt;dbl&gt; | Pr(&gt;F) &lt;dbl&gt; |\n",
       "|---|---|---|---|---|---|---|\n",
       "| microbe |   0.3511619 |  0.35116186 |  1 | 210.00004 |   15.8017424 |  9.673140e-05 |\n",
       "| n_rate |   7.7873481 |  1.55746962 |  5 |  41.99995 |   70.0837311 |  2.796377e-19 |\n",
       "| stage | 152.5791629 | 76.28958145 |  2 | 210.00004 | 3432.9135257 | 4.040131e-161 |\n",
       "| microbe:n_rate |   0.1228116 |  0.02456233 |  5 | 210.00004 |    1.1052670 |  3.586435e-01 |\n",
       "| microbe:stage |   0.3792827 |  0.18964136 |  2 | 210.00004 |    8.5335689 |  2.734173e-04 |\n",
       "| n_rate:stage |   4.0708126 |  0.40708126 | 10 | 210.00004 |   18.3180288 |  6.892118e-24 |\n",
       "| microbe:n_rate:stage |   0.1125362 |  0.01125362 | 10 | 210.00004 |    0.5063957 |  8.844988e-01 |\n",
       "\n"
      ],
      "text/plain": [
       "                     Sum Sq      Mean Sq     NumDF DenDF     F value     \n",
       "microbe                0.3511619  0.35116186  1    210.00004   15.8017424\n",
       "n_rate                 7.7873481  1.55746962  5     41.99995   70.0837311\n",
       "stage                152.5791629 76.28958145  2    210.00004 3432.9135257\n",
       "microbe:n_rate         0.1228116  0.02456233  5    210.00004    1.1052670\n",
       "microbe:stage          0.3792827  0.18964136  2    210.00004    8.5335689\n",
       "n_rate:stage           4.0708126  0.40708126 10    210.00004   18.3180288\n",
       "microbe:n_rate:stage   0.1125362  0.01125362 10    210.00004    0.5063957\n",
       "                     Pr(>F)       \n",
       "microbe               9.673140e-05\n",
       "n_rate                2.796377e-19\n",
       "stage                4.040131e-161\n",
       "microbe:n_rate        3.586435e-01\n",
       "microbe:stage         2.734173e-04\n",
       "n_rate:stage          6.892118e-24\n",
       "microbe:n_rate:stage  8.844988e-01"
      ]
     },
     "metadata": {},
     "output_type": "display_data"
    }
   ],
   "source": [
    "anova(up21_n_mod_full)"
   ]
  },
  {
   "cell_type": "code",
   "execution_count": 13,
   "metadata": {
    "vscode": {
     "languageId": "r"
    }
   },
   "outputs": [],
   "source": [
    "up21_n_mod_red1 <- lmer(log(value) ~ microbe*stage + n_rate*stage  +  (1|rep:n_rate), data = up21_n)"
   ]
  },
  {
   "cell_type": "code",
   "execution_count": 14,
   "metadata": {
    "vscode": {
     "languageId": "r"
    }
   },
   "outputs": [
    {
     "name": "stderr",
     "output_type": "stream",
     "text": [
      "\n",
      "Correlation matrix not shown by default, as p = 21 > 12.\n",
      "Use print(obj, correlation=TRUE)  or\n",
      "    vcov(obj)        if you need it\n",
      "\n",
      "\n"
     ]
    },
    {
     "data": {
      "text/plain": [
       "Linear mixed model fit by REML. t-tests use Satterthwaite's method [\n",
       "lmerModLmerTest]\n",
       "Formula: log(value) ~ microbe * stage + n_rate * stage + (1 | rep:n_rate)\n",
       "   Data: up21_n\n",
       "\n",
       "REML criterion at convergence: -180.2\n",
       "\n",
       "Scaled residuals: \n",
       "    Min      1Q  Median      3Q     Max \n",
       "-4.1690 -0.5569  0.0508  0.4974  2.9974 \n",
       "\n",
       "Random effects:\n",
       " Groups     Name        Variance Std.Dev.\n",
       " rep:n_rate (Intercept) 0.002852 0.0534  \n",
       " Residual               0.021787 0.1476  \n",
       "Number of obs: 288, groups:  rep:n_rate, 48\n",
       "\n",
       "Fixed effects:\n",
       "                         Estimate Std. Error        df t value Pr(>|t|)    \n",
       "(Intercept)               3.51424    0.04410 177.14537  79.682  < 2e-16 ***\n",
       "microbePROVEN40           0.17009    0.03013 225.00000   5.645 4.94e-08 ***\n",
       "stageR1                   1.14144    0.05637 225.00000  20.250  < 2e-16 ***\n",
       "stageR6                   1.06113    0.05637 225.00000  18.825  < 2e-16 ***\n",
       "n_rate95                  0.13224    0.05862 152.97576   2.256  0.02549 *  \n",
       "n_rate135                 0.08093    0.05862 152.97576   1.381  0.16942    \n",
       "n_rate175                 0.16182    0.05862 152.97576   2.761  0.00648 ** \n",
       "n_rate215                 0.18322    0.05862 152.97576   3.126  0.00212 ** \n",
       "n_rate255                 0.18372    0.05862 152.97576   3.134  0.00207 ** \n",
       "microbePROVEN40:stageR1  -0.13129    0.04261 225.00000  -3.081  0.00232 ** \n",
       "microbePROVEN40:stageR6  -0.16946    0.04261 225.00000  -3.977 9.41e-05 ***\n",
       "stageR1:n_rate95          0.42634    0.07380 225.00000   5.777 2.52e-08 ***\n",
       "stageR6:n_rate95          0.56598    0.07380 225.00000   7.669 5.19e-13 ***\n",
       "stageR1:n_rate135         0.55555    0.07380 225.00000   7.527 1.24e-12 ***\n",
       "stageR6:n_rate135         0.73412    0.07380 225.00000   9.947  < 2e-16 ***\n",
       "stageR1:n_rate175         0.53415    0.07380 225.00000   7.238 7.14e-12 ***\n",
       "stageR6:n_rate175         0.71968    0.07380 225.00000   9.751  < 2e-16 ***\n",
       "stageR1:n_rate215         0.53156    0.07380 225.00000   7.202 8.80e-12 ***\n",
       "stageR6:n_rate215         0.80637    0.07380 225.00000  10.926  < 2e-16 ***\n",
       "stageR1:n_rate255         0.51635    0.07380 225.00000   6.996 2.98e-11 ***\n",
       "stageR6:n_rate255         0.80704    0.07380 225.00000  10.935  < 2e-16 ***\n",
       "---\n",
       "Signif. codes:  0 '***' 0.001 '**' 0.01 '*' 0.05 '.' 0.1 ' ' 1"
      ]
     },
     "metadata": {},
     "output_type": "display_data"
    }
   ],
   "source": [
    "summary(up21_n_mod_red1)"
   ]
  },
  {
   "cell_type": "code",
   "execution_count": 15,
   "metadata": {
    "vscode": {
     "languageId": "r"
    }
   },
   "outputs": [],
   "source": [
    "up21_n_mod<- up21_n_mod_red1"
   ]
  },
  {
   "cell_type": "code",
   "execution_count": 16,
   "metadata": {
    "vscode": {
     "languageId": "r"
    }
   },
   "outputs": [
    {
     "data": {
      "text/plain": [
       " stage microbe              n_rate response    SE  df lower.CL upper.CL\n",
       " V8    Uninoculated Control 0          33.6  1.48 177     30.8     36.6\n",
       " R1    Uninoculated Control 0         105.2  4.64 177     96.4    114.7\n",
       " R6    Uninoculated Control 0          97.1  4.28 177     89.0    105.9\n",
       " V8    PROVEN40             0          39.8  1.76 177     36.5     43.4\n",
       " R1    PROVEN40             0         109.3  4.82 177    100.2    119.3\n",
       " R6    PROVEN40             0          97.1  4.28 177     89.0    106.0\n",
       " V8    Uninoculated Control 95         38.3  1.69 177     35.1     41.8\n",
       " R1    Uninoculated Control 95        183.9  8.11 177    168.6    200.6\n",
       " R6    Uninoculated Control 95        195.1  8.61 177    178.9    212.9\n",
       " V8    PROVEN40             95         45.4  2.00 177     41.7     49.6\n",
       " R1    PROVEN40             95        191.2  8.43 177    175.2    208.5\n",
       " R6    PROVEN40             95        195.2  8.61 177    179.0    213.0\n",
       " V8    Uninoculated Control 135        36.4  1.61 177     33.4     39.7\n",
       " R1    Uninoculated Control 135       198.8  8.77 177    182.2    216.8\n",
       " R6    Uninoculated Control 135       219.3  9.67 177    201.0    239.2\n",
       " V8    PROVEN40             135        43.2  1.90 177     39.6     47.1\n",
       " R1    PROVEN40             135       206.6  9.11 177    189.4    225.4\n",
       " R6    PROVEN40             135       219.4  9.68 177    201.1    239.4\n",
       " V8    Uninoculated Control 175        39.5  1.74 177     36.2     43.1\n",
       " R1    Uninoculated Control 175       211.0  9.30 177    193.4    230.1\n",
       " R6    Uninoculated Control 175       234.4 10.34 177    214.8    255.7\n",
       " V8    PROVEN40             175        46.8  2.06 177     42.9     51.1\n",
       " R1    PROVEN40             175       219.3  9.67 177    201.0    239.2\n",
       " R6    PROVEN40             175       234.5 10.34 177    215.0    255.8\n",
       " V8    Uninoculated Control 215        40.3  1.78 177     37.0     44.0\n",
       " R1    Uninoculated Control 215       215.0  9.48 177    197.0    234.5\n",
       " R6    Uninoculated Control 215       261.1 11.52 177    239.4    284.9\n",
       " V8    PROVEN40             215        47.8  2.11 177     43.8     52.2\n",
       " R1    PROVEN40             215       223.5  9.86 177    204.8    243.8\n",
       " R6    PROVEN40             215       261.3 11.52 177    239.5    285.0\n",
       " V8    Uninoculated Control 255        40.4  1.78 177     37.0     44.0\n",
       " R1    Uninoculated Control 255       211.8  9.34 177    194.2    231.1\n",
       " R6    Uninoculated Control 255       261.4 11.53 177    239.6    285.2\n",
       " V8    PROVEN40             255        47.8  2.11 177     43.9     52.2\n",
       " R1    PROVEN40             255       220.2  9.71 177    201.8    240.2\n",
       " R6    PROVEN40             255       261.6 11.54 177    239.8    285.4\n",
       "\n",
       "Degrees-of-freedom method: kenward-roger \n",
       "Confidence level used: 0.95 \n",
       "Intervals are back-transformed from the log scale "
      ]
     },
     "metadata": {},
     "output_type": "display_data"
    }
   ],
   "source": [
    "up21_n_mod_means <- emmeans(up21_n_mod, ~ stage*microbe + n_rate*stage,  type = \"response\")\n",
    "up21_n_mod_means"
   ]
  },
  {
   "cell_type": "code",
   "execution_count": 17,
   "metadata": {
    "vscode": {
     "languageId": "r"
    }
   },
   "outputs": [
    {
     "name": "stderr",
     "output_type": "stream",
     "text": [
      "\u001b[1m\u001b[22mJoining with `by = join_by(stage)`\n",
      "\u001b[1m\u001b[22mJoining with `by = join_by(stage)`\n"
     ]
    },
    {
     "data": {
      "text/html": [
       "<table class=\"dataframe\">\n",
       "<caption>A data.frame: 18 × 13</caption>\n",
       "<thead>\n",
       "\t<tr><th scope=col>contrast</th><th scope=col>stage</th><th scope=col>ratio</th><th scope=col>SE</th><th scope=col>df</th><th scope=col>null</th><th scope=col>t.ratio</th><th scope=col>p.value</th><th scope=col>n_rate</th><th scope=col>response</th><th scope=col>pct_change</th><th scope=col>my_label</th><th scope=col>max_value</th></tr>\n",
       "\t<tr><th scope=col>&lt;fct&gt;</th><th scope=col>&lt;fct&gt;</th><th scope=col>&lt;dbl&gt;</th><th scope=col>&lt;dbl&gt;</th><th scope=col>&lt;dbl&gt;</th><th scope=col>&lt;dbl&gt;</th><th scope=col>&lt;dbl&gt;</th><th scope=col>&lt;dbl&gt;</th><th scope=col>&lt;fct&gt;</th><th scope=col>&lt;dbl&gt;</th><th scope=col>&lt;dbl&gt;</th><th scope=col>&lt;chr&gt;</th><th scope=col>&lt;dbl&gt;</th></tr>\n",
       "</thead>\n",
       "<tbody>\n",
       "\t<tr><td>PROVEN40 / Uninoculated Control</td><td>V8</td><td>1.185409</td><td>0.03571624</td><td>225</td><td>1</td><td>5.64515151</td><td>4.944874e-08</td><td>0  </td><td> 33.59049</td><td>18.5</td><td>18.5% change\n",
       "p = 4.9e-08</td><td> 52.20028</td></tr>\n",
       "\t<tr><td>PROVEN40 / Uninoculated Control</td><td>V8</td><td>1.185409</td><td>0.03571624</td><td>225</td><td>1</td><td>5.64515151</td><td>4.944874e-08</td><td>95 </td><td> 38.33972</td><td>18.5</td><td>18.5% change\n",
       "p = 4.9e-08</td><td> 52.20028</td></tr>\n",
       "\t<tr><td>PROVEN40 / Uninoculated Control</td><td>V8</td><td>1.185409</td><td>0.03571624</td><td>225</td><td>1</td><td>5.64515151</td><td>4.944874e-08</td><td>135</td><td> 36.42203</td><td>18.5</td><td>18.5% change\n",
       "p = 4.9e-08</td><td> 52.20028</td></tr>\n",
       "\t<tr><td>PROVEN40 / Uninoculated Control</td><td>V8</td><td>1.185409</td><td>0.03571624</td><td>225</td><td>1</td><td>5.64515151</td><td>4.944874e-08</td><td>175</td><td> 39.49069</td><td>18.5</td><td>18.5% change\n",
       "p = 4.9e-08</td><td> 52.20028</td></tr>\n",
       "\t<tr><td>PROVEN40 / Uninoculated Control</td><td>V8</td><td>1.185409</td><td>0.03571624</td><td>225</td><td>1</td><td>5.64515151</td><td>4.944874e-08</td><td>215</td><td> 40.34483</td><td>18.5</td><td>18.5% change\n",
       "p = 4.9e-08</td><td> 52.20028</td></tr>\n",
       "\t<tr><td>PROVEN40 / Uninoculated Control</td><td>V8</td><td>1.185409</td><td>0.03571624</td><td>225</td><td>1</td><td>5.64515151</td><td>4.944874e-08</td><td>255</td><td> 40.36505</td><td>18.5</td><td>18.5% change\n",
       "p = 4.9e-08</td><td> 52.20028</td></tr>\n",
       "\t<tr><td>PROVEN40 / Uninoculated Control</td><td>R1</td><td>1.039556</td><td>0.03132170</td><td>225</td><td>1</td><td>1.28754383</td><td>1.992276e-01</td><td>0  </td><td>105.18129</td><td> 4.0</td><td>4% change\n",
       "p = 0.2       </td><td>243.78793</td></tr>\n",
       "\t<tr><td>PROVEN40 / Uninoculated Control</td><td>R1</td><td>1.039556</td><td>0.03132170</td><td>225</td><td>1</td><td>1.28754383</td><td>1.992276e-01</td><td>95 </td><td>183.87728</td><td> 4.0</td><td>4% change\n",
       "p = 0.2       </td><td>243.78793</td></tr>\n",
       "\t<tr><td>PROVEN40 / Uninoculated Control</td><td>R1</td><td>1.039556</td><td>0.03132170</td><td>225</td><td>1</td><td>1.28754383</td><td>1.992276e-01</td><td>135</td><td>198.77307</td><td> 4.0</td><td>4% change\n",
       "p = 0.2       </td><td>243.78793</td></tr>\n",
       "\t<tr><td>PROVEN40 / Uninoculated Control</td><td>R1</td><td>1.039556</td><td>0.03132170</td><td>225</td><td>1</td><td>1.28754383</td><td>1.992276e-01</td><td>175</td><td>210.95866</td><td> 4.0</td><td>4% change\n",
       "p = 0.2       </td><td>243.78793</td></tr>\n",
       "\t<tr><td>PROVEN40 / Uninoculated Control</td><td>R1</td><td>1.039556</td><td>0.03132170</td><td>225</td><td>1</td><td>1.28754383</td><td>1.992276e-01</td><td>215</td><td>214.96376</td><td> 4.0</td><td>4% change\n",
       "p = 0.2       </td><td>243.78793</td></tr>\n",
       "\t<tr><td>PROVEN40 / Uninoculated Control</td><td>R1</td><td>1.039556</td><td>0.03132170</td><td>225</td><td>1</td><td>1.28754383</td><td>1.992276e-01</td><td>255</td><td>211.82330</td><td> 4.0</td><td>4% change\n",
       "p = 0.2       </td><td>243.78793</td></tr>\n",
       "\t<tr><td>PROVEN40 / Uninoculated Control</td><td>R6</td><td>1.000631</td><td>0.03014889</td><td>225</td><td>1</td><td>0.02092812</td><td>9.833215e-01</td><td>0  </td><td> 97.06421</td><td> 0.1</td><td>0.1% change\n",
       "p = 0.98    </td><td>285.37324</td></tr>\n",
       "\t<tr><td>PROVEN40 / Uninoculated Control</td><td>R6</td><td>1.000631</td><td>0.03014889</td><td>225</td><td>1</td><td>0.02092812</td><td>9.833215e-01</td><td>95 </td><td>195.11622</td><td> 0.1</td><td>0.1% change\n",
       "p = 0.98    </td><td>285.37324</td></tr>\n",
       "\t<tr><td>PROVEN40 / Uninoculated Control</td><td>R6</td><td>1.000631</td><td>0.03014889</td><td>225</td><td>1</td><td>0.02092812</td><td>9.833215e-01</td><td>135</td><td>219.29670</td><td> 0.1</td><td>0.1% change\n",
       "p = 0.98    </td><td>285.37324</td></tr>\n",
       "\t<tr><td>PROVEN40 / Uninoculated Control</td><td>R6</td><td>1.000631</td><td>0.03014889</td><td>225</td><td>1</td><td>0.02092812</td><td>9.833215e-01</td><td>175</td><td>234.36466</td><td> 0.1</td><td>0.1% change\n",
       "p = 0.98    </td><td>285.37324</td></tr>\n",
       "\t<tr><td>PROVEN40 / Uninoculated Control</td><td>R6</td><td>1.000631</td><td>0.03014889</td><td>225</td><td>1</td><td>0.02092812</td><td>9.833215e-01</td><td>215</td><td>261.11676</td><td> 0.1</td><td>0.1% change\n",
       "p = 0.98    </td><td>285.37324</td></tr>\n",
       "\t<tr><td>PROVEN40 / Uninoculated Control</td><td>R6</td><td>1.000631</td><td>0.03014889</td><td>225</td><td>1</td><td>0.02092812</td><td>9.833215e-01</td><td>255</td><td>261.42087</td><td> 0.1</td><td>0.1% change\n",
       "p = 0.98    </td><td>285.37324</td></tr>\n",
       "</tbody>\n",
       "</table>\n"
      ],
      "text/latex": [
       "A data.frame: 18 × 13\n",
       "\\begin{tabular}{lllllllllllll}\n",
       " contrast & stage & ratio & SE & df & null & t.ratio & p.value & n\\_rate & response & pct\\_change & my\\_label & max\\_value\\\\\n",
       " <fct> & <fct> & <dbl> & <dbl> & <dbl> & <dbl> & <dbl> & <dbl> & <fct> & <dbl> & <dbl> & <chr> & <dbl>\\\\\n",
       "\\hline\n",
       "\t PROVEN40 / Uninoculated Control & V8 & 1.185409 & 0.03571624 & 225 & 1 & 5.64515151 & 4.944874e-08 & 0   &  33.59049 & 18.5 & 18.5\\% change\n",
       "p = 4.9e-08 &  52.20028\\\\\n",
       "\t PROVEN40 / Uninoculated Control & V8 & 1.185409 & 0.03571624 & 225 & 1 & 5.64515151 & 4.944874e-08 & 95  &  38.33972 & 18.5 & 18.5\\% change\n",
       "p = 4.9e-08 &  52.20028\\\\\n",
       "\t PROVEN40 / Uninoculated Control & V8 & 1.185409 & 0.03571624 & 225 & 1 & 5.64515151 & 4.944874e-08 & 135 &  36.42203 & 18.5 & 18.5\\% change\n",
       "p = 4.9e-08 &  52.20028\\\\\n",
       "\t PROVEN40 / Uninoculated Control & V8 & 1.185409 & 0.03571624 & 225 & 1 & 5.64515151 & 4.944874e-08 & 175 &  39.49069 & 18.5 & 18.5\\% change\n",
       "p = 4.9e-08 &  52.20028\\\\\n",
       "\t PROVEN40 / Uninoculated Control & V8 & 1.185409 & 0.03571624 & 225 & 1 & 5.64515151 & 4.944874e-08 & 215 &  40.34483 & 18.5 & 18.5\\% change\n",
       "p = 4.9e-08 &  52.20028\\\\\n",
       "\t PROVEN40 / Uninoculated Control & V8 & 1.185409 & 0.03571624 & 225 & 1 & 5.64515151 & 4.944874e-08 & 255 &  40.36505 & 18.5 & 18.5\\% change\n",
       "p = 4.9e-08 &  52.20028\\\\\n",
       "\t PROVEN40 / Uninoculated Control & R1 & 1.039556 & 0.03132170 & 225 & 1 & 1.28754383 & 1.992276e-01 & 0   & 105.18129 &  4.0 & 4\\% change\n",
       "p = 0.2        & 243.78793\\\\\n",
       "\t PROVEN40 / Uninoculated Control & R1 & 1.039556 & 0.03132170 & 225 & 1 & 1.28754383 & 1.992276e-01 & 95  & 183.87728 &  4.0 & 4\\% change\n",
       "p = 0.2        & 243.78793\\\\\n",
       "\t PROVEN40 / Uninoculated Control & R1 & 1.039556 & 0.03132170 & 225 & 1 & 1.28754383 & 1.992276e-01 & 135 & 198.77307 &  4.0 & 4\\% change\n",
       "p = 0.2        & 243.78793\\\\\n",
       "\t PROVEN40 / Uninoculated Control & R1 & 1.039556 & 0.03132170 & 225 & 1 & 1.28754383 & 1.992276e-01 & 175 & 210.95866 &  4.0 & 4\\% change\n",
       "p = 0.2        & 243.78793\\\\\n",
       "\t PROVEN40 / Uninoculated Control & R1 & 1.039556 & 0.03132170 & 225 & 1 & 1.28754383 & 1.992276e-01 & 215 & 214.96376 &  4.0 & 4\\% change\n",
       "p = 0.2        & 243.78793\\\\\n",
       "\t PROVEN40 / Uninoculated Control & R1 & 1.039556 & 0.03132170 & 225 & 1 & 1.28754383 & 1.992276e-01 & 255 & 211.82330 &  4.0 & 4\\% change\n",
       "p = 0.2        & 243.78793\\\\\n",
       "\t PROVEN40 / Uninoculated Control & R6 & 1.000631 & 0.03014889 & 225 & 1 & 0.02092812 & 9.833215e-01 & 0   &  97.06421 &  0.1 & 0.1\\% change\n",
       "p = 0.98     & 285.37324\\\\\n",
       "\t PROVEN40 / Uninoculated Control & R6 & 1.000631 & 0.03014889 & 225 & 1 & 0.02092812 & 9.833215e-01 & 95  & 195.11622 &  0.1 & 0.1\\% change\n",
       "p = 0.98     & 285.37324\\\\\n",
       "\t PROVEN40 / Uninoculated Control & R6 & 1.000631 & 0.03014889 & 225 & 1 & 0.02092812 & 9.833215e-01 & 135 & 219.29670 &  0.1 & 0.1\\% change\n",
       "p = 0.98     & 285.37324\\\\\n",
       "\t PROVEN40 / Uninoculated Control & R6 & 1.000631 & 0.03014889 & 225 & 1 & 0.02092812 & 9.833215e-01 & 175 & 234.36466 &  0.1 & 0.1\\% change\n",
       "p = 0.98     & 285.37324\\\\\n",
       "\t PROVEN40 / Uninoculated Control & R6 & 1.000631 & 0.03014889 & 225 & 1 & 0.02092812 & 9.833215e-01 & 215 & 261.11676 &  0.1 & 0.1\\% change\n",
       "p = 0.98     & 285.37324\\\\\n",
       "\t PROVEN40 / Uninoculated Control & R6 & 1.000631 & 0.03014889 & 225 & 1 & 0.02092812 & 9.833215e-01 & 255 & 261.42087 &  0.1 & 0.1\\% change\n",
       "p = 0.98     & 285.37324\\\\\n",
       "\\end{tabular}\n"
      ],
      "text/markdown": [
       "\n",
       "A data.frame: 18 × 13\n",
       "\n",
       "| contrast &lt;fct&gt; | stage &lt;fct&gt; | ratio &lt;dbl&gt; | SE &lt;dbl&gt; | df &lt;dbl&gt; | null &lt;dbl&gt; | t.ratio &lt;dbl&gt; | p.value &lt;dbl&gt; | n_rate &lt;fct&gt; | response &lt;dbl&gt; | pct_change &lt;dbl&gt; | my_label &lt;chr&gt; | max_value &lt;dbl&gt; |\n",
       "|---|---|---|---|---|---|---|---|---|---|---|---|---|\n",
       "| PROVEN40 / Uninoculated Control | V8 | 1.185409 | 0.03571624 | 225 | 1 | 5.64515151 | 4.944874e-08 | 0   |  33.59049 | 18.5 | 18.5% change\n",
       "p = 4.9e-08 |  52.20028 |\n",
       "| PROVEN40 / Uninoculated Control | V8 | 1.185409 | 0.03571624 | 225 | 1 | 5.64515151 | 4.944874e-08 | 95  |  38.33972 | 18.5 | 18.5% change\n",
       "p = 4.9e-08 |  52.20028 |\n",
       "| PROVEN40 / Uninoculated Control | V8 | 1.185409 | 0.03571624 | 225 | 1 | 5.64515151 | 4.944874e-08 | 135 |  36.42203 | 18.5 | 18.5% change\n",
       "p = 4.9e-08 |  52.20028 |\n",
       "| PROVEN40 / Uninoculated Control | V8 | 1.185409 | 0.03571624 | 225 | 1 | 5.64515151 | 4.944874e-08 | 175 |  39.49069 | 18.5 | 18.5% change\n",
       "p = 4.9e-08 |  52.20028 |\n",
       "| PROVEN40 / Uninoculated Control | V8 | 1.185409 | 0.03571624 | 225 | 1 | 5.64515151 | 4.944874e-08 | 215 |  40.34483 | 18.5 | 18.5% change\n",
       "p = 4.9e-08 |  52.20028 |\n",
       "| PROVEN40 / Uninoculated Control | V8 | 1.185409 | 0.03571624 | 225 | 1 | 5.64515151 | 4.944874e-08 | 255 |  40.36505 | 18.5 | 18.5% change\n",
       "p = 4.9e-08 |  52.20028 |\n",
       "| PROVEN40 / Uninoculated Control | R1 | 1.039556 | 0.03132170 | 225 | 1 | 1.28754383 | 1.992276e-01 | 0   | 105.18129 |  4.0 | 4% change\n",
       "p = 0.2        | 243.78793 |\n",
       "| PROVEN40 / Uninoculated Control | R1 | 1.039556 | 0.03132170 | 225 | 1 | 1.28754383 | 1.992276e-01 | 95  | 183.87728 |  4.0 | 4% change\n",
       "p = 0.2        | 243.78793 |\n",
       "| PROVEN40 / Uninoculated Control | R1 | 1.039556 | 0.03132170 | 225 | 1 | 1.28754383 | 1.992276e-01 | 135 | 198.77307 |  4.0 | 4% change\n",
       "p = 0.2        | 243.78793 |\n",
       "| PROVEN40 / Uninoculated Control | R1 | 1.039556 | 0.03132170 | 225 | 1 | 1.28754383 | 1.992276e-01 | 175 | 210.95866 |  4.0 | 4% change\n",
       "p = 0.2        | 243.78793 |\n",
       "| PROVEN40 / Uninoculated Control | R1 | 1.039556 | 0.03132170 | 225 | 1 | 1.28754383 | 1.992276e-01 | 215 | 214.96376 |  4.0 | 4% change\n",
       "p = 0.2        | 243.78793 |\n",
       "| PROVEN40 / Uninoculated Control | R1 | 1.039556 | 0.03132170 | 225 | 1 | 1.28754383 | 1.992276e-01 | 255 | 211.82330 |  4.0 | 4% change\n",
       "p = 0.2        | 243.78793 |\n",
       "| PROVEN40 / Uninoculated Control | R6 | 1.000631 | 0.03014889 | 225 | 1 | 0.02092812 | 9.833215e-01 | 0   |  97.06421 |  0.1 | 0.1% change\n",
       "p = 0.98     | 285.37324 |\n",
       "| PROVEN40 / Uninoculated Control | R6 | 1.000631 | 0.03014889 | 225 | 1 | 0.02092812 | 9.833215e-01 | 95  | 195.11622 |  0.1 | 0.1% change\n",
       "p = 0.98     | 285.37324 |\n",
       "| PROVEN40 / Uninoculated Control | R6 | 1.000631 | 0.03014889 | 225 | 1 | 0.02092812 | 9.833215e-01 | 135 | 219.29670 |  0.1 | 0.1% change\n",
       "p = 0.98     | 285.37324 |\n",
       "| PROVEN40 / Uninoculated Control | R6 | 1.000631 | 0.03014889 | 225 | 1 | 0.02092812 | 9.833215e-01 | 175 | 234.36466 |  0.1 | 0.1% change\n",
       "p = 0.98     | 285.37324 |\n",
       "| PROVEN40 / Uninoculated Control | R6 | 1.000631 | 0.03014889 | 225 | 1 | 0.02092812 | 9.833215e-01 | 215 | 261.11676 |  0.1 | 0.1% change\n",
       "p = 0.98     | 285.37324 |\n",
       "| PROVEN40 / Uninoculated Control | R6 | 1.000631 | 0.03014889 | 225 | 1 | 0.02092812 | 9.833215e-01 | 255 | 261.42087 |  0.1 | 0.1% change\n",
       "p = 0.98     | 285.37324 |\n",
       "\n"
      ],
      "text/plain": [
       "   contrast                        stage ratio    SE         df  null\n",
       "1  PROVEN40 / Uninoculated Control V8    1.185409 0.03571624 225 1   \n",
       "2  PROVEN40 / Uninoculated Control V8    1.185409 0.03571624 225 1   \n",
       "3  PROVEN40 / Uninoculated Control V8    1.185409 0.03571624 225 1   \n",
       "4  PROVEN40 / Uninoculated Control V8    1.185409 0.03571624 225 1   \n",
       "5  PROVEN40 / Uninoculated Control V8    1.185409 0.03571624 225 1   \n",
       "6  PROVEN40 / Uninoculated Control V8    1.185409 0.03571624 225 1   \n",
       "7  PROVEN40 / Uninoculated Control R1    1.039556 0.03132170 225 1   \n",
       "8  PROVEN40 / Uninoculated Control R1    1.039556 0.03132170 225 1   \n",
       "9  PROVEN40 / Uninoculated Control R1    1.039556 0.03132170 225 1   \n",
       "10 PROVEN40 / Uninoculated Control R1    1.039556 0.03132170 225 1   \n",
       "11 PROVEN40 / Uninoculated Control R1    1.039556 0.03132170 225 1   \n",
       "12 PROVEN40 / Uninoculated Control R1    1.039556 0.03132170 225 1   \n",
       "13 PROVEN40 / Uninoculated Control R6    1.000631 0.03014889 225 1   \n",
       "14 PROVEN40 / Uninoculated Control R6    1.000631 0.03014889 225 1   \n",
       "15 PROVEN40 / Uninoculated Control R6    1.000631 0.03014889 225 1   \n",
       "16 PROVEN40 / Uninoculated Control R6    1.000631 0.03014889 225 1   \n",
       "17 PROVEN40 / Uninoculated Control R6    1.000631 0.03014889 225 1   \n",
       "18 PROVEN40 / Uninoculated Control R6    1.000631 0.03014889 225 1   \n",
       "   t.ratio    p.value      n_rate response  pct_change\n",
       "1  5.64515151 4.944874e-08 0       33.59049 18.5      \n",
       "2  5.64515151 4.944874e-08 95      38.33972 18.5      \n",
       "3  5.64515151 4.944874e-08 135     36.42203 18.5      \n",
       "4  5.64515151 4.944874e-08 175     39.49069 18.5      \n",
       "5  5.64515151 4.944874e-08 215     40.34483 18.5      \n",
       "6  5.64515151 4.944874e-08 255     40.36505 18.5      \n",
       "7  1.28754383 1.992276e-01 0      105.18129  4.0      \n",
       "8  1.28754383 1.992276e-01 95     183.87728  4.0      \n",
       "9  1.28754383 1.992276e-01 135    198.77307  4.0      \n",
       "10 1.28754383 1.992276e-01 175    210.95866  4.0      \n",
       "11 1.28754383 1.992276e-01 215    214.96376  4.0      \n",
       "12 1.28754383 1.992276e-01 255    211.82330  4.0      \n",
       "13 0.02092812 9.833215e-01 0       97.06421  0.1      \n",
       "14 0.02092812 9.833215e-01 95     195.11622  0.1      \n",
       "15 0.02092812 9.833215e-01 135    219.29670  0.1      \n",
       "16 0.02092812 9.833215e-01 175    234.36466  0.1      \n",
       "17 0.02092812 9.833215e-01 215    261.11676  0.1      \n",
       "18 0.02092812 9.833215e-01 255    261.42087  0.1      \n",
       "   my_label                  max_value\n",
       "1  18.5% change\\np = 4.9e-08  52.20028\n",
       "2  18.5% change\\np = 4.9e-08  52.20028\n",
       "3  18.5% change\\np = 4.9e-08  52.20028\n",
       "4  18.5% change\\np = 4.9e-08  52.20028\n",
       "5  18.5% change\\np = 4.9e-08  52.20028\n",
       "6  18.5% change\\np = 4.9e-08  52.20028\n",
       "7  4% change\\np = 0.2        243.78793\n",
       "8  4% change\\np = 0.2        243.78793\n",
       "9  4% change\\np = 0.2        243.78793\n",
       "10 4% change\\np = 0.2        243.78793\n",
       "11 4% change\\np = 0.2        243.78793\n",
       "12 4% change\\np = 0.2        243.78793\n",
       "13 0.1% change\\np = 0.98     285.37324\n",
       "14 0.1% change\\np = 0.98     285.37324\n",
       "15 0.1% change\\np = 0.98     285.37324\n",
       "16 0.1% change\\np = 0.98     285.37324\n",
       "17 0.1% change\\np = 0.98     285.37324\n",
       "18 0.1% change\\np = 0.98     285.37324"
      ]
     },
     "metadata": {},
     "output_type": "display_data"
    }
   ],
   "source": [
    "up21_n_mod_trt_contrast <- emmeans(up21_n_mod, ~ microbe, by = c(\"stage\"), type = \"response\") %>% \n",
    "pairs(reverse = TRUE,  adjust = \"Tukey\") %>% \n",
    "data.frame()\n",
    "\n",
    "up21_n_mod_trt_contrast <- \n",
    "up21_n_mod_trt_contrast %>%\n",
    "left_join(as.data.frame(up21_n_mod_means) %>% filter(microbe == \"Uninoculated Control\") %>% dplyr::select(stage,n_rate,response))  %>% \n",
    "mutate(pct_change = round(ratio - 1,3)*100,\n",
    "my_label = \n",
    "paste0(\n",
    "    pct_change,\"% change\\n\",\n",
    "    \"p = \",signif(p.value,2)\n",
    "    )\n",
    ") %>% \n",
    "left_join(up21_n_mod_means %>% \n",
    "as.data.frame() %>%  \n",
    "group_by(stage) %>% \n",
    "summarize(max_value = max(upper.CL, na.rm = T)))\n",
    "\n",
    "up21_n_mod_trt_contrast\n",
    " "
   ]
  },
  {
   "cell_type": "code",
   "execution_count": 18,
   "metadata": {
    "vscode": {
     "languageId": "r"
    }
   },
   "outputs": [
    {
     "name": "stderr",
     "output_type": "stream",
     "text": [
      "Warning message in geom_errorbar(aes(ymax = upper.CL, ymin = lower.CL, fill = microbe), :\n",
      "\"\u001b[1m\u001b[22mIgnoring unknown aesthetics: \u001b[32mfill\u001b[39m\"\n"
     ]
    },
    {
     "data": {
      "image/png": "[encoded data removed]",
      "text/plain": [
       "plot without title"
      ]
     },
     "metadata": {
      "image/png": {
       "height": 300,
       "width": 600
      }
     },
     "output_type": "display_data"
    }
   ],
   "source": [
    "\n",
    "options(repr.plot.width=10, repr.plot.height=5)\n",
    "\n",
    "\n",
    "up21_n_plot <-\n",
    "as.data.frame(up21_n_mod_means) %>%  \n",
    "ggplot(aes(factor(round(as.numeric(as.character(n_rate))/1.12 + 9,0)),response)) + \n",
    "geom_point(aes(colour = microbe, fill = microbe, shape = microbe), position = position_dodge(width = 0.4), size = 4, colour = \"gray10\") +\n",
    "geom_errorbar(aes(ymax = upper.CL, ymin = lower.CL,  fill = microbe), width = 0, position = position_dodge(width = 0.4), lwd = 1) + \n",
    "labs(y = expression(\"Shoot biomass N (Kg N\"~ha^-1*\")\"), x = \"Year\", colour = \"\", fill = \"Treatment\", shape = \"Treatment\") + \n",
    "scale_fill_manual(values = myColorPalette) +\n",
    "scale_shape_manual( values = 21:22) + \n",
    "geom_text(aes(y = (max_value) + 1.5, label = my_label), data = up21_n_mod_trt_contrast %>% filter(n_rate == 0), colour = \"gray10\", vjust = 1, hjust = 0, size = 4.5) + \n",
    "facet_wrap(~stage, scales = \"free_y\") + \n",
    "theme(legend.position = \"top\")\n",
    "\n",
    "up21_n_plot\n"
   ]
  },
  {
   "cell_type": "code",
   "execution_count": 19,
   "metadata": {
    "vscode": {
     "languageId": "r"
    }
   },
   "outputs": [
    {
     "data": {
      "text/html": [
       "<table class=\"dataframe\">\n",
       "<caption>A data.frame: 6 × 10</caption>\n",
       "<thead>\n",
       "\t<tr><th></th><th scope=col>year</th><th scope=col>plot</th><th scope=col>rep</th><th scope=col>microbe</th><th scope=col>n_rate</th><th scope=col>stage</th><th scope=col>organ</th><th scope=col>measurement</th><th scope=col>units</th><th scope=col>value</th></tr>\n",
       "\t<tr><th></th><th scope=col>&lt;fct&gt;</th><th scope=col>&lt;fct&gt;</th><th scope=col>&lt;fct&gt;</th><th scope=col>&lt;fct&gt;</th><th scope=col>&lt;fct&gt;</th><th scope=col>&lt;fct&gt;</th><th scope=col>&lt;fct&gt;</th><th scope=col>&lt;chr&gt;</th><th scope=col>&lt;chr&gt;</th><th scope=col>&lt;dbl&gt;</th></tr>\n",
       "</thead>\n",
       "<tbody>\n",
       "\t<tr><th scope=row>1</th><td>2022</td><td>101</td><td>1</td><td>PROVEN40            </td><td>215</td><td>V8</td><td>shoot</td><td>n</td><td>kgha</td><td>33.22709</td></tr>\n",
       "\t<tr><th scope=row>2</th><td>2022</td><td>102</td><td>1</td><td>Uninoculated Control</td><td>215</td><td>V8</td><td>shoot</td><td>n</td><td>kgha</td><td>29.04926</td></tr>\n",
       "\t<tr><th scope=row>3</th><td>2022</td><td>103</td><td>1</td><td>PROVEN40            </td><td>175</td><td>V8</td><td>shoot</td><td>n</td><td>kgha</td><td>28.30344</td></tr>\n",
       "\t<tr><th scope=row>4</th><td>2022</td><td>104</td><td>1</td><td>Uninoculated Control</td><td>175</td><td>V8</td><td>shoot</td><td>n</td><td>kgha</td><td>33.96938</td></tr>\n",
       "\t<tr><th scope=row>5</th><td>2022</td><td>105</td><td>1</td><td>PROVEN40            </td><td>135</td><td>V8</td><td>shoot</td><td>n</td><td>kgha</td><td>25.67603</td></tr>\n",
       "\t<tr><th scope=row>6</th><td>2022</td><td>106</td><td>1</td><td>Uninoculated Control</td><td>135</td><td>V8</td><td>shoot</td><td>n</td><td>kgha</td><td>33.95982</td></tr>\n",
       "</tbody>\n",
       "</table>\n"
      ],
      "text/latex": [
       "A data.frame: 6 × 10\n",
       "\\begin{tabular}{r|llllllllll}\n",
       "  & year & plot & rep & microbe & n\\_rate & stage & organ & measurement & units & value\\\\\n",
       "  & <fct> & <fct> & <fct> & <fct> & <fct> & <fct> & <fct> & <chr> & <chr> & <dbl>\\\\\n",
       "\\hline\n",
       "\t1 & 2022 & 101 & 1 & PROVEN40             & 215 & V8 & shoot & n & kgha & 33.22709\\\\\n",
       "\t2 & 2022 & 102 & 1 & Uninoculated Control & 215 & V8 & shoot & n & kgha & 29.04926\\\\\n",
       "\t3 & 2022 & 103 & 1 & PROVEN40             & 175 & V8 & shoot & n & kgha & 28.30344\\\\\n",
       "\t4 & 2022 & 104 & 1 & Uninoculated Control & 175 & V8 & shoot & n & kgha & 33.96938\\\\\n",
       "\t5 & 2022 & 105 & 1 & PROVEN40             & 135 & V8 & shoot & n & kgha & 25.67603\\\\\n",
       "\t6 & 2022 & 106 & 1 & Uninoculated Control & 135 & V8 & shoot & n & kgha & 33.95982\\\\\n",
       "\\end{tabular}\n"
      ],
      "text/markdown": [
       "\n",
       "A data.frame: 6 × 10\n",
       "\n",
       "| <!--/--> | year &lt;fct&gt; | plot &lt;fct&gt; | rep &lt;fct&gt; | microbe &lt;fct&gt; | n_rate &lt;fct&gt; | stage &lt;fct&gt; | organ &lt;fct&gt; | measurement &lt;chr&gt; | units &lt;chr&gt; | value &lt;dbl&gt; |\n",
       "|---|---|---|---|---|---|---|---|---|---|---|\n",
       "| 1 | 2022 | 101 | 1 | PROVEN40             | 215 | V8 | shoot | n | kgha | 33.22709 |\n",
       "| 2 | 2022 | 102 | 1 | Uninoculated Control | 215 | V8 | shoot | n | kgha | 29.04926 |\n",
       "| 3 | 2022 | 103 | 1 | PROVEN40             | 175 | V8 | shoot | n | kgha | 28.30344 |\n",
       "| 4 | 2022 | 104 | 1 | Uninoculated Control | 175 | V8 | shoot | n | kgha | 33.96938 |\n",
       "| 5 | 2022 | 105 | 1 | PROVEN40             | 135 | V8 | shoot | n | kgha | 25.67603 |\n",
       "| 6 | 2022 | 106 | 1 | Uninoculated Control | 135 | V8 | shoot | n | kgha | 33.95982 |\n",
       "\n"
      ],
      "text/plain": [
       "  year plot rep microbe              n_rate stage organ measurement units\n",
       "1 2022 101  1   PROVEN40             215    V8    shoot n           kgha \n",
       "2 2022 102  1   Uninoculated Control 215    V8    shoot n           kgha \n",
       "3 2022 103  1   PROVEN40             175    V8    shoot n           kgha \n",
       "4 2022 104  1   Uninoculated Control 175    V8    shoot n           kgha \n",
       "5 2022 105  1   PROVEN40             135    V8    shoot n           kgha \n",
       "6 2022 106  1   Uninoculated Control 135    V8    shoot n           kgha \n",
       "  value   \n",
       "1 33.22709\n",
       "2 29.04926\n",
       "3 28.30344\n",
       "4 33.96938\n",
       "5 25.67603\n",
       "6 33.95982"
      ]
     },
     "metadata": {},
     "output_type": "display_data"
    }
   ],
   "source": [
    "up22_n <- filter(up_n, year == 2022)\n",
    "\n",
    "head(up22_n)"
   ]
  },
  {
   "cell_type": "code",
   "execution_count": 20,
   "metadata": {
    "vscode": {
     "languageId": "r"
    }
   },
   "outputs": [],
   "source": [
    "up22_n_mod_full <- lmer(log(value) ~ microbe*n_rate*stage +  (1|rep/n_rate), data = up21_n)"
   ]
  },
  {
   "cell_type": "code",
   "execution_count": 21,
   "metadata": {
    "vscode": {
     "languageId": "r"
    }
   },
   "outputs": [
    {
     "data": {
      "image/png": "[encoded data removed]",
      "text/plain": [
       "plot without title"
      ]
     },
     "metadata": {
      "image/png": {
       "height": 300,
       "width": 600
      }
     },
     "output_type": "display_data"
    },
    {
     "name": "stdout",
     "output_type": "stream",
     "text": [
      "NULL\n"
     ]
    },
    {
     "data": {
      "text/plain": [
       "\n",
       "\tShapiro-Wilk normality test\n",
       "\n",
       "data:  residuals(mod)\n",
       "W = 0.98305, p-value = 0.001732\n"
      ]
     },
     "metadata": {},
     "output_type": "display_data"
    },
    {
     "data": {
      "image/png": "[encoded data removed]",
      "text/plain": [
       "Plot with title \"density.default(x = resid(mod))\""
      ]
     },
     "metadata": {
      "image/png": {
       "height": 300,
       "width": 600
      }
     },
     "output_type": "display_data"
    }
   ],
   "source": [
    "check_assumptions(up22_n_mod_full)"
   ]
  },
  {
   "cell_type": "code",
   "execution_count": 22,
   "metadata": {
    "vscode": {
     "languageId": "r"
    }
   },
   "outputs": [
    {
     "data": {
      "text/html": [
       "<table class=\"dataframe\">\n",
       "<caption>A anova: 7 × 6</caption>\n",
       "<thead>\n",
       "\t<tr><th></th><th scope=col>Sum Sq</th><th scope=col>Mean Sq</th><th scope=col>NumDF</th><th scope=col>DenDF</th><th scope=col>F value</th><th scope=col>Pr(&gt;F)</th></tr>\n",
       "\t<tr><th></th><th scope=col>&lt;dbl&gt;</th><th scope=col>&lt;dbl&gt;</th><th scope=col>&lt;int&gt;</th><th scope=col>&lt;dbl&gt;</th><th scope=col>&lt;dbl&gt;</th><th scope=col>&lt;dbl&gt;</th></tr>\n",
       "</thead>\n",
       "<tbody>\n",
       "\t<tr><th scope=row>microbe</th><td>  0.3511619</td><td> 0.35116186</td><td> 1</td><td>210.00004</td><td>  15.8017424</td><td> 9.673140e-05</td></tr>\n",
       "\t<tr><th scope=row>n_rate</th><td>  7.7873481</td><td> 1.55746962</td><td> 5</td><td> 41.99995</td><td>  70.0837311</td><td> 2.796377e-19</td></tr>\n",
       "\t<tr><th scope=row>stage</th><td>152.5791629</td><td>76.28958145</td><td> 2</td><td>210.00004</td><td>3432.9135257</td><td>4.040131e-161</td></tr>\n",
       "\t<tr><th scope=row>microbe:n_rate</th><td>  0.1228116</td><td> 0.02456233</td><td> 5</td><td>210.00004</td><td>   1.1052670</td><td> 3.586435e-01</td></tr>\n",
       "\t<tr><th scope=row>microbe:stage</th><td>  0.3792827</td><td> 0.18964136</td><td> 2</td><td>210.00004</td><td>   8.5335689</td><td> 2.734173e-04</td></tr>\n",
       "\t<tr><th scope=row>n_rate:stage</th><td>  4.0708126</td><td> 0.40708126</td><td>10</td><td>210.00004</td><td>  18.3180288</td><td> 6.892118e-24</td></tr>\n",
       "\t<tr><th scope=row>microbe:n_rate:stage</th><td>  0.1125362</td><td> 0.01125362</td><td>10</td><td>210.00004</td><td>   0.5063957</td><td> 8.844988e-01</td></tr>\n",
       "</tbody>\n",
       "</table>\n"
      ],
      "text/latex": [
       "A anova: 7 × 6\n",
       "\\begin{tabular}{r|llllll}\n",
       "  & Sum Sq & Mean Sq & NumDF & DenDF & F value & Pr(>F)\\\\\n",
       "  & <dbl> & <dbl> & <int> & <dbl> & <dbl> & <dbl>\\\\\n",
       "\\hline\n",
       "\tmicrobe &   0.3511619 &  0.35116186 &  1 & 210.00004 &   15.8017424 &  9.673140e-05\\\\\n",
       "\tn\\_rate &   7.7873481 &  1.55746962 &  5 &  41.99995 &   70.0837311 &  2.796377e-19\\\\\n",
       "\tstage & 152.5791629 & 76.28958145 &  2 & 210.00004 & 3432.9135257 & 4.040131e-161\\\\\n",
       "\tmicrobe:n\\_rate &   0.1228116 &  0.02456233 &  5 & 210.00004 &    1.1052670 &  3.586435e-01\\\\\n",
       "\tmicrobe:stage &   0.3792827 &  0.18964136 &  2 & 210.00004 &    8.5335689 &  2.734173e-04\\\\\n",
       "\tn\\_rate:stage &   4.0708126 &  0.40708126 & 10 & 210.00004 &   18.3180288 &  6.892118e-24\\\\\n",
       "\tmicrobe:n\\_rate:stage &   0.1125362 &  0.01125362 & 10 & 210.00004 &    0.5063957 &  8.844988e-01\\\\\n",
       "\\end{tabular}\n"
      ],
      "text/markdown": [
       "\n",
       "A anova: 7 × 6\n",
       "\n",
       "| <!--/--> | Sum Sq &lt;dbl&gt; | Mean Sq &lt;dbl&gt; | NumDF &lt;int&gt; | DenDF &lt;dbl&gt; | F value &lt;dbl&gt; | Pr(&gt;F) &lt;dbl&gt; |\n",
       "|---|---|---|---|---|---|---|\n",
       "| microbe |   0.3511619 |  0.35116186 |  1 | 210.00004 |   15.8017424 |  9.673140e-05 |\n",
       "| n_rate |   7.7873481 |  1.55746962 |  5 |  41.99995 |   70.0837311 |  2.796377e-19 |\n",
       "| stage | 152.5791629 | 76.28958145 |  2 | 210.00004 | 3432.9135257 | 4.040131e-161 |\n",
       "| microbe:n_rate |   0.1228116 |  0.02456233 |  5 | 210.00004 |    1.1052670 |  3.586435e-01 |\n",
       "| microbe:stage |   0.3792827 |  0.18964136 |  2 | 210.00004 |    8.5335689 |  2.734173e-04 |\n",
       "| n_rate:stage |   4.0708126 |  0.40708126 | 10 | 210.00004 |   18.3180288 |  6.892118e-24 |\n",
       "| microbe:n_rate:stage |   0.1125362 |  0.01125362 | 10 | 210.00004 |    0.5063957 |  8.844988e-01 |\n",
       "\n"
      ],
      "text/plain": [
       "                     Sum Sq      Mean Sq     NumDF DenDF     F value     \n",
       "microbe                0.3511619  0.35116186  1    210.00004   15.8017424\n",
       "n_rate                 7.7873481  1.55746962  5     41.99995   70.0837311\n",
       "stage                152.5791629 76.28958145  2    210.00004 3432.9135257\n",
       "microbe:n_rate         0.1228116  0.02456233  5    210.00004    1.1052670\n",
       "microbe:stage          0.3792827  0.18964136  2    210.00004    8.5335689\n",
       "n_rate:stage           4.0708126  0.40708126 10    210.00004   18.3180288\n",
       "microbe:n_rate:stage   0.1125362  0.01125362 10    210.00004    0.5063957\n",
       "                     Pr(>F)       \n",
       "microbe               9.673140e-05\n",
       "n_rate                2.796377e-19\n",
       "stage                4.040131e-161\n",
       "microbe:n_rate        3.586435e-01\n",
       "microbe:stage         2.734173e-04\n",
       "n_rate:stage          6.892118e-24\n",
       "microbe:n_rate:stage  8.844988e-01"
      ]
     },
     "metadata": {},
     "output_type": "display_data"
    }
   ],
   "source": [
    "anova(up22_n_mod_full)"
   ]
  },
  {
   "cell_type": "code",
   "execution_count": 23,
   "metadata": {
    "vscode": {
     "languageId": "r"
    }
   },
   "outputs": [],
   "source": [
    "up22_n_mod_red1 <- lmer(log(value) ~ microbe*stage + n_rate*stage  +  (1|rep:n_rate), data = up22_n)"
   ]
  },
  {
   "cell_type": "code",
   "execution_count": 24,
   "metadata": {
    "vscode": {
     "languageId": "r"
    }
   },
   "outputs": [
    {
     "name": "stderr",
     "output_type": "stream",
     "text": [
      "\n",
      "Correlation matrix not shown by default, as p = 21 > 12.\n",
      "Use print(obj, correlation=TRUE)  or\n",
      "    vcov(obj)        if you need it\n",
      "\n",
      "\n"
     ]
    },
    {
     "data": {
      "text/plain": [
       "Linear mixed model fit by REML. t-tests use Satterthwaite's method [\n",
       "lmerModLmerTest]\n",
       "Formula: log(value) ~ microbe * stage + n_rate * stage + (1 | rep:n_rate)\n",
       "   Data: up22_n\n",
       "\n",
       "REML criterion at convergence: -93.1\n",
       "\n",
       "Scaled residuals: \n",
       "     Min       1Q   Median       3Q      Max \n",
       "-3.04126 -0.52008  0.03681  0.58550  2.69632 \n",
       "\n",
       "Random effects:\n",
       " Groups     Name        Variance Std.Dev.\n",
       " rep:n_rate (Intercept) 0.009754 0.09876 \n",
       " Residual               0.026963 0.16420 \n",
       "Number of obs: 276, groups:  rep:n_rate, 46\n",
       "\n",
       "Fixed effects:\n",
       "                         Estimate Std. Error        df t value Pr(>|t|)    \n",
       "(Intercept)               3.05784    0.06010 113.33602  50.876  < 2e-16 ***\n",
       "microbePROVEN40          -0.07268    0.03424 215.00000  -2.123 0.034911 *  \n",
       "stageR1                   0.99011    0.06662 215.00000  14.862  < 2e-16 ***\n",
       "stageR6                   1.32021    0.06662 215.00000  19.818  < 2e-16 ***\n",
       "n_rate95                  0.19707    0.07889  99.04710   2.498 0.014139 *  \n",
       "n_rate135                 0.30478    0.08148  99.04710   3.741 0.000308 ***\n",
       "n_rate175                 0.22949    0.07889  99.04710   2.909 0.004477 ** \n",
       "n_rate215                 0.29737    0.07889  99.04710   3.769 0.000278 ***\n",
       "n_rate255                 0.28463    0.07889  99.04710   3.608 0.000486 ***\n",
       "microbePROVEN40:stageR1   0.05748    0.04842 215.00000   1.187 0.236471    \n",
       "microbePROVEN40:stageR6   0.07621    0.04842 215.00000   1.574 0.116975    \n",
       "stageR1:n_rate95          0.38224    0.08498 215.00000   4.498 1.12e-05 ***\n",
       "stageR6:n_rate95          0.54953    0.08498 215.00000   6.466 6.65e-10 ***\n",
       "stageR1:n_rate135         0.35600    0.08777 215.00000   4.056 6.98e-05 ***\n",
       "stageR6:n_rate135         0.59147    0.08777 215.00000   6.739 1.44e-10 ***\n",
       "stageR1:n_rate175         0.45352    0.08498 215.00000   5.337 2.40e-07 ***\n",
       "stageR6:n_rate175         0.76140    0.08498 215.00000   8.959  < 2e-16 ***\n",
       "stageR1:n_rate215         0.53284    0.08498 215.00000   6.270 1.95e-09 ***\n",
       "stageR6:n_rate215         0.82046    0.08498 215.00000   9.654  < 2e-16 ***\n",
       "stageR1:n_rate255         0.54968    0.08498 215.00000   6.468 6.59e-10 ***\n",
       "stageR6:n_rate255         0.84787    0.08498 215.00000   9.977  < 2e-16 ***\n",
       "---\n",
       "Signif. codes:  0 '***' 0.001 '**' 0.01 '*' 0.05 '.' 0.1 ' ' 1"
      ]
     },
     "metadata": {},
     "output_type": "display_data"
    }
   ],
   "source": [
    "summary(up22_n_mod_red1)"
   ]
  },
  {
   "cell_type": "code",
   "execution_count": 25,
   "metadata": {
    "vscode": {
     "languageId": "r"
    }
   },
   "outputs": [],
   "source": [
    "up22_n_mod<- up22_n_mod_red1"
   ]
  },
  {
   "cell_type": "code",
   "execution_count": 26,
   "metadata": {
    "vscode": {
     "languageId": "r"
    }
   },
   "outputs": [
    {
     "data": {
      "text/plain": [
       " stage microbe              n_rate response    SE  df lower.CL upper.CL\n",
       " V8    Uninoculated Control 0          21.3  1.28 113     18.9     24.0\n",
       " R1    Uninoculated Control 0          57.3  3.44 113     50.8     64.5\n",
       " R6    Uninoculated Control 0          79.7  4.79 113     70.7     89.8\n",
       " V8    PROVEN40             0          19.8  1.19 113     17.6     22.3\n",
       " R1    PROVEN40             0          56.4  3.39 113     50.1     63.5\n",
       " R6    PROVEN40             0          80.0  4.81 113     71.0     90.1\n",
       " V8    Uninoculated Control 95         25.9  1.47 115     23.2     29.0\n",
       " R1    Uninoculated Control 95        102.2  5.78 115     91.4    114.4\n",
       " R6    Uninoculated Control 95        168.1  9.51 115    150.3    188.0\n",
       " V8    PROVEN40             95         24.1  1.36 115     21.5     27.0\n",
       " R1    PROVEN40             95        100.7  5.69 115     90.0    112.6\n",
       " R6    PROVEN40             95        168.7  9.54 115    150.8    188.7\n",
       " V8    Uninoculated Control 135        28.9  1.73 113     25.6     32.5\n",
       " R1    Uninoculated Control 135       110.9  6.67 113     98.5    124.9\n",
       " R6    Uninoculated Control 135       195.3 11.74 113    173.3    219.9\n",
       " V8    PROVEN40             135        26.8  1.61 113     23.8     30.2\n",
       " R1    PROVEN40             135       109.2  6.57 113     97.0    123.1\n",
       " R6    PROVEN40             135       195.9 11.78 113    173.9    220.7\n",
       " V8    Uninoculated Control 175        26.8  1.51 115     23.9     29.9\n",
       " R1    Uninoculated Control 175       113.4  6.41 115    101.4    126.8\n",
       " R6    Uninoculated Control 175       214.6 12.14 115    191.9    240.1\n",
       " V8    PROVEN40             175        24.9  1.41 115     22.3     27.8\n",
       " R1    PROVEN40             175       111.7  6.32 115     99.9    124.9\n",
       " R6    PROVEN40             175       215.4 12.18 115    192.6    240.9\n",
       " V8    Uninoculated Control 215        28.7  1.62 115     25.6     32.0\n",
       " R1    Uninoculated Control 215       131.4  7.43 115    117.5    147.0\n",
       " R6    Uninoculated Control 215       243.7 13.78 115    217.9    272.6\n",
       " V8    PROVEN40             215        26.6  1.51 115     23.8     29.8\n",
       " R1    PROVEN40             215       129.4  7.32 115    115.7    144.7\n",
       " R6    PROVEN40             215       244.5 13.83 115    218.6    273.5\n",
       " V8    Uninoculated Control 255        28.3  1.60 115     25.3     31.6\n",
       " R1    Uninoculated Control 255       131.9  7.46 115    117.9    147.6\n",
       " R6    Uninoculated Control 255       247.3 13.98 115    221.1    276.6\n",
       " V8    PROVEN40             255        26.3  1.49 115     23.5     29.4\n",
       " R1    PROVEN40             255       129.9  7.35 115    116.2    145.3\n",
       " R6    PROVEN40             255       248.2 14.03 115    221.9    277.6\n",
       "\n",
       "Degrees-of-freedom method: kenward-roger \n",
       "Confidence level used: 0.95 \n",
       "Intervals are back-transformed from the log scale "
      ]
     },
     "metadata": {},
     "output_type": "display_data"
    }
   ],
   "source": [
    "up22_n_mod_means <- emmeans(up22_n_mod, ~ stage*microbe + n_rate*stage,  type = \"response\")\n",
    "up22_n_mod_means"
   ]
  },
  {
   "cell_type": "code",
   "execution_count": 27,
   "metadata": {
    "vscode": {
     "languageId": "r"
    }
   },
   "outputs": [
    {
     "name": "stderr",
     "output_type": "stream",
     "text": [
      "\u001b[1m\u001b[22mJoining with `by = join_by(stage)`\n",
      "\u001b[1m\u001b[22mJoining with `by = join_by(stage)`\n"
     ]
    },
    {
     "data": {
      "text/html": [
       "<table class=\"dataframe\">\n",
       "<caption>A data.frame: 18 × 13</caption>\n",
       "<thead>\n",
       "\t<tr><th scope=col>contrast</th><th scope=col>stage</th><th scope=col>ratio</th><th scope=col>SE</th><th scope=col>df</th><th scope=col>null</th><th scope=col>t.ratio</th><th scope=col>p.value</th><th scope=col>n_rate</th><th scope=col>response</th><th scope=col>pct_change</th><th scope=col>my_label</th><th scope=col>max_value</th></tr>\n",
       "\t<tr><th scope=col>&lt;fct&gt;</th><th scope=col>&lt;fct&gt;</th><th scope=col>&lt;dbl&gt;</th><th scope=col>&lt;dbl&gt;</th><th scope=col>&lt;dbl&gt;</th><th scope=col>&lt;dbl&gt;</th><th scope=col>&lt;dbl&gt;</th><th scope=col>&lt;dbl&gt;</th><th scope=col>&lt;fct&gt;</th><th scope=col>&lt;dbl&gt;</th><th scope=col>&lt;dbl&gt;</th><th scope=col>&lt;chr&gt;</th><th scope=col>&lt;dbl&gt;</th></tr>\n",
       "</thead>\n",
       "<tbody>\n",
       "\t<tr><td>PROVEN40 / Uninoculated Control</td><td>V8</td><td>0.9298950</td><td>0.03183863</td><td>215</td><td>1</td><td>-2.1228334</td><td>0.03491142</td><td>0  </td><td> 21.28160</td><td>-7.0</td><td>-7% change\n",
       "p = 0.035 </td><td> 32.51492</td></tr>\n",
       "\t<tr><td>PROVEN40 / Uninoculated Control</td><td>V8</td><td>0.9298950</td><td>0.03183863</td><td>215</td><td>1</td><td>-2.1228334</td><td>0.03491142</td><td>95 </td><td> 25.91727</td><td>-7.0</td><td>-7% change\n",
       "p = 0.035 </td><td> 32.51492</td></tr>\n",
       "\t<tr><td>PROVEN40 / Uninoculated Control</td><td>V8</td><td>0.9298950</td><td>0.03183863</td><td>215</td><td>1</td><td>-2.1228334</td><td>0.03491142</td><td>135</td><td> 28.86489</td><td>-7.0</td><td>-7% change\n",
       "p = 0.035 </td><td> 32.51492</td></tr>\n",
       "\t<tr><td>PROVEN40 / Uninoculated Control</td><td>V8</td><td>0.9298950</td><td>0.03183863</td><td>215</td><td>1</td><td>-2.1228334</td><td>0.03491142</td><td>175</td><td> 26.77143</td><td>-7.0</td><td>-7% change\n",
       "p = 0.035 </td><td> 32.51492</td></tr>\n",
       "\t<tr><td>PROVEN40 / Uninoculated Control</td><td>V8</td><td>0.9298950</td><td>0.03183863</td><td>215</td><td>1</td><td>-2.1228334</td><td>0.03491142</td><td>215</td><td> 28.65162</td><td>-7.0</td><td>-7% change\n",
       "p = 0.035 </td><td> 32.51492</td></tr>\n",
       "\t<tr><td>PROVEN40 / Uninoculated Control</td><td>V8</td><td>0.9298950</td><td>0.03183863</td><td>215</td><td>1</td><td>-2.1228334</td><td>0.03491142</td><td>255</td><td> 28.28892</td><td>-7.0</td><td>-7% change\n",
       "p = 0.035 </td><td> 32.51492</td></tr>\n",
       "\t<tr><td>PROVEN40 / Uninoculated Control</td><td>R1</td><td>0.9849155</td><td>0.03372248</td><td>215</td><td>1</td><td>-0.4439216</td><td>0.65754574</td><td>0  </td><td> 57.28000</td><td>-1.5</td><td>-1.5% change\n",
       "p = 0.66</td><td>147.56438</td></tr>\n",
       "\t<tr><td>PROVEN40 / Uninoculated Control</td><td>R1</td><td>0.9849155</td><td>0.03372248</td><td>215</td><td>1</td><td>-0.4439216</td><td>0.65754574</td><td>95 </td><td>102.23349</td><td>-1.5</td><td>-1.5% change\n",
       "p = 0.66</td><td>147.56438</td></tr>\n",
       "\t<tr><td>PROVEN40 / Uninoculated Control</td><td>R1</td><td>0.9849155</td><td>0.03372248</td><td>215</td><td>1</td><td>-0.4439216</td><td>0.65754574</td><td>135</td><td>110.91170</td><td>-1.5</td><td>-1.5% change\n",
       "p = 0.66</td><td>147.56438</td></tr>\n",
       "\t<tr><td>PROVEN40 / Uninoculated Control</td><td>R1</td><td>0.9849155</td><td>0.03372248</td><td>215</td><td>1</td><td>-0.4439216</td><td>0.65754574</td><td>175</td><td>113.40453</td><td>-1.5</td><td>-1.5% change\n",
       "p = 0.66</td><td>147.56438</td></tr>\n",
       "\t<tr><td>PROVEN40 / Uninoculated Control</td><td>R1</td><td>0.9849155</td><td>0.03372248</td><td>215</td><td>1</td><td>-0.4439216</td><td>0.65754574</td><td>215</td><td>131.38858</td><td>-1.5</td><td>-1.5% change\n",
       "p = 0.66</td><td>147.56438</td></tr>\n",
       "\t<tr><td>PROVEN40 / Uninoculated Control</td><td>R1</td><td>0.9849155</td><td>0.03372248</td><td>215</td><td>1</td><td>-0.4439216</td><td>0.65754574</td><td>255</td><td>131.92841</td><td>-1.5</td><td>-1.5% change\n",
       "p = 0.66</td><td>147.56438</td></tr>\n",
       "\t<tr><td>PROVEN40 / Uninoculated Control</td><td>R6</td><td>1.0035339</td><td>0.03435996</td><td>215</td><td>1</td><td> 0.1030322</td><td>0.91803347</td><td>0  </td><td> 79.68292</td><td> 0.4</td><td>0.4% change\n",
       "p = 0.92 </td><td>277.57401</td></tr>\n",
       "\t<tr><td>PROVEN40 / Uninoculated Control</td><td>R6</td><td>1.0035339</td><td>0.03435996</td><td>215</td><td>1</td><td> 0.1030322</td><td>0.91803347</td><td>95 </td><td>168.11523</td><td> 0.4</td><td>0.4% change\n",
       "p = 0.92 </td><td>277.57401</td></tr>\n",
       "\t<tr><td>PROVEN40 / Uninoculated Control</td><td>R6</td><td>1.0035339</td><td>0.03435996</td><td>215</td><td>1</td><td> 0.1030322</td><td>0.91803347</td><td>135</td><td>195.25470</td><td> 0.4</td><td>0.4% change\n",
       "p = 0.92 </td><td>277.57401</td></tr>\n",
       "\t<tr><td>PROVEN40 / Uninoculated Control</td><td>R6</td><td>1.0035339</td><td>0.03435996</td><td>215</td><td>1</td><td> 0.1030322</td><td>0.91803347</td><td>175</td><td>214.63745</td><td> 0.4</td><td>0.4% change\n",
       "p = 0.92 </td><td>277.57401</td></tr>\n",
       "\t<tr><td>PROVEN40 / Uninoculated Control</td><td>R6</td><td>1.0035339</td><td>0.03435996</td><td>215</td><td>1</td><td> 0.1030322</td><td>0.91803347</td><td>215</td><td>243.68537</td><td> 0.4</td><td>0.4% change\n",
       "p = 0.92 </td><td>277.57401</td></tr>\n",
       "\t<tr><td>PROVEN40 / Uninoculated Control</td><td>R6</td><td>1.0035339</td><td>0.03435996</td><td>215</td><td>1</td><td> 0.1030322</td><td>0.91803347</td><td>255</td><td>247.28828</td><td> 0.4</td><td>0.4% change\n",
       "p = 0.92 </td><td>277.57401</td></tr>\n",
       "</tbody>\n",
       "</table>\n"
      ],
      "text/latex": [
       "A data.frame: 18 × 13\n",
       "\\begin{tabular}{lllllllllllll}\n",
       " contrast & stage & ratio & SE & df & null & t.ratio & p.value & n\\_rate & response & pct\\_change & my\\_label & max\\_value\\\\\n",
       " <fct> & <fct> & <dbl> & <dbl> & <dbl> & <dbl> & <dbl> & <dbl> & <fct> & <dbl> & <dbl> & <chr> & <dbl>\\\\\n",
       "\\hline\n",
       "\t PROVEN40 / Uninoculated Control & V8 & 0.9298950 & 0.03183863 & 215 & 1 & -2.1228334 & 0.03491142 & 0   &  21.28160 & -7.0 & -7\\% change\n",
       "p = 0.035  &  32.51492\\\\\n",
       "\t PROVEN40 / Uninoculated Control & V8 & 0.9298950 & 0.03183863 & 215 & 1 & -2.1228334 & 0.03491142 & 95  &  25.91727 & -7.0 & -7\\% change\n",
       "p = 0.035  &  32.51492\\\\\n",
       "\t PROVEN40 / Uninoculated Control & V8 & 0.9298950 & 0.03183863 & 215 & 1 & -2.1228334 & 0.03491142 & 135 &  28.86489 & -7.0 & -7\\% change\n",
       "p = 0.035  &  32.51492\\\\\n",
       "\t PROVEN40 / Uninoculated Control & V8 & 0.9298950 & 0.03183863 & 215 & 1 & -2.1228334 & 0.03491142 & 175 &  26.77143 & -7.0 & -7\\% change\n",
       "p = 0.035  &  32.51492\\\\\n",
       "\t PROVEN40 / Uninoculated Control & V8 & 0.9298950 & 0.03183863 & 215 & 1 & -2.1228334 & 0.03491142 & 215 &  28.65162 & -7.0 & -7\\% change\n",
       "p = 0.035  &  32.51492\\\\\n",
       "\t PROVEN40 / Uninoculated Control & V8 & 0.9298950 & 0.03183863 & 215 & 1 & -2.1228334 & 0.03491142 & 255 &  28.28892 & -7.0 & -7\\% change\n",
       "p = 0.035  &  32.51492\\\\\n",
       "\t PROVEN40 / Uninoculated Control & R1 & 0.9849155 & 0.03372248 & 215 & 1 & -0.4439216 & 0.65754574 & 0   &  57.28000 & -1.5 & -1.5\\% change\n",
       "p = 0.66 & 147.56438\\\\\n",
       "\t PROVEN40 / Uninoculated Control & R1 & 0.9849155 & 0.03372248 & 215 & 1 & -0.4439216 & 0.65754574 & 95  & 102.23349 & -1.5 & -1.5\\% change\n",
       "p = 0.66 & 147.56438\\\\\n",
       "\t PROVEN40 / Uninoculated Control & R1 & 0.9849155 & 0.03372248 & 215 & 1 & -0.4439216 & 0.65754574 & 135 & 110.91170 & -1.5 & -1.5\\% change\n",
       "p = 0.66 & 147.56438\\\\\n",
       "\t PROVEN40 / Uninoculated Control & R1 & 0.9849155 & 0.03372248 & 215 & 1 & -0.4439216 & 0.65754574 & 175 & 113.40453 & -1.5 & -1.5\\% change\n",
       "p = 0.66 & 147.56438\\\\\n",
       "\t PROVEN40 / Uninoculated Control & R1 & 0.9849155 & 0.03372248 & 215 & 1 & -0.4439216 & 0.65754574 & 215 & 131.38858 & -1.5 & -1.5\\% change\n",
       "p = 0.66 & 147.56438\\\\\n",
       "\t PROVEN40 / Uninoculated Control & R1 & 0.9849155 & 0.03372248 & 215 & 1 & -0.4439216 & 0.65754574 & 255 & 131.92841 & -1.5 & -1.5\\% change\n",
       "p = 0.66 & 147.56438\\\\\n",
       "\t PROVEN40 / Uninoculated Control & R6 & 1.0035339 & 0.03435996 & 215 & 1 &  0.1030322 & 0.91803347 & 0   &  79.68292 &  0.4 & 0.4\\% change\n",
       "p = 0.92  & 277.57401\\\\\n",
       "\t PROVEN40 / Uninoculated Control & R6 & 1.0035339 & 0.03435996 & 215 & 1 &  0.1030322 & 0.91803347 & 95  & 168.11523 &  0.4 & 0.4\\% change\n",
       "p = 0.92  & 277.57401\\\\\n",
       "\t PROVEN40 / Uninoculated Control & R6 & 1.0035339 & 0.03435996 & 215 & 1 &  0.1030322 & 0.91803347 & 135 & 195.25470 &  0.4 & 0.4\\% change\n",
       "p = 0.92  & 277.57401\\\\\n",
       "\t PROVEN40 / Uninoculated Control & R6 & 1.0035339 & 0.03435996 & 215 & 1 &  0.1030322 & 0.91803347 & 175 & 214.63745 &  0.4 & 0.4\\% change\n",
       "p = 0.92  & 277.57401\\\\\n",
       "\t PROVEN40 / Uninoculated Control & R6 & 1.0035339 & 0.03435996 & 215 & 1 &  0.1030322 & 0.91803347 & 215 & 243.68537 &  0.4 & 0.4\\% change\n",
       "p = 0.92  & 277.57401\\\\\n",
       "\t PROVEN40 / Uninoculated Control & R6 & 1.0035339 & 0.03435996 & 215 & 1 &  0.1030322 & 0.91803347 & 255 & 247.28828 &  0.4 & 0.4\\% change\n",
       "p = 0.92  & 277.57401\\\\\n",
       "\\end{tabular}\n"
      ],
      "text/markdown": [
       "\n",
       "A data.frame: 18 × 13\n",
       "\n",
       "| contrast &lt;fct&gt; | stage &lt;fct&gt; | ratio &lt;dbl&gt; | SE &lt;dbl&gt; | df &lt;dbl&gt; | null &lt;dbl&gt; | t.ratio &lt;dbl&gt; | p.value &lt;dbl&gt; | n_rate &lt;fct&gt; | response &lt;dbl&gt; | pct_change &lt;dbl&gt; | my_label &lt;chr&gt; | max_value &lt;dbl&gt; |\n",
       "|---|---|---|---|---|---|---|---|---|---|---|---|---|\n",
       "| PROVEN40 / Uninoculated Control | V8 | 0.9298950 | 0.03183863 | 215 | 1 | -2.1228334 | 0.03491142 | 0   |  21.28160 | -7.0 | -7% change\n",
       "p = 0.035  |  32.51492 |\n",
       "| PROVEN40 / Uninoculated Control | V8 | 0.9298950 | 0.03183863 | 215 | 1 | -2.1228334 | 0.03491142 | 95  |  25.91727 | -7.0 | -7% change\n",
       "p = 0.035  |  32.51492 |\n",
       "| PROVEN40 / Uninoculated Control | V8 | 0.9298950 | 0.03183863 | 215 | 1 | -2.1228334 | 0.03491142 | 135 |  28.86489 | -7.0 | -7% change\n",
       "p = 0.035  |  32.51492 |\n",
       "| PROVEN40 / Uninoculated Control | V8 | 0.9298950 | 0.03183863 | 215 | 1 | -2.1228334 | 0.03491142 | 175 |  26.77143 | -7.0 | -7% change\n",
       "p = 0.035  |  32.51492 |\n",
       "| PROVEN40 / Uninoculated Control | V8 | 0.9298950 | 0.03183863 | 215 | 1 | -2.1228334 | 0.03491142 | 215 |  28.65162 | -7.0 | -7% change\n",
       "p = 0.035  |  32.51492 |\n",
       "| PROVEN40 / Uninoculated Control | V8 | 0.9298950 | 0.03183863 | 215 | 1 | -2.1228334 | 0.03491142 | 255 |  28.28892 | -7.0 | -7% change\n",
       "p = 0.035  |  32.51492 |\n",
       "| PROVEN40 / Uninoculated Control | R1 | 0.9849155 | 0.03372248 | 215 | 1 | -0.4439216 | 0.65754574 | 0   |  57.28000 | -1.5 | -1.5% change\n",
       "p = 0.66 | 147.56438 |\n",
       "| PROVEN40 / Uninoculated Control | R1 | 0.9849155 | 0.03372248 | 215 | 1 | -0.4439216 | 0.65754574 | 95  | 102.23349 | -1.5 | -1.5% change\n",
       "p = 0.66 | 147.56438 |\n",
       "| PROVEN40 / Uninoculated Control | R1 | 0.9849155 | 0.03372248 | 215 | 1 | -0.4439216 | 0.65754574 | 135 | 110.91170 | -1.5 | -1.5% change\n",
       "p = 0.66 | 147.56438 |\n",
       "| PROVEN40 / Uninoculated Control | R1 | 0.9849155 | 0.03372248 | 215 | 1 | -0.4439216 | 0.65754574 | 175 | 113.40453 | -1.5 | -1.5% change\n",
       "p = 0.66 | 147.56438 |\n",
       "| PROVEN40 / Uninoculated Control | R1 | 0.9849155 | 0.03372248 | 215 | 1 | -0.4439216 | 0.65754574 | 215 | 131.38858 | -1.5 | -1.5% change\n",
       "p = 0.66 | 147.56438 |\n",
       "| PROVEN40 / Uninoculated Control | R1 | 0.9849155 | 0.03372248 | 215 | 1 | -0.4439216 | 0.65754574 | 255 | 131.92841 | -1.5 | -1.5% change\n",
       "p = 0.66 | 147.56438 |\n",
       "| PROVEN40 / Uninoculated Control | R6 | 1.0035339 | 0.03435996 | 215 | 1 |  0.1030322 | 0.91803347 | 0   |  79.68292 |  0.4 | 0.4% change\n",
       "p = 0.92  | 277.57401 |\n",
       "| PROVEN40 / Uninoculated Control | R6 | 1.0035339 | 0.03435996 | 215 | 1 |  0.1030322 | 0.91803347 | 95  | 168.11523 |  0.4 | 0.4% change\n",
       "p = 0.92  | 277.57401 |\n",
       "| PROVEN40 / Uninoculated Control | R6 | 1.0035339 | 0.03435996 | 215 | 1 |  0.1030322 | 0.91803347 | 135 | 195.25470 |  0.4 | 0.4% change\n",
       "p = 0.92  | 277.57401 |\n",
       "| PROVEN40 / Uninoculated Control | R6 | 1.0035339 | 0.03435996 | 215 | 1 |  0.1030322 | 0.91803347 | 175 | 214.63745 |  0.4 | 0.4% change\n",
       "p = 0.92  | 277.57401 |\n",
       "| PROVEN40 / Uninoculated Control | R6 | 1.0035339 | 0.03435996 | 215 | 1 |  0.1030322 | 0.91803347 | 215 | 243.68537 |  0.4 | 0.4% change\n",
       "p = 0.92  | 277.57401 |\n",
       "| PROVEN40 / Uninoculated Control | R6 | 1.0035339 | 0.03435996 | 215 | 1 |  0.1030322 | 0.91803347 | 255 | 247.28828 |  0.4 | 0.4% change\n",
       "p = 0.92  | 277.57401 |\n",
       "\n"
      ],
      "text/plain": [
       "   contrast                        stage ratio     SE         df  null\n",
       "1  PROVEN40 / Uninoculated Control V8    0.9298950 0.03183863 215 1   \n",
       "2  PROVEN40 / Uninoculated Control V8    0.9298950 0.03183863 215 1   \n",
       "3  PROVEN40 / Uninoculated Control V8    0.9298950 0.03183863 215 1   \n",
       "4  PROVEN40 / Uninoculated Control V8    0.9298950 0.03183863 215 1   \n",
       "5  PROVEN40 / Uninoculated Control V8    0.9298950 0.03183863 215 1   \n",
       "6  PROVEN40 / Uninoculated Control V8    0.9298950 0.03183863 215 1   \n",
       "7  PROVEN40 / Uninoculated Control R1    0.9849155 0.03372248 215 1   \n",
       "8  PROVEN40 / Uninoculated Control R1    0.9849155 0.03372248 215 1   \n",
       "9  PROVEN40 / Uninoculated Control R1    0.9849155 0.03372248 215 1   \n",
       "10 PROVEN40 / Uninoculated Control R1    0.9849155 0.03372248 215 1   \n",
       "11 PROVEN40 / Uninoculated Control R1    0.9849155 0.03372248 215 1   \n",
       "12 PROVEN40 / Uninoculated Control R1    0.9849155 0.03372248 215 1   \n",
       "13 PROVEN40 / Uninoculated Control R6    1.0035339 0.03435996 215 1   \n",
       "14 PROVEN40 / Uninoculated Control R6    1.0035339 0.03435996 215 1   \n",
       "15 PROVEN40 / Uninoculated Control R6    1.0035339 0.03435996 215 1   \n",
       "16 PROVEN40 / Uninoculated Control R6    1.0035339 0.03435996 215 1   \n",
       "17 PROVEN40 / Uninoculated Control R6    1.0035339 0.03435996 215 1   \n",
       "18 PROVEN40 / Uninoculated Control R6    1.0035339 0.03435996 215 1   \n",
       "   t.ratio    p.value    n_rate response  pct_change my_label              \n",
       "1  -2.1228334 0.03491142 0       21.28160 -7.0       -7% change\\np = 0.035 \n",
       "2  -2.1228334 0.03491142 95      25.91727 -7.0       -7% change\\np = 0.035 \n",
       "3  -2.1228334 0.03491142 135     28.86489 -7.0       -7% change\\np = 0.035 \n",
       "4  -2.1228334 0.03491142 175     26.77143 -7.0       -7% change\\np = 0.035 \n",
       "5  -2.1228334 0.03491142 215     28.65162 -7.0       -7% change\\np = 0.035 \n",
       "6  -2.1228334 0.03491142 255     28.28892 -7.0       -7% change\\np = 0.035 \n",
       "7  -0.4439216 0.65754574 0       57.28000 -1.5       -1.5% change\\np = 0.66\n",
       "8  -0.4439216 0.65754574 95     102.23349 -1.5       -1.5% change\\np = 0.66\n",
       "9  -0.4439216 0.65754574 135    110.91170 -1.5       -1.5% change\\np = 0.66\n",
       "10 -0.4439216 0.65754574 175    113.40453 -1.5       -1.5% change\\np = 0.66\n",
       "11 -0.4439216 0.65754574 215    131.38858 -1.5       -1.5% change\\np = 0.66\n",
       "12 -0.4439216 0.65754574 255    131.92841 -1.5       -1.5% change\\np = 0.66\n",
       "13  0.1030322 0.91803347 0       79.68292  0.4       0.4% change\\np = 0.92 \n",
       "14  0.1030322 0.91803347 95     168.11523  0.4       0.4% change\\np = 0.92 \n",
       "15  0.1030322 0.91803347 135    195.25470  0.4       0.4% change\\np = 0.92 \n",
       "16  0.1030322 0.91803347 175    214.63745  0.4       0.4% change\\np = 0.92 \n",
       "17  0.1030322 0.91803347 215    243.68537  0.4       0.4% change\\np = 0.92 \n",
       "18  0.1030322 0.91803347 255    247.28828  0.4       0.4% change\\np = 0.92 \n",
       "   max_value\n",
       "1   32.51492\n",
       "2   32.51492\n",
       "3   32.51492\n",
       "4   32.51492\n",
       "5   32.51492\n",
       "6   32.51492\n",
       "7  147.56438\n",
       "8  147.56438\n",
       "9  147.56438\n",
       "10 147.56438\n",
       "11 147.56438\n",
       "12 147.56438\n",
       "13 277.57401\n",
       "14 277.57401\n",
       "15 277.57401\n",
       "16 277.57401\n",
       "17 277.57401\n",
       "18 277.57401"
      ]
     },
     "metadata": {},
     "output_type": "display_data"
    }
   ],
   "source": [
    "up22_n_mod_trt_contrast <- emmeans(up22_n_mod, ~ microbe, by = c(\"stage\"), type = \"response\") %>% \n",
    "pairs(reverse = TRUE,  adjust = \"Tukey\") %>% \n",
    "data.frame()\n",
    "\n",
    "up22_n_mod_trt_contrast <- \n",
    "up22_n_mod_trt_contrast %>%\n",
    "left_join(as.data.frame(up22_n_mod_means) %>% filter(microbe == \"Uninoculated Control\") %>% dplyr::select(stage,n_rate,response))  %>% \n",
    "mutate(pct_change = round(ratio - 1,3)*100,\n",
    "my_label = \n",
    "paste0(\n",
    "    pct_change,\"% change\\n\",\n",
    "    \"p = \",signif(p.value,2)\n",
    "    )\n",
    ") %>% \n",
    "left_join(up22_n_mod_means %>% \n",
    "as.data.frame() %>%  \n",
    "group_by(stage) %>% \n",
    "summarize(max_value = max(upper.CL, na.rm = T)))\n",
    "\n",
    "up22_n_mod_trt_contrast\n",
    " "
   ]
  },
  {
   "cell_type": "code",
   "execution_count": 28,
   "metadata": {
    "vscode": {
     "languageId": "r"
    }
   },
   "outputs": [
    {
     "name": "stderr",
     "output_type": "stream",
     "text": [
      "Warning message in geom_errorbar(aes(ymax = upper.CL, ymin = lower.CL, fill = microbe), :\n",
      "\"\u001b[1m\u001b[22mIgnoring unknown aesthetics: \u001b[32mfill\u001b[39m\"\n"
     ]
    },
    {
     "data": {
      "image/png": "[encoded data removed]",
      "text/plain": [
       "plot without title"
      ]
     },
     "metadata": {
      "image/png": {
       "height": 300,
       "width": 600
      }
     },
     "output_type": "display_data"
    }
   ],
   "source": [
    "\n",
    "options(repr.plot.width=10, repr.plot.height=5)\n",
    "\n",
    "\n",
    "up22_n_plot <-\n",
    "as.data.frame(up22_n_mod_means) %>%  \n",
    "ggplot(aes(factor(round(as.numeric(as.character(n_rate))/1.12 + 9,0)),response)) + \n",
    "geom_point(aes(colour = microbe, fill = microbe, shape = microbe), position = position_dodge(width = 0.4), size = 4, colour = \"gray10\") +\n",
    "geom_errorbar(aes(ymax = upper.CL, ymin = lower.CL,  fill = microbe), width = 0, position = position_dodge(width = 0.4), lwd = 1) + \n",
    "labs(y = expression(\"Shoot biomass N (Kg N\"~ha^-1*\")\"), x = \"Year\", colour = \"\", fill = \"Treatment\", shape = \"Treatment\") + \n",
    "scale_fill_manual(values = myColorPalette) +\n",
    "scale_shape_manual( values = 21:22) + \n",
    "geom_text(aes(y = (max_value) + 1.5, label = my_label), data = up22_n_mod_trt_contrast %>% filter(n_rate == 0), colour = \"gray10\", vjust = 1, hjust = 0, size = 4.5) + \n",
    "facet_wrap(~stage, scales = \"free_y\") + \n",
    "theme(legend.position = \"top\")\n",
    "\n",
    "up22_n_plot\n"
   ]
  },
  {
   "cell_type": "code",
   "execution_count": null,
   "metadata": {
    "vscode": {
     "languageId": "r"
    }
   },
   "outputs": [],
   "source": []
  },
  {
   "cell_type": "code",
   "execution_count": 29,
   "metadata": {
    "vscode": {
     "languageId": "r"
    }
   },
   "outputs": [],
   "source": [
    "up_n_mod_full <- lmer(log(value) ~ microbe*n_rate*stage*year +  (1|year:rep:n_rate), data = up_n)"
   ]
  },
  {
   "cell_type": "code",
   "execution_count": 30,
   "metadata": {
    "vscode": {
     "languageId": "r"
    }
   },
   "outputs": [
    {
     "data": {
      "image/png": "[encoded data removed]",
      "text/plain": [
       "plot without title"
      ]
     },
     "metadata": {
      "image/png": {
       "height": 300,
       "width": 600
      }
     },
     "output_type": "display_data"
    },
    {
     "name": "stdout",
     "output_type": "stream",
     "text": [
      "NULL\n"
     ]
    },
    {
     "data": {
      "text/plain": [
       "\n",
       "\tShapiro-Wilk normality test\n",
       "\n",
       "data:  residuals(mod)\n",
       "W = 0.98718, p-value = 7.396e-05\n"
      ]
     },
     "metadata": {},
     "output_type": "display_data"
    },
    {
     "data": {
      "image/png": "[encoded data removed]",
      "text/plain": [
       "Plot with title \"density.default(x = resid(mod))\""
      ]
     },
     "metadata": {
      "image/png": {
       "height": 300,
       "width": 600
      }
     },
     "output_type": "display_data"
    }
   ],
   "source": [
    "check_assumptions(up_n_mod_full)"
   ]
  },
  {
   "cell_type": "code",
   "execution_count": 31,
   "metadata": {
    "vscode": {
     "languageId": "r"
    }
   },
   "outputs": [
    {
     "data": {
      "text/html": [
       "<table class=\"dataframe\">\n",
       "<caption>A anova: 15 × 6</caption>\n",
       "<thead>\n",
       "\t<tr><th></th><th scope=col>Sum Sq</th><th scope=col>Mean Sq</th><th scope=col>NumDF</th><th scope=col>DenDF</th><th scope=col>F value</th><th scope=col>Pr(&gt;F)</th></tr>\n",
       "\t<tr><th></th><th scope=col>&lt;dbl&gt;</th><th scope=col>&lt;dbl&gt;</th><th scope=col>&lt;int&gt;</th><th scope=col>&lt;dbl&gt;</th><th scope=col>&lt;dbl&gt;</th><th scope=col>&lt;dbl&gt;</th></tr>\n",
       "</thead>\n",
       "<tbody>\n",
       "\t<tr><th scope=row>microbe</th><td>  0.05803398</td><td>5.803398e-02</td><td> 1</td><td>410</td><td>   2.3099810</td><td> 1.293164e-01</td></tr>\n",
       "\t<tr><th scope=row>n_rate</th><td> 12.49407133</td><td>2.498814e+00</td><td> 5</td><td> 82</td><td>  99.4626529</td><td> 2.541735e-33</td></tr>\n",
       "\t<tr><th scope=row>stage</th><td>333.14280810</td><td>1.665714e+02</td><td> 2</td><td>410</td><td>6630.1981562</td><td>6.103292e-313</td></tr>\n",
       "\t<tr><th scope=row>year</th><td>  8.89191138</td><td>8.891911e+00</td><td> 1</td><td> 82</td><td> 353.9331062</td><td> 1.729508e-31</td></tr>\n",
       "\t<tr><th scope=row>microbe:n_rate</th><td>  0.03771721</td><td>7.543441e-03</td><td> 5</td><td>410</td><td>   0.3002587</td><td> 9.126049e-01</td></tr>\n",
       "\t<tr><th scope=row>microbe:stage</th><td>  0.05332656</td><td>2.666328e-02</td><td> 2</td><td>410</td><td>   1.0613036</td><td> 3.469531e-01</td></tr>\n",
       "\t<tr><th scope=row>n_rate:stage</th><td>  7.58850841</td><td>7.588508e-01</td><td>10</td><td>410</td><td>  30.2052533</td><td> 1.842306e-43</td></tr>\n",
       "\t<tr><th scope=row>microbe:year</th><td>  0.34497180</td><td>3.449718e-01</td><td> 1</td><td>410</td><td>  13.7312366</td><td> 2.398518e-04</td></tr>\n",
       "\t<tr><th scope=row>n_rate:year</th><td>  0.11964563</td><td>2.392913e-02</td><td> 5</td><td> 82</td><td>   0.9524735</td><td> 4.519133e-01</td></tr>\n",
       "\t<tr><th scope=row>stage:year</th><td>  5.88167943</td><td>2.940840e+00</td><td> 2</td><td>410</td><td> 117.0570072</td><td> 6.071936e-41</td></tr>\n",
       "\t<tr><th scope=row>microbe:n_rate:stage</th><td>  0.14055061</td><td>1.405506e-02</td><td>10</td><td>410</td><td>   0.5594468</td><td> 8.468448e-01</td></tr>\n",
       "\t<tr><th scope=row>microbe:n_rate:year</th><td>  0.11122488</td><td>2.224498e-02</td><td> 5</td><td>410</td><td>   0.8854377</td><td> 4.907217e-01</td></tr>\n",
       "\t<tr><th scope=row>microbe:stage:year</th><td>  0.39680233</td><td>1.984012e-01</td><td> 2</td><td>410</td><td>   7.8971481</td><td> 4.312444e-04</td></tr>\n",
       "\t<tr><th scope=row>n_rate:stage:year</th><td>  0.17751201</td><td>1.775120e-02</td><td>10</td><td>410</td><td>   0.7065677</td><td> 7.184818e-01</td></tr>\n",
       "\t<tr><th scope=row>microbe:n_rate:stage:year</th><td>  0.10590690</td><td>1.059069e-02</td><td>10</td><td>410</td><td>   0.4215512</td><td> 9.361351e-01</td></tr>\n",
       "</tbody>\n",
       "</table>\n"
      ],
      "text/latex": [
       "A anova: 15 × 6\n",
       "\\begin{tabular}{r|llllll}\n",
       "  & Sum Sq & Mean Sq & NumDF & DenDF & F value & Pr(>F)\\\\\n",
       "  & <dbl> & <dbl> & <int> & <dbl> & <dbl> & <dbl>\\\\\n",
       "\\hline\n",
       "\tmicrobe &   0.05803398 & 5.803398e-02 &  1 & 410 &    2.3099810 &  1.293164e-01\\\\\n",
       "\tn\\_rate &  12.49407133 & 2.498814e+00 &  5 &  82 &   99.4626529 &  2.541735e-33\\\\\n",
       "\tstage & 333.14280810 & 1.665714e+02 &  2 & 410 & 6630.1981562 & 6.103292e-313\\\\\n",
       "\tyear &   8.89191138 & 8.891911e+00 &  1 &  82 &  353.9331062 &  1.729508e-31\\\\\n",
       "\tmicrobe:n\\_rate &   0.03771721 & 7.543441e-03 &  5 & 410 &    0.3002587 &  9.126049e-01\\\\\n",
       "\tmicrobe:stage &   0.05332656 & 2.666328e-02 &  2 & 410 &    1.0613036 &  3.469531e-01\\\\\n",
       "\tn\\_rate:stage &   7.58850841 & 7.588508e-01 & 10 & 410 &   30.2052533 &  1.842306e-43\\\\\n",
       "\tmicrobe:year &   0.34497180 & 3.449718e-01 &  1 & 410 &   13.7312366 &  2.398518e-04\\\\\n",
       "\tn\\_rate:year &   0.11964563 & 2.392913e-02 &  5 &  82 &    0.9524735 &  4.519133e-01\\\\\n",
       "\tstage:year &   5.88167943 & 2.940840e+00 &  2 & 410 &  117.0570072 &  6.071936e-41\\\\\n",
       "\tmicrobe:n\\_rate:stage &   0.14055061 & 1.405506e-02 & 10 & 410 &    0.5594468 &  8.468448e-01\\\\\n",
       "\tmicrobe:n\\_rate:year &   0.11122488 & 2.224498e-02 &  5 & 410 &    0.8854377 &  4.907217e-01\\\\\n",
       "\tmicrobe:stage:year &   0.39680233 & 1.984012e-01 &  2 & 410 &    7.8971481 &  4.312444e-04\\\\\n",
       "\tn\\_rate:stage:year &   0.17751201 & 1.775120e-02 & 10 & 410 &    0.7065677 &  7.184818e-01\\\\\n",
       "\tmicrobe:n\\_rate:stage:year &   0.10590690 & 1.059069e-02 & 10 & 410 &    0.4215512 &  9.361351e-01\\\\\n",
       "\\end{tabular}\n"
      ],
      "text/markdown": [
       "\n",
       "A anova: 15 × 6\n",
       "\n",
       "| <!--/--> | Sum Sq &lt;dbl&gt; | Mean Sq &lt;dbl&gt; | NumDF &lt;int&gt; | DenDF &lt;dbl&gt; | F value &lt;dbl&gt; | Pr(&gt;F) &lt;dbl&gt; |\n",
       "|---|---|---|---|---|---|---|\n",
       "| microbe |   0.05803398 | 5.803398e-02 |  1 | 410 |    2.3099810 |  1.293164e-01 |\n",
       "| n_rate |  12.49407133 | 2.498814e+00 |  5 |  82 |   99.4626529 |  2.541735e-33 |\n",
       "| stage | 333.14280810 | 1.665714e+02 |  2 | 410 | 6630.1981562 | 6.103292e-313 |\n",
       "| year |   8.89191138 | 8.891911e+00 |  1 |  82 |  353.9331062 |  1.729508e-31 |\n",
       "| microbe:n_rate |   0.03771721 | 7.543441e-03 |  5 | 410 |    0.3002587 |  9.126049e-01 |\n",
       "| microbe:stage |   0.05332656 | 2.666328e-02 |  2 | 410 |    1.0613036 |  3.469531e-01 |\n",
       "| n_rate:stage |   7.58850841 | 7.588508e-01 | 10 | 410 |   30.2052533 |  1.842306e-43 |\n",
       "| microbe:year |   0.34497180 | 3.449718e-01 |  1 | 410 |   13.7312366 |  2.398518e-04 |\n",
       "| n_rate:year |   0.11964563 | 2.392913e-02 |  5 |  82 |    0.9524735 |  4.519133e-01 |\n",
       "| stage:year |   5.88167943 | 2.940840e+00 |  2 | 410 |  117.0570072 |  6.071936e-41 |\n",
       "| microbe:n_rate:stage |   0.14055061 | 1.405506e-02 | 10 | 410 |    0.5594468 |  8.468448e-01 |\n",
       "| microbe:n_rate:year |   0.11122488 | 2.224498e-02 |  5 | 410 |    0.8854377 |  4.907217e-01 |\n",
       "| microbe:stage:year |   0.39680233 | 1.984012e-01 |  2 | 410 |    7.8971481 |  4.312444e-04 |\n",
       "| n_rate:stage:year |   0.17751201 | 1.775120e-02 | 10 | 410 |    0.7065677 |  7.184818e-01 |\n",
       "| microbe:n_rate:stage:year |   0.10590690 | 1.059069e-02 | 10 | 410 |    0.4215512 |  9.361351e-01 |\n",
       "\n"
      ],
      "text/plain": [
       "                          Sum Sq       Mean Sq      NumDF DenDF F value     \n",
       "microbe                     0.05803398 5.803398e-02  1    410      2.3099810\n",
       "n_rate                     12.49407133 2.498814e+00  5     82     99.4626529\n",
       "stage                     333.14280810 1.665714e+02  2    410   6630.1981562\n",
       "year                        8.89191138 8.891911e+00  1     82    353.9331062\n",
       "microbe:n_rate              0.03771721 7.543441e-03  5    410      0.3002587\n",
       "microbe:stage               0.05332656 2.666328e-02  2    410      1.0613036\n",
       "n_rate:stage                7.58850841 7.588508e-01 10    410     30.2052533\n",
       "microbe:year                0.34497180 3.449718e-01  1    410     13.7312366\n",
       "n_rate:year                 0.11964563 2.392913e-02  5     82      0.9524735\n",
       "stage:year                  5.88167943 2.940840e+00  2    410    117.0570072\n",
       "microbe:n_rate:stage        0.14055061 1.405506e-02 10    410      0.5594468\n",
       "microbe:n_rate:year         0.11122488 2.224498e-02  5    410      0.8854377\n",
       "microbe:stage:year          0.39680233 1.984012e-01  2    410      7.8971481\n",
       "n_rate:stage:year           0.17751201 1.775120e-02 10    410      0.7065677\n",
       "microbe:n_rate:stage:year   0.10590690 1.059069e-02 10    410      0.4215512\n",
       "                          Pr(>F)       \n",
       "microbe                    1.293164e-01\n",
       "n_rate                     2.541735e-33\n",
       "stage                     6.103292e-313\n",
       "year                       1.729508e-31\n",
       "microbe:n_rate             9.126049e-01\n",
       "microbe:stage              3.469531e-01\n",
       "n_rate:stage               1.842306e-43\n",
       "microbe:year               2.398518e-04\n",
       "n_rate:year                4.519133e-01\n",
       "stage:year                 6.071936e-41\n",
       "microbe:n_rate:stage       8.468448e-01\n",
       "microbe:n_rate:year        4.907217e-01\n",
       "microbe:stage:year         4.312444e-04\n",
       "n_rate:stage:year          7.184818e-01\n",
       "microbe:n_rate:stage:year  9.361351e-01"
      ]
     },
     "metadata": {},
     "output_type": "display_data"
    }
   ],
   "source": [
    "anova(up_n_mod_full)"
   ]
  },
  {
   "cell_type": "code",
   "execution_count": 32,
   "metadata": {
    "vscode": {
     "languageId": "r"
    }
   },
   "outputs": [],
   "source": [
    "up_n_mod_red1 <- lmer(log(value) ~ microbe*stage*year + n_rate*stage*year +  (1|year:rep:n_rate), data = up_n)"
   ]
  },
  {
   "cell_type": "code",
   "execution_count": 33,
   "metadata": {
    "vscode": {
     "languageId": "r"
    }
   },
   "outputs": [
    {
     "name": "stderr",
     "output_type": "stream",
     "text": [
      "\n",
      "Correlation matrix not shown by default, as p = 42 > 12.\n",
      "Use print(obj, correlation=TRUE)  or\n",
      "    vcov(obj)        if you need it\n",
      "\n",
      "\n"
     ]
    },
    {
     "data": {
      "text/plain": [
       "Linear mixed model fit by REML. t-tests use Satterthwaite's method [\n",
       "lmerModLmerTest]\n",
       "Formula: log(value) ~ microbe * stage * year + n_rate * stage * year +  \n",
       "    (1 | year:rep:n_rate)\n",
       "   Data: up_n\n",
       "\n",
       "REML criterion at convergence: -264.5\n",
       "\n",
       "Scaled residuals: \n",
       "    Min      1Q  Median      3Q     Max \n",
       "-3.8198 -0.5231  0.0426  0.5558  2.8652 \n",
       "\n",
       "Random effects:\n",
       " Groups          Name        Variance Std.Dev.\n",
       " year:rep:n_rate (Intercept) 0.006218 0.07885 \n",
       " Residual                    0.024316 0.15594 \n",
       "Number of obs: 564, groups:  year:rep:n_rate, 94\n",
       "\n",
       "Fixed effects:\n",
       "                                   Estimate Std. Error         df t value\n",
       "(Intercept)                        3.514243   0.050501 273.903363  69.588\n",
       "microbePROVEN40                    0.170088   0.031831 440.000000   5.344\n",
       "stageR1                            1.141443   0.059550 439.999999  19.168\n",
       "stageR6                            1.061130   0.059550 439.999999  17.819\n",
       "year2022                          -0.456400   0.073755 272.157379  -6.188\n",
       "n_rate95                           0.132243   0.067780 235.195778   1.951\n",
       "n_rate135                          0.080931   0.067780 235.195778   1.194\n",
       "n_rate175                          0.161822   0.067780 235.195778   2.387\n",
       "n_rate215                          0.183220   0.067780 235.195778   2.703\n",
       "n_rate255                          0.183721   0.067780 235.195778   2.711\n",
       "microbePROVEN40:stageR1           -0.131294   0.045015 440.000000  -2.917\n",
       "microbePROVEN40:stageR6           -0.169457   0.045015 440.000000  -3.764\n",
       "microbePROVEN40:year2022          -0.242771   0.045502 440.000000  -5.335\n",
       "stageR1:year2022                  -0.151334   0.086882 440.000000  -1.742\n",
       "stageR6:year2022                   0.259083   0.086882 440.000000   2.982\n",
       "stageR1:n_rate95                   0.426340   0.077969 440.000000   5.468\n",
       "stageR6:n_rate95                   0.565979   0.077969 440.000000   7.259\n",
       "stageR1:n_rate135                  0.555547   0.077969 440.000000   7.125\n",
       "stageR6:n_rate135                  0.734122   0.077969 439.999999   9.416\n",
       "stageR1:n_rate175                  0.534155   0.077969 440.000000   6.851\n",
       "stageR6:n_rate175                  0.719684   0.077969 440.000000   9.230\n",
       "stageR1:n_rate215                  0.531564   0.077969 440.000000   6.818\n",
       "stageR6:n_rate215                  0.806375   0.077969 440.000000  10.342\n",
       "stageR1:n_rate255                  0.516346   0.077969 439.999999   6.622\n",
       "stageR6:n_rate255                  0.807038   0.077969 439.999999  10.351\n",
       "year2022:n_rate95                  0.064823   0.097551 235.195777   0.665\n",
       "year2022:n_rate135                 0.223852   0.099219 235.195777   2.256\n",
       "year2022:n_rate175                 0.067670   0.097551 235.195777   0.694\n",
       "year2022:n_rate215                 0.114147   0.097551 235.195777   1.170\n",
       "year2022:n_rate255                 0.100906   0.097551 235.195777   1.034\n",
       "microbePROVEN40:stageR1:year2022   0.188778   0.064349 440.000000   2.934\n",
       "microbePROVEN40:stageR6:year2022   0.245669   0.064349 440.000000   3.818\n",
       "stageR1:year2022:n_rate95         -0.044099   0.112216 440.000000  -0.393\n",
       "stageR6:year2022:n_rate95         -0.016452   0.112216 440.000000  -0.147\n",
       "stageR1:year2022:n_rate135        -0.199548   0.114134 440.000000  -1.748\n",
       "stageR6:year2022:n_rate135        -0.142655   0.114134 440.000000  -1.250\n",
       "stageR1:year2022:n_rate175        -0.080637   0.112216 440.000000  -0.719\n",
       "stageR6:year2022:n_rate175         0.041719   0.112216 440.000000   0.372\n",
       "stageR1:year2022:n_rate215         0.001277   0.112216 440.000000   0.011\n",
       "stageR6:year2022:n_rate215         0.014081   0.112216 440.000000   0.125\n",
       "stageR1:year2022:n_rate255         0.033335   0.112216 440.000000   0.297\n",
       "stageR6:year2022:n_rate255         0.040835   0.112216 440.000000   0.364\n",
       "                                 Pr(>|t|)    \n",
       "(Intercept)                       < 2e-16 ***\n",
       "microbePROVEN40                  1.47e-07 ***\n",
       "stageR1                           < 2e-16 ***\n",
       "stageR6                           < 2e-16 ***\n",
       "year2022                         2.23e-09 ***\n",
       "n_rate95                         0.052235 .  \n",
       "n_rate135                        0.233669    \n",
       "n_rate175                        0.017755 *  \n",
       "n_rate215                        0.007369 ** \n",
       "n_rate255                        0.007212 ** \n",
       "microbePROVEN40:stageR1          0.003719 ** \n",
       "microbePROVEN40:stageR6          0.000190 ***\n",
       "microbePROVEN40:year2022         1.53e-07 ***\n",
       "stageR1:year2022                 0.082238 .  \n",
       "stageR6:year2022                 0.003023 ** \n",
       "stageR1:n_rate95                 7.64e-08 ***\n",
       "stageR6:n_rate95                 1.78e-12 ***\n",
       "stageR1:n_rate135                4.28e-12 ***\n",
       "stageR6:n_rate135                 < 2e-16 ***\n",
       "stageR1:n_rate175                2.48e-11 ***\n",
       "stageR6:n_rate175                 < 2e-16 ***\n",
       "stageR1:n_rate215                3.06e-11 ***\n",
       "stageR6:n_rate215                 < 2e-16 ***\n",
       "stageR1:n_rate255                1.03e-10 ***\n",
       "stageR6:n_rate255                 < 2e-16 ***\n",
       "year2022:n_rate95                0.507020    \n",
       "year2022:n_rate135               0.024981 *  \n",
       "year2022:n_rate175               0.488562    \n",
       "year2022:n_rate215               0.243138    \n",
       "year2022:n_rate255               0.302018    \n",
       "microbePROVEN40:stageR1:year2022 0.003525 ** \n",
       "microbePROVEN40:stageR6:year2022 0.000154 ***\n",
       "stageR1:year2022:n_rate95        0.694525    \n",
       "stageR6:year2022:n_rate95        0.883510    \n",
       "stageR1:year2022:n_rate135       0.081100 .  \n",
       "stageR6:year2022:n_rate135       0.212004    \n",
       "stageR1:year2022:n_rate175       0.472774    \n",
       "stageR6:year2022:n_rate175       0.710240    \n",
       "stageR1:year2022:n_rate215       0.990926    \n",
       "stageR6:year2022:n_rate215       0.900200    \n",
       "stageR1:year2022:n_rate255       0.766561    \n",
       "stageR6:year2022:n_rate255       0.716113    \n",
       "---\n",
       "Signif. codes:  0 '***' 0.001 '**' 0.01 '*' 0.05 '.' 0.1 ' ' 1"
      ]
     },
     "metadata": {},
     "output_type": "display_data"
    }
   ],
   "source": [
    "summary(up_n_mod_red1)"
   ]
  },
  {
   "cell_type": "code",
   "execution_count": 34,
   "metadata": {
    "vscode": {
     "languageId": "r"
    }
   },
   "outputs": [],
   "source": [
    "up_n_mod <- up_n_mod_red1"
   ]
  },
  {
   "cell_type": "code",
   "execution_count": 35,
   "metadata": {
    "vscode": {
     "languageId": "r"
    }
   },
   "outputs": [
    {
     "data": {
      "text/plain": [
       " stage microbe              year n_rate response    SE  df lower.CL upper.CL\n",
       " V8    Uninoculated Control 2021 0          33.6  1.70 274     30.4     37.1\n",
       " R1    Uninoculated Control 2021 0         105.2  5.31 274     95.2    116.2\n",
       " R6    Uninoculated Control 2021 0          97.1  4.90 274     87.9    107.2\n",
       " V8    PROVEN40             2021 0          39.8  2.01 274     36.1     44.0\n",
       " R1    PROVEN40             2021 0         109.3  5.52 274     99.0    120.8\n",
       " R6    PROVEN40             2021 0          97.1  4.90 274     87.9    107.3\n",
       " V8    Uninoculated Control 2022 0          21.3  1.14 271     19.1     23.7\n",
       " R1    Uninoculated Control 2022 0          57.3  3.08 271     51.5     63.7\n",
       " R6    Uninoculated Control 2022 0          79.7  4.28 271     71.7     88.6\n",
       " V8    PROVEN40             2022 0          19.8  1.06 271     17.8     22.0\n",
       " R1    PROVEN40             2022 0          56.4  3.03 271     50.8     62.7\n",
       " R6    PROVEN40             2022 0          80.0  4.30 271     71.9     88.9\n",
       " V8    Uninoculated Control 2021 95         38.3  1.94 274     34.7     42.3\n",
       " R1    Uninoculated Control 2021 95        183.9  9.29 274    166.5    203.1\n",
       " R6    Uninoculated Control 2021 95        195.1  9.85 274    176.7    215.5\n",
       " V8    PROVEN40             2021 95         45.4  2.30 274     41.1     50.2\n",
       " R1    PROVEN40             2021 95        191.2  9.65 274    173.1    211.1\n",
       " R6    PROVEN40             2021 95        195.2  9.86 274    176.8    215.6\n",
       " V8    Uninoculated Control 2022 95         25.9  1.31 276     23.5     28.6\n",
       " R1    Uninoculated Control 2022 95        102.2  5.17 276     92.5    112.9\n",
       " R6    Uninoculated Control 2022 95        168.1  8.51 276    152.2    185.7\n",
       " V8    PROVEN40             2022 95         24.1  1.22 276     21.8     26.6\n",
       " R1    PROVEN40             2022 95        100.7  5.10 276     91.1    111.2\n",
       " R6    PROVEN40             2022 95        168.7  8.54 276    152.7    186.4\n",
       " V8    Uninoculated Control 2021 135        36.4  1.84 274     33.0     40.2\n",
       " R1    Uninoculated Control 2021 135       198.8 10.04 274    180.0    219.6\n",
       " R6    Uninoculated Control 2021 135       219.3 11.07 274    198.5    242.2\n",
       " V8    PROVEN40             2021 135        43.2  2.18 274     39.1     47.7\n",
       " R1    PROVEN40             2021 135       206.6 10.44 274    187.1    228.2\n",
       " R6    PROVEN40             2021 135       219.4 11.08 274    198.7    242.4\n",
       " V8    Uninoculated Control 2022 135        28.9  1.55 271     26.0     32.1\n",
       " R1    Uninoculated Control 2022 135       110.9  5.96 271     99.8    123.3\n",
       " R6    Uninoculated Control 2022 135       195.3 10.50 271    175.6    217.1\n",
       " V8    PROVEN40             2022 135        26.8  1.44 271     24.1     29.8\n",
       " R1    PROVEN40             2022 135       109.2  5.87 271     98.3    121.4\n",
       " R6    PROVEN40             2022 135       195.9 10.53 271    176.3    217.8\n",
       " V8    Uninoculated Control 2021 175        39.5  1.99 274     35.8     43.6\n",
       " R1    Uninoculated Control 2021 175       211.0 10.65 274    191.0    233.0\n",
       " R6    Uninoculated Control 2021 175       234.4 11.84 274    212.2    258.9\n",
       " V8    PROVEN40             2021 175        46.8  2.36 274     42.4     51.7\n",
       " R1    PROVEN40             2021 175       219.3 11.07 274    198.5    242.2\n",
       " R6    PROVEN40             2021 175       234.5 11.84 274    212.3    259.0\n",
       " V8    Uninoculated Control 2022 175        26.8  1.35 276     24.2     29.6\n",
       " R1    Uninoculated Control 2022 175       113.4  5.74 276    102.7    125.3\n",
       " R6    Uninoculated Control 2022 175       214.6 10.86 276    194.3    237.1\n",
       " V8    PROVEN40             2022 175        24.9  1.26 276     22.5     27.5\n",
       " R1    PROVEN40             2022 175       111.7  5.65 276    101.1    123.4\n",
       " R6    PROVEN40             2022 175       215.4 10.90 276    195.0    238.0\n",
       " V8    Uninoculated Control 2021 215        40.3  2.04 274     36.5     44.6\n",
       " R1    Uninoculated Control 2021 215       215.0 10.86 274    194.6    237.4\n",
       " R6    Uninoculated Control 2021 215       261.1 13.19 274    236.4    288.4\n",
       " V8    PROVEN40             2021 215        47.8  2.42 274     43.3     52.8\n",
       " R1    PROVEN40             2021 215       223.5 11.29 274    202.3    246.8\n",
       " R6    PROVEN40             2021 215       261.3 13.19 274    236.6    288.6\n",
       " V8    Uninoculated Control 2022 215        28.7  1.45 276     25.9     31.7\n",
       " R1    Uninoculated Control 2022 215       131.4  6.65 276    118.9    145.2\n",
       " R6    Uninoculated Control 2022 215       243.7 12.33 276    220.6    269.2\n",
       " V8    PROVEN40             2022 215        26.6  1.35 276     24.1     29.4\n",
       " R1    PROVEN40             2022 215       129.4  6.55 276    117.1    143.0\n",
       " R6    PROVEN40             2022 215       244.5 12.38 276    221.4    270.2\n",
       " V8    Uninoculated Control 2021 255        40.4  2.04 274     36.5     44.6\n",
       " R1    Uninoculated Control 2021 255       211.8 10.70 274    191.8    234.0\n",
       " R6    Uninoculated Control 2021 255       261.4 13.20 274    236.7    288.7\n",
       " V8    PROVEN40             2021 255        47.8  2.42 274     43.3     52.9\n",
       " R1    PROVEN40             2021 255       220.2 11.12 274    199.4    243.2\n",
       " R6    PROVEN40             2021 255       261.6 13.21 274    236.8    288.9\n",
       " V8    Uninoculated Control 2022 255        28.3  1.43 276     25.6     31.3\n",
       " R1    Uninoculated Control 2022 255       131.9  6.68 276    119.4    145.7\n",
       " R6    Uninoculated Control 2022 255       247.3 12.52 276    223.8    273.2\n",
       " V8    PROVEN40             2022 255        26.3  1.33 276     23.8     29.1\n",
       " R1    PROVEN40             2022 255       129.9  6.58 276    117.6    143.6\n",
       " R6    PROVEN40             2022 255       248.2 12.56 276    224.6    274.2\n",
       "\n",
       "Degrees-of-freedom method: kenward-roger \n",
       "Confidence level used: 0.95 \n",
       "Intervals are back-transformed from the log scale "
      ]
     },
     "metadata": {},
     "output_type": "display_data"
    }
   ],
   "source": [
    "up_n_mod_means <- emmeans(up_n_mod, ~ stage*microbe*year + n_rate*year,  type = \"response\")\n",
    "up_n_mod_means"
   ]
  },
  {
   "cell_type": "code",
   "execution_count": 36,
   "metadata": {
    "vscode": {
     "languageId": "r"
    }
   },
   "outputs": [
    {
     "name": "stderr",
     "output_type": "stream",
     "text": [
      "\u001b[1m\u001b[22mJoining with `by = join_by(stage)`\n",
      "Warning message in left_join(., as.data.frame(up_n_mod_means) %>% filter(microbe == :\n",
      "\"\u001b[1m\u001b[22mDetected an unexpected many-to-many relationship between `x` and `y`.\n",
      "\u001b[36mi\u001b[39m Row 1 of `x` matches multiple rows in `y`.\n",
      "\u001b[36mi\u001b[39m Row 1 of `y` matches multiple rows in `x`.\n",
      "\u001b[36mi\u001b[39m If a many-to-many relationship is expected, set `relationship =\n",
      "  \"many-to-many\"` to silence this warning.\"\n",
      "\u001b[1m\u001b[22m`summarise()` has grouped output by 'stage'. You can override using the\n",
      "`.groups` argument.\n",
      "\u001b[1m\u001b[22mJoining with `by = join_by(stage, year)`\n"
     ]
    },
    {
     "data": {
      "text/html": [
       "<table class=\"dataframe\">\n",
       "<caption>A data.frame: 72 × 14</caption>\n",
       "<thead>\n",
       "\t<tr><th scope=col>contrast</th><th scope=col>stage</th><th scope=col>year</th><th scope=col>ratio</th><th scope=col>SE</th><th scope=col>df</th><th scope=col>null</th><th scope=col>t.ratio</th><th scope=col>p.value</th><th scope=col>n_rate</th><th scope=col>response</th><th scope=col>pct_change</th><th scope=col>my_label</th><th scope=col>max_value</th></tr>\n",
       "\t<tr><th scope=col>&lt;fct&gt;</th><th scope=col>&lt;fct&gt;</th><th scope=col>&lt;fct&gt;</th><th scope=col>&lt;dbl&gt;</th><th scope=col>&lt;dbl&gt;</th><th scope=col>&lt;dbl&gt;</th><th scope=col>&lt;dbl&gt;</th><th scope=col>&lt;dbl&gt;</th><th scope=col>&lt;dbl&gt;</th><th scope=col>&lt;fct&gt;</th><th scope=col>&lt;dbl&gt;</th><th scope=col>&lt;dbl&gt;</th><th scope=col>&lt;chr&gt;</th><th scope=col>&lt;dbl&gt;</th></tr>\n",
       "</thead>\n",
       "<tbody>\n",
       "\t<tr><td>PROVEN40 / Uninoculated Control</td><td>V8</td><td>2021</td><td>1.185409</td><td>0.03773223</td><td>440</td><td>1</td><td>5.34353741</td><td>1.465878e-07</td><td>0  </td><td> 33.59049</td><td>18.5</td><td>18.5% change\n",
       "p = 1.5e-07</td><td> 52.85071</td></tr>\n",
       "\t<tr><td>PROVEN40 / Uninoculated Control</td><td>V8</td><td>2021</td><td>1.185409</td><td>0.03773223</td><td>440</td><td>1</td><td>5.34353741</td><td>1.465878e-07</td><td>0  </td><td> 21.28160</td><td>18.5</td><td>18.5% change\n",
       "p = 1.5e-07</td><td> 52.85071</td></tr>\n",
       "\t<tr><td>PROVEN40 / Uninoculated Control</td><td>V8</td><td>2021</td><td>1.185409</td><td>0.03773223</td><td>440</td><td>1</td><td>5.34353741</td><td>1.465878e-07</td><td>95 </td><td> 38.33972</td><td>18.5</td><td>18.5% change\n",
       "p = 1.5e-07</td><td> 52.85071</td></tr>\n",
       "\t<tr><td>PROVEN40 / Uninoculated Control</td><td>V8</td><td>2021</td><td>1.185409</td><td>0.03773223</td><td>440</td><td>1</td><td>5.34353741</td><td>1.465878e-07</td><td>95 </td><td> 25.91727</td><td>18.5</td><td>18.5% change\n",
       "p = 1.5e-07</td><td> 52.85071</td></tr>\n",
       "\t<tr><td>PROVEN40 / Uninoculated Control</td><td>V8</td><td>2021</td><td>1.185409</td><td>0.03773223</td><td>440</td><td>1</td><td>5.34353741</td><td>1.465878e-07</td><td>135</td><td> 36.42203</td><td>18.5</td><td>18.5% change\n",
       "p = 1.5e-07</td><td> 52.85071</td></tr>\n",
       "\t<tr><td>PROVEN40 / Uninoculated Control</td><td>V8</td><td>2021</td><td>1.185409</td><td>0.03773223</td><td>440</td><td>1</td><td>5.34353741</td><td>1.465878e-07</td><td>135</td><td> 28.86489</td><td>18.5</td><td>18.5% change\n",
       "p = 1.5e-07</td><td> 52.85071</td></tr>\n",
       "\t<tr><td>PROVEN40 / Uninoculated Control</td><td>V8</td><td>2021</td><td>1.185409</td><td>0.03773223</td><td>440</td><td>1</td><td>5.34353741</td><td>1.465878e-07</td><td>175</td><td> 39.49069</td><td>18.5</td><td>18.5% change\n",
       "p = 1.5e-07</td><td> 52.85071</td></tr>\n",
       "\t<tr><td>PROVEN40 / Uninoculated Control</td><td>V8</td><td>2021</td><td>1.185409</td><td>0.03773223</td><td>440</td><td>1</td><td>5.34353741</td><td>1.465878e-07</td><td>175</td><td> 26.77143</td><td>18.5</td><td>18.5% change\n",
       "p = 1.5e-07</td><td> 52.85071</td></tr>\n",
       "\t<tr><td>PROVEN40 / Uninoculated Control</td><td>V8</td><td>2021</td><td>1.185409</td><td>0.03773223</td><td>440</td><td>1</td><td>5.34353741</td><td>1.465878e-07</td><td>215</td><td> 40.34483</td><td>18.5</td><td>18.5% change\n",
       "p = 1.5e-07</td><td> 52.85071</td></tr>\n",
       "\t<tr><td>PROVEN40 / Uninoculated Control</td><td>V8</td><td>2021</td><td>1.185409</td><td>0.03773223</td><td>440</td><td>1</td><td>5.34353741</td><td>1.465878e-07</td><td>215</td><td> 28.65162</td><td>18.5</td><td>18.5% change\n",
       "p = 1.5e-07</td><td> 52.85071</td></tr>\n",
       "\t<tr><td>PROVEN40 / Uninoculated Control</td><td>V8</td><td>2021</td><td>1.185409</td><td>0.03773223</td><td>440</td><td>1</td><td>5.34353741</td><td>1.465878e-07</td><td>255</td><td> 40.36505</td><td>18.5</td><td>18.5% change\n",
       "p = 1.5e-07</td><td> 52.85071</td></tr>\n",
       "\t<tr><td>PROVEN40 / Uninoculated Control</td><td>V8</td><td>2021</td><td>1.185409</td><td>0.03773223</td><td>440</td><td>1</td><td>5.34353741</td><td>1.465878e-07</td><td>255</td><td> 28.28892</td><td>18.5</td><td>18.5% change\n",
       "p = 1.5e-07</td><td> 52.85071</td></tr>\n",
       "\t<tr><td>PROVEN40 / Uninoculated Control</td><td>R1</td><td>2021</td><td>1.039556</td><td>0.03308965</td><td>440</td><td>1</td><td>1.21875181</td><td>2.235914e-01</td><td>0  </td><td>105.18129</td><td> 4.0</td><td>4% change\n",
       "p = 0.22      </td><td>246.82562</td></tr>\n",
       "\t<tr><td>PROVEN40 / Uninoculated Control</td><td>R1</td><td>2021</td><td>1.039556</td><td>0.03308965</td><td>440</td><td>1</td><td>1.21875181</td><td>2.235914e-01</td><td>0  </td><td> 57.28000</td><td> 4.0</td><td>4% change\n",
       "p = 0.22      </td><td>246.82562</td></tr>\n",
       "\t<tr><td>PROVEN40 / Uninoculated Control</td><td>R1</td><td>2021</td><td>1.039556</td><td>0.03308965</td><td>440</td><td>1</td><td>1.21875181</td><td>2.235914e-01</td><td>95 </td><td>183.87728</td><td> 4.0</td><td>4% change\n",
       "p = 0.22      </td><td>246.82562</td></tr>\n",
       "\t<tr><td>PROVEN40 / Uninoculated Control</td><td>R1</td><td>2021</td><td>1.039556</td><td>0.03308965</td><td>440</td><td>1</td><td>1.21875181</td><td>2.235914e-01</td><td>95 </td><td>102.23349</td><td> 4.0</td><td>4% change\n",
       "p = 0.22      </td><td>246.82562</td></tr>\n",
       "\t<tr><td>PROVEN40 / Uninoculated Control</td><td>R1</td><td>2021</td><td>1.039556</td><td>0.03308965</td><td>440</td><td>1</td><td>1.21875181</td><td>2.235914e-01</td><td>135</td><td>198.77307</td><td> 4.0</td><td>4% change\n",
       "p = 0.22      </td><td>246.82562</td></tr>\n",
       "\t<tr><td>PROVEN40 / Uninoculated Control</td><td>R1</td><td>2021</td><td>1.039556</td><td>0.03308965</td><td>440</td><td>1</td><td>1.21875181</td><td>2.235914e-01</td><td>135</td><td>110.91170</td><td> 4.0</td><td>4% change\n",
       "p = 0.22      </td><td>246.82562</td></tr>\n",
       "\t<tr><td>PROVEN40 / Uninoculated Control</td><td>R1</td><td>2021</td><td>1.039556</td><td>0.03308965</td><td>440</td><td>1</td><td>1.21875181</td><td>2.235914e-01</td><td>175</td><td>210.95866</td><td> 4.0</td><td>4% change\n",
       "p = 0.22      </td><td>246.82562</td></tr>\n",
       "\t<tr><td>PROVEN40 / Uninoculated Control</td><td>R1</td><td>2021</td><td>1.039556</td><td>0.03308965</td><td>440</td><td>1</td><td>1.21875181</td><td>2.235914e-01</td><td>175</td><td>113.40453</td><td> 4.0</td><td>4% change\n",
       "p = 0.22      </td><td>246.82562</td></tr>\n",
       "\t<tr><td>PROVEN40 / Uninoculated Control</td><td>R1</td><td>2021</td><td>1.039556</td><td>0.03308965</td><td>440</td><td>1</td><td>1.21875181</td><td>2.235914e-01</td><td>215</td><td>214.96376</td><td> 4.0</td><td>4% change\n",
       "p = 0.22      </td><td>246.82562</td></tr>\n",
       "\t<tr><td>PROVEN40 / Uninoculated Control</td><td>R1</td><td>2021</td><td>1.039556</td><td>0.03308965</td><td>440</td><td>1</td><td>1.21875181</td><td>2.235914e-01</td><td>215</td><td>131.38858</td><td> 4.0</td><td>4% change\n",
       "p = 0.22      </td><td>246.82562</td></tr>\n",
       "\t<tr><td>PROVEN40 / Uninoculated Control</td><td>R1</td><td>2021</td><td>1.039556</td><td>0.03308965</td><td>440</td><td>1</td><td>1.21875181</td><td>2.235914e-01</td><td>255</td><td>211.82330</td><td> 4.0</td><td>4% change\n",
       "p = 0.22      </td><td>246.82562</td></tr>\n",
       "\t<tr><td>PROVEN40 / Uninoculated Control</td><td>R1</td><td>2021</td><td>1.039556</td><td>0.03308965</td><td>440</td><td>1</td><td>1.21875181</td><td>2.235914e-01</td><td>255</td><td>131.92841</td><td> 4.0</td><td>4% change\n",
       "p = 0.22      </td><td>246.82562</td></tr>\n",
       "\t<tr><td>PROVEN40 / Uninoculated Control</td><td>R6</td><td>2021</td><td>1.000631</td><td>0.03185064</td><td>440</td><td>1</td><td>0.01980995</td><td>9.842040e-01</td><td>0  </td><td> 97.06421</td><td> 0.1</td><td>0.1% change\n",
       "p = 0.98    </td><td>288.92909</td></tr>\n",
       "\t<tr><td>PROVEN40 / Uninoculated Control</td><td>R6</td><td>2021</td><td>1.000631</td><td>0.03185064</td><td>440</td><td>1</td><td>0.01980995</td><td>9.842040e-01</td><td>0  </td><td> 79.68292</td><td> 0.1</td><td>0.1% change\n",
       "p = 0.98    </td><td>288.92909</td></tr>\n",
       "\t<tr><td>PROVEN40 / Uninoculated Control</td><td>R6</td><td>2021</td><td>1.000631</td><td>0.03185064</td><td>440</td><td>1</td><td>0.01980995</td><td>9.842040e-01</td><td>95 </td><td>195.11622</td><td> 0.1</td><td>0.1% change\n",
       "p = 0.98    </td><td>288.92909</td></tr>\n",
       "\t<tr><td>PROVEN40 / Uninoculated Control</td><td>R6</td><td>2021</td><td>1.000631</td><td>0.03185064</td><td>440</td><td>1</td><td>0.01980995</td><td>9.842040e-01</td><td>95 </td><td>168.11523</td><td> 0.1</td><td>0.1% change\n",
       "p = 0.98    </td><td>288.92909</td></tr>\n",
       "\t<tr><td>PROVEN40 / Uninoculated Control</td><td>R6</td><td>2021</td><td>1.000631</td><td>0.03185064</td><td>440</td><td>1</td><td>0.01980995</td><td>9.842040e-01</td><td>135</td><td>219.29670</td><td> 0.1</td><td>0.1% change\n",
       "p = 0.98    </td><td>288.92909</td></tr>\n",
       "\t<tr><td>PROVEN40 / Uninoculated Control</td><td>R6</td><td>2021</td><td>1.000631</td><td>0.03185064</td><td>440</td><td>1</td><td>0.01980995</td><td>9.842040e-01</td><td>135</td><td>195.25470</td><td> 0.1</td><td>0.1% change\n",
       "p = 0.98    </td><td>288.92909</td></tr>\n",
       "\t<tr><td>...</td><td>...</td><td>...</td><td>...</td><td>...</td><td>...</td><td>...</td><td>...</td><td>...</td><td>...</td><td>...</td><td>...</td><td>...</td><td>...</td></tr>\n",
       "\t<tr><td>PROVEN40 / Uninoculated Control</td><td>V8</td><td>2022</td><td>0.9298950</td><td>0.03023569</td><td>440</td><td>1</td><td>-2.2353753</td><td>0.02589369</td><td>175</td><td> 39.49069</td><td>-7.0</td><td>-7% change\n",
       "p = 0.026 </td><td> 32.08713</td></tr>\n",
       "\t<tr><td>PROVEN40 / Uninoculated Control</td><td>V8</td><td>2022</td><td>0.9298950</td><td>0.03023569</td><td>440</td><td>1</td><td>-2.2353753</td><td>0.02589369</td><td>175</td><td> 26.77143</td><td>-7.0</td><td>-7% change\n",
       "p = 0.026 </td><td> 32.08713</td></tr>\n",
       "\t<tr><td>PROVEN40 / Uninoculated Control</td><td>V8</td><td>2022</td><td>0.9298950</td><td>0.03023569</td><td>440</td><td>1</td><td>-2.2353753</td><td>0.02589369</td><td>215</td><td> 40.34483</td><td>-7.0</td><td>-7% change\n",
       "p = 0.026 </td><td> 32.08713</td></tr>\n",
       "\t<tr><td>PROVEN40 / Uninoculated Control</td><td>V8</td><td>2022</td><td>0.9298950</td><td>0.03023569</td><td>440</td><td>1</td><td>-2.2353753</td><td>0.02589369</td><td>215</td><td> 28.65162</td><td>-7.0</td><td>-7% change\n",
       "p = 0.026 </td><td> 32.08713</td></tr>\n",
       "\t<tr><td>PROVEN40 / Uninoculated Control</td><td>V8</td><td>2022</td><td>0.9298950</td><td>0.03023569</td><td>440</td><td>1</td><td>-2.2353753</td><td>0.02589369</td><td>255</td><td> 40.36505</td><td>-7.0</td><td>-7% change\n",
       "p = 0.026 </td><td> 32.08713</td></tr>\n",
       "\t<tr><td>PROVEN40 / Uninoculated Control</td><td>V8</td><td>2022</td><td>0.9298950</td><td>0.03023569</td><td>440</td><td>1</td><td>-2.2353753</td><td>0.02589369</td><td>255</td><td> 28.28892</td><td>-7.0</td><td>-7% change\n",
       "p = 0.026 </td><td> 32.08713</td></tr>\n",
       "\t<tr><td>PROVEN40 / Uninoculated Control</td><td>R1</td><td>2022</td><td>0.9849155</td><td>0.03202469</td><td>440</td><td>1</td><td>-0.4674560</td><td>0.64040505</td><td>0  </td><td>105.18129</td><td>-1.5</td><td>-1.5% change\n",
       "p = 0.64</td><td>145.74963</td></tr>\n",
       "\t<tr><td>PROVEN40 / Uninoculated Control</td><td>R1</td><td>2022</td><td>0.9849155</td><td>0.03202469</td><td>440</td><td>1</td><td>-0.4674560</td><td>0.64040505</td><td>0  </td><td> 57.28000</td><td>-1.5</td><td>-1.5% change\n",
       "p = 0.64</td><td>145.74963</td></tr>\n",
       "\t<tr><td>PROVEN40 / Uninoculated Control</td><td>R1</td><td>2022</td><td>0.9849155</td><td>0.03202469</td><td>440</td><td>1</td><td>-0.4674560</td><td>0.64040505</td><td>95 </td><td>183.87728</td><td>-1.5</td><td>-1.5% change\n",
       "p = 0.64</td><td>145.74963</td></tr>\n",
       "\t<tr><td>PROVEN40 / Uninoculated Control</td><td>R1</td><td>2022</td><td>0.9849155</td><td>0.03202469</td><td>440</td><td>1</td><td>-0.4674560</td><td>0.64040505</td><td>95 </td><td>102.23349</td><td>-1.5</td><td>-1.5% change\n",
       "p = 0.64</td><td>145.74963</td></tr>\n",
       "\t<tr><td>PROVEN40 / Uninoculated Control</td><td>R1</td><td>2022</td><td>0.9849155</td><td>0.03202469</td><td>440</td><td>1</td><td>-0.4674560</td><td>0.64040505</td><td>135</td><td>198.77307</td><td>-1.5</td><td>-1.5% change\n",
       "p = 0.64</td><td>145.74963</td></tr>\n",
       "\t<tr><td>PROVEN40 / Uninoculated Control</td><td>R1</td><td>2022</td><td>0.9849155</td><td>0.03202469</td><td>440</td><td>1</td><td>-0.4674560</td><td>0.64040505</td><td>135</td><td>110.91170</td><td>-1.5</td><td>-1.5% change\n",
       "p = 0.64</td><td>145.74963</td></tr>\n",
       "\t<tr><td>PROVEN40 / Uninoculated Control</td><td>R1</td><td>2022</td><td>0.9849155</td><td>0.03202469</td><td>440</td><td>1</td><td>-0.4674560</td><td>0.64040505</td><td>175</td><td>210.95866</td><td>-1.5</td><td>-1.5% change\n",
       "p = 0.64</td><td>145.74963</td></tr>\n",
       "\t<tr><td>PROVEN40 / Uninoculated Control</td><td>R1</td><td>2022</td><td>0.9849155</td><td>0.03202469</td><td>440</td><td>1</td><td>-0.4674560</td><td>0.64040505</td><td>175</td><td>113.40453</td><td>-1.5</td><td>-1.5% change\n",
       "p = 0.64</td><td>145.74963</td></tr>\n",
       "\t<tr><td>PROVEN40 / Uninoculated Control</td><td>R1</td><td>2022</td><td>0.9849155</td><td>0.03202469</td><td>440</td><td>1</td><td>-0.4674560</td><td>0.64040505</td><td>215</td><td>214.96376</td><td>-1.5</td><td>-1.5% change\n",
       "p = 0.64</td><td>145.74963</td></tr>\n",
       "\t<tr><td>PROVEN40 / Uninoculated Control</td><td>R1</td><td>2022</td><td>0.9849155</td><td>0.03202469</td><td>440</td><td>1</td><td>-0.4674560</td><td>0.64040505</td><td>215</td><td>131.38858</td><td>-1.5</td><td>-1.5% change\n",
       "p = 0.64</td><td>145.74963</td></tr>\n",
       "\t<tr><td>PROVEN40 / Uninoculated Control</td><td>R1</td><td>2022</td><td>0.9849155</td><td>0.03202469</td><td>440</td><td>1</td><td>-0.4674560</td><td>0.64040505</td><td>255</td><td>211.82330</td><td>-1.5</td><td>-1.5% change\n",
       "p = 0.64</td><td>145.74963</td></tr>\n",
       "\t<tr><td>PROVEN40 / Uninoculated Control</td><td>R1</td><td>2022</td><td>0.9849155</td><td>0.03202469</td><td>440</td><td>1</td><td>-0.4674560</td><td>0.64040505</td><td>255</td><td>131.92841</td><td>-1.5</td><td>-1.5% change\n",
       "p = 0.64</td><td>145.74963</td></tr>\n",
       "\t<tr><td>PROVEN40 / Uninoculated Control</td><td>R6</td><td>2022</td><td>1.0035339</td><td>0.03263007</td><td>440</td><td>1</td><td> 0.1084944</td><td>0.91365296</td><td>0  </td><td> 97.06421</td><td> 0.4</td><td>0.4% change\n",
       "p = 0.91 </td><td>274.16041</td></tr>\n",
       "\t<tr><td>PROVEN40 / Uninoculated Control</td><td>R6</td><td>2022</td><td>1.0035339</td><td>0.03263007</td><td>440</td><td>1</td><td> 0.1084944</td><td>0.91365296</td><td>0  </td><td> 79.68292</td><td> 0.4</td><td>0.4% change\n",
       "p = 0.91 </td><td>274.16041</td></tr>\n",
       "\t<tr><td>PROVEN40 / Uninoculated Control</td><td>R6</td><td>2022</td><td>1.0035339</td><td>0.03263007</td><td>440</td><td>1</td><td> 0.1084944</td><td>0.91365296</td><td>95 </td><td>195.11622</td><td> 0.4</td><td>0.4% change\n",
       "p = 0.91 </td><td>274.16041</td></tr>\n",
       "\t<tr><td>PROVEN40 / Uninoculated Control</td><td>R6</td><td>2022</td><td>1.0035339</td><td>0.03263007</td><td>440</td><td>1</td><td> 0.1084944</td><td>0.91365296</td><td>95 </td><td>168.11523</td><td> 0.4</td><td>0.4% change\n",
       "p = 0.91 </td><td>274.16041</td></tr>\n",
       "\t<tr><td>PROVEN40 / Uninoculated Control</td><td>R6</td><td>2022</td><td>1.0035339</td><td>0.03263007</td><td>440</td><td>1</td><td> 0.1084944</td><td>0.91365296</td><td>135</td><td>219.29670</td><td> 0.4</td><td>0.4% change\n",
       "p = 0.91 </td><td>274.16041</td></tr>\n",
       "\t<tr><td>PROVEN40 / Uninoculated Control</td><td>R6</td><td>2022</td><td>1.0035339</td><td>0.03263007</td><td>440</td><td>1</td><td> 0.1084944</td><td>0.91365296</td><td>135</td><td>195.25470</td><td> 0.4</td><td>0.4% change\n",
       "p = 0.91 </td><td>274.16041</td></tr>\n",
       "\t<tr><td>PROVEN40 / Uninoculated Control</td><td>R6</td><td>2022</td><td>1.0035339</td><td>0.03263007</td><td>440</td><td>1</td><td> 0.1084944</td><td>0.91365296</td><td>175</td><td>234.36466</td><td> 0.4</td><td>0.4% change\n",
       "p = 0.91 </td><td>274.16041</td></tr>\n",
       "\t<tr><td>PROVEN40 / Uninoculated Control</td><td>R6</td><td>2022</td><td>1.0035339</td><td>0.03263007</td><td>440</td><td>1</td><td> 0.1084944</td><td>0.91365296</td><td>175</td><td>214.63745</td><td> 0.4</td><td>0.4% change\n",
       "p = 0.91 </td><td>274.16041</td></tr>\n",
       "\t<tr><td>PROVEN40 / Uninoculated Control</td><td>R6</td><td>2022</td><td>1.0035339</td><td>0.03263007</td><td>440</td><td>1</td><td> 0.1084944</td><td>0.91365296</td><td>215</td><td>261.11676</td><td> 0.4</td><td>0.4% change\n",
       "p = 0.91 </td><td>274.16041</td></tr>\n",
       "\t<tr><td>PROVEN40 / Uninoculated Control</td><td>R6</td><td>2022</td><td>1.0035339</td><td>0.03263007</td><td>440</td><td>1</td><td> 0.1084944</td><td>0.91365296</td><td>215</td><td>243.68537</td><td> 0.4</td><td>0.4% change\n",
       "p = 0.91 </td><td>274.16041</td></tr>\n",
       "\t<tr><td>PROVEN40 / Uninoculated Control</td><td>R6</td><td>2022</td><td>1.0035339</td><td>0.03263007</td><td>440</td><td>1</td><td> 0.1084944</td><td>0.91365296</td><td>255</td><td>261.42087</td><td> 0.4</td><td>0.4% change\n",
       "p = 0.91 </td><td>274.16041</td></tr>\n",
       "\t<tr><td>PROVEN40 / Uninoculated Control</td><td>R6</td><td>2022</td><td>1.0035339</td><td>0.03263007</td><td>440</td><td>1</td><td> 0.1084944</td><td>0.91365296</td><td>255</td><td>247.28828</td><td> 0.4</td><td>0.4% change\n",
       "p = 0.91 </td><td>274.16041</td></tr>\n",
       "</tbody>\n",
       "</table>\n"
      ],
      "text/latex": [
       "A data.frame: 72 × 14\n",
       "\\begin{tabular}{llllllllllllll}\n",
       " contrast & stage & year & ratio & SE & df & null & t.ratio & p.value & n\\_rate & response & pct\\_change & my\\_label & max\\_value\\\\\n",
       " <fct> & <fct> & <fct> & <dbl> & <dbl> & <dbl> & <dbl> & <dbl> & <dbl> & <fct> & <dbl> & <dbl> & <chr> & <dbl>\\\\\n",
       "\\hline\n",
       "\t PROVEN40 / Uninoculated Control & V8 & 2021 & 1.185409 & 0.03773223 & 440 & 1 & 5.34353741 & 1.465878e-07 & 0   &  33.59049 & 18.5 & 18.5\\% change\n",
       "p = 1.5e-07 &  52.85071\\\\\n",
       "\t PROVEN40 / Uninoculated Control & V8 & 2021 & 1.185409 & 0.03773223 & 440 & 1 & 5.34353741 & 1.465878e-07 & 0   &  21.28160 & 18.5 & 18.5\\% change\n",
       "p = 1.5e-07 &  52.85071\\\\\n",
       "\t PROVEN40 / Uninoculated Control & V8 & 2021 & 1.185409 & 0.03773223 & 440 & 1 & 5.34353741 & 1.465878e-07 & 95  &  38.33972 & 18.5 & 18.5\\% change\n",
       "p = 1.5e-07 &  52.85071\\\\\n",
       "\t PROVEN40 / Uninoculated Control & V8 & 2021 & 1.185409 & 0.03773223 & 440 & 1 & 5.34353741 & 1.465878e-07 & 95  &  25.91727 & 18.5 & 18.5\\% change\n",
       "p = 1.5e-07 &  52.85071\\\\\n",
       "\t PROVEN40 / Uninoculated Control & V8 & 2021 & 1.185409 & 0.03773223 & 440 & 1 & 5.34353741 & 1.465878e-07 & 135 &  36.42203 & 18.5 & 18.5\\% change\n",
       "p = 1.5e-07 &  52.85071\\\\\n",
       "\t PROVEN40 / Uninoculated Control & V8 & 2021 & 1.185409 & 0.03773223 & 440 & 1 & 5.34353741 & 1.465878e-07 & 135 &  28.86489 & 18.5 & 18.5\\% change\n",
       "p = 1.5e-07 &  52.85071\\\\\n",
       "\t PROVEN40 / Uninoculated Control & V8 & 2021 & 1.185409 & 0.03773223 & 440 & 1 & 5.34353741 & 1.465878e-07 & 175 &  39.49069 & 18.5 & 18.5\\% change\n",
       "p = 1.5e-07 &  52.85071\\\\\n",
       "\t PROVEN40 / Uninoculated Control & V8 & 2021 & 1.185409 & 0.03773223 & 440 & 1 & 5.34353741 & 1.465878e-07 & 175 &  26.77143 & 18.5 & 18.5\\% change\n",
       "p = 1.5e-07 &  52.85071\\\\\n",
       "\t PROVEN40 / Uninoculated Control & V8 & 2021 & 1.185409 & 0.03773223 & 440 & 1 & 5.34353741 & 1.465878e-07 & 215 &  40.34483 & 18.5 & 18.5\\% change\n",
       "p = 1.5e-07 &  52.85071\\\\\n",
       "\t PROVEN40 / Uninoculated Control & V8 & 2021 & 1.185409 & 0.03773223 & 440 & 1 & 5.34353741 & 1.465878e-07 & 215 &  28.65162 & 18.5 & 18.5\\% change\n",
       "p = 1.5e-07 &  52.85071\\\\\n",
       "\t PROVEN40 / Uninoculated Control & V8 & 2021 & 1.185409 & 0.03773223 & 440 & 1 & 5.34353741 & 1.465878e-07 & 255 &  40.36505 & 18.5 & 18.5\\% change\n",
       "p = 1.5e-07 &  52.85071\\\\\n",
       "\t PROVEN40 / Uninoculated Control & V8 & 2021 & 1.185409 & 0.03773223 & 440 & 1 & 5.34353741 & 1.465878e-07 & 255 &  28.28892 & 18.5 & 18.5\\% change\n",
       "p = 1.5e-07 &  52.85071\\\\\n",
       "\t PROVEN40 / Uninoculated Control & R1 & 2021 & 1.039556 & 0.03308965 & 440 & 1 & 1.21875181 & 2.235914e-01 & 0   & 105.18129 &  4.0 & 4\\% change\n",
       "p = 0.22       & 246.82562\\\\\n",
       "\t PROVEN40 / Uninoculated Control & R1 & 2021 & 1.039556 & 0.03308965 & 440 & 1 & 1.21875181 & 2.235914e-01 & 0   &  57.28000 &  4.0 & 4\\% change\n",
       "p = 0.22       & 246.82562\\\\\n",
       "\t PROVEN40 / Uninoculated Control & R1 & 2021 & 1.039556 & 0.03308965 & 440 & 1 & 1.21875181 & 2.235914e-01 & 95  & 183.87728 &  4.0 & 4\\% change\n",
       "p = 0.22       & 246.82562\\\\\n",
       "\t PROVEN40 / Uninoculated Control & R1 & 2021 & 1.039556 & 0.03308965 & 440 & 1 & 1.21875181 & 2.235914e-01 & 95  & 102.23349 &  4.0 & 4\\% change\n",
       "p = 0.22       & 246.82562\\\\\n",
       "\t PROVEN40 / Uninoculated Control & R1 & 2021 & 1.039556 & 0.03308965 & 440 & 1 & 1.21875181 & 2.235914e-01 & 135 & 198.77307 &  4.0 & 4\\% change\n",
       "p = 0.22       & 246.82562\\\\\n",
       "\t PROVEN40 / Uninoculated Control & R1 & 2021 & 1.039556 & 0.03308965 & 440 & 1 & 1.21875181 & 2.235914e-01 & 135 & 110.91170 &  4.0 & 4\\% change\n",
       "p = 0.22       & 246.82562\\\\\n",
       "\t PROVEN40 / Uninoculated Control & R1 & 2021 & 1.039556 & 0.03308965 & 440 & 1 & 1.21875181 & 2.235914e-01 & 175 & 210.95866 &  4.0 & 4\\% change\n",
       "p = 0.22       & 246.82562\\\\\n",
       "\t PROVEN40 / Uninoculated Control & R1 & 2021 & 1.039556 & 0.03308965 & 440 & 1 & 1.21875181 & 2.235914e-01 & 175 & 113.40453 &  4.0 & 4\\% change\n",
       "p = 0.22       & 246.82562\\\\\n",
       "\t PROVEN40 / Uninoculated Control & R1 & 2021 & 1.039556 & 0.03308965 & 440 & 1 & 1.21875181 & 2.235914e-01 & 215 & 214.96376 &  4.0 & 4\\% change\n",
       "p = 0.22       & 246.82562\\\\\n",
       "\t PROVEN40 / Uninoculated Control & R1 & 2021 & 1.039556 & 0.03308965 & 440 & 1 & 1.21875181 & 2.235914e-01 & 215 & 131.38858 &  4.0 & 4\\% change\n",
       "p = 0.22       & 246.82562\\\\\n",
       "\t PROVEN40 / Uninoculated Control & R1 & 2021 & 1.039556 & 0.03308965 & 440 & 1 & 1.21875181 & 2.235914e-01 & 255 & 211.82330 &  4.0 & 4\\% change\n",
       "p = 0.22       & 246.82562\\\\\n",
       "\t PROVEN40 / Uninoculated Control & R1 & 2021 & 1.039556 & 0.03308965 & 440 & 1 & 1.21875181 & 2.235914e-01 & 255 & 131.92841 &  4.0 & 4\\% change\n",
       "p = 0.22       & 246.82562\\\\\n",
       "\t PROVEN40 / Uninoculated Control & R6 & 2021 & 1.000631 & 0.03185064 & 440 & 1 & 0.01980995 & 9.842040e-01 & 0   &  97.06421 &  0.1 & 0.1\\% change\n",
       "p = 0.98     & 288.92909\\\\\n",
       "\t PROVEN40 / Uninoculated Control & R6 & 2021 & 1.000631 & 0.03185064 & 440 & 1 & 0.01980995 & 9.842040e-01 & 0   &  79.68292 &  0.1 & 0.1\\% change\n",
       "p = 0.98     & 288.92909\\\\\n",
       "\t PROVEN40 / Uninoculated Control & R6 & 2021 & 1.000631 & 0.03185064 & 440 & 1 & 0.01980995 & 9.842040e-01 & 95  & 195.11622 &  0.1 & 0.1\\% change\n",
       "p = 0.98     & 288.92909\\\\\n",
       "\t PROVEN40 / Uninoculated Control & R6 & 2021 & 1.000631 & 0.03185064 & 440 & 1 & 0.01980995 & 9.842040e-01 & 95  & 168.11523 &  0.1 & 0.1\\% change\n",
       "p = 0.98     & 288.92909\\\\\n",
       "\t PROVEN40 / Uninoculated Control & R6 & 2021 & 1.000631 & 0.03185064 & 440 & 1 & 0.01980995 & 9.842040e-01 & 135 & 219.29670 &  0.1 & 0.1\\% change\n",
       "p = 0.98     & 288.92909\\\\\n",
       "\t PROVEN40 / Uninoculated Control & R6 & 2021 & 1.000631 & 0.03185064 & 440 & 1 & 0.01980995 & 9.842040e-01 & 135 & 195.25470 &  0.1 & 0.1\\% change\n",
       "p = 0.98     & 288.92909\\\\\n",
       "\t ... & ... & ... & ... & ... & ... & ... & ... & ... & ... & ... & ... & ... & ...\\\\\n",
       "\t PROVEN40 / Uninoculated Control & V8 & 2022 & 0.9298950 & 0.03023569 & 440 & 1 & -2.2353753 & 0.02589369 & 175 &  39.49069 & -7.0 & -7\\% change\n",
       "p = 0.026  &  32.08713\\\\\n",
       "\t PROVEN40 / Uninoculated Control & V8 & 2022 & 0.9298950 & 0.03023569 & 440 & 1 & -2.2353753 & 0.02589369 & 175 &  26.77143 & -7.0 & -7\\% change\n",
       "p = 0.026  &  32.08713\\\\\n",
       "\t PROVEN40 / Uninoculated Control & V8 & 2022 & 0.9298950 & 0.03023569 & 440 & 1 & -2.2353753 & 0.02589369 & 215 &  40.34483 & -7.0 & -7\\% change\n",
       "p = 0.026  &  32.08713\\\\\n",
       "\t PROVEN40 / Uninoculated Control & V8 & 2022 & 0.9298950 & 0.03023569 & 440 & 1 & -2.2353753 & 0.02589369 & 215 &  28.65162 & -7.0 & -7\\% change\n",
       "p = 0.026  &  32.08713\\\\\n",
       "\t PROVEN40 / Uninoculated Control & V8 & 2022 & 0.9298950 & 0.03023569 & 440 & 1 & -2.2353753 & 0.02589369 & 255 &  40.36505 & -7.0 & -7\\% change\n",
       "p = 0.026  &  32.08713\\\\\n",
       "\t PROVEN40 / Uninoculated Control & V8 & 2022 & 0.9298950 & 0.03023569 & 440 & 1 & -2.2353753 & 0.02589369 & 255 &  28.28892 & -7.0 & -7\\% change\n",
       "p = 0.026  &  32.08713\\\\\n",
       "\t PROVEN40 / Uninoculated Control & R1 & 2022 & 0.9849155 & 0.03202469 & 440 & 1 & -0.4674560 & 0.64040505 & 0   & 105.18129 & -1.5 & -1.5\\% change\n",
       "p = 0.64 & 145.74963\\\\\n",
       "\t PROVEN40 / Uninoculated Control & R1 & 2022 & 0.9849155 & 0.03202469 & 440 & 1 & -0.4674560 & 0.64040505 & 0   &  57.28000 & -1.5 & -1.5\\% change\n",
       "p = 0.64 & 145.74963\\\\\n",
       "\t PROVEN40 / Uninoculated Control & R1 & 2022 & 0.9849155 & 0.03202469 & 440 & 1 & -0.4674560 & 0.64040505 & 95  & 183.87728 & -1.5 & -1.5\\% change\n",
       "p = 0.64 & 145.74963\\\\\n",
       "\t PROVEN40 / Uninoculated Control & R1 & 2022 & 0.9849155 & 0.03202469 & 440 & 1 & -0.4674560 & 0.64040505 & 95  & 102.23349 & -1.5 & -1.5\\% change\n",
       "p = 0.64 & 145.74963\\\\\n",
       "\t PROVEN40 / Uninoculated Control & R1 & 2022 & 0.9849155 & 0.03202469 & 440 & 1 & -0.4674560 & 0.64040505 & 135 & 198.77307 & -1.5 & -1.5\\% change\n",
       "p = 0.64 & 145.74963\\\\\n",
       "\t PROVEN40 / Uninoculated Control & R1 & 2022 & 0.9849155 & 0.03202469 & 440 & 1 & -0.4674560 & 0.64040505 & 135 & 110.91170 & -1.5 & -1.5\\% change\n",
       "p = 0.64 & 145.74963\\\\\n",
       "\t PROVEN40 / Uninoculated Control & R1 & 2022 & 0.9849155 & 0.03202469 & 440 & 1 & -0.4674560 & 0.64040505 & 175 & 210.95866 & -1.5 & -1.5\\% change\n",
       "p = 0.64 & 145.74963\\\\\n",
       "\t PROVEN40 / Uninoculated Control & R1 & 2022 & 0.9849155 & 0.03202469 & 440 & 1 & -0.4674560 & 0.64040505 & 175 & 113.40453 & -1.5 & -1.5\\% change\n",
       "p = 0.64 & 145.74963\\\\\n",
       "\t PROVEN40 / Uninoculated Control & R1 & 2022 & 0.9849155 & 0.03202469 & 440 & 1 & -0.4674560 & 0.64040505 & 215 & 214.96376 & -1.5 & -1.5\\% change\n",
       "p = 0.64 & 145.74963\\\\\n",
       "\t PROVEN40 / Uninoculated Control & R1 & 2022 & 0.9849155 & 0.03202469 & 440 & 1 & -0.4674560 & 0.64040505 & 215 & 131.38858 & -1.5 & -1.5\\% change\n",
       "p = 0.64 & 145.74963\\\\\n",
       "\t PROVEN40 / Uninoculated Control & R1 & 2022 & 0.9849155 & 0.03202469 & 440 & 1 & -0.4674560 & 0.64040505 & 255 & 211.82330 & -1.5 & -1.5\\% change\n",
       "p = 0.64 & 145.74963\\\\\n",
       "\t PROVEN40 / Uninoculated Control & R1 & 2022 & 0.9849155 & 0.03202469 & 440 & 1 & -0.4674560 & 0.64040505 & 255 & 131.92841 & -1.5 & -1.5\\% change\n",
       "p = 0.64 & 145.74963\\\\\n",
       "\t PROVEN40 / Uninoculated Control & R6 & 2022 & 1.0035339 & 0.03263007 & 440 & 1 &  0.1084944 & 0.91365296 & 0   &  97.06421 &  0.4 & 0.4\\% change\n",
       "p = 0.91  & 274.16041\\\\\n",
       "\t PROVEN40 / Uninoculated Control & R6 & 2022 & 1.0035339 & 0.03263007 & 440 & 1 &  0.1084944 & 0.91365296 & 0   &  79.68292 &  0.4 & 0.4\\% change\n",
       "p = 0.91  & 274.16041\\\\\n",
       "\t PROVEN40 / Uninoculated Control & R6 & 2022 & 1.0035339 & 0.03263007 & 440 & 1 &  0.1084944 & 0.91365296 & 95  & 195.11622 &  0.4 & 0.4\\% change\n",
       "p = 0.91  & 274.16041\\\\\n",
       "\t PROVEN40 / Uninoculated Control & R6 & 2022 & 1.0035339 & 0.03263007 & 440 & 1 &  0.1084944 & 0.91365296 & 95  & 168.11523 &  0.4 & 0.4\\% change\n",
       "p = 0.91  & 274.16041\\\\\n",
       "\t PROVEN40 / Uninoculated Control & R6 & 2022 & 1.0035339 & 0.03263007 & 440 & 1 &  0.1084944 & 0.91365296 & 135 & 219.29670 &  0.4 & 0.4\\% change\n",
       "p = 0.91  & 274.16041\\\\\n",
       "\t PROVEN40 / Uninoculated Control & R6 & 2022 & 1.0035339 & 0.03263007 & 440 & 1 &  0.1084944 & 0.91365296 & 135 & 195.25470 &  0.4 & 0.4\\% change\n",
       "p = 0.91  & 274.16041\\\\\n",
       "\t PROVEN40 / Uninoculated Control & R6 & 2022 & 1.0035339 & 0.03263007 & 440 & 1 &  0.1084944 & 0.91365296 & 175 & 234.36466 &  0.4 & 0.4\\% change\n",
       "p = 0.91  & 274.16041\\\\\n",
       "\t PROVEN40 / Uninoculated Control & R6 & 2022 & 1.0035339 & 0.03263007 & 440 & 1 &  0.1084944 & 0.91365296 & 175 & 214.63745 &  0.4 & 0.4\\% change\n",
       "p = 0.91  & 274.16041\\\\\n",
       "\t PROVEN40 / Uninoculated Control & R6 & 2022 & 1.0035339 & 0.03263007 & 440 & 1 &  0.1084944 & 0.91365296 & 215 & 261.11676 &  0.4 & 0.4\\% change\n",
       "p = 0.91  & 274.16041\\\\\n",
       "\t PROVEN40 / Uninoculated Control & R6 & 2022 & 1.0035339 & 0.03263007 & 440 & 1 &  0.1084944 & 0.91365296 & 215 & 243.68537 &  0.4 & 0.4\\% change\n",
       "p = 0.91  & 274.16041\\\\\n",
       "\t PROVEN40 / Uninoculated Control & R6 & 2022 & 1.0035339 & 0.03263007 & 440 & 1 &  0.1084944 & 0.91365296 & 255 & 261.42087 &  0.4 & 0.4\\% change\n",
       "p = 0.91  & 274.16041\\\\\n",
       "\t PROVEN40 / Uninoculated Control & R6 & 2022 & 1.0035339 & 0.03263007 & 440 & 1 &  0.1084944 & 0.91365296 & 255 & 247.28828 &  0.4 & 0.4\\% change\n",
       "p = 0.91  & 274.16041\\\\\n",
       "\\end{tabular}\n"
      ],
      "text/markdown": [
       "\n",
       "A data.frame: 72 × 14\n",
       "\n",
       "| contrast &lt;fct&gt; | stage &lt;fct&gt; | year &lt;fct&gt; | ratio &lt;dbl&gt; | SE &lt;dbl&gt; | df &lt;dbl&gt; | null &lt;dbl&gt; | t.ratio &lt;dbl&gt; | p.value &lt;dbl&gt; | n_rate &lt;fct&gt; | response &lt;dbl&gt; | pct_change &lt;dbl&gt; | my_label &lt;chr&gt; | max_value &lt;dbl&gt; |\n",
       "|---|---|---|---|---|---|---|---|---|---|---|---|---|---|\n",
       "| PROVEN40 / Uninoculated Control | V8 | 2021 | 1.185409 | 0.03773223 | 440 | 1 | 5.34353741 | 1.465878e-07 | 0   |  33.59049 | 18.5 | 18.5% change\n",
       "p = 1.5e-07 |  52.85071 |\n",
       "| PROVEN40 / Uninoculated Control | V8 | 2021 | 1.185409 | 0.03773223 | 440 | 1 | 5.34353741 | 1.465878e-07 | 0   |  21.28160 | 18.5 | 18.5% change\n",
       "p = 1.5e-07 |  52.85071 |\n",
       "| PROVEN40 / Uninoculated Control | V8 | 2021 | 1.185409 | 0.03773223 | 440 | 1 | 5.34353741 | 1.465878e-07 | 95  |  38.33972 | 18.5 | 18.5% change\n",
       "p = 1.5e-07 |  52.85071 |\n",
       "| PROVEN40 / Uninoculated Control | V8 | 2021 | 1.185409 | 0.03773223 | 440 | 1 | 5.34353741 | 1.465878e-07 | 95  |  25.91727 | 18.5 | 18.5% change\n",
       "p = 1.5e-07 |  52.85071 |\n",
       "| PROVEN40 / Uninoculated Control | V8 | 2021 | 1.185409 | 0.03773223 | 440 | 1 | 5.34353741 | 1.465878e-07 | 135 |  36.42203 | 18.5 | 18.5% change\n",
       "p = 1.5e-07 |  52.85071 |\n",
       "| PROVEN40 / Uninoculated Control | V8 | 2021 | 1.185409 | 0.03773223 | 440 | 1 | 5.34353741 | 1.465878e-07 | 135 |  28.86489 | 18.5 | 18.5% change\n",
       "p = 1.5e-07 |  52.85071 |\n",
       "| PROVEN40 / Uninoculated Control | V8 | 2021 | 1.185409 | 0.03773223 | 440 | 1 | 5.34353741 | 1.465878e-07 | 175 |  39.49069 | 18.5 | 18.5% change\n",
       "p = 1.5e-07 |  52.85071 |\n",
       "| PROVEN40 / Uninoculated Control | V8 | 2021 | 1.185409 | 0.03773223 | 440 | 1 | 5.34353741 | 1.465878e-07 | 175 |  26.77143 | 18.5 | 18.5% change\n",
       "p = 1.5e-07 |  52.85071 |\n",
       "| PROVEN40 / Uninoculated Control | V8 | 2021 | 1.185409 | 0.03773223 | 440 | 1 | 5.34353741 | 1.465878e-07 | 215 |  40.34483 | 18.5 | 18.5% change\n",
       "p = 1.5e-07 |  52.85071 |\n",
       "| PROVEN40 / Uninoculated Control | V8 | 2021 | 1.185409 | 0.03773223 | 440 | 1 | 5.34353741 | 1.465878e-07 | 215 |  28.65162 | 18.5 | 18.5% change\n",
       "p = 1.5e-07 |  52.85071 |\n",
       "| PROVEN40 / Uninoculated Control | V8 | 2021 | 1.185409 | 0.03773223 | 440 | 1 | 5.34353741 | 1.465878e-07 | 255 |  40.36505 | 18.5 | 18.5% change\n",
       "p = 1.5e-07 |  52.85071 |\n",
       "| PROVEN40 / Uninoculated Control | V8 | 2021 | 1.185409 | 0.03773223 | 440 | 1 | 5.34353741 | 1.465878e-07 | 255 |  28.28892 | 18.5 | 18.5% change\n",
       "p = 1.5e-07 |  52.85071 |\n",
       "| PROVEN40 / Uninoculated Control | R1 | 2021 | 1.039556 | 0.03308965 | 440 | 1 | 1.21875181 | 2.235914e-01 | 0   | 105.18129 |  4.0 | 4% change\n",
       "p = 0.22       | 246.82562 |\n",
       "| PROVEN40 / Uninoculated Control | R1 | 2021 | 1.039556 | 0.03308965 | 440 | 1 | 1.21875181 | 2.235914e-01 | 0   |  57.28000 |  4.0 | 4% change\n",
       "p = 0.22       | 246.82562 |\n",
       "| PROVEN40 / Uninoculated Control | R1 | 2021 | 1.039556 | 0.03308965 | 440 | 1 | 1.21875181 | 2.235914e-01 | 95  | 183.87728 |  4.0 | 4% change\n",
       "p = 0.22       | 246.82562 |\n",
       "| PROVEN40 / Uninoculated Control | R1 | 2021 | 1.039556 | 0.03308965 | 440 | 1 | 1.21875181 | 2.235914e-01 | 95  | 102.23349 |  4.0 | 4% change\n",
       "p = 0.22       | 246.82562 |\n",
       "| PROVEN40 / Uninoculated Control | R1 | 2021 | 1.039556 | 0.03308965 | 440 | 1 | 1.21875181 | 2.235914e-01 | 135 | 198.77307 |  4.0 | 4% change\n",
       "p = 0.22       | 246.82562 |\n",
       "| PROVEN40 / Uninoculated Control | R1 | 2021 | 1.039556 | 0.03308965 | 440 | 1 | 1.21875181 | 2.235914e-01 | 135 | 110.91170 |  4.0 | 4% change\n",
       "p = 0.22       | 246.82562 |\n",
       "| PROVEN40 / Uninoculated Control | R1 | 2021 | 1.039556 | 0.03308965 | 440 | 1 | 1.21875181 | 2.235914e-01 | 175 | 210.95866 |  4.0 | 4% change\n",
       "p = 0.22       | 246.82562 |\n",
       "| PROVEN40 / Uninoculated Control | R1 | 2021 | 1.039556 | 0.03308965 | 440 | 1 | 1.21875181 | 2.235914e-01 | 175 | 113.40453 |  4.0 | 4% change\n",
       "p = 0.22       | 246.82562 |\n",
       "| PROVEN40 / Uninoculated Control | R1 | 2021 | 1.039556 | 0.03308965 | 440 | 1 | 1.21875181 | 2.235914e-01 | 215 | 214.96376 |  4.0 | 4% change\n",
       "p = 0.22       | 246.82562 |\n",
       "| PROVEN40 / Uninoculated Control | R1 | 2021 | 1.039556 | 0.03308965 | 440 | 1 | 1.21875181 | 2.235914e-01 | 215 | 131.38858 |  4.0 | 4% change\n",
       "p = 0.22       | 246.82562 |\n",
       "| PROVEN40 / Uninoculated Control | R1 | 2021 | 1.039556 | 0.03308965 | 440 | 1 | 1.21875181 | 2.235914e-01 | 255 | 211.82330 |  4.0 | 4% change\n",
       "p = 0.22       | 246.82562 |\n",
       "| PROVEN40 / Uninoculated Control | R1 | 2021 | 1.039556 | 0.03308965 | 440 | 1 | 1.21875181 | 2.235914e-01 | 255 | 131.92841 |  4.0 | 4% change\n",
       "p = 0.22       | 246.82562 |\n",
       "| PROVEN40 / Uninoculated Control | R6 | 2021 | 1.000631 | 0.03185064 | 440 | 1 | 0.01980995 | 9.842040e-01 | 0   |  97.06421 |  0.1 | 0.1% change\n",
       "p = 0.98     | 288.92909 |\n",
       "| PROVEN40 / Uninoculated Control | R6 | 2021 | 1.000631 | 0.03185064 | 440 | 1 | 0.01980995 | 9.842040e-01 | 0   |  79.68292 |  0.1 | 0.1% change\n",
       "p = 0.98     | 288.92909 |\n",
       "| PROVEN40 / Uninoculated Control | R6 | 2021 | 1.000631 | 0.03185064 | 440 | 1 | 0.01980995 | 9.842040e-01 | 95  | 195.11622 |  0.1 | 0.1% change\n",
       "p = 0.98     | 288.92909 |\n",
       "| PROVEN40 / Uninoculated Control | R6 | 2021 | 1.000631 | 0.03185064 | 440 | 1 | 0.01980995 | 9.842040e-01 | 95  | 168.11523 |  0.1 | 0.1% change\n",
       "p = 0.98     | 288.92909 |\n",
       "| PROVEN40 / Uninoculated Control | R6 | 2021 | 1.000631 | 0.03185064 | 440 | 1 | 0.01980995 | 9.842040e-01 | 135 | 219.29670 |  0.1 | 0.1% change\n",
       "p = 0.98     | 288.92909 |\n",
       "| PROVEN40 / Uninoculated Control | R6 | 2021 | 1.000631 | 0.03185064 | 440 | 1 | 0.01980995 | 9.842040e-01 | 135 | 195.25470 |  0.1 | 0.1% change\n",
       "p = 0.98     | 288.92909 |\n",
       "| ... | ... | ... | ... | ... | ... | ... | ... | ... | ... | ... | ... | ... | ... |\n",
       "| PROVEN40 / Uninoculated Control | V8 | 2022 | 0.9298950 | 0.03023569 | 440 | 1 | -2.2353753 | 0.02589369 | 175 |  39.49069 | -7.0 | -7% change\n",
       "p = 0.026  |  32.08713 |\n",
       "| PROVEN40 / Uninoculated Control | V8 | 2022 | 0.9298950 | 0.03023569 | 440 | 1 | -2.2353753 | 0.02589369 | 175 |  26.77143 | -7.0 | -7% change\n",
       "p = 0.026  |  32.08713 |\n",
       "| PROVEN40 / Uninoculated Control | V8 | 2022 | 0.9298950 | 0.03023569 | 440 | 1 | -2.2353753 | 0.02589369 | 215 |  40.34483 | -7.0 | -7% change\n",
       "p = 0.026  |  32.08713 |\n",
       "| PROVEN40 / Uninoculated Control | V8 | 2022 | 0.9298950 | 0.03023569 | 440 | 1 | -2.2353753 | 0.02589369 | 215 |  28.65162 | -7.0 | -7% change\n",
       "p = 0.026  |  32.08713 |\n",
       "| PROVEN40 / Uninoculated Control | V8 | 2022 | 0.9298950 | 0.03023569 | 440 | 1 | -2.2353753 | 0.02589369 | 255 |  40.36505 | -7.0 | -7% change\n",
       "p = 0.026  |  32.08713 |\n",
       "| PROVEN40 / Uninoculated Control | V8 | 2022 | 0.9298950 | 0.03023569 | 440 | 1 | -2.2353753 | 0.02589369 | 255 |  28.28892 | -7.0 | -7% change\n",
       "p = 0.026  |  32.08713 |\n",
       "| PROVEN40 / Uninoculated Control | R1 | 2022 | 0.9849155 | 0.03202469 | 440 | 1 | -0.4674560 | 0.64040505 | 0   | 105.18129 | -1.5 | -1.5% change\n",
       "p = 0.64 | 145.74963 |\n",
       "| PROVEN40 / Uninoculated Control | R1 | 2022 | 0.9849155 | 0.03202469 | 440 | 1 | -0.4674560 | 0.64040505 | 0   |  57.28000 | -1.5 | -1.5% change\n",
       "p = 0.64 | 145.74963 |\n",
       "| PROVEN40 / Uninoculated Control | R1 | 2022 | 0.9849155 | 0.03202469 | 440 | 1 | -0.4674560 | 0.64040505 | 95  | 183.87728 | -1.5 | -1.5% change\n",
       "p = 0.64 | 145.74963 |\n",
       "| PROVEN40 / Uninoculated Control | R1 | 2022 | 0.9849155 | 0.03202469 | 440 | 1 | -0.4674560 | 0.64040505 | 95  | 102.23349 | -1.5 | -1.5% change\n",
       "p = 0.64 | 145.74963 |\n",
       "| PROVEN40 / Uninoculated Control | R1 | 2022 | 0.9849155 | 0.03202469 | 440 | 1 | -0.4674560 | 0.64040505 | 135 | 198.77307 | -1.5 | -1.5% change\n",
       "p = 0.64 | 145.74963 |\n",
       "| PROVEN40 / Uninoculated Control | R1 | 2022 | 0.9849155 | 0.03202469 | 440 | 1 | -0.4674560 | 0.64040505 | 135 | 110.91170 | -1.5 | -1.5% change\n",
       "p = 0.64 | 145.74963 |\n",
       "| PROVEN40 / Uninoculated Control | R1 | 2022 | 0.9849155 | 0.03202469 | 440 | 1 | -0.4674560 | 0.64040505 | 175 | 210.95866 | -1.5 | -1.5% change\n",
       "p = 0.64 | 145.74963 |\n",
       "| PROVEN40 / Uninoculated Control | R1 | 2022 | 0.9849155 | 0.03202469 | 440 | 1 | -0.4674560 | 0.64040505 | 175 | 113.40453 | -1.5 | -1.5% change\n",
       "p = 0.64 | 145.74963 |\n",
       "| PROVEN40 / Uninoculated Control | R1 | 2022 | 0.9849155 | 0.03202469 | 440 | 1 | -0.4674560 | 0.64040505 | 215 | 214.96376 | -1.5 | -1.5% change\n",
       "p = 0.64 | 145.74963 |\n",
       "| PROVEN40 / Uninoculated Control | R1 | 2022 | 0.9849155 | 0.03202469 | 440 | 1 | -0.4674560 | 0.64040505 | 215 | 131.38858 | -1.5 | -1.5% change\n",
       "p = 0.64 | 145.74963 |\n",
       "| PROVEN40 / Uninoculated Control | R1 | 2022 | 0.9849155 | 0.03202469 | 440 | 1 | -0.4674560 | 0.64040505 | 255 | 211.82330 | -1.5 | -1.5% change\n",
       "p = 0.64 | 145.74963 |\n",
       "| PROVEN40 / Uninoculated Control | R1 | 2022 | 0.9849155 | 0.03202469 | 440 | 1 | -0.4674560 | 0.64040505 | 255 | 131.92841 | -1.5 | -1.5% change\n",
       "p = 0.64 | 145.74963 |\n",
       "| PROVEN40 / Uninoculated Control | R6 | 2022 | 1.0035339 | 0.03263007 | 440 | 1 |  0.1084944 | 0.91365296 | 0   |  97.06421 |  0.4 | 0.4% change\n",
       "p = 0.91  | 274.16041 |\n",
       "| PROVEN40 / Uninoculated Control | R6 | 2022 | 1.0035339 | 0.03263007 | 440 | 1 |  0.1084944 | 0.91365296 | 0   |  79.68292 |  0.4 | 0.4% change\n",
       "p = 0.91  | 274.16041 |\n",
       "| PROVEN40 / Uninoculated Control | R6 | 2022 | 1.0035339 | 0.03263007 | 440 | 1 |  0.1084944 | 0.91365296 | 95  | 195.11622 |  0.4 | 0.4% change\n",
       "p = 0.91  | 274.16041 |\n",
       "| PROVEN40 / Uninoculated Control | R6 | 2022 | 1.0035339 | 0.03263007 | 440 | 1 |  0.1084944 | 0.91365296 | 95  | 168.11523 |  0.4 | 0.4% change\n",
       "p = 0.91  | 274.16041 |\n",
       "| PROVEN40 / Uninoculated Control | R6 | 2022 | 1.0035339 | 0.03263007 | 440 | 1 |  0.1084944 | 0.91365296 | 135 | 219.29670 |  0.4 | 0.4% change\n",
       "p = 0.91  | 274.16041 |\n",
       "| PROVEN40 / Uninoculated Control | R6 | 2022 | 1.0035339 | 0.03263007 | 440 | 1 |  0.1084944 | 0.91365296 | 135 | 195.25470 |  0.4 | 0.4% change\n",
       "p = 0.91  | 274.16041 |\n",
       "| PROVEN40 / Uninoculated Control | R6 | 2022 | 1.0035339 | 0.03263007 | 440 | 1 |  0.1084944 | 0.91365296 | 175 | 234.36466 |  0.4 | 0.4% change\n",
       "p = 0.91  | 274.16041 |\n",
       "| PROVEN40 / Uninoculated Control | R6 | 2022 | 1.0035339 | 0.03263007 | 440 | 1 |  0.1084944 | 0.91365296 | 175 | 214.63745 |  0.4 | 0.4% change\n",
       "p = 0.91  | 274.16041 |\n",
       "| PROVEN40 / Uninoculated Control | R6 | 2022 | 1.0035339 | 0.03263007 | 440 | 1 |  0.1084944 | 0.91365296 | 215 | 261.11676 |  0.4 | 0.4% change\n",
       "p = 0.91  | 274.16041 |\n",
       "| PROVEN40 / Uninoculated Control | R6 | 2022 | 1.0035339 | 0.03263007 | 440 | 1 |  0.1084944 | 0.91365296 | 215 | 243.68537 |  0.4 | 0.4% change\n",
       "p = 0.91  | 274.16041 |\n",
       "| PROVEN40 / Uninoculated Control | R6 | 2022 | 1.0035339 | 0.03263007 | 440 | 1 |  0.1084944 | 0.91365296 | 255 | 261.42087 |  0.4 | 0.4% change\n",
       "p = 0.91  | 274.16041 |\n",
       "| PROVEN40 / Uninoculated Control | R6 | 2022 | 1.0035339 | 0.03263007 | 440 | 1 |  0.1084944 | 0.91365296 | 255 | 247.28828 |  0.4 | 0.4% change\n",
       "p = 0.91  | 274.16041 |\n",
       "\n"
      ],
      "text/plain": [
       "    contrast                        stage year ratio     SE         df  null\n",
       "1   PROVEN40 / Uninoculated Control V8    2021 1.185409  0.03773223 440 1   \n",
       "2   PROVEN40 / Uninoculated Control V8    2021 1.185409  0.03773223 440 1   \n",
       "3   PROVEN40 / Uninoculated Control V8    2021 1.185409  0.03773223 440 1   \n",
       "4   PROVEN40 / Uninoculated Control V8    2021 1.185409  0.03773223 440 1   \n",
       "5   PROVEN40 / Uninoculated Control V8    2021 1.185409  0.03773223 440 1   \n",
       "6   PROVEN40 / Uninoculated Control V8    2021 1.185409  0.03773223 440 1   \n",
       "7   PROVEN40 / Uninoculated Control V8    2021 1.185409  0.03773223 440 1   \n",
       "8   PROVEN40 / Uninoculated Control V8    2021 1.185409  0.03773223 440 1   \n",
       "9   PROVEN40 / Uninoculated Control V8    2021 1.185409  0.03773223 440 1   \n",
       "10  PROVEN40 / Uninoculated Control V8    2021 1.185409  0.03773223 440 1   \n",
       "11  PROVEN40 / Uninoculated Control V8    2021 1.185409  0.03773223 440 1   \n",
       "12  PROVEN40 / Uninoculated Control V8    2021 1.185409  0.03773223 440 1   \n",
       "13  PROVEN40 / Uninoculated Control R1    2021 1.039556  0.03308965 440 1   \n",
       "14  PROVEN40 / Uninoculated Control R1    2021 1.039556  0.03308965 440 1   \n",
       "15  PROVEN40 / Uninoculated Control R1    2021 1.039556  0.03308965 440 1   \n",
       "16  PROVEN40 / Uninoculated Control R1    2021 1.039556  0.03308965 440 1   \n",
       "17  PROVEN40 / Uninoculated Control R1    2021 1.039556  0.03308965 440 1   \n",
       "18  PROVEN40 / Uninoculated Control R1    2021 1.039556  0.03308965 440 1   \n",
       "19  PROVEN40 / Uninoculated Control R1    2021 1.039556  0.03308965 440 1   \n",
       "20  PROVEN40 / Uninoculated Control R1    2021 1.039556  0.03308965 440 1   \n",
       "21  PROVEN40 / Uninoculated Control R1    2021 1.039556  0.03308965 440 1   \n",
       "22  PROVEN40 / Uninoculated Control R1    2021 1.039556  0.03308965 440 1   \n",
       "23  PROVEN40 / Uninoculated Control R1    2021 1.039556  0.03308965 440 1   \n",
       "24  PROVEN40 / Uninoculated Control R1    2021 1.039556  0.03308965 440 1   \n",
       "25  PROVEN40 / Uninoculated Control R6    2021 1.000631  0.03185064 440 1   \n",
       "26  PROVEN40 / Uninoculated Control R6    2021 1.000631  0.03185064 440 1   \n",
       "27  PROVEN40 / Uninoculated Control R6    2021 1.000631  0.03185064 440 1   \n",
       "28  PROVEN40 / Uninoculated Control R6    2021 1.000631  0.03185064 440 1   \n",
       "29  PROVEN40 / Uninoculated Control R6    2021 1.000631  0.03185064 440 1   \n",
       "30  PROVEN40 / Uninoculated Control R6    2021 1.000631  0.03185064 440 1   \n",
       "... ...                             ...   ...  ...       ...        ... ... \n",
       "43  PROVEN40 / Uninoculated Control V8    2022 0.9298950 0.03023569 440 1   \n",
       "44  PROVEN40 / Uninoculated Control V8    2022 0.9298950 0.03023569 440 1   \n",
       "45  PROVEN40 / Uninoculated Control V8    2022 0.9298950 0.03023569 440 1   \n",
       "46  PROVEN40 / Uninoculated Control V8    2022 0.9298950 0.03023569 440 1   \n",
       "47  PROVEN40 / Uninoculated Control V8    2022 0.9298950 0.03023569 440 1   \n",
       "48  PROVEN40 / Uninoculated Control V8    2022 0.9298950 0.03023569 440 1   \n",
       "49  PROVEN40 / Uninoculated Control R1    2022 0.9849155 0.03202469 440 1   \n",
       "50  PROVEN40 / Uninoculated Control R1    2022 0.9849155 0.03202469 440 1   \n",
       "51  PROVEN40 / Uninoculated Control R1    2022 0.9849155 0.03202469 440 1   \n",
       "52  PROVEN40 / Uninoculated Control R1    2022 0.9849155 0.03202469 440 1   \n",
       "53  PROVEN40 / Uninoculated Control R1    2022 0.9849155 0.03202469 440 1   \n",
       "54  PROVEN40 / Uninoculated Control R1    2022 0.9849155 0.03202469 440 1   \n",
       "55  PROVEN40 / Uninoculated Control R1    2022 0.9849155 0.03202469 440 1   \n",
       "56  PROVEN40 / Uninoculated Control R1    2022 0.9849155 0.03202469 440 1   \n",
       "57  PROVEN40 / Uninoculated Control R1    2022 0.9849155 0.03202469 440 1   \n",
       "58  PROVEN40 / Uninoculated Control R1    2022 0.9849155 0.03202469 440 1   \n",
       "59  PROVEN40 / Uninoculated Control R1    2022 0.9849155 0.03202469 440 1   \n",
       "60  PROVEN40 / Uninoculated Control R1    2022 0.9849155 0.03202469 440 1   \n",
       "61  PROVEN40 / Uninoculated Control R6    2022 1.0035339 0.03263007 440 1   \n",
       "62  PROVEN40 / Uninoculated Control R6    2022 1.0035339 0.03263007 440 1   \n",
       "63  PROVEN40 / Uninoculated Control R6    2022 1.0035339 0.03263007 440 1   \n",
       "64  PROVEN40 / Uninoculated Control R6    2022 1.0035339 0.03263007 440 1   \n",
       "65  PROVEN40 / Uninoculated Control R6    2022 1.0035339 0.03263007 440 1   \n",
       "66  PROVEN40 / Uninoculated Control R6    2022 1.0035339 0.03263007 440 1   \n",
       "67  PROVEN40 / Uninoculated Control R6    2022 1.0035339 0.03263007 440 1   \n",
       "68  PROVEN40 / Uninoculated Control R6    2022 1.0035339 0.03263007 440 1   \n",
       "69  PROVEN40 / Uninoculated Control R6    2022 1.0035339 0.03263007 440 1   \n",
       "70  PROVEN40 / Uninoculated Control R6    2022 1.0035339 0.03263007 440 1   \n",
       "71  PROVEN40 / Uninoculated Control R6    2022 1.0035339 0.03263007 440 1   \n",
       "72  PROVEN40 / Uninoculated Control R6    2022 1.0035339 0.03263007 440 1   \n",
       "    t.ratio    p.value      n_rate response  pct_change\n",
       "1   5.34353741 1.465878e-07 0       33.59049 18.5      \n",
       "2   5.34353741 1.465878e-07 0       21.28160 18.5      \n",
       "3   5.34353741 1.465878e-07 95      38.33972 18.5      \n",
       "4   5.34353741 1.465878e-07 95      25.91727 18.5      \n",
       "5   5.34353741 1.465878e-07 135     36.42203 18.5      \n",
       "6   5.34353741 1.465878e-07 135     28.86489 18.5      \n",
       "7   5.34353741 1.465878e-07 175     39.49069 18.5      \n",
       "8   5.34353741 1.465878e-07 175     26.77143 18.5      \n",
       "9   5.34353741 1.465878e-07 215     40.34483 18.5      \n",
       "10  5.34353741 1.465878e-07 215     28.65162 18.5      \n",
       "11  5.34353741 1.465878e-07 255     40.36505 18.5      \n",
       "12  5.34353741 1.465878e-07 255     28.28892 18.5      \n",
       "13  1.21875181 2.235914e-01 0      105.18129  4.0      \n",
       "14  1.21875181 2.235914e-01 0       57.28000  4.0      \n",
       "15  1.21875181 2.235914e-01 95     183.87728  4.0      \n",
       "16  1.21875181 2.235914e-01 95     102.23349  4.0      \n",
       "17  1.21875181 2.235914e-01 135    198.77307  4.0      \n",
       "18  1.21875181 2.235914e-01 135    110.91170  4.0      \n",
       "19  1.21875181 2.235914e-01 175    210.95866  4.0      \n",
       "20  1.21875181 2.235914e-01 175    113.40453  4.0      \n",
       "21  1.21875181 2.235914e-01 215    214.96376  4.0      \n",
       "22  1.21875181 2.235914e-01 215    131.38858  4.0      \n",
       "23  1.21875181 2.235914e-01 255    211.82330  4.0      \n",
       "24  1.21875181 2.235914e-01 255    131.92841  4.0      \n",
       "25  0.01980995 9.842040e-01 0       97.06421  0.1      \n",
       "26  0.01980995 9.842040e-01 0       79.68292  0.1      \n",
       "27  0.01980995 9.842040e-01 95     195.11622  0.1      \n",
       "28  0.01980995 9.842040e-01 95     168.11523  0.1      \n",
       "29  0.01980995 9.842040e-01 135    219.29670  0.1      \n",
       "30  0.01980995 9.842040e-01 135    195.25470  0.1      \n",
       "... ...        ...          ...    ...       ...       \n",
       "43  -2.2353753 0.02589369   175     39.49069 -7.0      \n",
       "44  -2.2353753 0.02589369   175     26.77143 -7.0      \n",
       "45  -2.2353753 0.02589369   215     40.34483 -7.0      \n",
       "46  -2.2353753 0.02589369   215     28.65162 -7.0      \n",
       "47  -2.2353753 0.02589369   255     40.36505 -7.0      \n",
       "48  -2.2353753 0.02589369   255     28.28892 -7.0      \n",
       "49  -0.4674560 0.64040505   0      105.18129 -1.5      \n",
       "50  -0.4674560 0.64040505   0       57.28000 -1.5      \n",
       "51  -0.4674560 0.64040505   95     183.87728 -1.5      \n",
       "52  -0.4674560 0.64040505   95     102.23349 -1.5      \n",
       "53  -0.4674560 0.64040505   135    198.77307 -1.5      \n",
       "54  -0.4674560 0.64040505   135    110.91170 -1.5      \n",
       "55  -0.4674560 0.64040505   175    210.95866 -1.5      \n",
       "56  -0.4674560 0.64040505   175    113.40453 -1.5      \n",
       "57  -0.4674560 0.64040505   215    214.96376 -1.5      \n",
       "58  -0.4674560 0.64040505   215    131.38858 -1.5      \n",
       "59  -0.4674560 0.64040505   255    211.82330 -1.5      \n",
       "60  -0.4674560 0.64040505   255    131.92841 -1.5      \n",
       "61   0.1084944 0.91365296   0       97.06421  0.4      \n",
       "62   0.1084944 0.91365296   0       79.68292  0.4      \n",
       "63   0.1084944 0.91365296   95     195.11622  0.4      \n",
       "64   0.1084944 0.91365296   95     168.11523  0.4      \n",
       "65   0.1084944 0.91365296   135    219.29670  0.4      \n",
       "66   0.1084944 0.91365296   135    195.25470  0.4      \n",
       "67   0.1084944 0.91365296   175    234.36466  0.4      \n",
       "68   0.1084944 0.91365296   175    214.63745  0.4      \n",
       "69   0.1084944 0.91365296   215    261.11676  0.4      \n",
       "70   0.1084944 0.91365296   215    243.68537  0.4      \n",
       "71   0.1084944 0.91365296   255    261.42087  0.4      \n",
       "72   0.1084944 0.91365296   255    247.28828  0.4      \n",
       "    my_label                  max_value\n",
       "1   18.5% change\\np = 1.5e-07  52.85071\n",
       "2   18.5% change\\np = 1.5e-07  52.85071\n",
       "3   18.5% change\\np = 1.5e-07  52.85071\n",
       "4   18.5% change\\np = 1.5e-07  52.85071\n",
       "5   18.5% change\\np = 1.5e-07  52.85071\n",
       "6   18.5% change\\np = 1.5e-07  52.85071\n",
       "7   18.5% change\\np = 1.5e-07  52.85071\n",
       "8   18.5% change\\np = 1.5e-07  52.85071\n",
       "9   18.5% change\\np = 1.5e-07  52.85071\n",
       "10  18.5% change\\np = 1.5e-07  52.85071\n",
       "11  18.5% change\\np = 1.5e-07  52.85071\n",
       "12  18.5% change\\np = 1.5e-07  52.85071\n",
       "13  4% change\\np = 0.22       246.82562\n",
       "14  4% change\\np = 0.22       246.82562\n",
       "15  4% change\\np = 0.22       246.82562\n",
       "16  4% change\\np = 0.22       246.82562\n",
       "17  4% change\\np = 0.22       246.82562\n",
       "18  4% change\\np = 0.22       246.82562\n",
       "19  4% change\\np = 0.22       246.82562\n",
       "20  4% change\\np = 0.22       246.82562\n",
       "21  4% change\\np = 0.22       246.82562\n",
       "22  4% change\\np = 0.22       246.82562\n",
       "23  4% change\\np = 0.22       246.82562\n",
       "24  4% change\\np = 0.22       246.82562\n",
       "25  0.1% change\\np = 0.98     288.92909\n",
       "26  0.1% change\\np = 0.98     288.92909\n",
       "27  0.1% change\\np = 0.98     288.92909\n",
       "28  0.1% change\\np = 0.98     288.92909\n",
       "29  0.1% change\\np = 0.98     288.92909\n",
       "30  0.1% change\\np = 0.98     288.92909\n",
       "... ...                       ...      \n",
       "43  -7% change\\np = 0.026      32.08713\n",
       "44  -7% change\\np = 0.026      32.08713\n",
       "45  -7% change\\np = 0.026      32.08713\n",
       "46  -7% change\\np = 0.026      32.08713\n",
       "47  -7% change\\np = 0.026      32.08713\n",
       "48  -7% change\\np = 0.026      32.08713\n",
       "49  -1.5% change\\np = 0.64    145.74963\n",
       "50  -1.5% change\\np = 0.64    145.74963\n",
       "51  -1.5% change\\np = 0.64    145.74963\n",
       "52  -1.5% change\\np = 0.64    145.74963\n",
       "53  -1.5% change\\np = 0.64    145.74963\n",
       "54  -1.5% change\\np = 0.64    145.74963\n",
       "55  -1.5% change\\np = 0.64    145.74963\n",
       "56  -1.5% change\\np = 0.64    145.74963\n",
       "57  -1.5% change\\np = 0.64    145.74963\n",
       "58  -1.5% change\\np = 0.64    145.74963\n",
       "59  -1.5% change\\np = 0.64    145.74963\n",
       "60  -1.5% change\\np = 0.64    145.74963\n",
       "61  0.4% change\\np = 0.91     274.16041\n",
       "62  0.4% change\\np = 0.91     274.16041\n",
       "63  0.4% change\\np = 0.91     274.16041\n",
       "64  0.4% change\\np = 0.91     274.16041\n",
       "65  0.4% change\\np = 0.91     274.16041\n",
       "66  0.4% change\\np = 0.91     274.16041\n",
       "67  0.4% change\\np = 0.91     274.16041\n",
       "68  0.4% change\\np = 0.91     274.16041\n",
       "69  0.4% change\\np = 0.91     274.16041\n",
       "70  0.4% change\\np = 0.91     274.16041\n",
       "71  0.4% change\\np = 0.91     274.16041\n",
       "72  0.4% change\\np = 0.91     274.16041"
      ]
     },
     "metadata": {},
     "output_type": "display_data"
    }
   ],
   "source": [
    "up_n_mod_trt_contrast <- emmeans(up_n_mod, ~ microbe, by = c(\"stage\",\"year\"), type = \"response\") %>% \n",
    "pairs(reverse = TRUE,  adjust = \"Tukey\") %>% \n",
    "data.frame()\n",
    "\n",
    "up_n_mod_trt_contrast <- \n",
    "up_n_mod_trt_contrast %>%\n",
    "left_join(as.data.frame(up_n_mod_means) %>% filter(microbe == \"Uninoculated Control\") %>% dplyr::select(stage,n_rate,response))  %>% \n",
    "mutate(pct_change = round(ratio - 1,3)*100,\n",
    "my_label = \n",
    "paste0(\n",
    "    pct_change,\"% change\\n\",\n",
    "    \"p = \",signif(p.value,2)\n",
    "    )\n",
    ") %>% \n",
    "left_join(up_n_mod_means %>% \n",
    "as.data.frame() %>%  \n",
    "group_by(stage,year) %>% \n",
    "summarize(max_value = max(upper.CL, na.rm = T)))\n",
    "\n",
    "up_n_mod_trt_contrast\n",
    " "
   ]
  },
  {
   "cell_type": "code",
   "execution_count": 41,
   "metadata": {
    "vscode": {
     "languageId": "r"
    }
   },
   "outputs": [
    {
     "name": "stderr",
     "output_type": "stream",
     "text": [
      "Warning message in geom_errorbar(aes(ymax = upper.CL, ymin = lower.CL, fill = microbe), :\n",
      "\"\u001b[1m\u001b[22mIgnoring unknown aesthetics: \u001b[32mfill\u001b[39m\"\n"
     ]
    },
    {
     "data": {
      "image/png": "[encoded data removed]",
      "text/plain": [
       "plot without title"
      ]
     },
     "metadata": {
      "image/png": {
       "height": 480,
       "width": 600
      }
     },
     "output_type": "display_data"
    }
   ],
   "source": [
    "\n",
    "options(repr.plot.width=10, repr.plot.height=8)\n",
    "\n",
    "\n",
    "up_n_plot <-\n",
    "as.data.frame(up_n_mod_means) %>%  \n",
    "ggplot(aes(factor(round(as.numeric(as.character(n_rate))*1.12 + 10,0)),response)) + \n",
    "geom_point(aes(colour = microbe, fill = microbe, shape = microbe), position = position_dodge(width = 0.4), size = 4, colour = \"gray10\") +\n",
    "geom_errorbar(aes(ymax = upper.CL, ymin = lower.CL,  fill = microbe), width = 0, position = position_dodge(width = 0.4), lwd = 1) + \n",
    "labs(y = expression(\"Shoot biomass N (kg N\"~ha^-1*\")\"), x = expression(\"N fertilizer rate (kg N\"~ha^-1*\")\"), shape = \"Treatment\", fill = \"Treatment\") + \n",
    "scale_fill_manual(values = myColorPalette) +\n",
    "scale_shape_manual(values = c(21,22)) + \n",
    "geom_text(aes(y = (max_value) + 1.5, label = my_label), data = up_n_mod_trt_contrast %>% filter(n_rate == 0), colour = \"gray10\", vjust = 1, hjust = 0, size = 4.5) + \n",
    "facet_wrap(year~stage, scales = \"free_y\") + \n",
    "theme(legend.position = \"top\")\n",
    "\n",
    "up_n_plot\n",
    "\n",
    "ggsave(\"./figures/shoot_biomass_n.png\",width =10, height = 8, dpi = 300, bg = \"white\")\n"
   ]
  },
  {
   "cell_type": "code",
   "execution_count": null,
   "metadata": {
    "vscode": {
     "languageId": "r"
    }
   },
   "outputs": [],
   "source": []
  },
  {
   "cell_type": "code",
   "execution_count": 42,
   "metadata": {
    "vscode": {
     "languageId": "r"
    }
   },
   "outputs": [
    {
     "data": {
      "text/html": [
       "<table class=\"dataframe\">\n",
       "<caption>A data.frame: 2 × 18</caption>\n",
       "<thead>\n",
       "\t<tr><th scope=col>stage</th><th scope=col>microbe</th><th scope=col>year</th><th scope=col>response</th><th scope=col>SE.x</th><th scope=col>df.x</th><th scope=col>lower.CL</th><th scope=col>upper.CL</th><th scope=col>contrast</th><th scope=col>ratio</th><th scope=col>SE.y</th><th scope=col>df.y</th><th scope=col>null</th><th scope=col>t.ratio</th><th scope=col>p.value</th><th scope=col>ndfa</th><th scope=col>my_label</th><th scope=col>max_value</th></tr>\n",
       "\t<tr><th scope=col>&lt;fct&gt;</th><th scope=col>&lt;fct&gt;</th><th scope=col>&lt;dbl&gt;</th><th scope=col>&lt;dbl&gt;</th><th scope=col>&lt;dbl&gt;</th><th scope=col>&lt;dbl&gt;</th><th scope=col>&lt;dbl&gt;</th><th scope=col>&lt;dbl&gt;</th><th scope=col>&lt;fct&gt;</th><th scope=col>&lt;dbl&gt;</th><th scope=col>&lt;dbl&gt;</th><th scope=col>&lt;dbl&gt;</th><th scope=col>&lt;dbl&gt;</th><th scope=col>&lt;dbl&gt;</th><th scope=col>&lt;dbl&gt;</th><th scope=col>&lt;dbl&gt;</th><th scope=col>&lt;chr&gt;</th><th scope=col>&lt;dbl&gt;</th></tr>\n",
       "</thead>\n",
       "<tbody>\n",
       "\t<tr><td>R1</td><td>PROVEN40</td><td>2021</td><td>189.7032</td><td>4.784642</td><td>420.0408</td><td>180.52766</td><td>199.3450</td><td>PROVEN40 / Uninoculated Control</td><td>0.8976056</td><td>0.04318890</td><td>223.0124</td><td>1</td><td>-2.245099</td><td>0.02574280</td><td>10.2</td><td>Ndfa = 10.2%\n",
       "p = 0.026      </td><td>2.062464</td></tr>\n",
       "\t<tr><td>R1</td><td>PROVEN40</td><td>2022</td><td>102.5846</td><td>2.646164</td><td>419.5553</td><td> 97.51291</td><td>107.9201</td><td>PROVEN40 / Uninoculated Control</td><td>0.8640633</td><td>0.07358159</td><td>214.0130</td><td>1</td><td>-1.715751</td><td>0.08765486</td><td>13.6</td><td>Ndfa = 13.6%\n",
       "p-value = 0.088</td><td>1.278412</td></tr>\n",
       "</tbody>\n",
       "</table>\n"
      ],
      "text/latex": [
       "A data.frame: 2 × 18\n",
       "\\begin{tabular}{llllllllllllllllll}\n",
       " stage & microbe & year & response & SE.x & df.x & lower.CL & upper.CL & contrast & ratio & SE.y & df.y & null & t.ratio & p.value & ndfa & my\\_label & max\\_value\\\\\n",
       " <fct> & <fct> & <dbl> & <dbl> & <dbl> & <dbl> & <dbl> & <dbl> & <fct> & <dbl> & <dbl> & <dbl> & <dbl> & <dbl> & <dbl> & <dbl> & <chr> & <dbl>\\\\\n",
       "\\hline\n",
       "\t R1 & PROVEN40 & 2021 & 189.7032 & 4.784642 & 420.0408 & 180.52766 & 199.3450 & PROVEN40 / Uninoculated Control & 0.8976056 & 0.04318890 & 223.0124 & 1 & -2.245099 & 0.02574280 & 10.2 & Ndfa = 10.2\\%\n",
       "p = 0.026       & 2.062464\\\\\n",
       "\t R1 & PROVEN40 & 2022 & 102.5846 & 2.646164 & 419.5553 &  97.51291 & 107.9201 & PROVEN40 / Uninoculated Control & 0.8640633 & 0.07358159 & 214.0130 & 1 & -1.715751 & 0.08765486 & 13.6 & Ndfa = 13.6\\%\n",
       "p-value = 0.088 & 1.278412\\\\\n",
       "\\end{tabular}\n"
      ],
      "text/markdown": [
       "\n",
       "A data.frame: 2 × 18\n",
       "\n",
       "| stage &lt;fct&gt; | microbe &lt;fct&gt; | year &lt;dbl&gt; | response &lt;dbl&gt; | SE.x &lt;dbl&gt; | df.x &lt;dbl&gt; | lower.CL &lt;dbl&gt; | upper.CL &lt;dbl&gt; | contrast &lt;fct&gt; | ratio &lt;dbl&gt; | SE.y &lt;dbl&gt; | df.y &lt;dbl&gt; | null &lt;dbl&gt; | t.ratio &lt;dbl&gt; | p.value &lt;dbl&gt; | ndfa &lt;dbl&gt; | my_label &lt;chr&gt; | max_value &lt;dbl&gt; |\n",
       "|---|---|---|---|---|---|---|---|---|---|---|---|---|---|---|---|---|---|\n",
       "| R1 | PROVEN40 | 2021 | 189.7032 | 4.784642 | 420.0408 | 180.52766 | 199.3450 | PROVEN40 / Uninoculated Control | 0.8976056 | 0.04318890 | 223.0124 | 1 | -2.245099 | 0.02574280 | 10.2 | Ndfa = 10.2%\n",
       "p = 0.026       | 2.062464 |\n",
       "| R1 | PROVEN40 | 2022 | 102.5846 | 2.646164 | 419.5553 |  97.51291 | 107.9201 | PROVEN40 / Uninoculated Control | 0.8640633 | 0.07358159 | 214.0130 | 1 | -1.715751 | 0.08765486 | 13.6 | Ndfa = 13.6%\n",
       "p-value = 0.088 | 1.278412 |\n",
       "\n"
      ],
      "text/plain": [
       "  stage microbe  year response SE.x     df.x     lower.CL  upper.CL\n",
       "1 R1    PROVEN40 2021 189.7032 4.784642 420.0408 180.52766 199.3450\n",
       "2 R1    PROVEN40 2022 102.5846 2.646164 419.5553  97.51291 107.9201\n",
       "  contrast                        ratio     SE.y       df.y     null t.ratio  \n",
       "1 PROVEN40 / Uninoculated Control 0.8976056 0.04318890 223.0124 1    -2.245099\n",
       "2 PROVEN40 / Uninoculated Control 0.8640633 0.07358159 214.0130 1    -1.715751\n",
       "  p.value    ndfa my_label                      max_value\n",
       "1 0.02574280 10.2 Ndfa = 10.2%\\np = 0.026       2.062464 \n",
       "2 0.08765486 13.6 Ndfa = 13.6%\\np-value = 0.088 1.278412 "
      ]
     },
     "metadata": {},
     "output_type": "display_data"
    }
   ],
   "source": [
    "ndfa_join <- emmeans(up_n_mod, ~ stage*microbe*year,  type = \"response\") %>% \n",
    "data.frame() %>% \n",
    "filter(microbe == \"PROVEN40\", stage == \"R1\") %>% \n",
    "mutate(year = as.numeric(as.character(year))) %>%\n",
    "left_join(readRDS(\"./datasets/UPurdue_whole_plant_d15n.rds\"), by =c(\"year\",\"stage\"))\n",
    "\n",
    "ndfa_join\n"
   ]
  },
  {
   "cell_type": "code",
   "execution_count": 43,
   "metadata": {
    "vscode": {
     "languageId": "r"
    }
   },
   "outputs": [
    {
     "data": {
      "text/html": [
       "<table class=\"dataframe\">\n",
       "<caption>A data.frame: 2 × 10</caption>\n",
       "<thead>\n",
       "\t<tr><th scope=col>year</th><th scope=col>response</th><th scope=col>response_se</th><th scope=col>ndfa</th><th scope=col>ratio_se</th><th scope=col>ndfa_nmass</th><th scope=col>ndfa_nmass_se</th><th scope=col>margin</th><th scope=col>ndfa_nmass_upperCL</th><th scope=col>ndfa_nmass_lowerCL</th></tr>\n",
       "\t<tr><th scope=col>&lt;dbl&gt;</th><th scope=col>&lt;dbl&gt;</th><th scope=col>&lt;dbl&gt;</th><th scope=col>&lt;dbl&gt;</th><th scope=col>&lt;dbl&gt;</th><th scope=col>&lt;dbl&gt;</th><th scope=col>&lt;dbl&gt;</th><th scope=col>&lt;dbl&gt;</th><th scope=col>&lt;dbl&gt;</th><th scope=col>&lt;dbl&gt;</th></tr>\n",
       "</thead>\n",
       "<tbody>\n",
       "\t<tr><td>2021</td><td>189.7</td><td>4.785</td><td>0.1024</td><td>0.04319</td><td>19.42</td><td>8.208</td><td>16.17</td><td>35.60</td><td> 3.2500</td></tr>\n",
       "\t<tr><td>2022</td><td>102.6</td><td>2.646</td><td>0.1359</td><td>0.07358</td><td>13.95</td><td>7.557</td><td>14.90</td><td>28.84</td><td>-0.9505</td></tr>\n",
       "</tbody>\n",
       "</table>\n"
      ],
      "text/latex": [
       "A data.frame: 2 × 10\n",
       "\\begin{tabular}{llllllllll}\n",
       " year & response & response\\_se & ndfa & ratio\\_se & ndfa\\_nmass & ndfa\\_nmass\\_se & margin & ndfa\\_nmass\\_upperCL & ndfa\\_nmass\\_lowerCL\\\\\n",
       " <dbl> & <dbl> & <dbl> & <dbl> & <dbl> & <dbl> & <dbl> & <dbl> & <dbl> & <dbl>\\\\\n",
       "\\hline\n",
       "\t 2021 & 189.7 & 4.785 & 0.1024 & 0.04319 & 19.42 & 8.208 & 16.17 & 35.60 &  3.2500\\\\\n",
       "\t 2022 & 102.6 & 2.646 & 0.1359 & 0.07358 & 13.95 & 7.557 & 14.90 & 28.84 & -0.9505\\\\\n",
       "\\end{tabular}\n"
      ],
      "text/markdown": [
       "\n",
       "A data.frame: 2 × 10\n",
       "\n",
       "| year &lt;dbl&gt; | response &lt;dbl&gt; | response_se &lt;dbl&gt; | ndfa &lt;dbl&gt; | ratio_se &lt;dbl&gt; | ndfa_nmass &lt;dbl&gt; | ndfa_nmass_se &lt;dbl&gt; | margin &lt;dbl&gt; | ndfa_nmass_upperCL &lt;dbl&gt; | ndfa_nmass_lowerCL &lt;dbl&gt; |\n",
       "|---|---|---|---|---|---|---|---|---|---|\n",
       "| 2021 | 189.7 | 4.785 | 0.1024 | 0.04319 | 19.42 | 8.208 | 16.17 | 35.60 |  3.2500 |\n",
       "| 2022 | 102.6 | 2.646 | 0.1359 | 0.07358 | 13.95 | 7.557 | 14.90 | 28.84 | -0.9505 |\n",
       "\n"
      ],
      "text/plain": [
       "  year response response_se ndfa   ratio_se ndfa_nmass ndfa_nmass_se margin\n",
       "1 2021 189.7    4.785       0.1024 0.04319  19.42      8.208         16.17 \n",
       "2 2022 102.6    2.646       0.1359 0.07358  13.95      7.557         14.90 \n",
       "  ndfa_nmass_upperCL ndfa_nmass_lowerCL\n",
       "1 35.60               3.2500           \n",
       "2 28.84              -0.9505           "
      ]
     },
     "metadata": {},
     "output_type": "display_data"
    }
   ],
   "source": [
    "ndfa_join %>%\n",
    "transmute(\n",
    "    year,\n",
    "    response,\n",
    "    response_se = SE.x,\n",
    "    ndfa = 1 - ratio,\n",
    "    ratio_se = SE.y,\n",
    "    ndfa_nmass = (1 - ratio)*response,\n",
    "    ndfa_nmass_se = ndfa_nmass*sqrt((SE.x/response)^2 + (SE.y/(1-ratio))^2),\n",
    "    margin =  qt(1 - 0.05/2,df=df.y)*ndfa_nmass_se,\n",
    "    ndfa_nmass_upperCL =  ndfa_nmass + margin,\n",
    "    ndfa_nmass_lowerCL =  ndfa_nmass - margin) %>%\n",
    "mutate_all(signif,digits = 4)\n"
   ]
  }
 ],
 "metadata": {
  "kernelspec": {
   "display_name": "R",
   "language": "R",
   "name": "ir"
  },
  "language_info": {
   "codemirror_mode": "r",
   "file_extension": ".r",
   "mimetype": "text/x-r-source",
   "name": "R",
   "pygments_lexer": "r",
   "version": "4.1.3"
  }
 },
 "nbformat": 4,
 "nbformat_minor": 2
}
