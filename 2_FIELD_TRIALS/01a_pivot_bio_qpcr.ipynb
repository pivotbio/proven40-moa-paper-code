{
 "cells": [
  {
   "cell_type": "code",
   "execution_count": 1,
   "metadata": {
    "vscode": {
     "languageId": "r"
    }
   },
   "outputs": [
    {
     "name": "stdout",
     "output_type": "stream",
     "text": [
      "Pivot Bio, Inc.\n",
      "This code performs analyses supporting findings of the paper entitled:\n",
      "\"Genetic remodeling of soil diazotrophs enables partial replacement of synthetic nitrogen fertilizer with biological nitrogen fixation in maize\".\n",
      "\n",
      "##------ Thu Jun 06 09:58:14 2024 ------## \n",
      "Loaded packages:  tidyverse, readxl, broom, foreach, nlme, lme4, lmerTest, glmmTMB, car, DHARMa, caret, emmeans, multcomp, ggpubr, scales, png, ggthemes and their dependencies.\n",
      "A complete list of packages used in the analysis is provided in the `packages_citations.txt` file.\n"
     ]
    }
   ],
   "source": [
    "source('../load_environment.R')\n",
    "options(repr.plot.width=8, repr.plot.height=4)"
   ]
  },
  {
   "cell_type": "markdown",
   "metadata": {},
   "source": [
    "## Prepare data"
   ]
  },
  {
   "cell_type": "code",
   "execution_count": 2,
   "metadata": {
    "vscode": {
     "languageId": "r"
    }
   },
   "outputs": [
    {
     "data": {
      "text/plain": [
       "     trial     rep     rate                       trt         target_strain\n",
       " IA03451: 60   1:89   0  :106   Uninoculated Control:106   Ks6-5687  :267  \n",
       " IL01451: 60   2:90   1e2:108   PROVEN 40           :429   Kv137-2253:268  \n",
       " IL03451: 60   3:90   1e3:107                                              \n",
       " IN01451: 60   4:88   1e4:108                                              \n",
       " IN02451: 60   5:88   1e5:106                                              \n",
       " MI01451: 60   6:90                                                        \n",
       " (Other):175                                                               \n",
       " copies_per_g_fw      rate_num      rate_ord \n",
       " Min.   :      0   Min.   :     0   0  :106  \n",
       " 1st Qu.:     12   1st Qu.:   100   1e2:108  \n",
       " Median :    377   Median :  1000   1e3:107  \n",
       " Mean   :  38913   Mean   : 22052   1e4:108  \n",
       " 3rd Qu.:   8059   3rd Qu.: 10000   1e5:106  \n",
       " Max.   :4706016   Max.   :100000            \n",
       "                                             "
      ]
     },
     "metadata": {},
     "output_type": "display_data"
    }
   ],
   "source": [
    "qpcr <- read_csv(\"./datasets/pivot_bio_trials_qpcr.csv\", col_types = \"cccccn\")  #%>% filter(formulation != \"F1\", rate %in% c(\"0\",\"1e3\",\"1e5\"))\n",
    "\n",
    "# Recode factors\n",
    "qpcr <- qpcr %>% mutate_at(c(\"trial\",\"rep\",\"rate\",\"target_strain\"), factor)\n",
    "qpcr$rate_num <- as.numeric(as.character(qpcr$rate))\n",
    "qpcr$rate_ord <- ordered(qpcr$rate)\n",
    "qpcr$trt <- factor(qpcr$trt, levels = c('UTC','PROVEN40'), labels = c('Uninoculated Control','PROVEN 40'))\n",
    "qpcr$target_strain <- factor(qpcr$target_strain, levels = c('6-5687','137-2253'), labels = c('Ks6-5687','Kv137-2253'))\n",
    "\n",
    "summary(qpcr)"
   ]
  },
  {
   "cell_type": "markdown",
   "metadata": {},
   "source": [
    "## First try"
   ]
  },
  {
   "cell_type": "code",
   "execution_count": 3,
   "metadata": {
    "vscode": {
     "languageId": "r"
    }
   },
   "outputs": [
    {
     "data": {
      "image/png": "[encoded data removed]",
      "text/plain": [
       "Plot with title \"Histogram of qpcr$copies_per_g_fw\""
      ]
     },
     "metadata": {
      "image/png": {
       "height": 240,
       "width": 480
      }
     },
     "output_type": "display_data"
    }
   ],
   "source": [
    "hist(qpcr$copies_per_g_fw)"
   ]
  },
  {
   "cell_type": "markdown",
   "metadata": {},
   "source": [
    "## Model terms\n",
    "- `rate` = Fixed effect of inoculation rate\n",
    "- `target_strain` = fixed effect of the target strain is the primer looking for\n",
    "- `1|trial/rep/rate` = Random effect of the plot within the rep within the trial (note: 2 plants were sampled from each plot)"
   ]
  },
  {
   "cell_type": "code",
   "execution_count": 4,
   "metadata": {
    "vscode": {
     "languageId": "r"
    }
   },
   "outputs": [],
   "source": [
    "qpcr_mod_1 <- lmer(copies_per_g_fw ~ rate*target_strain + (1|trial/rep), data = qpcr)"
   ]
  },
  {
   "cell_type": "code",
   "execution_count": 5,
   "metadata": {
    "vscode": {
     "languageId": "r"
    }
   },
   "outputs": [
    {
     "name": "stderr",
     "output_type": "stream",
     "text": [
      "Warning message in asinh(z):\n",
      "\"NaNs produced\"\n",
      "Warning message in asinh(z):\n",
      "\"NaNs produced\"\n",
      "Warning message in asinh(z):\n",
      "\"NaNs produced\"\n",
      "Warning message in asinh(z):\n",
      "\"NaNs produced\"\n",
      "Warning message in asinh(z):\n",
      "\"NaNs produced\"\n",
      "Warning message in asinh(z):\n",
      "\"NaNs produced\"\n"
     ]
    },
    {
     "data": {
      "image/png": "[encoded data removed]",
      "text/plain": [
       "Plot with title \"Residual vs. predicted\n",
       "Quantile deviations detected (red curves)\n",
       "Combined adjusted quantile test significant\""
      ]
     },
     "metadata": {
      "image/png": {
       "height": 240,
       "width": 480
      }
     },
     "output_type": "display_data"
    }
   ],
   "source": [
    "qpcr_mod_1_sims  <- simulateResiduals(fittedModel = qpcr_mod_1, plot = T)"
   ]
  },
  {
   "cell_type": "markdown",
   "metadata": {},
   "source": [
    "### Lots of issues:\n",
    "\n",
    "- Lots of zeroes\n",
    "- High variance\n",
    "\n",
    "Consider a log transformation to deal with high variance. Becasue of the zeores in the data we'll use:\n",
    "\n",
    "`log(y + 1)`\n",
    "\n",
    "This will keep the zeroes intact. \n",
    "\n",
    "## Model 2"
   ]
  },
  {
   "cell_type": "code",
   "execution_count": 6,
   "metadata": {
    "vscode": {
     "languageId": "r"
    }
   },
   "outputs": [
    {
     "data": {
      "image/png": "[encoded data removed]",
      "text/plain": [
       "Plot with title \"Histogram of log(qpcr$copies_per_g_fw + 1)\""
      ]
     },
     "metadata": {
      "image/png": {
       "height": 240,
       "width": 480
      }
     },
     "output_type": "display_data"
    }
   ],
   "source": [
    "hist(log(qpcr$copies_per_g_fw+1))"
   ]
  },
  {
   "cell_type": "code",
   "execution_count": 7,
   "metadata": {
    "vscode": {
     "languageId": "r"
    }
   },
   "outputs": [],
   "source": [
    "qpcr_mod_2 <- lmer(log(copies_per_g_fw + 1) ~ rate*target_strain + (1|trial/rep), data = qpcr)"
   ]
  },
  {
   "cell_type": "code",
   "execution_count": 8,
   "metadata": {
    "vscode": {
     "languageId": "r"
    }
   },
   "outputs": [
    {
     "data": {
      "image/png": "[encoded data removed]",
      "text/plain": [
       "Plot with title \"Residual vs. predicted\n",
       "Quantile deviations detected (red curves)\n",
       "Combined adjusted quantile test significant\""
      ]
     },
     "metadata": {
      "image/png": {
       "height": 240,
       "width": 480
      }
     },
     "output_type": "display_data"
    }
   ],
   "source": [
    "qpcr_mod_2_sims  <- simulateResiduals(fittedModel = qpcr_mod_2, plot = T)"
   ]
  },
  {
   "cell_type": "code",
   "execution_count": 9,
   "metadata": {
    "vscode": {
     "languageId": "r"
    }
   },
   "outputs": [
    {
     "data": {
      "text/plain": [
       "\n",
       "\tDHARMa zero-inflation test via comparison to expected zeros with\n",
       "\tsimulation under H0 = fitted model\n",
       "\n",
       "data:  simulationOutput\n",
       "ratioObsSim = Inf, p-value < 2.2e-16\n",
       "alternative hypothesis: two.sided\n"
      ]
     },
     "metadata": {},
     "output_type": "display_data"
    },
    {
     "data": {
      "image/png": "[encoded data removed]",
      "text/plain": [
       "Plot with title \"DHARMa zero-inflation test via comparison to\n",
       "expected zeros with simulation under H0 = fitted\n",
       "model\n",
       "\""
      ]
     },
     "metadata": {
      "image/png": {
       "height": 240,
       "width": 480
      }
     },
     "output_type": "display_data"
    }
   ],
   "source": [
    "testZeroInflation(qpcr_mod_2)"
   ]
  },
  {
   "cell_type": "markdown",
   "metadata": {},
   "source": [
    "OK, better. But still have the issue with the zero-inflation. \n",
    "\n",
    "## Model 3\n",
    "\n",
    "Try to fit a zero-inflated model to deal with this. \n",
    "\n",
    "A zero-inflated model adds structural zeros to allow for the higher number of zeros than expected by a normal distribution. \n",
    "\n",
    "The probability of having a structural zero is always modeled with a logit link to keep it between 0 and 1, i.e.\n",
    "\n",
    "`logit(p)=β0+ β1x + ... + β1n`\n",
    "\n",
    "where p is the probability of having a structural zero. \n",
    "\n",
    "Will use `glmmTMB` to acomplisht this. More about  glmmTMB here: https://rpubs.com/mmcgillycuddy/737181\n"
   ]
  },
  {
   "cell_type": "code",
   "execution_count": 10,
   "metadata": {
    "vscode": {
     "languageId": "r"
    }
   },
   "outputs": [],
   "source": [
    "qpcr_mod_3 <- glmmTMB(log(copies_per_g_fw + 1) ~ rate*target_strain + (1|trial/rep),\n",
    "                        zi=~., # This is the zero-inflated model specification. For now, we keep the same as the conditional model\n",
    "                        #dispformula = ~  rate, # ErrVar = 0\n",
    "                        family = \"gaussian\",\n",
    "                        data = qpcr)"
   ]
  },
  {
   "cell_type": "code",
   "execution_count": 11,
   "metadata": {
    "vscode": {
     "languageId": "r"
    }
   },
   "outputs": [
    {
     "data": {
      "image/png": "[encoded data removed]",
      "text/plain": [
       "Plot with title \"Residual vs. predicted\n",
       "Quantile deviations detected (red curves)\n",
       "Combined adjusted quantile test significant\""
      ]
     },
     "metadata": {
      "image/png": {
       "height": 240,
       "width": 480
      }
     },
     "output_type": "display_data"
    }
   ],
   "source": [
    "qpcr_mod_3_sims  <- simulateResiduals(fittedModel = qpcr_mod_3, plot = T)"
   ]
  },
  {
   "cell_type": "code",
   "execution_count": 12,
   "metadata": {
    "vscode": {
     "languageId": "r"
    }
   },
   "outputs": [
    {
     "data": {
      "text/plain": [
       "\n",
       "\tDHARMa zero-inflation test via comparison to expected zeros with\n",
       "\tsimulation under H0 = fitted model\n",
       "\n",
       "data:  simulationOutput\n",
       "ratioObsSim = 1.002, p-value = 0.984\n",
       "alternative hypothesis: two.sided\n"
      ]
     },
     "metadata": {},
     "output_type": "display_data"
    },
    {
     "data": {
      "image/png": "[encoded data removed]",
      "text/plain": [
       "Plot with title \"DHARMa zero-inflation test via comparison to\n",
       "expected zeros with simulation under H0 = fitted\n",
       "model\n",
       "\""
      ]
     },
     "metadata": {
      "image/png": {
       "height": 240,
       "width": 480
      }
     },
     "output_type": "display_data"
    }
   ],
   "source": [
    "testZeroInflation(qpcr_mod_3)"
   ]
  },
  {
   "cell_type": "code",
   "execution_count": 13,
   "metadata": {
    "vscode": {
     "languageId": "r"
    }
   },
   "outputs": [
    {
     "data": {
      "text/html": [
       "<table class=\"dataframe\">\n",
       "<caption>A data.frame: 2 × 2</caption>\n",
       "<thead>\n",
       "\t<tr><th></th><th scope=col>df</th><th scope=col>BIC</th></tr>\n",
       "\t<tr><th></th><th scope=col>&lt;dbl&gt;</th><th scope=col>&lt;dbl&gt;</th></tr>\n",
       "</thead>\n",
       "<tbody>\n",
       "\t<tr><th scope=row>qpcr_mod_2</th><td>13</td><td>2725.036</td></tr>\n",
       "\t<tr><th scope=row>qpcr_mod_3</th><td>25</td><td>2365.911</td></tr>\n",
       "</tbody>\n",
       "</table>\n"
      ],
      "text/latex": [
       "A data.frame: 2 × 2\n",
       "\\begin{tabular}{r|ll}\n",
       "  & df & BIC\\\\\n",
       "  & <dbl> & <dbl>\\\\\n",
       "\\hline\n",
       "\tqpcr\\_mod\\_2 & 13 & 2725.036\\\\\n",
       "\tqpcr\\_mod\\_3 & 25 & 2365.911\\\\\n",
       "\\end{tabular}\n"
      ],
      "text/markdown": [
       "\n",
       "A data.frame: 2 × 2\n",
       "\n",
       "| <!--/--> | df &lt;dbl&gt; | BIC &lt;dbl&gt; |\n",
       "|---|---|---|\n",
       "| qpcr_mod_2 | 13 | 2725.036 |\n",
       "| qpcr_mod_3 | 25 | 2365.911 |\n",
       "\n"
      ],
      "text/plain": [
       "           df BIC     \n",
       "qpcr_mod_2 13 2725.036\n",
       "qpcr_mod_3 25 2365.911"
      ]
     },
     "metadata": {},
     "output_type": "display_data"
    }
   ],
   "source": [
    "BIC(qpcr_mod_2,qpcr_mod_3)"
   ]
  },
  {
   "cell_type": "markdown",
   "metadata": {},
   "source": [
    "This model helped with dealing with the zero-infation, but it the residuals still appear a bit overdispersed (i.e., residual variance is larger than expected under the fitted model), particularly in the 3rd and 4th quartilies of the data.\n",
    "\n",
    "If overdispersion is present, confidence intervals tend to be too narrow, and p-values to small, leading to inflated type I error. \n",
    "\n",
    "\n",
    "## Model 4\n",
    "One possible reason for overdispersion is that the model might be overparameterized. Try relaxing the zero inflation model by only making it dependent on fixed effects.   "
   ]
  },
  {
   "cell_type": "code",
   "execution_count": 14,
   "metadata": {
    "vscode": {
     "languageId": "r"
    }
   },
   "outputs": [],
   "source": [
    "qpcr_mod_4 <- glmmTMB(log(copies_per_g_fw + 1) ~ rate*target_strain + (1|trial/rep),\n",
    "                        zi = ~  rate*target_strain, \n",
    "                        family = \"gaussian\",\n",
    "                        data = qpcr)"
   ]
  },
  {
   "cell_type": "code",
   "execution_count": 15,
   "metadata": {
    "vscode": {
     "languageId": "r"
    }
   },
   "outputs": [
    {
     "data": {
      "image/png": "[encoded data removed]",
      "text/plain": [
       "Plot with title \"Residual vs. predicted\n",
       "Quantile deviations detected (red curves)\n",
       "Combined adjusted quantile test n.s.\""
      ]
     },
     "metadata": {
      "image/png": {
       "height": 240,
       "width": 480
      }
     },
     "output_type": "display_data"
    }
   ],
   "source": [
    "qpcr_mod_4_sims  <- simulateResiduals(fittedModel = qpcr_mod_4, plot = T)"
   ]
  },
  {
   "cell_type": "code",
   "execution_count": 16,
   "metadata": {
    "vscode": {
     "languageId": "r"
    }
   },
   "outputs": [
    {
     "data": {
      "text/html": [
       "<table class=\"dataframe\">\n",
       "<caption>A anova: 2 × 8</caption>\n",
       "<thead>\n",
       "\t<tr><th></th><th scope=col>Df</th><th scope=col>AIC</th><th scope=col>BIC</th><th scope=col>logLik</th><th scope=col>deviance</th><th scope=col>Chisq</th><th scope=col>Chi Df</th><th scope=col>Pr(&gt;Chisq)</th></tr>\n",
       "\t<tr><th></th><th scope=col>&lt;dbl&gt;</th><th scope=col>&lt;dbl&gt;</th><th scope=col>&lt;dbl&gt;</th><th scope=col>&lt;dbl&gt;</th><th scope=col>&lt;dbl&gt;</th><th scope=col>&lt;dbl&gt;</th><th scope=col>&lt;dbl&gt;</th><th scope=col>&lt;dbl&gt;</th></tr>\n",
       "</thead>\n",
       "<tbody>\n",
       "\t<tr><th scope=row>qpcr_mod_4</th><td>23</td><td>2369.281</td><td>2467.773</td><td>-1161.640</td><td>2323.281</td><td>      NA</td><td>NA</td><td>          NA</td></tr>\n",
       "\t<tr><th scope=row>qpcr_mod_3</th><td>25</td><td>2258.854</td><td>2365.911</td><td>-1104.427</td><td>2208.854</td><td>114.4271</td><td> 2</td><td>1.420595e-25</td></tr>\n",
       "</tbody>\n",
       "</table>\n"
      ],
      "text/latex": [
       "A anova: 2 × 8\n",
       "\\begin{tabular}{r|llllllll}\n",
       "  & Df & AIC & BIC & logLik & deviance & Chisq & Chi Df & Pr(>Chisq)\\\\\n",
       "  & <dbl> & <dbl> & <dbl> & <dbl> & <dbl> & <dbl> & <dbl> & <dbl>\\\\\n",
       "\\hline\n",
       "\tqpcr\\_mod\\_4 & 23 & 2369.281 & 2467.773 & -1161.640 & 2323.281 &       NA & NA &           NA\\\\\n",
       "\tqpcr\\_mod\\_3 & 25 & 2258.854 & 2365.911 & -1104.427 & 2208.854 & 114.4271 &  2 & 1.420595e-25\\\\\n",
       "\\end{tabular}\n"
      ],
      "text/markdown": [
       "\n",
       "A anova: 2 × 8\n",
       "\n",
       "| <!--/--> | Df &lt;dbl&gt; | AIC &lt;dbl&gt; | BIC &lt;dbl&gt; | logLik &lt;dbl&gt; | deviance &lt;dbl&gt; | Chisq &lt;dbl&gt; | Chi Df &lt;dbl&gt; | Pr(&gt;Chisq) &lt;dbl&gt; |\n",
       "|---|---|---|---|---|---|---|---|---|\n",
       "| qpcr_mod_4 | 23 | 2369.281 | 2467.773 | -1161.640 | 2323.281 |       NA | NA |           NA |\n",
       "| qpcr_mod_3 | 25 | 2258.854 | 2365.911 | -1104.427 | 2208.854 | 114.4271 |  2 | 1.420595e-25 |\n",
       "\n"
      ],
      "text/plain": [
       "           Df AIC      BIC      logLik    deviance Chisq    Chi Df Pr(>Chisq)  \n",
       "qpcr_mod_4 23 2369.281 2467.773 -1161.640 2323.281       NA NA               NA\n",
       "qpcr_mod_3 25 2258.854 2365.911 -1104.427 2208.854 114.4271  2     1.420595e-25"
      ]
     },
     "metadata": {},
     "output_type": "display_data"
    }
   ],
   "source": [
    "anova(qpcr_mod_3,qpcr_mod_4)"
   ]
  },
  {
   "cell_type": "code",
   "execution_count": 17,
   "metadata": {
    "vscode": {
     "languageId": "r"
    }
   },
   "outputs": [
    {
     "data": {
      "text/plain": [
       "\n",
       "Conditional model:\n",
       " Groups    Name        Std.Dev.\n",
       " rep:trial (Intercept) 0.62981 \n",
       " trial     (Intercept) 1.71054 \n",
       " Residual              2.03648 \n",
       "\n",
       "Zero-inflation model:\n",
       " Groups    Name        Std.Dev.\n",
       " rep:trial (Intercept) 0.42657 \n",
       " trial     (Intercept) 1.84296 \n",
       " Residual              2.03648 "
      ]
     },
     "metadata": {},
     "output_type": "display_data"
    }
   ],
   "source": [
    "VarCorr(qpcr_mod_3)"
   ]
  },
  {
   "cell_type": "code",
   "execution_count": 18,
   "metadata": {
    "vscode": {
     "languageId": "r"
    }
   },
   "outputs": [
    {
     "data": {
      "text/plain": [
       "\n",
       "Conditional model:\n",
       " Groups    Name        Std.Dev.\n",
       " rep:trial (Intercept) 0.65765 \n",
       " trial     (Intercept) 1.71852 \n",
       " Residual              2.03670 "
      ]
     },
     "metadata": {},
     "output_type": "display_data"
    }
   ],
   "source": [
    "VarCorr(qpcr_mod_4)"
   ]
  },
  {
   "cell_type": "markdown",
   "metadata": {},
   "source": [
    "The more relaxed model `qpcr_mod_4` seemed to have helped with the lingering overdispersion. However, the fit to the data was significanlty reduced. Plus, there is reason to believe that zero data should also be driven my environmental contrains and not solely technical (e.g., specificity of the primers). So there appears to be risk of underfitting the data. \n",
    "\n",
    "## Model 5\n",
    "\n",
    "We might be able to deal with the overdispersion instead by modeling the variance as a function of our predictors.We begin to check whether there is significantly different variances among groups of data"
   ]
  },
  {
   "cell_type": "code",
   "execution_count": 19,
   "metadata": {
    "vscode": {
     "languageId": "r"
    }
   },
   "outputs": [
    {
     "data": {
      "text/html": [
       "<table class=\"dataframe\">\n",
       "<caption>A anova: 2 × 3</caption>\n",
       "<thead>\n",
       "\t<tr><th></th><th scope=col>Df</th><th scope=col>F value</th><th scope=col>Pr(&gt;F)</th></tr>\n",
       "\t<tr><th></th><th scope=col>&lt;int&gt;</th><th scope=col>&lt;dbl&gt;</th><th scope=col>&lt;dbl&gt;</th></tr>\n",
       "</thead>\n",
       "<tbody>\n",
       "\t<tr><th scope=row>group</th><td>  4</td><td>4.657246</td><td>0.001057207</td></tr>\n",
       "\t<tr><th scope=row> </th><td>530</td><td>      NA</td><td>         NA</td></tr>\n",
       "</tbody>\n",
       "</table>\n"
      ],
      "text/latex": [
       "A anova: 2 × 3\n",
       "\\begin{tabular}{r|lll}\n",
       "  & Df & F value & Pr(>F)\\\\\n",
       "  & <int> & <dbl> & <dbl>\\\\\n",
       "\\hline\n",
       "\tgroup &   4 & 4.657246 & 0.001057207\\\\\n",
       "\t  & 530 &       NA &          NA\\\\\n",
       "\\end{tabular}\n"
      ],
      "text/markdown": [
       "\n",
       "A anova: 2 × 3\n",
       "\n",
       "| <!--/--> | Df &lt;int&gt; | F value &lt;dbl&gt; | Pr(&gt;F) &lt;dbl&gt; |\n",
       "|---|---|---|---|\n",
       "| group |   4 | 4.657246 | 0.001057207 |\n",
       "| <!----> | 530 |       NA |          NA |\n",
       "\n"
      ],
      "text/plain": [
       "      Df  F value  Pr(>F)     \n",
       "group   4 4.657246 0.001057207\n",
       "      530       NA          NA"
      ]
     },
     "metadata": {},
     "output_type": "display_data"
    },
    {
     "data": {
      "text/html": [
       "<table class=\"dataframe\">\n",
       "<caption>A anova: 2 × 3</caption>\n",
       "<thead>\n",
       "\t<tr><th></th><th scope=col>Df</th><th scope=col>F value</th><th scope=col>Pr(&gt;F)</th></tr>\n",
       "\t<tr><th></th><th scope=col>&lt;int&gt;</th><th scope=col>&lt;dbl&gt;</th><th scope=col>&lt;dbl&gt;</th></tr>\n",
       "</thead>\n",
       "<tbody>\n",
       "\t<tr><th scope=row>group</th><td>  1</td><td>5.73698</td><td>0.01695545</td></tr>\n",
       "\t<tr><th scope=row> </th><td>533</td><td>     NA</td><td>        NA</td></tr>\n",
       "</tbody>\n",
       "</table>\n"
      ],
      "text/latex": [
       "A anova: 2 × 3\n",
       "\\begin{tabular}{r|lll}\n",
       "  & Df & F value & Pr(>F)\\\\\n",
       "  & <int> & <dbl> & <dbl>\\\\\n",
       "\\hline\n",
       "\tgroup &   1 & 5.73698 & 0.01695545\\\\\n",
       "\t  & 533 &      NA &         NA\\\\\n",
       "\\end{tabular}\n"
      ],
      "text/markdown": [
       "\n",
       "A anova: 2 × 3\n",
       "\n",
       "| <!--/--> | Df &lt;int&gt; | F value &lt;dbl&gt; | Pr(&gt;F) &lt;dbl&gt; |\n",
       "|---|---|---|---|\n",
       "| group |   1 | 5.73698 | 0.01695545 |\n",
       "| <!----> | 533 |      NA |         NA |\n",
       "\n"
      ],
      "text/plain": [
       "      Df  F value Pr(>F)    \n",
       "group   1 5.73698 0.01695545\n",
       "      533      NA         NA"
      ]
     },
     "metadata": {},
     "output_type": "display_data"
    },
    {
     "data": {
      "text/html": [
       "<table class=\"dataframe\">\n",
       "<caption>A anova: 2 × 3</caption>\n",
       "<thead>\n",
       "\t<tr><th></th><th scope=col>Df</th><th scope=col>F value</th><th scope=col>Pr(&gt;F)</th></tr>\n",
       "\t<tr><th></th><th scope=col>&lt;int&gt;</th><th scope=col>&lt;dbl&gt;</th><th scope=col>&lt;dbl&gt;</th></tr>\n",
       "</thead>\n",
       "<tbody>\n",
       "\t<tr><th scope=row>group</th><td>  8</td><td>1.422206</td><td>0.1842012</td></tr>\n",
       "\t<tr><th scope=row> </th><td>526</td><td>      NA</td><td>       NA</td></tr>\n",
       "</tbody>\n",
       "</table>\n"
      ],
      "text/latex": [
       "A anova: 2 × 3\n",
       "\\begin{tabular}{r|lll}\n",
       "  & Df & F value & Pr(>F)\\\\\n",
       "  & <int> & <dbl> & <dbl>\\\\\n",
       "\\hline\n",
       "\tgroup &   8 & 1.422206 & 0.1842012\\\\\n",
       "\t  & 526 &       NA &        NA\\\\\n",
       "\\end{tabular}\n"
      ],
      "text/markdown": [
       "\n",
       "A anova: 2 × 3\n",
       "\n",
       "| <!--/--> | Df &lt;int&gt; | F value &lt;dbl&gt; | Pr(&gt;F) &lt;dbl&gt; |\n",
       "|---|---|---|---|\n",
       "| group |   8 | 1.422206 | 0.1842012 |\n",
       "| <!----> | 526 |       NA |        NA |\n",
       "\n"
      ],
      "text/plain": [
       "      Df  F value  Pr(>F)   \n",
       "group   8 1.422206 0.1842012\n",
       "      526       NA        NA"
      ]
     },
     "metadata": {},
     "output_type": "display_data"
    },
    {
     "name": "stderr",
     "output_type": "stream",
     "text": [
      "Warning message in leveneTest.default(y = y, group = group, ...):\n",
      "\"group coerced to factor.\"\n"
     ]
    },
    {
     "data": {
      "text/html": [
       "<table class=\"dataframe\">\n",
       "<caption>A anova: 2 × 3</caption>\n",
       "<thead>\n",
       "\t<tr><th></th><th scope=col>Df</th><th scope=col>F value</th><th scope=col>Pr(&gt;F)</th></tr>\n",
       "\t<tr><th></th><th scope=col>&lt;int&gt;</th><th scope=col>&lt;dbl&gt;</th><th scope=col>&lt;dbl&gt;</th></tr>\n",
       "</thead>\n",
       "<tbody>\n",
       "\t<tr><th scope=row>group</th><td> 53</td><td>0.8425124</td><td>0.7770381</td></tr>\n",
       "\t<tr><th scope=row> </th><td>481</td><td>       NA</td><td>       NA</td></tr>\n",
       "</tbody>\n",
       "</table>\n"
      ],
      "text/latex": [
       "A anova: 2 × 3\n",
       "\\begin{tabular}{r|lll}\n",
       "  & Df & F value & Pr(>F)\\\\\n",
       "  & <int> & <dbl> & <dbl>\\\\\n",
       "\\hline\n",
       "\tgroup &  53 & 0.8425124 & 0.7770381\\\\\n",
       "\t  & 481 &        NA &        NA\\\\\n",
       "\\end{tabular}\n"
      ],
      "text/markdown": [
       "\n",
       "A anova: 2 × 3\n",
       "\n",
       "| <!--/--> | Df &lt;int&gt; | F value &lt;dbl&gt; | Pr(&gt;F) &lt;dbl&gt; |\n",
       "|---|---|---|---|\n",
       "| group |  53 | 0.8425124 | 0.7770381 |\n",
       "| <!----> | 481 |        NA |        NA |\n",
       "\n"
      ],
      "text/plain": [
       "      Df  F value   Pr(>F)   \n",
       "group  53 0.8425124 0.7770381\n",
       "      481        NA        NA"
      ]
     },
     "metadata": {},
     "output_type": "display_data"
    }
   ],
   "source": [
    "# test for HOV across treatments\n",
    "leveneTest(log(copies_per_g_fw + 1) ~ rate, data=qpcr)\n",
    "leveneTest(log(copies_per_g_fw + 1) ~ target_strain, data=qpcr)\n",
    "leveneTest(log(copies_per_g_fw + 1) ~ trial, data=qpcr)\n",
    "leveneTest(log(copies_per_g_fw + 1) ~ paste0(trial,rep), data=qpcr)"
   ]
  },
  {
   "cell_type": "markdown",
   "metadata": {
    "vscode": {
     "languageId": "r"
    }
   },
   "source": [
    "There seems to be diffences in variance between rates and strains. We add the model via the `dispformula` argument. "
   ]
  },
  {
   "cell_type": "code",
   "execution_count": 20,
   "metadata": {
    "vscode": {
     "languageId": "r"
    }
   },
   "outputs": [
    {
     "data": {
      "text/html": [
       "<table class=\"dataframe\">\n",
       "<caption>A anova: 2 × 8</caption>\n",
       "<thead>\n",
       "\t<tr><th></th><th scope=col>Df</th><th scope=col>AIC</th><th scope=col>BIC</th><th scope=col>logLik</th><th scope=col>deviance</th><th scope=col>Chisq</th><th scope=col>Chi Df</th><th scope=col>Pr(&gt;Chisq)</th></tr>\n",
       "\t<tr><th></th><th scope=col>&lt;dbl&gt;</th><th scope=col>&lt;dbl&gt;</th><th scope=col>&lt;dbl&gt;</th><th scope=col>&lt;dbl&gt;</th><th scope=col>&lt;dbl&gt;</th><th scope=col>&lt;dbl&gt;</th><th scope=col>&lt;dbl&gt;</th><th scope=col>&lt;dbl&gt;</th></tr>\n",
       "</thead>\n",
       "<tbody>\n",
       "\t<tr><th scope=row>qpcr_mod_3</th><td>25</td><td>2258.854</td><td>2365.911</td><td>-1104.427</td><td>2208.854</td><td>      NA</td><td>NA</td><td>       NA</td></tr>\n",
       "\t<tr><th scope=row>qpcr_mod_5</th><td>30</td><td>2265.364</td><td>2393.832</td><td>-1102.682</td><td>2205.364</td><td>3.490318</td><td> 5</td><td>0.6248532</td></tr>\n",
       "</tbody>\n",
       "</table>\n"
      ],
      "text/latex": [
       "A anova: 2 × 8\n",
       "\\begin{tabular}{r|llllllll}\n",
       "  & Df & AIC & BIC & logLik & deviance & Chisq & Chi Df & Pr(>Chisq)\\\\\n",
       "  & <dbl> & <dbl> & <dbl> & <dbl> & <dbl> & <dbl> & <dbl> & <dbl>\\\\\n",
       "\\hline\n",
       "\tqpcr\\_mod\\_3 & 25 & 2258.854 & 2365.911 & -1104.427 & 2208.854 &       NA & NA &        NA\\\\\n",
       "\tqpcr\\_mod\\_5 & 30 & 2265.364 & 2393.832 & -1102.682 & 2205.364 & 3.490318 &  5 & 0.6248532\\\\\n",
       "\\end{tabular}\n"
      ],
      "text/markdown": [
       "\n",
       "A anova: 2 × 8\n",
       "\n",
       "| <!--/--> | Df &lt;dbl&gt; | AIC &lt;dbl&gt; | BIC &lt;dbl&gt; | logLik &lt;dbl&gt; | deviance &lt;dbl&gt; | Chisq &lt;dbl&gt; | Chi Df &lt;dbl&gt; | Pr(&gt;Chisq) &lt;dbl&gt; |\n",
       "|---|---|---|---|---|---|---|---|---|\n",
       "| qpcr_mod_3 | 25 | 2258.854 | 2365.911 | -1104.427 | 2208.854 |       NA | NA |        NA |\n",
       "| qpcr_mod_5 | 30 | 2265.364 | 2393.832 | -1102.682 | 2205.364 | 3.490318 |  5 | 0.6248532 |\n",
       "\n"
      ],
      "text/plain": [
       "           Df AIC      BIC      logLik    deviance Chisq    Chi Df Pr(>Chisq)\n",
       "qpcr_mod_3 25 2258.854 2365.911 -1104.427 2208.854       NA NA            NA \n",
       "qpcr_mod_5 30 2265.364 2393.832 -1102.682 2205.364 3.490318  5     0.6248532 "
      ]
     },
     "metadata": {},
     "output_type": "display_data"
    },
    {
     "data": {
      "image/png": "[encoded data removed]",
      "text/plain": [
       "Plot with title \"Residual vs. predicted\n",
       "Quantile deviations detected (red curves)\n",
       "Combined adjusted quantile test significant\""
      ]
     },
     "metadata": {
      "image/png": {
       "height": 240,
       "width": 480
      }
     },
     "output_type": "display_data"
    }
   ],
   "source": [
    "qpcr_mod_5 <- glmmTMB(log(copies_per_g_fw + 1) ~ rate*target_strain + (1|trial/rep),\n",
    "                        zi=~., # This is the zero-inflated model specification. For now, we keep the same as the conditional model\n",
    "                        dispformula  = ~ rate + target_strain,\n",
    "                        family = \"gaussian\",\n",
    "                        data = qpcr)\n",
    "\n",
    "qpcr_mod_5_sims  <- simulateResiduals(fittedModel = qpcr_mod_5, plot = T)\n",
    "anova(qpcr_mod_5,qpcr_mod_3)"
   ]
  },
  {
   "cell_type": "markdown",
   "metadata": {},
   "source": [
    "## Chosen model\n",
    "\n",
    "While `qpcr_mod_5` appears to be a bit overparemeterized without significant gain in the fit, the overdispersion seemed to be resolved. Thus we move ahead with this model.\n",
    "\n"
   ]
  },
  {
   "cell_type": "code",
   "execution_count": 21,
   "metadata": {
    "vscode": {
     "languageId": "r"
    }
   },
   "outputs": [
    {
     "data": {
      "text/plain": [
       " Family: gaussian  ( identity )\n",
       "Formula:          \n",
       "log(copies_per_g_fw + 1) ~ rate * target_strain + (1 | trial/rep)\n",
       "Zero inflation:                            ~.\n",
       "Dispersion:                                ~rate + target_strain\n",
       "Data: qpcr\n",
       "\n",
       "     AIC      BIC   logLik deviance df.resid \n",
       "  2265.4   2393.8  -1102.7   2205.4      505 \n",
       "\n",
       "Random effects:\n",
       "\n",
       "Conditional model:\n",
       " Groups    Name        Variance Std.Dev.\n",
       " rep:trial (Intercept) 0.4516   0.672   \n",
       " trial     (Intercept) 3.1743   1.782   \n",
       " Residual                  NA      NA   \n",
       "Number of obs: 535, groups:  rep:trial, 54; trial, 9\n",
       "\n",
       "Zero-inflation model:\n",
       " Groups    Name        Variance Std.Dev.\n",
       " rep:trial (Intercept) 0.1809   0.4253  \n",
       " trial     (Intercept) 3.3853   1.8399  \n",
       " Residual                  NA       NA  \n",
       "Number of obs: 535, groups:  rep:trial, 54; trial, 9\n",
       "\n",
       "Conditional model:\n",
       "                                Estimate Std. Error z value Pr(>|z|)    \n",
       "(Intercept)                      5.23612    0.77734   6.736 1.63e-11 ***\n",
       "rate1e2                          1.76413    0.60358   2.923  0.00347 ** \n",
       "rate1e3                          0.90677    0.60558   1.497  0.13430    \n",
       "rate1e4                          2.58458    0.60213   4.292 1.77e-05 ***\n",
       "rate1e5                          2.73796    0.58600   4.672 2.98e-06 ***\n",
       "target_strainKv137-2253         -0.04081    0.59315  -0.069  0.94514    \n",
       "rate1e2:target_strainKv137-2253  0.31020    0.73747   0.421  0.67403    \n",
       "rate1e3:target_strainKv137-2253  0.94137    0.74328   1.267  0.20533    \n",
       "rate1e4:target_strainKv137-2253  0.19274    0.74344   0.259  0.79544    \n",
       "rate1e5:target_strainKv137-2253  0.50828    0.72634   0.700  0.48407    \n",
       "---\n",
       "Signif. codes:  0 '***' 0.001 '**' 0.01 '*' 0.05 '.' 0.1 ' ' 1\n",
       "\n",
       "Zero-inflation model:\n",
       "                                Estimate Std. Error z value Pr(>|z|)    \n",
       "(Intercept)                      0.14105    0.71770   0.197 0.844196    \n",
       "rate1e2                         -0.91261    0.50219  -1.817 0.069175 .  \n",
       "rate1e3                         -1.71914    0.54792  -3.138 0.001704 ** \n",
       "rate1e4                         -1.96959    0.54635  -3.605 0.000312 ***\n",
       "rate1e5                         -2.52462    0.59252  -4.261 2.04e-05 ***\n",
       "target_strainKv137-2253         -2.07520    0.56763  -3.656 0.000256 ***\n",
       "rate1e2:target_strainKv137-2253 -0.07713    0.81527  -0.095 0.924630    \n",
       "rate1e3:target_strainKv137-2253  0.49309    0.85455   0.577 0.563932    \n",
       "rate1e4:target_strainKv137-2253 -0.23498    0.96124  -0.244 0.806877    \n",
       "rate1e5:target_strainKv137-2253  1.16101    0.89560   1.296 0.194853    \n",
       "---\n",
       "Signif. codes:  0 '***' 0.001 '**' 0.01 '*' 0.05 '.' 0.1 ' ' 1\n",
       "\n",
       "Dispersion model:\n",
       "                        Estimate Std. Error z value Pr(>|z|)    \n",
       "(Intercept)               1.7281     0.2348   7.361 1.83e-13 ***\n",
       "rate1e2                  -0.3473     0.3093  -1.123    0.262    \n",
       "rate1e3                  -0.2139     0.2811  -0.761    0.447    \n",
       "rate1e4                  -0.1217     0.2824  -0.431    0.667    \n",
       "rate1e5                  -0.2321     0.2649  -0.876    0.381    \n",
       "target_strainKv137-2253  -0.2376     0.1600  -1.485    0.138    \n",
       "---\n",
       "Signif. codes:  0 '***' 0.001 '**' 0.01 '*' 0.05 '.' 0.1 ' ' 1"
      ]
     },
     "metadata": {},
     "output_type": "display_data"
    }
   ],
   "source": [
    "qpcr_mod <- qpcr_mod_5\n",
    "summary(qpcr_mod)"
   ]
  },
  {
   "cell_type": "markdown",
   "metadata": {},
   "source": [
    "Note: The zero-inflation model estimates the probability of an extra zero, so `Estimate <0` indicates fewer absences (i.e., zeroes)\n",
    " "
   ]
  },
  {
   "cell_type": "markdown",
   "metadata": {},
   "source": [
    "The zero-inflation model estimates the probability of an extra zero, so `Estimate <0` indicates fewer absences (i.e., zeroes)"
   ]
  },
  {
   "cell_type": "code",
   "execution_count": 22,
   "metadata": {
    "vscode": {
     "languageId": "r"
    }
   },
   "outputs": [
    {
     "data": {
      "text/plain": [
       "\n",
       "Conditional model:\n",
       " Groups    Name        Std.Dev.\n",
       " rep:trial (Intercept) 0.67201 \n",
       " trial     (Intercept) 1.78167 \n",
       " Residual                   NA \n",
       "\n",
       "Zero-inflation model:\n",
       " Groups    Name        Std.Dev.\n",
       " rep:trial (Intercept) 0.4253  \n",
       " trial     (Intercept) 1.8399  \n",
       " Residual                  NA  "
      ]
     },
     "metadata": {},
     "output_type": "display_data"
    }
   ],
   "source": [
    "VarCorr(qpcr_mod)"
   ]
  },
  {
   "cell_type": "code",
   "execution_count": 23,
   "metadata": {
    "vscode": {
     "languageId": "r"
    }
   },
   "outputs": [],
   "source": [
    "qpcr_mod_zi_means <- emmeans(qpcr_mod,  trt.vs.ctrl ~ rate|target_strain, component = \"zi\", type = \"response\")"
   ]
  },
  {
   "cell_type": "code",
   "execution_count": 24,
   "metadata": {
    "vscode": {
     "languageId": "r"
    }
   },
   "outputs": [
    {
     "data": {
      "text/plain": [
       "target_strain = Ks6-5687:\n",
       " rate response      SE  df lower.CL upper.CL\n",
       " 0       0.628 0.11217 505    0.458    0.840\n",
       " 1e2     0.505 0.07895 505    0.407    0.710\n",
       " 1e3     0.437 0.04673 505    0.385    0.592\n",
       " 1e4     0.422 0.03798 505    0.381    0.557\n",
       " 1e5     0.400 0.02435 505    0.375    0.498\n",
       "\n",
       "target_strain = Kv137-2253:\n",
       " rate response      SE  df lower.CL upper.CL\n",
       " 0       0.417 0.03548 505    0.379    0.547\n",
       " 1e2     0.387 0.01531 505    0.372    0.454\n",
       " 1e3     0.383 0.01251 505    0.371    0.440\n",
       " 1e4     0.374 0.00552 505    0.369    0.404\n",
       " 1e5     0.381 0.01125 505    0.370    0.434\n",
       "\n",
       "Confidence level used: 0.95 \n",
       "Intervals are back-transformed from the log[logit(mu + 1)] scale "
      ]
     },
     "metadata": {},
     "output_type": "display_data"
    }
   ],
   "source": [
    "qpcr_mod_zi_means$emmeans"
   ]
  },
  {
   "cell_type": "code",
   "execution_count": 25,
   "metadata": {
    "vscode": {
     "languageId": "r"
    }
   },
   "outputs": [
    {
     "data": {
      "text/plain": [
       "target_strain = Ks6-5687:\n",
       " contrast        odds.ratio     SE  df null t.ratio p.value\n",
       " rate1e2 / rate0       1.49 0.3012 505 2.72  -1.817  0.2147\n",
       " rate1e3 / rate0       1.20 0.1175 505 2.72  -3.138  0.0068\n",
       " rate1e4 / rate0       1.15 0.0876 505 2.72  -3.605  0.0013\n",
       " rate1e5 / rate0       1.08 0.0514 505 2.72  -4.261  0.0001\n",
       "\n",
       "target_strain = Kv137-2253:\n",
       " contrast        odds.ratio     SE  df null t.ratio p.value\n",
       " rate1e2 / rate0       1.45 0.3493 505 2.72  -1.527  0.3555\n",
       " rate1e3 / rate0       1.34 0.2637 505 2.72  -1.830  0.2098\n",
       " rate1e4 / rate0       1.12 0.0999 505 2.72  -2.718  0.0247\n",
       " rate1e5 / rate0       1.29 0.2295 505 2.72  -1.962  0.1609\n",
       "\n",
       "P value adjustment: dunnettx method for 4 tests \n",
       "Tests are performed on the log[log odds ratio] scale "
      ]
     },
     "metadata": {},
     "output_type": "display_data"
    }
   ],
   "source": [
    "qpcr_mod_zi_means$contrasts"
   ]
  },
  {
   "cell_type": "code",
   "execution_count": 26,
   "metadata": {
    "vscode": {
     "languageId": "r"
    }
   },
   "outputs": [],
   "source": [
    "# Expected marginal means from the conditional model\n",
    "qpcr_mod_cond_means <- emmeans(qpcr_mod,  trt.vs.ctrl ~ rate|target_strain,  component = \"cond\", type =\"response\")"
   ]
  },
  {
   "cell_type": "code",
   "execution_count": 27,
   "metadata": {
    "vscode": {
     "languageId": "r"
    }
   },
   "outputs": [
    {
     "data": {
      "text/plain": [
       "target_strain = Ks6-5687:\n",
       " rate response   SE  df lower.CL upper.CL\n",
       " 0         187  146 505     39.8      865\n",
       " 1e2      1096  771 505    274.8     4361\n",
       " 1e3       464  327 505    116.0     1851\n",
       " 1e4      2491 1743 505    629.3     9850\n",
       " 1e5      2904 1988 505    756.3    11141\n",
       "\n",
       "target_strain = Kv137-2253:\n",
       " rate response   SE  df lower.CL upper.CL\n",
       " 0         179  125 505     45.4      700\n",
       " 1e2      1435  942 505    394.8     5209\n",
       " 1e3      1144  758 505    310.9     4205\n",
       " 1e4      2899 1923 505    787.3    10671\n",
       " 1e5      4635 3064 505   1264.0    16987\n",
       "\n",
       "Confidence level used: 0.95 \n",
       "Intervals are back-transformed from the log(mu + 1) scale "
      ]
     },
     "metadata": {},
     "output_type": "display_data"
    }
   ],
   "source": [
    "qpcr_mod_cond_means$emmeans"
   ]
  },
  {
   "cell_type": "code",
   "execution_count": 28,
   "metadata": {
    "vscode": {
     "languageId": "r"
    }
   },
   "outputs": [
    {
     "data": {
      "text/plain": [
       "target_strain = Ks6-5687:\n",
       " contrast        ratio    SE  df null t.ratio p.value\n",
       " rate1e2 / rate0  5.84  3.52 505    1   2.923  0.0135\n",
       " rate1e3 / rate0  2.48  1.50 505    1   1.497  0.3724\n",
       " rate1e4 / rate0 13.26  7.98 505    1   4.292  0.0001\n",
       " rate1e5 / rate0 15.46  9.06 505    1   4.672  <.0001\n",
       "\n",
       "target_strain = Kv137-2253:\n",
       " contrast        ratio    SE  df null t.ratio p.value\n",
       " rate1e2 / rate0  7.96  3.42 505    1   4.822  <.0001\n",
       " rate1e3 / rate0  6.35  2.78 505    1   4.215  0.0001\n",
       " rate1e4 / rate0 16.08  7.10 505    1   6.289  <.0001\n",
       " rate1e5 / rate0 25.69 11.21 505    1   7.442  <.0001\n",
       "\n",
       "P value adjustment: dunnettx method for 4 tests \n",
       "Tests are performed on the log scale "
      ]
     },
     "metadata": {},
     "output_type": "display_data"
    }
   ],
   "source": [
    "qpcr_mod_cond_means$contrasts"
   ]
  },
  {
   "cell_type": "markdown",
   "metadata": {},
   "source": [
    "## Add output from the zero inflation model"
   ]
  },
  {
   "cell_type": "code",
   "execution_count": 29,
   "metadata": {
    "vscode": {
     "languageId": "r"
    }
   },
   "outputs": [
    {
     "name": "stderr",
     "output_type": "stream",
     "text": [
      "\u001b[1m\u001b[22mJoining with `by = join_by(target_strain, rate)`\n",
      "\u001b[1m\u001b[22mJoining with `by = join_by(rate)`\n"
     ]
    },
    {
     "data": {
      "text/html": [
       "<table class=\"dataframe\">\n",
       "<caption>A data.frame: 10 × 9</caption>\n",
       "<thead>\n",
       "\t<tr><th scope=col>target_strain</th><th scope=col>rate</th><th scope=col>plab</th><th scope=col>response</th><th scope=col>SE</th><th scope=col>df</th><th scope=col>lower.CL</th><th scope=col>upper.CL</th><th scope=col>trt</th></tr>\n",
       "\t<tr><th scope=col>&lt;fct&gt;</th><th scope=col>&lt;chr&gt;</th><th scope=col>&lt;chr&gt;</th><th scope=col>&lt;dbl&gt;</th><th scope=col>&lt;dbl&gt;</th><th scope=col>&lt;dbl&gt;</th><th scope=col>&lt;dbl&gt;</th><th scope=col>&lt;dbl&gt;</th><th scope=col>&lt;fct&gt;</th></tr>\n",
       "</thead>\n",
       "<tbody>\n",
       "\t<tr><td>Ks6-5687  </td><td>1e2</td><td>p=0.013</td><td>1095.9177</td><td> 770.7137</td><td>505</td><td> 274.84683</td><td> 4360.9438</td><td>PROVEN 40           </td></tr>\n",
       "\t<tr><td>Ks6-5687  </td><td>1e3</td><td>p=0.37 </td><td> 464.3998</td><td> 327.1464</td><td>505</td><td> 115.96296</td><td> 1850.8424</td><td>PROVEN 40           </td></tr>\n",
       "\t<tr><td><span style=white-space:pre-wrap>Ks6-5687  </span></td><td>1e4</td><td>p&lt;0.001</td><td>2490.6707</td><td>1743.3028</td><td>505</td><td> 629.25299</td><td> 9849.6839</td><td><span style=white-space:pre-wrap>PROVEN 40           </span></td></tr>\n",
       "\t<tr><td><span style=white-space:pre-wrap>Ks6-5687  </span></td><td>1e5</td><td>p&lt;0.001</td><td>2903.7004</td><td>1987.6225</td><td>505</td><td> 756.25749</td><td>11140.8967</td><td><span style=white-space:pre-wrap>PROVEN 40           </span></td></tr>\n",
       "\t<tr><td>Kv137-2253</td><td>1e2</td><td>p&lt;0.001</td><td>1435.0476</td><td> 942.0094</td><td>505</td><td> 394.78708</td><td> 5209.4600</td><td><span style=white-space:pre-wrap>PROVEN 40           </span></td></tr>\n",
       "\t<tr><td>Kv137-2253</td><td>1e3</td><td>p&lt;0.001</td><td>1144.3423</td><td> 758.2797</td><td>505</td><td> 310.91703</td><td> 4204.6340</td><td><span style=white-space:pre-wrap>PROVEN 40           </span></td></tr>\n",
       "\t<tr><td>Kv137-2253</td><td>1e4</td><td>p&lt;0.001</td><td>2899.4858</td><td>1923.2179</td><td>505</td><td> 787.33485</td><td>10670.6303</td><td><span style=white-space:pre-wrap>PROVEN 40           </span></td></tr>\n",
       "\t<tr><td>Kv137-2253</td><td>1e5</td><td>p&lt;0.001</td><td>4634.7345</td><td>3064.3567</td><td>505</td><td>1264.02047</td><td>16986.8942</td><td><span style=white-space:pre-wrap>PROVEN 40           </span></td></tr>\n",
       "\t<tr><td>Ks6-5687  </td><td>0  </td><td>NA     </td><td> 186.9404</td><td> 146.0943</td><td>505</td><td>  39.80886</td><td>  864.5374</td><td>Uninoculated Control</td></tr>\n",
       "\t<tr><td>Kv137-2253</td><td>0  </td><td>NA     </td><td> 179.4244</td><td> 124.6625</td><td>505</td><td>  45.42510</td><td>  700.1934</td><td>Uninoculated Control</td></tr>\n",
       "</tbody>\n",
       "</table>\n"
      ],
      "text/latex": [
       "A data.frame: 10 × 9\n",
       "\\begin{tabular}{lllllllll}\n",
       " target\\_strain & rate & plab & response & SE & df & lower.CL & upper.CL & trt\\\\\n",
       " <fct> & <chr> & <chr> & <dbl> & <dbl> & <dbl> & <dbl> & <dbl> & <fct>\\\\\n",
       "\\hline\n",
       "\t Ks6-5687   & 1e2 & p=0.013 & 1095.9177 &  770.7137 & 505 &  274.84683 &  4360.9438 & PROVEN 40           \\\\\n",
       "\t Ks6-5687   & 1e3 & p=0.37  &  464.3998 &  327.1464 & 505 &  115.96296 &  1850.8424 & PROVEN 40           \\\\\n",
       "\t Ks6-5687   & 1e4 & p<0.001 & 2490.6707 & 1743.3028 & 505 &  629.25299 &  9849.6839 & PROVEN 40           \\\\\n",
       "\t Ks6-5687   & 1e5 & p<0.001 & 2903.7004 & 1987.6225 & 505 &  756.25749 & 11140.8967 & PROVEN 40           \\\\\n",
       "\t Kv137-2253 & 1e2 & p<0.001 & 1435.0476 &  942.0094 & 505 &  394.78708 &  5209.4600 & PROVEN 40           \\\\\n",
       "\t Kv137-2253 & 1e3 & p<0.001 & 1144.3423 &  758.2797 & 505 &  310.91703 &  4204.6340 & PROVEN 40           \\\\\n",
       "\t Kv137-2253 & 1e4 & p<0.001 & 2899.4858 & 1923.2179 & 505 &  787.33485 & 10670.6303 & PROVEN 40           \\\\\n",
       "\t Kv137-2253 & 1e5 & p<0.001 & 4634.7345 & 3064.3567 & 505 & 1264.02047 & 16986.8942 & PROVEN 40           \\\\\n",
       "\t Ks6-5687   & 0   & NA      &  186.9404 &  146.0943 & 505 &   39.80886 &   864.5374 & Uninoculated Control\\\\\n",
       "\t Kv137-2253 & 0   & NA      &  179.4244 &  124.6625 & 505 &   45.42510 &   700.1934 & Uninoculated Control\\\\\n",
       "\\end{tabular}\n"
      ],
      "text/markdown": [
       "\n",
       "A data.frame: 10 × 9\n",
       "\n",
       "| target_strain &lt;fct&gt; | rate &lt;chr&gt; | plab &lt;chr&gt; | response &lt;dbl&gt; | SE &lt;dbl&gt; | df &lt;dbl&gt; | lower.CL &lt;dbl&gt; | upper.CL &lt;dbl&gt; | trt &lt;fct&gt; |\n",
       "|---|---|---|---|---|---|---|---|---|\n",
       "| Ks6-5687   | 1e2 | p=0.013 | 1095.9177 |  770.7137 | 505 |  274.84683 |  4360.9438 | PROVEN 40            |\n",
       "| Ks6-5687   | 1e3 | p=0.37  |  464.3998 |  327.1464 | 505 |  115.96296 |  1850.8424 | PROVEN 40            |\n",
       "| Ks6-5687   | 1e4 | p&lt;0.001 | 2490.6707 | 1743.3028 | 505 |  629.25299 |  9849.6839 | PROVEN 40            |\n",
       "| Ks6-5687   | 1e5 | p&lt;0.001 | 2903.7004 | 1987.6225 | 505 |  756.25749 | 11140.8967 | PROVEN 40            |\n",
       "| Kv137-2253 | 1e2 | p&lt;0.001 | 1435.0476 |  942.0094 | 505 |  394.78708 |  5209.4600 | PROVEN 40            |\n",
       "| Kv137-2253 | 1e3 | p&lt;0.001 | 1144.3423 |  758.2797 | 505 |  310.91703 |  4204.6340 | PROVEN 40            |\n",
       "| Kv137-2253 | 1e4 | p&lt;0.001 | 2899.4858 | 1923.2179 | 505 |  787.33485 | 10670.6303 | PROVEN 40            |\n",
       "| Kv137-2253 | 1e5 | p&lt;0.001 | 4634.7345 | 3064.3567 | 505 | 1264.02047 | 16986.8942 | PROVEN 40            |\n",
       "| Ks6-5687   | 0   | NA      |  186.9404 |  146.0943 | 505 |   39.80886 |   864.5374 | Uninoculated Control |\n",
       "| Kv137-2253 | 0   | NA      |  179.4244 |  124.6625 | 505 |   45.42510 |   700.1934 | Uninoculated Control |\n",
       "\n"
      ],
      "text/plain": [
       "   target_strain rate plab    response  SE        df  lower.CL   upper.CL  \n",
       "1  Ks6-5687      1e2  p=0.013 1095.9177  770.7137 505  274.84683  4360.9438\n",
       "2  Ks6-5687      1e3  p=0.37   464.3998  327.1464 505  115.96296  1850.8424\n",
       "3  Ks6-5687      1e4  p<0.001 2490.6707 1743.3028 505  629.25299  9849.6839\n",
       "4  Ks6-5687      1e5  p<0.001 2903.7004 1987.6225 505  756.25749 11140.8967\n",
       "5  Kv137-2253    1e2  p<0.001 1435.0476  942.0094 505  394.78708  5209.4600\n",
       "6  Kv137-2253    1e3  p<0.001 1144.3423  758.2797 505  310.91703  4204.6340\n",
       "7  Kv137-2253    1e4  p<0.001 2899.4858 1923.2179 505  787.33485 10670.6303\n",
       "8  Kv137-2253    1e5  p<0.001 4634.7345 3064.3567 505 1264.02047 16986.8942\n",
       "9  Ks6-5687      0    NA       186.9404  146.0943 505   39.80886   864.5374\n",
       "10 Kv137-2253    0    NA       179.4244  124.6625 505   45.42510   700.1934\n",
       "   trt                 \n",
       "1  PROVEN 40           \n",
       "2  PROVEN 40           \n",
       "3  PROVEN 40           \n",
       "4  PROVEN 40           \n",
       "5  PROVEN 40           \n",
       "6  PROVEN 40           \n",
       "7  PROVEN 40           \n",
       "8  PROVEN 40           \n",
       "9  Uninoculated Control\n",
       "10 Uninoculated Control"
      ]
     },
     "metadata": {},
     "output_type": "display_data"
    },
    {
     "name": "stderr",
     "output_type": "stream",
     "text": [
      "\u001b[1m\u001b[22mJoining with `by = join_by(target_strain, rate)`\n",
      "\u001b[1m\u001b[22mJoining with `by = join_by(rate)`\n"
     ]
    },
    {
     "data": {
      "text/html": [
       "<table class=\"dataframe\">\n",
       "<caption>A data.frame: 10 × 9</caption>\n",
       "<thead>\n",
       "\t<tr><th scope=col>target_strain</th><th scope=col>rate</th><th scope=col>plab</th><th scope=col>response</th><th scope=col>SE</th><th scope=col>df</th><th scope=col>lower.CL</th><th scope=col>upper.CL</th><th scope=col>trt</th></tr>\n",
       "\t<tr><th scope=col>&lt;fct&gt;</th><th scope=col>&lt;chr&gt;</th><th scope=col>&lt;chr&gt;</th><th scope=col>&lt;dbl&gt;</th><th scope=col>&lt;dbl&gt;</th><th scope=col>&lt;dbl&gt;</th><th scope=col>&lt;dbl&gt;</th><th scope=col>&lt;dbl&gt;</th><th scope=col>&lt;fct&gt;</th></tr>\n",
       "</thead>\n",
       "<tbody>\n",
       "\t<tr><td>Ks6-5687  </td><td>1e2</td><td>p=0.21  </td><td>0.5046660</td><td>0.078951189</td><td>505</td><td>0.4067163</td><td>0.7096622</td><td>PROVEN 40           </td></tr>\n",
       "\t<tr><td>Ks6-5687  </td><td>1e3</td><td>p=0.0068</td><td>0.4365144</td><td>0.046728756</td><td>505</td><td>0.3847097</td><td>0.5923181</td><td>PROVEN 40           </td></tr>\n",
       "\t<tr><td>Ks6-5687  </td><td>1e4</td><td>p=0.0013</td><td>0.4224906</td><td>0.037981882</td><td>505</td><td>0.3810757</td><td>0.5565468</td><td>PROVEN 40           </td></tr>\n",
       "\t<tr><td><span style=white-space:pre-wrap>Ks6-5687  </span></td><td>1e5</td><td>p&lt;0.001 </td><td>0.4002901</td><td>0.024345823</td><td>505</td><td>0.3750405</td><td>0.4975737</td><td><span style=white-space:pre-wrap>PROVEN 40           </span></td></tr>\n",
       "\t<tr><td>Kv137-2253</td><td>1e2</td><td>p=0.36  </td><td>0.3871222</td><td>0.015311283</td><td>505</td><td>0.3718247</td><td>0.4543735</td><td>PROVEN 40           </td></tr>\n",
       "\t<tr><td>Kv137-2253</td><td>1e3</td><td>p=0.21  </td><td>0.3831576</td><td>0.012514047</td><td>505</td><td>0.3708825</td><td>0.4404289</td><td>PROVEN 40           </td></tr>\n",
       "\t<tr><td>Kv137-2253</td><td>1e4</td><td>p=0.025 </td><td>0.3736981</td><td>0.005524513</td><td>505</td><td>0.3687730</td><td>0.4043904</td><td>PROVEN 40           </td></tr>\n",
       "\t<tr><td>Kv137-2253</td><td>1e5</td><td>p=0.16  </td><td>0.3812302</td><td>0.011246633</td><td>505</td><td>0.3703902</td><td>0.4344572</td><td>PROVEN 40           </td></tr>\n",
       "\t<tr><td>Ks6-5687  </td><td>0  </td><td>NA      </td><td>0.6282632</td><td>0.112167777</td><td>505</td><td>0.4581439</td><td>0.8395180</td><td>Uninoculated Control</td></tr>\n",
       "\t<tr><td>Kv137-2253</td><td>0  </td><td>NA      </td><td>0.4174008</td><td>0.035483061</td><td>505</td><td>0.3793999</td><td>0.5468336</td><td>Uninoculated Control</td></tr>\n",
       "</tbody>\n",
       "</table>\n"
      ],
      "text/latex": [
       "A data.frame: 10 × 9\n",
       "\\begin{tabular}{lllllllll}\n",
       " target\\_strain & rate & plab & response & SE & df & lower.CL & upper.CL & trt\\\\\n",
       " <fct> & <chr> & <chr> & <dbl> & <dbl> & <dbl> & <dbl> & <dbl> & <fct>\\\\\n",
       "\\hline\n",
       "\t Ks6-5687   & 1e2 & p=0.21   & 0.5046660 & 0.078951189 & 505 & 0.4067163 & 0.7096622 & PROVEN 40           \\\\\n",
       "\t Ks6-5687   & 1e3 & p=0.0068 & 0.4365144 & 0.046728756 & 505 & 0.3847097 & 0.5923181 & PROVEN 40           \\\\\n",
       "\t Ks6-5687   & 1e4 & p=0.0013 & 0.4224906 & 0.037981882 & 505 & 0.3810757 & 0.5565468 & PROVEN 40           \\\\\n",
       "\t Ks6-5687   & 1e5 & p<0.001  & 0.4002901 & 0.024345823 & 505 & 0.3750405 & 0.4975737 & PROVEN 40           \\\\\n",
       "\t Kv137-2253 & 1e2 & p=0.36   & 0.3871222 & 0.015311283 & 505 & 0.3718247 & 0.4543735 & PROVEN 40           \\\\\n",
       "\t Kv137-2253 & 1e3 & p=0.21   & 0.3831576 & 0.012514047 & 505 & 0.3708825 & 0.4404289 & PROVEN 40           \\\\\n",
       "\t Kv137-2253 & 1e4 & p=0.025  & 0.3736981 & 0.005524513 & 505 & 0.3687730 & 0.4043904 & PROVEN 40           \\\\\n",
       "\t Kv137-2253 & 1e5 & p=0.16   & 0.3812302 & 0.011246633 & 505 & 0.3703902 & 0.4344572 & PROVEN 40           \\\\\n",
       "\t Ks6-5687   & 0   & NA       & 0.6282632 & 0.112167777 & 505 & 0.4581439 & 0.8395180 & Uninoculated Control\\\\\n",
       "\t Kv137-2253 & 0   & NA       & 0.4174008 & 0.035483061 & 505 & 0.3793999 & 0.5468336 & Uninoculated Control\\\\\n",
       "\\end{tabular}\n"
      ],
      "text/markdown": [
       "\n",
       "A data.frame: 10 × 9\n",
       "\n",
       "| target_strain &lt;fct&gt; | rate &lt;chr&gt; | plab &lt;chr&gt; | response &lt;dbl&gt; | SE &lt;dbl&gt; | df &lt;dbl&gt; | lower.CL &lt;dbl&gt; | upper.CL &lt;dbl&gt; | trt &lt;fct&gt; |\n",
       "|---|---|---|---|---|---|---|---|---|\n",
       "| Ks6-5687   | 1e2 | p=0.21   | 0.5046660 | 0.078951189 | 505 | 0.4067163 | 0.7096622 | PROVEN 40            |\n",
       "| Ks6-5687   | 1e3 | p=0.0068 | 0.4365144 | 0.046728756 | 505 | 0.3847097 | 0.5923181 | PROVEN 40            |\n",
       "| Ks6-5687   | 1e4 | p=0.0013 | 0.4224906 | 0.037981882 | 505 | 0.3810757 | 0.5565468 | PROVEN 40            |\n",
       "| Ks6-5687   | 1e5 | p&lt;0.001  | 0.4002901 | 0.024345823 | 505 | 0.3750405 | 0.4975737 | PROVEN 40            |\n",
       "| Kv137-2253 | 1e2 | p=0.36   | 0.3871222 | 0.015311283 | 505 | 0.3718247 | 0.4543735 | PROVEN 40            |\n",
       "| Kv137-2253 | 1e3 | p=0.21   | 0.3831576 | 0.012514047 | 505 | 0.3708825 | 0.4404289 | PROVEN 40            |\n",
       "| Kv137-2253 | 1e4 | p=0.025  | 0.3736981 | 0.005524513 | 505 | 0.3687730 | 0.4043904 | PROVEN 40            |\n",
       "| Kv137-2253 | 1e5 | p=0.16   | 0.3812302 | 0.011246633 | 505 | 0.3703902 | 0.4344572 | PROVEN 40            |\n",
       "| Ks6-5687   | 0   | NA       | 0.6282632 | 0.112167777 | 505 | 0.4581439 | 0.8395180 | Uninoculated Control |\n",
       "| Kv137-2253 | 0   | NA       | 0.4174008 | 0.035483061 | 505 | 0.3793999 | 0.5468336 | Uninoculated Control |\n",
       "\n"
      ],
      "text/plain": [
       "   target_strain rate plab     response  SE          df  lower.CL  upper.CL \n",
       "1  Ks6-5687      1e2  p=0.21   0.5046660 0.078951189 505 0.4067163 0.7096622\n",
       "2  Ks6-5687      1e3  p=0.0068 0.4365144 0.046728756 505 0.3847097 0.5923181\n",
       "3  Ks6-5687      1e4  p=0.0013 0.4224906 0.037981882 505 0.3810757 0.5565468\n",
       "4  Ks6-5687      1e5  p<0.001  0.4002901 0.024345823 505 0.3750405 0.4975737\n",
       "5  Kv137-2253    1e2  p=0.36   0.3871222 0.015311283 505 0.3718247 0.4543735\n",
       "6  Kv137-2253    1e3  p=0.21   0.3831576 0.012514047 505 0.3708825 0.4404289\n",
       "7  Kv137-2253    1e4  p=0.025  0.3736981 0.005524513 505 0.3687730 0.4043904\n",
       "8  Kv137-2253    1e5  p=0.16   0.3812302 0.011246633 505 0.3703902 0.4344572\n",
       "9  Ks6-5687      0    NA       0.6282632 0.112167777 505 0.4581439 0.8395180\n",
       "10 Kv137-2253    0    NA       0.4174008 0.035483061 505 0.3793999 0.5468336\n",
       "   trt                 \n",
       "1  PROVEN 40           \n",
       "2  PROVEN 40           \n",
       "3  PROVEN 40           \n",
       "4  PROVEN 40           \n",
       "5  PROVEN 40           \n",
       "6  PROVEN 40           \n",
       "7  PROVEN 40           \n",
       "8  PROVEN 40           \n",
       "9  Uninoculated Control\n",
       "10 Uninoculated Control"
      ]
     },
     "metadata": {},
     "output_type": "display_data"
    }
   ],
   "source": [
    "qpcr_mod_cond_means_table <- data.frame(qpcr_mod_cond_means$contrasts) %>% \n",
    "    transmute(target_strain, rate = substr(contrast,5,7),\n",
    "    plab = ifelse(p.value < 0.001,\"p<0.001\",paste0(\"p=\",signif(p.value,2)))) %>% \n",
    "    full_join(data.frame(qpcr_mod_cond_means$emmeans)) %>%\n",
    "left_join(qpcr %>% dplyr::select(rate,trt) %>% unique)# %>% \n",
    "\n",
    "qpcr_mod_cond_means_table\n",
    "\n",
    "qpcr_mod_zi_means_table <- data.frame(qpcr_mod_zi_means$contrasts) %>% \n",
    "    transmute(target_strain, rate = substr(contrast,5,7),\n",
    "    plab = ifelse(p.value < 0.001,\"p<0.001\",paste0(\"p=\",signif(p.value,2)))) %>% \n",
    "    full_join(data.frame(qpcr_mod_zi_means$emmeans)) %>%\n",
    "left_join(qpcr %>% dplyr::select(rate,trt) %>% unique)# %>% \n",
    "\n",
    "qpcr_mod_zi_means_table"
   ]
  },
  {
   "cell_type": "code",
   "execution_count": 30,
   "metadata": {
    "vscode": {
     "languageId": "r"
    }
   },
   "outputs": [],
   "source": [
    "names(qpcr_mod_cond_means_table) <- gsub(\"asymp.L\",\"lower.\",names(qpcr_mod_cond_means_table))\n",
    "names(qpcr_mod_cond_means_table) <- gsub(\"asymp.U\",\"upper.\",names(qpcr_mod_cond_means_table))\n",
    "names(qpcr_mod_cond_means_table) <- gsub(\"emmean\",\"response\",names(qpcr_mod_cond_means_table))\n",
    "\n",
    "names(qpcr_mod_zi_means_table) <- gsub(\"asymp.L\",\"lower.\",names(qpcr_mod_zi_means_table))\n",
    "names(qpcr_mod_zi_means_table) <- gsub(\"asymp.U\",\"upper.\",names(qpcr_mod_zi_means_table))\n",
    "names(qpcr_mod_zi_means_table) <- gsub(\"emmean\",\"response\",names(qpcr_mod_zi_means_table))"
   ]
  },
  {
   "cell_type": "code",
   "execution_count": 31,
   "metadata": {
    "vscode": {
     "languageId": "r"
    }
   },
   "outputs": [],
   "source": [
    "p1 <- qpcr_mod_cond_means_table %>% \n",
    "mutate(model = \"Conditional model\") %>% \n",
    "ggplot(aes(x = as.numeric(as.factor(rate)),response, fill = target_strain)) + \n",
    "facet_wrap(~model, scales = \"free\") +\n",
    "geom_col(colour = \"gray10\", width = 0.5, aes(), position = \"dodge\") + \n",
    "geom_errorbar(aes(ymax = upper.CL, ymin = lower.CL), width = 0.3, position = position_dodge(width = 0.5)) + \n",
    "geom_text(aes(label = plab, y = upper.CL*1.5), hjust = 0.85, size = 2.5, position = position_dodge(width = 0.5)) + \n",
    "scale_y_log10(breaks = c(10,100,1000,10000,100000)) +\n",
    "coord_cartesian(ylim  = c(10,100000), xlim = c(0.3,5.8), expand = F) +\n",
    "scale_fill_manual(values = myColorPalette) +\n",
    "scale_x_continuous(breaks = 1:5, labels=parse(text=c(\"0\",\"10^2\",\"10^3\",\"10^4\",\"10^5\"))) + \n",
    "labs(y = \"Copies per g of root fresh weight\", x = \"Inoculation rate (CFU per seed)\", fill = \"Primer strain target:\") + \n",
    "theme(axis.text.x = element_text(vjust = 0)) "
   ]
  },
  {
   "cell_type": "code",
   "execution_count": 32,
   "metadata": {
    "vscode": {
     "languageId": "r"
    }
   },
   "outputs": [],
   "source": [
    "p2 <- qpcr_mod_zi_means_table %>% \n",
    "mutate(model = \"Zero-inflation model\") %>% \n",
    "ggplot(aes(x = as.numeric(as.factor(rate)),response, fill = target_strain)) + \n",
    "facet_wrap(~model, scales = \"free\") +\n",
    "geom_col(colour = \"gray10\", width = 0.5, aes(), position = \"dodge\") + \n",
    "geom_errorbar(aes(ymax = upper.CL, ymin = lower.CL), width = 0.3, position = position_dodge(width = 0.5)) + \n",
    "geom_text(aes(label = plab, y = upper.CL + 0.05), hjust = 0.15, size = 2.5, position = position_dodge(width = 0.5)) + \n",
    "coord_cartesian(ylim  = c(0,1), xlim = c(0.3,5.8), expand = F) +\n",
    "scale_fill_manual(values = myColorPalette) +\n",
    "scale_x_continuous(breaks = 1:5, labels=parse(text=c(\"0\",\"10^2\",\"10^3\",\"10^4\",\"10^5\"))) + \n",
    "labs(y = \"Prob. of zero copies\", x = \"Inoculation rate (CFU per seed)\", fill = \"Primer strain target:\") + \n",
    "theme(axis.text.x = element_text(vjust = 0)) "
   ]
  },
  {
   "cell_type": "code",
   "execution_count": 33,
   "metadata": {
    "vscode": {
     "languageId": "r"
    }
   },
   "outputs": [
    {
     "name": "stderr",
     "output_type": "stream",
     "text": [
      "Warning message:\n",
      "\"\u001b[1m\u001b[22mRemoved 2 rows containing missing values (`geom_text()`).\"\n",
      "Warning message:\n",
      "\"\u001b[1m\u001b[22mRemoved 2 rows containing missing values (`geom_text()`).\"\n",
      "Warning message:\n",
      "\"\u001b[1m\u001b[22mRemoved 2 rows containing missing values (`geom_text()`).\"\n"
     ]
    },
    {
     "data": {
      "image/png": "[encoded data removed]",
      "text/plain": [
       "plot without title"
      ]
     },
     "metadata": {
      "image/png": {
       "height": 240,
       "width": 480
      }
     },
     "output_type": "display_data"
    }
   ],
   "source": [
    "options(repr.plot.width=8, repr.plot.height=4)\n",
    "\n",
    "ggarrange(p1,p2, common.legend = TRUE)"
   ]
  },
  {
   "cell_type": "code",
   "execution_count": 34,
   "metadata": {
    "vscode": {
     "languageId": "r"
    }
   },
   "outputs": [
    {
     "name": "stderr",
     "output_type": "stream",
     "text": [
      "Warning message in checkTerms(data.tmb1$terms, data.tmb0$terms):\n",
      "\"Predicting new random effect levels for terms: 1 | rep:trial\n",
      "Disable this warning with 'allow.new.levels=TRUE'\"\n",
      "Warning message in checkTerms(data.tmb1$termszi, data.tmb0$termszi):\n",
      "\"Predicting new random effect levels for terms: 1 | rep:trial\n",
      "Disable this warning with 'allow.new.levels=TRUE'\"\n"
     ]
    }
   ],
   "source": [
    "qpcr_mod_comb_means <- emmeans(qpcr_mod,  trt.vs.ctrl ~ rate|target_strain, component = \"response\", type= \"response\")"
   ]
  },
  {
   "cell_type": "code",
   "execution_count": 35,
   "metadata": {
    "vscode": {
     "languageId": "r"
    }
   },
   "outputs": [
    {
     "data": {
      "text/plain": [
       "target_strain = Ks6-5687:\n",
       " rate response   SE  df lower.CL upper.CL\n",
       " 0        10.4   13 505    0.211      106\n",
       " 1e2     119.0  163 505    7.358     1721\n",
       " 1e3     161.7  154 505   24.441     1040\n",
       " 1e4     843.1  849 505  116.060     6085\n",
       " 1e5    1480.5 1234 505  287.467     7607\n",
       "\n",
       "target_strain = Kv137-2253:\n",
       " rate response   SE  df lower.CL upper.CL\n",
       " 0        92.6   73 505   19.237      432\n",
       " 1e2     990.3  694 505  249.321     3925\n",
       " 1e3     858.9  589 505  223.023     3300\n",
       " 1e4    2558.4 1700 505  692.782     9441\n",
       " 1e5    3430.1 2385 505  874.397    13447\n",
       "\n",
       "Confidence level used: 0.95 \n",
       "Intervals are back-transformed from the log(mu + 1) scale "
      ]
     },
     "metadata": {},
     "output_type": "display_data"
    }
   ],
   "source": [
    "qpcr_mod_comb_means$emmeans"
   ]
  },
  {
   "cell_type": "code",
   "execution_count": 36,
   "metadata": {
    "vscode": {
     "languageId": "r"
    }
   },
   "outputs": [
    {
     "data": {
      "text/plain": [
       "target_strain = Ks6-5687:\n",
       " contrast         ratio     SE  df null t.ratio p.value\n",
       " rate1e2 / rate0  10.52   8.45 505    1   2.931  0.0131\n",
       " rate1e3 / rate0  14.27  11.17 505    1   3.398  0.0028\n",
       " rate1e4 / rate0  74.03  58.68 505    1   5.431  <.0001\n",
       " rate1e5 / rate0 129.94 113.78 505    1   5.558  <.0001\n",
       "\n",
       "target_strain = Kv137-2253:\n",
       " contrast         ratio     SE  df null t.ratio p.value\n",
       " rate1e2 / rate0  10.59   5.37 505    1   4.654  <.0001\n",
       " rate1e3 / rate0   9.19   4.86 505    1   4.187  0.0001\n",
       " rate1e4 / rate0  27.34  16.01 505    1   5.649  <.0001\n",
       " rate1e5 / rate0  36.65  19.41 505    1   6.800  <.0001\n",
       "\n",
       "P value adjustment: dunnettx method for 4 tests \n",
       "Tests are performed on the log scale "
      ]
     },
     "metadata": {},
     "output_type": "display_data"
    }
   ],
   "source": [
    "qpcr_mod_comb_means$contrasts"
   ]
  },
  {
   "cell_type": "code",
   "execution_count": 37,
   "metadata": {
    "vscode": {
     "languageId": "r"
    }
   },
   "outputs": [
    {
     "name": "stderr",
     "output_type": "stream",
     "text": [
      "\u001b[1m\u001b[22mJoining with `by = join_by(target_strain, rate)`\n",
      "\u001b[1m\u001b[22mJoining with `by = join_by(rate)`\n"
     ]
    }
   ],
   "source": [
    "qpcr_mod_comb_means_table <- data.frame(qpcr_mod_comb_means$contrasts) %>% \n",
    "    transmute(target_strain, rate = substr(contrast,5,7),\n",
    "    plab = ifelse(p.value < 0.001,\"p<0.001\",paste0(\"p=\",signif(p.value,2)))) %>% \n",
    "    full_join(data.frame(qpcr_mod_comb_means$emmeans)) %>%\n",
    "left_join(qpcr %>% dplyr::select(rate,trt) %>% unique)# %>% \n"
   ]
  },
  {
   "cell_type": "code",
   "execution_count": 38,
   "metadata": {
    "vscode": {
     "languageId": "r"
    }
   },
   "outputs": [],
   "source": [
    "names(qpcr_mod_comb_means_table) <- gsub(\"asymp.L\",\"lower.\",names(qpcr_mod_comb_means_table))\n",
    "names(qpcr_mod_comb_means_table) <- gsub(\"asymp.U\",\"upper.\",names(qpcr_mod_comb_means_table))\n",
    "names(qpcr_mod_comb_means_table) <- gsub(\"emmean|estimate\",\"response\",names(qpcr_mod_comb_means_table))"
   ]
  },
  {
   "cell_type": "code",
   "execution_count": 39,
   "metadata": {
    "vscode": {
     "languageId": "r"
    }
   },
   "outputs": [
    {
     "data": {
      "text/html": [
       "<table class=\"dataframe\">\n",
       "<caption>A data.frame: 10 × 9</caption>\n",
       "<thead>\n",
       "\t<tr><th scope=col>target_strain</th><th scope=col>rate</th><th scope=col>plab</th><th scope=col>response</th><th scope=col>SE</th><th scope=col>df</th><th scope=col>lower.CL</th><th scope=col>upper.CL</th><th scope=col>trt</th></tr>\n",
       "\t<tr><th scope=col>&lt;fct&gt;</th><th scope=col>&lt;chr&gt;</th><th scope=col>&lt;chr&gt;</th><th scope=col>&lt;dbl&gt;</th><th scope=col>&lt;dbl&gt;</th><th scope=col>&lt;dbl&gt;</th><th scope=col>&lt;dbl&gt;</th><th scope=col>&lt;dbl&gt;</th><th scope=col>&lt;fct&gt;</th></tr>\n",
       "</thead>\n",
       "<tbody>\n",
       "\t<tr><td>Ks6-5687  </td><td>1e2</td><td>p=0.013 </td><td> 118.96341</td><td> 162.66159</td><td>505</td><td>  7.3581306</td><td> 1720.8229</td><td>PROVEN 40           </td></tr>\n",
       "\t<tr><td>Ks6-5687  </td><td>1e3</td><td>p=0.0028</td><td> 161.72398</td><td> 153.69900</td><td>505</td><td> 24.4406221</td><td> 1039.8194</td><td>PROVEN 40           </td></tr>\n",
       "\t<tr><td><span style=white-space:pre-wrap>Ks6-5687  </span></td><td>1e4</td><td>p&lt;0.001 </td><td> 843.06537</td><td> 848.73492</td><td>505</td><td>116.0601976</td><td> 6085.1536</td><td><span style=white-space:pre-wrap>PROVEN 40           </span></td></tr>\n",
       "\t<tr><td><span style=white-space:pre-wrap>Ks6-5687  </span></td><td>1e5</td><td>p&lt;0.001 </td><td>1480.48274</td><td>1233.80911</td><td>505</td><td>287.4665599</td><td> 7607.4767</td><td><span style=white-space:pre-wrap>PROVEN 40           </span></td></tr>\n",
       "\t<tr><td>Kv137-2253</td><td>1e2</td><td>p&lt;0.001 </td><td> 990.28828</td><td> 694.40071</td><td>505</td><td>249.3214094</td><td> 3924.5630</td><td><span style=white-space:pre-wrap>PROVEN 40           </span></td></tr>\n",
       "\t<tr><td>Kv137-2253</td><td>1e3</td><td>p&lt;0.001 </td><td> 858.93169</td><td> 588.74858</td><td>505</td><td>223.0228800</td><td> 3299.9241</td><td><span style=white-space:pre-wrap>PROVEN 40           </span></td></tr>\n",
       "\t<tr><td>Kv137-2253</td><td>1e4</td><td>p&lt;0.001 </td><td>2558.37810</td><td>1700.49343</td><td>505</td><td>692.7823968</td><td> 9440.6006</td><td><span style=white-space:pre-wrap>PROVEN 40           </span></td></tr>\n",
       "\t<tr><td>Kv137-2253</td><td>1e5</td><td>p&lt;0.001 </td><td>3430.06005</td><td>2385.45835</td><td>505</td><td>874.3974098</td><td>13446.8044</td><td><span style=white-space:pre-wrap>PROVEN 40           </span></td></tr>\n",
       "\t<tr><td>Ks6-5687  </td><td>0  </td><td>NA      </td><td>  10.40133</td><td>  13.01318</td><td>505</td><td>  0.2108267</td><td>  106.3567</td><td>Uninoculated Control</td></tr>\n",
       "\t<tr><td>Kv137-2253</td><td>0  </td><td>NA      </td><td>  92.61466</td><td>  72.98293</td><td>505</td><td> 19.2369158</td><td>  432.0554</td><td>Uninoculated Control</td></tr>\n",
       "</tbody>\n",
       "</table>\n"
      ],
      "text/latex": [
       "A data.frame: 10 × 9\n",
       "\\begin{tabular}{lllllllll}\n",
       " target\\_strain & rate & plab & response & SE & df & lower.CL & upper.CL & trt\\\\\n",
       " <fct> & <chr> & <chr> & <dbl> & <dbl> & <dbl> & <dbl> & <dbl> & <fct>\\\\\n",
       "\\hline\n",
       "\t Ks6-5687   & 1e2 & p=0.013  &  118.96341 &  162.66159 & 505 &   7.3581306 &  1720.8229 & PROVEN 40           \\\\\n",
       "\t Ks6-5687   & 1e3 & p=0.0028 &  161.72398 &  153.69900 & 505 &  24.4406221 &  1039.8194 & PROVEN 40           \\\\\n",
       "\t Ks6-5687   & 1e4 & p<0.001  &  843.06537 &  848.73492 & 505 & 116.0601976 &  6085.1536 & PROVEN 40           \\\\\n",
       "\t Ks6-5687   & 1e5 & p<0.001  & 1480.48274 & 1233.80911 & 505 & 287.4665599 &  7607.4767 & PROVEN 40           \\\\\n",
       "\t Kv137-2253 & 1e2 & p<0.001  &  990.28828 &  694.40071 & 505 & 249.3214094 &  3924.5630 & PROVEN 40           \\\\\n",
       "\t Kv137-2253 & 1e3 & p<0.001  &  858.93169 &  588.74858 & 505 & 223.0228800 &  3299.9241 & PROVEN 40           \\\\\n",
       "\t Kv137-2253 & 1e4 & p<0.001  & 2558.37810 & 1700.49343 & 505 & 692.7823968 &  9440.6006 & PROVEN 40           \\\\\n",
       "\t Kv137-2253 & 1e5 & p<0.001  & 3430.06005 & 2385.45835 & 505 & 874.3974098 & 13446.8044 & PROVEN 40           \\\\\n",
       "\t Ks6-5687   & 0   & NA       &   10.40133 &   13.01318 & 505 &   0.2108267 &   106.3567 & Uninoculated Control\\\\\n",
       "\t Kv137-2253 & 0   & NA       &   92.61466 &   72.98293 & 505 &  19.2369158 &   432.0554 & Uninoculated Control\\\\\n",
       "\\end{tabular}\n"
      ],
      "text/markdown": [
       "\n",
       "A data.frame: 10 × 9\n",
       "\n",
       "| target_strain &lt;fct&gt; | rate &lt;chr&gt; | plab &lt;chr&gt; | response &lt;dbl&gt; | SE &lt;dbl&gt; | df &lt;dbl&gt; | lower.CL &lt;dbl&gt; | upper.CL &lt;dbl&gt; | trt &lt;fct&gt; |\n",
       "|---|---|---|---|---|---|---|---|---|\n",
       "| Ks6-5687   | 1e2 | p=0.013  |  118.96341 |  162.66159 | 505 |   7.3581306 |  1720.8229 | PROVEN 40            |\n",
       "| Ks6-5687   | 1e3 | p=0.0028 |  161.72398 |  153.69900 | 505 |  24.4406221 |  1039.8194 | PROVEN 40            |\n",
       "| Ks6-5687   | 1e4 | p&lt;0.001  |  843.06537 |  848.73492 | 505 | 116.0601976 |  6085.1536 | PROVEN 40            |\n",
       "| Ks6-5687   | 1e5 | p&lt;0.001  | 1480.48274 | 1233.80911 | 505 | 287.4665599 |  7607.4767 | PROVEN 40            |\n",
       "| Kv137-2253 | 1e2 | p&lt;0.001  |  990.28828 |  694.40071 | 505 | 249.3214094 |  3924.5630 | PROVEN 40            |\n",
       "| Kv137-2253 | 1e3 | p&lt;0.001  |  858.93169 |  588.74858 | 505 | 223.0228800 |  3299.9241 | PROVEN 40            |\n",
       "| Kv137-2253 | 1e4 | p&lt;0.001  | 2558.37810 | 1700.49343 | 505 | 692.7823968 |  9440.6006 | PROVEN 40            |\n",
       "| Kv137-2253 | 1e5 | p&lt;0.001  | 3430.06005 | 2385.45835 | 505 | 874.3974098 | 13446.8044 | PROVEN 40            |\n",
       "| Ks6-5687   | 0   | NA       |   10.40133 |   13.01318 | 505 |   0.2108267 |   106.3567 | Uninoculated Control |\n",
       "| Kv137-2253 | 0   | NA       |   92.61466 |   72.98293 | 505 |  19.2369158 |   432.0554 | Uninoculated Control |\n",
       "\n"
      ],
      "text/plain": [
       "   target_strain rate plab     response   SE         df  lower.CL    upper.CL  \n",
       "1  Ks6-5687      1e2  p=0.013   118.96341  162.66159 505   7.3581306  1720.8229\n",
       "2  Ks6-5687      1e3  p=0.0028  161.72398  153.69900 505  24.4406221  1039.8194\n",
       "3  Ks6-5687      1e4  p<0.001   843.06537  848.73492 505 116.0601976  6085.1536\n",
       "4  Ks6-5687      1e5  p<0.001  1480.48274 1233.80911 505 287.4665599  7607.4767\n",
       "5  Kv137-2253    1e2  p<0.001   990.28828  694.40071 505 249.3214094  3924.5630\n",
       "6  Kv137-2253    1e3  p<0.001   858.93169  588.74858 505 223.0228800  3299.9241\n",
       "7  Kv137-2253    1e4  p<0.001  2558.37810 1700.49343 505 692.7823968  9440.6006\n",
       "8  Kv137-2253    1e5  p<0.001  3430.06005 2385.45835 505 874.3974098 13446.8044\n",
       "9  Ks6-5687      0    NA         10.40133   13.01318 505   0.2108267   106.3567\n",
       "10 Kv137-2253    0    NA         92.61466   72.98293 505  19.2369158   432.0554\n",
       "   trt                 \n",
       "1  PROVEN 40           \n",
       "2  PROVEN 40           \n",
       "3  PROVEN 40           \n",
       "4  PROVEN 40           \n",
       "5  PROVEN 40           \n",
       "6  PROVEN 40           \n",
       "7  PROVEN 40           \n",
       "8  PROVEN 40           \n",
       "9  Uninoculated Control\n",
       "10 Uninoculated Control"
      ]
     },
     "metadata": {},
     "output_type": "display_data"
    }
   ],
   "source": [
    "qpcr_mod_comb_means_table"
   ]
  },
  {
   "cell_type": "code",
   "execution_count": 40,
   "metadata": {
    "vscode": {
     "languageId": "r"
    }
   },
   "outputs": [
    {
     "name": "stderr",
     "output_type": "stream",
     "text": [
      "Warning message:\n",
      "\"\u001b[1m\u001b[22mRemoved 2 rows containing missing values (`geom_text()`).\"\n"
     ]
    },
    {
     "data": {
      "image/png": "[encoded data removed]",
      "text/plain": [
       "plot without title"
      ]
     },
     "metadata": {
      "image/png": {
       "height": 240,
       "width": 480
      }
     },
     "output_type": "display_data"
    }
   ],
   "source": [
    "options(repr.plot.width=8, repr.plot.height=4)\n",
    "\n",
    "qpcr_mod_comb_means_table %>% \n",
    "ggplot(aes(x = as.numeric(as.factor(rate)),response, fill = target_strain)) + \n",
    "geom_col(colour = \"gray10\", width = 0.5, aes(), position = \"dodge\") + \n",
    "geom_errorbar(aes(ymax = upper.CL, ymin = pmax(1,lower.CL)), width = 0.1, position = position_dodge(width = 0.5)) + \n",
    "geom_text(aes(label = plab, y = upper.CL*1.5), hjust = 0.85, size = 3.5, position = position_dodge(width = 0.5)) + \n",
    "geom_hline(yintercept = 1) + \n",
    "scale_y_log10(breaks = c(10,100,1000,10000,100000)) +\n",
    "coord_cartesian(#ylim  = c(1,100000), \n",
    "xlim = c(0.3,5.8), expand = T) +\n",
    "scale_fill_manual(values = myColorPalette) +\n",
    "scale_x_continuous(breaks = 1:5, labels=parse(text=c(\"0\",\"10^2\",\"10^3\",\"10^4\",\"10^5\"))) + \n",
    "facet_wrap(~target_strain) + \n",
    "labs(y = \"Copies per g fresh root tissue\", x = \"Inoculation rate (CFU per seed)\") + \n",
    "theme(axis.text.x = element_text(vjust = 0), legend.position = \"none\") \n",
    "\n",
    "#ggsave(\"./figures/strain_colonization.jpeg\",width = 8, height = 4)"
   ]
  },
  {
   "cell_type": "code",
   "execution_count": 41,
   "metadata": {
    "vscode": {
     "languageId": "r"
    }
   },
   "outputs": [
    {
     "name": "stderr",
     "output_type": "stream",
     "text": [
      "Warning message in geom_col(colour = \"gray10\", width = 0.5, aes(shape = target_strain), :\n",
      "\"\u001b[1m\u001b[22mIgnoring unknown aesthetics: \u001b[32mshape\u001b[39m\"\n"
     ]
    },
    {
     "name": "stderr",
     "output_type": "stream",
     "text": [
      "Warning message:\n",
      "\"\u001b[1m\u001b[22mRemoved 2 rows containing missing values (`geom_text()`).\"\n",
      "Warning message:\n",
      "\"\u001b[1m\u001b[22mRemoved 2 rows containing missing values (`geom_text()`).\"\n"
     ]
    },
    {
     "data": {
      "image/png": "[encoded data removed]",
      "text/plain": [
       "plot without title"
      ]
     },
     "metadata": {
      "image/png": {
       "height": 240,
       "width": 360
      }
     },
     "output_type": "display_data"
    }
   ],
   "source": [
    "options(repr.plot.width=6, repr.plot.height=4)\n",
    "\n",
    "qpcr_mod_comb_means_table %>% \n",
    "ggplot(aes(x = as.numeric(as.factor(rate)),response, fill = target_strain)) + \n",
    "geom_col(colour = \"gray10\", width = 0.5, aes(shape = target_strain), position = position_dodge(width = 0.5)) + \n",
    "geom_errorbar(aes(ymax = upper.CL, ymin = pmax(1,lower.CL)), width = 0, position = position_dodge(width = 0.5)) + \n",
    "geom_text(aes(label = plab, y = upper.CL + 500), hjust = 0.9, size = 3.5, position = position_dodge(width = 0.5)) + \n",
    "geom_hline(yintercept = 1) + \n",
    "#scale_y_log10(breaks = c(1,10,100,1000,10000,100000)) +\n",
    "coord_cartesian(ylim  = c(0,ceiling(max(qpcr_mod_comb_means_table$upper.CL + 1000)/1000)*1000), \n",
    "xlim = c(0.3,5.8), expand = F) +\n",
    "scale_fill_manual(values = myColorPalette) +\n",
    "scale_shape_manual(values = c(21,23)) + \n",
    "scale_x_continuous(breaks = 1:5, labels=parse(text=c(\"0\",\"10^2\",\"10^3\",\"10^4\",\"10^5\"))) + \n",
    "#facet_wrap(~target_strain) + \n",
    "labs(y = \"Copies per g fresh root tissue\", x = \"Inoculation rate (CFU per seed)\", fill = \"Primer target:\") + \n",
    "theme(axis.text.x = element_text(vjust = 0), legend.position = c(0.25,0.75)\n",
    ") \n",
    "\n",
    "ggsave(\"./figures/strain_colonization.jpeg\",width = 6, height = 4)\n"
   ]
  },
  {
   "cell_type": "code",
   "execution_count": 42,
   "metadata": {
    "vscode": {
     "languageId": "r"
    }
   },
   "outputs": [
    {
     "name": "stderr",
     "output_type": "stream",
     "text": [
      "Warning message in checkTerms(data.tmb1$terms, data.tmb0$terms):\n",
      "\"Predicting new random effect levels for terms: 1 | rep:trial\n",
      "Disable this warning with 'allow.new.levels=TRUE'\"\n",
      "Warning message in checkTerms(data.tmb1$termszi, data.tmb0$termszi):\n",
      "\"Predicting new random effect levels for terms: 1 | rep:trial\n",
      "Disable this warning with 'allow.new.levels=TRUE'\"\n"
     ]
    },
    {
     "data": {
      "text/plain": [
       " contrast                  ratio   SE  df null t.ratio p.value\n",
       " (Kv137-2253) / (Ks6-5687)  4.79 2.97 505    1   2.527  0.0118\n",
       "\n",
       "Results are averaged over the levels of: rate \n",
       "Tests are performed on the log scale "
      ]
     },
     "metadata": {},
     "output_type": "display_data"
    }
   ],
   "source": [
    "emmeans(qpcr_mod,  trt.vs.ctrl ~ target_strain, component = \"response\", type= \"response\")$contrast"
   ]
  },
  {
   "cell_type": "code",
   "execution_count": 43,
   "metadata": {
    "vscode": {
     "languageId": "r"
    }
   },
   "outputs": [
    {
     "data": {
      "text/html": [
       "0.208768267223382"
      ],
      "text/latex": [
       "0.208768267223382"
      ],
      "text/markdown": [
       "0.208768267223382"
      ],
      "text/plain": [
       "[1] 0.2087683"
      ]
     },
     "metadata": {},
     "output_type": "display_data"
    }
   ],
   "source": [
    "1/4.79 "
   ]
  },
  {
   "cell_type": "markdown",
   "metadata": {},
   "source": [
    "## Check if there is evidence of increse with Inoculation rate"
   ]
  },
  {
   "cell_type": "code",
   "execution_count": 44,
   "metadata": {
    "vscode": {
     "languageId": "r"
    }
   },
   "outputs": [],
   "source": [
    "qpcr_lin_mod_1 <- glmmTMB(log(copies_per_g_fw + 1) ~ rate_num * target_strain  + (1|trial/rep),\n",
    "                        zi=~.,\n",
    "                        #dispformula  = ~ rate + target_strain,\n",
    "                        family = \"gaussian\",\n",
    "                        data = qpcr)"
   ]
  },
  {
   "cell_type": "code",
   "execution_count": 45,
   "metadata": {
    "vscode": {
     "languageId": "r"
    }
   },
   "outputs": [
    {
     "data": {
      "image/png": "[encoded data removed]",
      "text/plain": [
       "Plot with title \"Residual vs. predicted\n",
       "Quantile deviations detected (red curves)\n",
       "Combined adjusted quantile test significant\""
      ]
     },
     "metadata": {
      "image/png": {
       "height": 240,
       "width": 360
      }
     },
     "output_type": "display_data"
    }
   ],
   "source": [
    "qpcr_lin_mod_1_sim  <- simulateResiduals(fittedModel = qpcr_lin_mod_1, plot = T)\n"
   ]
  },
  {
   "cell_type": "code",
   "execution_count": 46,
   "metadata": {
    "vscode": {
     "languageId": "r"
    }
   },
   "outputs": [
    {
     "name": "stderr",
     "output_type": "stream",
     "text": [
      "Warning message in printHypothesis(L, rhs, names(b)):\n",
      "\"one or more coefficients in the hypothesis include\n",
      "     arithmetic operators in their names;\n",
      "  the printed representation of the hypothesis will be omitted\"\n",
      "Warning message in printHypothesis(L, rhs, names(b)):\n",
      "\"one or more coefficients in the hypothesis include\n",
      "     arithmetic operators in their names;\n",
      "  the printed representation of the hypothesis will be omitted\"\n"
     ]
    },
    {
     "data": {
      "text/html": [
       "<table class=\"dataframe\">\n",
       "<caption>A anova: 4 × 3</caption>\n",
       "<thead>\n",
       "\t<tr><th></th><th scope=col>Chisq</th><th scope=col>Df</th><th scope=col>Pr(&gt;Chisq)</th></tr>\n",
       "\t<tr><th></th><th scope=col>&lt;dbl&gt;</th><th scope=col>&lt;dbl&gt;</th><th scope=col>&lt;dbl&gt;</th></tr>\n",
       "</thead>\n",
       "<tbody>\n",
       "\t<tr><th scope=row>(Intercept)</th><td>113.8630958</td><td>1</td><td>1.396232e-26</td></tr>\n",
       "\t<tr><th scope=row>rate_num</th><td> 12.5210018</td><td>1</td><td>4.024031e-04</td></tr>\n",
       "\t<tr><th scope=row>target_strain</th><td>  0.4792344</td><td>1</td><td>4.887693e-01</td></tr>\n",
       "\t<tr><th scope=row>rate_num:target_strain</th><td>  0.2689965</td><td>1</td><td>6.040057e-01</td></tr>\n",
       "</tbody>\n",
       "</table>\n"
      ],
      "text/latex": [
       "A anova: 4 × 3\n",
       "\\begin{tabular}{r|lll}\n",
       "  & Chisq & Df & Pr(>Chisq)\\\\\n",
       "  & <dbl> & <dbl> & <dbl>\\\\\n",
       "\\hline\n",
       "\t(Intercept) & 113.8630958 & 1 & 1.396232e-26\\\\\n",
       "\trate\\_num &  12.5210018 & 1 & 4.024031e-04\\\\\n",
       "\ttarget\\_strain &   0.4792344 & 1 & 4.887693e-01\\\\\n",
       "\trate\\_num:target\\_strain &   0.2689965 & 1 & 6.040057e-01\\\\\n",
       "\\end{tabular}\n"
      ],
      "text/markdown": [
       "\n",
       "A anova: 4 × 3\n",
       "\n",
       "| <!--/--> | Chisq &lt;dbl&gt; | Df &lt;dbl&gt; | Pr(&gt;Chisq) &lt;dbl&gt; |\n",
       "|---|---|---|---|\n",
       "| (Intercept) | 113.8630958 | 1 | 1.396232e-26 |\n",
       "| rate_num |  12.5210018 | 1 | 4.024031e-04 |\n",
       "| target_strain |   0.4792344 | 1 | 4.887693e-01 |\n",
       "| rate_num:target_strain |   0.2689965 | 1 | 6.040057e-01 |\n",
       "\n"
      ],
      "text/plain": [
       "                       Chisq       Df Pr(>Chisq)  \n",
       "(Intercept)            113.8630958 1  1.396232e-26\n",
       "rate_num                12.5210018 1  4.024031e-04\n",
       "target_strain            0.4792344 1  4.887693e-01\n",
       "rate_num:target_strain   0.2689965 1  6.040057e-01"
      ]
     },
     "metadata": {},
     "output_type": "display_data"
    },
    {
     "data": {
      "text/plain": [
       " Family: gaussian  ( identity )\n",
       "Formula:          \n",
       "log(copies_per_g_fw + 1) ~ rate_num * target_strain + (1 | trial/rep)\n",
       "Zero inflation:                            ~.\n",
       "Data: qpcr\n",
       "\n",
       "     AIC      BIC   logLik deviance df.resid \n",
       "  2319.6   2375.2  -1146.8   2293.6      522 \n",
       "\n",
       "Random effects:\n",
       "\n",
       "Conditional model:\n",
       " Groups    Name        Variance Std.Dev.\n",
       " rep:trial (Intercept) 0.3346   0.5784  \n",
       " trial     (Intercept) 3.0766   1.7540  \n",
       " Residual              4.8721   2.2073  \n",
       "Number of obs: 535, groups:  rep:trial, 54; trial, 9\n",
       "\n",
       "Zero-inflation model:\n",
       " Groups    Name        Variance Std.Dev.\n",
       " rep:trial (Intercept) 0.09621  0.3102  \n",
       " trial     (Intercept) 2.81699  1.6784  \n",
       " Residual              4.87207  2.2073  \n",
       "Number of obs: 535, groups:  rep:trial, 54; trial, 9\n",
       "\n",
       "Dispersion estimate for gaussian family (sigma^2): 4.87 \n",
       "\n",
       "Conditional model:\n",
       "                                  Estimate Std. Error z value Pr(>|z|)    \n",
       "(Intercept)                      6.688e+00  6.268e-01  10.671  < 2e-16 ***\n",
       "rate_num                         1.417e-05  4.004e-06   3.539 0.000402 ***\n",
       "target_strainKv137-2253          1.851e-01  2.673e-01   0.692 0.488769    \n",
       "rate_num:target_strainKv137-2253 2.826e-06  5.449e-06   0.519 0.604006    \n",
       "---\n",
       "Signif. codes:  0 '***' 0.001 '**' 0.01 '*' 0.05 '.' 0.1 ' ' 1\n",
       "\n",
       "Zero-inflation model:\n",
       "                                   Estimate Std. Error z value Pr(>|z|)    \n",
       "(Intercept)                      -8.431e-01  6.034e-01  -1.397  0.16236    \n",
       "rate_num                         -1.531e-05  4.941e-06  -3.099  0.00194 ** \n",
       "target_strainKv137-2253          -1.899e+00  3.299e-01  -5.755 8.67e-09 ***\n",
       "rate_num:target_strainKv137-2253  1.023e-05  7.841e-06   1.305  0.19176    \n",
       "---\n",
       "Signif. codes:  0 '***' 0.001 '**' 0.01 '*' 0.05 '.' 0.1 ' ' 1"
      ]
     },
     "metadata": {},
     "output_type": "display_data"
    }
   ],
   "source": [
    "Anova(qpcr_lin_mod_1,\"III\")\n",
    "summary(qpcr_lin_mod_1)"
   ]
  }
 ],
 "metadata": {
  "kernelspec": {
   "display_name": "R",
   "language": "R",
   "name": "ir"
  },
  "language_info": {
   "codemirror_mode": "r",
   "file_extension": ".r",
   "mimetype": "text/x-r-source",
   "name": "R",
   "pygments_lexer": "r",
   "version": "4.1.3"
  }
 },
 "nbformat": 4,
 "nbformat_minor": 2
}
