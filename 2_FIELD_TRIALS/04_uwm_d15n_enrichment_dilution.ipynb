{
 "cells": [
  {
   "cell_type": "code",
   "execution_count": 1,
   "metadata": {
    "vscode": {
     "languageId": "r"
    }
   },
   "outputs": [
    {
     "name": "stderr",
     "output_type": "stream",
     "text": [
      "-- \u001b[1mAttaching core tidyverse packages\u001b[22m ------------------------ tidyverse 2.0.0 --\n",
      "\u001b[32mv\u001b[39m \u001b[34mdplyr    \u001b[39m 1.1.2     \u001b[32mv\u001b[39m \u001b[34mreadr    \u001b[39m 2.1.4\n",
      "\u001b[32mv\u001b[39m \u001b[34mforcats  \u001b[39m 1.0.0     \u001b[32mv\u001b[39m \u001b[34mstringr  \u001b[39m 1.5.0\n",
      "\u001b[32mv\u001b[39m \u001b[34mggplot2  \u001b[39m 3.4.2     \u001b[32mv\u001b[39m \u001b[34mtibble   \u001b[39m 3.2.1\n",
      "\u001b[32mv\u001b[39m \u001b[34mlubridate\u001b[39m 1.9.2     \u001b[32mv\u001b[39m \u001b[34mtidyr    \u001b[39m 1.3.0\n",
      "\u001b[32mv\u001b[39m \u001b[34mpurrr    \u001b[39m 1.0.2     \n",
      "-- \u001b[1mConflicts\u001b[22m ------------------------------------------ tidyverse_conflicts() --\n",
      "\u001b[31mx\u001b[39m \u001b[34mdplyr\u001b[39m::\u001b[32mfilter()\u001b[39m masks \u001b[34mstats\u001b[39m::filter()\n",
      "\u001b[31mx\u001b[39m \u001b[34mdplyr\u001b[39m::\u001b[32mlag()\u001b[39m    masks \u001b[34mstats\u001b[39m::lag()\n",
      "\u001b[36mi\u001b[39m Use the conflicted package (\u001b[3m\u001b[34m<http://conflicted.r-lib.org/>\u001b[39m\u001b[23m) to force all conflicts to become errors\n",
      "Loading required package: Matrix\n",
      "\n",
      "\n",
      "Attaching package: 'Matrix'\n",
      "\n",
      "\n",
      "The following objects are masked from 'package:tidyr':\n",
      "\n",
      "    expand, pack, unpack\n",
      "\n",
      "\n",
      "\n",
      "Attaching package: 'lmerTest'\n",
      "\n",
      "\n",
      "The following object is masked from 'package:lme4':\n",
      "\n",
      "    lmer\n",
      "\n",
      "\n",
      "The following object is masked from 'package:stats':\n",
      "\n",
      "    step\n",
      "\n",
      "\n",
      "Loading required package: carData\n",
      "\n",
      "\n",
      "Attaching package: 'car'\n",
      "\n",
      "\n",
      "The following object is masked from 'package:dplyr':\n",
      "\n",
      "    recode\n",
      "\n",
      "\n",
      "The following object is masked from 'package:purrr':\n",
      "\n",
      "    some\n",
      "\n",
      "\n",
      "Loading required package: mvtnorm\n",
      "\n",
      "Loading required package: survival\n",
      "\n",
      "Loading required package: TH.data\n",
      "\n",
      "Loading required package: MASS\n",
      "\n",
      "\n",
      "Attaching package: 'MASS'\n",
      "\n",
      "\n",
      "The following object is masked from 'package:dplyr':\n",
      "\n",
      "    select\n",
      "\n",
      "\n",
      "\n",
      "Attaching package: 'TH.data'\n",
      "\n",
      "\n",
      "The following object is masked from 'package:MASS':\n",
      "\n",
      "    geyser\n",
      "\n",
      "\n"
     ]
    }
   ],
   "source": [
    "library(tidyverse)\n",
    "library(lme4)\n",
    "library(lmerTest)\n",
    "library(emmeans)\n",
    "library(car)\n",
    "library(multcomp)\n",
    "library(multcompView)\n",
    "library(ggpubr)\n",
    "\n",
    "theme_set(ggthemes::theme_few() + theme(text = element_text(size = 14), strip.text = element_text(size = 16)))\n",
    "\n",
    "options(repr.plot.width=5, repr.plot.height=5)\n",
    "\n",
    "myColorPalette <- c(\"#005AB5\",\"#DC3220\")\n",
    "\n",
    "# equation of d15n to atom excess\n",
    "#### 0.0004x + 0.3683\n",
    "#### 0.0004x + 0.3727\n",
    "#### 0.0004x + 0.3690\n",
    "\n",
    "# Atom excess = 0.0004*d15n_permil + 0.37\n",
    "d15n_2_ae <- function(x) 0.0004*x + 0.37"
   ]
  },
  {
   "cell_type": "code",
   "execution_count": 2,
   "metadata": {
    "vscode": {
     "languageId": "r"
    }
   },
   "outputs": [],
   "source": [
    "# Helper function to check model assumptions   \n",
    "check_assumptions <- function(mod) {\n",
    "\n",
    "   print(plot(mod)) # resid x pred\n",
    "   print(plot(density(resid(mod))))  #A density plot\n",
    "   # Make sure the residuals are normal\n",
    "   shapiro.test(residuals(mod)) \n",
    "}"
   ]
  },
  {
   "cell_type": "markdown",
   "metadata": {},
   "source": [
    "## Hancock 2021"
   ]
  },
  {
   "cell_type": "code",
   "execution_count": 3,
   "metadata": {
    "vscode": {
     "languageId": "r"
    }
   },
   "outputs": [
    {
     "name": "stdout",
     "output_type": "stream",
     "text": [
      "'data.frame':\t120 obs. of  8 variables:\n",
      " $ location : chr  \"Hancock\" \"Hancock\" \"Hancock\" \"Hancock\" ...\n",
      " $ year     : int  2021 2021 2021 2021 2021 2021 2021 2021 2021 2021 ...\n",
      " $ site_year: chr  \"Hancock - 2021\" \"Hancock - 2021\" \"Hancock - 2021\" \"Hancock - 2021\" ...\n",
      " $ sampling : int  1 1 1 1 1 1 1 1 1 1 ...\n",
      " $ plot     : int  103 104 107 110 111 113 116 119 121 123 ...\n",
      " $ rep      : int  1 1 2 2 3 3 4 4 5 5 ...\n",
      " $ treatment: chr  \"UTC\" \"ProveN40\" \"ProveN40\" \"UTC\" ...\n",
      " $ delta15N : num  1110 663 887 987 1286 ...\n"
     ]
    }
   ],
   "source": [
    "uwm21 <- read.csv(\"./datasets/MOA_21_UWM.csv\")[-1]\n",
    "str(uwm21)\n"
   ]
  },
  {
   "cell_type": "code",
   "execution_count": 4,
   "metadata": {
    "vscode": {
     "languageId": "r"
    }
   },
   "outputs": [],
   "source": [
    "\n",
    "# To factor\n",
    "uwm21 <- uwm21 %>% mutate_at(c(\"location\",\"year\",\"site_year\",\"sampling\",\"plot\",\"rep\",\"treatment\"), factor)\n",
    "\n",
    "#uwm21$delta15N  <- d15n_2_ae(uwm21$delta15N )\n",
    "\n",
    "# Factor levels \n",
    "uwm21$treatment <- factor(uwm21$treatment, levels = c('UTC','ProveN40'),  labels = c('UTC','PROVEN40'))\n",
    "uwm21$sampling <- factor(uwm21$sampling, levels = 1:5, labels = c(\"V4\",\"V5\",\"V8\",\"V12\",\"VT\"))\n"
   ]
  },
  {
   "cell_type": "code",
   "execution_count": 5,
   "metadata": {
    "vscode": {
     "languageId": "r"
    }
   },
   "outputs": [
    {
     "data": {
      "text/html": [
       "<table class=\"dataframe\">\n",
       "<caption>A anova: 2 × 3</caption>\n",
       "<thead>\n",
       "\t<tr><th></th><th scope=col>Df</th><th scope=col>F value</th><th scope=col>Pr(&gt;F)</th></tr>\n",
       "\t<tr><th></th><th scope=col>&lt;int&gt;</th><th scope=col>&lt;dbl&gt;</th><th scope=col>&lt;dbl&gt;</th></tr>\n",
       "</thead>\n",
       "<tbody>\n",
       "\t<tr><th scope=row>group</th><td>  1</td><td>0.0142938</td><td>0.9050377</td></tr>\n",
       "\t<tr><th scope=row> </th><td>118</td><td>       NA</td><td>       NA</td></tr>\n",
       "</tbody>\n",
       "</table>\n"
      ],
      "text/latex": [
       "A anova: 2 × 3\n",
       "\\begin{tabular}{r|lll}\n",
       "  & Df & F value & Pr(>F)\\\\\n",
       "  & <int> & <dbl> & <dbl>\\\\\n",
       "\\hline\n",
       "\tgroup &   1 & 0.0142938 & 0.9050377\\\\\n",
       "\t  & 118 &        NA &        NA\\\\\n",
       "\\end{tabular}\n"
      ],
      "text/markdown": [
       "\n",
       "A anova: 2 × 3\n",
       "\n",
       "| <!--/--> | Df &lt;int&gt; | F value &lt;dbl&gt; | Pr(&gt;F) &lt;dbl&gt; |\n",
       "|---|---|---|---|\n",
       "| group |   1 | 0.0142938 | 0.9050377 |\n",
       "| <!----> | 118 |        NA |        NA |\n",
       "\n"
      ],
      "text/plain": [
       "      Df  F value   Pr(>F)   \n",
       "group   1 0.0142938 0.9050377\n",
       "      118        NA        NA"
      ]
     },
     "metadata": {},
     "output_type": "display_data"
    },
    {
     "data": {
      "text/html": [
       "<table class=\"dataframe\">\n",
       "<caption>A anova: 2 × 3</caption>\n",
       "<thead>\n",
       "\t<tr><th></th><th scope=col>Df</th><th scope=col>F value</th><th scope=col>Pr(&gt;F)</th></tr>\n",
       "\t<tr><th></th><th scope=col>&lt;int&gt;</th><th scope=col>&lt;dbl&gt;</th><th scope=col>&lt;dbl&gt;</th></tr>\n",
       "</thead>\n",
       "<tbody>\n",
       "\t<tr><th scope=row>group</th><td>  4</td><td>13.21674</td><td>6.852609e-09</td></tr>\n",
       "\t<tr><th scope=row> </th><td>115</td><td>      NA</td><td>          NA</td></tr>\n",
       "</tbody>\n",
       "</table>\n"
      ],
      "text/latex": [
       "A anova: 2 × 3\n",
       "\\begin{tabular}{r|lll}\n",
       "  & Df & F value & Pr(>F)\\\\\n",
       "  & <int> & <dbl> & <dbl>\\\\\n",
       "\\hline\n",
       "\tgroup &   4 & 13.21674 & 6.852609e-09\\\\\n",
       "\t  & 115 &       NA &           NA\\\\\n",
       "\\end{tabular}\n"
      ],
      "text/markdown": [
       "\n",
       "A anova: 2 × 3\n",
       "\n",
       "| <!--/--> | Df &lt;int&gt; | F value &lt;dbl&gt; | Pr(&gt;F) &lt;dbl&gt; |\n",
       "|---|---|---|---|\n",
       "| group |   4 | 13.21674 | 6.852609e-09 |\n",
       "| <!----> | 115 |       NA |           NA |\n",
       "\n"
      ],
      "text/plain": [
       "      Df  F value  Pr(>F)      \n",
       "group   4 13.21674 6.852609e-09\n",
       "      115       NA           NA"
      ]
     },
     "metadata": {},
     "output_type": "display_data"
    }
   ],
   "source": [
    "# test for HOV across treatments\n",
    "leveneTest(delta15N ~ treatment, data=uwm21)\n",
    "leveneTest(delta15N ~ sampling, data=uwm21)"
   ]
  },
  {
   "cell_type": "code",
   "execution_count": 6,
   "metadata": {
    "vscode": {
     "languageId": "r"
    }
   },
   "outputs": [
    {
     "data": {
      "text/html": [
       "<table class=\"dataframe\">\n",
       "<caption>A anova: 2 × 3</caption>\n",
       "<thead>\n",
       "\t<tr><th></th><th scope=col>Df</th><th scope=col>F value</th><th scope=col>Pr(&gt;F)</th></tr>\n",
       "\t<tr><th></th><th scope=col>&lt;int&gt;</th><th scope=col>&lt;dbl&gt;</th><th scope=col>&lt;dbl&gt;</th></tr>\n",
       "</thead>\n",
       "<tbody>\n",
       "\t<tr><th scope=row>group</th><td>  1</td><td>0.2061226</td><td>0.6506576</td></tr>\n",
       "\t<tr><th scope=row> </th><td>118</td><td>       NA</td><td>       NA</td></tr>\n",
       "</tbody>\n",
       "</table>\n"
      ],
      "text/latex": [
       "A anova: 2 × 3\n",
       "\\begin{tabular}{r|lll}\n",
       "  & Df & F value & Pr(>F)\\\\\n",
       "  & <int> & <dbl> & <dbl>\\\\\n",
       "\\hline\n",
       "\tgroup &   1 & 0.2061226 & 0.6506576\\\\\n",
       "\t  & 118 &        NA &        NA\\\\\n",
       "\\end{tabular}\n"
      ],
      "text/markdown": [
       "\n",
       "A anova: 2 × 3\n",
       "\n",
       "| <!--/--> | Df &lt;int&gt; | F value &lt;dbl&gt; | Pr(&gt;F) &lt;dbl&gt; |\n",
       "|---|---|---|---|\n",
       "| group |   1 | 0.2061226 | 0.6506576 |\n",
       "| <!----> | 118 |        NA |        NA |\n",
       "\n"
      ],
      "text/plain": [
       "      Df  F value   Pr(>F)   \n",
       "group   1 0.2061226 0.6506576\n",
       "      118        NA        NA"
      ]
     },
     "metadata": {},
     "output_type": "display_data"
    },
    {
     "data": {
      "text/html": [
       "<table class=\"dataframe\">\n",
       "<caption>A anova: 2 × 3</caption>\n",
       "<thead>\n",
       "\t<tr><th></th><th scope=col>Df</th><th scope=col>F value</th><th scope=col>Pr(&gt;F)</th></tr>\n",
       "\t<tr><th></th><th scope=col>&lt;int&gt;</th><th scope=col>&lt;dbl&gt;</th><th scope=col>&lt;dbl&gt;</th></tr>\n",
       "</thead>\n",
       "<tbody>\n",
       "\t<tr><th scope=row>group</th><td>  4</td><td>5.612126</td><td>0.0003662144</td></tr>\n",
       "\t<tr><th scope=row> </th><td>115</td><td>      NA</td><td>          NA</td></tr>\n",
       "</tbody>\n",
       "</table>\n"
      ],
      "text/latex": [
       "A anova: 2 × 3\n",
       "\\begin{tabular}{r|lll}\n",
       "  & Df & F value & Pr(>F)\\\\\n",
       "  & <int> & <dbl> & <dbl>\\\\\n",
       "\\hline\n",
       "\tgroup &   4 & 5.612126 & 0.0003662144\\\\\n",
       "\t  & 115 &       NA &           NA\\\\\n",
       "\\end{tabular}\n"
      ],
      "text/markdown": [
       "\n",
       "A anova: 2 × 3\n",
       "\n",
       "| <!--/--> | Df &lt;int&gt; | F value &lt;dbl&gt; | Pr(&gt;F) &lt;dbl&gt; |\n",
       "|---|---|---|---|\n",
       "| group |   4 | 5.612126 | 0.0003662144 |\n",
       "| <!----> | 115 |       NA |           NA |\n",
       "\n"
      ],
      "text/plain": [
       "      Df  F value  Pr(>F)      \n",
       "group   4 5.612126 0.0003662144\n",
       "      115       NA           NA"
      ]
     },
     "metadata": {},
     "output_type": "display_data"
    }
   ],
   "source": [
    "leveneTest(log(delta15N) ~ treatment, data=uwm21)\n",
    "leveneTest(log(delta15N) ~ sampling, data=uwm21)"
   ]
  },
  {
   "cell_type": "code",
   "execution_count": 7,
   "metadata": {
    "vscode": {
     "languageId": "r"
    }
   },
   "outputs": [],
   "source": [
    "uwm21_mod_full <- lmer(log(delta15N) ~ treatment * sampling  + (1|rep/plot), data = uwm21)\n",
    "uwm21_mod_red <- lmer(log(delta15N) ~ treatment + sampling  + (1|rep/plot), data = uwm21)"
   ]
  },
  {
   "cell_type": "code",
   "execution_count": 8,
   "metadata": {
    "vscode": {
     "languageId": "r"
    }
   },
   "outputs": [
    {
     "data": {
      "image/png": "[encoded data removed]",
      "text/plain": [
       "plot without title"
      ]
     },
     "metadata": {
      "image/png": {
       "height": 300,
       "width": 300
      }
     },
     "output_type": "display_data"
    },
    {
     "name": "stdout",
     "output_type": "stream",
     "text": [
      "NULL\n"
     ]
    },
    {
     "data": {
      "text/plain": [
       "\n",
       "\tShapiro-Wilk normality test\n",
       "\n",
       "data:  residuals(mod)\n",
       "W = 0.98101, p-value = 0.08836\n"
      ]
     },
     "metadata": {},
     "output_type": "display_data"
    },
    {
     "data": {
      "image/png": "[encoded data removed]",
      "text/plain": [
       "Plot with title \"density.default(x = resid(mod))\""
      ]
     },
     "metadata": {
      "image/png": {
       "height": 300,
       "width": 300
      }
     },
     "output_type": "display_data"
    }
   ],
   "source": [
    "check_assumptions(uwm21_mod_red)"
   ]
  },
  {
   "cell_type": "code",
   "execution_count": 9,
   "metadata": {
    "vscode": {
     "languageId": "r"
    }
   },
   "outputs": [
    {
     "data": {
      "text/html": [
       "<table class=\"dataframe\">\n",
       "<caption>A anova: 3 × 6</caption>\n",
       "<thead>\n",
       "\t<tr><th></th><th scope=col>Sum Sq</th><th scope=col>Mean Sq</th><th scope=col>NumDF</th><th scope=col>DenDF</th><th scope=col>F value</th><th scope=col>Pr(&gt;F)</th></tr>\n",
       "\t<tr><th></th><th scope=col>&lt;dbl&gt;</th><th scope=col>&lt;dbl&gt;</th><th scope=col>&lt;int&gt;</th><th scope=col>&lt;dbl&gt;</th><th scope=col>&lt;dbl&gt;</th><th scope=col>&lt;dbl&gt;</th></tr>\n",
       "</thead>\n",
       "<tbody>\n",
       "\t<tr><th scope=row>treatment</th><td>0.1466819</td><td>0.14668194</td><td>1</td><td>11.00008</td><td> 3.709152</td><td>8.034168e-02</td></tr>\n",
       "\t<tr><th scope=row>sampling</th><td>5.9630409</td><td>1.49076022</td><td>4</td><td>87.99995</td><td>37.696916</td><td>2.420366e-18</td></tr>\n",
       "\t<tr><th scope=row>treatment:sampling</th><td>0.2209427</td><td>0.05523568</td><td>4</td><td>87.99995</td><td> 1.396747</td><td>2.416973e-01</td></tr>\n",
       "</tbody>\n",
       "</table>\n"
      ],
      "text/latex": [
       "A anova: 3 × 6\n",
       "\\begin{tabular}{r|llllll}\n",
       "  & Sum Sq & Mean Sq & NumDF & DenDF & F value & Pr(>F)\\\\\n",
       "  & <dbl> & <dbl> & <int> & <dbl> & <dbl> & <dbl>\\\\\n",
       "\\hline\n",
       "\ttreatment & 0.1466819 & 0.14668194 & 1 & 11.00008 &  3.709152 & 8.034168e-02\\\\\n",
       "\tsampling & 5.9630409 & 1.49076022 & 4 & 87.99995 & 37.696916 & 2.420366e-18\\\\\n",
       "\ttreatment:sampling & 0.2209427 & 0.05523568 & 4 & 87.99995 &  1.396747 & 2.416973e-01\\\\\n",
       "\\end{tabular}\n"
      ],
      "text/markdown": [
       "\n",
       "A anova: 3 × 6\n",
       "\n",
       "| <!--/--> | Sum Sq &lt;dbl&gt; | Mean Sq &lt;dbl&gt; | NumDF &lt;int&gt; | DenDF &lt;dbl&gt; | F value &lt;dbl&gt; | Pr(&gt;F) &lt;dbl&gt; |\n",
       "|---|---|---|---|---|---|---|\n",
       "| treatment | 0.1466819 | 0.14668194 | 1 | 11.00008 |  3.709152 | 8.034168e-02 |\n",
       "| sampling | 5.9630409 | 1.49076022 | 4 | 87.99995 | 37.696916 | 2.420366e-18 |\n",
       "| treatment:sampling | 0.2209427 | 0.05523568 | 4 | 87.99995 |  1.396747 | 2.416973e-01 |\n",
       "\n"
      ],
      "text/plain": [
       "                   Sum Sq    Mean Sq    NumDF DenDF    F value   Pr(>F)      \n",
       "treatment          0.1466819 0.14668194 1     11.00008  3.709152 8.034168e-02\n",
       "sampling           5.9630409 1.49076022 4     87.99995 37.696916 2.420366e-18\n",
       "treatment:sampling 0.2209427 0.05523568 4     87.99995  1.396747 2.416973e-01"
      ]
     },
     "metadata": {},
     "output_type": "display_data"
    }
   ],
   "source": [
    "anova(uwm21_mod_full)"
   ]
  },
  {
   "cell_type": "code",
   "execution_count": 10,
   "metadata": {
    "vscode": {
     "languageId": "r"
    }
   },
   "outputs": [
    {
     "name": "stderr",
     "output_type": "stream",
     "text": [
      "refitting model(s) with ML (instead of REML)\n",
      "\n"
     ]
    },
    {
     "data": {
      "text/html": [
       "<table class=\"dataframe\">\n",
       "<caption>A anova: 2 × 3</caption>\n",
       "<thead>\n",
       "\t<tr><th></th><th scope=col>npar</th><th scope=col>AIC</th><th scope=col>BIC</th></tr>\n",
       "\t<tr><th></th><th scope=col>&lt;dbl&gt;</th><th scope=col>&lt;dbl&gt;</th><th scope=col>&lt;dbl&gt;</th></tr>\n",
       "</thead>\n",
       "<tbody>\n",
       "\t<tr><th scope=row>uwm21_mod_red</th><td> 9</td><td>-18.13081</td><td> 6.956619</td></tr>\n",
       "\t<tr><th scope=row>uwm21_mod_full</th><td>13</td><td>-16.04004</td><td>20.197349</td></tr>\n",
       "</tbody>\n",
       "</table>\n"
      ],
      "text/latex": [
       "A anova: 2 × 3\n",
       "\\begin{tabular}{r|lll}\n",
       "  & npar & AIC & BIC\\\\\n",
       "  & <dbl> & <dbl> & <dbl>\\\\\n",
       "\\hline\n",
       "\tuwm21\\_mod\\_red &  9 & -18.13081 &  6.956619\\\\\n",
       "\tuwm21\\_mod\\_full & 13 & -16.04004 & 20.197349\\\\\n",
       "\\end{tabular}\n"
      ],
      "text/markdown": [
       "\n",
       "A anova: 2 × 3\n",
       "\n",
       "| <!--/--> | npar &lt;dbl&gt; | AIC &lt;dbl&gt; | BIC &lt;dbl&gt; |\n",
       "|---|---|---|---|\n",
       "| uwm21_mod_red |  9 | -18.13081 |  6.956619 |\n",
       "| uwm21_mod_full | 13 | -16.04004 | 20.197349 |\n",
       "\n"
      ],
      "text/plain": [
       "               npar AIC       BIC      \n",
       "uwm21_mod_red   9   -18.13081  6.956619\n",
       "uwm21_mod_full 13   -16.04004 20.197349"
      ]
     },
     "metadata": {},
     "output_type": "display_data"
    }
   ],
   "source": [
    "anova(uwm21_mod_full,uwm21_mod_red)[1:3]"
   ]
  },
  {
   "cell_type": "code",
   "execution_count": 11,
   "metadata": {
    "vscode": {
     "languageId": "r"
    }
   },
   "outputs": [
    {
     "data": {
      "text/plain": [
       "Linear mixed model fit by REML. t-tests use Satterthwaite's method [\n",
       "lmerModLmerTest]\n",
       "Formula: log(delta15N) ~ treatment + sampling + (1 | rep/plot)\n",
       "   Data: uwm21\n",
       "\n",
       "REML criterion at convergence: -9.7\n",
       "\n",
       "Scaled residuals: \n",
       "     Min       1Q   Median       3Q      Max \n",
       "-1.82229 -0.71010  0.00584  0.48063  2.61800 \n",
       "\n",
       "Random effects:\n",
       " Groups   Name        Variance Std.Dev.\n",
       " plot:rep (Intercept) 0.003766 0.06137 \n",
       " rep      (Intercept) 0.003723 0.06101 \n",
       " Residual             0.040228 0.20057 \n",
       "Number of obs: 120, groups:  plot:rep, 24; rep, 12\n",
       "\n",
       "Fixed effects:\n",
       "                    Estimate Std. Error         df t value Pr(>|t|)    \n",
       "(Intercept)        6.9858038  0.0513369 69.3923399 136.078  < 2e-16 ***\n",
       "treatmentPROVEN40 -0.0854509  0.0443692 10.9999783  -1.926   0.0803 .  \n",
       "samplingV5         0.4778048  0.0578994 92.0000411   8.252 1.07e-12 ***\n",
       "samplingV8         0.0004773  0.0578994 92.0000411   0.008   0.9934    \n",
       "samplingV12       -0.0907436  0.0578994 92.0000411  -1.567   0.1205    \n",
       "samplingVT         0.3455674  0.0578994 92.0000411   5.968 4.43e-08 ***\n",
       "---\n",
       "Signif. codes:  0 '***' 0.001 '**' 0.01 '*' 0.05 '.' 0.1 ' ' 1\n",
       "\n",
       "Correlation of Fixed Effects:\n",
       "            (Intr) tPROVE smplV5 smplV8 smpV12\n",
       "trtPROVEN40 -0.432                            \n",
       "samplingV5  -0.564  0.000                     \n",
       "samplingV8  -0.564  0.000  0.500              \n",
       "samplingV12 -0.564  0.000  0.500  0.500       \n",
       "samplingVT  -0.564  0.000  0.500  0.500  0.500"
      ]
     },
     "metadata": {},
     "output_type": "display_data"
    }
   ],
   "source": [
    "summary(uwm21_mod_red)"
   ]
  },
  {
   "cell_type": "code",
   "execution_count": 12,
   "metadata": {
    "vscode": {
     "languageId": "r"
    }
   },
   "outputs": [
    {
     "data": {
      "text/plain": [
       "$`plot:rep`\n",
       "\n",
       "$rep\n"
      ]
     },
     "metadata": {},
     "output_type": "display_data"
    },
    {
     "data": {
      "image/png": "[encoded data removed]",
      "text/plain": [
       "plot without title"
      ]
     },
     "metadata": {
      "image/png": {
       "height": 300,
       "width": 300
      }
     },
     "output_type": "display_data"
    },
    {
     "data": {
      "image/png": "[encoded data removed]",
      "text/plain": [
       "plot without title"
      ]
     },
     "metadata": {
      "image/png": {
       "height": 300,
       "width": 300
      }
     },
     "output_type": "display_data"
    }
   ],
   "source": [
    "plot(ranef(uwm21_mod_red))"
   ]
  },
  {
   "cell_type": "code",
   "execution_count": 13,
   "metadata": {
    "vscode": {
     "languageId": "r"
    }
   },
   "outputs": [
    {
     "data": {
      "text/plain": [
       " treatment sampling response   SE   df lower.CL upper.CL\n",
       " UTC       V4           1081 55.5 69.4      976     1198\n",
       " PROVEN40  V4            993 51.0 69.4      896     1100\n",
       " UTC       V5           1743 89.5 69.4     1574     1931\n",
       " PROVEN40  V5           1601 82.2 69.4     1445     1773\n",
       " UTC       V8           1082 55.5 69.4      976     1198\n",
       " PROVEN40  V8            993 51.0 69.4      896     1100\n",
       " UTC       V12           987 50.7 69.4      891     1094\n",
       " PROVEN40  V12           907 46.5 69.4      818     1004\n",
       " UTC       VT           1527 78.4 69.4     1379     1692\n",
       " PROVEN40  VT           1402 72.0 69.4     1266     1554\n",
       "\n",
       "Degrees-of-freedom method: kenward-roger \n",
       "Confidence level used: 0.95 \n",
       "Intervals are back-transformed from the log scale "
      ]
     },
     "metadata": {},
     "output_type": "display_data"
    }
   ],
   "source": [
    "uwm21_mod_red_means <- emmeans(uwm21_mod_red, ~ treatment + sampling, type = \"response\")\n",
    "uwm21_mod_red_means"
   ]
  },
  {
   "cell_type": "code",
   "execution_count": 14,
   "metadata": {
    "vscode": {
     "languageId": "r"
    }
   },
   "outputs": [
    {
     "data": {
      "text/html": [
       "<table class=\"dataframe\">\n",
       "<caption>A data.frame: 1 × 7</caption>\n",
       "<thead>\n",
       "\t<tr><th></th><th scope=col>contrast</th><th scope=col>ratio</th><th scope=col>SE</th><th scope=col>df</th><th scope=col>null</th><th scope=col>t.ratio</th><th scope=col>p.value</th></tr>\n",
       "\t<tr><th></th><th scope=col>&lt;fct&gt;</th><th scope=col>&lt;dbl&gt;</th><th scope=col>&lt;dbl&gt;</th><th scope=col>&lt;dbl&gt;</th><th scope=col>&lt;dbl&gt;</th><th scope=col>&lt;dbl&gt;</th><th scope=col>&lt;dbl&gt;</th></tr>\n",
       "</thead>\n",
       "<tbody>\n",
       "\t<tr><th scope=row>1</th><td>PROVEN40 / UTC</td><td>0.9180982</td><td>0.04073525</td><td>11</td><td>1</td><td>-1.925908</td><td>0.08034299</td></tr>\n",
       "</tbody>\n",
       "</table>\n"
      ],
      "text/latex": [
       "A data.frame: 1 × 7\n",
       "\\begin{tabular}{r|lllllll}\n",
       "  & contrast & ratio & SE & df & null & t.ratio & p.value\\\\\n",
       "  & <fct> & <dbl> & <dbl> & <dbl> & <dbl> & <dbl> & <dbl>\\\\\n",
       "\\hline\n",
       "\t1 & PROVEN40 / UTC & 0.9180982 & 0.04073525 & 11 & 1 & -1.925908 & 0.08034299\\\\\n",
       "\\end{tabular}\n"
      ],
      "text/markdown": [
       "\n",
       "A data.frame: 1 × 7\n",
       "\n",
       "| <!--/--> | contrast &lt;fct&gt; | ratio &lt;dbl&gt; | SE &lt;dbl&gt; | df &lt;dbl&gt; | null &lt;dbl&gt; | t.ratio &lt;dbl&gt; | p.value &lt;dbl&gt; |\n",
       "|---|---|---|---|---|---|---|---|\n",
       "| 1 | PROVEN40 / UTC | 0.9180982 | 0.04073525 | 11 | 1 | -1.925908 | 0.08034299 |\n",
       "\n"
      ],
      "text/plain": [
       "  contrast       ratio     SE         df null t.ratio   p.value   \n",
       "1 PROVEN40 / UTC 0.9180982 0.04073525 11 1    -1.925908 0.08034299"
      ]
     },
     "metadata": {},
     "output_type": "display_data"
    }
   ],
   "source": [
    "uwm21_mod_red_trt_contrast <- emmeans(uwm21_mod_red, ~ treatment, type = \"response\") %>% \n",
    "pairs(reverse = TRUE,  adjust = \"Tukey\") %>% \n",
    "data.frame()\n",
    "\n",
    "uwm21_mod_red_trt_contrast"
   ]
  },
  {
   "cell_type": "code",
   "execution_count": 15,
   "metadata": {
    "vscode": {
     "languageId": "r"
    }
   },
   "outputs": [
    {
     "data": {
      "text/html": [
       "'Ndfa = 8.19%\\np = 0.0803'"
      ],
      "text/latex": [
       "'Ndfa = 8.19\\%\\textbackslash{}np = 0.0803'"
      ],
      "text/markdown": [
       "'Ndfa = 8.19%\\np = 0.0803'"
      ],
      "text/plain": [
       "[1] \"Ndfa = 8.19%\\np = 0.0803\""
      ]
     },
     "metadata": {},
     "output_type": "display_data"
    }
   ],
   "source": [
    "\n",
    "my_label <- with(uwm21_mod_red_trt_contrast,\n",
    "paste0(\n",
    "    \"Ndfa = \",\n",
    "    signif(1 - ratio,3)*100,\n",
    "    \"%\",\n",
    "    #\"(± \",\n",
    "    #signif(SE,3)*100,\n",
    "    #\"%)\",\n",
    "    \"\\n\",\n",
    "    \"p = \",signif(p.value,3)\n",
    "    )\n",
    ")\n",
    "\n",
    "my_label"
   ]
  },
  {
   "cell_type": "code",
   "execution_count": 16,
   "metadata": {
    "vscode": {
     "languageId": "r"
    }
   },
   "outputs": [
    {
     "data": {
      "image/png": "[encoded data removed]",
      "text/plain": [
       "plot without title"
      ]
     },
     "metadata": {
      "image/png": {
       "height": 300,
       "width": 300
      }
     },
     "output_type": "display_data"
    }
   ],
   "source": [
    "uwm21_plot <- as.data.frame(uwm21_mod_red_means) %>% \n",
    "ggplot(aes((sampling),response, colour = treatment, fill = treatment)) + \n",
    "geom_point(aes(y = delta15N), data = uwm21, position = position_dodge(width = 0.4), size = 1 ) +\n",
    "geom_point(position = position_dodge(width = 0.4), size = 3, shape = 21, colour = \"gray10\") +\n",
    "geom_errorbar(aes(ymax = upper.CL, ymin = lower.CL), width = 0, position = position_dodge(width = 0.4), lwd = 1) + \n",
    "geom_errorbar(aes(ymax = response + SE, ymin = response - SE), colour = \"gray10\", width = 0.2, position = position_dodge(width = 0.4)) + \n",
    "labs(y = expression(delta^15*N~\"(‰)\"), x = \"Growth stage\", colour = \"\", fill = \"\") + \n",
    "annotate(\"text\", x = 5.5, y = max(uwm21$delta15N), label = my_label, hjust = 1, size = 4.5, vjust = 1) + \n",
    "facet_wrap(~\"Hancok 2021\") + \n",
    "theme(legend.position = \"top\")\n",
    "\n",
    "uwm21_plot"
   ]
  },
  {
   "cell_type": "markdown",
   "metadata": {},
   "source": [
    "# 2022 Trials"
   ]
  },
  {
   "cell_type": "code",
   "execution_count": 17,
   "metadata": {
    "vscode": {
     "languageId": "r"
    }
   },
   "outputs": [
    {
     "name": "stdout",
     "output_type": "stream",
     "text": [
      "'data.frame':\t900 obs. of  8 variables:\n",
      " $ location : chr  \"Arlington\" \"Arlington\" \"Arlington\" \"Arlington\" ...\n",
      " $ year     : int  2022 2022 2022 2022 2022 2022 2022 2022 2022 2022 ...\n",
      " $ site_year: chr  \"Arlington - 2022\" \"Arlington - 2022\" \"Arlington - 2022\" \"Arlington - 2022\" ...\n",
      " $ sampling : int  1 2 3 4 5 1 2 3 4 5 ...\n",
      " $ plot     : int  101 101 101 101 101 101 101 101 101 101 ...\n",
      " $ rep      : int  1 1 1 1 1 1 1 1 1 1 ...\n",
      " $ treatment: chr  \"UTC\" \"UTC\" \"UTC\" \"UTC\" ...\n",
      " $ delta15N : num  1487 1208 975 881 875 ...\n"
     ]
    }
   ],
   "source": [
    "uwm22 <- read.csv(\"./datasets/MOA_22_UWM.csv\")[-1]\n",
    "str(uwm22)\n"
   ]
  },
  {
   "cell_type": "markdown",
   "metadata": {},
   "source": [
    "## 2022 Arlington"
   ]
  },
  {
   "cell_type": "code",
   "execution_count": 18,
   "metadata": {
    "vscode": {
     "languageId": "r"
    }
   },
   "outputs": [
    {
     "name": "stdout",
     "output_type": "stream",
     "text": [
      "'data.frame':\t300 obs. of  8 variables:\n",
      " $ location : Factor w/ 1 level \"Arlington\": 1 1 1 1 1 1 1 1 1 1 ...\n",
      " $ year     : Factor w/ 1 level \"2022\": 1 1 1 1 1 1 1 1 1 1 ...\n",
      " $ site_year: Factor w/ 1 level \"Arlington - 2022\": 1 1 1 1 1 1 1 1 1 1 ...\n",
      " $ sampling : Factor w/ 5 levels \"V5\",\"V7\",\"V9\",..: 1 2 3 4 5 1 2 3 4 5 ...\n",
      " $ plot     : Factor w/ 60 levels \"101\",\"103\",\"201\",..: 1 1 1 1 1 2 2 2 2 2 ...\n",
      " $ rep      : Factor w/ 30 levels \"1\",\"2\",\"3\",\"4\",..: 1 1 1 1 1 1 1 1 1 1 ...\n",
      " $ treatment: Factor w/ 2 levels \"UTC\",\"PROVEN40\": 1 1 1 1 1 2 2 2 2 2 ...\n",
      " $ delta15N : num  1487 1208 975 881 875 ...\n"
     ]
    }
   ],
   "source": [
    "uwm22a <- uwm22 %>%  filter(location  == \"Arlington\", treatment\t!= \"nifKO\") %>% \n",
    "mutate_at(c(\"location\",\"year\",\"site_year\",\"sampling\",\"plot\",\"rep\",\"treatment\"), factor)\n",
    "\n",
    "#uwm22a$delta15N  <- d15n_2_ae(uwm22a$delta15N )\n",
    "\n",
    "\n",
    "# Factor levels \n",
    "uwm22a$treatment <- factor(uwm22a$treatment, levels = c('UTC','ProveN40'),  labels = c('UTC','PROVEN40'))\n",
    "uwm22a$sampling <- factor(uwm22a$sampling, levels = 1:5, labels = c(\"V5\",\"V7\",\"V9\",\"V14\",\"VT\"))\n",
    "\n",
    "str(uwm22a)"
   ]
  },
  {
   "cell_type": "code",
   "execution_count": 19,
   "metadata": {
    "vscode": {
     "languageId": "r"
    }
   },
   "outputs": [
    {
     "data": {
      "text/html": [
       "<table class=\"dataframe\">\n",
       "<caption>A anova: 2 × 3</caption>\n",
       "<thead>\n",
       "\t<tr><th></th><th scope=col>Df</th><th scope=col>F value</th><th scope=col>Pr(&gt;F)</th></tr>\n",
       "\t<tr><th></th><th scope=col>&lt;int&gt;</th><th scope=col>&lt;dbl&gt;</th><th scope=col>&lt;dbl&gt;</th></tr>\n",
       "</thead>\n",
       "<tbody>\n",
       "\t<tr><th scope=row>group</th><td>  1</td><td>0.1182997</td><td>0.7311285</td></tr>\n",
       "\t<tr><th scope=row> </th><td>298</td><td>       NA</td><td>       NA</td></tr>\n",
       "</tbody>\n",
       "</table>\n"
      ],
      "text/latex": [
       "A anova: 2 × 3\n",
       "\\begin{tabular}{r|lll}\n",
       "  & Df & F value & Pr(>F)\\\\\n",
       "  & <int> & <dbl> & <dbl>\\\\\n",
       "\\hline\n",
       "\tgroup &   1 & 0.1182997 & 0.7311285\\\\\n",
       "\t  & 298 &        NA &        NA\\\\\n",
       "\\end{tabular}\n"
      ],
      "text/markdown": [
       "\n",
       "A anova: 2 × 3\n",
       "\n",
       "| <!--/--> | Df &lt;int&gt; | F value &lt;dbl&gt; | Pr(&gt;F) &lt;dbl&gt; |\n",
       "|---|---|---|---|\n",
       "| group |   1 | 0.1182997 | 0.7311285 |\n",
       "| <!----> | 298 |        NA |        NA |\n",
       "\n"
      ],
      "text/plain": [
       "      Df  F value   Pr(>F)   \n",
       "group   1 0.1182997 0.7311285\n",
       "      298        NA        NA"
      ]
     },
     "metadata": {},
     "output_type": "display_data"
    },
    {
     "data": {
      "text/html": [
       "<table class=\"dataframe\">\n",
       "<caption>A anova: 2 × 3</caption>\n",
       "<thead>\n",
       "\t<tr><th></th><th scope=col>Df</th><th scope=col>F value</th><th scope=col>Pr(&gt;F)</th></tr>\n",
       "\t<tr><th></th><th scope=col>&lt;int&gt;</th><th scope=col>&lt;dbl&gt;</th><th scope=col>&lt;dbl&gt;</th></tr>\n",
       "</thead>\n",
       "<tbody>\n",
       "\t<tr><th scope=row>group</th><td>  4</td><td>17.66037</td><td>5.222037e-13</td></tr>\n",
       "\t<tr><th scope=row> </th><td>295</td><td>      NA</td><td>          NA</td></tr>\n",
       "</tbody>\n",
       "</table>\n"
      ],
      "text/latex": [
       "A anova: 2 × 3\n",
       "\\begin{tabular}{r|lll}\n",
       "  & Df & F value & Pr(>F)\\\\\n",
       "  & <int> & <dbl> & <dbl>\\\\\n",
       "\\hline\n",
       "\tgroup &   4 & 17.66037 & 5.222037e-13\\\\\n",
       "\t  & 295 &       NA &           NA\\\\\n",
       "\\end{tabular}\n"
      ],
      "text/markdown": [
       "\n",
       "A anova: 2 × 3\n",
       "\n",
       "| <!--/--> | Df &lt;int&gt; | F value &lt;dbl&gt; | Pr(&gt;F) &lt;dbl&gt; |\n",
       "|---|---|---|---|\n",
       "| group |   4 | 17.66037 | 5.222037e-13 |\n",
       "| <!----> | 295 |       NA |           NA |\n",
       "\n"
      ],
      "text/plain": [
       "      Df  F value  Pr(>F)      \n",
       "group   4 17.66037 5.222037e-13\n",
       "      295       NA           NA"
      ]
     },
     "metadata": {},
     "output_type": "display_data"
    }
   ],
   "source": [
    "# test for HOV across treatments\n",
    "leveneTest(delta15N ~ treatment, data=uwm22a)\n",
    "leveneTest(delta15N ~ sampling, data=uwm22a)"
   ]
  },
  {
   "cell_type": "code",
   "execution_count": 20,
   "metadata": {
    "vscode": {
     "languageId": "r"
    }
   },
   "outputs": [
    {
     "data": {
      "text/html": [
       "<table class=\"dataframe\">\n",
       "<caption>A anova: 2 × 3</caption>\n",
       "<thead>\n",
       "\t<tr><th></th><th scope=col>Df</th><th scope=col>F value</th><th scope=col>Pr(&gt;F)</th></tr>\n",
       "\t<tr><th></th><th scope=col>&lt;int&gt;</th><th scope=col>&lt;dbl&gt;</th><th scope=col>&lt;dbl&gt;</th></tr>\n",
       "</thead>\n",
       "<tbody>\n",
       "\t<tr><th scope=row>group</th><td>  1</td><td>0.007139797</td><td>0.9327178</td></tr>\n",
       "\t<tr><th scope=row> </th><td>298</td><td>         NA</td><td>       NA</td></tr>\n",
       "</tbody>\n",
       "</table>\n"
      ],
      "text/latex": [
       "A anova: 2 × 3\n",
       "\\begin{tabular}{r|lll}\n",
       "  & Df & F value & Pr(>F)\\\\\n",
       "  & <int> & <dbl> & <dbl>\\\\\n",
       "\\hline\n",
       "\tgroup &   1 & 0.007139797 & 0.9327178\\\\\n",
       "\t  & 298 &          NA &        NA\\\\\n",
       "\\end{tabular}\n"
      ],
      "text/markdown": [
       "\n",
       "A anova: 2 × 3\n",
       "\n",
       "| <!--/--> | Df &lt;int&gt; | F value &lt;dbl&gt; | Pr(&gt;F) &lt;dbl&gt; |\n",
       "|---|---|---|---|\n",
       "| group |   1 | 0.007139797 | 0.9327178 |\n",
       "| <!----> | 298 |          NA |        NA |\n",
       "\n"
      ],
      "text/plain": [
       "      Df  F value     Pr(>F)   \n",
       "group   1 0.007139797 0.9327178\n",
       "      298          NA        NA"
      ]
     },
     "metadata": {},
     "output_type": "display_data"
    },
    {
     "data": {
      "text/html": [
       "<table class=\"dataframe\">\n",
       "<caption>A anova: 2 × 3</caption>\n",
       "<thead>\n",
       "\t<tr><th></th><th scope=col>Df</th><th scope=col>F value</th><th scope=col>Pr(&gt;F)</th></tr>\n",
       "\t<tr><th></th><th scope=col>&lt;int&gt;</th><th scope=col>&lt;dbl&gt;</th><th scope=col>&lt;dbl&gt;</th></tr>\n",
       "</thead>\n",
       "<tbody>\n",
       "\t<tr><th scope=row>group</th><td>  4</td><td>2.751036</td><td>0.02841844</td></tr>\n",
       "\t<tr><th scope=row> </th><td>295</td><td>      NA</td><td>        NA</td></tr>\n",
       "</tbody>\n",
       "</table>\n"
      ],
      "text/latex": [
       "A anova: 2 × 3\n",
       "\\begin{tabular}{r|lll}\n",
       "  & Df & F value & Pr(>F)\\\\\n",
       "  & <int> & <dbl> & <dbl>\\\\\n",
       "\\hline\n",
       "\tgroup &   4 & 2.751036 & 0.02841844\\\\\n",
       "\t  & 295 &       NA &         NA\\\\\n",
       "\\end{tabular}\n"
      ],
      "text/markdown": [
       "\n",
       "A anova: 2 × 3\n",
       "\n",
       "| <!--/--> | Df &lt;int&gt; | F value &lt;dbl&gt; | Pr(&gt;F) &lt;dbl&gt; |\n",
       "|---|---|---|---|\n",
       "| group |   4 | 2.751036 | 0.02841844 |\n",
       "| <!----> | 295 |       NA |         NA |\n",
       "\n"
      ],
      "text/plain": [
       "      Df  F value  Pr(>F)    \n",
       "group   4 2.751036 0.02841844\n",
       "      295       NA         NA"
      ]
     },
     "metadata": {},
     "output_type": "display_data"
    }
   ],
   "source": [
    "# test for HOV across treatments\n",
    "leveneTest(log(delta15N) ~ treatment, data=uwm22a)\n",
    "leveneTest(log(delta15N) ~ sampling, data=uwm22a)"
   ]
  },
  {
   "cell_type": "code",
   "execution_count": 21,
   "metadata": {
    "vscode": {
     "languageId": "r"
    }
   },
   "outputs": [],
   "source": [
    "uwm22a_mod_full <- lmer(log(delta15N) ~ treatment * sampling  + (1|rep/plot), data = uwm22a)\n",
    "uwm22a_mod_red <- lmer(log(delta15N) ~ treatment + sampling  + (1|rep/plot), data = uwm22a)"
   ]
  },
  {
   "cell_type": "code",
   "execution_count": 22,
   "metadata": {
    "vscode": {
     "languageId": "r"
    }
   },
   "outputs": [
    {
     "data": {
      "text/html": [
       "<table class=\"dataframe\">\n",
       "<caption>A anova: 3 × 6</caption>\n",
       "<thead>\n",
       "\t<tr><th></th><th scope=col>Sum Sq</th><th scope=col>Mean Sq</th><th scope=col>NumDF</th><th scope=col>DenDF</th><th scope=col>F value</th><th scope=col>Pr(&gt;F)</th></tr>\n",
       "\t<tr><th></th><th scope=col>&lt;dbl&gt;</th><th scope=col>&lt;dbl&gt;</th><th scope=col>&lt;int&gt;</th><th scope=col>&lt;dbl&gt;</th><th scope=col>&lt;dbl&gt;</th><th scope=col>&lt;dbl&gt;</th></tr>\n",
       "</thead>\n",
       "<tbody>\n",
       "\t<tr><th scope=row>treatment</th><td> 0.004262355</td><td>0.004262355</td><td>1</td><td> 29</td><td>  0.9768714</td><td> 3.311477e-01</td></tr>\n",
       "\t<tr><th scope=row>sampling</th><td>15.269886090</td><td>3.817471522</td><td>4</td><td>232</td><td>874.9103888</td><td>1.249598e-138</td></tr>\n",
       "\t<tr><th scope=row>treatment:sampling</th><td> 0.016847046</td><td>0.004211761</td><td>4</td><td>232</td><td>  0.9652761</td><td> 4.272802e-01</td></tr>\n",
       "</tbody>\n",
       "</table>\n"
      ],
      "text/latex": [
       "A anova: 3 × 6\n",
       "\\begin{tabular}{r|llllll}\n",
       "  & Sum Sq & Mean Sq & NumDF & DenDF & F value & Pr(>F)\\\\\n",
       "  & <dbl> & <dbl> & <int> & <dbl> & <dbl> & <dbl>\\\\\n",
       "\\hline\n",
       "\ttreatment &  0.004262355 & 0.004262355 & 1 &  29 &   0.9768714 &  3.311477e-01\\\\\n",
       "\tsampling & 15.269886090 & 3.817471522 & 4 & 232 & 874.9103888 & 1.249598e-138\\\\\n",
       "\ttreatment:sampling &  0.016847046 & 0.004211761 & 4 & 232 &   0.9652761 &  4.272802e-01\\\\\n",
       "\\end{tabular}\n"
      ],
      "text/markdown": [
       "\n",
       "A anova: 3 × 6\n",
       "\n",
       "| <!--/--> | Sum Sq &lt;dbl&gt; | Mean Sq &lt;dbl&gt; | NumDF &lt;int&gt; | DenDF &lt;dbl&gt; | F value &lt;dbl&gt; | Pr(&gt;F) &lt;dbl&gt; |\n",
       "|---|---|---|---|---|---|---|\n",
       "| treatment |  0.004262355 | 0.004262355 | 1 |  29 |   0.9768714 |  3.311477e-01 |\n",
       "| sampling | 15.269886090 | 3.817471522 | 4 | 232 | 874.9103888 | 1.249598e-138 |\n",
       "| treatment:sampling |  0.016847046 | 0.004211761 | 4 | 232 |   0.9652761 |  4.272802e-01 |\n",
       "\n"
      ],
      "text/plain": [
       "                   Sum Sq       Mean Sq     NumDF DenDF F value    \n",
       "treatment           0.004262355 0.004262355 1      29     0.9768714\n",
       "sampling           15.269886090 3.817471522 4     232   874.9103888\n",
       "treatment:sampling  0.016847046 0.004211761 4     232     0.9652761\n",
       "                   Pr(>F)       \n",
       "treatment           3.311477e-01\n",
       "sampling           1.249598e-138\n",
       "treatment:sampling  4.272802e-01"
      ]
     },
     "metadata": {},
     "output_type": "display_data"
    }
   ],
   "source": [
    "anova(uwm22a_mod_full)"
   ]
  },
  {
   "cell_type": "code",
   "execution_count": 23,
   "metadata": {
    "vscode": {
     "languageId": "r"
    }
   },
   "outputs": [
    {
     "name": "stderr",
     "output_type": "stream",
     "text": [
      "refitting model(s) with ML (instead of REML)\n",
      "\n"
     ]
    },
    {
     "data": {
      "text/html": [
       "<table class=\"dataframe\">\n",
       "<caption>A anova: 2 × 3</caption>\n",
       "<thead>\n",
       "\t<tr><th></th><th scope=col>npar</th><th scope=col>AIC</th><th scope=col>BIC</th></tr>\n",
       "\t<tr><th></th><th scope=col>&lt;dbl&gt;</th><th scope=col>&lt;dbl&gt;</th><th scope=col>&lt;dbl&gt;</th></tr>\n",
       "</thead>\n",
       "<tbody>\n",
       "\t<tr><th scope=row>uwm22a_mod_red</th><td> 9</td><td>-656.4603</td><td>-623.1263</td></tr>\n",
       "\t<tr><th scope=row>uwm22a_mod_full</th><td>13</td><td>-652.4217</td><td>-604.2725</td></tr>\n",
       "</tbody>\n",
       "</table>\n"
      ],
      "text/latex": [
       "A anova: 2 × 3\n",
       "\\begin{tabular}{r|lll}\n",
       "  & npar & AIC & BIC\\\\\n",
       "  & <dbl> & <dbl> & <dbl>\\\\\n",
       "\\hline\n",
       "\tuwm22a\\_mod\\_red &  9 & -656.4603 & -623.1263\\\\\n",
       "\tuwm22a\\_mod\\_full & 13 & -652.4217 & -604.2725\\\\\n",
       "\\end{tabular}\n"
      ],
      "text/markdown": [
       "\n",
       "A anova: 2 × 3\n",
       "\n",
       "| <!--/--> | npar &lt;dbl&gt; | AIC &lt;dbl&gt; | BIC &lt;dbl&gt; |\n",
       "|---|---|---|---|\n",
       "| uwm22a_mod_red |  9 | -656.4603 | -623.1263 |\n",
       "| uwm22a_mod_full | 13 | -652.4217 | -604.2725 |\n",
       "\n"
      ],
      "text/plain": [
       "                npar AIC       BIC      \n",
       "uwm22a_mod_red   9   -656.4603 -623.1263\n",
       "uwm22a_mod_full 13   -652.4217 -604.2725"
      ]
     },
     "metadata": {},
     "output_type": "display_data"
    }
   ],
   "source": [
    "anova(uwm22a_mod_full,uwm22a_mod_red)[1:3]"
   ]
  },
  {
   "cell_type": "code",
   "execution_count": 24,
   "metadata": {
    "vscode": {
     "languageId": "r"
    }
   },
   "outputs": [
    {
     "data": {
      "image/png": "[encoded data removed]",
      "text/plain": [
       "plot without title"
      ]
     },
     "metadata": {
      "image/png": {
       "height": 300,
       "width": 300
      }
     },
     "output_type": "display_data"
    },
    {
     "name": "stdout",
     "output_type": "stream",
     "text": [
      "NULL\n"
     ]
    },
    {
     "data": {
      "text/plain": [
       "\n",
       "\tShapiro-Wilk normality test\n",
       "\n",
       "data:  residuals(mod)\n",
       "W = 0.95994, p-value = 2.416e-07\n"
      ]
     },
     "metadata": {},
     "output_type": "display_data"
    },
    {
     "data": {
      "image/png": "[encoded data removed]",
      "text/plain": [
       "Plot with title \"density.default(x = resid(mod))\""
      ]
     },
     "metadata": {
      "image/png": {
       "height": 300,
       "width": 300
      }
     },
     "output_type": "display_data"
    }
   ],
   "source": [
    "check_assumptions(uwm22a_mod_red)"
   ]
  },
  {
   "cell_type": "code",
   "execution_count": 25,
   "metadata": {
    "vscode": {
     "languageId": "r"
    }
   },
   "outputs": [
    {
     "data": {
      "text/plain": [
       "Linear mixed model fit by REML. t-tests use Satterthwaite's method [\n",
       "lmerModLmerTest]\n",
       "Formula: log(delta15N) ~ treatment * sampling + (1 | rep/plot)\n",
       "   Data: uwm22a\n",
       "\n",
       "REML criterion at convergence: -612\n",
       "\n",
       "Scaled residuals: \n",
       "    Min      1Q  Median      3Q     Max \n",
       "-4.4047 -0.4672  0.0073  0.4965  3.5934 \n",
       "\n",
       "Random effects:\n",
       " Groups   Name        Variance  Std.Dev.\n",
       " plot:rep (Intercept) 0.0038229 0.06183 \n",
       " rep      (Intercept) 0.0009045 0.03007 \n",
       " Residual             0.0043633 0.06606 \n",
       "Number of obs: 300, groups:  plot:rep, 60; rep, 30\n",
       "\n",
       "Fixed effects:\n",
       "                                Estimate Std. Error         df t value Pr(>|t|)\n",
       "(Intercept)                     7.441137   0.017407 136.074206 427.468   <2e-16\n",
       "treatmentPROVEN40              -0.027409   0.023361  82.447810  -1.173    0.244\n",
       "samplingV7                     -0.258192   0.017055 232.000002 -15.138   <2e-16\n",
       "samplingV9                     -0.411093   0.017055 232.000002 -24.103   <2e-16\n",
       "samplingV14                    -0.579270   0.017055 232.000002 -33.964   <2e-16\n",
       "samplingVT                     -0.633530   0.017055 232.000002 -37.146   <2e-16\n",
       "treatmentPROVEN40:samplingV7   -0.008598   0.024120 232.000002  -0.356    0.722\n",
       "treatmentPROVEN40:samplingV9    0.019031   0.024120 232.000002   0.789    0.431\n",
       "treatmentPROVEN40:samplingV14   0.033939   0.024120 232.000002   1.407    0.161\n",
       "treatmentPROVEN40:samplingVT    0.005240   0.024120 232.000002   0.217    0.828\n",
       "                                 \n",
       "(Intercept)                   ***\n",
       "treatmentPROVEN40                \n",
       "samplingV7                    ***\n",
       "samplingV9                    ***\n",
       "samplingV14                   ***\n",
       "samplingVT                    ***\n",
       "treatmentPROVEN40:samplingV7     \n",
       "treatmentPROVEN40:samplingV9     \n",
       "treatmentPROVEN40:samplingV14    \n",
       "treatmentPROVEN40:samplingVT     \n",
       "---\n",
       "Signif. codes:  0 '***' 0.001 '**' 0.01 '*' 0.05 '.' 0.1 ' ' 1\n",
       "\n",
       "Correlation of Fixed Effects:\n",
       "             (Intr) trPROVEN40 smplV7 smplV9 smpV14 smplVT tPROVEN40:V7\n",
       "trtPROVEN40  -0.671                                                    \n",
       "samplingV7   -0.490  0.365                                             \n",
       "samplingV9   -0.490  0.365      0.500                                  \n",
       "samplingV14  -0.490  0.365      0.500  0.500                           \n",
       "samplingVT   -0.490  0.365      0.500  0.500  0.500                    \n",
       "tPROVEN40:V7  0.346 -0.516     -0.707 -0.354 -0.354 -0.354             \n",
       "tPROVEN40:V9  0.346 -0.516     -0.354 -0.707 -0.354 -0.354  0.500      \n",
       "tPROVEN40:V1  0.346 -0.516     -0.354 -0.354 -0.707 -0.354  0.500      \n",
       "tPROVEN40:VT  0.346 -0.516     -0.354 -0.354 -0.354 -0.707  0.500      \n",
       "             tPROVEN40:V9 tPROVEN40:V1\n",
       "trtPROVEN40                           \n",
       "samplingV7                            \n",
       "samplingV9                            \n",
       "samplingV14                           \n",
       "samplingVT                            \n",
       "tPROVEN40:V7                          \n",
       "tPROVEN40:V9                          \n",
       "tPROVEN40:V1  0.500                   \n",
       "tPROVEN40:VT  0.500        0.500      "
      ]
     },
     "metadata": {},
     "output_type": "display_data"
    }
   ],
   "source": [
    "summary(uwm22a_mod_full)"
   ]
  },
  {
   "cell_type": "code",
   "execution_count": 26,
   "metadata": {
    "vscode": {
     "languageId": "r"
    }
   },
   "outputs": [
    {
     "data": {
      "text/plain": [
       "Linear mixed model fit by REML. t-tests use Satterthwaite's method [\n",
       "lmerModLmerTest]\n",
       "Formula: log(delta15N) ~ treatment + sampling + (1 | rep/plot)\n",
       "   Data: uwm22a\n",
       "\n",
       "REML criterion at convergence: -631.7\n",
       "\n",
       "Scaled residuals: \n",
       "    Min      1Q  Median      3Q     Max \n",
       "-4.4413 -0.5016  0.0314  0.4817  3.6635 \n",
       "\n",
       "Random effects:\n",
       " Groups   Name        Variance  Std.Dev.\n",
       " plot:rep (Intercept) 0.0038234 0.06183 \n",
       " rep      (Intercept) 0.0009044 0.03007 \n",
       " Residual             0.0043607 0.06604 \n",
       "Number of obs: 300, groups:  plot:rep, 60; rep, 30\n",
       "\n",
       "Fixed effects:\n",
       "                   Estimate Std. Error        df t value Pr(>|t|)    \n",
       "(Intercept)         7.43618    0.01565  95.01645 475.267   <2e-16 ***\n",
       "treatmentPROVEN40  -0.01749    0.01769  28.99948  -0.988    0.331    \n",
       "samplingV7         -0.26249    0.01206 235.99979 -21.772   <2e-16 ***\n",
       "samplingV9         -0.40158    0.01206 235.99979 -33.308   <2e-16 ***\n",
       "samplingV14        -0.56230    0.01206 235.99979 -46.639   <2e-16 ***\n",
       "samplingVT         -0.63091    0.01206 235.99979 -52.330   <2e-16 ***\n",
       "---\n",
       "Signif. codes:  0 '***' 0.001 '**' 0.01 '*' 0.05 '.' 0.1 ' ' 1\n",
       "\n",
       "Correlation of Fixed Effects:\n",
       "            (Intr) tPROVE smplV7 smplV9 smpV14\n",
       "trtPROVEN40 -0.565                            \n",
       "samplingV7  -0.385  0.000                     \n",
       "samplingV9  -0.385  0.000  0.500              \n",
       "samplingV14 -0.385  0.000  0.500  0.500       \n",
       "samplingVT  -0.385  0.000  0.500  0.500  0.500"
      ]
     },
     "metadata": {},
     "output_type": "display_data"
    }
   ],
   "source": [
    "summary(uwm22a_mod_red)"
   ]
  },
  {
   "cell_type": "code",
   "execution_count": 27,
   "metadata": {
    "vscode": {
     "languageId": "r"
    }
   },
   "outputs": [
    {
     "data": {
      "text/plain": [
       " treatment sampling response   SE df lower.CL upper.CL\n",
       " UTC       V5           1696 26.5 95     1644     1750\n",
       " PROVEN40  V5           1667 26.1 95     1616     1719\n",
       " UTC       V7           1305 20.4 95     1265     1346\n",
       " PROVEN40  V7           1282 20.1 95     1243     1322\n",
       " UTC       V9           1135 17.8 95     1101     1171\n",
       " PROVEN40  V9           1116 17.5 95     1081     1151\n",
       " UTC       V14           967 15.1 95      937      997\n",
       " PROVEN40  V14           950 14.9 95      921      980\n",
       " UTC       VT            903 14.1 95      875      931\n",
       " PROVEN40  VT            887 13.9 95      860      915\n",
       "\n",
       "Degrees-of-freedom method: kenward-roger \n",
       "Confidence level used: 0.95 \n",
       "Intervals are back-transformed from the log scale "
      ]
     },
     "metadata": {},
     "output_type": "display_data"
    }
   ],
   "source": [
    "uwm22a_mod_red_means <- emmeans(uwm22a_mod_red, ~ treatment + sampling, type = \"response\")\n",
    "uwm22a_mod_red_means"
   ]
  },
  {
   "cell_type": "code",
   "execution_count": 28,
   "metadata": {
    "vscode": {
     "languageId": "r"
    }
   },
   "outputs": [
    {
     "data": {
      "text/html": [
       "<table class=\"dataframe\">\n",
       "<caption>A data.frame: 1 × 7</caption>\n",
       "<thead>\n",
       "\t<tr><th></th><th scope=col>contrast</th><th scope=col>ratio</th><th scope=col>SE</th><th scope=col>df</th><th scope=col>null</th><th scope=col>t.ratio</th><th scope=col>p.value</th></tr>\n",
       "\t<tr><th></th><th scope=col>&lt;fct&gt;</th><th scope=col>&lt;dbl&gt;</th><th scope=col>&lt;dbl&gt;</th><th scope=col>&lt;dbl&gt;</th><th scope=col>&lt;dbl&gt;</th><th scope=col>&lt;dbl&gt;</th><th scope=col>&lt;dbl&gt;</th></tr>\n",
       "</thead>\n",
       "<tbody>\n",
       "\t<tr><th scope=row>1</th><td>PROVEN40 / UTC</td><td>0.982665</td><td>0.01738607</td><td>29</td><td>1</td><td>-0.988368</td><td>0.3311477</td></tr>\n",
       "</tbody>\n",
       "</table>\n"
      ],
      "text/latex": [
       "A data.frame: 1 × 7\n",
       "\\begin{tabular}{r|lllllll}\n",
       "  & contrast & ratio & SE & df & null & t.ratio & p.value\\\\\n",
       "  & <fct> & <dbl> & <dbl> & <dbl> & <dbl> & <dbl> & <dbl>\\\\\n",
       "\\hline\n",
       "\t1 & PROVEN40 / UTC & 0.982665 & 0.01738607 & 29 & 1 & -0.988368 & 0.3311477\\\\\n",
       "\\end{tabular}\n"
      ],
      "text/markdown": [
       "\n",
       "A data.frame: 1 × 7\n",
       "\n",
       "| <!--/--> | contrast &lt;fct&gt; | ratio &lt;dbl&gt; | SE &lt;dbl&gt; | df &lt;dbl&gt; | null &lt;dbl&gt; | t.ratio &lt;dbl&gt; | p.value &lt;dbl&gt; |\n",
       "|---|---|---|---|---|---|---|---|\n",
       "| 1 | PROVEN40 / UTC | 0.982665 | 0.01738607 | 29 | 1 | -0.988368 | 0.3311477 |\n",
       "\n"
      ],
      "text/plain": [
       "  contrast       ratio    SE         df null t.ratio   p.value  \n",
       "1 PROVEN40 / UTC 0.982665 0.01738607 29 1    -0.988368 0.3311477"
      ]
     },
     "metadata": {},
     "output_type": "display_data"
    }
   ],
   "source": [
    "uwm22a_mod_red_trt_contrast <- emmeans(uwm22a_mod_red, ~ treatment, type = \"response\") %>% \n",
    "pairs(reverse = TRUE,  adjust = \"Tukey\") %>% \n",
    "data.frame()\n",
    "\n",
    "uwm22a_mod_red_trt_contrast"
   ]
  },
  {
   "cell_type": "code",
   "execution_count": 29,
   "metadata": {
    "vscode": {
     "languageId": "r"
    }
   },
   "outputs": [
    {
     "data": {
      "text/html": [
       "'Ndfa = 1.73%\\np-value = 0.331'"
      ],
      "text/latex": [
       "'Ndfa = 1.73\\%\\textbackslash{}np-value = 0.331'"
      ],
      "text/markdown": [
       "'Ndfa = 1.73%\\np-value = 0.331'"
      ],
      "text/plain": [
       "[1] \"Ndfa = 1.73%\\np-value = 0.331\""
      ]
     },
     "metadata": {},
     "output_type": "display_data"
    }
   ],
   "source": [
    "my_label <- with(uwm22a_mod_red_trt_contrast,\n",
    "\n",
    "paste0(\n",
    "    \"Ndfa = \",\n",
    "    signif(1 - ratio,3)*100,\n",
    "    \"%\",\n",
    "    #\"(± \",\n",
    "    #signif(SE,3)*100,\n",
    "    #\"%)\",\n",
    "    \"\\n\",\n",
    "    \"p-value = \",signif(p.value,3)\n",
    "    )\n",
    ")\n",
    "\n",
    "my_label"
   ]
  },
  {
   "cell_type": "code",
   "execution_count": 30,
   "metadata": {
    "vscode": {
     "languageId": "r"
    }
   },
   "outputs": [
    {
     "data": {
      "image/png": "[encoded data removed]",
      "text/plain": [
       "plot without title"
      ]
     },
     "metadata": {
      "image/png": {
       "height": 300,
       "width": 300
      }
     },
     "output_type": "display_data"
    }
   ],
   "source": [
    "uwm22a_plot <- as.data.frame(uwm22a_mod_red_means) %>% \n",
    "ggplot(aes((sampling),response, colour = treatment, fill = treatment)) + \n",
    "geom_point(aes(y = delta15N), data = uwm22a, position = position_dodge(width = 0.4), size = 1 ) +\n",
    "geom_point(position = position_dodge(width = 0.4), size = 3, shape = 21, colour = \"gray10\") +\n",
    "geom_errorbar(aes(ymax = response + SE, ymin = response - SE), colour = \"gray10\", width = 0.2, position = position_dodge(width = 0.4)) + \n",
    "labs(y = expression(delta^15*N~\"(‰)\"), x = \"Growth stage\", colour = \"\", fill = \"\") + \n",
    "annotate(\"text\", x = 5.5, y = max(uwm22a$delta15N), label = my_label, hjust = 1, size = 4.5, vjust = 1) + \n",
    "facet_wrap(~\"Arlington 2022\") + \n",
    "theme(legend.position = \"top\")\n",
    "\n",
    "uwm22a_plot"
   ]
  },
  {
   "cell_type": "markdown",
   "metadata": {},
   "source": [
    "## 2022 Hancok"
   ]
  },
  {
   "cell_type": "code",
   "execution_count": 31,
   "metadata": {
    "vscode": {
     "languageId": "r"
    }
   },
   "outputs": [
    {
     "name": "stdout",
     "output_type": "stream",
     "text": [
      "'data.frame':\t300 obs. of  8 variables:\n",
      " $ location : Factor w/ 1 level \"Hancock\": 1 1 1 1 1 1 1 1 1 1 ...\n",
      " $ year     : Factor w/ 1 level \"2022\": 1 1 1 1 1 1 1 1 1 1 ...\n",
      " $ site_year: Factor w/ 1 level \"Hancock - 2022\": 1 1 1 1 1 1 1 1 1 1 ...\n",
      " $ sampling : Factor w/ 5 levels \"1\",\"2\",\"3\",\"4\",..: 1 2 3 4 5 1 2 3 4 5 ...\n",
      " $ plot     : Factor w/ 60 levels \"102\",\"103\",\"202\",..: 1 1 1 1 1 2 2 2 2 2 ...\n",
      " $ rep      : Factor w/ 30 levels \"1\",\"2\",\"3\",\"4\",..: 1 1 1 1 1 1 1 1 1 1 ...\n",
      " $ treatment: Factor w/ 2 levels \"ProveN40\",\"UTC\": 2 2 2 2 2 1 1 1 1 1 ...\n",
      " $ delta15N : num  1385 1221 1067 1210 1244 ...\n"
     ]
    }
   ],
   "source": [
    "uwm22h <- uwm22 %>%  filter(location  == \"Hancock\", treatment\t!= \"nifKO\"\n",
    ") %>% \n",
    "mutate_at(c(\"location\",\"year\",\"site_year\",\"sampling\",\"plot\",\"rep\",\"treatment\"), factor)\n",
    "\n",
    "#uwm22h$delta15N  <- d15n_2_ae(uwm22h$delta15N )\n",
    "\n",
    "str(uwm22h)\n",
    "\n",
    "# Factor levels \n",
    "uwm22h$treatment <- factor(uwm22h$treatment, levels = c('UTC','ProveN40'),  labels = c('UTC','PROVEN40'))\n",
    "uwm22h$sampling <- factor(uwm22h$sampling, levels = 1:5, labels = c(\"V5\",\"V7\",\"V10\",\"VT\",\"R1\"))\n"
   ]
  },
  {
   "cell_type": "code",
   "execution_count": 32,
   "metadata": {
    "vscode": {
     "languageId": "r"
    }
   },
   "outputs": [
    {
     "data": {
      "text/html": [
       "<table class=\"dataframe\">\n",
       "<caption>A anova: 2 × 3</caption>\n",
       "<thead>\n",
       "\t<tr><th></th><th scope=col>Df</th><th scope=col>F value</th><th scope=col>Pr(&gt;F)</th></tr>\n",
       "\t<tr><th></th><th scope=col>&lt;int&gt;</th><th scope=col>&lt;dbl&gt;</th><th scope=col>&lt;dbl&gt;</th></tr>\n",
       "</thead>\n",
       "<tbody>\n",
       "\t<tr><th scope=row>group</th><td>  1</td><td>1.823065</td><td>0.1779734</td></tr>\n",
       "\t<tr><th scope=row> </th><td>298</td><td>      NA</td><td>       NA</td></tr>\n",
       "</tbody>\n",
       "</table>\n"
      ],
      "text/latex": [
       "A anova: 2 × 3\n",
       "\\begin{tabular}{r|lll}\n",
       "  & Df & F value & Pr(>F)\\\\\n",
       "  & <int> & <dbl> & <dbl>\\\\\n",
       "\\hline\n",
       "\tgroup &   1 & 1.823065 & 0.1779734\\\\\n",
       "\t  & 298 &       NA &        NA\\\\\n",
       "\\end{tabular}\n"
      ],
      "text/markdown": [
       "\n",
       "A anova: 2 × 3\n",
       "\n",
       "| <!--/--> | Df &lt;int&gt; | F value &lt;dbl&gt; | Pr(&gt;F) &lt;dbl&gt; |\n",
       "|---|---|---|---|\n",
       "| group |   1 | 1.823065 | 0.1779734 |\n",
       "| <!----> | 298 |       NA |        NA |\n",
       "\n"
      ],
      "text/plain": [
       "      Df  F value  Pr(>F)   \n",
       "group   1 1.823065 0.1779734\n",
       "      298       NA        NA"
      ]
     },
     "metadata": {},
     "output_type": "display_data"
    },
    {
     "data": {
      "text/html": [
       "<table class=\"dataframe\">\n",
       "<caption>A anova: 2 × 3</caption>\n",
       "<thead>\n",
       "\t<tr><th></th><th scope=col>Df</th><th scope=col>F value</th><th scope=col>Pr(&gt;F)</th></tr>\n",
       "\t<tr><th></th><th scope=col>&lt;int&gt;</th><th scope=col>&lt;dbl&gt;</th><th scope=col>&lt;dbl&gt;</th></tr>\n",
       "</thead>\n",
       "<tbody>\n",
       "\t<tr><th scope=row>group</th><td>  4</td><td>13.1591</td><td>7.091654e-10</td></tr>\n",
       "\t<tr><th scope=row> </th><td>295</td><td>     NA</td><td>          NA</td></tr>\n",
       "</tbody>\n",
       "</table>\n"
      ],
      "text/latex": [
       "A anova: 2 × 3\n",
       "\\begin{tabular}{r|lll}\n",
       "  & Df & F value & Pr(>F)\\\\\n",
       "  & <int> & <dbl> & <dbl>\\\\\n",
       "\\hline\n",
       "\tgroup &   4 & 13.1591 & 7.091654e-10\\\\\n",
       "\t  & 295 &      NA &           NA\\\\\n",
       "\\end{tabular}\n"
      ],
      "text/markdown": [
       "\n",
       "A anova: 2 × 3\n",
       "\n",
       "| <!--/--> | Df &lt;int&gt; | F value &lt;dbl&gt; | Pr(&gt;F) &lt;dbl&gt; |\n",
       "|---|---|---|---|\n",
       "| group |   4 | 13.1591 | 7.091654e-10 |\n",
       "| <!----> | 295 |      NA |           NA |\n",
       "\n"
      ],
      "text/plain": [
       "      Df  F value Pr(>F)      \n",
       "group   4 13.1591 7.091654e-10\n",
       "      295      NA           NA"
      ]
     },
     "metadata": {},
     "output_type": "display_data"
    }
   ],
   "source": [
    "# test for HOV across treatments\n",
    "leveneTest(delta15N ~ treatment, data=uwm22h)\n",
    "leveneTest(delta15N ~ sampling, data=uwm22h)"
   ]
  },
  {
   "cell_type": "code",
   "execution_count": 33,
   "metadata": {
    "vscode": {
     "languageId": "r"
    }
   },
   "outputs": [
    {
     "data": {
      "text/html": [
       "<table class=\"dataframe\">\n",
       "<caption>A anova: 2 × 3</caption>\n",
       "<thead>\n",
       "\t<tr><th></th><th scope=col>Df</th><th scope=col>F value</th><th scope=col>Pr(&gt;F)</th></tr>\n",
       "\t<tr><th></th><th scope=col>&lt;int&gt;</th><th scope=col>&lt;dbl&gt;</th><th scope=col>&lt;dbl&gt;</th></tr>\n",
       "</thead>\n",
       "<tbody>\n",
       "\t<tr><th scope=row>group</th><td>  1</td><td>2.003973</td><td>0.1579318</td></tr>\n",
       "\t<tr><th scope=row> </th><td>298</td><td>      NA</td><td>       NA</td></tr>\n",
       "</tbody>\n",
       "</table>\n"
      ],
      "text/latex": [
       "A anova: 2 × 3\n",
       "\\begin{tabular}{r|lll}\n",
       "  & Df & F value & Pr(>F)\\\\\n",
       "  & <int> & <dbl> & <dbl>\\\\\n",
       "\\hline\n",
       "\tgroup &   1 & 2.003973 & 0.1579318\\\\\n",
       "\t  & 298 &       NA &        NA\\\\\n",
       "\\end{tabular}\n"
      ],
      "text/markdown": [
       "\n",
       "A anova: 2 × 3\n",
       "\n",
       "| <!--/--> | Df &lt;int&gt; | F value &lt;dbl&gt; | Pr(&gt;F) &lt;dbl&gt; |\n",
       "|---|---|---|---|\n",
       "| group |   1 | 2.003973 | 0.1579318 |\n",
       "| <!----> | 298 |       NA |        NA |\n",
       "\n"
      ],
      "text/plain": [
       "      Df  F value  Pr(>F)   \n",
       "group   1 2.003973 0.1579318\n",
       "      298       NA        NA"
      ]
     },
     "metadata": {},
     "output_type": "display_data"
    },
    {
     "data": {
      "text/html": [
       "<table class=\"dataframe\">\n",
       "<caption>A anova: 2 × 3</caption>\n",
       "<thead>\n",
       "\t<tr><th></th><th scope=col>Df</th><th scope=col>F value</th><th scope=col>Pr(&gt;F)</th></tr>\n",
       "\t<tr><th></th><th scope=col>&lt;int&gt;</th><th scope=col>&lt;dbl&gt;</th><th scope=col>&lt;dbl&gt;</th></tr>\n",
       "</thead>\n",
       "<tbody>\n",
       "\t<tr><th scope=row>group</th><td>  4</td><td>11.28142</td><td>1.567303e-08</td></tr>\n",
       "\t<tr><th scope=row> </th><td>295</td><td>      NA</td><td>          NA</td></tr>\n",
       "</tbody>\n",
       "</table>\n"
      ],
      "text/latex": [
       "A anova: 2 × 3\n",
       "\\begin{tabular}{r|lll}\n",
       "  & Df & F value & Pr(>F)\\\\\n",
       "  & <int> & <dbl> & <dbl>\\\\\n",
       "\\hline\n",
       "\tgroup &   4 & 11.28142 & 1.567303e-08\\\\\n",
       "\t  & 295 &       NA &           NA\\\\\n",
       "\\end{tabular}\n"
      ],
      "text/markdown": [
       "\n",
       "A anova: 2 × 3\n",
       "\n",
       "| <!--/--> | Df &lt;int&gt; | F value &lt;dbl&gt; | Pr(&gt;F) &lt;dbl&gt; |\n",
       "|---|---|---|---|\n",
       "| group |   4 | 11.28142 | 1.567303e-08 |\n",
       "| <!----> | 295 |       NA |           NA |\n",
       "\n"
      ],
      "text/plain": [
       "      Df  F value  Pr(>F)      \n",
       "group   4 11.28142 1.567303e-08\n",
       "      295       NA           NA"
      ]
     },
     "metadata": {},
     "output_type": "display_data"
    }
   ],
   "source": [
    "leveneTest(log(delta15N) ~ treatment, data=uwm22h)\n",
    "leveneTest(log(delta15N) ~ sampling, data=uwm22h)"
   ]
  },
  {
   "cell_type": "code",
   "execution_count": 34,
   "metadata": {
    "vscode": {
     "languageId": "r"
    }
   },
   "outputs": [],
   "source": [
    "uwm22h_mod_full <- lmer(log(delta15N) ~ treatment * sampling  + (1|rep/plot), data = uwm22h)\n",
    "uwm22h_mod_red <- lmer(log(delta15N) ~ treatment + sampling  + (1|rep/plot), data = uwm22h)"
   ]
  },
  {
   "cell_type": "code",
   "execution_count": 35,
   "metadata": {
    "vscode": {
     "languageId": "r"
    }
   },
   "outputs": [
    {
     "data": {
      "text/html": [
       "<table class=\"dataframe\">\n",
       "<caption>A anova: 3 × 6</caption>\n",
       "<thead>\n",
       "\t<tr><th></th><th scope=col>Sum Sq</th><th scope=col>Mean Sq</th><th scope=col>NumDF</th><th scope=col>DenDF</th><th scope=col>F value</th><th scope=col>Pr(&gt;F)</th></tr>\n",
       "\t<tr><th></th><th scope=col>&lt;dbl&gt;</th><th scope=col>&lt;dbl&gt;</th><th scope=col>&lt;int&gt;</th><th scope=col>&lt;dbl&gt;</th><th scope=col>&lt;dbl&gt;</th><th scope=col>&lt;dbl&gt;</th></tr>\n",
       "</thead>\n",
       "<tbody>\n",
       "\t<tr><th scope=row>treatment</th><td>0.005701077</td><td>0.005701077</td><td>1</td><td> 29</td><td> 0.8966443</td><td>3.515071e-01</td></tr>\n",
       "\t<tr><th scope=row>sampling</th><td>1.773827227</td><td>0.443456807</td><td>4</td><td>232</td><td>69.7452438</td><td>1.071739e-38</td></tr>\n",
       "\t<tr><th scope=row>treatment:sampling</th><td>0.035803923</td><td>0.008950981</td><td>4</td><td>232</td><td> 1.4077771</td><td>2.321242e-01</td></tr>\n",
       "</tbody>\n",
       "</table>\n"
      ],
      "text/latex": [
       "A anova: 3 × 6\n",
       "\\begin{tabular}{r|llllll}\n",
       "  & Sum Sq & Mean Sq & NumDF & DenDF & F value & Pr(>F)\\\\\n",
       "  & <dbl> & <dbl> & <int> & <dbl> & <dbl> & <dbl>\\\\\n",
       "\\hline\n",
       "\ttreatment & 0.005701077 & 0.005701077 & 1 &  29 &  0.8966443 & 3.515071e-01\\\\\n",
       "\tsampling & 1.773827227 & 0.443456807 & 4 & 232 & 69.7452438 & 1.071739e-38\\\\\n",
       "\ttreatment:sampling & 0.035803923 & 0.008950981 & 4 & 232 &  1.4077771 & 2.321242e-01\\\\\n",
       "\\end{tabular}\n"
      ],
      "text/markdown": [
       "\n",
       "A anova: 3 × 6\n",
       "\n",
       "| <!--/--> | Sum Sq &lt;dbl&gt; | Mean Sq &lt;dbl&gt; | NumDF &lt;int&gt; | DenDF &lt;dbl&gt; | F value &lt;dbl&gt; | Pr(&gt;F) &lt;dbl&gt; |\n",
       "|---|---|---|---|---|---|---|\n",
       "| treatment | 0.005701077 | 0.005701077 | 1 |  29 |  0.8966443 | 3.515071e-01 |\n",
       "| sampling | 1.773827227 | 0.443456807 | 4 | 232 | 69.7452438 | 1.071739e-38 |\n",
       "| treatment:sampling | 0.035803923 | 0.008950981 | 4 | 232 |  1.4077771 | 2.321242e-01 |\n",
       "\n"
      ],
      "text/plain": [
       "                   Sum Sq      Mean Sq     NumDF DenDF F value    Pr(>F)      \n",
       "treatment          0.005701077 0.005701077 1      29    0.8966443 3.515071e-01\n",
       "sampling           1.773827227 0.443456807 4     232   69.7452438 1.071739e-38\n",
       "treatment:sampling 0.035803923 0.008950981 4     232    1.4077771 2.321242e-01"
      ]
     },
     "metadata": {},
     "output_type": "display_data"
    }
   ],
   "source": [
    "anova(uwm22h_mod_full)"
   ]
  },
  {
   "cell_type": "code",
   "execution_count": 36,
   "metadata": {
    "vscode": {
     "languageId": "r"
    }
   },
   "outputs": [
    {
     "name": "stderr",
     "output_type": "stream",
     "text": [
      "refitting model(s) with ML (instead of REML)\n",
      "\n"
     ]
    },
    {
     "data": {
      "text/html": [
       "<table class=\"dataframe\">\n",
       "<caption>A anova: 2 × 3</caption>\n",
       "<thead>\n",
       "\t<tr><th></th><th scope=col>npar</th><th scope=col>AIC</th><th scope=col>BIC</th></tr>\n",
       "\t<tr><th></th><th scope=col>&lt;dbl&gt;</th><th scope=col>&lt;dbl&gt;</th><th scope=col>&lt;dbl&gt;</th></tr>\n",
       "</thead>\n",
       "<tbody>\n",
       "\t<tr><th scope=row>uwm22h_mod_red</th><td> 9</td><td>-569.3698</td><td>-536.0357</td></tr>\n",
       "\t<tr><th scope=row>uwm22h_mod_full</th><td>13</td><td>-567.1255</td><td>-518.9763</td></tr>\n",
       "</tbody>\n",
       "</table>\n"
      ],
      "text/latex": [
       "A anova: 2 × 3\n",
       "\\begin{tabular}{r|lll}\n",
       "  & npar & AIC & BIC\\\\\n",
       "  & <dbl> & <dbl> & <dbl>\\\\\n",
       "\\hline\n",
       "\tuwm22h\\_mod\\_red &  9 & -569.3698 & -536.0357\\\\\n",
       "\tuwm22h\\_mod\\_full & 13 & -567.1255 & -518.9763\\\\\n",
       "\\end{tabular}\n"
      ],
      "text/markdown": [
       "\n",
       "A anova: 2 × 3\n",
       "\n",
       "| <!--/--> | npar &lt;dbl&gt; | AIC &lt;dbl&gt; | BIC &lt;dbl&gt; |\n",
       "|---|---|---|---|\n",
       "| uwm22h_mod_red |  9 | -569.3698 | -536.0357 |\n",
       "| uwm22h_mod_full | 13 | -567.1255 | -518.9763 |\n",
       "\n"
      ],
      "text/plain": [
       "                npar AIC       BIC      \n",
       "uwm22h_mod_red   9   -569.3698 -536.0357\n",
       "uwm22h_mod_full 13   -567.1255 -518.9763"
      ]
     },
     "metadata": {},
     "output_type": "display_data"
    }
   ],
   "source": [
    "anova(uwm22h_mod_full,uwm22h_mod_red)[1:3]"
   ]
  },
  {
   "cell_type": "code",
   "execution_count": 37,
   "metadata": {
    "vscode": {
     "languageId": "r"
    }
   },
   "outputs": [
    {
     "data": {
      "image/png": "[encoded data removed]",
      "text/plain": [
       "plot without title"
      ]
     },
     "metadata": {
      "image/png": {
       "height": 300,
       "width": 300
      }
     },
     "output_type": "display_data"
    },
    {
     "name": "stdout",
     "output_type": "stream",
     "text": [
      "NULL\n"
     ]
    },
    {
     "data": {
      "text/plain": [
       "\n",
       "\tShapiro-Wilk normality test\n",
       "\n",
       "data:  residuals(mod)\n",
       "W = 0.98641, p-value = 0.006293\n"
      ]
     },
     "metadata": {},
     "output_type": "display_data"
    },
    {
     "data": {
      "image/png": "[encoded data removed]",
      "text/plain": [
       "Plot with title \"density.default(x = resid(mod))\""
      ]
     },
     "metadata": {
      "image/png": {
       "height": 300,
       "width": 300
      }
     },
     "output_type": "display_data"
    }
   ],
   "source": [
    "check_assumptions(uwm22h_mod_red)"
   ]
  },
  {
   "cell_type": "code",
   "execution_count": 38,
   "metadata": {
    "vscode": {
     "languageId": "r"
    }
   },
   "outputs": [
    {
     "data": {
      "text/plain": [
       "Linear mixed model fit by REML. t-tests use Satterthwaite's method [\n",
       "lmerModLmerTest]\n",
       "Formula: log(delta15N) ~ treatment + sampling + (1 | rep/plot)\n",
       "   Data: uwm22h\n",
       "\n",
       "REML criterion at convergence: -546\n",
       "\n",
       "Scaled residuals: \n",
       "     Min       1Q   Median       3Q      Max \n",
       "-2.96019 -0.47418  0.01386  0.52828  2.75375 \n",
       "\n",
       "Random effects:\n",
       " Groups   Name        Variance Std.Dev.\n",
       " plot:rep (Intercept) 0.001538 0.03922 \n",
       " rep      (Intercept) 0.003166 0.05627 \n",
       " Residual             0.006402 0.08001 \n",
       "Number of obs: 300, groups:  plot:rep, 60; rep, 30\n",
       "\n",
       "Fixed effects:\n",
       "                   Estimate Std. Error        df t value Pr(>|t|)    \n",
       "(Intercept)         7.21891    0.01688  89.26076 427.725  < 2e-16 ***\n",
       "treatmentPROVEN40  -0.01298    0.01371  29.00004  -0.947    0.352    \n",
       "samplingV7         -0.06554    0.01461 235.99998  -4.487 1.13e-05 ***\n",
       "samplingV10        -0.23454    0.01461 235.99998 -16.055  < 2e-16 ***\n",
       "samplingVT         -0.08563    0.01461 235.99998  -5.861 1.54e-08 ***\n",
       "samplingR1         -0.08421    0.01461 235.99998  -5.765 2.55e-08 ***\n",
       "---\n",
       "Signif. codes:  0 '***' 0.001 '**' 0.01 '*' 0.05 '.' 0.1 ' ' 1\n",
       "\n",
       "Correlation of Fixed Effects:\n",
       "            (Intr) tPROVE smplV7 smpV10 smplVT\n",
       "trtPROVEN40 -0.406                            \n",
       "samplingV7  -0.433  0.000                     \n",
       "samplingV10 -0.433  0.000  0.500              \n",
       "samplingVT  -0.433  0.000  0.500  0.500       \n",
       "samplingR1  -0.433  0.000  0.500  0.500  0.500"
      ]
     },
     "metadata": {},
     "output_type": "display_data"
    }
   ],
   "source": [
    "summary(uwm22h_mod_red)"
   ]
  },
  {
   "cell_type": "code",
   "execution_count": 39,
   "metadata": {
    "vscode": {
     "languageId": "r"
    }
   },
   "outputs": [
    {
     "data": {
      "text/plain": [
       " treatment sampling response   SE   df lower.CL upper.CL\n",
       " UTC       V5           1365 23.0 89.3     1320     1412\n",
       " PROVEN40  V5           1347 22.7 89.3     1303     1393\n",
       " UTC       V7           1278 21.6 89.3     1236     1322\n",
       " PROVEN40  V7           1262 21.3 89.3     1220     1305\n",
       " UTC       V10          1080 18.2 89.3     1044     1116\n",
       " PROVEN40  V10          1066 18.0 89.3     1031     1102\n",
       " UTC       VT           1253 21.1 89.3     1212     1296\n",
       " PROVEN40  VT           1237 20.9 89.3     1196     1279\n",
       " UTC       R1           1255 21.2 89.3     1213     1298\n",
       " PROVEN40  R1           1239 20.9 89.3     1198     1281\n",
       "\n",
       "Degrees-of-freedom method: kenward-roger \n",
       "Confidence level used: 0.95 \n",
       "Intervals are back-transformed from the log scale "
      ]
     },
     "metadata": {},
     "output_type": "display_data"
    }
   ],
   "source": [
    "uwm22h_mod_red_means <- emmeans(uwm22h_mod_red, ~ treatment * sampling, type = \"response\")\n",
    "uwm22h_mod_red_means"
   ]
  },
  {
   "cell_type": "code",
   "execution_count": 40,
   "metadata": {
    "vscode": {
     "languageId": "r"
    }
   },
   "outputs": [
    {
     "data": {
      "text/html": [
       "<table class=\"dataframe\">\n",
       "<caption>A data.frame: 1 × 7</caption>\n",
       "<thead>\n",
       "\t<tr><th></th><th scope=col>contrast</th><th scope=col>ratio</th><th scope=col>SE</th><th scope=col>df</th><th scope=col>null</th><th scope=col>t.ratio</th><th scope=col>p.value</th></tr>\n",
       "\t<tr><th></th><th scope=col>&lt;fct&gt;</th><th scope=col>&lt;dbl&gt;</th><th scope=col>&lt;dbl&gt;</th><th scope=col>&lt;dbl&gt;</th><th scope=col>&lt;dbl&gt;</th><th scope=col>&lt;dbl&gt;</th><th scope=col>&lt;dbl&gt;</th></tr>\n",
       "</thead>\n",
       "<tbody>\n",
       "\t<tr><th scope=row>1</th><td>PROVEN40 / UTC</td><td>0.9871036</td><td>0.0135312</td><td>29</td><td>1</td><td>-0.9469135</td><td>0.3515069</td></tr>\n",
       "</tbody>\n",
       "</table>\n"
      ],
      "text/latex": [
       "A data.frame: 1 × 7\n",
       "\\begin{tabular}{r|lllllll}\n",
       "  & contrast & ratio & SE & df & null & t.ratio & p.value\\\\\n",
       "  & <fct> & <dbl> & <dbl> & <dbl> & <dbl> & <dbl> & <dbl>\\\\\n",
       "\\hline\n",
       "\t1 & PROVEN40 / UTC & 0.9871036 & 0.0135312 & 29 & 1 & -0.9469135 & 0.3515069\\\\\n",
       "\\end{tabular}\n"
      ],
      "text/markdown": [
       "\n",
       "A data.frame: 1 × 7\n",
       "\n",
       "| <!--/--> | contrast &lt;fct&gt; | ratio &lt;dbl&gt; | SE &lt;dbl&gt; | df &lt;dbl&gt; | null &lt;dbl&gt; | t.ratio &lt;dbl&gt; | p.value &lt;dbl&gt; |\n",
       "|---|---|---|---|---|---|---|---|\n",
       "| 1 | PROVEN40 / UTC | 0.9871036 | 0.0135312 | 29 | 1 | -0.9469135 | 0.3515069 |\n",
       "\n"
      ],
      "text/plain": [
       "  contrast       ratio     SE        df null t.ratio    p.value  \n",
       "1 PROVEN40 / UTC 0.9871036 0.0135312 29 1    -0.9469135 0.3515069"
      ]
     },
     "metadata": {},
     "output_type": "display_data"
    }
   ],
   "source": [
    "uwm22h_mod_red_trt_contrast <- emmeans(uwm22h_mod_red, ~ treatment, type = \"response\") %>% \n",
    "pairs(reverse = TRUE,  adjust = \"Tukey\") %>% \n",
    "data.frame()\n",
    "\n",
    "uwm22h_mod_red_trt_contrast"
   ]
  },
  {
   "cell_type": "code",
   "execution_count": 41,
   "metadata": {
    "vscode": {
     "languageId": "r"
    }
   },
   "outputs": [
    {
     "data": {
      "text/html": [
       "'Ndfa = 1.29% \\np-value = 0.352'"
      ],
      "text/latex": [
       "'Ndfa = 1.29\\% \\textbackslash{}np-value = 0.352'"
      ],
      "text/markdown": [
       "'Ndfa = 1.29% \\np-value = 0.352'"
      ],
      "text/plain": [
       "[1] \"Ndfa = 1.29% \\np-value = 0.352\""
      ]
     },
     "metadata": {},
     "output_type": "display_data"
    }
   ],
   "source": [
    "my_label <- with(uwm22h_mod_red_trt_contrast,\n",
    "\n",
    "paste0(\n",
    "    \"Ndfa = \",\n",
    "    signif(1 - ratio,3)*100,\n",
    "    \"% \",\n",
    "    #\"(± \",\n",
    "    #signif(SE,3)*100,\n",
    "    #\"%)\",\n",
    "    \"\\n\",\n",
    "    \"p-value = \",signif(p.value,3)\n",
    "    )\n",
    ")\n",
    "\n",
    "my_label"
   ]
  },
  {
   "cell_type": "code",
   "execution_count": 42,
   "metadata": {
    "vscode": {
     "languageId": "r"
    }
   },
   "outputs": [
    {
     "data": {
      "image/png": "[encoded data removed]",
      "text/plain": [
       "plot without title"
      ]
     },
     "metadata": {
      "image/png": {
       "height": 300,
       "width": 300
      }
     },
     "output_type": "display_data"
    }
   ],
   "source": [
    "uwm22h_plot <- as.data.frame(uwm22h_mod_red_means) %>% \n",
    "ggplot(aes((sampling),response, colour = treatment, fill = treatment)) + \n",
    "geom_point(aes(y = delta15N), data = uwm22h, position = position_dodge(width = 0.4), size = 1 ) +\n",
    "geom_point(position = position_dodge(width = 0.4), size = 3, shape = 21, colour = \"gray10\") +\n",
    "geom_errorbar(aes(ymax = response + SE, ymin = response - SE), colour = \"gray10\", width = 0.2, position = position_dodge(width = 0.4)) + \n",
    "labs(y = expression(delta^15*N~\"(‰)\"), x = \"Growth stage\", colour = \"\", fill = \"\") + \n",
    "annotate(\"text\", x = 5.5, y = max(uwm22h$delta15N), label = my_label, hjust = 1, size = 4.5, vjust = 1) + \n",
    "facet_wrap(~\"Hancok 2022\") + \n",
    "theme(legend.position = \"top\")\n",
    "\n",
    "uwm22h_plot"
   ]
  },
  {
   "cell_type": "code",
   "execution_count": 43,
   "metadata": {
    "vscode": {
     "languageId": "r"
    }
   },
   "outputs": [
    {
     "data": {
      "image/png": "[encoded data removed]",
      "text/plain": [
       "plot without title"
      ]
     },
     "metadata": {
      "image/png": {
       "height": 240,
       "width": 600
      }
     },
     "output_type": "display_data"
    }
   ],
   "source": [
    "options(repr.plot.width=10, repr.plot.height=4)\n",
    "\n",
    "ggarrange(uwm21_plot,uwm22h_plot,uwm22a_plot, nrow = 1 , common.legend = T)"
   ]
  },
  {
   "cell_type": "code",
   "execution_count": 44,
   "metadata": {
    "vscode": {
     "languageId": "r"
    }
   },
   "outputs": [],
   "source": [
    "uwm_all <- data.frame(emmeans(uwm21_mod_red, ~ treatment, type = \"response\")) %>% mutate(site_year = \"Hancock 2021\") %>%\n",
    "bind_rows(data.frame(emmeans(uwm22h_mod_red, ~ treatment, type = \"response\")) %>% mutate(site_year = \"Hancock 2022\")) %>%\n",
    "bind_rows(data.frame(emmeans(uwm22a_mod_red, ~ treatment, type = \"response\")) %>% mutate(site_year = \"Arlington 2022\"))\n",
    "\n",
    "uwm_all$site_year <- factor(uwm_all$site_year, levels = c(\"Hancock 2021\",\"Hancock 2022\",\"Arlington 2022\")) \n",
    "\n",
    "uwm_all_trt_contrasts <- uwm21_mod_red_trt_contrast %>% mutate(site_year = \"Hancock 2021\") %>% \n",
    "bind_rows(uwm22h_mod_red_trt_contrast %>% mutate(site_year = \"Hancock 2022\")) %>% \n",
    "bind_rows(uwm22a_mod_red_trt_contrast %>% mutate(site_year = \"Arlington 2022\")) %>% \n",
    "mutate(my_label = paste0(\n",
    "    \"Ndfa = \",\n",
    "    signif(1 - ratio,3)*100,\n",
    "    \"% \",\n",
    "    #\"(± \",\n",
    "    #signif(SE,3)*100,\n",
    "    #\"%)\",\n",
    "    \"\\n\",\n",
    "    \"p-value = \",signif(p.value,3)\n",
    "    )\n",
    ")\n",
    "\n",
    "uwm_all_trt_contrasts$site_year <- factor(uwm_all_trt_contrasts$site_year, levels = c(\"Hancock 2021\",\"Hancock 2022\",\"Arlington 2022\")) \n"
   ]
  },
  {
   "cell_type": "code",
   "execution_count": 45,
   "metadata": {
    "vscode": {
     "languageId": "r"
    }
   },
   "outputs": [
    {
     "data": {
      "text/html": [
       "<table class=\"dataframe\">\n",
       "<caption>A data.frame: 6 × 7</caption>\n",
       "<thead>\n",
       "\t<tr><th scope=col>treatment</th><th scope=col>response</th><th scope=col>SE</th><th scope=col>df</th><th scope=col>lower.CL</th><th scope=col>upper.CL</th><th scope=col>site_year</th></tr>\n",
       "\t<tr><th scope=col>&lt;fct&gt;</th><th scope=col>&lt;dbl&gt;</th><th scope=col>&lt;dbl&gt;</th><th scope=col>&lt;dbl&gt;</th><th scope=col>&lt;dbl&gt;</th><th scope=col>&lt;dbl&gt;</th><th scope=col>&lt;fct&gt;</th></tr>\n",
       "</thead>\n",
       "<tbody>\n",
       "\t<tr><td>UTC     </td><td>1251.909</td><td>45.04337</td><td>20.80517</td><td>1161.605</td><td>1349.233</td><td>Hancock 2021  </td></tr>\n",
       "\t<tr><td>PROVEN40</td><td>1149.376</td><td>41.35423</td><td>20.80517</td><td>1066.468</td><td>1238.728</td><td>Hancock 2021  </td></tr>\n",
       "\t<tr><td>UTC     </td><td>1242.556</td><td>17.54980</td><td>45.31748</td><td>1207.714</td><td>1278.404</td><td>Hancock 2022  </td></tr>\n",
       "\t<tr><td>PROVEN40</td><td>1226.531</td><td>17.32347</td><td>45.31748</td><td>1192.138</td><td>1261.917</td><td>Hancock 2022  </td></tr>\n",
       "\t<tr><td>UTC     </td><td>1169.954</td><td>15.98451</td><td>56.52562</td><td>1138.374</td><td>1202.411</td><td>Arlington 2022</td></tr>\n",
       "\t<tr><td>PROVEN40</td><td>1149.673</td><td>15.70742</td><td>56.52562</td><td>1118.641</td><td>1181.567</td><td>Arlington 2022</td></tr>\n",
       "</tbody>\n",
       "</table>\n"
      ],
      "text/latex": [
       "A data.frame: 6 × 7\n",
       "\\begin{tabular}{lllllll}\n",
       " treatment & response & SE & df & lower.CL & upper.CL & site\\_year\\\\\n",
       " <fct> & <dbl> & <dbl> & <dbl> & <dbl> & <dbl> & <fct>\\\\\n",
       "\\hline\n",
       "\t UTC      & 1251.909 & 45.04337 & 20.80517 & 1161.605 & 1349.233 & Hancock 2021  \\\\\n",
       "\t PROVEN40 & 1149.376 & 41.35423 & 20.80517 & 1066.468 & 1238.728 & Hancock 2021  \\\\\n",
       "\t UTC      & 1242.556 & 17.54980 & 45.31748 & 1207.714 & 1278.404 & Hancock 2022  \\\\\n",
       "\t PROVEN40 & 1226.531 & 17.32347 & 45.31748 & 1192.138 & 1261.917 & Hancock 2022  \\\\\n",
       "\t UTC      & 1169.954 & 15.98451 & 56.52562 & 1138.374 & 1202.411 & Arlington 2022\\\\\n",
       "\t PROVEN40 & 1149.673 & 15.70742 & 56.52562 & 1118.641 & 1181.567 & Arlington 2022\\\\\n",
       "\\end{tabular}\n"
      ],
      "text/markdown": [
       "\n",
       "A data.frame: 6 × 7\n",
       "\n",
       "| treatment &lt;fct&gt; | response &lt;dbl&gt; | SE &lt;dbl&gt; | df &lt;dbl&gt; | lower.CL &lt;dbl&gt; | upper.CL &lt;dbl&gt; | site_year &lt;fct&gt; |\n",
       "|---|---|---|---|---|---|---|\n",
       "| UTC      | 1251.909 | 45.04337 | 20.80517 | 1161.605 | 1349.233 | Hancock 2021   |\n",
       "| PROVEN40 | 1149.376 | 41.35423 | 20.80517 | 1066.468 | 1238.728 | Hancock 2021   |\n",
       "| UTC      | 1242.556 | 17.54980 | 45.31748 | 1207.714 | 1278.404 | Hancock 2022   |\n",
       "| PROVEN40 | 1226.531 | 17.32347 | 45.31748 | 1192.138 | 1261.917 | Hancock 2022   |\n",
       "| UTC      | 1169.954 | 15.98451 | 56.52562 | 1138.374 | 1202.411 | Arlington 2022 |\n",
       "| PROVEN40 | 1149.673 | 15.70742 | 56.52562 | 1118.641 | 1181.567 | Arlington 2022 |\n",
       "\n"
      ],
      "text/plain": [
       "  treatment response SE       df       lower.CL upper.CL site_year     \n",
       "1 UTC       1251.909 45.04337 20.80517 1161.605 1349.233 Hancock 2021  \n",
       "2 PROVEN40  1149.376 41.35423 20.80517 1066.468 1238.728 Hancock 2021  \n",
       "3 UTC       1242.556 17.54980 45.31748 1207.714 1278.404 Hancock 2022  \n",
       "4 PROVEN40  1226.531 17.32347 45.31748 1192.138 1261.917 Hancock 2022  \n",
       "5 UTC       1169.954 15.98451 56.52562 1138.374 1202.411 Arlington 2022\n",
       "6 PROVEN40  1149.673 15.70742 56.52562 1118.641 1181.567 Arlington 2022"
      ]
     },
     "metadata": {},
     "output_type": "display_data"
    }
   ],
   "source": [
    "uwm_all"
   ]
  },
  {
   "cell_type": "code",
   "execution_count": 46,
   "metadata": {
    "vscode": {
     "languageId": "r"
    }
   },
   "outputs": [
    {
     "name": "stderr",
     "output_type": "stream",
     "text": [
      "Warning message in geom_errorbar(aes(ymax = upper.CL, ymin = lower.CL, fill = treatment), :\n",
      "\"\u001b[1m\u001b[22mIgnoring unknown aesthetics: \u001b[32mfill\u001b[39m\"\n"
     ]
    },
    {
     "data": {
      "image/png": "[encoded data removed]",
      "text/plain": [
       "plot without title"
      ]
     },
     "metadata": {
      "image/png": {
       "height": 240,
       "width": 480
      }
     },
     "output_type": "display_data"
    }
   ],
   "source": [
    "options(repr.plot.width=8, repr.plot.height=4)\n",
    "\n",
    "uwm_all %>%\n",
    "ggplot(aes(site_year, response,)) + \n",
    "geom_point(aes( fill = treatment, shape = treatment), position = position_dodge(width = 0.4), size = 6, colour = \"gray10\") +\n",
    "geom_errorbar(aes(ymax = upper.CL, ymin =lower.CL, fill = treatment), colour = \"gray10\", position = position_dodge(width = 0.4), width = 0, lwd = 1) + \n",
    "labs(y = expression(delta^15*N~\"(‰)\"), x = \"\", fill = \"Treatment:\", shape = \"Treatment:\", title = \"V4 to R1 leaf tips\") + \n",
    "geom_text(aes(y = 1500, label = my_label), data = uwm_all_trt_contrasts, size = 4.5, vjust = 1) + \n",
    "scale_shape_manual(values = 21:22, labels = c(\"Uninoculated Control\",\"PROVEN 40\")) + \n",
    "scale_fill_manual(values = myColorPalette, labels = c(\"Uninoculated Control\",\"PROVEN 40\")) +\n",
    "scale_y_continuous(sec.axis = sec_axis(~ (.*0.00037 + 0.37), name = expression(Atom~\"\"^15*N~Excess~\"(%)\"))) + \n",
    "theme(legend.position = \"right\", plot.title = element_text(hjust = 0.5))\n"
   ]
  },
  {
   "cell_type": "code",
   "execution_count": 47,
   "metadata": {
    "vscode": {
     "languageId": "r"
    }
   },
   "outputs": [],
   "source": [
    "ggsave(\"./figures/uwm_d15n_enrichment_dilution.jpeg\", dpi = 300, width= 9, height = 4.5)"
   ]
  }
 ],
 "metadata": {
  "kernelspec": {
   "display_name": "R",
   "language": "R",
   "name": "ir"
  },
  "language_info": {
   "codemirror_mode": "r",
   "file_extension": ".r",
   "mimetype": "text/x-r-source",
   "name": "R",
   "pygments_lexer": "r",
   "version": "4.1.3"
  }
 },
 "nbformat": 4,
 "nbformat_minor": 2
}
