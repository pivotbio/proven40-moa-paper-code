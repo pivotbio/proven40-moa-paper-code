{
 "cells": [
  {
   "cell_type": "code",
   "execution_count": 13,
   "metadata": {
    "vscode": {
     "languageId": "r"
    }
   },
   "outputs": [
    {
     "name": "stdout",
     "output_type": "stream",
     "text": [
      "Pivot Bio, Inc.\n",
      "This code performs analyses supporting findings of the paper entitled:\n",
      "\"Genetic remodeling of soil diazotrophs enables partial replacement of synthetic nitrogen fertilizer with biological nitrogen fixation in maize\".\n",
      "\n",
      "##------ Thu Jun 06 09:59:09 2024 ------## \n",
      "Loaded packages:  tidyverse, readxl, broom, foreach, nlme, lme4, lmerTest, glmmTMB, car, DHARMa, caret, emmeans, multcomp, ggpubr, scales, png, ggthemes and their dependencies.\n",
      "A complete list of packages used in the analysis is provided in the `packages_citations.txt` file.\n"
     ]
    }
   ],
   "source": [
    "source('../load_environment.R')"
   ]
  },
  {
   "cell_type": "code",
   "execution_count": 14,
   "metadata": {
    "vscode": {
     "languageId": "r"
    }
   },
   "outputs": [
    {
     "data": {
      "text/html": [
       "<table class=\"dataframe\">\n",
       "<caption>A data.frame: 6 × 6</caption>\n",
       "<thead>\n",
       "\t<tr><th></th><th scope=col>year</th><th scope=col>site</th><th scope=col>rep</th><th scope=col>plot</th><th scope=col>treatment</th><th scope=col>d15n_leaftip</th></tr>\n",
       "\t<tr><th></th><th scope=col>&lt;int&gt;</th><th scope=col>&lt;chr&gt;</th><th scope=col>&lt;int&gt;</th><th scope=col>&lt;int&gt;</th><th scope=col>&lt;chr&gt;</th><th scope=col>&lt;dbl&gt;</th></tr>\n",
       "</thead>\n",
       "<tbody>\n",
       "\t<tr><th scope=row>1</th><td>2021</td><td>IA01401</td><td>1</td><td>101</td><td>PROVEN40</td><td>2.999752</td></tr>\n",
       "\t<tr><th scope=row>2</th><td>2021</td><td>IA01401</td><td>1</td><td>104</td><td>UTC     </td><td>3.129368</td></tr>\n",
       "\t<tr><th scope=row>3</th><td>2021</td><td>IA01401</td><td>2</td><td>202</td><td>UTC     </td><td>2.606789</td></tr>\n",
       "\t<tr><th scope=row>4</th><td>2021</td><td>IA01401</td><td>2</td><td>205</td><td>PROVEN40</td><td>2.260991</td></tr>\n",
       "\t<tr><th scope=row>5</th><td>2021</td><td>IA01401</td><td>3</td><td>305</td><td>UTC     </td><td>3.279558</td></tr>\n",
       "\t<tr><th scope=row>6</th><td>2021</td><td>IA01401</td><td>3</td><td>308</td><td>PROVEN40</td><td>2.790926</td></tr>\n",
       "</tbody>\n",
       "</table>\n"
      ],
      "text/latex": [
       "A data.frame: 6 × 6\n",
       "\\begin{tabular}{r|llllll}\n",
       "  & year & site & rep & plot & treatment & d15n\\_leaftip\\\\\n",
       "  & <int> & <chr> & <int> & <int> & <chr> & <dbl>\\\\\n",
       "\\hline\n",
       "\t1 & 2021 & IA01401 & 1 & 101 & PROVEN40 & 2.999752\\\\\n",
       "\t2 & 2021 & IA01401 & 1 & 104 & UTC      & 3.129368\\\\\n",
       "\t3 & 2021 & IA01401 & 2 & 202 & UTC      & 2.606789\\\\\n",
       "\t4 & 2021 & IA01401 & 2 & 205 & PROVEN40 & 2.260991\\\\\n",
       "\t5 & 2021 & IA01401 & 3 & 305 & UTC      & 3.279558\\\\\n",
       "\t6 & 2021 & IA01401 & 3 & 308 & PROVEN40 & 2.790926\\\\\n",
       "\\end{tabular}\n"
      ],
      "text/markdown": [
       "\n",
       "A data.frame: 6 × 6\n",
       "\n",
       "| <!--/--> | year &lt;int&gt; | site &lt;chr&gt; | rep &lt;int&gt; | plot &lt;int&gt; | treatment &lt;chr&gt; | d15n_leaftip &lt;dbl&gt; |\n",
       "|---|---|---|---|---|---|---|\n",
       "| 1 | 2021 | IA01401 | 1 | 101 | PROVEN40 | 2.999752 |\n",
       "| 2 | 2021 | IA01401 | 1 | 104 | UTC      | 3.129368 |\n",
       "| 3 | 2021 | IA01401 | 2 | 202 | UTC      | 2.606789 |\n",
       "| 4 | 2021 | IA01401 | 2 | 205 | PROVEN40 | 2.260991 |\n",
       "| 5 | 2021 | IA01401 | 3 | 305 | UTC      | 3.279558 |\n",
       "| 6 | 2021 | IA01401 | 3 | 308 | PROVEN40 | 2.790926 |\n",
       "\n"
      ],
      "text/plain": [
       "  year site    rep plot treatment d15n_leaftip\n",
       "1 2021 IA01401 1   101  PROVEN40  2.999752    \n",
       "2 2021 IA01401 1   104  UTC       3.129368    \n",
       "3 2021 IA01401 2   202  UTC       2.606789    \n",
       "4 2021 IA01401 2   205  PROVEN40  2.260991    \n",
       "5 2021 IA01401 3   305  UTC       3.279558    \n",
       "6 2021 IA01401 3   308  PROVEN40  2.790926    "
      ]
     },
     "metadata": {},
     "output_type": "display_data"
    }
   ],
   "source": [
    "pb <- read.csv(\"./datasets/pivot_bio_trials_d15n.csv\")\n",
    "head(pb)\n",
    "\n",
    "pb <- pb %>% mutate_at(c(\"year\",\"rep\",\"treatment\",\"plot\"), factor)\n",
    "pb$treatment <- factor(pb$treatment, levels = c('UTC','PROVEN40'))"
   ]
  },
  {
   "cell_type": "code",
   "execution_count": 15,
   "metadata": {
    "vscode": {
     "languageId": "r"
    }
   },
   "outputs": [
    {
     "data": {
      "text/html": [
       "<table class=\"dataframe\">\n",
       "<caption>A anova: 2 × 3</caption>\n",
       "<thead>\n",
       "\t<tr><th></th><th scope=col>Df</th><th scope=col>F value</th><th scope=col>Pr(&gt;F)</th></tr>\n",
       "\t<tr><th></th><th scope=col>&lt;int&gt;</th><th scope=col>&lt;dbl&gt;</th><th scope=col>&lt;dbl&gt;</th></tr>\n",
       "</thead>\n",
       "<tbody>\n",
       "\t<tr><th scope=row>group</th><td>  1</td><td>1.28724</td><td>0.2587281</td></tr>\n",
       "\t<tr><th scope=row> </th><td>125</td><td>     NA</td><td>       NA</td></tr>\n",
       "</tbody>\n",
       "</table>\n"
      ],
      "text/latex": [
       "A anova: 2 × 3\n",
       "\\begin{tabular}{r|lll}\n",
       "  & Df & F value & Pr(>F)\\\\\n",
       "  & <int> & <dbl> & <dbl>\\\\\n",
       "\\hline\n",
       "\tgroup &   1 & 1.28724 & 0.2587281\\\\\n",
       "\t  & 125 &      NA &        NA\\\\\n",
       "\\end{tabular}\n"
      ],
      "text/markdown": [
       "\n",
       "A anova: 2 × 3\n",
       "\n",
       "| <!--/--> | Df &lt;int&gt; | F value &lt;dbl&gt; | Pr(&gt;F) &lt;dbl&gt; |\n",
       "|---|---|---|---|\n",
       "| group |   1 | 1.28724 | 0.2587281 |\n",
       "| <!----> | 125 |      NA |        NA |\n",
       "\n"
      ],
      "text/plain": [
       "      Df  F value Pr(>F)   \n",
       "group   1 1.28724 0.2587281\n",
       "      125      NA        NA"
      ]
     },
     "metadata": {},
     "output_type": "display_data"
    }
   ],
   "source": [
    "# test for HOV across treatments\n",
    "leveneTest(d15n_leaftip ~ treatment, data=pb)"
   ]
  },
  {
   "cell_type": "code",
   "execution_count": 16,
   "metadata": {
    "vscode": {
     "languageId": "r"
    }
   },
   "outputs": [],
   "source": [
    "pb_mod1 <- lmer(d15n_leaftip ~ treatment  + (1|site/rep), data = pb)"
   ]
  },
  {
   "cell_type": "code",
   "execution_count": 17,
   "metadata": {
    "vscode": {
     "languageId": "r"
    }
   },
   "outputs": [
    {
     "data": {
      "image/png": "[encoded data removed]",
      "text/plain": [
       "plot without title"
      ]
     },
     "metadata": {
      "image/png": {
       "height": 300,
       "width": 300
      }
     },
     "output_type": "display_data"
    },
    {
     "name": "stdout",
     "output_type": "stream",
     "text": [
      "NULL\n"
     ]
    },
    {
     "data": {
      "text/plain": [
       "\n",
       "\tShapiro-Wilk normality test\n",
       "\n",
       "data:  residuals(mod)\n",
       "W = 0.98835, p-value = 0.3574\n"
      ]
     },
     "metadata": {},
     "output_type": "display_data"
    },
    {
     "data": {
      "image/png": "[encoded data removed]",
      "text/plain": [
       "Plot with title \"density.default(x = resid(mod))\""
      ]
     },
     "metadata": {
      "image/png": {
       "height": 300,
       "width": 300
      }
     },
     "output_type": "display_data"
    }
   ],
   "source": [
    "check_assumptions(pb_mod1)"
   ]
  },
  {
   "cell_type": "code",
   "execution_count": 18,
   "metadata": {
    "vscode": {
     "languageId": "r"
    }
   },
   "outputs": [
    {
     "data": {
      "text/plain": [
       "Linear mixed model fit by REML. t-tests use Satterthwaite's method [\n",
       "lmerModLmerTest]\n",
       "Formula: d15n_leaftip ~ treatment + (1 | site/rep)\n",
       "   Data: pb\n",
       "\n",
       "REML criterion at convergence: 467.9\n",
       "\n",
       "Scaled residuals: \n",
       "    Min      1Q  Median      3Q     Max \n",
       "-2.1207 -0.5216 -0.0215  0.5986  1.8880 \n",
       "\n",
       "Random effects:\n",
       " Groups   Name        Variance Std.Dev.\n",
       " rep:site (Intercept) 0.3319   0.5761  \n",
       " site     (Intercept) 7.5679   2.7510  \n",
       " Residual             1.3026   1.1413  \n",
       "Number of obs: 127, groups:  rep:site, 52; site, 16\n",
       "\n",
       "Fixed effects:\n",
       "                  Estimate Std. Error      df t value Pr(>|t|)    \n",
       "(Intercept)         5.3735     0.7111 15.6801   7.556 1.31e-06 ***\n",
       "treatmentPROVEN40  -0.4041     0.2096 77.2984  -1.928   0.0576 .  \n",
       "---\n",
       "Signif. codes:  0 '***' 0.001 '**' 0.01 '*' 0.05 '.' 0.1 ' ' 1\n",
       "\n",
       "Correlation of Fixed Effects:\n",
       "            (Intr)\n",
       "trtPROVEN40 -0.131"
      ]
     },
     "metadata": {},
     "output_type": "display_data"
    }
   ],
   "source": [
    "summary(pb_mod1)"
   ]
  },
  {
   "cell_type": "code",
   "execution_count": 19,
   "metadata": {
    "vscode": {
     "languageId": "r"
    }
   },
   "outputs": [
    {
     "data": {
      "text/plain": [
       " treatment emmean    SE   df lower.CL upper.CL\n",
       " UTC         5.37 0.711 15.5     3.86     6.88\n",
       " PROVEN40    4.97 0.715 15.8     3.45     6.49\n",
       "\n",
       "Degrees-of-freedom method: kenward-roger \n",
       "Confidence level used: 0.95 "
      ]
     },
     "metadata": {},
     "output_type": "display_data"
    }
   ],
   "source": [
    "pb_mod1_mod_means <- emmeans(pb_mod1, ~ treatment,  type = \"response\")\n",
    "pb_mod1_mod_means"
   ]
  },
  {
   "cell_type": "code",
   "execution_count": 20,
   "metadata": {
    "vscode": {
     "languageId": "r"
    }
   },
   "outputs": [
    {
     "data": {
      "text/html": [
       "<table class=\"dataframe\">\n",
       "<caption>A summary_emm: 2 × 6</caption>\n",
       "<thead>\n",
       "\t<tr><th></th><th scope=col>treatment</th><th scope=col>emmean</th><th scope=col>SE</th><th scope=col>df</th><th scope=col>lower.CL</th><th scope=col>upper.CL</th></tr>\n",
       "\t<tr><th></th><th scope=col>&lt;fct&gt;</th><th scope=col>&lt;dbl&gt;</th><th scope=col>&lt;dbl&gt;</th><th scope=col>&lt;dbl&gt;</th><th scope=col>&lt;dbl&gt;</th><th scope=col>&lt;dbl&gt;</th></tr>\n",
       "</thead>\n",
       "<tbody>\n",
       "\t<tr><th scope=row>1</th><td>UTC     </td><td>5.373460</td><td>0.7112069</td><td>15.51695</td><td>3.861945</td><td>6.884975</td></tr>\n",
       "\t<tr><th scope=row>2</th><td>PROVEN40</td><td>4.969341</td><td>0.7145625</td><td>15.81669</td><td>3.453108</td><td>6.485574</td></tr>\n",
       "</tbody>\n",
       "</table>\n"
      ],
      "text/latex": [
       "A summary\\_emm: 2 × 6\n",
       "\\begin{tabular}{r|llllll}\n",
       "  & treatment & emmean & SE & df & lower.CL & upper.CL\\\\\n",
       "  & <fct> & <dbl> & <dbl> & <dbl> & <dbl> & <dbl>\\\\\n",
       "\\hline\n",
       "\t1 & UTC      & 5.373460 & 0.7112069 & 15.51695 & 3.861945 & 6.884975\\\\\n",
       "\t2 & PROVEN40 & 4.969341 & 0.7145625 & 15.81669 & 3.453108 & 6.485574\\\\\n",
       "\\end{tabular}\n"
      ],
      "text/markdown": [
       "\n",
       "A summary_emm: 2 × 6\n",
       "\n",
       "| <!--/--> | treatment &lt;fct&gt; | emmean &lt;dbl&gt; | SE &lt;dbl&gt; | df &lt;dbl&gt; | lower.CL &lt;dbl&gt; | upper.CL &lt;dbl&gt; |\n",
       "|---|---|---|---|---|---|---|\n",
       "| 1 | UTC      | 5.373460 | 0.7112069 | 15.51695 | 3.861945 | 6.884975 |\n",
       "| 2 | PROVEN40 | 4.969341 | 0.7145625 | 15.81669 | 3.453108 | 6.485574 |\n",
       "\n"
      ],
      "text/plain": [
       "  treatment emmean   SE        df       lower.CL upper.CL\n",
       "1 UTC       5.373460 0.7112069 15.51695 3.861945 6.884975\n",
       "2 PROVEN40  4.969341 0.7145625 15.81669 3.453108 6.485574"
      ]
     },
     "metadata": {},
     "output_type": "display_data"
    }
   ],
   "source": [
    "as.data.frame(pb_mod1_mod_means) "
   ]
  },
  {
   "cell_type": "code",
   "execution_count": 21,
   "metadata": {
    "vscode": {
     "languageId": "r"
    }
   },
   "outputs": [],
   "source": [
    "x <- summary(pb_mod1)$coefficients\n",
    "\n",
    "my_label <- paste0(\n",
    "    \"Ndfa = \",signif(-100*x[2,1]/x[1,1],2),\"%\\n\",\n",
    "    \"p = \",signif(x[2,5],2)\n",
    "    )\n"
   ]
  },
  {
   "cell_type": "code",
   "execution_count": 22,
   "metadata": {
    "vscode": {
     "languageId": "r"
    }
   },
   "outputs": [
    {
     "data": {
      "text/html": [
       "'Ndfa = 7.5%\\np = 0.058'"
      ],
      "text/latex": [
       "'Ndfa = 7.5\\%\\textbackslash{}np = 0.058'"
      ],
      "text/markdown": [
       "'Ndfa = 7.5%\\np = 0.058'"
      ],
      "text/plain": [
       "[1] \"Ndfa = 7.5%\\np = 0.058\""
      ]
     },
     "metadata": {},
     "output_type": "display_data"
    }
   ],
   "source": [
    "my_label"
   ]
  },
  {
   "cell_type": "code",
   "execution_count": 23,
   "metadata": {
    "vscode": {
     "languageId": "r"
    }
   },
   "outputs": [
    {
     "data": {
      "image/png": "[encoded data removed]",
      "text/plain": [
       "plot without title"
      ]
     },
     "metadata": {
      "image/png": {
       "height": 300,
       "width": 300
      }
     },
     "output_type": "display_data"
    }
   ],
   "source": [
    "pb_mod1_plot <- as.data.frame(pb_mod1_mod_means) %>% \n",
    "ggplot(aes(treatment,emmean, fill = treatment)) + \n",
    "#geom_point(aes(y = d15n_leaftip, colour = treatment, fill = treatment), data = pb, position = position_dodge(width = 0.4), size = 1 ) +\n",
    "geom_point(size = 5, aes(shape = treatment)) + \n",
    "geom_errorbar(aes(ymax = upper.CL, ymin = lower.CL), width = 0, lwd = 1) + \n",
    "#geom_errorbar(aes(ymax = emmean + SE, ymin = emmean - SE), width = 0, lwd = 3) + \n",
    "annotate(\"text\", y = 8, x = 1.5, label = my_label, vjust = 1, size = 4.5) +\n",
    "theme(legend.position = \"top\") +\n",
    "scale_shape_manual(values = c(21,22),  labels = c(\"Uninoculated Control\",\"PROVEN 40\")) + \n",
    "scale_fill_manual(values = myColorPalette, labels = c(\"Uninoculated Control\",\"PROVEN 40\")) +\n",
    "labs(y = expression(delta^15*N~\"(‰)\"), x = \"\", title = \"V8 leaf tips at \\nPivot Bio trials (n = 16)\", fill = \"Treatment:\", shape = \"Treatment:\") + \n",
    "scale_x_discrete(labels = c(\"Uninoculated Control\",\"PROVEN 40\")) \n",
    "\n",
    "pb_mod1_plot"
   ]
  },
  {
   "cell_type": "code",
   "execution_count": 24,
   "metadata": {
    "vscode": {
     "languageId": "r"
    }
   },
   "outputs": [],
   "source": [
    "saveRDS(pb_mod1_plot, \"./figures/pb_leaftip_natural_abundance.rds\")"
   ]
  }
 ],
 "metadata": {
  "kernelspec": {
   "display_name": "R",
   "language": "R",
   "name": "ir"
  },
  "language_info": {
   "codemirror_mode": "r",
   "file_extension": ".r",
   "mimetype": "text/x-r-source",
   "name": "R",
   "pygments_lexer": "r",
   "version": "4.1.3"
  }
 },
 "nbformat": 4,
 "nbformat_minor": 2
}
