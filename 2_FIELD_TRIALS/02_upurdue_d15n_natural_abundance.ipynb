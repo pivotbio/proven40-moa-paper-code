{
 "cells": [
  {
   "cell_type": "code",
   "execution_count": 1,
   "metadata": {
    "vscode": {
     "languageId": "r"
    }
   },
   "outputs": [
    {
     "name": "stdout",
     "output_type": "stream",
     "text": [
      "Pivot Bio, Inc.\n",
      "This code performs analyses supporting findings of the paper entitled:\n",
      "\"Genetic remodeling of soil diazotrophs enables partial replacement of synthetic nitrogen fertilizer with biological nitrogen fixation in maize\".\n",
      "\n",
      "##------ Thu Jun 06 09:59:34 2024 ------## \n",
      "Loaded packages:  tidyverse, readxl, broom, foreach, nlme, lme4, lmerTest, glmmTMB, car, DHARMa, caret, emmeans, multcomp, ggpubr, scales, png, ggthemes and their dependencies.\n",
      "A complete list of packages used in the analysis is provided in the `packages_citations.txt` file.\n"
     ]
    }
   ],
   "source": [
    "source('../load_environment.R')"
   ]
  },
  {
   "cell_type": "code",
   "execution_count": 2,
   "metadata": {
    "vscode": {
     "languageId": "r"
    }
   },
   "outputs": [],
   "source": [
    "up <- read.csv(\"./datasets/MOA_UPurdue.csv\") %>%\n",
    "gather(variable,value,-year:-n_rate)  %>% \n",
    "separate(variable,c(\"stage\",\"organ\",\"measurment\",\"units\"),sep = \"_\")\n",
    "\n",
    "up$microbe <- factor(up$microbe, levels = c('UTC','PROVEN40'),  labels = c('Uninoculated Control','PROVEN40'))\n",
    "up$stage <- factor(up$stage, levels = c('V8','R1','R6'))\n",
    "up$n_rate <- factor(up$n_rate)\n"
   ]
  },
  {
   "cell_type": "code",
   "execution_count": 3,
   "metadata": {
    "vscode": {
     "languageId": "r"
    }
   },
   "outputs": [],
   "source": [
    "up_lt_d15n <- up %>% \n",
    "filter(measurment == \"d15n\",organ == \"leaftip\")"
   ]
  },
  {
   "cell_type": "code",
   "execution_count": 4,
   "metadata": {
    "vscode": {
     "languageId": "r"
    }
   },
   "outputs": [],
   "source": [
    "up_lt_d15n <- up_lt_d15n %>% mutate_at(c(\"year\",\"rep\",\"microbe\",\"stage\",\"plot\",\"organ\"), factor)\n"
   ]
  },
  {
   "cell_type": "code",
   "execution_count": 5,
   "metadata": {
    "vscode": {
     "languageId": "r"
    }
   },
   "outputs": [
    {
     "data": {
      "text/html": [
       "<table class=\"dataframe\">\n",
       "<caption>A anova: 2 × 3</caption>\n",
       "<thead>\n",
       "\t<tr><th></th><th scope=col>Df</th><th scope=col>F value</th><th scope=col>Pr(&gt;F)</th></tr>\n",
       "\t<tr><th></th><th scope=col>&lt;int&gt;</th><th scope=col>&lt;dbl&gt;</th><th scope=col>&lt;dbl&gt;</th></tr>\n",
       "</thead>\n",
       "<tbody>\n",
       "\t<tr><th scope=row>group</th><td>  1</td><td>3.168921</td><td>0.07668455</td></tr>\n",
       "\t<tr><th scope=row> </th><td>186</td><td>      NA</td><td>        NA</td></tr>\n",
       "</tbody>\n",
       "</table>\n"
      ],
      "text/latex": [
       "A anova: 2 × 3\n",
       "\\begin{tabular}{r|lll}\n",
       "  & Df & F value & Pr(>F)\\\\\n",
       "  & <int> & <dbl> & <dbl>\\\\\n",
       "\\hline\n",
       "\tgroup &   1 & 3.168921 & 0.07668455\\\\\n",
       "\t  & 186 &       NA &         NA\\\\\n",
       "\\end{tabular}\n"
      ],
      "text/markdown": [
       "\n",
       "A anova: 2 × 3\n",
       "\n",
       "| <!--/--> | Df &lt;int&gt; | F value &lt;dbl&gt; | Pr(&gt;F) &lt;dbl&gt; |\n",
       "|---|---|---|---|\n",
       "| group |   1 | 3.168921 | 0.07668455 |\n",
       "| <!----> | 186 |       NA |         NA |\n",
       "\n"
      ],
      "text/plain": [
       "      Df  F value  Pr(>F)    \n",
       "group   1 3.168921 0.07668455\n",
       "      186       NA         NA"
      ]
     },
     "metadata": {},
     "output_type": "display_data"
    },
    {
     "data": {
      "text/html": [
       "<table class=\"dataframe\">\n",
       "<caption>A anova: 2 × 3</caption>\n",
       "<thead>\n",
       "\t<tr><th></th><th scope=col>Df</th><th scope=col>F value</th><th scope=col>Pr(&gt;F)</th></tr>\n",
       "\t<tr><th></th><th scope=col>&lt;int&gt;</th><th scope=col>&lt;dbl&gt;</th><th scope=col>&lt;dbl&gt;</th></tr>\n",
       "</thead>\n",
       "<tbody>\n",
       "\t<tr><th scope=row>group</th><td>  5</td><td>1.732696</td><td>0.1292111</td></tr>\n",
       "\t<tr><th scope=row> </th><td>182</td><td>      NA</td><td>       NA</td></tr>\n",
       "</tbody>\n",
       "</table>\n"
      ],
      "text/latex": [
       "A anova: 2 × 3\n",
       "\\begin{tabular}{r|lll}\n",
       "  & Df & F value & Pr(>F)\\\\\n",
       "  & <int> & <dbl> & <dbl>\\\\\n",
       "\\hline\n",
       "\tgroup &   5 & 1.732696 & 0.1292111\\\\\n",
       "\t  & 182 &       NA &        NA\\\\\n",
       "\\end{tabular}\n"
      ],
      "text/markdown": [
       "\n",
       "A anova: 2 × 3\n",
       "\n",
       "| <!--/--> | Df &lt;int&gt; | F value &lt;dbl&gt; | Pr(&gt;F) &lt;dbl&gt; |\n",
       "|---|---|---|---|\n",
       "| group |   5 | 1.732696 | 0.1292111 |\n",
       "| <!----> | 182 |       NA |        NA |\n",
       "\n"
      ],
      "text/plain": [
       "      Df  F value  Pr(>F)   \n",
       "group   5 1.732696 0.1292111\n",
       "      182       NA        NA"
      ]
     },
     "metadata": {},
     "output_type": "display_data"
    },
    {
     "data": {
      "text/html": [
       "<table class=\"dataframe\">\n",
       "<caption>A anova: 2 × 3</caption>\n",
       "<thead>\n",
       "\t<tr><th></th><th scope=col>Df</th><th scope=col>F value</th><th scope=col>Pr(&gt;F)</th></tr>\n",
       "\t<tr><th></th><th scope=col>&lt;int&gt;</th><th scope=col>&lt;dbl&gt;</th><th scope=col>&lt;dbl&gt;</th></tr>\n",
       "</thead>\n",
       "<tbody>\n",
       "\t<tr><th scope=row>group</th><td>  1</td><td>1.2148</td><td>0.2718077</td></tr>\n",
       "\t<tr><th scope=row> </th><td>186</td><td>    NA</td><td>       NA</td></tr>\n",
       "</tbody>\n",
       "</table>\n"
      ],
      "text/latex": [
       "A anova: 2 × 3\n",
       "\\begin{tabular}{r|lll}\n",
       "  & Df & F value & Pr(>F)\\\\\n",
       "  & <int> & <dbl> & <dbl>\\\\\n",
       "\\hline\n",
       "\tgroup &   1 & 1.2148 & 0.2718077\\\\\n",
       "\t  & 186 &     NA &        NA\\\\\n",
       "\\end{tabular}\n"
      ],
      "text/markdown": [
       "\n",
       "A anova: 2 × 3\n",
       "\n",
       "| <!--/--> | Df &lt;int&gt; | F value &lt;dbl&gt; | Pr(&gt;F) &lt;dbl&gt; |\n",
       "|---|---|---|---|\n",
       "| group |   1 | 1.2148 | 0.2718077 |\n",
       "| <!----> | 186 |     NA |        NA |\n",
       "\n"
      ],
      "text/plain": [
       "      Df  F value Pr(>F)   \n",
       "group   1 1.2148  0.2718077\n",
       "      186     NA         NA"
      ]
     },
     "metadata": {},
     "output_type": "display_data"
    }
   ],
   "source": [
    "# test for HOV across treatments\n",
    "leveneTest(value ~ microbe, data=up_lt_d15n)\n",
    "leveneTest(value ~ n_rate, data=up_lt_d15n)\n",
    "leveneTest(value ~ year, data=up_lt_d15n)"
   ]
  },
  {
   "cell_type": "code",
   "execution_count": 6,
   "metadata": {
    "vscode": {
     "languageId": "r"
    }
   },
   "outputs": [
    {
     "data": {
      "text/html": [
       "<table class=\"dataframe\">\n",
       "<caption>A data.frame: 0 × 10</caption>\n",
       "<thead>\n",
       "\t<tr><th scope=col>year</th><th scope=col>plot</th><th scope=col>rep</th><th scope=col>microbe</th><th scope=col>n_rate</th><th scope=col>stage</th><th scope=col>organ</th><th scope=col>measurment</th><th scope=col>units</th><th scope=col>value</th></tr>\n",
       "\t<tr><th scope=col>&lt;fct&gt;</th><th scope=col>&lt;fct&gt;</th><th scope=col>&lt;fct&gt;</th><th scope=col>&lt;fct&gt;</th><th scope=col>&lt;fct&gt;</th><th scope=col>&lt;fct&gt;</th><th scope=col>&lt;fct&gt;</th><th scope=col>&lt;chr&gt;</th><th scope=col>&lt;chr&gt;</th><th scope=col>&lt;dbl&gt;</th></tr>\n",
       "</thead>\n",
       "<tbody>\n",
       "</tbody>\n",
       "</table>\n"
      ],
      "text/latex": [
       "A data.frame: 0 × 10\n",
       "\\begin{tabular}{llllllllll}\n",
       " year & plot & rep & microbe & n\\_rate & stage & organ & measurment & units & value\\\\\n",
       " <fct> & <fct> & <fct> & <fct> & <fct> & <fct> & <fct> & <chr> & <chr> & <dbl>\\\\\n",
       "\\hline\n",
       "\\end{tabular}\n"
      ],
      "text/markdown": [
       "\n",
       "A data.frame: 0 × 10\n",
       "\n",
       "| year &lt;fct&gt; | plot &lt;fct&gt; | rep &lt;fct&gt; | microbe &lt;fct&gt; | n_rate &lt;fct&gt; | stage &lt;fct&gt; | organ &lt;fct&gt; | measurment &lt;chr&gt; | units &lt;chr&gt; | value &lt;dbl&gt; |\n",
       "|---|---|---|---|---|---|---|---|---|---|\n",
       "\n"
      ],
      "text/plain": [
       "     year plot rep microbe n_rate stage organ measurment units value"
      ]
     },
     "metadata": {},
     "output_type": "display_data"
    }
   ],
   "source": [
    "up_lt_d15n %>% filter(value <= 0)"
   ]
  },
  {
   "cell_type": "code",
   "execution_count": 7,
   "metadata": {
    "vscode": {
     "languageId": "r"
    }
   },
   "outputs": [],
   "source": [
    "up_lt_d15n_mod_full <- lmer(value ~ microbe*n_rate*year +  (1|year:rep:n_rate), data = up_lt_d15n)"
   ]
  },
  {
   "cell_type": "code",
   "execution_count": 8,
   "metadata": {
    "vscode": {
     "languageId": "r"
    }
   },
   "outputs": [
    {
     "data": {
      "image/png": "[encoded data removed]",
      "text/plain": [
       "plot without title"
      ]
     },
     "metadata": {
      "image/png": {
       "height": 300,
       "width": 300
      }
     },
     "output_type": "display_data"
    },
    {
     "name": "stdout",
     "output_type": "stream",
     "text": [
      "NULL\n"
     ]
    },
    {
     "data": {
      "text/plain": [
       "\n",
       "\tShapiro-Wilk normality test\n",
       "\n",
       "data:  residuals(mod)\n",
       "W = 0.98959, p-value = 0.1877\n"
      ]
     },
     "metadata": {},
     "output_type": "display_data"
    },
    {
     "data": {
      "image/png": "[encoded data removed]",
      "text/plain": [
       "Plot with title \"density.default(x = resid(mod))\""
      ]
     },
     "metadata": {
      "image/png": {
       "height": 300,
       "width": 300
      }
     },
     "output_type": "display_data"
    }
   ],
   "source": [
    "check_assumptions(up_lt_d15n_mod_full)"
   ]
  },
  {
   "cell_type": "code",
   "execution_count": 9,
   "metadata": {
    "vscode": {
     "languageId": "r"
    }
   },
   "outputs": [
    {
     "data": {
      "text/html": [
       "<table class=\"dataframe\">\n",
       "<caption>A anova: 7 × 6</caption>\n",
       "<thead>\n",
       "\t<tr><th></th><th scope=col>Sum Sq</th><th scope=col>Mean Sq</th><th scope=col>NumDF</th><th scope=col>DenDF</th><th scope=col>F value</th><th scope=col>Pr(&gt;F)</th></tr>\n",
       "\t<tr><th></th><th scope=col>&lt;dbl&gt;</th><th scope=col>&lt;dbl&gt;</th><th scope=col>&lt;int&gt;</th><th scope=col>&lt;dbl&gt;</th><th scope=col>&lt;dbl&gt;</th><th scope=col>&lt;dbl&gt;</th></tr>\n",
       "</thead>\n",
       "<tbody>\n",
       "\t<tr><th scope=row>microbe</th><td>27.270138</td><td>27.2701381</td><td>1</td><td>82</td><td>18.0138954</td><td>5.738591e-05</td></tr>\n",
       "\t<tr><th scope=row>n_rate</th><td>37.014207</td><td> 7.4028414</td><td>5</td><td>82</td><td> 4.8901113</td><td>5.767334e-04</td></tr>\n",
       "\t<tr><th scope=row>year</th><td>61.488564</td><td>61.4885643</td><td>1</td><td>82</td><td>40.6176369</td><td>1.021970e-08</td></tr>\n",
       "\t<tr><th scope=row>microbe:n_rate</th><td> 4.267136</td><td> 0.8534273</td><td>5</td><td>82</td><td> 0.5637503</td><td>7.274687e-01</td></tr>\n",
       "\t<tr><th scope=row>microbe:year</th><td>19.019111</td><td>19.0191112</td><td>1</td><td>82</td><td>12.5634963</td><td>6.527883e-04</td></tr>\n",
       "\t<tr><th scope=row>n_rate:year</th><td> 5.461693</td><td> 1.0923385</td><td>5</td><td>82</td><td> 0.7215685</td><td>6.091197e-01</td></tr>\n",
       "\t<tr><th scope=row>microbe:n_rate:year</th><td> 7.698758</td><td> 1.5397515</td><td>5</td><td>82</td><td> 1.0171171</td><td>4.130445e-01</td></tr>\n",
       "</tbody>\n",
       "</table>\n"
      ],
      "text/latex": [
       "A anova: 7 × 6\n",
       "\\begin{tabular}{r|llllll}\n",
       "  & Sum Sq & Mean Sq & NumDF & DenDF & F value & Pr(>F)\\\\\n",
       "  & <dbl> & <dbl> & <int> & <dbl> & <dbl> & <dbl>\\\\\n",
       "\\hline\n",
       "\tmicrobe & 27.270138 & 27.2701381 & 1 & 82 & 18.0138954 & 5.738591e-05\\\\\n",
       "\tn\\_rate & 37.014207 &  7.4028414 & 5 & 82 &  4.8901113 & 5.767334e-04\\\\\n",
       "\tyear & 61.488564 & 61.4885643 & 1 & 82 & 40.6176369 & 1.021970e-08\\\\\n",
       "\tmicrobe:n\\_rate &  4.267136 &  0.8534273 & 5 & 82 &  0.5637503 & 7.274687e-01\\\\\n",
       "\tmicrobe:year & 19.019111 & 19.0191112 & 1 & 82 & 12.5634963 & 6.527883e-04\\\\\n",
       "\tn\\_rate:year &  5.461693 &  1.0923385 & 5 & 82 &  0.7215685 & 6.091197e-01\\\\\n",
       "\tmicrobe:n\\_rate:year &  7.698758 &  1.5397515 & 5 & 82 &  1.0171171 & 4.130445e-01\\\\\n",
       "\\end{tabular}\n"
      ],
      "text/markdown": [
       "\n",
       "A anova: 7 × 6\n",
       "\n",
       "| <!--/--> | Sum Sq &lt;dbl&gt; | Mean Sq &lt;dbl&gt; | NumDF &lt;int&gt; | DenDF &lt;dbl&gt; | F value &lt;dbl&gt; | Pr(&gt;F) &lt;dbl&gt; |\n",
       "|---|---|---|---|---|---|---|\n",
       "| microbe | 27.270138 | 27.2701381 | 1 | 82 | 18.0138954 | 5.738591e-05 |\n",
       "| n_rate | 37.014207 |  7.4028414 | 5 | 82 |  4.8901113 | 5.767334e-04 |\n",
       "| year | 61.488564 | 61.4885643 | 1 | 82 | 40.6176369 | 1.021970e-08 |\n",
       "| microbe:n_rate |  4.267136 |  0.8534273 | 5 | 82 |  0.5637503 | 7.274687e-01 |\n",
       "| microbe:year | 19.019111 | 19.0191112 | 1 | 82 | 12.5634963 | 6.527883e-04 |\n",
       "| n_rate:year |  5.461693 |  1.0923385 | 5 | 82 |  0.7215685 | 6.091197e-01 |\n",
       "| microbe:n_rate:year |  7.698758 |  1.5397515 | 5 | 82 |  1.0171171 | 4.130445e-01 |\n",
       "\n"
      ],
      "text/plain": [
       "                    Sum Sq    Mean Sq    NumDF DenDF F value    Pr(>F)      \n",
       "microbe             27.270138 27.2701381 1     82    18.0138954 5.738591e-05\n",
       "n_rate              37.014207  7.4028414 5     82     4.8901113 5.767334e-04\n",
       "year                61.488564 61.4885643 1     82    40.6176369 1.021970e-08\n",
       "microbe:n_rate       4.267136  0.8534273 5     82     0.5637503 7.274687e-01\n",
       "microbe:year        19.019111 19.0191112 1     82    12.5634963 6.527883e-04\n",
       "n_rate:year          5.461693  1.0923385 5     82     0.7215685 6.091197e-01\n",
       "microbe:n_rate:year  7.698758  1.5397515 5     82     1.0171171 4.130445e-01"
      ]
     },
     "metadata": {},
     "output_type": "display_data"
    }
   ],
   "source": [
    "anova(up_lt_d15n_mod_full)"
   ]
  },
  {
   "cell_type": "code",
   "execution_count": 10,
   "metadata": {
    "vscode": {
     "languageId": "r"
    }
   },
   "outputs": [],
   "source": [
    "up_lt_d15n_mod_red1 <- lmer(value ~ microbe*year + n_rate +  (1|year:rep:n_rate), data = up_lt_d15n)"
   ]
  },
  {
   "cell_type": "code",
   "execution_count": 11,
   "metadata": {
    "vscode": {
     "languageId": "r"
    }
   },
   "outputs": [
    {
     "data": {
      "text/plain": [
       "Linear mixed model fit by REML. t-tests use Satterthwaite's method [\n",
       "lmerModLmerTest]\n",
       "Formula: value ~ microbe * year + n_rate + (1 | year:rep:n_rate)\n",
       "   Data: up_lt_d15n\n",
       "\n",
       "REML criterion at convergence: 764.2\n",
       "\n",
       "Scaled residuals: \n",
       "     Min       1Q   Median       3Q      Max \n",
       "-1.90733 -0.51363 -0.08628  0.51516  2.15401 \n",
       "\n",
       "Random effects:\n",
       " Groups          Name        Variance Std.Dev.\n",
       " year:rep:n_rate (Intercept) 3.671    1.916   \n",
       " Residual                    1.479    1.216   \n",
       "Number of obs: 188, groups:  year:rep:n_rate, 94\n",
       "\n",
       "Fixed effects:\n",
       "                         Estimate Std. Error       df t value Pr(>|t|)    \n",
       "(Intercept)               12.0572     0.5919  94.9951  20.371  < 2e-16 ***\n",
       "microbePROVEN40           -1.3996     0.2482  92.0000  -5.639 1.87e-07 ***\n",
       "year2022                  -3.4222     0.4684 115.5158  -7.306 3.84e-11 ***\n",
       "n_rate95                  -2.5182     0.7549  87.0000  -3.336 0.001252 ** \n",
       "n_rate135                 -2.4088     0.7668  87.0000  -3.141 0.002299 ** \n",
       "n_rate175                 -3.2618     0.7549  87.0000  -4.321 4.11e-05 ***\n",
       "n_rate215                 -3.2258     0.7549  87.0000  -4.273 4.91e-05 ***\n",
       "n_rate255                 -2.8705     0.7549  87.0000  -3.803 0.000265 ***\n",
       "microbePROVEN40:year2022   1.2861     0.3548  92.0000   3.625 0.000474 ***\n",
       "---\n",
       "Signif. codes:  0 '***' 0.001 '**' 0.01 '*' 0.05 '.' 0.1 ' ' 1\n",
       "\n",
       "Correlation of Fixed Effects:\n",
       "            (Intr) mcPROVEN40 yr2022 n_rt95 n_r135 n_r175 n_r215 n_r255\n",
       "mcrPROVEN40 -0.210                                                     \n",
       "year2022    -0.372  0.265                                              \n",
       "n_rate95    -0.651  0.000     -0.018                                   \n",
       "n_rate135   -0.648  0.000      0.000  0.508                            \n",
       "n_rate175   -0.651  0.000     -0.018  0.516  0.508                     \n",
       "n_rate215   -0.651  0.000     -0.018  0.516  0.508  0.516              \n",
       "n_rate255   -0.651  0.000     -0.018  0.516  0.508  0.516  0.516       \n",
       "mPROVEN40:2  0.147 -0.700     -0.379  0.000  0.000  0.000  0.000  0.000"
      ]
     },
     "metadata": {},
     "output_type": "display_data"
    }
   ],
   "source": [
    "summary(up_lt_d15n_mod_red1)"
   ]
  },
  {
   "cell_type": "code",
   "execution_count": 12,
   "metadata": {
    "vscode": {
     "languageId": "r"
    }
   },
   "outputs": [],
   "source": [
    "up_lt_d15n_mod <- up_lt_d15n_mod_red1"
   ]
  },
  {
   "cell_type": "code",
   "execution_count": 13,
   "metadata": {
    "vscode": {
     "languageId": "r"
    }
   },
   "outputs": [
    {
     "data": {
      "text/plain": [
       "Linear mixed model fit by REML ['lmerModLmerTest']\n",
       "Formula: value ~ microbe * year + n_rate + (1 | year:rep:n_rate)\n",
       "   Data: up_lt_d15n\n",
       "REML criterion at convergence: 764.1883\n",
       "Random effects:\n",
       " Groups          Name        Std.Dev.\n",
       " year:rep:n_rate (Intercept) 1.916   \n",
       " Residual                    1.216   \n",
       "Number of obs: 188, groups:  year:rep:n_rate, 94\n",
       "Fixed Effects:\n",
       "             (Intercept)           microbePROVEN40                  year2022  \n",
       "                  12.057                    -1.400                    -3.422  \n",
       "                n_rate95                 n_rate135                 n_rate175  \n",
       "                  -2.518                    -2.409                    -3.262  \n",
       "               n_rate215                 n_rate255  microbePROVEN40:year2022  \n",
       "                  -3.226                    -2.871                     1.286  "
      ]
     },
     "metadata": {},
     "output_type": "display_data"
    }
   ],
   "source": [
    "up_lt_d15n_mod"
   ]
  },
  {
   "cell_type": "code",
   "execution_count": 14,
   "metadata": {
    "vscode": {
     "languageId": "r"
    }
   },
   "outputs": [],
   "source": [
    "up_lt_d15n_mod_means <- emmeans(up_lt_d15n_mod, ~ year*microbe,  type = \"response\")\n"
   ]
  },
  {
   "cell_type": "code",
   "execution_count": 15,
   "metadata": {
    "vscode": {
     "languageId": "r"
    }
   },
   "outputs": [
    {
     "name": "stderr",
     "output_type": "stream",
     "text": [
      "\u001b[1m\u001b[22mJoining with `by = join_by(year)`\n",
      "\u001b[1m\u001b[22mJoining with `by = join_by(year)`\n"
     ]
    },
    {
     "data": {
      "text/html": [
       "<table class=\"dataframe\">\n",
       "<caption>A data.frame: 2 × 11</caption>\n",
       "<thead>\n",
       "\t<tr><th scope=col>contrast</th><th scope=col>year</th><th scope=col>estimate</th><th scope=col>SE</th><th scope=col>df</th><th scope=col>t.ratio</th><th scope=col>p.value</th><th scope=col>emmean</th><th scope=col>ndfa</th><th scope=col>my_label</th><th scope=col>max_value</th></tr>\n",
       "\t<tr><th scope=col>&lt;fct&gt;</th><th scope=col>&lt;fct&gt;</th><th scope=col>&lt;dbl&gt;</th><th scope=col>&lt;dbl&gt;</th><th scope=col>&lt;dbl&gt;</th><th scope=col>&lt;dbl&gt;</th><th scope=col>&lt;dbl&gt;</th><th scope=col>&lt;dbl&gt;</th><th scope=col>&lt;dbl&gt;</th><th scope=col>&lt;chr&gt;</th><th scope=col>&lt;dbl&gt;</th></tr>\n",
       "</thead>\n",
       "<tbody>\n",
       "\t<tr><td>PROVEN40 - Uninoculated Control</td><td>2021</td><td>-1.3995815</td><td>0.2482055</td><td>92</td><td>-5.6388019</td><td>1.867531e-07</td><td>9.676354</td><td>14.50</td><td>Ndfa = 14.5%\n",
       "p = 1.9e-07</td><td>10.32511</td></tr>\n",
       "\t<tr><td>PROVEN40 - Uninoculated Control</td><td>2022</td><td>-0.1134783</td><td>0.2535438</td><td>92</td><td>-0.4475686</td><td>6.555166e-01</td><td>6.254195</td><td> 1.81</td><td>Ndfa = 1.81%\n",
       "p = 0.66   </td><td> 6.91744</td></tr>\n",
       "</tbody>\n",
       "</table>\n"
      ],
      "text/latex": [
       "A data.frame: 2 × 11\n",
       "\\begin{tabular}{lllllllllll}\n",
       " contrast & year & estimate & SE & df & t.ratio & p.value & emmean & ndfa & my\\_label & max\\_value\\\\\n",
       " <fct> & <fct> & <dbl> & <dbl> & <dbl> & <dbl> & <dbl> & <dbl> & <dbl> & <chr> & <dbl>\\\\\n",
       "\\hline\n",
       "\t PROVEN40 - Uninoculated Control & 2021 & -1.3995815 & 0.2482055 & 92 & -5.6388019 & 1.867531e-07 & 9.676354 & 14.50 & Ndfa = 14.5\\%\n",
       "p = 1.9e-07 & 10.32511\\\\\n",
       "\t PROVEN40 - Uninoculated Control & 2022 & -0.1134783 & 0.2535438 & 92 & -0.4475686 & 6.555166e-01 & 6.254195 &  1.81 & Ndfa = 1.81\\%\n",
       "p = 0.66    &  6.91744\\\\\n",
       "\\end{tabular}\n"
      ],
      "text/markdown": [
       "\n",
       "A data.frame: 2 × 11\n",
       "\n",
       "| contrast &lt;fct&gt; | year &lt;fct&gt; | estimate &lt;dbl&gt; | SE &lt;dbl&gt; | df &lt;dbl&gt; | t.ratio &lt;dbl&gt; | p.value &lt;dbl&gt; | emmean &lt;dbl&gt; | ndfa &lt;dbl&gt; | my_label &lt;chr&gt; | max_value &lt;dbl&gt; |\n",
       "|---|---|---|---|---|---|---|---|---|---|---|\n",
       "| PROVEN40 - Uninoculated Control | 2021 | -1.3995815 | 0.2482055 | 92 | -5.6388019 | 1.867531e-07 | 9.676354 | 14.50 | Ndfa = 14.5%\n",
       "p = 1.9e-07 | 10.32511 |\n",
       "| PROVEN40 - Uninoculated Control | 2022 | -0.1134783 | 0.2535438 | 92 | -0.4475686 | 6.555166e-01 | 6.254195 |  1.81 | Ndfa = 1.81%\n",
       "p = 0.66    |  6.91744 |\n",
       "\n"
      ],
      "text/plain": [
       "  contrast                        year estimate   SE        df t.ratio   \n",
       "1 PROVEN40 - Uninoculated Control 2021 -1.3995815 0.2482055 92 -5.6388019\n",
       "2 PROVEN40 - Uninoculated Control 2022 -0.1134783 0.2535438 92 -0.4475686\n",
       "  p.value      emmean   ndfa  my_label                  max_value\n",
       "1 1.867531e-07 9.676354 14.50 Ndfa = 14.5%\\np = 1.9e-07 10.32511 \n",
       "2 6.555166e-01 6.254195  1.81 Ndfa = 1.81%\\np = 0.66     6.91744 "
      ]
     },
     "metadata": {},
     "output_type": "display_data"
    }
   ],
   "source": [
    "up_lt_d15n_mod_trt_contrast <- emmeans(up_lt_d15n_mod, ~ microbe, by = c(\"year\"), type = \"response\") %>% \n",
    "pairs(reverse = TRUE,  adjust = \"Tukey\") %>% \n",
    "data.frame()\n",
    "\n",
    "up_lt_d15n_mod_trt_contrast <- \n",
    "up_lt_d15n_mod_trt_contrast %>%\n",
    "left_join(as.data.frame(up_lt_d15n_mod_means) %>% filter(microbe == \"Uninoculated Control\") %>% dplyr::select(year,emmean))  %>% \n",
    "mutate(ndfa = signif(-estimate/emmean,3)*100,\n",
    "my_label = \n",
    "paste0(\n",
    "    ifelse(ndfa < 0,\"\",paste0(\"Ndfa = \",ndfa,\"%\")),\"\\n\",\n",
    "    #\"(± \",\n",
    "    #signif(SE,3)*100,\n",
    "    #\"%)\\n\",\n",
    "    \"p = \",signif(p.value,2)\n",
    "    )\n",
    ") %>% \n",
    "left_join(up_lt_d15n_mod_means %>% \n",
    "as.data.frame() %>% \n",
    "group_by(year) %>% \n",
    "summarize(max_value = max(upper.CL, na.rm = T)))\n",
    "\n",
    "up_lt_d15n_mod_trt_contrast\n",
    " "
   ]
  },
  {
   "cell_type": "code",
   "execution_count": 16,
   "metadata": {
    "vscode": {
     "languageId": "r"
    }
   },
   "outputs": [
    {
     "name": "stderr",
     "output_type": "stream",
     "text": [
      "Warning message in geom_errorbar(aes(ymax = upper.CL, ymin = lower.CL, fill = microbe), :\n",
      "\"\u001b[1m\u001b[22mIgnoring unknown aesthetics: \u001b[32mfill\u001b[39m\"\n"
     ]
    },
    {
     "data": {
      "image/png": "[encoded data removed]",
      "text/plain": [
       "plot without title"
      ]
     },
     "metadata": {
      "image/png": {
       "height": 300,
       "width": 300
      }
     },
     "output_type": "display_data"
    }
   ],
   "source": [
    "up_lt_plot <- \n",
    "as.data.frame(up_lt_d15n_mod_means) %>% \n",
    "ggplot(aes(year,emmean)) + \n",
    "#geom_point(aes(y = (value), colour = microbe, fill = microbe), data = up21_d15n, position = position_dodge(width = 0.4), size = 1 ) +\n",
    "geom_point(aes(colour = microbe, fill = microbe, shape = microbe), position = position_dodge(width = 0.4), size = 4, colour = \"gray10\") +\n",
    "geom_errorbar(aes(ymax = upper.CL, ymin = lower.CL,  fill = microbe), width = 0, position = position_dodge(width = 0.4), lwd = 1) + \n",
    "labs(y = expression(delta^15*N~\"(‰)\"), x = \"Year\", colour = \"\", fill = \"\") + \n",
    "scale_fill_manual(values = myColorPalette) +\n",
    "scale_shape_manual(values = c(21,22)) + \n",
    "geom_text(aes(y = (max_value) + 1.5, label = my_label), data = up_lt_d15n_mod_trt_contrast, colour = \"gray10\", vjust = 1, size = 4.5) + \n",
    "facet_wrap(~\"V8 leaf tips\\nat ACRE farm\") + \n",
    "theme(legend.position = \"none\")\n",
    "\n",
    "up_lt_plot"
   ]
  },
  {
   "cell_type": "markdown",
   "metadata": {},
   "source": [
    "## Field 72 - 2021"
   ]
  },
  {
   "cell_type": "code",
   "execution_count": 17,
   "metadata": {
    "vscode": {
     "languageId": "r"
    }
   },
   "outputs": [],
   "source": [
    "up21 <- up %>% filter(year == 2021) "
   ]
  },
  {
   "cell_type": "code",
   "execution_count": 18,
   "metadata": {
    "vscode": {
     "languageId": "r"
    }
   },
   "outputs": [],
   "source": [
    "up21_d15n <- up21 %>% \n",
    "filter(measurment == \"d15n\",organ == \"shoot\")\n",
    "\n",
    "# Drop plot where the NTC < than the threshold \n",
    "#up21_d15n <- left_join(up21_d15n,up21_d15n %>% \n",
    "#filter(microbe == \"UTC\" & value < d15N_threshold, measurment == \"d15n\") %>% \n",
    "#dplyr::select(-value, -plot, -microbe) %>% \n",
    "#mutate(drop = TRUE)) %>% \n",
    "#mutate(drop = !is.na(drop)) %>% \n",
    "#filter(!drop)\n",
    "\n",
    "# To factor\n",
    "up21_d15n <- up21_d15n %>% mutate_at(c(\"year\",\"rep\",\"microbe\",\"stage\",\"plot\",\"organ\"), factor)\n"
   ]
  },
  {
   "cell_type": "code",
   "execution_count": 19,
   "metadata": {
    "vscode": {
     "languageId": "r"
    }
   },
   "outputs": [
    {
     "data": {
      "text/html": [
       "<table class=\"dataframe\">\n",
       "<caption>A anova: 2 × 3</caption>\n",
       "<thead>\n",
       "\t<tr><th></th><th scope=col>Df</th><th scope=col>F value</th><th scope=col>Pr(&gt;F)</th></tr>\n",
       "\t<tr><th></th><th scope=col>&lt;int&gt;</th><th scope=col>&lt;dbl&gt;</th><th scope=col>&lt;dbl&gt;</th></tr>\n",
       "</thead>\n",
       "<tbody>\n",
       "\t<tr><th scope=row>group</th><td>  1</td><td>3.508855</td><td>0.06206867</td></tr>\n",
       "\t<tr><th scope=row> </th><td>284</td><td>      NA</td><td>        NA</td></tr>\n",
       "</tbody>\n",
       "</table>\n"
      ],
      "text/latex": [
       "A anova: 2 × 3\n",
       "\\begin{tabular}{r|lll}\n",
       "  & Df & F value & Pr(>F)\\\\\n",
       "  & <int> & <dbl> & <dbl>\\\\\n",
       "\\hline\n",
       "\tgroup &   1 & 3.508855 & 0.06206867\\\\\n",
       "\t  & 284 &       NA &         NA\\\\\n",
       "\\end{tabular}\n"
      ],
      "text/markdown": [
       "\n",
       "A anova: 2 × 3\n",
       "\n",
       "| <!--/--> | Df &lt;int&gt; | F value &lt;dbl&gt; | Pr(&gt;F) &lt;dbl&gt; |\n",
       "|---|---|---|---|\n",
       "| group |   1 | 3.508855 | 0.06206867 |\n",
       "| <!----> | 284 |       NA |         NA |\n",
       "\n"
      ],
      "text/plain": [
       "      Df  F value  Pr(>F)    \n",
       "group   1 3.508855 0.06206867\n",
       "      284       NA         NA"
      ]
     },
     "metadata": {},
     "output_type": "display_data"
    },
    {
     "data": {
      "text/html": [
       "<table class=\"dataframe\">\n",
       "<caption>A anova: 2 × 3</caption>\n",
       "<thead>\n",
       "\t<tr><th></th><th scope=col>Df</th><th scope=col>F value</th><th scope=col>Pr(&gt;F)</th></tr>\n",
       "\t<tr><th></th><th scope=col>&lt;int&gt;</th><th scope=col>&lt;dbl&gt;</th><th scope=col>&lt;dbl&gt;</th></tr>\n",
       "</thead>\n",
       "<tbody>\n",
       "\t<tr><th scope=row>group</th><td>  5</td><td>2.534828</td><td>0.02898097</td></tr>\n",
       "\t<tr><th scope=row> </th><td>280</td><td>      NA</td><td>        NA</td></tr>\n",
       "</tbody>\n",
       "</table>\n"
      ],
      "text/latex": [
       "A anova: 2 × 3\n",
       "\\begin{tabular}{r|lll}\n",
       "  & Df & F value & Pr(>F)\\\\\n",
       "  & <int> & <dbl> & <dbl>\\\\\n",
       "\\hline\n",
       "\tgroup &   5 & 2.534828 & 0.02898097\\\\\n",
       "\t  & 280 &       NA &         NA\\\\\n",
       "\\end{tabular}\n"
      ],
      "text/markdown": [
       "\n",
       "A anova: 2 × 3\n",
       "\n",
       "| <!--/--> | Df &lt;int&gt; | F value &lt;dbl&gt; | Pr(&gt;F) &lt;dbl&gt; |\n",
       "|---|---|---|---|\n",
       "| group |   5 | 2.534828 | 0.02898097 |\n",
       "| <!----> | 280 |       NA |         NA |\n",
       "\n"
      ],
      "text/plain": [
       "      Df  F value  Pr(>F)    \n",
       "group   5 2.534828 0.02898097\n",
       "      280       NA         NA"
      ]
     },
     "metadata": {},
     "output_type": "display_data"
    },
    {
     "data": {
      "text/html": [
       "<table class=\"dataframe\">\n",
       "<caption>A anova: 2 × 3</caption>\n",
       "<thead>\n",
       "\t<tr><th></th><th scope=col>Df</th><th scope=col>F value</th><th scope=col>Pr(&gt;F)</th></tr>\n",
       "\t<tr><th></th><th scope=col>&lt;int&gt;</th><th scope=col>&lt;dbl&gt;</th><th scope=col>&lt;dbl&gt;</th></tr>\n",
       "</thead>\n",
       "<tbody>\n",
       "\t<tr><th scope=row>group</th><td>  2</td><td>125.0047</td><td>1.243927e-39</td></tr>\n",
       "\t<tr><th scope=row> </th><td>283</td><td>      NA</td><td>          NA</td></tr>\n",
       "</tbody>\n",
       "</table>\n"
      ],
      "text/latex": [
       "A anova: 2 × 3\n",
       "\\begin{tabular}{r|lll}\n",
       "  & Df & F value & Pr(>F)\\\\\n",
       "  & <int> & <dbl> & <dbl>\\\\\n",
       "\\hline\n",
       "\tgroup &   2 & 125.0047 & 1.243927e-39\\\\\n",
       "\t  & 283 &       NA &           NA\\\\\n",
       "\\end{tabular}\n"
      ],
      "text/markdown": [
       "\n",
       "A anova: 2 × 3\n",
       "\n",
       "| <!--/--> | Df &lt;int&gt; | F value &lt;dbl&gt; | Pr(&gt;F) &lt;dbl&gt; |\n",
       "|---|---|---|---|\n",
       "| group |   2 | 125.0047 | 1.243927e-39 |\n",
       "| <!----> | 283 |       NA |           NA |\n",
       "\n"
      ],
      "text/plain": [
       "      Df  F value  Pr(>F)      \n",
       "group   2 125.0047 1.243927e-39\n",
       "      283       NA           NA"
      ]
     },
     "metadata": {},
     "output_type": "display_data"
    }
   ],
   "source": [
    "# test for HOV across treatments\n",
    "leveneTest(value ~ microbe, data=up21_d15n)\n",
    "leveneTest(value ~ n_rate, data=up21_d15n)\n",
    "leveneTest(value ~ stage, data=up21_d15n)"
   ]
  },
  {
   "cell_type": "code",
   "execution_count": 20,
   "metadata": {
    "vscode": {
     "languageId": "r"
    }
   },
   "outputs": [
    {
     "data": {
      "text/html": [
       "<table class=\"dataframe\">\n",
       "<caption>A data.frame: 0 × 10</caption>\n",
       "<thead>\n",
       "\t<tr><th scope=col>year</th><th scope=col>plot</th><th scope=col>rep</th><th scope=col>microbe</th><th scope=col>n_rate</th><th scope=col>stage</th><th scope=col>organ</th><th scope=col>measurment</th><th scope=col>units</th><th scope=col>value</th></tr>\n",
       "\t<tr><th scope=col>&lt;fct&gt;</th><th scope=col>&lt;fct&gt;</th><th scope=col>&lt;fct&gt;</th><th scope=col>&lt;fct&gt;</th><th scope=col>&lt;fct&gt;</th><th scope=col>&lt;fct&gt;</th><th scope=col>&lt;fct&gt;</th><th scope=col>&lt;chr&gt;</th><th scope=col>&lt;chr&gt;</th><th scope=col>&lt;dbl&gt;</th></tr>\n",
       "</thead>\n",
       "<tbody>\n",
       "</tbody>\n",
       "</table>\n"
      ],
      "text/latex": [
       "A data.frame: 0 × 10\n",
       "\\begin{tabular}{llllllllll}\n",
       " year & plot & rep & microbe & n\\_rate & stage & organ & measurment & units & value\\\\\n",
       " <fct> & <fct> & <fct> & <fct> & <fct> & <fct> & <fct> & <chr> & <chr> & <dbl>\\\\\n",
       "\\hline\n",
       "\\end{tabular}\n"
      ],
      "text/markdown": [
       "\n",
       "A data.frame: 0 × 10\n",
       "\n",
       "| year &lt;fct&gt; | plot &lt;fct&gt; | rep &lt;fct&gt; | microbe &lt;fct&gt; | n_rate &lt;fct&gt; | stage &lt;fct&gt; | organ &lt;fct&gt; | measurment &lt;chr&gt; | units &lt;chr&gt; | value &lt;dbl&gt; |\n",
       "|---|---|---|---|---|---|---|---|---|---|\n",
       "\n"
      ],
      "text/plain": [
       "     year plot rep microbe n_rate stage organ measurment units value"
      ]
     },
     "metadata": {},
     "output_type": "display_data"
    }
   ],
   "source": [
    "up21_d15n %>% filter(value <= 0)"
   ]
  },
  {
   "cell_type": "code",
   "execution_count": 21,
   "metadata": {
    "vscode": {
     "languageId": "r"
    }
   },
   "outputs": [
    {
     "data": {
      "text/html": [
       "<table class=\"dataframe\">\n",
       "<caption>A anova: 2 × 3</caption>\n",
       "<thead>\n",
       "\t<tr><th></th><th scope=col>Df</th><th scope=col>F value</th><th scope=col>Pr(&gt;F)</th></tr>\n",
       "\t<tr><th></th><th scope=col>&lt;int&gt;</th><th scope=col>&lt;dbl&gt;</th><th scope=col>&lt;dbl&gt;</th></tr>\n",
       "</thead>\n",
       "<tbody>\n",
       "\t<tr><th scope=row>group</th><td>  1</td><td>1.04317</td><td>0.3079545</td></tr>\n",
       "\t<tr><th scope=row> </th><td>284</td><td>     NA</td><td>       NA</td></tr>\n",
       "</tbody>\n",
       "</table>\n"
      ],
      "text/latex": [
       "A anova: 2 × 3\n",
       "\\begin{tabular}{r|lll}\n",
       "  & Df & F value & Pr(>F)\\\\\n",
       "  & <int> & <dbl> & <dbl>\\\\\n",
       "\\hline\n",
       "\tgroup &   1 & 1.04317 & 0.3079545\\\\\n",
       "\t  & 284 &      NA &        NA\\\\\n",
       "\\end{tabular}\n"
      ],
      "text/markdown": [
       "\n",
       "A anova: 2 × 3\n",
       "\n",
       "| <!--/--> | Df &lt;int&gt; | F value &lt;dbl&gt; | Pr(&gt;F) &lt;dbl&gt; |\n",
       "|---|---|---|---|\n",
       "| group |   1 | 1.04317 | 0.3079545 |\n",
       "| <!----> | 284 |      NA |        NA |\n",
       "\n"
      ],
      "text/plain": [
       "      Df  F value Pr(>F)   \n",
       "group   1 1.04317 0.3079545\n",
       "      284      NA        NA"
      ]
     },
     "metadata": {},
     "output_type": "display_data"
    },
    {
     "data": {
      "text/html": [
       "<table class=\"dataframe\">\n",
       "<caption>A anova: 2 × 3</caption>\n",
       "<thead>\n",
       "\t<tr><th></th><th scope=col>Df</th><th scope=col>F value</th><th scope=col>Pr(&gt;F)</th></tr>\n",
       "\t<tr><th></th><th scope=col>&lt;int&gt;</th><th scope=col>&lt;dbl&gt;</th><th scope=col>&lt;dbl&gt;</th></tr>\n",
       "</thead>\n",
       "<tbody>\n",
       "\t<tr><th scope=row>group</th><td>  5</td><td>1.347321</td><td>0.2445436</td></tr>\n",
       "\t<tr><th scope=row> </th><td>280</td><td>      NA</td><td>       NA</td></tr>\n",
       "</tbody>\n",
       "</table>\n"
      ],
      "text/latex": [
       "A anova: 2 × 3\n",
       "\\begin{tabular}{r|lll}\n",
       "  & Df & F value & Pr(>F)\\\\\n",
       "  & <int> & <dbl> & <dbl>\\\\\n",
       "\\hline\n",
       "\tgroup &   5 & 1.347321 & 0.2445436\\\\\n",
       "\t  & 280 &       NA &        NA\\\\\n",
       "\\end{tabular}\n"
      ],
      "text/markdown": [
       "\n",
       "A anova: 2 × 3\n",
       "\n",
       "| <!--/--> | Df &lt;int&gt; | F value &lt;dbl&gt; | Pr(&gt;F) &lt;dbl&gt; |\n",
       "|---|---|---|---|\n",
       "| group |   5 | 1.347321 | 0.2445436 |\n",
       "| <!----> | 280 |       NA |        NA |\n",
       "\n"
      ],
      "text/plain": [
       "      Df  F value  Pr(>F)   \n",
       "group   5 1.347321 0.2445436\n",
       "      280       NA        NA"
      ]
     },
     "metadata": {},
     "output_type": "display_data"
    },
    {
     "data": {
      "text/html": [
       "<table class=\"dataframe\">\n",
       "<caption>A anova: 2 × 3</caption>\n",
       "<thead>\n",
       "\t<tr><th></th><th scope=col>Df</th><th scope=col>F value</th><th scope=col>Pr(&gt;F)</th></tr>\n",
       "\t<tr><th></th><th scope=col>&lt;int&gt;</th><th scope=col>&lt;dbl&gt;</th><th scope=col>&lt;dbl&gt;</th></tr>\n",
       "</thead>\n",
       "<tbody>\n",
       "\t<tr><th scope=row>group</th><td>  2</td><td>22.3469</td><td>9.750463e-10</td></tr>\n",
       "\t<tr><th scope=row> </th><td>283</td><td>     NA</td><td>          NA</td></tr>\n",
       "</tbody>\n",
       "</table>\n"
      ],
      "text/latex": [
       "A anova: 2 × 3\n",
       "\\begin{tabular}{r|lll}\n",
       "  & Df & F value & Pr(>F)\\\\\n",
       "  & <int> & <dbl> & <dbl>\\\\\n",
       "\\hline\n",
       "\tgroup &   2 & 22.3469 & 9.750463e-10\\\\\n",
       "\t  & 283 &      NA &           NA\\\\\n",
       "\\end{tabular}\n"
      ],
      "text/markdown": [
       "\n",
       "A anova: 2 × 3\n",
       "\n",
       "| <!--/--> | Df &lt;int&gt; | F value &lt;dbl&gt; | Pr(&gt;F) &lt;dbl&gt; |\n",
       "|---|---|---|---|\n",
       "| group |   2 | 22.3469 | 9.750463e-10 |\n",
       "| <!----> | 283 |      NA |           NA |\n",
       "\n"
      ],
      "text/plain": [
       "      Df  F value Pr(>F)      \n",
       "group   2 22.3469 9.750463e-10\n",
       "      283      NA           NA"
      ]
     },
     "metadata": {},
     "output_type": "display_data"
    }
   ],
   "source": [
    "leveneTest(log(value) ~ microbe, data=up21_d15n)\n",
    "leveneTest(log(value) ~ n_rate, data=up21_d15n)\n",
    "leveneTest(log(value) ~ stage, data=up21_d15n)"
   ]
  },
  {
   "cell_type": "code",
   "execution_count": 22,
   "metadata": {
    "vscode": {
     "languageId": "r"
    }
   },
   "outputs": [],
   "source": [
    "up21_d15n_mod_full <- lmer(log(value) ~ microbe*n_rate*stage + (1|rep:n_rate), data = up21_d15n)"
   ]
  },
  {
   "cell_type": "code",
   "execution_count": 23,
   "metadata": {
    "vscode": {
     "languageId": "r"
    }
   },
   "outputs": [
    {
     "name": "stderr",
     "output_type": "stream",
     "text": [
      "\n",
      "Correlation matrix not shown by default, as p = 36 > 12.\n",
      "Use print(obj, correlation=TRUE)  or\n",
      "    vcov(obj)        if you need it\n",
      "\n",
      "\n"
     ]
    },
    {
     "data": {
      "text/plain": [
       "Linear mixed model fit by REML. t-tests use Satterthwaite's method [\n",
       "lmerModLmerTest]\n",
       "Formula: log(value) ~ microbe * n_rate * stage + (1 | rep:n_rate)\n",
       "   Data: up21_d15n\n",
       "\n",
       "REML criterion at convergence: 126\n",
       "\n",
       "Scaled residuals: \n",
       "    Min      1Q  Median      3Q     Max \n",
       "-3.9993 -0.4634 -0.0450  0.5929  2.3391 \n",
       "\n",
       "Random effects:\n",
       " Groups     Name        Variance Std.Dev.\n",
       " rep:n_rate (Intercept) 0.02703  0.1644  \n",
       " Residual               0.05748  0.2397  \n",
       "Number of obs: 286, groups:  rep:n_rate, 48\n",
       "\n",
       "Fixed effects:\n",
       "                                   Estimate Std. Error        df t value\n",
       "(Intercept)                         2.35745    0.10278 165.95897  22.937\n",
       "microbePROVEN40                    -0.13565    0.11987 208.08654  -1.132\n",
       "n_rate95                           -0.21219    0.14940 174.30390  -1.420\n",
       "n_rate135                          -0.45664    0.14535 165.95897  -3.142\n",
       "n_rate175                          -0.53142    0.14535 165.95897  -3.656\n",
       "n_rate215                          -0.63379    0.14535 165.95897  -4.360\n",
       "n_rate255                          -0.43933    0.14535 165.95897  -3.023\n",
       "stageR1                            -1.61178    0.11987 208.08654 -13.446\n",
       "stageR6                            -1.73936    0.11987 208.08654 -14.510\n",
       "microbePROVEN40:n_rate95           -0.26091    0.17548 208.08654  -1.487\n",
       "microbePROVEN40:n_rate135          -0.15759    0.16953 208.08654  -0.930\n",
       "microbePROVEN40:n_rate175          -0.30037    0.16953 208.08654  -1.772\n",
       "microbePROVEN40:n_rate215          -0.18474    0.16953 208.08654  -1.090\n",
       "microbePROVEN40:n_rate255          -0.21525    0.16953 208.08654  -1.270\n",
       "microbePROVEN40:stageR1            -0.01492    0.16953 208.08654  -0.088\n",
       "microbePROVEN40:stageR6            -0.06220    0.16953 208.08654  -0.367\n",
       "n_rate95:stageR1                    0.23536    0.17301 209.17953   1.360\n",
       "n_rate135:stageR1                   0.37773    0.16953 208.08654   2.228\n",
       "n_rate175:stageR1                   0.38617    0.16953 208.08654   2.278\n",
       "n_rate215:stageR1                   0.33619    0.16953 208.08654   1.983\n",
       "n_rate255:stageR1                   0.31491    0.16953 208.08654   1.858\n",
       "n_rate95:stageR6                    0.28401    0.17301 209.17953   1.642\n",
       "n_rate135:stageR6                   0.38146    0.16953 208.08654   2.250\n",
       "n_rate175:stageR6                   0.72112    0.16953 208.08654   4.254\n",
       "n_rate215:stageR6                   0.61357    0.16953 208.08654   3.619\n",
       "n_rate255:stageR6                   0.64974    0.16953 208.08654   3.833\n",
       "microbePROVEN40:n_rate95:stageR1    0.33261    0.24399 208.08654   1.363\n",
       "microbePROVEN40:n_rate135:stageR1   0.17445    0.23975 208.08654   0.728\n",
       "microbePROVEN40:n_rate175:stageR1   0.38350    0.23975 208.08654   1.600\n",
       "microbePROVEN40:n_rate215:stageR1   0.30939    0.23975 208.08654   1.290\n",
       "microbePROVEN40:n_rate255:stageR1   0.17417    0.23975 208.08654   0.726\n",
       "microbePROVEN40:n_rate95:stageR6    0.37143    0.24399 208.08654   1.522\n",
       "microbePROVEN40:n_rate135:stageR6   0.26285    0.23975 208.08654   1.096\n",
       "microbePROVEN40:n_rate175:stageR6   0.33092    0.23975 208.08654   1.380\n",
       "microbePROVEN40:n_rate215:stageR6   0.40404    0.23975 208.08654   1.685\n",
       "microbePROVEN40:n_rate255:stageR6   0.21833    0.23975 208.08654   0.911\n",
       "                                  Pr(>|t|)    \n",
       "(Intercept)                        < 2e-16 ***\n",
       "microbePROVEN40                   0.259114    \n",
       "n_rate95                          0.157306    \n",
       "n_rate135                         0.001990 ** \n",
       "n_rate175                         0.000343 ***\n",
       "n_rate215                         2.27e-05 ***\n",
       "n_rate255                         0.002904 ** \n",
       "stageR1                            < 2e-16 ***\n",
       "stageR6                            < 2e-16 ***\n",
       "microbePROVEN40:n_rate95          0.138569    \n",
       "microbePROVEN40:n_rate135         0.353671    \n",
       "microbePROVEN40:n_rate175         0.077893 .  \n",
       "microbePROVEN40:n_rate215         0.277098    \n",
       "microbePROVEN40:n_rate255         0.205618    \n",
       "microbePROVEN40:stageR1           0.929945    \n",
       "microbePROVEN40:stageR6           0.714044    \n",
       "n_rate95:stageR1                  0.175186    \n",
       "n_rate135:stageR1                 0.026942 *  \n",
       "n_rate175:stageR1                 0.023747 *  \n",
       "n_rate215:stageR1                 0.048670 *  \n",
       "n_rate255:stageR1                 0.064639 .  \n",
       "n_rate95:stageR6                  0.102188    \n",
       "n_rate135:stageR6                 0.025485 *  \n",
       "n_rate175:stageR6                 3.18e-05 ***\n",
       "n_rate215:stageR6                 0.000371 ***\n",
       "n_rate255:stageR6                 0.000168 ***\n",
       "microbePROVEN40:n_rate95:stageR1  0.174296    \n",
       "microbePROVEN40:n_rate135:stageR1 0.467652    \n",
       "microbePROVEN40:n_rate175:stageR1 0.111206    \n",
       "microbePROVEN40:n_rate215:stageR1 0.198317    \n",
       "microbePROVEN40:n_rate255:stageR1 0.468372    \n",
       "microbePROVEN40:n_rate95:stageR6  0.129452    \n",
       "microbePROVEN40:n_rate135:stageR6 0.274194    \n",
       "microbePROVEN40:n_rate175:stageR6 0.168984    \n",
       "microbePROVEN40:n_rate215:stageR6 0.093438 .  \n",
       "microbePROVEN40:n_rate255:stageR6 0.363516    \n",
       "---\n",
       "Signif. codes:  0 '***' 0.001 '**' 0.01 '*' 0.05 '.' 0.1 ' ' 1"
      ]
     },
     "metadata": {},
     "output_type": "display_data"
    }
   ],
   "source": [
    "summary(up21_d15n_mod_full)"
   ]
  },
  {
   "cell_type": "code",
   "execution_count": 24,
   "metadata": {
    "vscode": {
     "languageId": "r"
    }
   },
   "outputs": [],
   "source": [
    "up21_d15n_mod_red1 <- lmer(log(value) ~ n_rate*microbe + stage*microbe + stage*n_rate + (1|rep:n_rate), data = up21_d15n)"
   ]
  },
  {
   "cell_type": "code",
   "execution_count": 25,
   "metadata": {
    "vscode": {
     "languageId": "r"
    }
   },
   "outputs": [],
   "source": [
    "up21_d15n_mod_red2 <- lmer(log(value) ~ stage*microbe + stage*n_rate + (1|rep:n_rate), data = up21_d15n)"
   ]
  },
  {
   "cell_type": "code",
   "execution_count": 26,
   "metadata": {
    "vscode": {
     "languageId": "r"
    }
   },
   "outputs": [],
   "source": [
    "up21_d15n_mod_red3 <- lmer(log(value) ~ stage + microbe + stage*n_rate + (1|rep:n_rate), data = up21_d15n)"
   ]
  },
  {
   "cell_type": "code",
   "execution_count": 27,
   "metadata": {
    "vscode": {
     "languageId": "r"
    }
   },
   "outputs": [
    {
     "name": "stderr",
     "output_type": "stream",
     "text": [
      "refitting model(s) with ML (instead of REML)\n",
      "\n"
     ]
    },
    {
     "data": {
      "text/html": [
       "<table class=\"dataframe\">\n",
       "<caption>A anova: 4 × 8</caption>\n",
       "<thead>\n",
       "\t<tr><th></th><th scope=col>npar</th><th scope=col>AIC</th><th scope=col>BIC</th><th scope=col>logLik</th><th scope=col>deviance</th><th scope=col>Chisq</th><th scope=col>Df</th><th scope=col>Pr(&gt;Chisq)</th></tr>\n",
       "\t<tr><th></th><th scope=col>&lt;dbl&gt;</th><th scope=col>&lt;dbl&gt;</th><th scope=col>&lt;dbl&gt;</th><th scope=col>&lt;dbl&gt;</th><th scope=col>&lt;dbl&gt;</th><th scope=col>&lt;dbl&gt;</th><th scope=col>&lt;dbl&gt;</th><th scope=col>&lt;dbl&gt;</th></tr>\n",
       "</thead>\n",
       "<tbody>\n",
       "\t<tr><th scope=row>up21_d15n_mod_red3</th><td>21</td><td>83.44139</td><td>160.2172</td><td>-20.72069</td><td>41.44139</td><td>       NA</td><td>NA</td><td>         NA</td></tr>\n",
       "\t<tr><th scope=row>up21_d15n_mod_red2</th><td>23</td><td>74.80942</td><td>158.8972</td><td>-14.40471</td><td>28.80942</td><td>12.631967</td><td> 2</td><td>0.001807187</td></tr>\n",
       "\t<tr><th scope=row>up21_d15n_mod_red1</th><td>28</td><td>82.08893</td><td>184.4567</td><td>-13.04447</td><td>26.08893</td><td> 2.720486</td><td> 5</td><td>0.742983499</td></tr>\n",
       "\t<tr><th scope=row>up21_d15n_mod_full</th><td>38</td><td>96.31143</td><td>235.2391</td><td>-10.15571</td><td>20.31143</td><td> 5.777505</td><td>10</td><td>0.833596970</td></tr>\n",
       "</tbody>\n",
       "</table>\n"
      ],
      "text/latex": [
       "A anova: 4 × 8\n",
       "\\begin{tabular}{r|llllllll}\n",
       "  & npar & AIC & BIC & logLik & deviance & Chisq & Df & Pr(>Chisq)\\\\\n",
       "  & <dbl> & <dbl> & <dbl> & <dbl> & <dbl> & <dbl> & <dbl> & <dbl>\\\\\n",
       "\\hline\n",
       "\tup21\\_d15n\\_mod\\_red3 & 21 & 83.44139 & 160.2172 & -20.72069 & 41.44139 &        NA & NA &          NA\\\\\n",
       "\tup21\\_d15n\\_mod\\_red2 & 23 & 74.80942 & 158.8972 & -14.40471 & 28.80942 & 12.631967 &  2 & 0.001807187\\\\\n",
       "\tup21\\_d15n\\_mod\\_red1 & 28 & 82.08893 & 184.4567 & -13.04447 & 26.08893 &  2.720486 &  5 & 0.742983499\\\\\n",
       "\tup21\\_d15n\\_mod\\_full & 38 & 96.31143 & 235.2391 & -10.15571 & 20.31143 &  5.777505 & 10 & 0.833596970\\\\\n",
       "\\end{tabular}\n"
      ],
      "text/markdown": [
       "\n",
       "A anova: 4 × 8\n",
       "\n",
       "| <!--/--> | npar &lt;dbl&gt; | AIC &lt;dbl&gt; | BIC &lt;dbl&gt; | logLik &lt;dbl&gt; | deviance &lt;dbl&gt; | Chisq &lt;dbl&gt; | Df &lt;dbl&gt; | Pr(&gt;Chisq) &lt;dbl&gt; |\n",
       "|---|---|---|---|---|---|---|---|---|\n",
       "| up21_d15n_mod_red3 | 21 | 83.44139 | 160.2172 | -20.72069 | 41.44139 |        NA | NA |          NA |\n",
       "| up21_d15n_mod_red2 | 23 | 74.80942 | 158.8972 | -14.40471 | 28.80942 | 12.631967 |  2 | 0.001807187 |\n",
       "| up21_d15n_mod_red1 | 28 | 82.08893 | 184.4567 | -13.04447 | 26.08893 |  2.720486 |  5 | 0.742983499 |\n",
       "| up21_d15n_mod_full | 38 | 96.31143 | 235.2391 | -10.15571 | 20.31143 |  5.777505 | 10 | 0.833596970 |\n",
       "\n"
      ],
      "text/plain": [
       "                   npar AIC      BIC      logLik    deviance Chisq     Df\n",
       "up21_d15n_mod_red3 21   83.44139 160.2172 -20.72069 41.44139        NA NA\n",
       "up21_d15n_mod_red2 23   74.80942 158.8972 -14.40471 28.80942 12.631967  2\n",
       "up21_d15n_mod_red1 28   82.08893 184.4567 -13.04447 26.08893  2.720486  5\n",
       "up21_d15n_mod_full 38   96.31143 235.2391 -10.15571 20.31143  5.777505 10\n",
       "                   Pr(>Chisq) \n",
       "up21_d15n_mod_red3          NA\n",
       "up21_d15n_mod_red2 0.001807187\n",
       "up21_d15n_mod_red1 0.742983499\n",
       "up21_d15n_mod_full 0.833596970"
      ]
     },
     "metadata": {},
     "output_type": "display_data"
    }
   ],
   "source": [
    "anova(up21_d15n_mod_full,up21_d15n_mod_red1,up21_d15n_mod_red2,up21_d15n_mod_red3)"
   ]
  },
  {
   "cell_type": "code",
   "execution_count": 28,
   "metadata": {
    "vscode": {
     "languageId": "r"
    }
   },
   "outputs": [],
   "source": [
    "up21_d15n_mod <- up21_d15n_mod_red2"
   ]
  },
  {
   "cell_type": "code",
   "execution_count": 29,
   "metadata": {
    "vscode": {
     "languageId": "r"
    }
   },
   "outputs": [
    {
     "data": {
      "image/png": "[encoded data removed]",
      "text/plain": [
       "plot without title"
      ]
     },
     "metadata": {
      "image/png": {
       "height": 300,
       "width": 300
      }
     },
     "output_type": "display_data"
    },
    {
     "name": "stdout",
     "output_type": "stream",
     "text": [
      "NULL\n"
     ]
    },
    {
     "data": {
      "text/plain": [
       "\n",
       "\tShapiro-Wilk normality test\n",
       "\n",
       "data:  residuals(mod)\n",
       "W = 0.9821, p-value = 0.001202\n"
      ]
     },
     "metadata": {},
     "output_type": "display_data"
    },
    {
     "data": {
      "image/png": "[encoded data removed]",
      "text/plain": [
       "Plot with title \"density.default(x = resid(mod))\""
      ]
     },
     "metadata": {
      "image/png": {
       "height": 300,
       "width": 300
      }
     },
     "output_type": "display_data"
    }
   ],
   "source": [
    "check_assumptions(up21_d15n_mod)"
   ]
  },
  {
   "cell_type": "code",
   "execution_count": 30,
   "metadata": {
    "vscode": {
     "languageId": "r"
    }
   },
   "outputs": [
    {
     "name": "stderr",
     "output_type": "stream",
     "text": [
      "\n",
      "Correlation matrix not shown by default, as p = 21 > 12.\n",
      "Use print(obj, correlation=TRUE)  or\n",
      "    vcov(obj)        if you need it\n",
      "\n",
      "\n"
     ]
    },
    {
     "data": {
      "text/plain": [
       "Linear mixed model fit by REML. t-tests use Satterthwaite's method [\n",
       "lmerModLmerTest]\n",
       "Formula: log(value) ~ stage * microbe + stage * n_rate + (1 | rep:n_rate)\n",
       "   Data: up21_d15n\n",
       "\n",
       "REML criterion at convergence: 102.9\n",
       "\n",
       "Scaled residuals: \n",
       "    Min      1Q  Median      3Q     Max \n",
       "-4.0518 -0.4485 -0.0397  0.6115  2.3189 \n",
       "\n",
       "Random effects:\n",
       " Groups     Name        Variance Std.Dev.\n",
       " rep:n_rate (Intercept) 0.02735  0.1654  \n",
       " Residual               0.05556  0.2357  \n",
       "Number of obs: 286, groups:  rep:n_rate, 48\n",
       "\n",
       "Fixed effects:\n",
       "                         Estimate Std. Error        df t value Pr(>|t|)    \n",
       "(Intercept)               2.44990    0.08650 104.05468  28.323  < 2e-16 ***\n",
       "stageR1                  -1.72549    0.09008 223.08338 -19.154  < 2e-16 ***\n",
       "stageR6                  -1.87087    0.09008 223.08338 -20.768  < 2e-16 ***\n",
       "microbePROVEN40          -0.32054    0.04862 223.08338  -6.592 3.09e-10 ***\n",
       "n_rate95                 -0.34287    0.12018  96.78590  -2.853 0.005296 ** \n",
       "n_rate135                -0.53543    0.11740  90.58998  -4.561 1.59e-05 ***\n",
       "n_rate175                -0.68161    0.11740  90.58998  -5.806 9.35e-08 ***\n",
       "n_rate215                -0.72616    0.11740  90.58998  -6.185 1.76e-08 ***\n",
       "n_rate255                -0.54695    0.11740  90.58998  -4.659 1.09e-05 ***\n",
       "stageR1:microbePROVEN40   0.21251    0.06841 223.08338   3.107 0.002138 ** \n",
       "stageR6:microbePROVEN40   0.20081    0.06841 223.08338   2.935 0.003679 ** \n",
       "stageR1:n_rate95          0.40189    0.12063 225.34520   3.332 0.001009 ** \n",
       "stageR6:n_rate95          0.46995    0.12063 225.34520   3.896 0.000129 ***\n",
       "stageR1:n_rate135         0.46496    0.11786 223.08338   3.945 0.000107 ***\n",
       "stageR6:n_rate135         0.51289    0.11786 223.08338   4.352 2.06e-05 ***\n",
       "stageR1:n_rate175         0.57792    0.11786 223.08338   4.904 1.81e-06 ***\n",
       "stageR6:n_rate175         0.88658    0.11786 223.08338   7.522 1.31e-12 ***\n",
       "stageR1:n_rate215         0.49089    0.11786 223.08338   4.165 4.45e-05 ***\n",
       "stageR6:n_rate215         0.81559    0.11786 223.08338   6.920 4.73e-11 ***\n",
       "stageR1:n_rate255         0.40200    0.11786 223.08338   3.411 0.000769 ***\n",
       "stageR6:n_rate255         0.75890    0.11786 223.08338   6.439 7.28e-10 ***\n",
       "---\n",
       "Signif. codes:  0 '***' 0.001 '**' 0.01 '*' 0.05 '.' 0.1 ' ' 1"
      ]
     },
     "metadata": {},
     "output_type": "display_data"
    }
   ],
   "source": [
    "summary(up21_d15n_mod)"
   ]
  },
  {
   "cell_type": "code",
   "execution_count": 31,
   "metadata": {
    "vscode": {
     "languageId": "r"
    }
   },
   "outputs": [
    {
     "data": {
      "text/plain": [
       " stage microbe              response     SE  df lower.CL upper.CL\n",
       " V8    Uninoculated Control     7.23 0.3030 168     6.65     7.85\n",
       " R1    Uninoculated Control     1.90 0.0790 165     1.75     2.06\n",
       " R6    Uninoculated Control     1.98 0.0821 165     1.82     2.14\n",
       " V8    PROVEN40                 5.24 0.2199 168     4.83     5.70\n",
       " R1    PROVEN40                 1.71 0.0709 165     1.57     1.85\n",
       " R6    PROVEN40                 1.75 0.0728 165     1.61     1.90\n",
       "\n",
       "Results are averaged over the levels of: n_rate \n",
       "Degrees-of-freedom method: kenward-roger \n",
       "Confidence level used: 0.95 \n",
       "Intervals are back-transformed from the log scale "
      ]
     },
     "metadata": {},
     "output_type": "display_data"
    }
   ],
   "source": [
    "up21_d15n_mod_means <- emmeans(up21_d15n_mod, ~ stage*microbe,  type = \"response\")\n",
    "up21_d15n_mod_means"
   ]
  },
  {
   "cell_type": "code",
   "execution_count": 32,
   "metadata": {
    "vscode": {
     "languageId": "r"
    }
   },
   "outputs": [
    {
     "name": "stderr",
     "output_type": "stream",
     "text": [
      "\u001b[1m\u001b[22mJoining with `by = join_by(stage)`\n"
     ]
    },
    {
     "data": {
      "text/html": [
       "<table class=\"dataframe\">\n",
       "<caption>A data.frame: 3 × 11</caption>\n",
       "<thead>\n",
       "\t<tr><th scope=col>contrast</th><th scope=col>stage</th><th scope=col>ratio</th><th scope=col>SE</th><th scope=col>df</th><th scope=col>null</th><th scope=col>t.ratio</th><th scope=col>p.value</th><th scope=col>ndfa</th><th scope=col>my_label</th><th scope=col>max_value</th></tr>\n",
       "\t<tr><th scope=col>&lt;fct&gt;</th><th scope=col>&lt;fct&gt;</th><th scope=col>&lt;dbl&gt;</th><th scope=col>&lt;dbl&gt;</th><th scope=col>&lt;dbl&gt;</th><th scope=col>&lt;dbl&gt;</th><th scope=col>&lt;dbl&gt;</th><th scope=col>&lt;dbl&gt;</th><th scope=col>&lt;dbl&gt;</th><th scope=col>&lt;chr&gt;</th><th scope=col>&lt;dbl&gt;</th></tr>\n",
       "</thead>\n",
       "<tbody>\n",
       "\t<tr><td>PROVEN40 / Uninoculated Control</td><td>V8</td><td>0.7257583</td><td>0.03528989</td><td>223.0124</td><td>1</td><td>-6.592068</td><td>3.093963e-10</td><td>27.4</td><td>Ndfa = 27.4%\n",
       "p = 3.1e-10</td><td>7.849943</td></tr>\n",
       "\t<tr><td>PROVEN40 / Uninoculated Control</td><td>R1</td><td>0.8976056</td><td>0.04318890</td><td>223.0124</td><td>1</td><td>-2.245099</td><td>2.574280e-02</td><td>10.2</td><td>Ndfa = 10.2%\n",
       "p = 0.026  </td><td>2.062464</td></tr>\n",
       "\t<tr><td>PROVEN40 / Uninoculated Control</td><td>R6</td><td>0.8871582</td><td>0.04268622</td><td>223.0124</td><td>1</td><td>-2.488419</td><td>1.356284e-02</td><td>11.3</td><td>Ndfa = 11.3%\n",
       "p = 0.014  </td><td>2.144491</td></tr>\n",
       "</tbody>\n",
       "</table>\n"
      ],
      "text/latex": [
       "A data.frame: 3 × 11\n",
       "\\begin{tabular}{lllllllllll}\n",
       " contrast & stage & ratio & SE & df & null & t.ratio & p.value & ndfa & my\\_label & max\\_value\\\\\n",
       " <fct> & <fct> & <dbl> & <dbl> & <dbl> & <dbl> & <dbl> & <dbl> & <dbl> & <chr> & <dbl>\\\\\n",
       "\\hline\n",
       "\t PROVEN40 / Uninoculated Control & V8 & 0.7257583 & 0.03528989 & 223.0124 & 1 & -6.592068 & 3.093963e-10 & 27.4 & Ndfa = 27.4\\%\n",
       "p = 3.1e-10 & 7.849943\\\\\n",
       "\t PROVEN40 / Uninoculated Control & R1 & 0.8976056 & 0.04318890 & 223.0124 & 1 & -2.245099 & 2.574280e-02 & 10.2 & Ndfa = 10.2\\%\n",
       "p = 0.026   & 2.062464\\\\\n",
       "\t PROVEN40 / Uninoculated Control & R6 & 0.8871582 & 0.04268622 & 223.0124 & 1 & -2.488419 & 1.356284e-02 & 11.3 & Ndfa = 11.3\\%\n",
       "p = 0.014   & 2.144491\\\\\n",
       "\\end{tabular}\n"
      ],
      "text/markdown": [
       "\n",
       "A data.frame: 3 × 11\n",
       "\n",
       "| contrast &lt;fct&gt; | stage &lt;fct&gt; | ratio &lt;dbl&gt; | SE &lt;dbl&gt; | df &lt;dbl&gt; | null &lt;dbl&gt; | t.ratio &lt;dbl&gt; | p.value &lt;dbl&gt; | ndfa &lt;dbl&gt; | my_label &lt;chr&gt; | max_value &lt;dbl&gt; |\n",
       "|---|---|---|---|---|---|---|---|---|---|---|\n",
       "| PROVEN40 / Uninoculated Control | V8 | 0.7257583 | 0.03528989 | 223.0124 | 1 | -6.592068 | 3.093963e-10 | 27.4 | Ndfa = 27.4%\n",
       "p = 3.1e-10 | 7.849943 |\n",
       "| PROVEN40 / Uninoculated Control | R1 | 0.8976056 | 0.04318890 | 223.0124 | 1 | -2.245099 | 2.574280e-02 | 10.2 | Ndfa = 10.2%\n",
       "p = 0.026   | 2.062464 |\n",
       "| PROVEN40 / Uninoculated Control | R6 | 0.8871582 | 0.04268622 | 223.0124 | 1 | -2.488419 | 1.356284e-02 | 11.3 | Ndfa = 11.3%\n",
       "p = 0.014   | 2.144491 |\n",
       "\n"
      ],
      "text/plain": [
       "  contrast                        stage ratio     SE         df       null\n",
       "1 PROVEN40 / Uninoculated Control V8    0.7257583 0.03528989 223.0124 1   \n",
       "2 PROVEN40 / Uninoculated Control R1    0.8976056 0.04318890 223.0124 1   \n",
       "3 PROVEN40 / Uninoculated Control R6    0.8871582 0.04268622 223.0124 1   \n",
       "  t.ratio   p.value      ndfa my_label                  max_value\n",
       "1 -6.592068 3.093963e-10 27.4 Ndfa = 27.4%\\np = 3.1e-10 7.849943 \n",
       "2 -2.245099 2.574280e-02 10.2 Ndfa = 10.2%\\np = 0.026   2.062464 \n",
       "3 -2.488419 1.356284e-02 11.3 Ndfa = 11.3%\\np = 0.014   2.144491 "
      ]
     },
     "metadata": {},
     "output_type": "display_data"
    }
   ],
   "source": [
    "up21_d15n_mod_trt_contrast <- emmeans(up21_d15n_mod, ~ microbe, by = c(\"stage\"), type = \"response\") %>% \n",
    "pairs(reverse = TRUE,  adjust = \"Tukey\") %>% \n",
    "data.frame()\n",
    "\n",
    "up21_d15n_mod_trt_contrast <- up21_d15n_mod_trt_contrast %>% \n",
    "mutate(ndfa = signif(1 - ratio,3)*100,\n",
    "my_label = \n",
    "paste0(\n",
    "    ifelse(ndfa < 0,\"\",paste0(\"Ndfa = \",ndfa,\"%\")),\"\\n\",\n",
    "    #\"(± \",\n",
    "    #signif(SE,3)*100,\n",
    "    #\"%)\\n\",\n",
    "    \"p = \",signif(p.value,2)\n",
    "    )\n",
    ") %>% \n",
    "left_join(up21_d15n_mod_means %>% \n",
    "as.data.frame() %>% \n",
    "group_by(stage) %>% \n",
    "summarize(max_value = max(upper.CL, na.rm = T)))\n",
    "\n",
    "up21_d15n_mod_trt_contrast "
   ]
  },
  {
   "cell_type": "code",
   "execution_count": 33,
   "metadata": {
    "vscode": {
     "languageId": "r"
    }
   },
   "outputs": [
    {
     "name": "stderr",
     "output_type": "stream",
     "text": [
      "Warning message in geom_errorbar(aes(ymax = upper.CL, ymin = lower.CL, fill = microbe), :\n",
      "\"\u001b[1m\u001b[22mIgnoring unknown aesthetics: \u001b[32mfill\u001b[39m\"\n"
     ]
    },
    {
     "data": {
      "image/png": "[encoded data removed]",
      "text/plain": [
       "plot without title"
      ]
     },
     "metadata": {
      "image/png": {
       "height": 300,
       "width": 300
      }
     },
     "output_type": "display_data"
    }
   ],
   "source": [
    "up21_plot <- \n",
    "as.data.frame(up21_d15n_mod_means) %>% \n",
    "ggplot(aes(stage,response)) + \n",
    "#geom_point(aes(y = (value), colour = microbe, fill = microbe), data = up21_d15n, position = position_dodge(width = 0.4), size = 1 ) +\n",
    "geom_point(aes(colour = microbe, fill = microbe), position = position_dodge(width = 0.4), size = 4, shape = 22, colour = \"gray10\") +\n",
    "geom_errorbar(aes(ymax = upper.CL, ymin = lower.CL,  fill = microbe), width = 0, position = position_dodge(width = 0.4), lwd = 1) + \n",
    "labs(y = expression(delta^15*N~\"(‰)\"), x = \"Growth stage\", colour = \"\", fill = \"\") + \n",
    "scale_fill_manual(values = myColorPalette) +\n",
    "geom_text(aes(y = (max_value) + 2, label = my_label), data = up21_d15n_mod_trt_contrast, colour = \"gray10\", vjust = 1, size = 4.5) + \n",
    "facet_wrap(~\"2021\") + \n",
    "theme(legend.position = \"none\")\n",
    "\n",
    "up21_plot"
   ]
  },
  {
   "cell_type": "markdown",
   "metadata": {},
   "source": [
    "## 2022"
   ]
  },
  {
   "cell_type": "code",
   "execution_count": 34,
   "metadata": {
    "vscode": {
     "languageId": "r"
    }
   },
   "outputs": [],
   "source": [
    "up22 <- up %>% filter(year == 2022)"
   ]
  },
  {
   "cell_type": "code",
   "execution_count": 35,
   "metadata": {
    "vscode": {
     "languageId": "r"
    }
   },
   "outputs": [],
   "source": [
    "up22_d15n <- up22 %>% \n",
    "filter(measurment == \"d15n\",organ == \"shoot\")\n",
    "\n",
    "# Drop plot where the NTC < than the threshold \n",
    "#up22_d15n <- left_join(up22_d15n,up22_d15n %>% \n",
    "#filter(microbe == \"UTC\" & value < d15N_threshold, measurment == \"d15n\") %>% \n",
    "#dplyr::select(-value, -plot, -microbe) %>% \n",
    "#mutate(drop = TRUE)) %>% \n",
    "#mutate(drop = !is.na(drop)) %>% \n",
    "#filter(!drop)\n",
    "\n",
    "\n",
    "# To factor\n",
    "up22_d15n <- up22_d15n %>% mutate_at(c(\"year\",\"rep\",\"microbe\",\"stage\",\"plot\",\"organ\"), factor)\n"
   ]
  },
  {
   "cell_type": "code",
   "execution_count": 36,
   "metadata": {
    "vscode": {
     "languageId": "r"
    }
   },
   "outputs": [
    {
     "data": {
      "text/html": [
       "<table class=\"dataframe\">\n",
       "<caption>A data.frame: 1 × 10</caption>\n",
       "<thead>\n",
       "\t<tr><th scope=col>year</th><th scope=col>plot</th><th scope=col>rep</th><th scope=col>microbe</th><th scope=col>n_rate</th><th scope=col>stage</th><th scope=col>organ</th><th scope=col>measurment</th><th scope=col>units</th><th scope=col>value</th></tr>\n",
       "\t<tr><th scope=col>&lt;fct&gt;</th><th scope=col>&lt;fct&gt;</th><th scope=col>&lt;fct&gt;</th><th scope=col>&lt;fct&gt;</th><th scope=col>&lt;fct&gt;</th><th scope=col>&lt;fct&gt;</th><th scope=col>&lt;fct&gt;</th><th scope=col>&lt;chr&gt;</th><th scope=col>&lt;chr&gt;</th><th scope=col>&lt;dbl&gt;</th></tr>\n",
       "</thead>\n",
       "<tbody>\n",
       "\t<tr><td>2022</td><td>109</td><td>1</td><td>PROVEN40</td><td>255</td><td>V8</td><td>shoot</td><td>d15n</td><td>permil</td><td>-0.7831686</td></tr>\n",
       "</tbody>\n",
       "</table>\n"
      ],
      "text/latex": [
       "A data.frame: 1 × 10\n",
       "\\begin{tabular}{llllllllll}\n",
       " year & plot & rep & microbe & n\\_rate & stage & organ & measurment & units & value\\\\\n",
       " <fct> & <fct> & <fct> & <fct> & <fct> & <fct> & <fct> & <chr> & <chr> & <dbl>\\\\\n",
       "\\hline\n",
       "\t 2022 & 109 & 1 & PROVEN40 & 255 & V8 & shoot & d15n & permil & -0.7831686\\\\\n",
       "\\end{tabular}\n"
      ],
      "text/markdown": [
       "\n",
       "A data.frame: 1 × 10\n",
       "\n",
       "| year &lt;fct&gt; | plot &lt;fct&gt; | rep &lt;fct&gt; | microbe &lt;fct&gt; | n_rate &lt;fct&gt; | stage &lt;fct&gt; | organ &lt;fct&gt; | measurment &lt;chr&gt; | units &lt;chr&gt; | value &lt;dbl&gt; |\n",
       "|---|---|---|---|---|---|---|---|---|---|\n",
       "| 2022 | 109 | 1 | PROVEN40 | 255 | V8 | shoot | d15n | permil | -0.7831686 |\n",
       "\n"
      ],
      "text/plain": [
       "  year plot rep microbe  n_rate stage organ measurment units  value     \n",
       "1 2022 109  1   PROVEN40 255    V8    shoot d15n       permil -0.7831686"
      ]
     },
     "metadata": {},
     "output_type": "display_data"
    }
   ],
   "source": [
    "up22_d15n %>% filter(value <= 0)\n",
    "up22_d15n <- up22_d15n %>% filter(value > 0)"
   ]
  },
  {
   "cell_type": "code",
   "execution_count": 37,
   "metadata": {
    "vscode": {
     "languageId": "r"
    }
   },
   "outputs": [
    {
     "name": "stdout",
     "output_type": "stream",
     "text": [
      "'data.frame':\t275 obs. of  10 variables:\n",
      " $ year      : Factor w/ 1 level \"2022\": 1 1 1 1 1 1 1 1 1 1 ...\n",
      " $ plot      : Factor w/ 92 levels \"101\",\"102\",\"103\",..: 1 2 3 4 5 6 7 8 10 11 ...\n",
      " $ rep       : Factor w/ 8 levels \"1\",\"2\",\"3\",\"4\",..: 1 1 1 1 1 1 1 1 1 1 ...\n",
      " $ microbe   : Factor w/ 2 levels \"Uninoculated Control\",..: 2 1 2 1 2 1 2 1 1 2 ...\n",
      " $ n_rate    : Factor w/ 6 levels \"0\",\"95\",\"135\",..: 5 5 4 4 3 3 1 1 6 2 ...\n",
      " $ stage     : Factor w/ 3 levels \"V8\",\"R1\",\"R6\": 1 1 1 1 1 1 1 1 1 1 ...\n",
      " $ organ     : Factor w/ 1 level \"shoot\": 1 1 1 1 1 1 1 1 1 1 ...\n",
      " $ measurment: chr  \"d15n\" \"d15n\" \"d15n\" \"d15n\" ...\n",
      " $ units     : chr  \"permil\" \"permil\" \"permil\" \"permil\" ...\n",
      " $ value     : num  3.1 4.29 3.76 2.78 5.93 ...\n"
     ]
    }
   ],
   "source": [
    "str(up22_d15n)"
   ]
  },
  {
   "cell_type": "code",
   "execution_count": 38,
   "metadata": {
    "vscode": {
     "languageId": "r"
    }
   },
   "outputs": [
    {
     "data": {
      "text/html": [
       "<table class=\"dataframe\">\n",
       "<caption>A anova: 2 × 3</caption>\n",
       "<thead>\n",
       "\t<tr><th></th><th scope=col>Df</th><th scope=col>F value</th><th scope=col>Pr(&gt;F)</th></tr>\n",
       "\t<tr><th></th><th scope=col>&lt;int&gt;</th><th scope=col>&lt;dbl&gt;</th><th scope=col>&lt;dbl&gt;</th></tr>\n",
       "</thead>\n",
       "<tbody>\n",
       "\t<tr><th scope=row>group</th><td>  1</td><td>1.081414</td><td>0.2993015</td></tr>\n",
       "\t<tr><th scope=row> </th><td>273</td><td>      NA</td><td>       NA</td></tr>\n",
       "</tbody>\n",
       "</table>\n"
      ],
      "text/latex": [
       "A anova: 2 × 3\n",
       "\\begin{tabular}{r|lll}\n",
       "  & Df & F value & Pr(>F)\\\\\n",
       "  & <int> & <dbl> & <dbl>\\\\\n",
       "\\hline\n",
       "\tgroup &   1 & 1.081414 & 0.2993015\\\\\n",
       "\t  & 273 &       NA &        NA\\\\\n",
       "\\end{tabular}\n"
      ],
      "text/markdown": [
       "\n",
       "A anova: 2 × 3\n",
       "\n",
       "| <!--/--> | Df &lt;int&gt; | F value &lt;dbl&gt; | Pr(&gt;F) &lt;dbl&gt; |\n",
       "|---|---|---|---|\n",
       "| group |   1 | 1.081414 | 0.2993015 |\n",
       "| <!----> | 273 |       NA |        NA |\n",
       "\n"
      ],
      "text/plain": [
       "      Df  F value  Pr(>F)   \n",
       "group   1 1.081414 0.2993015\n",
       "      273       NA        NA"
      ]
     },
     "metadata": {},
     "output_type": "display_data"
    },
    {
     "data": {
      "text/html": [
       "<table class=\"dataframe\">\n",
       "<caption>A anova: 2 × 3</caption>\n",
       "<thead>\n",
       "\t<tr><th></th><th scope=col>Df</th><th scope=col>F value</th><th scope=col>Pr(&gt;F)</th></tr>\n",
       "\t<tr><th></th><th scope=col>&lt;int&gt;</th><th scope=col>&lt;dbl&gt;</th><th scope=col>&lt;dbl&gt;</th></tr>\n",
       "</thead>\n",
       "<tbody>\n",
       "\t<tr><th scope=row>group</th><td>  5</td><td>2.787297</td><td>0.01789965</td></tr>\n",
       "\t<tr><th scope=row> </th><td>269</td><td>      NA</td><td>        NA</td></tr>\n",
       "</tbody>\n",
       "</table>\n"
      ],
      "text/latex": [
       "A anova: 2 × 3\n",
       "\\begin{tabular}{r|lll}\n",
       "  & Df & F value & Pr(>F)\\\\\n",
       "  & <int> & <dbl> & <dbl>\\\\\n",
       "\\hline\n",
       "\tgroup &   5 & 2.787297 & 0.01789965\\\\\n",
       "\t  & 269 &       NA &         NA\\\\\n",
       "\\end{tabular}\n"
      ],
      "text/markdown": [
       "\n",
       "A anova: 2 × 3\n",
       "\n",
       "| <!--/--> | Df &lt;int&gt; | F value &lt;dbl&gt; | Pr(&gt;F) &lt;dbl&gt; |\n",
       "|---|---|---|---|\n",
       "| group |   5 | 2.787297 | 0.01789965 |\n",
       "| <!----> | 269 |       NA |         NA |\n",
       "\n"
      ],
      "text/plain": [
       "      Df  F value  Pr(>F)    \n",
       "group   5 2.787297 0.01789965\n",
       "      269       NA         NA"
      ]
     },
     "metadata": {},
     "output_type": "display_data"
    },
    {
     "data": {
      "text/html": [
       "<table class=\"dataframe\">\n",
       "<caption>A anova: 2 × 3</caption>\n",
       "<thead>\n",
       "\t<tr><th></th><th scope=col>Df</th><th scope=col>F value</th><th scope=col>Pr(&gt;F)</th></tr>\n",
       "\t<tr><th></th><th scope=col>&lt;int&gt;</th><th scope=col>&lt;dbl&gt;</th><th scope=col>&lt;dbl&gt;</th></tr>\n",
       "</thead>\n",
       "<tbody>\n",
       "\t<tr><th scope=row>group</th><td>  2</td><td>50.49465</td><td>2.242153e-19</td></tr>\n",
       "\t<tr><th scope=row> </th><td>272</td><td>      NA</td><td>          NA</td></tr>\n",
       "</tbody>\n",
       "</table>\n"
      ],
      "text/latex": [
       "A anova: 2 × 3\n",
       "\\begin{tabular}{r|lll}\n",
       "  & Df & F value & Pr(>F)\\\\\n",
       "  & <int> & <dbl> & <dbl>\\\\\n",
       "\\hline\n",
       "\tgroup &   2 & 50.49465 & 2.242153e-19\\\\\n",
       "\t  & 272 &       NA &           NA\\\\\n",
       "\\end{tabular}\n"
      ],
      "text/markdown": [
       "\n",
       "A anova: 2 × 3\n",
       "\n",
       "| <!--/--> | Df &lt;int&gt; | F value &lt;dbl&gt; | Pr(&gt;F) &lt;dbl&gt; |\n",
       "|---|---|---|---|\n",
       "| group |   2 | 50.49465 | 2.242153e-19 |\n",
       "| <!----> | 272 |       NA |           NA |\n",
       "\n"
      ],
      "text/plain": [
       "      Df  F value  Pr(>F)      \n",
       "group   2 50.49465 2.242153e-19\n",
       "      272       NA           NA"
      ]
     },
     "metadata": {},
     "output_type": "display_data"
    }
   ],
   "source": [
    "# test for HOV across treatments\n",
    "leveneTest(value ~ microbe, data=up22_d15n)\n",
    "leveneTest(value ~ n_rate, data=up22_d15n)\n",
    "leveneTest(value ~ stage, data=up22_d15n)"
   ]
  },
  {
   "cell_type": "code",
   "execution_count": 39,
   "metadata": {
    "vscode": {
     "languageId": "r"
    }
   },
   "outputs": [
    {
     "data": {
      "text/html": [
       "<table class=\"dataframe\">\n",
       "<caption>A anova: 2 × 3</caption>\n",
       "<thead>\n",
       "\t<tr><th></th><th scope=col>Df</th><th scope=col>F value</th><th scope=col>Pr(&gt;F)</th></tr>\n",
       "\t<tr><th></th><th scope=col>&lt;int&gt;</th><th scope=col>&lt;dbl&gt;</th><th scope=col>&lt;dbl&gt;</th></tr>\n",
       "</thead>\n",
       "<tbody>\n",
       "\t<tr><th scope=row>group</th><td>  1</td><td>0.4245594</td><td>0.5152189</td></tr>\n",
       "\t<tr><th scope=row> </th><td>273</td><td>       NA</td><td>       NA</td></tr>\n",
       "</tbody>\n",
       "</table>\n"
      ],
      "text/latex": [
       "A anova: 2 × 3\n",
       "\\begin{tabular}{r|lll}\n",
       "  & Df & F value & Pr(>F)\\\\\n",
       "  & <int> & <dbl> & <dbl>\\\\\n",
       "\\hline\n",
       "\tgroup &   1 & 0.4245594 & 0.5152189\\\\\n",
       "\t  & 273 &        NA &        NA\\\\\n",
       "\\end{tabular}\n"
      ],
      "text/markdown": [
       "\n",
       "A anova: 2 × 3\n",
       "\n",
       "| <!--/--> | Df &lt;int&gt; | F value &lt;dbl&gt; | Pr(&gt;F) &lt;dbl&gt; |\n",
       "|---|---|---|---|\n",
       "| group |   1 | 0.4245594 | 0.5152189 |\n",
       "| <!----> | 273 |        NA |        NA |\n",
       "\n"
      ],
      "text/plain": [
       "      Df  F value   Pr(>F)   \n",
       "group   1 0.4245594 0.5152189\n",
       "      273        NA        NA"
      ]
     },
     "metadata": {},
     "output_type": "display_data"
    },
    {
     "data": {
      "text/html": [
       "<table class=\"dataframe\">\n",
       "<caption>A anova: 2 × 3</caption>\n",
       "<thead>\n",
       "\t<tr><th></th><th scope=col>Df</th><th scope=col>F value</th><th scope=col>Pr(&gt;F)</th></tr>\n",
       "\t<tr><th></th><th scope=col>&lt;int&gt;</th><th scope=col>&lt;dbl&gt;</th><th scope=col>&lt;dbl&gt;</th></tr>\n",
       "</thead>\n",
       "<tbody>\n",
       "\t<tr><th scope=row>group</th><td>  5</td><td>0.490315</td><td>0.7834003</td></tr>\n",
       "\t<tr><th scope=row> </th><td>269</td><td>      NA</td><td>       NA</td></tr>\n",
       "</tbody>\n",
       "</table>\n"
      ],
      "text/latex": [
       "A anova: 2 × 3\n",
       "\\begin{tabular}{r|lll}\n",
       "  & Df & F value & Pr(>F)\\\\\n",
       "  & <int> & <dbl> & <dbl>\\\\\n",
       "\\hline\n",
       "\tgroup &   5 & 0.490315 & 0.7834003\\\\\n",
       "\t  & 269 &       NA &        NA\\\\\n",
       "\\end{tabular}\n"
      ],
      "text/markdown": [
       "\n",
       "A anova: 2 × 3\n",
       "\n",
       "| <!--/--> | Df &lt;int&gt; | F value &lt;dbl&gt; | Pr(&gt;F) &lt;dbl&gt; |\n",
       "|---|---|---|---|\n",
       "| group |   5 | 0.490315 | 0.7834003 |\n",
       "| <!----> | 269 |       NA |        NA |\n",
       "\n"
      ],
      "text/plain": [
       "      Df  F value  Pr(>F)   \n",
       "group   5 0.490315 0.7834003\n",
       "      269       NA        NA"
      ]
     },
     "metadata": {},
     "output_type": "display_data"
    },
    {
     "data": {
      "text/html": [
       "<table class=\"dataframe\">\n",
       "<caption>A anova: 2 × 3</caption>\n",
       "<thead>\n",
       "\t<tr><th></th><th scope=col>Df</th><th scope=col>F value</th><th scope=col>Pr(&gt;F)</th></tr>\n",
       "\t<tr><th></th><th scope=col>&lt;int&gt;</th><th scope=col>&lt;dbl&gt;</th><th scope=col>&lt;dbl&gt;</th></tr>\n",
       "</thead>\n",
       "<tbody>\n",
       "\t<tr><th scope=row>group</th><td>  2</td><td>3.293316</td><td>0.0386166</td></tr>\n",
       "\t<tr><th scope=row> </th><td>272</td><td>      NA</td><td>       NA</td></tr>\n",
       "</tbody>\n",
       "</table>\n"
      ],
      "text/latex": [
       "A anova: 2 × 3\n",
       "\\begin{tabular}{r|lll}\n",
       "  & Df & F value & Pr(>F)\\\\\n",
       "  & <int> & <dbl> & <dbl>\\\\\n",
       "\\hline\n",
       "\tgroup &   2 & 3.293316 & 0.0386166\\\\\n",
       "\t  & 272 &       NA &        NA\\\\\n",
       "\\end{tabular}\n"
      ],
      "text/markdown": [
       "\n",
       "A anova: 2 × 3\n",
       "\n",
       "| <!--/--> | Df &lt;int&gt; | F value &lt;dbl&gt; | Pr(&gt;F) &lt;dbl&gt; |\n",
       "|---|---|---|---|\n",
       "| group |   2 | 3.293316 | 0.0386166 |\n",
       "| <!----> | 272 |       NA |        NA |\n",
       "\n"
      ],
      "text/plain": [
       "      Df  F value  Pr(>F)   \n",
       "group   2 3.293316 0.0386166\n",
       "      272       NA        NA"
      ]
     },
     "metadata": {},
     "output_type": "display_data"
    }
   ],
   "source": [
    "leveneTest(log(value) ~ microbe, data=up22_d15n)\n",
    "leveneTest(log(value) ~ n_rate, data=up22_d15n)\n",
    "leveneTest(log(value) ~ stage, data=up22_d15n)"
   ]
  },
  {
   "cell_type": "code",
   "execution_count": 40,
   "metadata": {
    "vscode": {
     "languageId": "r"
    }
   },
   "outputs": [
    {
     "name": "stderr",
     "output_type": "stream",
     "text": [
      "boundary (singular) fit: see help('isSingular')\n",
      "\n"
     ]
    }
   ],
   "source": [
    "up22_d15n_mod_full <- lmer(log(value) ~ microbe*n_rate*stage + (1|rep/n_rate) + (1|plot), data = up22_d15n)"
   ]
  },
  {
   "cell_type": "code",
   "execution_count": 41,
   "metadata": {
    "vscode": {
     "languageId": "r"
    }
   },
   "outputs": [
    {
     "data": {
      "text/html": [
       "<table class=\"dataframe\">\n",
       "<caption>A anova: 7 × 6</caption>\n",
       "<thead>\n",
       "\t<tr><th></th><th scope=col>Sum Sq</th><th scope=col>Mean Sq</th><th scope=col>NumDF</th><th scope=col>DenDF</th><th scope=col>F value</th><th scope=col>Pr(&gt;F)</th></tr>\n",
       "\t<tr><th></th><th scope=col>&lt;dbl&gt;</th><th scope=col>&lt;dbl&gt;</th><th scope=col>&lt;int&gt;</th><th scope=col>&lt;dbl&gt;</th><th scope=col>&lt;dbl&gt;</th><th scope=col>&lt;dbl&gt;</th></tr>\n",
       "</thead>\n",
       "<tbody>\n",
       "\t<tr><th scope=row>microbe</th><td>  0.2124747</td><td> 0.21247469</td><td> 1</td><td>199.38992</td><td>  1.2443038</td><td>2.659858e-01</td></tr>\n",
       "\t<tr><th scope=row>n_rate</th><td> 10.9415597</td><td> 2.18831194</td><td> 5</td><td> 33.16485</td><td> 12.8152907</td><td>5.668990e-07</td></tr>\n",
       "\t<tr><th scope=row>stage</th><td>117.9573194</td><td>58.97865969</td><td> 2</td><td>199.38880</td><td>345.3934766</td><td>1.663685e-65</td></tr>\n",
       "\t<tr><th scope=row>microbe:n_rate</th><td>  1.1415532</td><td> 0.22831064</td><td> 5</td><td>199.39310</td><td>  1.3370431</td><td>2.500746e-01</td></tr>\n",
       "\t<tr><th scope=row>microbe:stage</th><td>  1.5247131</td><td> 0.76235653</td><td> 2</td><td>199.38880</td><td>  4.4645465</td><td>1.268332e-02</td></tr>\n",
       "\t<tr><th scope=row>n_rate:stage</th><td>  6.5859971</td><td> 0.65859971</td><td>10</td><td>199.38803</td><td>  3.8569212</td><td>8.576037e-05</td></tr>\n",
       "\t<tr><th scope=row>microbe:n_rate:stage</th><td>  0.5621746</td><td> 0.05621746</td><td>10</td><td>199.38803</td><td>  0.3292232</td><td>9.725444e-01</td></tr>\n",
       "</tbody>\n",
       "</table>\n"
      ],
      "text/latex": [
       "A anova: 7 × 6\n",
       "\\begin{tabular}{r|llllll}\n",
       "  & Sum Sq & Mean Sq & NumDF & DenDF & F value & Pr(>F)\\\\\n",
       "  & <dbl> & <dbl> & <int> & <dbl> & <dbl> & <dbl>\\\\\n",
       "\\hline\n",
       "\tmicrobe &   0.2124747 &  0.21247469 &  1 & 199.38992 &   1.2443038 & 2.659858e-01\\\\\n",
       "\tn\\_rate &  10.9415597 &  2.18831194 &  5 &  33.16485 &  12.8152907 & 5.668990e-07\\\\\n",
       "\tstage & 117.9573194 & 58.97865969 &  2 & 199.38880 & 345.3934766 & 1.663685e-65\\\\\n",
       "\tmicrobe:n\\_rate &   1.1415532 &  0.22831064 &  5 & 199.39310 &   1.3370431 & 2.500746e-01\\\\\n",
       "\tmicrobe:stage &   1.5247131 &  0.76235653 &  2 & 199.38880 &   4.4645465 & 1.268332e-02\\\\\n",
       "\tn\\_rate:stage &   6.5859971 &  0.65859971 & 10 & 199.38803 &   3.8569212 & 8.576037e-05\\\\\n",
       "\tmicrobe:n\\_rate:stage &   0.5621746 &  0.05621746 & 10 & 199.38803 &   0.3292232 & 9.725444e-01\\\\\n",
       "\\end{tabular}\n"
      ],
      "text/markdown": [
       "\n",
       "A anova: 7 × 6\n",
       "\n",
       "| <!--/--> | Sum Sq &lt;dbl&gt; | Mean Sq &lt;dbl&gt; | NumDF &lt;int&gt; | DenDF &lt;dbl&gt; | F value &lt;dbl&gt; | Pr(&gt;F) &lt;dbl&gt; |\n",
       "|---|---|---|---|---|---|---|\n",
       "| microbe |   0.2124747 |  0.21247469 |  1 | 199.38992 |   1.2443038 | 2.659858e-01 |\n",
       "| n_rate |  10.9415597 |  2.18831194 |  5 |  33.16485 |  12.8152907 | 5.668990e-07 |\n",
       "| stage | 117.9573194 | 58.97865969 |  2 | 199.38880 | 345.3934766 | 1.663685e-65 |\n",
       "| microbe:n_rate |   1.1415532 |  0.22831064 |  5 | 199.39310 |   1.3370431 | 2.500746e-01 |\n",
       "| microbe:stage |   1.5247131 |  0.76235653 |  2 | 199.38880 |   4.4645465 | 1.268332e-02 |\n",
       "| n_rate:stage |   6.5859971 |  0.65859971 | 10 | 199.38803 |   3.8569212 | 8.576037e-05 |\n",
       "| microbe:n_rate:stage |   0.5621746 |  0.05621746 | 10 | 199.38803 |   0.3292232 | 9.725444e-01 |\n",
       "\n"
      ],
      "text/plain": [
       "                     Sum Sq      Mean Sq     NumDF DenDF     F value    \n",
       "microbe                0.2124747  0.21247469  1    199.38992   1.2443038\n",
       "n_rate                10.9415597  2.18831194  5     33.16485  12.8152907\n",
       "stage                117.9573194 58.97865969  2    199.38880 345.3934766\n",
       "microbe:n_rate         1.1415532  0.22831064  5    199.39310   1.3370431\n",
       "microbe:stage          1.5247131  0.76235653  2    199.38880   4.4645465\n",
       "n_rate:stage           6.5859971  0.65859971 10    199.38803   3.8569212\n",
       "microbe:n_rate:stage   0.5621746  0.05621746 10    199.38803   0.3292232\n",
       "                     Pr(>F)      \n",
       "microbe              2.659858e-01\n",
       "n_rate               5.668990e-07\n",
       "stage                1.663685e-65\n",
       "microbe:n_rate       2.500746e-01\n",
       "microbe:stage        1.268332e-02\n",
       "n_rate:stage         8.576037e-05\n",
       "microbe:n_rate:stage 9.725444e-01"
      ]
     },
     "metadata": {},
     "output_type": "display_data"
    }
   ],
   "source": [
    "anova(up22_d15n_mod_full)"
   ]
  },
  {
   "cell_type": "code",
   "execution_count": 42,
   "metadata": {
    "vscode": {
     "languageId": "r"
    }
   },
   "outputs": [],
   "source": [
    "up22_d15n_mod_red1 <- lmer(log(value) ~ n_rate*microbe + stage*microbe + stage*n_rate  + (1|rep/n_rate), data = up22_d15n)"
   ]
  },
  {
   "cell_type": "code",
   "execution_count": 43,
   "metadata": {
    "vscode": {
     "languageId": "r"
    }
   },
   "outputs": [],
   "source": [
    "up22_d15n_mod_red2 <- lmer(log(value) ~ stage*microbe + stage*n_rate  + (1|rep/n_rate), data = up22_d15n)"
   ]
  },
  {
   "cell_type": "code",
   "execution_count": 44,
   "metadata": {
    "vscode": {
     "languageId": "r"
    }
   },
   "outputs": [],
   "source": [
    "up22_d15n_mod_red3 <- lmer(log(value) ~ stage + microbe + stage*n_rate  + (1|rep/n_rate), data = up22_d15n)"
   ]
  },
  {
   "cell_type": "code",
   "execution_count": 45,
   "metadata": {
    "vscode": {
     "languageId": "r"
    }
   },
   "outputs": [
    {
     "name": "stderr",
     "output_type": "stream",
     "text": [
      "refitting model(s) with ML (instead of REML)\n",
      "\n"
     ]
    },
    {
     "data": {
      "text/html": [
       "<table class=\"dataframe\">\n",
       "<caption>A anova: 4 × 8</caption>\n",
       "<thead>\n",
       "\t<tr><th></th><th scope=col>npar</th><th scope=col>AIC</th><th scope=col>BIC</th><th scope=col>logLik</th><th scope=col>deviance</th><th scope=col>Chisq</th><th scope=col>Df</th><th scope=col>Pr(&gt;Chisq)</th></tr>\n",
       "\t<tr><th></th><th scope=col>&lt;dbl&gt;</th><th scope=col>&lt;dbl&gt;</th><th scope=col>&lt;dbl&gt;</th><th scope=col>&lt;dbl&gt;</th><th scope=col>&lt;dbl&gt;</th><th scope=col>&lt;dbl&gt;</th><th scope=col>&lt;dbl&gt;</th><th scope=col>&lt;dbl&gt;</th></tr>\n",
       "</thead>\n",
       "<tbody>\n",
       "\t<tr><th scope=row>up22_d15n_mod_red3</th><td>22</td><td>360.1271</td><td>439.6961</td><td>-158.0636</td><td>316.1271</td><td>      NA</td><td>NA</td><td>         NA</td></tr>\n",
       "\t<tr><th scope=row>up22_d15n_mod_red2</th><td>24</td><td>354.4384</td><td>441.2409</td><td>-153.2192</td><td>306.4384</td><td>9.688690</td><td> 2</td><td>0.007872771</td></tr>\n",
       "\t<tr><th scope=row>up22_d15n_mod_red1</th><td>29</td><td>356.9981</td><td>461.8844</td><td>-149.4990</td><td>298.9981</td><td>7.440375</td><td> 5</td><td>0.189894308</td></tr>\n",
       "\t<tr><th scope=row>up22_d15n_mod_full</th><td>40</td><td>375.2417</td><td>519.9125</td><td>-147.6209</td><td>295.2417</td><td>3.756360</td><td>11</td><td>0.976509735</td></tr>\n",
       "</tbody>\n",
       "</table>\n"
      ],
      "text/latex": [
       "A anova: 4 × 8\n",
       "\\begin{tabular}{r|llllllll}\n",
       "  & npar & AIC & BIC & logLik & deviance & Chisq & Df & Pr(>Chisq)\\\\\n",
       "  & <dbl> & <dbl> & <dbl> & <dbl> & <dbl> & <dbl> & <dbl> & <dbl>\\\\\n",
       "\\hline\n",
       "\tup22\\_d15n\\_mod\\_red3 & 22 & 360.1271 & 439.6961 & -158.0636 & 316.1271 &       NA & NA &          NA\\\\\n",
       "\tup22\\_d15n\\_mod\\_red2 & 24 & 354.4384 & 441.2409 & -153.2192 & 306.4384 & 9.688690 &  2 & 0.007872771\\\\\n",
       "\tup22\\_d15n\\_mod\\_red1 & 29 & 356.9981 & 461.8844 & -149.4990 & 298.9981 & 7.440375 &  5 & 0.189894308\\\\\n",
       "\tup22\\_d15n\\_mod\\_full & 40 & 375.2417 & 519.9125 & -147.6209 & 295.2417 & 3.756360 & 11 & 0.976509735\\\\\n",
       "\\end{tabular}\n"
      ],
      "text/markdown": [
       "\n",
       "A anova: 4 × 8\n",
       "\n",
       "| <!--/--> | npar &lt;dbl&gt; | AIC &lt;dbl&gt; | BIC &lt;dbl&gt; | logLik &lt;dbl&gt; | deviance &lt;dbl&gt; | Chisq &lt;dbl&gt; | Df &lt;dbl&gt; | Pr(&gt;Chisq) &lt;dbl&gt; |\n",
       "|---|---|---|---|---|---|---|---|---|\n",
       "| up22_d15n_mod_red3 | 22 | 360.1271 | 439.6961 | -158.0636 | 316.1271 |       NA | NA |          NA |\n",
       "| up22_d15n_mod_red2 | 24 | 354.4384 | 441.2409 | -153.2192 | 306.4384 | 9.688690 |  2 | 0.007872771 |\n",
       "| up22_d15n_mod_red1 | 29 | 356.9981 | 461.8844 | -149.4990 | 298.9981 | 7.440375 |  5 | 0.189894308 |\n",
       "| up22_d15n_mod_full | 40 | 375.2417 | 519.9125 | -147.6209 | 295.2417 | 3.756360 | 11 | 0.976509735 |\n",
       "\n"
      ],
      "text/plain": [
       "                   npar AIC      BIC      logLik    deviance Chisq    Df\n",
       "up22_d15n_mod_red3 22   360.1271 439.6961 -158.0636 316.1271       NA NA\n",
       "up22_d15n_mod_red2 24   354.4384 441.2409 -153.2192 306.4384 9.688690  2\n",
       "up22_d15n_mod_red1 29   356.9981 461.8844 -149.4990 298.9981 7.440375  5\n",
       "up22_d15n_mod_full 40   375.2417 519.9125 -147.6209 295.2417 3.756360 11\n",
       "                   Pr(>Chisq) \n",
       "up22_d15n_mod_red3          NA\n",
       "up22_d15n_mod_red2 0.007872771\n",
       "up22_d15n_mod_red1 0.189894308\n",
       "up22_d15n_mod_full 0.976509735"
      ]
     },
     "metadata": {},
     "output_type": "display_data"
    }
   ],
   "source": [
    "anova(up22_d15n_mod_full,up22_d15n_mod_red1,up22_d15n_mod_red2,up22_d15n_mod_red3)"
   ]
  },
  {
   "cell_type": "code",
   "execution_count": 46,
   "metadata": {
    "vscode": {
     "languageId": "r"
    }
   },
   "outputs": [],
   "source": [
    "up22_d15n_mod <- up22_d15n_mod_red2"
   ]
  },
  {
   "cell_type": "code",
   "execution_count": 47,
   "metadata": {
    "vscode": {
     "languageId": "r"
    }
   },
   "outputs": [
    {
     "data": {
      "image/png": "[encoded data removed]",
      "text/plain": [
       "plot without title"
      ]
     },
     "metadata": {
      "image/png": {
       "height": 300,
       "width": 300
      }
     },
     "output_type": "display_data"
    },
    {
     "name": "stdout",
     "output_type": "stream",
     "text": [
      "NULL\n"
     ]
    },
    {
     "data": {
      "text/plain": [
       "\n",
       "\tShapiro-Wilk normality test\n",
       "\n",
       "data:  residuals(mod)\n",
       "W = 0.92366, p-value = 1.155e-10\n"
      ]
     },
     "metadata": {},
     "output_type": "display_data"
    },
    {
     "data": {
      "image/png": "[encoded data removed]",
      "text/plain": [
       "Plot with title \"density.default(x = resid(mod))\""
      ]
     },
     "metadata": {
      "image/png": {
       "height": 300,
       "width": 300
      }
     },
     "output_type": "display_data"
    }
   ],
   "source": [
    "check_assumptions(up22_d15n_mod)"
   ]
  },
  {
   "cell_type": "code",
   "execution_count": 48,
   "metadata": {
    "vscode": {
     "languageId": "r"
    }
   },
   "outputs": [
    {
     "name": "stderr",
     "output_type": "stream",
     "text": [
      "\n",
      "Correlation matrix not shown by default, as p = 21 > 12.\n",
      "Use print(obj, correlation=TRUE)  or\n",
      "    vcov(obj)        if you need it\n",
      "\n",
      "\n"
     ]
    },
    {
     "data": {
      "text/plain": [
       "Linear mixed model fit by REML. t-tests use Satterthwaite's method [\n",
       "lmerModLmerTest]\n",
       "Formula: log(value) ~ stage * microbe + stage * n_rate + (1 | rep/n_rate)\n",
       "   Data: up22_d15n\n",
       "\n",
       "REML criterion at convergence: 359.7\n",
       "\n",
       "Scaled residuals: \n",
       "    Min      1Q  Median      3Q     Max \n",
       "-4.9289 -0.4388  0.0883  0.5946  2.8203 \n",
       "\n",
       "Random effects:\n",
       " Groups     Name        Variance Std.Dev.\n",
       " n_rate:rep (Intercept) 0.005434 0.07372 \n",
       " rep        (Intercept) 0.325662 0.57067 \n",
       " Residual               0.166792 0.40840 \n",
       "Number of obs: 275, groups:  n_rate:rep, 46; rep, 8\n",
       "\n",
       "Fixed effects:\n",
       "                         Estimate Std. Error        df t value Pr(>|t|)    \n",
       "(Intercept)               1.51456    0.23533  12.46261   6.436 2.70e-05 ***\n",
       "stageR1                  -1.05034    0.16576 214.22947  -6.337 1.37e-09 ***\n",
       "stageR6                  -0.49622    0.16576 214.22947  -2.994  0.00308 ** \n",
       "microbePROVEN40           0.20895    0.08568 214.78773   2.439  0.01555 *  \n",
       "n_rate95                 -0.47524    0.15472 162.85590  -3.072  0.00250 ** \n",
       "n_rate135                -0.38632    0.15931 164.48310  -2.425  0.01639 *  \n",
       "n_rate175                -0.65256    0.15472 162.85590  -4.218 4.09e-05 ***\n",
       "n_rate215                -0.46861    0.15472 162.85590  -3.029  0.00286 ** \n",
       "n_rate255                -0.73170    0.15714 166.53792  -4.656 6.55e-06 ***\n",
       "stageR1:microbePROVEN40  -0.35506    0.12080 214.49077  -2.939  0.00365 ** \n",
       "stageR6:microbePROVEN40  -0.09754    0.12080 214.49077  -0.807  0.42032    \n",
       "stageR1:n_rate95          0.04691    0.21137 214.18941   0.222  0.82457    \n",
       "stageR6:n_rate95          0.30804    0.21137 214.18941   1.457  0.14648    \n",
       "stageR1:n_rate135        -0.30508    0.21830 214.18941  -1.398  0.16370    \n",
       "stageR6:n_rate135         0.39886    0.21830 214.18941   1.827  0.06908 .  \n",
       "stageR1:n_rate175        -0.19962    0.21137 214.18941  -0.944  0.34603    \n",
       "stageR6:n_rate175         0.52504    0.21137 214.18941   2.484  0.01376 *  \n",
       "stageR1:n_rate215        -0.59305    0.21137 214.18941  -2.806  0.00548 ** \n",
       "stageR6:n_rate215         0.27627    0.21137 214.18941   1.307  0.19259    \n",
       "stageR1:n_rate255        -0.46067    0.21311 214.98816  -2.162  0.03175 *  \n",
       "stageR6:n_rate255         0.58303    0.21311 214.98816   2.736  0.00674 ** \n",
       "---\n",
       "Signif. codes:  0 '***' 0.001 '**' 0.01 '*' 0.05 '.' 0.1 ' ' 1"
      ]
     },
     "metadata": {},
     "output_type": "display_data"
    }
   ],
   "source": [
    "summary(up22_d15n_mod)"
   ]
  },
  {
   "cell_type": "code",
   "execution_count": 49,
   "metadata": {
    "vscode": {
     "languageId": "r"
    }
   },
   "outputs": [
    {
     "data": {
      "text/plain": [
       " stage microbe              response    SE   df lower.CL upper.CL\n",
       " V8    Uninoculated Control    2.893 0.610 8.06    1.780     4.70\n",
       " R1    Uninoculated Control    0.787 0.166 8.06    0.484     1.28\n",
       " R6    Uninoculated Control    2.495 0.526 8.06    1.535     4.06\n",
       " V8    PROVEN40                3.565 0.753 8.09    2.193     5.79\n",
       " R1    PROVEN40                0.680 0.143 8.06    0.418     1.10\n",
       " R6    PROVEN40                2.790 0.588 8.06    1.716     4.53\n",
       "\n",
       "Results are averaged over the levels of: n_rate \n",
       "Degrees-of-freedom method: kenward-roger \n",
       "Confidence level used: 0.95 \n",
       "Intervals are back-transformed from the log scale "
      ]
     },
     "metadata": {},
     "output_type": "display_data"
    }
   ],
   "source": [
    "up22_d15n_mod_means <- emmeans(up22_d15n_mod, ~ stage*microbe,  type = \"response\")\n",
    "up22_d15n_mod_means"
   ]
  },
  {
   "cell_type": "code",
   "execution_count": 50,
   "metadata": {
    "vscode": {
     "languageId": "r"
    }
   },
   "outputs": [
    {
     "name": "stderr",
     "output_type": "stream",
     "text": [
      "\u001b[1m\u001b[22mJoining with `by = join_by(stage)`\n"
     ]
    },
    {
     "data": {
      "text/html": [
       "<table class=\"dataframe\">\n",
       "<caption>A data.frame: 3 × 11</caption>\n",
       "<thead>\n",
       "\t<tr><th scope=col>contrast</th><th scope=col>stage</th><th scope=col>ratio</th><th scope=col>SE</th><th scope=col>df</th><th scope=col>null</th><th scope=col>t.ratio</th><th scope=col>p.value</th><th scope=col>ndfa</th><th scope=col>my_label</th><th scope=col>max_value</th></tr>\n",
       "\t<tr><th scope=col>&lt;fct&gt;</th><th scope=col>&lt;fct&gt;</th><th scope=col>&lt;dbl&gt;</th><th scope=col>&lt;dbl&gt;</th><th scope=col>&lt;dbl&gt;</th><th scope=col>&lt;dbl&gt;</th><th scope=col>&lt;dbl&gt;</th><th scope=col>&lt;dbl&gt;</th><th scope=col>&lt;dbl&gt;</th><th scope=col>&lt;chr&gt;</th><th scope=col>&lt;dbl&gt;</th></tr>\n",
       "</thead>\n",
       "<tbody>\n",
       "\t<tr><td>PROVEN40 / Uninoculated Control</td><td>V8</td><td>1.2323806</td><td>0.10560023</td><td>214.614</td><td>1</td><td> 2.438472</td><td>0.01556250</td><td>-23.2</td><td>\n",
       "p = 0.016            </td><td>5.794875</td></tr>\n",
       "\t<tr><td>PROVEN40 / Uninoculated Control</td><td>R1</td><td>0.8640633</td><td>0.07358159</td><td>214.013</td><td>1</td><td>-1.715751</td><td>0.08765486</td><td> 13.6</td><td>Ndfa = 13.6%\n",
       "p = 0.088</td><td>1.278412</td></tr>\n",
       "\t<tr><td>PROVEN40 / Uninoculated Control</td><td>R6</td><td>1.1178537</td><td>0.09519378</td><td>214.013</td><td>1</td><td> 1.308286</td><td>0.19217979</td><td>-11.8</td><td>\n",
       "p = 0.19             </td><td>4.534030</td></tr>\n",
       "</tbody>\n",
       "</table>\n"
      ],
      "text/latex": [
       "A data.frame: 3 × 11\n",
       "\\begin{tabular}{lllllllllll}\n",
       " contrast & stage & ratio & SE & df & null & t.ratio & p.value & ndfa & my\\_label & max\\_value\\\\\n",
       " <fct> & <fct> & <dbl> & <dbl> & <dbl> & <dbl> & <dbl> & <dbl> & <dbl> & <chr> & <dbl>\\\\\n",
       "\\hline\n",
       "\t PROVEN40 / Uninoculated Control & V8 & 1.2323806 & 0.10560023 & 214.614 & 1 &  2.438472 & 0.01556250 & -23.2 & \n",
       "p = 0.016             & 5.794875\\\\\n",
       "\t PROVEN40 / Uninoculated Control & R1 & 0.8640633 & 0.07358159 & 214.013 & 1 & -1.715751 & 0.08765486 &  13.6 & Ndfa = 13.6\\%\n",
       "p = 0.088 & 1.278412\\\\\n",
       "\t PROVEN40 / Uninoculated Control & R6 & 1.1178537 & 0.09519378 & 214.013 & 1 &  1.308286 & 0.19217979 & -11.8 & \n",
       "p = 0.19              & 4.534030\\\\\n",
       "\\end{tabular}\n"
      ],
      "text/markdown": [
       "\n",
       "A data.frame: 3 × 11\n",
       "\n",
       "| contrast &lt;fct&gt; | stage &lt;fct&gt; | ratio &lt;dbl&gt; | SE &lt;dbl&gt; | df &lt;dbl&gt; | null &lt;dbl&gt; | t.ratio &lt;dbl&gt; | p.value &lt;dbl&gt; | ndfa &lt;dbl&gt; | my_label &lt;chr&gt; | max_value &lt;dbl&gt; |\n",
       "|---|---|---|---|---|---|---|---|---|---|---|\n",
       "| PROVEN40 / Uninoculated Control | V8 | 1.2323806 | 0.10560023 | 214.614 | 1 |  2.438472 | 0.01556250 | -23.2 | \n",
       "p = 0.016             | 5.794875 |\n",
       "| PROVEN40 / Uninoculated Control | R1 | 0.8640633 | 0.07358159 | 214.013 | 1 | -1.715751 | 0.08765486 |  13.6 | Ndfa = 13.6%\n",
       "p = 0.088 | 1.278412 |\n",
       "| PROVEN40 / Uninoculated Control | R6 | 1.1178537 | 0.09519378 | 214.013 | 1 |  1.308286 | 0.19217979 | -11.8 | \n",
       "p = 0.19              | 4.534030 |\n",
       "\n"
      ],
      "text/plain": [
       "  contrast                        stage ratio     SE         df      null\n",
       "1 PROVEN40 / Uninoculated Control V8    1.2323806 0.10560023 214.614 1   \n",
       "2 PROVEN40 / Uninoculated Control R1    0.8640633 0.07358159 214.013 1   \n",
       "3 PROVEN40 / Uninoculated Control R6    1.1178537 0.09519378 214.013 1   \n",
       "  t.ratio   p.value    ndfa  my_label                max_value\n",
       "1  2.438472 0.01556250 -23.2 \\np = 0.016             5.794875 \n",
       "2 -1.715751 0.08765486  13.6 Ndfa = 13.6%\\np = 0.088 1.278412 \n",
       "3  1.308286 0.19217979 -11.8 \\np = 0.19              4.534030 "
      ]
     },
     "metadata": {},
     "output_type": "display_data"
    }
   ],
   "source": [
    "up22_d15n_mod_trt_contrast <- emmeans(up22_d15n_mod, ~ microbe, by = c(\"stage\"), type = \"response\") %>% \n",
    "pairs(reverse = TRUE,  adjust = \"Tukey\") %>% \n",
    "data.frame()\n",
    "\n",
    "up22_d15n_mod_trt_contrast <- up22_d15n_mod_trt_contrast %>% \n",
    "mutate(ndfa = signif(1 - ratio,3)*100,\n",
    "my_label = \n",
    "paste0(\n",
    "    ifelse(ndfa < 0,\"\",paste0(\"Ndfa = \",ndfa,\"%\")),\"\\n\",\n",
    "    #\"(± \",\n",
    "    #signif(SE,3)*100,\n",
    "    #\"%)\\n\",\n",
    "    \"p = \",signif(p.value,2)\n",
    "    )\n",
    ") %>% \n",
    "left_join(up22_d15n_mod_means %>% \n",
    "as.data.frame() %>% \n",
    "group_by(stage) %>% \n",
    "summarize(max_value = max(upper.CL, na.rm = T)))\n",
    "\n",
    "up22_d15n_mod_trt_contrast "
   ]
  },
  {
   "cell_type": "code",
   "execution_count": 51,
   "metadata": {
    "vscode": {
     "languageId": "r"
    }
   },
   "outputs": [
    {
     "name": "stderr",
     "output_type": "stream",
     "text": [
      "Warning message in geom_errorbar(aes(ymax = upper.CL, ymin = lower.CL, fill = microbe), :\n",
      "\"\u001b[1m\u001b[22mIgnoring unknown aesthetics: \u001b[32mfill\u001b[39m\"\n"
     ]
    }
   ],
   "source": [
    "up22_plot <- \n",
    "as.data.frame(up22_d15n_mod_means) %>% \n",
    "ggplot(aes(stage,response)) + \n",
    "#geom_point(aes(y = (value), colour = microbe, fill = microbe), data = up22_d15n, position = position_dodge(width = 0.4), size = 1 ) +\n",
    "geom_point(aes(colour = microbe, fill = microbe, shape = microbe), position = position_dodge(width = 0.4), size = 4, colour = \"gray10\") +\n",
    "geom_errorbar(aes(ymax = upper.CL, ymin = lower.CL,  fill = microbe), width = 0, position = position_dodge(width = 0.4), lwd = 1) + \n",
    "labs(y = expression(delta^15*N~\"(‰)\"), x = \"Growth stage\", colour = \"\", fill = \"\") + \n",
    "geom_text(aes(y = (max_value) + 2, label = my_label), data = up22_d15n_mod_trt_contrast, colour = \"gray10\", vjust = 1, size = 4.5) + \n",
    "scale_fill_manual(values = myColorPalette) +\n",
    "scale_shape_manual(values = c(21,22)) + \n",
    "facet_wrap(~\"2022\") + \n",
    "theme(legend.position = \"none\")"
   ]
  },
  {
   "cell_type": "code",
   "execution_count": 52,
   "metadata": {
    "vscode": {
     "languageId": "r"
    }
   },
   "outputs": [
    {
     "data": {
      "image/png": "[encoded data removed]",
      "text/plain": [
       "plot without title"
      ]
     },
     "metadata": {
      "image/png": {
       "height": 300,
       "width": 600
      }
     },
     "output_type": "display_data"
    }
   ],
   "source": [
    "options(repr.plot.width=10, repr.plot.height=5)\n",
    "\n",
    "ggarrange(up21_plot,up22_plot, nrow = 1 , common.legend = T)"
   ]
  },
  {
   "cell_type": "code",
   "execution_count": 53,
   "metadata": {
    "vscode": {
     "languageId": "r"
    }
   },
   "outputs": [],
   "source": [
    "pb_plot <- readRDS(\"./figures/pb_leaftip_natural_abundance.rds\") + theme(plot.title = element_text(size = 16, hjust = 0.5))"
   ]
  },
  {
   "cell_type": "code",
   "execution_count": 54,
   "metadata": {
    "vscode": {
     "languageId": "r"
    }
   },
   "outputs": [
    {
     "data": {
      "image/png": "[encoded data removed]",
      "text/plain": [
       "plot without title"
      ]
     },
     "metadata": {
      "image/png": {
       "height": 540,
       "width": 540
      }
     },
     "output_type": "display_data"
    }
   ],
   "source": [
    "options(repr.plot.width=9, repr.plot.height=9)\n",
    "\n",
    "ggarrange(\n",
    "    ggarrange(pb_plot,up_lt_plot, labels = c(\"(a)\",\"(b)\"), common.legend = T, nrow = 1 ),\n",
    "    annotate_figure(ggarrange(up21_plot,up22_plot, nrow = 1), top = text_grob(\"\\nShoot at ACRE farm\", size = 16)),\n",
    "    nrow = 2,  labels = c(\"\",\"(c)\")\n",
    ")"
   ]
  },
  {
   "cell_type": "code",
   "execution_count": 55,
   "metadata": {
    "vscode": {
     "languageId": "r"
    }
   },
   "outputs": [],
   "source": [
    "ggsave(\"./figures/d15n_natural_abundance.png\",width = 9, height = 9, dpi = 300, bg = \"white\")"
   ]
  },
  {
   "cell_type": "code",
   "execution_count": 56,
   "metadata": {
    "vscode": {
     "languageId": "r"
    }
   },
   "outputs": [],
   "source": [
    "bind_rows(\n",
    "    up21_d15n_mod_trt_contrast %>% mutate(year = 2021),\n",
    "    up22_d15n_mod_trt_contrast %>% mutate(year = 2022)\n",
    ") %>%\n",
    "saveRDS(\"./datasets/UPurdue_whole_plant_d15n.rds\")\n"
   ]
  }
 ],
 "metadata": {
  "kernelspec": {
   "display_name": "R",
   "language": "R",
   "name": "ir"
  },
  "language_info": {
   "codemirror_mode": "r",
   "file_extension": ".r",
   "mimetype": "text/x-r-source",
   "name": "R",
   "pygments_lexer": "r",
   "version": "4.1.3"
  }
 },
 "nbformat": 4,
 "nbformat_minor": 2
}
