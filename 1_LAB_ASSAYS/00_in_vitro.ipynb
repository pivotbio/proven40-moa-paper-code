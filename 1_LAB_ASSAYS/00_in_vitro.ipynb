{
 "cells": [
  {
   "cell_type": "code",
   "execution_count": 1,
   "metadata": {
    "vscode": {
     "languageId": "r"
    }
   },
   "outputs": [
    {
     "name": "stdout",
     "output_type": "stream",
     "text": [
      "Pivot Bio, Inc.\n",
      "This code performs analyses supporting findings of the paper entitled:\n",
      "\"Genetic remodeling of soil diazotrophs enables partial replacement of synthetic nitrogen fertilizer with biological nitrogen fixation in maize\".\n",
      "\n",
      "##------ Thu Jun 06 10:04:28 2024 ------## \n",
      "Loaded packages:  tidyverse, readxl, broom, foreach, nlme, lme4, lmerTest, glmmTMB, car, DHARMa, caret, emmeans, multcomp, ggpubr, scales, png, ggthemes and their dependencies.\n",
      "A complete list of packages used in the analysis is provided in the `packages_citations.txt` file.\n"
     ]
    }
   ],
   "source": [
    "source('../load_environment.R')"
   ]
  },
  {
   "cell_type": "markdown",
   "metadata": {},
   "source": [
    "## In-vitro Acetylene Reduction Assay (ARA)\n",
    "\n",
    "In vitro experiment that measured Acetylene reduction to ethylene of seven strains:\n",
    "- 2 Wildtypes (Ks6, Kv137)\n",
    "- 2 NifKO (Ks6-7023, Kv137-7036)\n",
    "- 3 remodeled strains ('Ks6-5687','Kv137-1036','Kv137-2253')\t\n",
    "\n",
    "The experiment was conducted in 2 N conditions:\n",
    " - N-free\n",
    " - 10 mM NH4Cl\n",
    "\n",
    "Independed variable is  `mmol_ethylene_od`, mmol of ethylene corrected by the microbial biomass as estimated by optical density (OD)"
   ]
  },
  {
   "cell_type": "code",
   "execution_count": 2,
   "metadata": {
    "vscode": {
     "languageId": "r"
    }
   },
   "outputs": [
    {
     "data": {
      "text/html": [
       "<style>\n",
       ".list-inline {list-style: none; margin:0; padding: 0}\n",
       ".list-inline>li {display: inline-block}\n",
       ".list-inline>li:not(:last-child)::after {content: \"\\00b7\"; padding: 0 .5ex}\n",
       "</style>\n",
       "<ol class=list-inline><li>'strain'</li><li>'genotype'</li><li>'assay_n_source'</li><li>'replicate'</li><li>'ethylene_standard_exponent'</li><li>'ethylene_standard_slope'</li><li>'headspace_volume__l_'</li><li>'liquid_volume__ml_'</li><li>'exposure_period__hr_'</li><li>'ending_od590'</li><li>'ethylene_area'</li><li>'mm_ethylene'</li><li>'mmol_ethylene'</li><li>'mmol_ethylene_od'</li><li>'mmol_ethylene_cfu'</li><li>'mmol_ethylene_cfu_hr'</li><li>'qc_score'</li><li>'qc_notes'</li></ol>\n"
      ],
      "text/latex": [
       "\\begin{enumerate*}\n",
       "\\item 'strain'\n",
       "\\item 'genotype'\n",
       "\\item 'assay\\_n\\_source'\n",
       "\\item 'replicate'\n",
       "\\item 'ethylene\\_standard\\_exponent'\n",
       "\\item 'ethylene\\_standard\\_slope'\n",
       "\\item 'headspace\\_volume\\_\\_l\\_'\n",
       "\\item 'liquid\\_volume\\_\\_ml\\_'\n",
       "\\item 'exposure\\_period\\_\\_hr\\_'\n",
       "\\item 'ending\\_od590'\n",
       "\\item 'ethylene\\_area'\n",
       "\\item 'mm\\_ethylene'\n",
       "\\item 'mmol\\_ethylene'\n",
       "\\item 'mmol\\_ethylene\\_od'\n",
       "\\item 'mmol\\_ethylene\\_cfu'\n",
       "\\item 'mmol\\_ethylene\\_cfu\\_hr'\n",
       "\\item 'qc\\_score'\n",
       "\\item 'qc\\_notes'\n",
       "\\end{enumerate*}\n"
      ],
      "text/markdown": [
       "1. 'strain'\n",
       "2. 'genotype'\n",
       "3. 'assay_n_source'\n",
       "4. 'replicate'\n",
       "5. 'ethylene_standard_exponent'\n",
       "6. 'ethylene_standard_slope'\n",
       "7. 'headspace_volume__l_'\n",
       "8. 'liquid_volume__ml_'\n",
       "9. 'exposure_period__hr_'\n",
       "10. 'ending_od590'\n",
       "11. 'ethylene_area'\n",
       "12. 'mm_ethylene'\n",
       "13. 'mmol_ethylene'\n",
       "14. 'mmol_ethylene_od'\n",
       "15. 'mmol_ethylene_cfu'\n",
       "16. 'mmol_ethylene_cfu_hr'\n",
       "17. 'qc_score'\n",
       "18. 'qc_notes'\n",
       "\n",
       "\n"
      ],
      "text/plain": [
       " [1] \"strain\"                     \"genotype\"                  \n",
       " [3] \"assay_n_source\"             \"replicate\"                 \n",
       " [5] \"ethylene_standard_exponent\" \"ethylene_standard_slope\"   \n",
       " [7] \"headspace_volume__l_\"       \"liquid_volume__ml_\"        \n",
       " [9] \"exposure_period__hr_\"       \"ending_od590\"              \n",
       "[11] \"ethylene_area\"              \"mm_ethylene\"               \n",
       "[13] \"mmol_ethylene\"              \"mmol_ethylene_od\"          \n",
       "[15] \"mmol_ethylene_cfu\"          \"mmol_ethylene_cfu_hr\"      \n",
       "[17] \"qc_score\"                   \"qc_notes\"                  "
      ]
     },
     "metadata": {},
     "output_type": "display_data"
    },
    {
     "name": "stdout",
     "output_type": "stream",
     "text": [
      "tibble [56 x 22] (S3: tbl_df/tbl/data.frame)\n",
      " $ strain                    : Factor w/ 7 levels \"Ks6\",\"Ks6-7023\",..: 3 3 3 3 2 2 2 2 1 1 ...\n",
      " $ genotype                  : chr [1:56] \"<U+0394>nifL-Prm5-nifA,<U+0394>glnD,glnE-<U+0394>AR_rebuild,hp-4088_G238T,czcS-T98A\" \"<U+0394>nifL-Prm5-nifA,<U+0394>glnD,glnE-<U+0394>AR_rebuild,hp-4088_G238T,czcS-T98A\" \"<U+0394>nifL-Prm5-nifA,<U+0394>glnD,glnE-<U+0394>AR_rebuild,hp-4088_G238T,czcS-T98A\" \"<U+0394>nifL-Prm5-nifA,<U+0394>glnD,glnE-<U+0394>AR_rebuild,hp-4088_G238T,czcS-T98A\" ...\n",
      " $ assay_n_source            : Factor w/ 2 levels \"0 mM AmCl\",\"10 mM AmCl\": 2 2 2 2 2 2 2 2 2 2 ...\n",
      " $ replicate                 : Factor w/ 4 levels \"A\",\"B\",\"C\",\"D\": 1 2 3 4 1 2 3 4 1 2 ...\n",
      " $ ethylene_standard_exponent: num [1:56] 1.12 1.12 1.12 1.12 1.12 ...\n",
      " $ ethylene_standard_slope   : num [1:56] 0.00034 0.00034 0.00034 0.00034 0.00034 ...\n",
      " $ headspace_volume__l_      : num [1:56] 0.007 0.007 0.007 0.007 0.007 0.007 0.007 0.007 0.007 0.007 ...\n",
      " $ liquid_volume__ml_        : num [1:56] 3 3 3 3 3 3 3 3 3 3 ...\n",
      " $ exposure_period__hr_      : num [1:56] 1 1 1 1 1 1 1 1 1 1 ...\n",
      " $ ending_od590              : num [1:56] 3.38 3.49 5.31 2.79 4.26 ...\n",
      " $ ethylene_area             : num [1:56] 1067 921 909 735 0 ...\n",
      " $ mm_ethylene               : num [1:56] 0.861 0.73 0.719 0.567 0 ...\n",
      " $ mmol_ethylene             : num [1:56] 0.00603 0.00511 0.00503 0.00397 0 ...\n",
      " $ mmol_ethylene_od          : num [1:56] 0.255 0.209 0.135 0.203 0 ...\n",
      " $ mmol_ethylene_cfu         : num [1:56] 5.95e-13 4.88e-13 3.16e-13 4.74e-13 0.00 ...\n",
      " $ mmol_ethylene_cfu_hr      : num [1:56] 5.95e-13 4.88e-13 3.16e-13 4.74e-13 0.00 ...\n",
      " $ qc_score                  : chr [1:56] \"Green\" \"Green\" \"Green\" \"Green\" ...\n",
      " $ qc_notes                  : chr [1:56] NA NA NA NA ...\n",
      " $ n_source                  : Factor w/ 2 levels \"~N~free\",\"~10~mM~NH[4]*Cl\": 2 2 2 2 2 2 2 2 2 2 ...\n",
      " $ strain_species            : Factor w/ 2 levels \"Kosakonia sacchari\",..: 1 1 1 1 1 1 1 1 1 1 ...\n",
      " $ strain_name               : Factor w/ 7 levels \"WT (Ks6)\",\"nifKO (Ks6-7023)\",..: 3 3 3 3 2 2 2 2 1 1 ...\n",
      " $ g                         : Factor w/ 14 levels \"11\",\"12\",\"21\",..: 6 6 6 6 4 4 4 4 2 2 ...\n"
     ]
    }
   ],
   "source": [
    "iv_ara <- read_xlsx(\"./datasets/in_vitro_assays.xlsx\", 1)\n",
    "names(iv_ara) <- gsub(\" |\\\\||/|\\\\(|\\\\)\",\"_\",tolower(names(iv_ara)))\n",
    "names(iv_ara)\n",
    "\n",
    "iv_ara <- iv_ara %>% \n",
    "mutate(\n",
    "    n_source = factor(assay_n_source,labels = c(\"~N~free\",\"~10~mM~NH[4]*Cl\")),\n",
    "    strain =paste0(ifelse(substr(strain,1,1) == 6,\"Ks\",\"Kv\"),strain),\n",
    "    strain_species = factor(ifelse(grepl(\"Ks\",strain),\"Kosakonia sacchari\",\"Klebsiella variicola\"), levels = c(\"Kosakonia sacchari\",\"Klebsiella variicola\"))) %>% \n",
    "mutate_at(c(\"strain\",\"strain_species\",\"assay_n_source\",\"replicate\"), factor)\n",
    "\n",
    "iv_ara$strain <- factor(iv_ara$strain, levels = c('Ks6', 'Ks6-7023', 'Ks6-5687', 'Kv137', 'Kv137-7036','Kv137-1036','Kv137-2253'))\n",
    "iv_ara$strain_name <- factor(iv_ara$strain, labels = c('WT (Ks6)', 'nifKO (Ks6-7023)', 'Remodeled (Ks6-5687)', 'WT (Kv137)', 'nifKO (Kv137-7036)','Remodeled Gen1 (Kv137-1036)','Remodeled Gen2 (Kv137-2253)'))\n",
    "iv_ara$g <- factor(paste0(as.numeric(iv_ara$strain),as.numeric(iv_ara$n_source)))\n",
    "\n",
    "str(iv_ara)"
   ]
  },
  {
   "cell_type": "markdown",
   "metadata": {},
   "source": [
    "### First look at the data. Calculate raw treatment means.  "
   ]
  },
  {
   "cell_type": "code",
   "execution_count": 3,
   "metadata": {
    "vscode": {
     "languageId": "r"
    }
   },
   "outputs": [
    {
     "name": "stderr",
     "output_type": "stream",
     "text": [
      "\u001b[1m\u001b[22m`summarise()` has grouped output by 'g', 'strain_species', 'strain_name',\n",
      "'strain'. You can override using the `.groups` argument.\n"
     ]
    },
    {
     "data": {
      "text/html": [
       "<table class=\"dataframe\">\n",
       "<caption>A grouped_df: 14 × 8</caption>\n",
       "<thead>\n",
       "\t<tr><th scope=col>g</th><th scope=col>strain_species</th><th scope=col>strain_name</th><th scope=col>strain</th><th scope=col>n_source</th><th scope=col>n</th><th scope=col>mean</th><th scope=col>se</th></tr>\n",
       "\t<tr><th scope=col>&lt;fct&gt;</th><th scope=col>&lt;fct&gt;</th><th scope=col>&lt;fct&gt;</th><th scope=col>&lt;fct&gt;</th><th scope=col>&lt;fct&gt;</th><th scope=col>&lt;int&gt;</th><th scope=col>&lt;dbl&gt;</th><th scope=col>&lt;dbl&gt;</th></tr>\n",
       "</thead>\n",
       "<tbody>\n",
       "\t<tr><td>11</td><td>Kosakonia sacchari  </td><td>WT (Ks6)                   </td><td>Ks6       </td><td>~N~free        </td><td>4</td><td>0.2308671184</td><td>0.0096683232</td></tr>\n",
       "\t<tr><td>12</td><td>Kosakonia sacchari  </td><td>WT (Ks6)                   </td><td>Ks6       </td><td>~10~mM~NH[4]*Cl</td><td>4</td><td>0.0000000000</td><td>0.0000000000</td></tr>\n",
       "\t<tr><td>21</td><td>Kosakonia sacchari  </td><td>nifKO (Ks6-7023)           </td><td>Ks6-7023  </td><td>~N~free        </td><td>4</td><td>0.0000000000</td><td>0.0000000000</td></tr>\n",
       "\t<tr><td>22</td><td>Kosakonia sacchari  </td><td>nifKO (Ks6-7023)           </td><td>Ks6-7023  </td><td>~10~mM~NH[4]*Cl</td><td>4</td><td>0.0000000000</td><td>0.0000000000</td></tr>\n",
       "\t<tr><td>31</td><td>Kosakonia sacchari  </td><td>Remodeled (Ks6-5687)       </td><td>Ks6-5687  </td><td>~N~free        </td><td>4</td><td>0.0338059923</td><td>0.0133262157</td></tr>\n",
       "\t<tr><td>32</td><td>Kosakonia sacchari  </td><td>Remodeled (Ks6-5687)       </td><td>Ks6-5687  </td><td>~10~mM~NH[4]*Cl</td><td>4</td><td>0.2006443592</td><td>0.0246518360</td></tr>\n",
       "\t<tr><td>41</td><td>Klebsiella variicola</td><td>WT (Kv137)                 </td><td>Kv137     </td><td>~N~free        </td><td>4</td><td>0.4817315784</td><td>0.0110316850</td></tr>\n",
       "\t<tr><td>42</td><td>Klebsiella variicola</td><td>WT (Kv137)                 </td><td>Kv137     </td><td>~10~mM~NH[4]*Cl</td><td>4</td><td>0.0000000000</td><td>0.0000000000</td></tr>\n",
       "\t<tr><td>51</td><td>Klebsiella variicola</td><td>nifKO (Kv137-7036)         </td><td>Kv137-7036</td><td>~N~free        </td><td>4</td><td>0.0007602433</td><td>0.0002869494</td></tr>\n",
       "\t<tr><td>52</td><td>Klebsiella variicola</td><td>nifKO (Kv137-7036)         </td><td>Kv137-7036</td><td>~10~mM~NH[4]*Cl</td><td>4</td><td>0.0000000000</td><td>0.0000000000</td></tr>\n",
       "\t<tr><td>61</td><td>Klebsiella variicola</td><td>Remodeled Gen1 (Kv137-1036)</td><td>Kv137-1036</td><td>~N~free        </td><td>4</td><td>0.6166993240</td><td>0.0096918487</td></tr>\n",
       "\t<tr><td>62</td><td>Klebsiella variicola</td><td>Remodeled Gen1 (Kv137-1036)</td><td>Kv137-1036</td><td>~10~mM~NH[4]*Cl</td><td>4</td><td>0.1354701468</td><td>0.0071982585</td></tr>\n",
       "\t<tr><td>71</td><td>Klebsiella variicola</td><td>Remodeled Gen2 (Kv137-2253)</td><td>Kv137-2253</td><td>~N~free        </td><td>4</td><td>0.9259656874</td><td>0.1724717367</td></tr>\n",
       "\t<tr><td>72</td><td>Klebsiella variicola</td><td>Remodeled Gen2 (Kv137-2253)</td><td>Kv137-2253</td><td>~10~mM~NH[4]*Cl</td><td>4</td><td>0.3025567014</td><td>0.1016077430</td></tr>\n",
       "</tbody>\n",
       "</table>\n"
      ],
      "text/latex": [
       "A grouped\\_df: 14 × 8\n",
       "\\begin{tabular}{llllllll}\n",
       " g & strain\\_species & strain\\_name & strain & n\\_source & n & mean & se\\\\\n",
       " <fct> & <fct> & <fct> & <fct> & <fct> & <int> & <dbl> & <dbl>\\\\\n",
       "\\hline\n",
       "\t 11 & Kosakonia sacchari   & WT (Ks6)                    & Ks6        & \\textasciitilde{}N\\textasciitilde{}free         & 4 & 0.2308671184 & 0.0096683232\\\\\n",
       "\t 12 & Kosakonia sacchari   & WT (Ks6)                    & Ks6        & \\textasciitilde{}10\\textasciitilde{}mM\\textasciitilde{}NH{[}4{]}*Cl & 4 & 0.0000000000 & 0.0000000000\\\\\n",
       "\t 21 & Kosakonia sacchari   & nifKO (Ks6-7023)            & Ks6-7023   & \\textasciitilde{}N\\textasciitilde{}free         & 4 & 0.0000000000 & 0.0000000000\\\\\n",
       "\t 22 & Kosakonia sacchari   & nifKO (Ks6-7023)            & Ks6-7023   & \\textasciitilde{}10\\textasciitilde{}mM\\textasciitilde{}NH{[}4{]}*Cl & 4 & 0.0000000000 & 0.0000000000\\\\\n",
       "\t 31 & Kosakonia sacchari   & Remodeled (Ks6-5687)        & Ks6-5687   & \\textasciitilde{}N\\textasciitilde{}free         & 4 & 0.0338059923 & 0.0133262157\\\\\n",
       "\t 32 & Kosakonia sacchari   & Remodeled (Ks6-5687)        & Ks6-5687   & \\textasciitilde{}10\\textasciitilde{}mM\\textasciitilde{}NH{[}4{]}*Cl & 4 & 0.2006443592 & 0.0246518360\\\\\n",
       "\t 41 & Klebsiella variicola & WT (Kv137)                  & Kv137      & \\textasciitilde{}N\\textasciitilde{}free         & 4 & 0.4817315784 & 0.0110316850\\\\\n",
       "\t 42 & Klebsiella variicola & WT (Kv137)                  & Kv137      & \\textasciitilde{}10\\textasciitilde{}mM\\textasciitilde{}NH{[}4{]}*Cl & 4 & 0.0000000000 & 0.0000000000\\\\\n",
       "\t 51 & Klebsiella variicola & nifKO (Kv137-7036)          & Kv137-7036 & \\textasciitilde{}N\\textasciitilde{}free         & 4 & 0.0007602433 & 0.0002869494\\\\\n",
       "\t 52 & Klebsiella variicola & nifKO (Kv137-7036)          & Kv137-7036 & \\textasciitilde{}10\\textasciitilde{}mM\\textasciitilde{}NH{[}4{]}*Cl & 4 & 0.0000000000 & 0.0000000000\\\\\n",
       "\t 61 & Klebsiella variicola & Remodeled Gen1 (Kv137-1036) & Kv137-1036 & \\textasciitilde{}N\\textasciitilde{}free         & 4 & 0.6166993240 & 0.0096918487\\\\\n",
       "\t 62 & Klebsiella variicola & Remodeled Gen1 (Kv137-1036) & Kv137-1036 & \\textasciitilde{}10\\textasciitilde{}mM\\textasciitilde{}NH{[}4{]}*Cl & 4 & 0.1354701468 & 0.0071982585\\\\\n",
       "\t 71 & Klebsiella variicola & Remodeled Gen2 (Kv137-2253) & Kv137-2253 & \\textasciitilde{}N\\textasciitilde{}free         & 4 & 0.9259656874 & 0.1724717367\\\\\n",
       "\t 72 & Klebsiella variicola & Remodeled Gen2 (Kv137-2253) & Kv137-2253 & \\textasciitilde{}10\\textasciitilde{}mM\\textasciitilde{}NH{[}4{]}*Cl & 4 & 0.3025567014 & 0.1016077430\\\\\n",
       "\\end{tabular}\n"
      ],
      "text/markdown": [
       "\n",
       "A grouped_df: 14 × 8\n",
       "\n",
       "| g &lt;fct&gt; | strain_species &lt;fct&gt; | strain_name &lt;fct&gt; | strain &lt;fct&gt; | n_source &lt;fct&gt; | n &lt;int&gt; | mean &lt;dbl&gt; | se &lt;dbl&gt; |\n",
       "|---|---|---|---|---|---|---|---|\n",
       "| 11 | Kosakonia sacchari   | WT (Ks6)                    | Ks6        | ~N~free         | 4 | 0.2308671184 | 0.0096683232 |\n",
       "| 12 | Kosakonia sacchari   | WT (Ks6)                    | Ks6        | ~10~mM~NH[4]*Cl | 4 | 0.0000000000 | 0.0000000000 |\n",
       "| 21 | Kosakonia sacchari   | nifKO (Ks6-7023)            | Ks6-7023   | ~N~free         | 4 | 0.0000000000 | 0.0000000000 |\n",
       "| 22 | Kosakonia sacchari   | nifKO (Ks6-7023)            | Ks6-7023   | ~10~mM~NH[4]*Cl | 4 | 0.0000000000 | 0.0000000000 |\n",
       "| 31 | Kosakonia sacchari   | Remodeled (Ks6-5687)        | Ks6-5687   | ~N~free         | 4 | 0.0338059923 | 0.0133262157 |\n",
       "| 32 | Kosakonia sacchari   | Remodeled (Ks6-5687)        | Ks6-5687   | ~10~mM~NH[4]*Cl | 4 | 0.2006443592 | 0.0246518360 |\n",
       "| 41 | Klebsiella variicola | WT (Kv137)                  | Kv137      | ~N~free         | 4 | 0.4817315784 | 0.0110316850 |\n",
       "| 42 | Klebsiella variicola | WT (Kv137)                  | Kv137      | ~10~mM~NH[4]*Cl | 4 | 0.0000000000 | 0.0000000000 |\n",
       "| 51 | Klebsiella variicola | nifKO (Kv137-7036)          | Kv137-7036 | ~N~free         | 4 | 0.0007602433 | 0.0002869494 |\n",
       "| 52 | Klebsiella variicola | nifKO (Kv137-7036)          | Kv137-7036 | ~10~mM~NH[4]*Cl | 4 | 0.0000000000 | 0.0000000000 |\n",
       "| 61 | Klebsiella variicola | Remodeled Gen1 (Kv137-1036) | Kv137-1036 | ~N~free         | 4 | 0.6166993240 | 0.0096918487 |\n",
       "| 62 | Klebsiella variicola | Remodeled Gen1 (Kv137-1036) | Kv137-1036 | ~10~mM~NH[4]*Cl | 4 | 0.1354701468 | 0.0071982585 |\n",
       "| 71 | Klebsiella variicola | Remodeled Gen2 (Kv137-2253) | Kv137-2253 | ~N~free         | 4 | 0.9259656874 | 0.1724717367 |\n",
       "| 72 | Klebsiella variicola | Remodeled Gen2 (Kv137-2253) | Kv137-2253 | ~10~mM~NH[4]*Cl | 4 | 0.3025567014 | 0.1016077430 |\n",
       "\n"
      ],
      "text/plain": [
       "   g  strain_species       strain_name                 strain    \n",
       "1  11 Kosakonia sacchari   WT (Ks6)                    Ks6       \n",
       "2  12 Kosakonia sacchari   WT (Ks6)                    Ks6       \n",
       "3  21 Kosakonia sacchari   nifKO (Ks6-7023)            Ks6-7023  \n",
       "4  22 Kosakonia sacchari   nifKO (Ks6-7023)            Ks6-7023  \n",
       "5  31 Kosakonia sacchari   Remodeled (Ks6-5687)        Ks6-5687  \n",
       "6  32 Kosakonia sacchari   Remodeled (Ks6-5687)        Ks6-5687  \n",
       "7  41 Klebsiella variicola WT (Kv137)                  Kv137     \n",
       "8  42 Klebsiella variicola WT (Kv137)                  Kv137     \n",
       "9  51 Klebsiella variicola nifKO (Kv137-7036)          Kv137-7036\n",
       "10 52 Klebsiella variicola nifKO (Kv137-7036)          Kv137-7036\n",
       "11 61 Klebsiella variicola Remodeled Gen1 (Kv137-1036) Kv137-1036\n",
       "12 62 Klebsiella variicola Remodeled Gen1 (Kv137-1036) Kv137-1036\n",
       "13 71 Klebsiella variicola Remodeled Gen2 (Kv137-2253) Kv137-2253\n",
       "14 72 Klebsiella variicola Remodeled Gen2 (Kv137-2253) Kv137-2253\n",
       "   n_source        n mean         se          \n",
       "1  ~N~free         4 0.2308671184 0.0096683232\n",
       "2  ~10~mM~NH[4]*Cl 4 0.0000000000 0.0000000000\n",
       "3  ~N~free         4 0.0000000000 0.0000000000\n",
       "4  ~10~mM~NH[4]*Cl 4 0.0000000000 0.0000000000\n",
       "5  ~N~free         4 0.0338059923 0.0133262157\n",
       "6  ~10~mM~NH[4]*Cl 4 0.2006443592 0.0246518360\n",
       "7  ~N~free         4 0.4817315784 0.0110316850\n",
       "8  ~10~mM~NH[4]*Cl 4 0.0000000000 0.0000000000\n",
       "9  ~N~free         4 0.0007602433 0.0002869494\n",
       "10 ~10~mM~NH[4]*Cl 4 0.0000000000 0.0000000000\n",
       "11 ~N~free         4 0.6166993240 0.0096918487\n",
       "12 ~10~mM~NH[4]*Cl 4 0.1354701468 0.0071982585\n",
       "13 ~N~free         4 0.9259656874 0.1724717367\n",
       "14 ~10~mM~NH[4]*Cl 4 0.3025567014 0.1016077430"
      ]
     },
     "metadata": {},
     "output_type": "display_data"
    }
   ],
   "source": [
    "iv_ara_means <- iv_ara %>% \n",
    "group_by(g,strain_species,strain_name,strain,n_source) %>% \n",
    "summarize(n = n(), mean = mean(mmol_ethylene_od), se = sd(mmol_ethylene_od)/sqrt(n()))\n",
    "\n",
    "iv_ara_means"
   ]
  },
  {
   "cell_type": "markdown",
   "metadata": {},
   "source": [
    "Note that the `WT` and `nifKO` strains are there as process controls, such that we expect then to have very low or no `mmol_ethylene_od`, so we will exclude them from analysis"
   ]
  },
  {
   "cell_type": "code",
   "execution_count": 4,
   "metadata": {
    "vscode": {
     "languageId": "r"
    }
   },
   "outputs": [
    {
     "data": {
      "text/html": [
       "<table class=\"dataframe\">\n",
       "<caption>A grouped_df: 9 × 8</caption>\n",
       "<thead>\n",
       "\t<tr><th scope=col>g</th><th scope=col>strain_species</th><th scope=col>strain_name</th><th scope=col>strain</th><th scope=col>n_source</th><th scope=col>n</th><th scope=col>mean</th><th scope=col>se</th></tr>\n",
       "\t<tr><th scope=col>&lt;fct&gt;</th><th scope=col>&lt;fct&gt;</th><th scope=col>&lt;fct&gt;</th><th scope=col>&lt;fct&gt;</th><th scope=col>&lt;fct&gt;</th><th scope=col>&lt;int&gt;</th><th scope=col>&lt;dbl&gt;</th><th scope=col>&lt;dbl&gt;</th></tr>\n",
       "</thead>\n",
       "<tbody>\n",
       "\t<tr><td>11</td><td>Kosakonia sacchari  </td><td>WT (Ks6)                   </td><td>Ks6       </td><td>~N~free        </td><td>4</td><td>0.2308671184</td><td>0.0096683232</td></tr>\n",
       "\t<tr><td>31</td><td>Kosakonia sacchari  </td><td>Remodeled (Ks6-5687)       </td><td>Ks6-5687  </td><td>~N~free        </td><td>4</td><td>0.0338059923</td><td>0.0133262157</td></tr>\n",
       "\t<tr><td>32</td><td>Kosakonia sacchari  </td><td>Remodeled (Ks6-5687)       </td><td>Ks6-5687  </td><td>~10~mM~NH[4]*Cl</td><td>4</td><td>0.2006443592</td><td>0.0246518360</td></tr>\n",
       "\t<tr><td>41</td><td>Klebsiella variicola</td><td>WT (Kv137)                 </td><td>Kv137     </td><td>~N~free        </td><td>4</td><td>0.4817315784</td><td>0.0110316850</td></tr>\n",
       "\t<tr><td>51</td><td>Klebsiella variicola</td><td>nifKO (Kv137-7036)         </td><td>Kv137-7036</td><td>~N~free        </td><td>4</td><td>0.0007602433</td><td>0.0002869494</td></tr>\n",
       "\t<tr><td>61</td><td>Klebsiella variicola</td><td>Remodeled Gen1 (Kv137-1036)</td><td>Kv137-1036</td><td>~N~free        </td><td>4</td><td>0.6166993240</td><td>0.0096918487</td></tr>\n",
       "\t<tr><td>62</td><td>Klebsiella variicola</td><td>Remodeled Gen1 (Kv137-1036)</td><td>Kv137-1036</td><td>~10~mM~NH[4]*Cl</td><td>4</td><td>0.1354701468</td><td>0.0071982585</td></tr>\n",
       "\t<tr><td>71</td><td>Klebsiella variicola</td><td>Remodeled Gen2 (Kv137-2253)</td><td>Kv137-2253</td><td>~N~free        </td><td>4</td><td>0.9259656874</td><td>0.1724717367</td></tr>\n",
       "\t<tr><td>72</td><td>Klebsiella variicola</td><td>Remodeled Gen2 (Kv137-2253)</td><td>Kv137-2253</td><td>~10~mM~NH[4]*Cl</td><td>4</td><td>0.3025567014</td><td>0.1016077430</td></tr>\n",
       "</tbody>\n",
       "</table>\n"
      ],
      "text/latex": [
       "A grouped\\_df: 9 × 8\n",
       "\\begin{tabular}{llllllll}\n",
       " g & strain\\_species & strain\\_name & strain & n\\_source & n & mean & se\\\\\n",
       " <fct> & <fct> & <fct> & <fct> & <fct> & <int> & <dbl> & <dbl>\\\\\n",
       "\\hline\n",
       "\t 11 & Kosakonia sacchari   & WT (Ks6)                    & Ks6        & \\textasciitilde{}N\\textasciitilde{}free         & 4 & 0.2308671184 & 0.0096683232\\\\\n",
       "\t 31 & Kosakonia sacchari   & Remodeled (Ks6-5687)        & Ks6-5687   & \\textasciitilde{}N\\textasciitilde{}free         & 4 & 0.0338059923 & 0.0133262157\\\\\n",
       "\t 32 & Kosakonia sacchari   & Remodeled (Ks6-5687)        & Ks6-5687   & \\textasciitilde{}10\\textasciitilde{}mM\\textasciitilde{}NH{[}4{]}*Cl & 4 & 0.2006443592 & 0.0246518360\\\\\n",
       "\t 41 & Klebsiella variicola & WT (Kv137)                  & Kv137      & \\textasciitilde{}N\\textasciitilde{}free         & 4 & 0.4817315784 & 0.0110316850\\\\\n",
       "\t 51 & Klebsiella variicola & nifKO (Kv137-7036)          & Kv137-7036 & \\textasciitilde{}N\\textasciitilde{}free         & 4 & 0.0007602433 & 0.0002869494\\\\\n",
       "\t 61 & Klebsiella variicola & Remodeled Gen1 (Kv137-1036) & Kv137-1036 & \\textasciitilde{}N\\textasciitilde{}free         & 4 & 0.6166993240 & 0.0096918487\\\\\n",
       "\t 62 & Klebsiella variicola & Remodeled Gen1 (Kv137-1036) & Kv137-1036 & \\textasciitilde{}10\\textasciitilde{}mM\\textasciitilde{}NH{[}4{]}*Cl & 4 & 0.1354701468 & 0.0071982585\\\\\n",
       "\t 71 & Klebsiella variicola & Remodeled Gen2 (Kv137-2253) & Kv137-2253 & \\textasciitilde{}N\\textasciitilde{}free         & 4 & 0.9259656874 & 0.1724717367\\\\\n",
       "\t 72 & Klebsiella variicola & Remodeled Gen2 (Kv137-2253) & Kv137-2253 & \\textasciitilde{}10\\textasciitilde{}mM\\textasciitilde{}NH{[}4{]}*Cl & 4 & 0.3025567014 & 0.1016077430\\\\\n",
       "\\end{tabular}\n"
      ],
      "text/markdown": [
       "\n",
       "A grouped_df: 9 × 8\n",
       "\n",
       "| g &lt;fct&gt; | strain_species &lt;fct&gt; | strain_name &lt;fct&gt; | strain &lt;fct&gt; | n_source &lt;fct&gt; | n &lt;int&gt; | mean &lt;dbl&gt; | se &lt;dbl&gt; |\n",
       "|---|---|---|---|---|---|---|---|\n",
       "| 11 | Kosakonia sacchari   | WT (Ks6)                    | Ks6        | ~N~free         | 4 | 0.2308671184 | 0.0096683232 |\n",
       "| 31 | Kosakonia sacchari   | Remodeled (Ks6-5687)        | Ks6-5687   | ~N~free         | 4 | 0.0338059923 | 0.0133262157 |\n",
       "| 32 | Kosakonia sacchari   | Remodeled (Ks6-5687)        | Ks6-5687   | ~10~mM~NH[4]*Cl | 4 | 0.2006443592 | 0.0246518360 |\n",
       "| 41 | Klebsiella variicola | WT (Kv137)                  | Kv137      | ~N~free         | 4 | 0.4817315784 | 0.0110316850 |\n",
       "| 51 | Klebsiella variicola | nifKO (Kv137-7036)          | Kv137-7036 | ~N~free         | 4 | 0.0007602433 | 0.0002869494 |\n",
       "| 61 | Klebsiella variicola | Remodeled Gen1 (Kv137-1036) | Kv137-1036 | ~N~free         | 4 | 0.6166993240 | 0.0096918487 |\n",
       "| 62 | Klebsiella variicola | Remodeled Gen1 (Kv137-1036) | Kv137-1036 | ~10~mM~NH[4]*Cl | 4 | 0.1354701468 | 0.0071982585 |\n",
       "| 71 | Klebsiella variicola | Remodeled Gen2 (Kv137-2253) | Kv137-2253 | ~N~free         | 4 | 0.9259656874 | 0.1724717367 |\n",
       "| 72 | Klebsiella variicola | Remodeled Gen2 (Kv137-2253) | Kv137-2253 | ~10~mM~NH[4]*Cl | 4 | 0.3025567014 | 0.1016077430 |\n",
       "\n"
      ],
      "text/plain": [
       "  g  strain_species       strain_name                 strain    \n",
       "1 11 Kosakonia sacchari   WT (Ks6)                    Ks6       \n",
       "2 31 Kosakonia sacchari   Remodeled (Ks6-5687)        Ks6-5687  \n",
       "3 32 Kosakonia sacchari   Remodeled (Ks6-5687)        Ks6-5687  \n",
       "4 41 Klebsiella variicola WT (Kv137)                  Kv137     \n",
       "5 51 Klebsiella variicola nifKO (Kv137-7036)          Kv137-7036\n",
       "6 61 Klebsiella variicola Remodeled Gen1 (Kv137-1036) Kv137-1036\n",
       "7 62 Klebsiella variicola Remodeled Gen1 (Kv137-1036) Kv137-1036\n",
       "8 71 Klebsiella variicola Remodeled Gen2 (Kv137-2253) Kv137-2253\n",
       "9 72 Klebsiella variicola Remodeled Gen2 (Kv137-2253) Kv137-2253\n",
       "  n_source        n mean         se          \n",
       "1 ~N~free         4 0.2308671184 0.0096683232\n",
       "2 ~N~free         4 0.0338059923 0.0133262157\n",
       "3 ~10~mM~NH[4]*Cl 4 0.2006443592 0.0246518360\n",
       "4 ~N~free         4 0.4817315784 0.0110316850\n",
       "5 ~N~free         4 0.0007602433 0.0002869494\n",
       "6 ~N~free         4 0.6166993240 0.0096918487\n",
       "7 ~10~mM~NH[4]*Cl 4 0.1354701468 0.0071982585\n",
       "8 ~N~free         4 0.9259656874 0.1724717367\n",
       "9 ~10~mM~NH[4]*Cl 4 0.3025567014 0.1016077430"
      ]
     },
     "metadata": {},
     "output_type": "display_data"
    }
   ],
   "source": [
    "iv_ara_means %>% filter(mean > 0)"
   ]
  },
  {
   "cell_type": "markdown",
   "metadata": {},
   "source": [
    "## Analysis for Kosakonia sacchari\n",
    "### We check assumption of equal variances"
   ]
  },
  {
   "cell_type": "code",
   "execution_count": 5,
   "metadata": {
    "vscode": {
     "languageId": "r"
    }
   },
   "outputs": [],
   "source": [
    "iv_ara_ks <- filter(iv_ara, strain %in% c(\"Ks6\",\"Ks6-5687\"), !(strain == \"Ks6\"  & assay_n_source == \"10 mM AmCl\")) "
   ]
  },
  {
   "cell_type": "code",
   "execution_count": 6,
   "metadata": {
    "vscode": {
     "languageId": "r"
    }
   },
   "outputs": [
    {
     "data": {
      "text/html": [
       "<table class=\"dataframe\">\n",
       "<caption>A anova: 2 × 3</caption>\n",
       "<thead>\n",
       "\t<tr><th></th><th scope=col>Df</th><th scope=col>F value</th><th scope=col>Pr(&gt;F)</th></tr>\n",
       "\t<tr><th></th><th scope=col>&lt;int&gt;</th><th scope=col>&lt;dbl&gt;</th><th scope=col>&lt;dbl&gt;</th></tr>\n",
       "</thead>\n",
       "<tbody>\n",
       "\t<tr><th scope=row>group</th><td>2</td><td>0.6510237</td><td>0.5444216</td></tr>\n",
       "\t<tr><th scope=row> </th><td>9</td><td>       NA</td><td>       NA</td></tr>\n",
       "</tbody>\n",
       "</table>\n"
      ],
      "text/latex": [
       "A anova: 2 × 3\n",
       "\\begin{tabular}{r|lll}\n",
       "  & Df & F value & Pr(>F)\\\\\n",
       "  & <int> & <dbl> & <dbl>\\\\\n",
       "\\hline\n",
       "\tgroup & 2 & 0.6510237 & 0.5444216\\\\\n",
       "\t  & 9 &        NA &        NA\\\\\n",
       "\\end{tabular}\n"
      ],
      "text/markdown": [
       "\n",
       "A anova: 2 × 3\n",
       "\n",
       "| <!--/--> | Df &lt;int&gt; | F value &lt;dbl&gt; | Pr(&gt;F) &lt;dbl&gt; |\n",
       "|---|---|---|---|\n",
       "| group | 2 | 0.6510237 | 0.5444216 |\n",
       "| <!----> | 9 |        NA |        NA |\n",
       "\n"
      ],
      "text/plain": [
       "      Df F value   Pr(>F)   \n",
       "group 2  0.6510237 0.5444216\n",
       "      9         NA        NA"
      ]
     },
     "metadata": {},
     "output_type": "display_data"
    }
   ],
   "source": [
    "iv_ara_ks %>% \n",
    "leveneTest(mmol_ethylene_od ~ g, data = .)\n",
    "\n"
   ]
  },
  {
   "cell_type": "markdown",
   "metadata": {},
   "source": [
    "Some evidence that variances are unequal across treatments "
   ]
  },
  {
   "cell_type": "code",
   "execution_count": 7,
   "metadata": {
    "vscode": {
     "languageId": "r"
    }
   },
   "outputs": [
    {
     "data": {
      "image/png": "[encoded data removed]",
      "text/plain": [
       "Plot with title \"\""
      ]
     },
     "metadata": {
      "image/png": {
       "height": 300,
       "width": 300
      }
     },
     "output_type": "display_data"
    },
    {
     "data": {
      "image/png": "[encoded data removed]",
      "text/plain": [
       "Plot with title \"\""
      ]
     },
     "metadata": {
      "image/png": {
       "height": 300,
       "width": 300
      }
     },
     "output_type": "display_data"
    },
    {
     "data": {
      "image/png": "[encoded data removed]",
      "text/plain": [
       "Plot with title \"\""
      ]
     },
     "metadata": {
      "image/png": {
       "height": 300,
       "width": 300
      }
     },
     "output_type": "display_data"
    },
    {
     "data": {
      "image/png": "[encoded data removed]",
      "text/plain": [
       "Plot with title \"\""
      ]
     },
     "metadata": {
      "image/png": {
       "height": 300,
       "width": 300
      }
     },
     "output_type": "display_data"
    }
   ],
   "source": [
    "iv_ara_ks_mod <- lm(mmol_ethylene_od ~ g, iv_ara_ks)\n",
    "plot(iv_ara_ks_mod)"
   ]
  },
  {
   "cell_type": "code",
   "execution_count": 8,
   "metadata": {
    "vscode": {
     "languageId": "r"
    }
   },
   "outputs": [
    {
     "data": {
      "text/plain": [
       "\n",
       "Call:\n",
       "lm(formula = mmol_ethylene_od ~ g, data = iv_ara_ks)\n",
       "\n",
       "Residuals:\n",
       "      Min        1Q    Median        3Q       Max \n",
       "-0.065351 -0.013759  0.002908  0.011143  0.054237 \n",
       "\n",
       "Coefficients:\n",
       "            Estimate Std. Error t value Pr(>|t|)    \n",
       "(Intercept)  0.23087    0.01712  13.489 2.83e-07 ***\n",
       "g31         -0.19706    0.02420  -8.142 1.92e-05 ***\n",
       "g32         -0.03022    0.02420  -1.249    0.243    \n",
       "---\n",
       "Signif. codes:  0 '***' 0.001 '**' 0.01 '*' 0.05 '.' 0.1 ' ' 1\n",
       "\n",
       "Residual standard error: 0.03423 on 9 degrees of freedom\n",
       "Multiple R-squared:  0.8952,\tAdjusted R-squared:  0.872 \n",
       "F-statistic: 38.45 on 2 and 9 DF,  p-value: 3.9e-05\n"
      ]
     },
     "metadata": {},
     "output_type": "display_data"
    }
   ],
   "source": [
    "summary(iv_ara_ks_mod)"
   ]
  },
  {
   "cell_type": "markdown",
   "metadata": {},
   "source": [
    "### Calulate LS means and mean-separation"
   ]
  },
  {
   "cell_type": "code",
   "execution_count": 9,
   "metadata": {
    "vscode": {
     "languageId": "r"
    }
   },
   "outputs": [
    {
     "name": "stderr",
     "output_type": "stream",
     "text": [
      "Note: adjust = \"tukey\" was changed to \"sidak\"\n",
      "because \"tukey\" is only appropriate for one set of pairwise comparisons\n",
      "\n",
      "\u001b[1m\u001b[22m`summarise()` has grouped output by 'g', 'strain', 'strain_name',\n",
      "'strain_species', 'assay_n_source'. You can override using the `.groups`\n",
      "argument.\n",
      "\u001b[1m\u001b[22mJoining with `by = join_by(g)`\n"
     ]
    },
    {
     "data": {
      "text/html": [
       "<table class=\"dataframe\">\n",
       "<caption>A summary_emm: 3 × 13</caption>\n",
       "<thead>\n",
       "\t<tr><th scope=col>g</th><th scope=col>emmean</th><th scope=col>SE</th><th scope=col>df</th><th scope=col>lower.CL</th><th scope=col>upper.CL</th><th scope=col>.group</th><th scope=col>strain</th><th scope=col>strain_name</th><th scope=col>strain_species</th><th scope=col>assay_n_source</th><th scope=col>n_source</th><th scope=col>y</th></tr>\n",
       "\t<tr><th scope=col>&lt;fct&gt;</th><th scope=col>&lt;dbl&gt;</th><th scope=col>&lt;dbl&gt;</th><th scope=col>&lt;dbl&gt;</th><th scope=col>&lt;dbl&gt;</th><th scope=col>&lt;dbl&gt;</th><th scope=col>&lt;chr&gt;</th><th scope=col>&lt;fct&gt;</th><th scope=col>&lt;fct&gt;</th><th scope=col>&lt;fct&gt;</th><th scope=col>&lt;fct&gt;</th><th scope=col>&lt;fct&gt;</th><th scope=col>&lt;dbl&gt;</th></tr>\n",
       "</thead>\n",
       "<tbody>\n",
       "\t<tr><td>31</td><td>0.03380599</td><td>0.01711508</td><td>9</td><td>-0.01621918</td><td>0.08383117</td><td> a </td><td>Ks6-5687</td><td>Remodeled (Ks6-5687)</td><td>Kosakonia sacchari</td><td>0 mM AmCl </td><td>~N~free        </td><td>0.04713221</td></tr>\n",
       "\t<tr><td>32</td><td>0.20064436</td><td>0.01711508</td><td>9</td><td> 0.15061918</td><td>0.25066954</td><td>  b</td><td>Ks6-5687</td><td>Remodeled (Ks6-5687)</td><td>Kosakonia sacchari</td><td>10 mM AmCl</td><td>~10~mM~NH[4]*Cl</td><td>0.22529620</td></tr>\n",
       "\t<tr><td>11</td><td>0.23086712</td><td>0.01711508</td><td>9</td><td> 0.18084194</td><td>0.28089229</td><td>  b</td><td>Ks6     </td><td>WT (Ks6)            </td><td>Kosakonia sacchari</td><td>0 mM AmCl </td><td>~N~free        </td><td>0.24053544</td></tr>\n",
       "</tbody>\n",
       "</table>\n"
      ],
      "text/latex": [
       "A summary\\_emm: 3 × 13\n",
       "\\begin{tabular}{lllllllllllll}\n",
       " g & emmean & SE & df & lower.CL & upper.CL & .group & strain & strain\\_name & strain\\_species & assay\\_n\\_source & n\\_source & y\\\\\n",
       " <fct> & <dbl> & <dbl> & <dbl> & <dbl> & <dbl> & <chr> & <fct> & <fct> & <fct> & <fct> & <fct> & <dbl>\\\\\n",
       "\\hline\n",
       "\t 31 & 0.03380599 & 0.01711508 & 9 & -0.01621918 & 0.08383117 &  a  & Ks6-5687 & Remodeled (Ks6-5687) & Kosakonia sacchari & 0 mM AmCl  & \\textasciitilde{}N\\textasciitilde{}free         & 0.04713221\\\\\n",
       "\t 32 & 0.20064436 & 0.01711508 & 9 &  0.15061918 & 0.25066954 &   b & Ks6-5687 & Remodeled (Ks6-5687) & Kosakonia sacchari & 10 mM AmCl & \\textasciitilde{}10\\textasciitilde{}mM\\textasciitilde{}NH{[}4{]}*Cl & 0.22529620\\\\\n",
       "\t 11 & 0.23086712 & 0.01711508 & 9 &  0.18084194 & 0.28089229 &   b & Ks6      & WT (Ks6)             & Kosakonia sacchari & 0 mM AmCl  & \\textasciitilde{}N\\textasciitilde{}free         & 0.24053544\\\\\n",
       "\\end{tabular}\n"
      ],
      "text/markdown": [
       "\n",
       "A summary_emm: 3 × 13\n",
       "\n",
       "| g &lt;fct&gt; | emmean &lt;dbl&gt; | SE &lt;dbl&gt; | df &lt;dbl&gt; | lower.CL &lt;dbl&gt; | upper.CL &lt;dbl&gt; | .group &lt;chr&gt; | strain &lt;fct&gt; | strain_name &lt;fct&gt; | strain_species &lt;fct&gt; | assay_n_source &lt;fct&gt; | n_source &lt;fct&gt; | y &lt;dbl&gt; |\n",
       "|---|---|---|---|---|---|---|---|---|---|---|---|---|\n",
       "| 31 | 0.03380599 | 0.01711508 | 9 | -0.01621918 | 0.08383117 |  a  | Ks6-5687 | Remodeled (Ks6-5687) | Kosakonia sacchari | 0 mM AmCl  | ~N~free         | 0.04713221 |\n",
       "| 32 | 0.20064436 | 0.01711508 | 9 |  0.15061918 | 0.25066954 |   b | Ks6-5687 | Remodeled (Ks6-5687) | Kosakonia sacchari | 10 mM AmCl | ~10~mM~NH[4]*Cl | 0.22529620 |\n",
       "| 11 | 0.23086712 | 0.01711508 | 9 |  0.18084194 | 0.28089229 |   b | Ks6      | WT (Ks6)             | Kosakonia sacchari | 0 mM AmCl  | ~N~free         | 0.24053544 |\n",
       "\n"
      ],
      "text/plain": [
       "  g  emmean     SE         df lower.CL    upper.CL   .group strain  \n",
       "1 31 0.03380599 0.01711508 9  -0.01621918 0.08383117  a     Ks6-5687\n",
       "2 32 0.20064436 0.01711508 9   0.15061918 0.25066954   b    Ks6-5687\n",
       "3 11 0.23086712 0.01711508 9   0.18084194 0.28089229   b    Ks6     \n",
       "  strain_name          strain_species     assay_n_source n_source       \n",
       "1 Remodeled (Ks6-5687) Kosakonia sacchari 0 mM AmCl      ~N~free        \n",
       "2 Remodeled (Ks6-5687) Kosakonia sacchari 10 mM AmCl     ~10~mM~NH[4]*Cl\n",
       "3 WT (Ks6)             Kosakonia sacchari 0 mM AmCl      ~N~free        \n",
       "  y         \n",
       "1 0.04713221\n",
       "2 0.22529620\n",
       "3 0.24053544"
      ]
     },
     "metadata": {},
     "output_type": "display_data"
    }
   ],
   "source": [
    "iv_ara_ks_emm <- emmeans(iv_ara_ks_mod, ~ g, adjust = \"tukey\", type = \"response\") %>% \n",
    "cld(Letters = letters) %>%\n",
    "left_join(\n",
    "    iv_ara %>% \n",
    "    group_by(g,strain,strain_name,strain_species,assay_n_source,n_source) %>% \n",
    "    ### A helper varaible to help position the letters in the plot\n",
    "    summarize(y = mean(mmol_ethylene_od) + sd(mmol_ethylene_od)/sqrt(n()))) \n",
    "\n",
    "iv_ara_ks_emm"
   ]
  },
  {
   "cell_type": "markdown",
   "metadata": {},
   "source": [
    "## Analysis for Klebsiella variicola"
   ]
  },
  {
   "cell_type": "code",
   "execution_count": 10,
   "metadata": {
    "vscode": {
     "languageId": "r"
    }
   },
   "outputs": [],
   "source": [
    "iv_ara_kv <- filter(iv_ara, strain %in% c('Kv137','Kv137-1036','Kv137-2253'), !(strain == \"Kv137\"  & assay_n_source == \"10 mM AmCl\")) "
   ]
  },
  {
   "cell_type": "code",
   "execution_count": 11,
   "metadata": {
    "vscode": {
     "languageId": "r"
    }
   },
   "outputs": [
    {
     "data": {
      "text/html": [
       "<table class=\"dataframe\">\n",
       "<caption>A anova: 2 × 3</caption>\n",
       "<thead>\n",
       "\t<tr><th></th><th scope=col>Df</th><th scope=col>F value</th><th scope=col>Pr(&gt;F)</th></tr>\n",
       "\t<tr><th></th><th scope=col>&lt;int&gt;</th><th scope=col>&lt;dbl&gt;</th><th scope=col>&lt;dbl&gt;</th></tr>\n",
       "</thead>\n",
       "<tbody>\n",
       "\t<tr><th scope=row>group</th><td> 4</td><td>1.512569</td><td>0.2485077</td></tr>\n",
       "\t<tr><th scope=row> </th><td>15</td><td>      NA</td><td>       NA</td></tr>\n",
       "</tbody>\n",
       "</table>\n"
      ],
      "text/latex": [
       "A anova: 2 × 3\n",
       "\\begin{tabular}{r|lll}\n",
       "  & Df & F value & Pr(>F)\\\\\n",
       "  & <int> & <dbl> & <dbl>\\\\\n",
       "\\hline\n",
       "\tgroup &  4 & 1.512569 & 0.2485077\\\\\n",
       "\t  & 15 &       NA &        NA\\\\\n",
       "\\end{tabular}\n"
      ],
      "text/markdown": [
       "\n",
       "A anova: 2 × 3\n",
       "\n",
       "| <!--/--> | Df &lt;int&gt; | F value &lt;dbl&gt; | Pr(&gt;F) &lt;dbl&gt; |\n",
       "|---|---|---|---|\n",
       "| group |  4 | 1.512569 | 0.2485077 |\n",
       "| <!----> | 15 |       NA |        NA |\n",
       "\n"
      ],
      "text/plain": [
       "      Df F value  Pr(>F)   \n",
       "group  4 1.512569 0.2485077\n",
       "      15       NA        NA"
      ]
     },
     "metadata": {},
     "output_type": "display_data"
    }
   ],
   "source": [
    "### We check assumption of equal variances\n",
    "\n",
    "iv_ara_kv %>% \n",
    "leveneTest(mmol_ethylene_od ~ g, data = .)\n",
    "\n"
   ]
  },
  {
   "cell_type": "markdown",
   "metadata": {},
   "source": [
    "No evidence that variances are unequal across treatments "
   ]
  },
  {
   "cell_type": "code",
   "execution_count": 12,
   "metadata": {
    "vscode": {
     "languageId": "r"
    }
   },
   "outputs": [
    {
     "data": {
      "image/png": "[encoded data removed]",
      "text/plain": [
       "Plot with title \"\""
      ]
     },
     "metadata": {
      "image/png": {
       "height": 300,
       "width": 300
      }
     },
     "output_type": "display_data"
    },
    {
     "data": {
      "image/png": "[encoded data removed]",
      "text/plain": [
       "Plot with title \"\""
      ]
     },
     "metadata": {
      "image/png": {
       "height": 300,
       "width": 300
      }
     },
     "output_type": "display_data"
    },
    {
     "data": {
      "image/png": "[encoded data removed]",
      "text/plain": [
       "Plot with title \"\""
      ]
     },
     "metadata": {
      "image/png": {
       "height": 300,
       "width": 300
      }
     },
     "output_type": "display_data"
    },
    {
     "data": {
      "image/png": "[encoded data removed]",
      "text/plain": [
       "Plot with title \"\""
      ]
     },
     "metadata": {
      "image/png": {
       "height": 300,
       "width": 300
      }
     },
     "output_type": "display_data"
    }
   ],
   "source": [
    "iv_ara_kv_mod <- lm(mmol_ethylene_od ~ g, iv_ara_kv)\n",
    "plot(iv_ara_kv_mod)"
   ]
  },
  {
   "cell_type": "code",
   "execution_count": 13,
   "metadata": {
    "vscode": {
     "languageId": "r"
    }
   },
   "outputs": [
    {
     "data": {
      "text/plain": [
       "\n",
       "Call:\n",
       "lm(formula = mmol_ethylene_od ~ g, data = iv_ara_kv)\n",
       "\n",
       "Residuals:\n",
       "     Min       1Q   Median       3Q      Max \n",
       "-0.24710 -0.03471 -0.00764  0.02136  0.51079 \n",
       "\n",
       "Coefficients:\n",
       "            Estimate Std. Error t value Pr(>|t|)    \n",
       "(Intercept)  0.48173    0.08982   5.363  7.9e-05 ***\n",
       "g61          0.13497    0.12702   1.063  0.30480    \n",
       "g62         -0.34626    0.12702  -2.726  0.01562 *  \n",
       "g71          0.44423    0.12702   3.497  0.00324 ** \n",
       "g72         -0.17917    0.12702  -1.411  0.17878    \n",
       "---\n",
       "Signif. codes:  0 '***' 0.001 '**' 0.01 '*' 0.05 '.' 0.1 ' ' 1\n",
       "\n",
       "Residual standard error: 0.1796 on 15 degrees of freedom\n",
       "Multiple R-squared:  0.752,\tAdjusted R-squared:  0.6859 \n",
       "F-statistic: 11.37 on 4 and 15 DF,  p-value: 0.0001907\n"
      ]
     },
     "metadata": {},
     "output_type": "display_data"
    }
   ],
   "source": [
    "summary(iv_ara_kv_mod)"
   ]
  },
  {
   "cell_type": "markdown",
   "metadata": {},
   "source": [
    "### Calulate LS means and mean-separation"
   ]
  },
  {
   "cell_type": "code",
   "execution_count": 14,
   "metadata": {
    "vscode": {
     "languageId": "r"
    }
   },
   "outputs": [
    {
     "name": "stderr",
     "output_type": "stream",
     "text": [
      "Note: adjust = \"tukey\" was changed to \"sidak\"\n",
      "because \"tukey\" is only appropriate for one set of pairwise comparisons\n",
      "\n",
      "\u001b[1m\u001b[22m`summarise()` has grouped output by 'g', 'strain', 'strain_name',\n",
      "'strain_species', 'assay_n_source'. You can override using the `.groups`\n",
      "argument.\n",
      "\u001b[1m\u001b[22mJoining with `by = join_by(g)`\n"
     ]
    },
    {
     "data": {
      "text/html": [
       "<table class=\"dataframe\">\n",
       "<caption>A summary_emm: 5 × 13</caption>\n",
       "<thead>\n",
       "\t<tr><th scope=col>g</th><th scope=col>emmean</th><th scope=col>SE</th><th scope=col>df</th><th scope=col>lower.CL</th><th scope=col>upper.CL</th><th scope=col>.group</th><th scope=col>strain</th><th scope=col>strain_name</th><th scope=col>strain_species</th><th scope=col>assay_n_source</th><th scope=col>n_source</th><th scope=col>y</th></tr>\n",
       "\t<tr><th scope=col>&lt;fct&gt;</th><th scope=col>&lt;dbl&gt;</th><th scope=col>&lt;dbl&gt;</th><th scope=col>&lt;dbl&gt;</th><th scope=col>&lt;dbl&gt;</th><th scope=col>&lt;dbl&gt;</th><th scope=col>&lt;chr&gt;</th><th scope=col>&lt;fct&gt;</th><th scope=col>&lt;fct&gt;</th><th scope=col>&lt;fct&gt;</th><th scope=col>&lt;fct&gt;</th><th scope=col>&lt;fct&gt;</th><th scope=col>&lt;dbl&gt;</th></tr>\n",
       "</thead>\n",
       "<tbody>\n",
       "\t<tr><td>62</td><td>0.1354701</td><td>0.08981991</td><td>15</td><td>-0.12830088</td><td>0.3992412</td><td> a  </td><td>Kv137-1036</td><td>Remodeled Gen1 (Kv137-1036)</td><td>Klebsiella variicola</td><td>10 mM AmCl</td><td>~10~mM~NH[4]*Cl</td><td>0.1426684</td></tr>\n",
       "\t<tr><td>72</td><td>0.3025567</td><td>0.08981991</td><td>15</td><td> 0.03878568</td><td>0.5663277</td><td> ab </td><td>Kv137-2253</td><td>Remodeled Gen2 (Kv137-2253)</td><td>Klebsiella variicola</td><td>10 mM AmCl</td><td>~10~mM~NH[4]*Cl</td><td>0.4041644</td></tr>\n",
       "\t<tr><td>41</td><td>0.4817316</td><td>0.08981991</td><td>15</td><td> 0.21796055</td><td>0.7455026</td><td> ab </td><td>Kv137     </td><td>WT (Kv137)                 </td><td>Klebsiella variicola</td><td>0 mM AmCl </td><td>~N~free        </td><td>0.4927633</td></tr>\n",
       "\t<tr><td>61</td><td>0.6166993</td><td>0.08981991</td><td>15</td><td> 0.35292830</td><td>0.8804703</td><td>  bc</td><td>Kv137-1036</td><td>Remodeled Gen1 (Kv137-1036)</td><td>Klebsiella variicola</td><td>0 mM AmCl </td><td>~N~free        </td><td>0.6263912</td></tr>\n",
       "\t<tr><td>71</td><td>0.9259657</td><td>0.08981991</td><td>15</td><td> 0.66219466</td><td>1.1897367</td><td>   c</td><td>Kv137-2253</td><td>Remodeled Gen2 (Kv137-2253)</td><td>Klebsiella variicola</td><td>0 mM AmCl </td><td>~N~free        </td><td>1.0984374</td></tr>\n",
       "</tbody>\n",
       "</table>\n"
      ],
      "text/latex": [
       "A summary\\_emm: 5 × 13\n",
       "\\begin{tabular}{lllllllllllll}\n",
       " g & emmean & SE & df & lower.CL & upper.CL & .group & strain & strain\\_name & strain\\_species & assay\\_n\\_source & n\\_source & y\\\\\n",
       " <fct> & <dbl> & <dbl> & <dbl> & <dbl> & <dbl> & <chr> & <fct> & <fct> & <fct> & <fct> & <fct> & <dbl>\\\\\n",
       "\\hline\n",
       "\t 62 & 0.1354701 & 0.08981991 & 15 & -0.12830088 & 0.3992412 &  a   & Kv137-1036 & Remodeled Gen1 (Kv137-1036) & Klebsiella variicola & 10 mM AmCl & \\textasciitilde{}10\\textasciitilde{}mM\\textasciitilde{}NH{[}4{]}*Cl & 0.1426684\\\\\n",
       "\t 72 & 0.3025567 & 0.08981991 & 15 &  0.03878568 & 0.5663277 &  ab  & Kv137-2253 & Remodeled Gen2 (Kv137-2253) & Klebsiella variicola & 10 mM AmCl & \\textasciitilde{}10\\textasciitilde{}mM\\textasciitilde{}NH{[}4{]}*Cl & 0.4041644\\\\\n",
       "\t 41 & 0.4817316 & 0.08981991 & 15 &  0.21796055 & 0.7455026 &  ab  & Kv137      & WT (Kv137)                  & Klebsiella variicola & 0 mM AmCl  & \\textasciitilde{}N\\textasciitilde{}free         & 0.4927633\\\\\n",
       "\t 61 & 0.6166993 & 0.08981991 & 15 &  0.35292830 & 0.8804703 &   bc & Kv137-1036 & Remodeled Gen1 (Kv137-1036) & Klebsiella variicola & 0 mM AmCl  & \\textasciitilde{}N\\textasciitilde{}free         & 0.6263912\\\\\n",
       "\t 71 & 0.9259657 & 0.08981991 & 15 &  0.66219466 & 1.1897367 &    c & Kv137-2253 & Remodeled Gen2 (Kv137-2253) & Klebsiella variicola & 0 mM AmCl  & \\textasciitilde{}N\\textasciitilde{}free         & 1.0984374\\\\\n",
       "\\end{tabular}\n"
      ],
      "text/markdown": [
       "\n",
       "A summary_emm: 5 × 13\n",
       "\n",
       "| g &lt;fct&gt; | emmean &lt;dbl&gt; | SE &lt;dbl&gt; | df &lt;dbl&gt; | lower.CL &lt;dbl&gt; | upper.CL &lt;dbl&gt; | .group &lt;chr&gt; | strain &lt;fct&gt; | strain_name &lt;fct&gt; | strain_species &lt;fct&gt; | assay_n_source &lt;fct&gt; | n_source &lt;fct&gt; | y &lt;dbl&gt; |\n",
       "|---|---|---|---|---|---|---|---|---|---|---|---|---|\n",
       "| 62 | 0.1354701 | 0.08981991 | 15 | -0.12830088 | 0.3992412 |  a   | Kv137-1036 | Remodeled Gen1 (Kv137-1036) | Klebsiella variicola | 10 mM AmCl | ~10~mM~NH[4]*Cl | 0.1426684 |\n",
       "| 72 | 0.3025567 | 0.08981991 | 15 |  0.03878568 | 0.5663277 |  ab  | Kv137-2253 | Remodeled Gen2 (Kv137-2253) | Klebsiella variicola | 10 mM AmCl | ~10~mM~NH[4]*Cl | 0.4041644 |\n",
       "| 41 | 0.4817316 | 0.08981991 | 15 |  0.21796055 | 0.7455026 |  ab  | Kv137      | WT (Kv137)                  | Klebsiella variicola | 0 mM AmCl  | ~N~free         | 0.4927633 |\n",
       "| 61 | 0.6166993 | 0.08981991 | 15 |  0.35292830 | 0.8804703 |   bc | Kv137-1036 | Remodeled Gen1 (Kv137-1036) | Klebsiella variicola | 0 mM AmCl  | ~N~free         | 0.6263912 |\n",
       "| 71 | 0.9259657 | 0.08981991 | 15 |  0.66219466 | 1.1897367 |    c | Kv137-2253 | Remodeled Gen2 (Kv137-2253) | Klebsiella variicola | 0 mM AmCl  | ~N~free         | 1.0984374 |\n",
       "\n"
      ],
      "text/plain": [
       "  g  emmean    SE         df lower.CL    upper.CL  .group strain    \n",
       "1 62 0.1354701 0.08981991 15 -0.12830088 0.3992412  a     Kv137-1036\n",
       "2 72 0.3025567 0.08981991 15  0.03878568 0.5663277  ab    Kv137-2253\n",
       "3 41 0.4817316 0.08981991 15  0.21796055 0.7455026  ab    Kv137     \n",
       "4 61 0.6166993 0.08981991 15  0.35292830 0.8804703   bc   Kv137-1036\n",
       "5 71 0.9259657 0.08981991 15  0.66219466 1.1897367    c   Kv137-2253\n",
       "  strain_name                 strain_species       assay_n_source\n",
       "1 Remodeled Gen1 (Kv137-1036) Klebsiella variicola 10 mM AmCl    \n",
       "2 Remodeled Gen2 (Kv137-2253) Klebsiella variicola 10 mM AmCl    \n",
       "3 WT (Kv137)                  Klebsiella variicola 0 mM AmCl     \n",
       "4 Remodeled Gen1 (Kv137-1036) Klebsiella variicola 0 mM AmCl     \n",
       "5 Remodeled Gen2 (Kv137-2253) Klebsiella variicola 0 mM AmCl     \n",
       "  n_source        y        \n",
       "1 ~10~mM~NH[4]*Cl 0.1426684\n",
       "2 ~10~mM~NH[4]*Cl 0.4041644\n",
       "3 ~N~free         0.4927633\n",
       "4 ~N~free         0.6263912\n",
       "5 ~N~free         1.0984374"
      ]
     },
     "metadata": {},
     "output_type": "display_data"
    }
   ],
   "source": [
    "iv_ara_kv_emm <- emmeans(iv_ara_kv_mod, ~ g, adjust = \"tukey\", type = \"response\") %>% \n",
    "cld(Letters = letters) %>%\n",
    "left_join(\n",
    "    iv_ara %>% \n",
    "    group_by(g,strain,strain_name,strain_species,assay_n_source,n_source) %>% \n",
    "    ### A helper varaible to help position the letters in the plot\n",
    "    summarize(y = mean(mmol_ethylene_od) + sd(mmol_ethylene_od)/sqrt(n()))) \n",
    "\n",
    "iv_ara_kv_emm"
   ]
  },
  {
   "cell_type": "markdown",
   "metadata": {},
   "source": [
    "### ARA plot"
   ]
  },
  {
   "cell_type": "code",
   "execution_count": 15,
   "metadata": {
    "vscode": {
     "languageId": "r"
    }
   },
   "outputs": [
    {
     "data": {
      "image/png": "[encoded data removed]",
      "text/plain": [
       "plot without title"
      ]
     },
     "metadata": {
      "image/png": {
       "height": 360,
       "width": 480
      }
     },
     "output_type": "display_data"
    }
   ],
   "source": [
    "options(repr.plot.width=8, repr.plot.height=6)\n",
    "\n",
    "iv_ara_plot <- iv_ara_means %>% \n",
    "ggplot(aes(strain_name, mean, fill = n_source)) + \n",
    "geom_col(colour = \"gray10\", position = position_dodge(), width = 0.5) + \n",
    "geom_errorbar(aes(ymin = mean - se, ymax = mean + se), position = position_dodge(width = 0.5), width = 0.3) + \n",
    "facet_wrap(~strain_species, scales= \"free_x\" ) + \n",
    "geom_text(aes(y = y + 0.05, label = gsub(\" \",\"\",.group)), data = bind_rows(iv_ara_kv_emm,iv_ara_ks_emm), position = position_dodge(width = 0.5))  + \n",
    "scale_fill_manual(values = myColorPalette,labels = parse_format()) +\n",
    "theme(legend.position = \"top\", axis.text.x = element_text(angle = 45, hjust = 1, vjust = 1), strip.text = element_text(size = 16, face = \"italic\") ) + \n",
    "labs(y = expression(\"mmol ethylene\"~~OD^-1), x = \"\", fill = \"N treatment:\")\n",
    "\n",
    "iv_ara_plot"
   ]
  },
  {
   "cell_type": "markdown",
   "metadata": {},
   "source": [
    "## In-vitro Ammonium excretion assay (AMM)\n",
    "\n",
    "In vitro experiment that measured excretion of NH4 by seven strains:\n",
    "- 2 Wildtypes (Ks6, Kv137)\n",
    "- 2 NifKO (Ks6-7023, Kv137-7036)\n",
    "- 3 remodeled strains ('Ks6-5687','Kv137-1036','Kv137-2253')\t\n",
    "\n",
    "The experiment was conducted in N-free conditions\n",
    "\n",
    "Independed variable is  `nh4_od_mm_od`, mmol of NH4 corrected by the microbial biomass as estimated by optical density (OD)\n"
   ]
  },
  {
   "cell_type": "code",
   "execution_count": 16,
   "metadata": {
    "vscode": {
     "languageId": "r"
    }
   },
   "outputs": [
    {
     "data": {
      "text/html": [
       "<style>\n",
       ".list-inline {list-style: none; margin:0; padding: 0}\n",
       ".list-inline>li {display: inline-block}\n",
       ".list-inline>li:not(:last-child)::after {content: \"\\00b7\"; padding: 0 .5ex}\n",
       "</style>\n",
       "<ol class=list-inline><li>'Strain'</li><li>'Assay ID'</li><li>'Sample ID'</li><li>'Parent'</li><li>'Genotype'</li><li>'Replicate'</li><li>'Starting OD590'</li><li>'Ending OD590'</li><li>'[NH4+] (mM)'</li><li>'[NH4+]/OD (mM/OD)'</li><li>'Duration (Hours)'</li><li>'[NH4+]/OD\\'hr (mM/OD\\'hr)'</li></ol>\n"
      ],
      "text/latex": [
       "\\begin{enumerate*}\n",
       "\\item 'Strain'\n",
       "\\item 'Assay ID'\n",
       "\\item 'Sample ID'\n",
       "\\item 'Parent'\n",
       "\\item 'Genotype'\n",
       "\\item 'Replicate'\n",
       "\\item 'Starting OD590'\n",
       "\\item 'Ending OD590'\n",
       "\\item '{[}NH4+{]} (mM)'\n",
       "\\item '{[}NH4+{]}/OD (mM/OD)'\n",
       "\\item 'Duration (Hours)'\n",
       "\\item '{[}NH4+{]}/OD\\textbackslash{}'hr (mM/OD\\textbackslash{}'hr)'\n",
       "\\end{enumerate*}\n"
      ],
      "text/markdown": [
       "1. 'Strain'\n",
       "2. 'Assay ID'\n",
       "3. 'Sample ID'\n",
       "4. 'Parent'\n",
       "5. 'Genotype'\n",
       "6. 'Replicate'\n",
       "7. 'Starting OD590'\n",
       "8. 'Ending OD590'\n",
       "9. '[NH4+] (mM)'\n",
       "10. '[NH4+]/OD (mM/OD)'\n",
       "11. 'Duration (Hours)'\n",
       "12. '[NH4+]/OD\\'hr (mM/OD\\'hr)'\n",
       "\n",
       "\n"
      ],
      "text/plain": [
       " [1] \"Strain\"                  \"Assay ID\"               \n",
       " [3] \"Sample ID\"               \"Parent\"                 \n",
       " [5] \"Genotype\"                \"Replicate\"              \n",
       " [7] \"Starting OD590\"          \"Ending OD590\"           \n",
       " [9] \"[NH4+] (mM)\"             \"[NH4+]/OD (mM/OD)\"      \n",
       "[11] \"Duration (Hours)\"        \"[NH4+]/OD'hr (mM/OD'hr)\""
      ]
     },
     "metadata": {},
     "output_type": "display_data"
    },
    {
     "data": {
      "text/html": [
       "<style>\n",
       ".list-inline {list-style: none; margin:0; padding: 0}\n",
       ".list-inline>li {display: inline-block}\n",
       ".list-inline>li:not(:last-child)::after {content: \"\\00b7\"; padding: 0 .5ex}\n",
       "</style>\n",
       "<ol class=list-inline><li>'strain'</li><li>'assay_id'</li><li>'sample_id'</li><li>'parent'</li><li>'genotype'</li><li>'replicate'</li><li>'starting_od590'</li><li>'ending_od590'</li><li>'nh4_mm'</li><li>'nh4_od_mm_od'</li><li>'duration_hours'</li><li>'nh4_od_hr_mm_od_hr'</li></ol>\n"
      ],
      "text/latex": [
       "\\begin{enumerate*}\n",
       "\\item 'strain'\n",
       "\\item 'assay\\_id'\n",
       "\\item 'sample\\_id'\n",
       "\\item 'parent'\n",
       "\\item 'genotype'\n",
       "\\item 'replicate'\n",
       "\\item 'starting\\_od590'\n",
       "\\item 'ending\\_od590'\n",
       "\\item 'nh4\\_mm'\n",
       "\\item 'nh4\\_od\\_mm\\_od'\n",
       "\\item 'duration\\_hours'\n",
       "\\item 'nh4\\_od\\_hr\\_mm\\_od\\_hr'\n",
       "\\end{enumerate*}\n"
      ],
      "text/markdown": [
       "1. 'strain'\n",
       "2. 'assay_id'\n",
       "3. 'sample_id'\n",
       "4. 'parent'\n",
       "5. 'genotype'\n",
       "6. 'replicate'\n",
       "7. 'starting_od590'\n",
       "8. 'ending_od590'\n",
       "9. 'nh4_mm'\n",
       "10. 'nh4_od_mm_od'\n",
       "11. 'duration_hours'\n",
       "12. 'nh4_od_hr_mm_od_hr'\n",
       "\n",
       "\n"
      ],
      "text/plain": [
       " [1] \"strain\"             \"assay_id\"           \"sample_id\"         \n",
       " [4] \"parent\"             \"genotype\"           \"replicate\"         \n",
       " [7] \"starting_od590\"     \"ending_od590\"       \"nh4_mm\"            \n",
       "[10] \"nh4_od_mm_od\"       \"duration_hours\"     \"nh4_od_hr_mm_od_hr\""
      ]
     },
     "metadata": {},
     "output_type": "display_data"
    }
   ],
   "source": [
    "iv_amm <- read_xlsx(\"./datasets/in_vitro_assays.xlsx\", 2)\n",
    "\n",
    "names(iv_amm)\n",
    "\n",
    "# Clean names\n",
    "names(iv_amm) <- gsub(\" |[[:punct:]]\",\"_\",tolower(names(iv_amm)))\n",
    "names(iv_amm) <- gsub(\"_{2,}\",\"_\",names(iv_amm))\n",
    "names(iv_amm) <- gsub(\"^_|_$\",\"\",names(iv_amm))\n",
    "\n",
    "names(iv_amm)\n",
    "\n",
    "\n",
    "iv_amm <- iv_amm %>% \n",
    "mutate(strain =paste0(ifelse(substr(strain,1,1) == 6,\"Ks\",\"Kv\"),strain),\n",
    "strain_species = factor(ifelse(grepl(\"Ks\",strain),\"Kosakonia sacchari\",\"Klebsiella variicola\"), levels = c(\"Kosakonia sacchari\",\"Klebsiella variicola\"))) %>%\n",
    "mutate_at(c(\"strain\",\"strain_species\",\"replicate\"), factor) \n",
    "\n",
    "iv_amm$strain <- factor(iv_amm$strain, levels = c('Ks6', 'Ks6-7023', 'Ks6-5687', 'Kv137', 'Kv137-7036','Kv137-1036','Kv137-2253'))\n",
    "iv_amm$strain_name <- factor(iv_amm$strain, labels = c('WT (Ks6)', 'nifKO (Ks6-7023)', 'Remodeled (Ks6-5687)', 'WT (Kv137)', 'nifKO (Kv137-7036)','Remodeled Gen1 (Kv137-1036)','Remodeled Gen2 (Kv137-2253)'))\n",
    "\n",
    "#head(iv_amm)\n"
   ]
  },
  {
   "cell_type": "markdown",
   "metadata": {},
   "source": [
    "### Calcualte raw means"
   ]
  },
  {
   "cell_type": "code",
   "execution_count": 17,
   "metadata": {
    "vscode": {
     "languageId": "r"
    }
   },
   "outputs": [
    {
     "name": "stderr",
     "output_type": "stream",
     "text": [
      "\u001b[1m\u001b[22m`summarise()` has grouped output by 'strain_species', 'strain_name'. You can\n",
      "override using the `.groups` argument.\n"
     ]
    },
    {
     "data": {
      "text/html": [
       "<table class=\"dataframe\">\n",
       "<caption>A grouped_df: 7 × 6</caption>\n",
       "<thead>\n",
       "\t<tr><th scope=col>strain_species</th><th scope=col>strain_name</th><th scope=col>strain</th><th scope=col>n</th><th scope=col>mean</th><th scope=col>se</th></tr>\n",
       "\t<tr><th scope=col>&lt;fct&gt;</th><th scope=col>&lt;fct&gt;</th><th scope=col>&lt;fct&gt;</th><th scope=col>&lt;int&gt;</th><th scope=col>&lt;dbl&gt;</th><th scope=col>&lt;dbl&gt;</th></tr>\n",
       "</thead>\n",
       "<tbody>\n",
       "\t<tr><td>Kosakonia sacchari  </td><td>WT (Ks6)                   </td><td>Ks6       </td><td>8</td><td> 0.007689876</td><td>0.0014020441</td></tr>\n",
       "\t<tr><td>Kosakonia sacchari  </td><td>nifKO (Ks6-7023)           </td><td>Ks6-7023  </td><td>8</td><td> 0.030388200</td><td>0.0032489794</td></tr>\n",
       "\t<tr><td>Kosakonia sacchari  </td><td>Remodeled (Ks6-5687)       </td><td>Ks6-5687  </td><td>8</td><td> 7.552213548</td><td>0.9142322257</td></tr>\n",
       "\t<tr><td>Klebsiella variicola</td><td>WT (Kv137)                 </td><td>Kv137     </td><td>8</td><td> 0.018462379</td><td>0.0013409907</td></tr>\n",
       "\t<tr><td>Klebsiella variicola</td><td>nifKO (Kv137-7036)         </td><td>Kv137-7036</td><td>8</td><td>-0.005232912</td><td>0.0008786032</td></tr>\n",
       "\t<tr><td>Klebsiella variicola</td><td>Remodeled Gen1 (Kv137-1036)</td><td>Kv137-1036</td><td>8</td><td> 0.462832346</td><td>0.0573440242</td></tr>\n",
       "\t<tr><td>Klebsiella variicola</td><td>Remodeled Gen2 (Kv137-2253)</td><td>Kv137-2253</td><td>8</td><td> 7.049436881</td><td>1.0867666889</td></tr>\n",
       "</tbody>\n",
       "</table>\n"
      ],
      "text/latex": [
       "A grouped\\_df: 7 × 6\n",
       "\\begin{tabular}{llllll}\n",
       " strain\\_species & strain\\_name & strain & n & mean & se\\\\\n",
       " <fct> & <fct> & <fct> & <int> & <dbl> & <dbl>\\\\\n",
       "\\hline\n",
       "\t Kosakonia sacchari   & WT (Ks6)                    & Ks6        & 8 &  0.007689876 & 0.0014020441\\\\\n",
       "\t Kosakonia sacchari   & nifKO (Ks6-7023)            & Ks6-7023   & 8 &  0.030388200 & 0.0032489794\\\\\n",
       "\t Kosakonia sacchari   & Remodeled (Ks6-5687)        & Ks6-5687   & 8 &  7.552213548 & 0.9142322257\\\\\n",
       "\t Klebsiella variicola & WT (Kv137)                  & Kv137      & 8 &  0.018462379 & 0.0013409907\\\\\n",
       "\t Klebsiella variicola & nifKO (Kv137-7036)          & Kv137-7036 & 8 & -0.005232912 & 0.0008786032\\\\\n",
       "\t Klebsiella variicola & Remodeled Gen1 (Kv137-1036) & Kv137-1036 & 8 &  0.462832346 & 0.0573440242\\\\\n",
       "\t Klebsiella variicola & Remodeled Gen2 (Kv137-2253) & Kv137-2253 & 8 &  7.049436881 & 1.0867666889\\\\\n",
       "\\end{tabular}\n"
      ],
      "text/markdown": [
       "\n",
       "A grouped_df: 7 × 6\n",
       "\n",
       "| strain_species &lt;fct&gt; | strain_name &lt;fct&gt; | strain &lt;fct&gt; | n &lt;int&gt; | mean &lt;dbl&gt; | se &lt;dbl&gt; |\n",
       "|---|---|---|---|---|---|\n",
       "| Kosakonia sacchari   | WT (Ks6)                    | Ks6        | 8 |  0.007689876 | 0.0014020441 |\n",
       "| Kosakonia sacchari   | nifKO (Ks6-7023)            | Ks6-7023   | 8 |  0.030388200 | 0.0032489794 |\n",
       "| Kosakonia sacchari   | Remodeled (Ks6-5687)        | Ks6-5687   | 8 |  7.552213548 | 0.9142322257 |\n",
       "| Klebsiella variicola | WT (Kv137)                  | Kv137      | 8 |  0.018462379 | 0.0013409907 |\n",
       "| Klebsiella variicola | nifKO (Kv137-7036)          | Kv137-7036 | 8 | -0.005232912 | 0.0008786032 |\n",
       "| Klebsiella variicola | Remodeled Gen1 (Kv137-1036) | Kv137-1036 | 8 |  0.462832346 | 0.0573440242 |\n",
       "| Klebsiella variicola | Remodeled Gen2 (Kv137-2253) | Kv137-2253 | 8 |  7.049436881 | 1.0867666889 |\n",
       "\n"
      ],
      "text/plain": [
       "  strain_species       strain_name                 strain     n mean        \n",
       "1 Kosakonia sacchari   WT (Ks6)                    Ks6        8  0.007689876\n",
       "2 Kosakonia sacchari   nifKO (Ks6-7023)            Ks6-7023   8  0.030388200\n",
       "3 Kosakonia sacchari   Remodeled (Ks6-5687)        Ks6-5687   8  7.552213548\n",
       "4 Klebsiella variicola WT (Kv137)                  Kv137      8  0.018462379\n",
       "5 Klebsiella variicola nifKO (Kv137-7036)          Kv137-7036 8 -0.005232912\n",
       "6 Klebsiella variicola Remodeled Gen1 (Kv137-1036) Kv137-1036 8  0.462832346\n",
       "7 Klebsiella variicola Remodeled Gen2 (Kv137-2253) Kv137-2253 8  7.049436881\n",
       "  se          \n",
       "1 0.0014020441\n",
       "2 0.0032489794\n",
       "3 0.9142322257\n",
       "4 0.0013409907\n",
       "5 0.0008786032\n",
       "6 0.0573440242\n",
       "7 1.0867666889"
      ]
     },
     "metadata": {},
     "output_type": "display_data"
    }
   ],
   "source": [
    "iv_amm_means <- iv_amm %>% \n",
    "group_by(strain_species,strain_name,strain) %>% \n",
    "summarize(n = n(), mean = mean(nh4_od_mm_od), se = sd(nh4_od_mm_od)/sqrt(n()))\n",
    "\n",
    "iv_amm_means"
   ]
  },
  {
   "cell_type": "markdown",
   "metadata": {},
   "source": [
    "Very obvious that edits increased NH4 excretion. However, we are interested in estimating the improvement between Gen1 and Gen2 edits. These appears to be several orders of magnitude, so we use log transformed units."
   ]
  },
  {
   "cell_type": "code",
   "execution_count": 18,
   "metadata": {
    "vscode": {
     "languageId": "r"
    }
   },
   "outputs": [
    {
     "data": {
      "image/png": "[encoded data removed]",
      "text/plain": [
       "Plot with title \"\""
      ]
     },
     "metadata": {
      "image/png": {
       "height": 360,
       "width": 480
      }
     },
     "output_type": "display_data"
    },
    {
     "data": {
      "image/png": "[encoded data removed]",
      "text/plain": [
       "Plot with title \"\""
      ]
     },
     "metadata": {
      "image/png": {
       "height": 360,
       "width": 480
      }
     },
     "output_type": "display_data"
    },
    {
     "data": {
      "image/png": "[encoded data removed]",
      "text/plain": [
       "Plot with title \"\""
      ]
     },
     "metadata": {
      "image/png": {
       "height": 360,
       "width": 480
      }
     },
     "output_type": "display_data"
    },
    {
     "data": {
      "image/png": "[encoded data removed]",
      "text/plain": [
       "Plot with title \"\""
      ]
     },
     "metadata": {
      "image/png": {
       "height": 360,
       "width": 480
      }
     },
     "output_type": "display_data"
    }
   ],
   "source": [
    "iv_amm_mod <- lm(log(nh4_od_mm_od) ~ strain, iv_amm %>% filter(strain %in% c(\"Kv137-2253\",\"Kv137-1036\")))\n",
    "plot(iv_amm_mod)"
   ]
  },
  {
   "cell_type": "code",
   "execution_count": 19,
   "metadata": {
    "vscode": {
     "languageId": "r"
    }
   },
   "outputs": [
    {
     "data": {
      "text/plain": [
       "\n",
       "Call:\n",
       "lm(formula = log(nh4_od_mm_od) ~ strain, data = iv_amm %>% filter(strain %in% \n",
       "    c(\"Kv137-2253\", \"Kv137-1036\")))\n",
       "\n",
       "Residuals:\n",
       "     Min       1Q   Median       3Q      Max \n",
       "-0.89258 -0.25918 -0.01951  0.26358  0.61534 \n",
       "\n",
       "Coefficients:\n",
       "                 Estimate Std. Error t value Pr(>|t|)    \n",
       "(Intercept)       -0.8402     0.1460  -5.755 4.98e-05 ***\n",
       "strainKv137-2253   2.7203     0.2065  13.175 2.80e-09 ***\n",
       "---\n",
       "Signif. codes:  0 '***' 0.001 '**' 0.01 '*' 0.05 '.' 0.1 ' ' 1\n",
       "\n",
       "Residual standard error: 0.413 on 14 degrees of freedom\n",
       "Multiple R-squared:  0.9254,\tAdjusted R-squared:   0.92 \n",
       "F-statistic: 173.6 on 1 and 14 DF,  p-value: 2.795e-09\n"
      ]
     },
     "metadata": {},
     "output_type": "display_data"
    }
   ],
   "source": [
    "summary(iv_amm_mod)"
   ]
  },
  {
   "cell_type": "code",
   "execution_count": 20,
   "metadata": {
    "vscode": {
     "languageId": "r"
    }
   },
   "outputs": [
    {
     "data": {
      "text/html": [
       "<table class=\"dataframe\">\n",
       "<caption>A data.frame: 2 × 4</caption>\n",
       "<thead>\n",
       "\t<tr><th></th><th scope=col>Estimate</th><th scope=col>Std..Error</th><th scope=col>t.value</th><th scope=col>Pr...t..</th></tr>\n",
       "\t<tr><th></th><th scope=col>&lt;dbl&gt;</th><th scope=col>&lt;dbl&gt;</th><th scope=col>&lt;dbl&gt;</th><th scope=col>&lt;dbl&gt;</th></tr>\n",
       "</thead>\n",
       "<tbody>\n",
       "\t<tr><th scope=row>(Intercept)</th><td>-0.8401967</td><td>0.1460002</td><td>-5.754764</td><td>4.982492e-05</td></tr>\n",
       "\t<tr><th scope=row>strainKv137-2253</th><td> 2.7203130</td><td>0.2064755</td><td>13.174993</td><td>2.795042e-09</td></tr>\n",
       "</tbody>\n",
       "</table>\n"
      ],
      "text/latex": [
       "A data.frame: 2 × 4\n",
       "\\begin{tabular}{r|llll}\n",
       "  & Estimate & Std..Error & t.value & Pr...t..\\\\\n",
       "  & <dbl> & <dbl> & <dbl> & <dbl>\\\\\n",
       "\\hline\n",
       "\t(Intercept) & -0.8401967 & 0.1460002 & -5.754764 & 4.982492e-05\\\\\n",
       "\tstrainKv137-2253 &  2.7203130 & 0.2064755 & 13.174993 & 2.795042e-09\\\\\n",
       "\\end{tabular}\n"
      ],
      "text/markdown": [
       "\n",
       "A data.frame: 2 × 4\n",
       "\n",
       "| <!--/--> | Estimate &lt;dbl&gt; | Std..Error &lt;dbl&gt; | t.value &lt;dbl&gt; | Pr...t.. &lt;dbl&gt; |\n",
       "|---|---|---|---|---|\n",
       "| (Intercept) | -0.8401967 | 0.1460002 | -5.754764 | 4.982492e-05 |\n",
       "| strainKv137-2253 |  2.7203130 | 0.2064755 | 13.174993 | 2.795042e-09 |\n",
       "\n"
      ],
      "text/plain": [
       "                 Estimate   Std..Error t.value   Pr...t..    \n",
       "(Intercept)      -0.8401967 0.1460002  -5.754764 4.982492e-05\n",
       "strainKv137-2253  2.7203130 0.2064755  13.174993 2.795042e-09"
      ]
     },
     "metadata": {},
     "output_type": "display_data"
    }
   ],
   "source": [
    "iv_amm_mod_coef <- data.frame(summary(iv_amm_mod)$coefficients)\n",
    "iv_amm_mod_coef"
   ]
  },
  {
   "cell_type": "code",
   "execution_count": 21,
   "metadata": {
    "vscode": {
     "languageId": "r"
    }
   },
   "outputs": [
    {
     "data": {
      "text/html": [
       "15.1850737643622"
      ],
      "text/latex": [
       "15.1850737643622"
      ],
      "text/markdown": [
       "15.1850737643622"
      ],
      "text/plain": [
       "[1] 15.18507"
      ]
     },
     "metadata": {},
     "output_type": "display_data"
    }
   ],
   "source": [
    "# Get the estimated change\n",
    "exp(iv_amm_mod_coef[\"strainKv137-2253\",\"Estimate\"])"
   ]
  },
  {
   "cell_type": "code",
   "execution_count": 22,
   "metadata": {
    "vscode": {
     "languageId": "r"
    }
   },
   "outputs": [
    {
     "data": {
      "text/html": [
       "'15.2x (±1.23x)\\np &lt; 0.0001'"
      ],
      "text/latex": [
       "'15.2x (±1.23x)\\textbackslash{}np < 0.0001'"
      ],
      "text/markdown": [
       "'15.2x (±1.23x)\\np &lt; 0.0001'"
      ],
      "text/plain": [
       "[1] \"15.2x (±1.23x)\\np < 0.0001\""
      ]
     },
     "metadata": {},
     "output_type": "display_data"
    }
   ],
   "source": [
    "# Make a nice label for plotting\n",
    "\n",
    "lab <- paste0(\n",
    "    signif(exp(iv_amm_mod_coef[\"strainKv137-2253\",\"Estimate\"]),3),\"x (±\",\n",
    "    signif(exp(iv_amm_mod_coef[\"strainKv137-2253\",\"Std..Error\"]),3),\"x)\\n\",\n",
    "    ifelse(iv_amm_mod_coef[\"strainKv137-2253\",\"Pr...t..\"] < 0.0001,\"p < 0.0001\",paste0(\"p =\",signif(iv_amm_mod_coef[\"strainKv137-2253\",\"Pr...t..\"],3)))\n",
    "    )\n",
    "\n",
    "lab"
   ]
  },
  {
   "cell_type": "code",
   "execution_count": 23,
   "metadata": {
    "vscode": {
     "languageId": "r"
    }
   },
   "outputs": [
    {
     "data": {
      "image/png": "[encoded data removed]",
      "text/plain": [
       "plot without title"
      ]
     },
     "metadata": {
      "image/png": {
       "height": 360,
       "width": 480
      }
     },
     "output_type": "display_data"
    }
   ],
   "source": [
    "options(repr.plot.width=8, repr.plot.height=6)\n",
    "label_y_pos <- 12\n",
    "\n",
    "iv_amm_plot <- iv_amm_means %>% \n",
    "ggplot(aes(strain_name, mean)) + \n",
    "geom_col(colour = \"gray10\", position = position_dodge(), width = 0.3) + \n",
    "geom_errorbar(aes(ymin = mean - se, ymax = mean + se), position = position_dodge(width = 0.3), width = 0.2) + \n",
    "facet_wrap(~strain_species, scales= \"free_x\" ) + \n",
    "geom_segment(aes(xend =  strain_name, y = label_y_pos - 3.5, yend = mean + se + 0.1), linetype = 2, data = iv_amm_means %>% filter(strain %in% c(\"Kv137-2253\",\"Kv137-1036\"))) + \n",
    "geom_segment(aes(x = 3.5, xend =  3.5, y = label_y_pos - 3.5, yend = label_y_pos - 2), linetype = 2, data = data.frame(strain_species = factor(\"Klebsiella variicola\",levels = c(\"Klebsiella variicola\",\"Kosakonia sacchari\")))) + \n",
    "geom_segment(aes(x = 3, xend =  4, y = label_y_pos - 3.5, yend = label_y_pos - 3.5), linetype = 2, data = data.frame(strain_species = factor(\"Klebsiella variicola\",levels = c(\"Klebsiella variicola\",\"Kosakonia sacchari\")))) + \n",
    "geom_text(aes(x = 3.5,y = label_y_pos, label = lab), colour = \"gray10\", vjust = 1, size = 3, data = data.frame(lab = lab, strain_species = factor(\"Klebsiella variicola\",levels = c(\"Klebsiella variicola\",\"Kosakonia sacchari\")))) + \n",
    "theme(legend.position = \"top\", axis.text.x = element_text(angle = 45, hjust = 1, vjust = 1), strip.text = element_text(size = 16, face = \"italic\") ) + \n",
    "labs(y = expression(\"mM NH\"[4]*\"\"^\"+\"~~OD^-1), x = \"\")\n",
    "\n",
    "iv_amm_plot"
   ]
  },
  {
   "cell_type": "markdown",
   "metadata": {},
   "source": [
    "### Make final graphic for the paper"
   ]
  },
  {
   "cell_type": "code",
   "execution_count": 24,
   "metadata": {
    "vscode": {
     "languageId": "r"
    }
   },
   "outputs": [
    {
     "data": {
      "image/png": "[encoded data removed]",
      "text/plain": [
       "plot without title"
      ]
     },
     "metadata": {
      "image/png": {
       "height": 600,
       "width": 480
      }
     },
     "output_type": "display_data"
    }
   ],
   "source": [
    "options(repr.plot.width=8, repr.plot.height=10)\n",
    "\n",
    "ggarrange(iv_ara_plot,iv_amm_plot, nrow = 2, heights = c(0.55,0.5), labels = c(\"a\",\"b\"))"
   ]
  },
  {
   "cell_type": "code",
   "execution_count": 25,
   "metadata": {
    "vscode": {
     "languageId": "r"
    }
   },
   "outputs": [],
   "source": [
    "ggsave(\"./figures/in_vitro_assays.png\",width = 8, height = 10, dpi = 300)"
   ]
  }
 ],
 "metadata": {
  "kernelspec": {
   "display_name": "R",
   "language": "R",
   "name": "ir"
  },
  "language_info": {
   "codemirror_mode": "r",
   "file_extension": ".r",
   "mimetype": "text/x-r-source",
   "name": "R",
   "pygments_lexer": "r",
   "version": "4.1.3"
  }
 },
 "nbformat": 4,
 "nbformat_minor": 2
}
