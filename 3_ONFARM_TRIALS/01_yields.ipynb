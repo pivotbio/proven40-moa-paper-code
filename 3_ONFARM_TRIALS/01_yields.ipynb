{
 "cells": [
  {
   "attachments": {},
   "cell_type": "markdown",
   "id": "1ee8d116-caa3-44c5-9554-7aaef30b4b8e",
   "metadata": {},
   "source": [
    "# Test of hypothesis for the 2021 customer yield data"
   ]
  },
  {
   "cell_type": "code",
   "execution_count": 1,
   "id": "283be165-874c-431b-884e-169ad718c5b4",
   "metadata": {
    "vscode": {
     "languageId": "r"
    }
   },
   "outputs": [
    {
     "name": "stdout",
     "output_type": "stream",
     "text": [
      "Pivot Bio, Inc.\n",
      "This code performs analyses supporting findings of the paper entitled:\n",
      "\"Genetic remodeling of soil diazotrophs enables partial replacement of synthetic nitrogen fertilizer with biological nitrogen fixation in maize\".\n",
      "\n",
      "##------ Thu Jun 06 10:07:27 2024 ------## \n",
      "Loaded packages:  tidyverse, readxl, broom, foreach, nlme, lme4, lmerTest, glmmTMB, car, DHARMa, caret, emmeans, multcomp, ggpubr, scales, png, ggthemes and their dependencies.\n",
      "A complete list of packages used in the analysis is provided in the `packages_citations.txt` file.\n"
     ]
    }
   ],
   "source": [
    "source('../load_environment.R')\n",
    "options(repr.plot.width=6, repr.plot.height=4)"
   ]
  },
  {
   "cell_type": "markdown",
   "id": "5dc2f9f0",
   "metadata": {},
   "source": [
    "### Load dataset"
   ]
  },
  {
   "cell_type": "code",
   "execution_count": 2,
   "metadata": {
    "vscode": {
     "languageId": "r"
    }
   },
   "outputs": [
    {
     "name": "stdout",
     "output_type": "stream",
     "text": [
      "'data.frame':\t116 obs. of  5 variables:\n",
      " $ trial_id_hash : chr  \"e1d50655\" \"e1d50655\" \"19f4b5ff\" \"19f4b5ff\" ...\n",
      " $ treatment     : Factor w/ 2 levels \"BAU\",\"PROVEN40_ReducedN\": 1 2 1 2 1 2 1 2 1 2 ...\n",
      " $ point_count   : int  7067 7591 677 673 849 892 8038 7762 4054 5403 ...\n",
      " $ yieldmean_Mgha: num  14.2 14.6 14.6 14.4 15.1 ...\n",
      " $ yieldcv_pct   : num  15.36 12.64 5.78 6.52 8.39 ...\n"
     ]
    }
   ],
   "source": [
    "df1 <- read.csv(\"./datasets/on_farm_yield_anonymized.csv\") %>% \n",
    "mutate_at(\"treatment\",factor)\n",
    "\n",
    "str(df1)"
   ]
  },
  {
   "cell_type": "code",
   "execution_count": 3,
   "metadata": {
    "vscode": {
     "languageId": "r"
    }
   },
   "outputs": [
    {
     "data": {
      "text/html": [
       "58"
      ],
      "text/latex": [
       "58"
      ],
      "text/markdown": [
       "58"
      ],
      "text/plain": [
       "[1] 58"
      ]
     },
     "metadata": {},
     "output_type": "display_data"
    }
   ],
   "source": [
    "df1$trial_id_hash %>% unique() %>% length()"
   ]
  },
  {
   "cell_type": "markdown",
   "metadata": {},
   "source": [
    "## Analysis of mean yield"
   ]
  },
  {
   "cell_type": "code",
   "execution_count": 4,
   "metadata": {
    "vscode": {
     "languageId": "r"
    }
   },
   "outputs": [
    {
     "data": {
      "text/html": [
       "<table class=\"dataframe\">\n",
       "<caption>A anova: 2 × 3</caption>\n",
       "<thead>\n",
       "\t<tr><th></th><th scope=col>Df</th><th scope=col>F value</th><th scope=col>Pr(&gt;F)</th></tr>\n",
       "\t<tr><th></th><th scope=col>&lt;int&gt;</th><th scope=col>&lt;dbl&gt;</th><th scope=col>&lt;dbl&gt;</th></tr>\n",
       "</thead>\n",
       "<tbody>\n",
       "\t<tr><th scope=row>group</th><td>  1</td><td>0.03432155</td><td>0.8533537</td></tr>\n",
       "\t<tr><th scope=row> </th><td>114</td><td>        NA</td><td>       NA</td></tr>\n",
       "</tbody>\n",
       "</table>\n"
      ],
      "text/latex": [
       "A anova: 2 × 3\n",
       "\\begin{tabular}{r|lll}\n",
       "  & Df & F value & Pr(>F)\\\\\n",
       "  & <int> & <dbl> & <dbl>\\\\\n",
       "\\hline\n",
       "\tgroup &   1 & 0.03432155 & 0.8533537\\\\\n",
       "\t  & 114 &         NA &        NA\\\\\n",
       "\\end{tabular}\n"
      ],
      "text/markdown": [
       "\n",
       "A anova: 2 × 3\n",
       "\n",
       "| <!--/--> | Df &lt;int&gt; | F value &lt;dbl&gt; | Pr(&gt;F) &lt;dbl&gt; |\n",
       "|---|---|---|---|\n",
       "| group |   1 | 0.03432155 | 0.8533537 |\n",
       "| <!----> | 114 |         NA |        NA |\n",
       "\n"
      ],
      "text/plain": [
       "      Df  F value    Pr(>F)   \n",
       "group   1 0.03432155 0.8533537\n",
       "      114         NA        NA"
      ]
     },
     "metadata": {},
     "output_type": "display_data"
    }
   ],
   "source": [
    "leveneTest(yieldmean_Mgha ~ treatment, data=df1)"
   ]
  },
  {
   "cell_type": "code",
   "execution_count": 5,
   "metadata": {
    "vscode": {
     "languageId": "r"
    }
   },
   "outputs": [
    {
     "data": {
      "image/png": "[encoded data removed]",
      "text/plain": [
       "plot without title"
      ]
     },
     "metadata": {
      "image/png": {
       "height": 240,
       "width": 360
      }
     },
     "output_type": "display_data"
    },
    {
     "name": "stdout",
     "output_type": "stream",
     "text": [
      "NULL\n"
     ]
    },
    {
     "data": {
      "text/plain": [
       "\n",
       "\tShapiro-Wilk normality test\n",
       "\n",
       "data:  residuals(mod)\n",
       "W = 0.89381, p-value = 1.42e-07\n"
      ]
     },
     "metadata": {},
     "output_type": "display_data"
    },
    {
     "data": {
      "image/png": "[encoded data removed]",
      "text/plain": [
       "Plot with title \"density.default(x = resid(mod))\""
      ]
     },
     "metadata": {
      "image/png": {
       "height": 240,
       "width": 360
      }
     },
     "output_type": "display_data"
    }
   ],
   "source": [
    "lme1 <- lmer(yieldmean_Mgha ~ treatment + (1|trial_id_hash), data=df1) \n",
    "check_assumptions(lme1)"
   ]
  },
  {
   "cell_type": "code",
   "execution_count": 6,
   "metadata": {
    "vscode": {
     "languageId": "r"
    }
   },
   "outputs": [
    {
     "data": {
      "text/html": [
       "<table class=\"dataframe\">\n",
       "<caption>A anova: 1 × 6</caption>\n",
       "<thead>\n",
       "\t<tr><th></th><th scope=col>Sum Sq</th><th scope=col>Mean Sq</th><th scope=col>NumDF</th><th scope=col>DenDF</th><th scope=col>F value</th><th scope=col>Pr(&gt;F)</th></tr>\n",
       "\t<tr><th></th><th scope=col>&lt;dbl&gt;</th><th scope=col>&lt;dbl&gt;</th><th scope=col>&lt;int&gt;</th><th scope=col>&lt;dbl&gt;</th><th scope=col>&lt;dbl&gt;</th><th scope=col>&lt;dbl&gt;</th></tr>\n",
       "</thead>\n",
       "<tbody>\n",
       "\t<tr><th scope=row>treatment</th><td>0.005309722</td><td>0.005309722</td><td>1</td><td>57</td><td>0.02652586</td><td>0.8711987</td></tr>\n",
       "</tbody>\n",
       "</table>\n"
      ],
      "text/latex": [
       "A anova: 1 × 6\n",
       "\\begin{tabular}{r|llllll}\n",
       "  & Sum Sq & Mean Sq & NumDF & DenDF & F value & Pr(>F)\\\\\n",
       "  & <dbl> & <dbl> & <int> & <dbl> & <dbl> & <dbl>\\\\\n",
       "\\hline\n",
       "\ttreatment & 0.005309722 & 0.005309722 & 1 & 57 & 0.02652586 & 0.8711987\\\\\n",
       "\\end{tabular}\n"
      ],
      "text/markdown": [
       "\n",
       "A anova: 1 × 6\n",
       "\n",
       "| <!--/--> | Sum Sq &lt;dbl&gt; | Mean Sq &lt;dbl&gt; | NumDF &lt;int&gt; | DenDF &lt;dbl&gt; | F value &lt;dbl&gt; | Pr(&gt;F) &lt;dbl&gt; |\n",
       "|---|---|---|---|---|---|---|\n",
       "| treatment | 0.005309722 | 0.005309722 | 1 | 57 | 0.02652586 | 0.8711987 |\n",
       "\n"
      ],
      "text/plain": [
       "          Sum Sq      Mean Sq     NumDF DenDF F value    Pr(>F)   \n",
       "treatment 0.005309722 0.005309722 1     57    0.02652586 0.8711987"
      ]
     },
     "metadata": {},
     "output_type": "display_data"
    }
   ],
   "source": [
    "anova(lme1)"
   ]
  },
  {
   "cell_type": "code",
   "execution_count": 7,
   "metadata": {
    "vscode": {
     "languageId": "r"
    }
   },
   "outputs": [
    {
     "data": {
      "text/plain": [
       "Linear mixed model fit by REML. t-tests use Satterthwaite's method [\n",
       "lmerModLmerTest]\n",
       "Formula: yieldmean_Mgha ~ treatment + (1 | trial_id_hash)\n",
       "   Data: df1\n",
       "\n",
       "REML criterion at convergence: 374.8\n",
       "\n",
       "Scaled residuals: \n",
       "    Min      1Q  Median      3Q     Max \n",
       "-3.3484 -0.3512 -0.0095  0.3420  3.2908 \n",
       "\n",
       "Random effects:\n",
       " Groups        Name        Variance Std.Dev.\n",
       " trial_id_hash (Intercept) 5.2241   2.2856  \n",
       " Residual                  0.2002   0.4474  \n",
       "Number of obs: 116, groups:  trial_id_hash, 58\n",
       "\n",
       "Fixed effects:\n",
       "                           Estimate Std. Error       df t value Pr(>|t|)    \n",
       "(Intercept)                13.43231    0.30581 59.14227  43.923   <2e-16 ***\n",
       "treatmentPROVEN40_ReducedN -0.01353    0.08308 57.00000  -0.163    0.871    \n",
       "---\n",
       "Signif. codes:  0 '***' 0.001 '**' 0.01 '*' 0.05 '.' 0.1 ' ' 1\n",
       "\n",
       "Correlation of Fixed Effects:\n",
       "            (Intr)\n",
       "tPROVEN40_R -0.136"
      ]
     },
     "metadata": {},
     "output_type": "display_data"
    }
   ],
   "source": [
    "summary(lme1)"
   ]
  },
  {
   "cell_type": "code",
   "execution_count": 8,
   "metadata": {
    "vscode": {
     "languageId": "r"
    }
   },
   "outputs": [
    {
     "data": {
      "text/plain": [
       " treatment         emmean    SE   df lower.CL upper.CL\n",
       " BAU                 13.4 0.306 59.1     12.8       14\n",
       " PROVEN40_ReducedN   13.4 0.306 59.1     12.8       14\n",
       "\n",
       "Degrees-of-freedom method: kenward-roger \n",
       "Confidence level used: 0.95 "
      ]
     },
     "metadata": {},
     "output_type": "display_data"
    }
   ],
   "source": [
    "lme1_means <- emmeans(lme1, ~ treatment,  type = \"response\")\n",
    "lme1_means"
   ]
  },
  {
   "cell_type": "code",
   "execution_count": 9,
   "metadata": {
    "vscode": {
     "languageId": "r"
    }
   },
   "outputs": [
    {
     "data": {
      "text/html": [
       "<table class=\"dataframe\">\n",
       "<caption>A data.frame: 1 × 6</caption>\n",
       "<thead>\n",
       "\t<tr><th></th><th scope=col>contrast</th><th scope=col>estimate</th><th scope=col>SE</th><th scope=col>df</th><th scope=col>t.ratio</th><th scope=col>p.value</th></tr>\n",
       "\t<tr><th></th><th scope=col>&lt;chr&gt;</th><th scope=col>&lt;dbl&gt;</th><th scope=col>&lt;dbl&gt;</th><th scope=col>&lt;dbl&gt;</th><th scope=col>&lt;dbl&gt;</th><th scope=col>&lt;dbl&gt;</th></tr>\n",
       "</thead>\n",
       "<tbody>\n",
       "\t<tr><th scope=row>1</th><td>BAU - PROVEN40_ReducedN</td><td>0.01353122</td><td>0.08308109</td><td>57</td><td>0.1628676</td><td>0.8711987</td></tr>\n",
       "</tbody>\n",
       "</table>\n"
      ],
      "text/latex": [
       "A data.frame: 1 × 6\n",
       "\\begin{tabular}{r|llllll}\n",
       "  & contrast & estimate & SE & df & t.ratio & p.value\\\\\n",
       "  & <chr> & <dbl> & <dbl> & <dbl> & <dbl> & <dbl>\\\\\n",
       "\\hline\n",
       "\t1 & BAU - PROVEN40\\_ReducedN & 0.01353122 & 0.08308109 & 57 & 0.1628676 & 0.8711987\\\\\n",
       "\\end{tabular}\n"
      ],
      "text/markdown": [
       "\n",
       "A data.frame: 1 × 6\n",
       "\n",
       "| <!--/--> | contrast &lt;chr&gt; | estimate &lt;dbl&gt; | SE &lt;dbl&gt; | df &lt;dbl&gt; | t.ratio &lt;dbl&gt; | p.value &lt;dbl&gt; |\n",
       "|---|---|---|---|---|---|---|\n",
       "| 1 | BAU - PROVEN40_ReducedN | 0.01353122 | 0.08308109 | 57 | 0.1628676 | 0.8711987 |\n",
       "\n"
      ],
      "text/plain": [
       "  contrast                estimate   SE         df t.ratio   p.value  \n",
       "1 BAU - PROVEN40_ReducedN 0.01353122 0.08308109 57 0.1628676 0.8711987"
      ]
     },
     "metadata": {},
     "output_type": "display_data"
    }
   ],
   "source": [
    "pairs(lme1_means) %>% \n",
    "data.frame()"
   ]
  },
  {
   "cell_type": "markdown",
   "metadata": {},
   "source": [
    "## Analysis of yield CV"
   ]
  },
  {
   "cell_type": "code",
   "execution_count": 10,
   "metadata": {
    "vscode": {
     "languageId": "r"
    }
   },
   "outputs": [
    {
     "data": {
      "text/html": [
       "<table class=\"dataframe\">\n",
       "<caption>A anova: 2 × 3</caption>\n",
       "<thead>\n",
       "\t<tr><th></th><th scope=col>Df</th><th scope=col>F value</th><th scope=col>Pr(&gt;F)</th></tr>\n",
       "\t<tr><th></th><th scope=col>&lt;int&gt;</th><th scope=col>&lt;dbl&gt;</th><th scope=col>&lt;dbl&gt;</th></tr>\n",
       "</thead>\n",
       "<tbody>\n",
       "\t<tr><th scope=row>group</th><td>  1</td><td>0.1792556</td><td>0.6728115</td></tr>\n",
       "\t<tr><th scope=row> </th><td>114</td><td>       NA</td><td>       NA</td></tr>\n",
       "</tbody>\n",
       "</table>\n"
      ],
      "text/latex": [
       "A anova: 2 × 3\n",
       "\\begin{tabular}{r|lll}\n",
       "  & Df & F value & Pr(>F)\\\\\n",
       "  & <int> & <dbl> & <dbl>\\\\\n",
       "\\hline\n",
       "\tgroup &   1 & 0.1792556 & 0.6728115\\\\\n",
       "\t  & 114 &        NA &        NA\\\\\n",
       "\\end{tabular}\n"
      ],
      "text/markdown": [
       "\n",
       "A anova: 2 × 3\n",
       "\n",
       "| <!--/--> | Df &lt;int&gt; | F value &lt;dbl&gt; | Pr(&gt;F) &lt;dbl&gt; |\n",
       "|---|---|---|---|\n",
       "| group |   1 | 0.1792556 | 0.6728115 |\n",
       "| <!----> | 114 |        NA |        NA |\n",
       "\n"
      ],
      "text/plain": [
       "      Df  F value   Pr(>F)   \n",
       "group   1 0.1792556 0.6728115\n",
       "      114        NA        NA"
      ]
     },
     "metadata": {},
     "output_type": "display_data"
    }
   ],
   "source": [
    "leveneTest(yieldcv_pct ~ treatment, data=df1)"
   ]
  },
  {
   "cell_type": "code",
   "execution_count": 11,
   "metadata": {
    "vscode": {
     "languageId": "r"
    }
   },
   "outputs": [
    {
     "data": {
      "image/png": "[encoded data removed]",
      "text/plain": [
       "plot without title"
      ]
     },
     "metadata": {
      "image/png": {
       "height": 240,
       "width": 360
      }
     },
     "output_type": "display_data"
    },
    {
     "name": "stdout",
     "output_type": "stream",
     "text": [
      "NULL\n"
     ]
    },
    {
     "data": {
      "text/plain": [
       "\n",
       "\tShapiro-Wilk normality test\n",
       "\n",
       "data:  residuals(mod)\n",
       "W = 0.83836, p-value = 6.27e-10\n"
      ]
     },
     "metadata": {},
     "output_type": "display_data"
    },
    {
     "data": {
      "image/png": "[encoded data removed]",
      "text/plain": [
       "Plot with title \"density.default(x = resid(mod))\""
      ]
     },
     "metadata": {
      "image/png": {
       "height": 240,
       "width": 360
      }
     },
     "output_type": "display_data"
    }
   ],
   "source": [
    "lme2 <- lmer(yieldcv_pct ~ treatment + (1|trial_id_hash), data=df1) \n",
    "check_assumptions(lme2)"
   ]
  },
  {
   "cell_type": "code",
   "execution_count": 12,
   "metadata": {
    "vscode": {
     "languageId": "r"
    }
   },
   "outputs": [
    {
     "data": {
      "text/html": [
       "<table class=\"dataframe\">\n",
       "<caption>A anova: 2 × 3</caption>\n",
       "<thead>\n",
       "\t<tr><th></th><th scope=col>Df</th><th scope=col>F value</th><th scope=col>Pr(&gt;F)</th></tr>\n",
       "\t<tr><th></th><th scope=col>&lt;int&gt;</th><th scope=col>&lt;dbl&gt;</th><th scope=col>&lt;dbl&gt;</th></tr>\n",
       "</thead>\n",
       "<tbody>\n",
       "\t<tr><th scope=row>group</th><td>  1</td><td>0.03820059</td><td>0.8453888</td></tr>\n",
       "\t<tr><th scope=row> </th><td>114</td><td>        NA</td><td>       NA</td></tr>\n",
       "</tbody>\n",
       "</table>\n"
      ],
      "text/latex": [
       "A anova: 2 × 3\n",
       "\\begin{tabular}{r|lll}\n",
       "  & Df & F value & Pr(>F)\\\\\n",
       "  & <int> & <dbl> & <dbl>\\\\\n",
       "\\hline\n",
       "\tgroup &   1 & 0.03820059 & 0.8453888\\\\\n",
       "\t  & 114 &         NA &        NA\\\\\n",
       "\\end{tabular}\n"
      ],
      "text/markdown": [
       "\n",
       "A anova: 2 × 3\n",
       "\n",
       "| <!--/--> | Df &lt;int&gt; | F value &lt;dbl&gt; | Pr(&gt;F) &lt;dbl&gt; |\n",
       "|---|---|---|---|\n",
       "| group |   1 | 0.03820059 | 0.8453888 |\n",
       "| <!----> | 114 |         NA |        NA |\n",
       "\n"
      ],
      "text/plain": [
       "      Df  F value    Pr(>F)   \n",
       "group   1 0.03820059 0.8453888\n",
       "      114         NA        NA"
      ]
     },
     "metadata": {},
     "output_type": "display_data"
    }
   ],
   "source": [
    "leveneTest(log(yieldcv_pct) ~ treatment, data=df1)"
   ]
  },
  {
   "cell_type": "code",
   "execution_count": 13,
   "metadata": {
    "vscode": {
     "languageId": "r"
    }
   },
   "outputs": [
    {
     "data": {
      "image/png": "[encoded data removed]",
      "text/plain": [
       "plot without title"
      ]
     },
     "metadata": {
      "image/png": {
       "height": 240,
       "width": 360
      }
     },
     "output_type": "display_data"
    },
    {
     "name": "stdout",
     "output_type": "stream",
     "text": [
      "NULL\n"
     ]
    },
    {
     "data": {
      "text/plain": [
       "\n",
       "\tShapiro-Wilk normality test\n",
       "\n",
       "data:  residuals(mod)\n",
       "W = 0.98482, p-value = 0.2166\n"
      ]
     },
     "metadata": {},
     "output_type": "display_data"
    },
    {
     "data": {
      "image/png": "[encoded data removed]",
      "text/plain": [
       "Plot with title \"density.default(x = resid(mod))\""
      ]
     },
     "metadata": {
      "image/png": {
       "height": 240,
       "width": 360
      }
     },
     "output_type": "display_data"
    }
   ],
   "source": [
    "lme3 <- lmer(log(yieldcv_pct) ~ treatment + (1|trial_id_hash), data=df1) \n",
    "check_assumptions(lme3)"
   ]
  },
  {
   "cell_type": "code",
   "execution_count": 14,
   "metadata": {
    "vscode": {
     "languageId": "r"
    }
   },
   "outputs": [
    {
     "data": {
      "text/html": [
       "<table class=\"dataframe\">\n",
       "<caption>A anova: 1 × 6</caption>\n",
       "<thead>\n",
       "\t<tr><th></th><th scope=col>Sum Sq</th><th scope=col>Mean Sq</th><th scope=col>NumDF</th><th scope=col>DenDF</th><th scope=col>F value</th><th scope=col>Pr(&gt;F)</th></tr>\n",
       "\t<tr><th></th><th scope=col>&lt;dbl&gt;</th><th scope=col>&lt;dbl&gt;</th><th scope=col>&lt;int&gt;</th><th scope=col>&lt;dbl&gt;</th><th scope=col>&lt;dbl&gt;</th><th scope=col>&lt;dbl&gt;</th></tr>\n",
       "</thead>\n",
       "<tbody>\n",
       "\t<tr><th scope=row>treatment</th><td>0.196268</td><td>0.196268</td><td>1</td><td>57</td><td>6.585081</td><td>0.01293668</td></tr>\n",
       "</tbody>\n",
       "</table>\n"
      ],
      "text/latex": [
       "A anova: 1 × 6\n",
       "\\begin{tabular}{r|llllll}\n",
       "  & Sum Sq & Mean Sq & NumDF & DenDF & F value & Pr(>F)\\\\\n",
       "  & <dbl> & <dbl> & <int> & <dbl> & <dbl> & <dbl>\\\\\n",
       "\\hline\n",
       "\ttreatment & 0.196268 & 0.196268 & 1 & 57 & 6.585081 & 0.01293668\\\\\n",
       "\\end{tabular}\n"
      ],
      "text/markdown": [
       "\n",
       "A anova: 1 × 6\n",
       "\n",
       "| <!--/--> | Sum Sq &lt;dbl&gt; | Mean Sq &lt;dbl&gt; | NumDF &lt;int&gt; | DenDF &lt;dbl&gt; | F value &lt;dbl&gt; | Pr(&gt;F) &lt;dbl&gt; |\n",
       "|---|---|---|---|---|---|---|\n",
       "| treatment | 0.196268 | 0.196268 | 1 | 57 | 6.585081 | 0.01293668 |\n",
       "\n"
      ],
      "text/plain": [
       "          Sum Sq   Mean Sq  NumDF DenDF F value  Pr(>F)    \n",
       "treatment 0.196268 0.196268 1     57    6.585081 0.01293668"
      ]
     },
     "metadata": {},
     "output_type": "display_data"
    }
   ],
   "source": [
    "anova(lme3)"
   ]
  },
  {
   "cell_type": "code",
   "execution_count": 15,
   "metadata": {
    "vscode": {
     "languageId": "r"
    }
   },
   "outputs": [
    {
     "data": {
      "text/plain": [
       "Linear mixed model fit by REML. t-tests use Satterthwaite's method [\n",
       "lmerModLmerTest]\n",
       "Formula: log(yieldcv_pct) ~ treatment + (1 | trial_id_hash)\n",
       "   Data: df1\n",
       "\n",
       "REML criterion at convergence: 67.7\n",
       "\n",
       "Scaled residuals: \n",
       "    Min      1Q  Median      3Q     Max \n",
       "-2.0882 -0.4068 -0.0007  0.4409  2.7970 \n",
       "\n",
       "Random effects:\n",
       " Groups        Name        Variance Std.Dev.\n",
       " trial_id_hash (Intercept) 0.1486   0.3855  \n",
       " Residual                  0.0298   0.1726  \n",
       "Number of obs: 116, groups:  trial_id_hash, 58\n",
       "\n",
       "Fixed effects:\n",
       "                           Estimate Std. Error       df t value Pr(>|t|)    \n",
       "(Intercept)                 2.61064    0.05546 67.30368  47.069   <2e-16 ***\n",
       "treatmentPROVEN40_ReducedN -0.08227    0.03206 57.00000  -2.566   0.0129 *  \n",
       "---\n",
       "Signif. codes:  0 '***' 0.001 '**' 0.01 '*' 0.05 '.' 0.1 ' ' 1\n",
       "\n",
       "Correlation of Fixed Effects:\n",
       "            (Intr)\n",
       "tPROVEN40_R -0.289"
      ]
     },
     "metadata": {},
     "output_type": "display_data"
    }
   ],
   "source": [
    "summary(lme3)"
   ]
  },
  {
   "cell_type": "code",
   "execution_count": 16,
   "metadata": {
    "vscode": {
     "languageId": "r"
    }
   },
   "outputs": [
    {
     "data": {
      "text/plain": [
       " treatment         response    SE   df lower.CL upper.CL\n",
       " BAU                   13.6 0.755 67.3     12.2     15.2\n",
       " PROVEN40_ReducedN     12.5 0.695 67.3     11.2     14.0\n",
       "\n",
       "Degrees-of-freedom method: kenward-roger \n",
       "Confidence level used: 0.95 \n",
       "Intervals are back-transformed from the log scale "
      ]
     },
     "metadata": {},
     "output_type": "display_data"
    }
   ],
   "source": [
    "lme3_means <- emmeans(lme3, ~ treatment,  type = \"response\")\n",
    "lme3_means"
   ]
  },
  {
   "cell_type": "code",
   "execution_count": 17,
   "metadata": {
    "vscode": {
     "languageId": "r"
    }
   },
   "outputs": [
    {
     "data": {
      "text/html": [
       "<table class=\"dataframe\">\n",
       "<caption>A data.frame: 1 × 7</caption>\n",
       "<thead>\n",
       "\t<tr><th></th><th scope=col>contrast</th><th scope=col>ratio</th><th scope=col>SE</th><th scope=col>df</th><th scope=col>null</th><th scope=col>t.ratio</th><th scope=col>p.value</th></tr>\n",
       "\t<tr><th></th><th scope=col>&lt;fct&gt;</th><th scope=col>&lt;dbl&gt;</th><th scope=col>&lt;dbl&gt;</th><th scope=col>&lt;dbl&gt;</th><th scope=col>&lt;dbl&gt;</th><th scope=col>&lt;dbl&gt;</th><th scope=col>&lt;dbl&gt;</th></tr>\n",
       "</thead>\n",
       "<tbody>\n",
       "\t<tr><th scope=row>1</th><td>PROVEN40_ReducedN / BAU</td><td>0.921026</td><td>0.02952685</td><td>57</td><td>1</td><td>-2.566141</td><td>0.01293668</td></tr>\n",
       "</tbody>\n",
       "</table>\n"
      ],
      "text/latex": [
       "A data.frame: 1 × 7\n",
       "\\begin{tabular}{r|lllllll}\n",
       "  & contrast & ratio & SE & df & null & t.ratio & p.value\\\\\n",
       "  & <fct> & <dbl> & <dbl> & <dbl> & <dbl> & <dbl> & <dbl>\\\\\n",
       "\\hline\n",
       "\t1 & PROVEN40\\_ReducedN / BAU & 0.921026 & 0.02952685 & 57 & 1 & -2.566141 & 0.01293668\\\\\n",
       "\\end{tabular}\n"
      ],
      "text/markdown": [
       "\n",
       "A data.frame: 1 × 7\n",
       "\n",
       "| <!--/--> | contrast &lt;fct&gt; | ratio &lt;dbl&gt; | SE &lt;dbl&gt; | df &lt;dbl&gt; | null &lt;dbl&gt; | t.ratio &lt;dbl&gt; | p.value &lt;dbl&gt; |\n",
       "|---|---|---|---|---|---|---|---|\n",
       "| 1 | PROVEN40_ReducedN / BAU | 0.921026 | 0.02952685 | 57 | 1 | -2.566141 | 0.01293668 |\n",
       "\n"
      ],
      "text/plain": [
       "  contrast                ratio    SE         df null t.ratio   p.value   \n",
       "1 PROVEN40_ReducedN / BAU 0.921026 0.02952685 57 1    -2.566141 0.01293668"
      ]
     },
     "metadata": {},
     "output_type": "display_data"
    }
   ],
   "source": [
    "pairs(lme3_means, reverse = TRUE) %>% data.frame()"
   ]
  },
  {
   "cell_type": "markdown",
   "metadata": {},
   "source": [
    "## Final table"
   ]
  },
  {
   "cell_type": "code",
   "execution_count": 18,
   "metadata": {
    "vscode": {
     "languageId": "r"
    }
   },
   "outputs": [
    {
     "name": "stderr",
     "output_type": "stream",
     "text": [
      "\u001b[1m\u001b[22mJoining with `by = join_by(variable)`\n"
     ]
    },
    {
     "data": {
      "text/html": [
       "<table class=\"dataframe\">\n",
       "<caption>A data.frame: 4 × 8</caption>\n",
       "<thead>\n",
       "\t<tr><th scope=col>variable</th><th scope=col>treatment</th><th scope=col>emmean</th><th scope=col>contrast_type</th><th scope=col>effect_size</th><th scope=col>df</th><th scope=col>p.value</th><th scope=col>MDE</th></tr>\n",
       "\t<tr><th scope=col>&lt;chr&gt;</th><th scope=col>&lt;fct&gt;</th><th scope=col>&lt;chr&gt;</th><th scope=col>&lt;chr&gt;</th><th scope=col>&lt;chr&gt;</th><th scope=col>&lt;dbl&gt;</th><th scope=col>&lt;dbl&gt;</th><th scope=col>&lt;dbl&gt;</th></tr>\n",
       "</thead>\n",
       "<tbody>\n",
       "\t<tr><td>Yield Mean</td><td>BAU              </td><td>13.43 ±0.306</td><td>PROVEN40_ReducedN - BAU</td><td>-0.0135 ±0.083</td><td>57</td><td>0.8710</td><td>0.1660</td></tr>\n",
       "\t<tr><td>Yield Mean</td><td>PROVEN40_ReducedN</td><td>13.42 ±0.306</td><td>PROVEN40_ReducedN - BAU</td><td>-0.0135 ±0.083</td><td>57</td><td>0.8710</td><td>0.1660</td></tr>\n",
       "\t<tr><td>Yield CV  </td><td>BAU              </td><td>13.61 ±0.755</td><td>PROVEN40_ReducedN / BAU</td><td>0.921 ±0.03   </td><td>57</td><td>0.0129</td><td>0.0591</td></tr>\n",
       "\t<tr><td>Yield CV  </td><td>PROVEN40_ReducedN</td><td>12.53 ±0.695</td><td>PROVEN40_ReducedN / BAU</td><td>0.921 ±0.03   </td><td>57</td><td>0.0129</td><td>0.0591</td></tr>\n",
       "</tbody>\n",
       "</table>\n"
      ],
      "text/latex": [
       "A data.frame: 4 × 8\n",
       "\\begin{tabular}{llllllll}\n",
       " variable & treatment & emmean & contrast\\_type & effect\\_size & df & p.value & MDE\\\\\n",
       " <chr> & <fct> & <chr> & <chr> & <chr> & <dbl> & <dbl> & <dbl>\\\\\n",
       "\\hline\n",
       "\t Yield Mean & BAU               & 13.43 ±0.306 & PROVEN40\\_ReducedN - BAU & -0.0135 ±0.083 & 57 & 0.8710 & 0.1660\\\\\n",
       "\t Yield Mean & PROVEN40\\_ReducedN & 13.42 ±0.306 & PROVEN40\\_ReducedN - BAU & -0.0135 ±0.083 & 57 & 0.8710 & 0.1660\\\\\n",
       "\t Yield CV   & BAU               & 13.61 ±0.755 & PROVEN40\\_ReducedN / BAU & 0.921 ±0.03    & 57 & 0.0129 & 0.0591\\\\\n",
       "\t Yield CV   & PROVEN40\\_ReducedN & 12.53 ±0.695 & PROVEN40\\_ReducedN / BAU & 0.921 ±0.03    & 57 & 0.0129 & 0.0591\\\\\n",
       "\\end{tabular}\n"
      ],
      "text/markdown": [
       "\n",
       "A data.frame: 4 × 8\n",
       "\n",
       "| variable &lt;chr&gt; | treatment &lt;fct&gt; | emmean &lt;chr&gt; | contrast_type &lt;chr&gt; | effect_size &lt;chr&gt; | df &lt;dbl&gt; | p.value &lt;dbl&gt; | MDE &lt;dbl&gt; |\n",
       "|---|---|---|---|---|---|---|---|\n",
       "| Yield Mean | BAU               | 13.43 ±0.306 | PROVEN40_ReducedN - BAU | -0.0135 ±0.083 | 57 | 0.8710 | 0.1660 |\n",
       "| Yield Mean | PROVEN40_ReducedN | 13.42 ±0.306 | PROVEN40_ReducedN - BAU | -0.0135 ±0.083 | 57 | 0.8710 | 0.1660 |\n",
       "| Yield CV   | BAU               | 13.61 ±0.755 | PROVEN40_ReducedN / BAU | 0.921 ±0.03    | 57 | 0.0129 | 0.0591 |\n",
       "| Yield CV   | PROVEN40_ReducedN | 12.53 ±0.695 | PROVEN40_ReducedN / BAU | 0.921 ±0.03    | 57 | 0.0129 | 0.0591 |\n",
       "\n"
      ],
      "text/plain": [
       "  variable   treatment         emmean       contrast_type          \n",
       "1 Yield Mean BAU               13.43 ±0.306 PROVEN40_ReducedN - BAU\n",
       "2 Yield Mean PROVEN40_ReducedN 13.42 ±0.306 PROVEN40_ReducedN - BAU\n",
       "3 Yield CV   BAU               13.61 ±0.755 PROVEN40_ReducedN / BAU\n",
       "4 Yield CV   PROVEN40_ReducedN 12.53 ±0.695 PROVEN40_ReducedN / BAU\n",
       "  effect_size    df p.value MDE   \n",
       "1 -0.0135 ±0.083 57 0.8710  0.1660\n",
       "2 -0.0135 ±0.083 57 0.8710  0.1660\n",
       "3 0.921 ±0.03    57 0.0129  0.0591\n",
       "4 0.921 ±0.03    57 0.0129  0.0591"
      ]
     },
     "metadata": {},
     "output_type": "display_data"
    }
   ],
   "source": [
    "table_out <- data.frame(lme1_means) %>% \n",
    "mutate(variable = \"Yield Mean\") %>% \n",
    "bind_rows(data.frame(lme3_means) %>% mutate(variable = \"Yield CV\", emmean = response)) %>%\n",
    "transmute(variable,treatment,emmean = paste0(signif(emmean,4),\" ±\",signif(SE,3))) %>% \n",
    "left_join(bind_rows(\n",
    "    pairs(lme1_means, reverse = TRUE) %>% data.frame() %>% mutate(variable = \"Yield Mean\", effect_size = estimate),\n",
    "    pairs(lme3_means, reverse = TRUE) %>% data.frame() %>% mutate(variable = \"Yield CV\",  effect_size = ratio))) %>%\n",
    "# Calculate MDE for alpha 0.05 and two tails\n",
    "mutate(MDE = SE*qt(1 - 0.05/2, df)) %>% \n",
    "transmute(variable,treatment,emmean,contrast_type = contrast, effect_size =  paste0(signif(effect_size,3),\" ±\",signif(SE,2)), df, p.value = signif(p.value,3),\n",
    "MDE = signif(MDE,3))\n",
    "\n",
    "\n",
    "table_out\n",
    "\n",
    "write_csv(table_out,\"./figures/yield_maps.csv\")"
   ]
  }
 ],
 "metadata": {
  "kernelspec": {
   "display_name": "R",
   "language": "R",
   "name": "ir"
  },
  "language_info": {
   "codemirror_mode": "r",
   "file_extension": ".r",
   "mimetype": "text/x-r-source",
   "name": "R",
   "pygments_lexer": "r",
   "version": "4.1.3"
  }
 },
 "nbformat": 4,
 "nbformat_minor": 5
}
